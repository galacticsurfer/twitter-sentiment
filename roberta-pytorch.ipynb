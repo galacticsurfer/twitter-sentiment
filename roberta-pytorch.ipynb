{
 "cells": [
  {
   "cell_type": "code",
   "execution_count": null,
   "metadata": {},
   "outputs": [],
   "source": [
    "import re\n",
    "import os\n",
    "import json\n",
    "import torch\n",
    "import pandas as pd\n",
    "import torch.nn as nn\n",
    "import numpy as np\n",
    "import torch.nn.functional as F\n",
    "from torch.optim import lr_scheduler\n",
    "\n",
    "from sklearn.model_selection import StratifiedKFold\n",
    "from sklearn import model_selection\n",
    "from sklearn import metrics\n",
    "import tokenizers\n",
    "from transformers import *\n",
    "from tqdm.autonotebook import tqdm\n",
    "import utils"
   ]
  },
  {
   "cell_type": "code",
   "execution_count": null,
   "metadata": {},
   "outputs": [],
   "source": [
    "SEED = 1337\n",
    "def set_seed(SEED):\n",
    "    torch.backends.cudnn.deterministic = True\n",
    "    torch.backends.cudnn.benchmark = False\n",
    "    torch.manual_seed(seed)\n",
    "    torch.cuda.manual_seed_all(seed)\n",
    "    np.random.seed(seed)\n",
    "    random.seed(seed)"
   ]
  },
  {
   "cell_type": "code",
   "execution_count": null,
   "metadata": {},
   "outputs": [],
   "source": [
    "ARCH_NAME = \"deepset/roberta-base-squad2\"\n",
    "ARCH = ARCH_NAME.split(\"/\")[1]\n",
    "MAX_LEN = 128\n",
    "BATCH_SIZE = 64\n",
    "NUM_EPOCHS = 5\n",
    "LEARNING_RATE = 3e-5"
   ]
  },
  {
   "cell_type": "code",
   "execution_count": null,
   "metadata": {},
   "outputs": [],
   "source": [
    "PATH = '../input/tweet-sentiment-extraction/'\n",
    "def read_train():\n",
    "    train = pd.read_csv('{}train.csv'.format(PATH))\n",
    "    train['text'] = train['text'].astype(str)\n",
    "    train['selected_text'] = train['selected_text'].astype(str)\n",
    "    \n",
    "    return train\n",
    "    \n",
    "train = read_train()"
   ]
  },
  {
   "cell_type": "code",
   "execution_count": null,
   "metadata": {},
   "outputs": [],
   "source": [
    "train.reset_index(inplace=True, drop=True)"
   ]
  },
  {
   "cell_type": "code",
   "execution_count": null,
   "metadata": {},
   "outputs": [],
   "source": [
    "tokenizer = RobertaTokenizer.from_pretrained(ARCH_NAME, lowercase=True,\n",
    "    add_prefix_space=True)\n",
    "\n",
    "# Zip it to make it easier to export\n",
    "!rm -rf {ARCH}\n",
    "!mkdir {ARCH}\n",
    "mod = RobertaForQuestionAnswering.from_pretrained(ARCH_NAME)\n",
    "mod.save_pretrained(\"%s/\" % (ARCH, ))\n",
    "tokenizer.save_pretrained(\"%s/\" % (ARCH, ))\n",
    "!zip -r {ARCH}.zip {ARCH}\n",
    "print()\n",
    "print(\"All configurations stored in %s.zip\" % (ARCH))"
   ]
  },
  {
   "cell_type": "code",
   "execution_count": null,
   "metadata": {},
   "outputs": [],
   "source": [
    "tokenizer = tokenizers.ByteLevelBPETokenizer(\n",
    "    vocab_file=f\"{ARCH}/vocab.json\", \n",
    "    merges_file=f\"{ARCH}/merges.txt\", \n",
    "    lowercase=True,\n",
    "    add_prefix_space=True\n",
    ")\n",
    "sentiment_id = {'positive': tokenizer.encode(\"positive\", add_special_tokens=False).ids, \n",
    "                'negative': tokenizer.encode(\"negative\", add_special_tokens=False).ids, \n",
    "                'neutral': tokenizer.encode(\"neutral\", add_special_tokens=False).ids}\n",
    "print(sentiment_id)"
   ]
  },
  {
   "cell_type": "code",
   "execution_count": null,
   "metadata": {},
   "outputs": [],
   "source": [
    "def jaccard(str1, str2): \n",
    "    a = set(str1.strip().lower().split()) \n",
    "    b = set(str2.strip().lower().split())\n",
    "    c = a.intersection(b)\n",
    "    return float(len(c)) / (len(a) + len(b) - len(c))"
   ]
  },
  {
   "cell_type": "code",
   "execution_count": null,
   "metadata": {},
   "outputs": [],
   "source": [
    "ct = train.shape[0]\n",
    "input_ids = np.ones((ct,MAX_LEN),dtype='int32')\n",
    "token_type_ids = np.zeros((ct,MAX_LEN),dtype='int32')\n",
    "attention_mask = np.zeros((ct,MAX_LEN),dtype='int32')\n",
    "start_tokens = np.zeros((ct,MAX_LEN),dtype='int32')\n",
    "end_tokens = np.zeros((ct,MAX_LEN),dtype='int32')\n",
    "offsets = np.zeros((ct,MAX_LEN, 2),dtype='int32')\n",
    "\n",
    "incorrect_samples_idx = []\n",
    "count = 0\n",
    "\n",
    "for k in range(train.shape[0]):\n",
    "    text = \" \" + \" \".join(str(train.iloc[k].text).split())\n",
    "    selected_text = \" \" + \" \".join(str(train.iloc[k].selected_text).split())\n",
    "    sentiment = train.iloc[k].sentiment.strip()\n",
    "    \n",
    "    encoded = tokenizer.encode(text).ids\n",
    "    \n",
    "    len_st = len(selected_text) - 1\n",
    "    idx0 = None\n",
    "    idx1 = None\n",
    "\n",
    "    for ind in (i for i, e in enumerate(text) if e == selected_text[1]):\n",
    "        if \" \" + text[ind: ind+len_st] == selected_text:\n",
    "            idx0 = ind\n",
    "            idx1 = ind + len_st - 1\n",
    "            break\n",
    "\n",
    "    char_targets = [0] * len(text)\n",
    "    if idx0 != None and idx1 != None:\n",
    "        for ct in range(idx0, idx1 + 1):\n",
    "            char_targets[ct] = 1\n",
    "    \n",
    "    tok_tweet = tokenizer.encode(text)\n",
    "    input_ids_orig = tok_tweet.ids\n",
    "    tweet_offsets = tok_tweet.offsets\n",
    "    \n",
    "    target_idx = []\n",
    "    for j, (offset1, offset2) in enumerate(tweet_offsets):\n",
    "        if sum(char_targets[offset1: offset2]) > 0:\n",
    "            target_idx.append(j)\n",
    "    \n",
    "    sample_input_id = [0] + sentiment_id[sentiment] + [2] + [2] + input_ids_orig + [2]\n",
    "    sample_token_type_id = [0, 0, 0, 0] + [0] * (len(input_ids_orig) + 1)\n",
    "    sample_attention_mask = [1] * len(sample_token_type_id)\n",
    "    sample_tweet_offsets = [(0, 0)] * 4 + tweet_offsets + [(0, 0)]\n",
    "\n",
    "    start_index = target_idx[0] + 4\n",
    "    end_index = target_idx[-1] + 4\n",
    "\n",
    "    padding_length = MAX_LEN - len(sample_input_id)\n",
    "    if padding_length > 0:\n",
    "        sample_input_id = sample_input_id + ([1] * padding_length)\n",
    "        sample_token_type_id = sample_token_type_id + ([0] * padding_length)\n",
    "        sample_attention_mask = sample_attention_mask + ([0] * padding_length)\n",
    "        sample_tweet_offsets = sample_tweet_offsets + ([(0, 0)] * padding_length)\n",
    "\n",
    "    input_ids[k] = sample_input_id\n",
    "    token_type_ids[k] = sample_token_type_id\n",
    "    attention_mask[k] = sample_attention_mask\n",
    "    start_tokens[k][start_index] = 1\n",
    "    end_tokens[k][end_index] = 1\n",
    "    offsets[k] = sample_tweet_offsets\n",
    "\n",
    "    \n",
    "# Merged tokens\n",
    "merged_tokens = start_tokens | end_tokens\n",
    "for k in range(ct):\n",
    "    ranges = np.argwhere(merged_tokens[k] > 0)\n",
    "    if len(ranges) == 2:\n",
    "        start_index, end_index = ranges\n",
    "        for j in range(start_index[0], end_index[0]+1):\n",
    "            merged_tokens[k][j] = 1\n",
    "\n",
    "start_tokens = start_tokens.astype(np.long)\n",
    "end_tokens = end_tokens.astype(np.long)\n",
    "merged_tokens = merged_tokens.astype(np.float32)"
   ]
  },
  {
   "cell_type": "code",
   "execution_count": null,
   "metadata": {},
   "outputs": [],
   "source": [
    "def final_post_proc(text, predicted_text):\n",
    "    intersection = set(text).intersection(set(predicted_text))\n",
    "    text_set = set(text)\n",
    "    \n",
    "    if intersection == text_set:\n",
    "        return text\n",
    "    \n",
    "    if len(text_set) - len(intersection) < 2:\n",
    "        return text\n",
    "    \n",
    "    return predicted_text"
   ]
  },
  {
   "cell_type": "code",
   "execution_count": null,
   "metadata": {},
   "outputs": [],
   "source": [
    "test_jacc_arr = []\n",
    "for i in range(input_ids.shape[0]):\n",
    "    example_number = i\n",
    "    if 1 in list(start_tokens[example_number]):\n",
    "        test_start = list(start_tokens[example_number]).index(1)\n",
    "    else:\n",
    "        test_start = 0\n",
    "    if 1 in list(end_tokens[example_number]):\n",
    "        test_end = list(end_tokens[example_number]).index(1)\n",
    "    else:\n",
    "        test_end = 0\n",
    "    \n",
    "    if test_start == test_end:\n",
    "        test_selected_tokens = [input_ids[example_number][test_start]]\n",
    "        selected_text = tokenizer.decode(test_selected_tokens).strip()\n",
    "        test_jacc_arr.append(jaccard(selected_text, train.iloc[example_number].selected_text))\n",
    "    else:\n",
    "        test_selected_tokens = input_ids[example_number][test_start:test_end+1]\n",
    "        selected_text = tokenizer.decode(test_selected_tokens).strip()\n",
    "        test_jacc_arr.append(jaccard(selected_text, train.iloc[example_number].selected_text))\n",
    "\n",
    "print(sum(test_jacc_arr) / len(test_jacc_arr))"
   ]
  },
  {
   "cell_type": "code",
   "execution_count": null,
   "metadata": {},
   "outputs": [],
   "source": [
    "def calculate_jaccard_score(original_tweet, input_id, sentiment, selected_text, start_index, end_index, tokenizer):\n",
    "    def jaccard(str1, str2): \n",
    "        a = set(str1.strip().lower().split()) \n",
    "        b = set(str2.strip().lower().split())\n",
    "        c = a.intersection(b)\n",
    "        return float(len(c)) / (len(a) + len(b) - len(c))\n",
    "\n",
    "    if end_index < start_index:\n",
    "        end_index = start_index\n",
    "    \n",
    "    if start_index < 4 or end_index < 4:\n",
    "        predicted = original_tweet\n",
    "    else:\n",
    "        predicted = tokenizer.decode(input_id[start_index: end_index+1]).strip()\n",
    "\n",
    "    return jaccard(predicted, selected_text)"
   ]
  },
  {
   "cell_type": "code",
   "execution_count": null,
   "metadata": {},
   "outputs": [],
   "source": [
    "class TweetDataset:\n",
    "    def __init__(self, train, idx):\n",
    "        self.train = train.iloc[idx].reset_index(drop=True)\n",
    "        self.input_ids = input_ids[idx]\n",
    "        self.attention_mask = attention_mask[idx]\n",
    "        self.start_tokens = start_tokens[idx]\n",
    "        self.end_tokens = end_tokens[idx]\n",
    "        self.merged_tokens = merged_tokens[idx]\n",
    "        self.offsets = offsets[idx]\n",
    "    \n",
    "    def __len__(self):\n",
    "        return self.train.shape[0]\n",
    "\n",
    "    def __getitem__(self, k):\n",
    "        example = self.train.iloc[k]\n",
    "        example_input_ids = self.input_ids[k, ]\n",
    "        example_attention_mask = self.attention_mask[k, ]\n",
    "        example_start_tokens = list(self.start_tokens[k, ]).index(1)\n",
    "        example_end_tokens = list(self.end_tokens[k, ]).index(1)\n",
    "        example_merged_tokens = self.merged_tokens[k, ]\n",
    "        example_offsets = self.offsets[k, ]\n",
    "        return {\n",
    "            'text' : \" \" + str(example.text).strip(),\n",
    "            'selected_text': \" \" + str(example.selected_text).strip(),\n",
    "            'sentiment': example.sentiment,\n",
    "            'input_ids': torch.tensor(example_input_ids, dtype=torch.long),\n",
    "            'attention_mask': torch.tensor(example_attention_mask, dtype=torch.long),\n",
    "            'start_tokens': torch.tensor(example_start_tokens, dtype=torch.long),\n",
    "            'end_tokens': torch.tensor(example_end_tokens, dtype=torch.long),\n",
    "            'merged_tokens': torch.tensor(example_merged_tokens, dtype=torch.float),\n",
    "            'offsets': torch.tensor(example_offsets, dtype=torch.long)\n",
    "        }"
   ]
  },
  {
   "cell_type": "code",
   "execution_count": null,
   "metadata": {},
   "outputs": [],
   "source": [
    "class TweetModelTripleHead(BertPreTrainedModel):\n",
    "    def __init__(self, config):\n",
    "        super(TweetModelTripleHead, self).__init__(config)\n",
    "        self.bert = RobertaForQuestionAnswering.from_pretrained(ARCH, config=config)\n",
    "        self.drop_out = nn.Dropout(0.10)\n",
    "        self.merged_head = nn.Linear(1536, 1)\n",
    "    \n",
    "    def forward(self, input_ids, attention_mask):\n",
    "        start_logits, end_logits, pooled = self.bert(\n",
    "            input_ids,\n",
    "            attention_mask,\n",
    "        )\n",
    "        start_logits = self.drop_out(start_logits)\n",
    "        end_logits = self.drop_out(end_logits)\n",
    "        \n",
    "        pooled = torch.cat((pooled[-1], pooled[-2]), dim=-1)\n",
    "        merged_logits = self.merged_head(pooled)\n",
    "        merged_logits = self.drop_out(merged_logits)\n",
    "        \n",
    "        return start_logits, end_logits, merged_logits.squeeze(-1)"
   ]
  },
  {
   "cell_type": "code",
   "execution_count": null,
   "metadata": {},
   "outputs": [],
   "source": [
    "def linear_combination(x, y, epsilon): \n",
    "    return epsilon*x + (1-epsilon)*y\n",
    "\n",
    "def reduce_loss(loss, reduction='mean'):\n",
    "    return loss.mean() if reduction=='mean' else loss.sum() if reduction=='sum' else loss\n",
    "\n",
    "class LabelSmoothingCrossEntropy(nn.Module):\n",
    "    def __init__(self, epsilon:float=0.1, reduction='mean'):\n",
    "        super().__init__()\n",
    "        self.epsilon = epsilon\n",
    "        self.reduction = reduction\n",
    "    \n",
    "    def forward(self, preds, target):\n",
    "        n = preds.size()[-1]\n",
    "        log_preds = F.log_softmax(preds, dim=-1)\n",
    "        loss = reduce_loss(-log_preds.sum(dim=-1), self.reduction)\n",
    "        nll = F.nll_loss(log_preds, target, reduction=self.reduction)\n",
    "        return linear_combination(loss/n, nll, self.epsilon)\n",
    "\n",
    "def dice_ce_loss(pred, target):\n",
    "    loss_fct = nn.BCEWithLogitsLoss()\n",
    "    numerator = 2 * torch.sum(torch.abs(pred * target))\n",
    "    denominator = torch.sum(torch.abs(pred) + torch.abs(target))\n",
    "    return loss_fct(pred, target) + (1 - (numerator / denominator))\n",
    "\n",
    "def loss_fn(start_logits, start_positions, end_logits, end_positions, merged_logits, merged_positions):\n",
    "    loss_fct = LabelSmoothingCrossEntropy()\n",
    "    start_loss = loss_fct(start_logits, start_positions)\n",
    "    end_loss = loss_fct(end_logits, end_positions)\n",
    "    merged_loss = dice_ce_loss(merged_logits, merged_positions)\n",
    "    return start_loss, end_loss, merged_loss"
   ]
  },
  {
   "cell_type": "code",
   "execution_count": null,
   "metadata": {},
   "outputs": [],
   "source": [
    "def train_fn(data_loader, model, optimizer, device, scheduler=None):\n",
    "    model.train()\n",
    "    start_losses = utils.AverageMeter()\n",
    "    end_losses = utils.AverageMeter()\n",
    "    merged_losses = utils.AverageMeter()\n",
    "    jaccards = utils.AverageMeter()\n",
    "\n",
    "    tk0 = tqdm(data_loader, total=len(data_loader))\n",
    "    \n",
    "    for bi, d in enumerate(tk0):\n",
    "        input_ids = d[\"input_ids\"]\n",
    "        attention_mask = d[\"attention_mask\"]\n",
    "        targets_start = d[\"start_tokens\"]\n",
    "        targets_end = d[\"end_tokens\"]\n",
    "        targets_merged = d[\"merged_tokens\"]\n",
    "        text = d[\"text\"]\n",
    "        selected_text = d[\"selected_text\"]\n",
    "        sentiment = d[\"sentiment\"]\n",
    "\n",
    "        input_ids = input_ids.to(device, dtype=torch.long)\n",
    "        attention_mask = attention_mask.to(device, dtype=torch.long)\n",
    "        targets_start = targets_start.to(device, dtype=torch.long)\n",
    "        targets_end = targets_end.to(device, dtype=torch.long)\n",
    "        targets_merged = targets_merged.to(device, dtype=torch.float)\n",
    "\n",
    "        model.zero_grad()\n",
    "        outputs_start, outputs_end, outputs_merged = model(\n",
    "            input_ids=input_ids,\n",
    "            attention_mask=attention_mask\n",
    "        )\n",
    "        \n",
    "        start_loss, end_loss, merged_loss = loss_fn(outputs_start, targets_start,\n",
    "                                                    outputs_end, targets_end,\n",
    "                                                    outputs_merged, targets_merged)\n",
    "        \n",
    "        loss = start_loss + end_loss + 2*merged_loss\n",
    "        loss.backward()\n",
    "        \n",
    "        optimizer.step()\n",
    "        scheduler.step()\n",
    "            \n",
    "        jaccard_scores = []\n",
    "        for px in range(len(text)):\n",
    "            jaccard_scores.append(calculate_jaccard_score(text[px],\n",
    "                                                          list(input_ids[px]),\n",
    "                                                          sentiment[px],\n",
    "                                                          selected_text[px],\n",
    "                                                          torch.argmax(outputs_start[px]),\n",
    "                                                          torch.argmax(outputs_end[px]),\n",
    "                                                          tokenizer))\n",
    "        \n",
    "        jaccards.update(np.mean(jaccard_scores), input_ids.size(0))\n",
    "        start_losses.update(start_loss.item(), input_ids.size(0))\n",
    "        end_losses.update(end_loss.item(), input_ids.size(0))\n",
    "        merged_losses.update(merged_loss.item(), input_ids.size(0))\n",
    "        tk0.set_postfix(start_loss=start_losses.avg, end_loss=end_losses.avg,\n",
    "                        merged_loss=merged_losses.avg, jaccard=jaccards.avg)"
   ]
  },
  {
   "cell_type": "code",
   "execution_count": null,
   "metadata": {},
   "outputs": [],
   "source": [
    "def eval_fn(data_loader, model, device):\n",
    "    model.eval()\n",
    "    losses = utils.AverageMeter()\n",
    "    start_losses = utils.AverageMeter()\n",
    "    end_losses = utils.AverageMeter()\n",
    "    merged_losses = utils.AverageMeter()\n",
    "    jaccards = utils.AverageMeter()\n",
    "    \n",
    "    with torch.no_grad():\n",
    "        tk0 = tqdm(data_loader, total=len(data_loader))\n",
    "        for bi, d in enumerate(tk0):\n",
    "            \n",
    "            input_ids = d[\"input_ids\"]\n",
    "            attention_mask = d[\"attention_mask\"]\n",
    "            targets_start = d[\"start_tokens\"]\n",
    "            targets_end = d[\"end_tokens\"]\n",
    "            targets_merged = d[\"merged_tokens\"]\n",
    "            text = d[\"text\"]\n",
    "            selected_text = d[\"selected_text\"]\n",
    "            sentiment = d[\"sentiment\"]\n",
    "        \n",
    "            input_ids = input_ids.to(device, dtype=torch.long)\n",
    "            attention_mask = attention_mask.to(device, dtype=torch.long)\n",
    "            targets_start = targets_start.to(device, dtype=torch.long)\n",
    "            targets_end = targets_end.to(device, dtype=torch.long)\n",
    "            targets_merged = targets_merged.to(device, dtype=torch.float)\n",
    "\n",
    "            outputs_start, outputs_end, outputs_merged = model(\n",
    "                input_ids=input_ids,\n",
    "                attention_mask=attention_mask\n",
    "            )\n",
    "            \n",
    "            start_loss, end_loss, merged_loss = loss_fn(outputs_start, targets_start,\n",
    "                                                        outputs_end, targets_end,\n",
    "                                                        outputs_merged, targets_merged)\n",
    "                        \n",
    "            jaccard_scores = []\n",
    "            for px in range(len(text)):\n",
    "                jaccard_scores.append(calculate_jaccard_score(text[px], \n",
    "                                                              list(input_ids[px]),\n",
    "                                                              sentiment[px],\n",
    "                                                              selected_text[px],\n",
    "                                                              torch.argmax(outputs_start[px]),\n",
    "                                                              torch.argmax(outputs_end[px]),\n",
    "                                                              tokenizer))\n",
    "\n",
    "            jaccards.update(np.mean(jaccard_scores), input_ids.size(0))\n",
    "            start_losses.update(start_loss.item(), input_ids.size(0))\n",
    "            end_losses.update(end_loss.item(), input_ids.size(0))\n",
    "            merged_losses.update(merged_loss.item(), input_ids.size(0))\n",
    "            tk0.set_postfix(start_loss=start_losses.avg, end_loss=end_losses.avg,\n",
    "                            merged_loss=merged_losses.avg, jaccard=jaccards.avg)\n",
    "            \n",
    "    print(f\"Jaccard = {jaccards.avg}\")\n",
    "    return jaccards.avg"
   ]
  },
  {
   "cell_type": "code",
   "execution_count": null,
   "metadata": {},
   "outputs": [],
   "source": [
    "n_splits = 5\n",
    "skf = StratifiedKFold(n_splits=n_splits, shuffle=True, random_state=777)"
   ]
  },
  {
   "cell_type": "code",
   "execution_count": null,
   "metadata": {},
   "outputs": [],
   "source": [
    "def run(fold, dfx):\n",
    "    train_idx, valid_idx = list(skf.split(train, train.sentiment.values))[fold]\n",
    "    \n",
    "    train_dataset = TweetDataset(\n",
    "        dfx, \n",
    "        train_idx\n",
    "    )\n",
    "\n",
    "    train_data_loader = torch.utils.data.DataLoader(\n",
    "        train_dataset,\n",
    "        batch_size=BATCH_SIZE,\n",
    "        num_workers=4,\n",
    "        shuffle=True\n",
    "    )\n",
    "\n",
    "    valid_dataset = TweetDataset(\n",
    "        dfx,\n",
    "        valid_idx\n",
    "    )\n",
    "\n",
    "    valid_data_loader = torch.utils.data.DataLoader(\n",
    "        valid_dataset,\n",
    "        batch_size=16,\n",
    "        num_workers=2\n",
    "    )\n",
    "\n",
    "    device = torch.device(\"cuda\")\n",
    "    config = RobertaConfig.from_pretrained(ARCH)\n",
    "    config.output_hidden_states = True\n",
    "    model = TweetModelTripleHead(config)\n",
    "    model.to(device)\n",
    "\n",
    "    num_train_steps = int(len(train_idx) / BATCH_SIZE * NUM_EPOCHS)\n",
    "    param_optimizer = list(model.named_parameters())\n",
    "    no_decay = [\"bias\", \"LayerNorm.bias\", \"LayerNorm.weight\"]\n",
    "    optimizer_parameters = [\n",
    "        {'params': [p for n, p in param_optimizer if not any(nd in n for nd in no_decay)], 'weight_decay': 0.001},\n",
    "        {'params': [p for n, p in param_optimizer if any(nd in n for nd in no_decay)], 'weight_decay': 0.0},\n",
    "    ]\n",
    "    optimizer = AdamW(optimizer_parameters, lr=LEARNING_RATE)\n",
    "    scheduler = get_cosine_schedule_with_warmup(\n",
    "        optimizer, \n",
    "        num_warmup_steps=0, \n",
    "        num_training_steps=num_train_steps\n",
    "    )\n",
    "\n",
    "    es = utils.EarlyStopping(patience=5, mode=\"max\")\n",
    "    print(f\"Training is Starting for fold={fold}\")\n",
    "    \n",
    "    for epoch in range(NUM_EPOCHS):\n",
    "        train_fn(train_data_loader, model, optimizer, device, scheduler=scheduler)\n",
    "        jaccard = eval_fn(valid_data_loader, model, device)\n",
    "        print(f\"Jaccard Score = {jaccard}\")\n",
    "        es(jaccard, model, model_path=f\"model_{fold}.bin\")\n",
    "        if es.early_stop:\n",
    "            print(\"Early stopping\")\n",
    "            break"
   ]
  },
  {
   "cell_type": "code",
   "execution_count": null,
   "metadata": {},
   "outputs": [],
   "source": [
    "run(0, train)"
   ]
  },
  {
   "cell_type": "code",
   "execution_count": null,
   "metadata": {},
   "outputs": [],
   "source": [
    "run(1, train)"
   ]
  },
  {
   "cell_type": "code",
   "execution_count": null,
   "metadata": {},
   "outputs": [],
   "source": [
    "run(2, train)"
   ]
  },
  {
   "cell_type": "code",
   "execution_count": null,
   "metadata": {},
   "outputs": [],
   "source": [
    "run(3, train)"
   ]
  },
  {
   "cell_type": "code",
   "execution_count": null,
   "metadata": {},
   "outputs": [],
   "source": [
    "run(4, train)"
   ]
  },
  {
   "cell_type": "code",
   "execution_count": null,
   "metadata": {},
   "outputs": [],
   "source": []
  }
 ],
 "metadata": {
  "kernelspec": {
   "display_name": "Python 3",
   "language": "python",
   "name": "python3"
  },
  "language_info": {
   "codemirror_mode": {
    "name": "ipython",
    "version": 3
   },
   "file_extension": ".py",
   "mimetype": "text/x-python",
   "name": "python",
   "nbconvert_exporter": "python",
   "pygments_lexer": "ipython3",
   "version": "3.7.5rc1"
  },
  "widgets": {
   "application/vnd.jupyter.widget-state+json": {
    "state": {
     "000462240775464ca4566d6ce569cc33": {
      "model_module": "@jupyter-widgets/controls",
      "model_module_version": "1.5.0",
      "model_name": "HBoxModel",
      "state": {
       "children": [
        "IPY_MODEL_3a9acb3943ae4af0b3a37e9823ab2573",
        "IPY_MODEL_8cec606271514710a03f8730d2f5af86"
       ],
       "layout": "IPY_MODEL_165614082ef6432abe1b016bb18c9c3d"
      }
     },
     "00046bd5d8ab4910b9a32924dab3bc1f": {
      "model_module": "@jupyter-widgets/base",
      "model_module_version": "1.2.0",
      "model_name": "LayoutModel",
      "state": {}
     },
     "000d1ae443f744a486bef68b4f05b3e3": {
      "model_module": "@jupyter-widgets/base",
      "model_module_version": "1.2.0",
      "model_name": "LayoutModel",
      "state": {}
     },
     "000d1db901504bb1a0a1096e8ccbad0d": {
      "model_module": "@jupyter-widgets/controls",
      "model_module_version": "1.5.0",
      "model_name": "HTMLModel",
      "state": {
       "layout": "IPY_MODEL_02f2ef21fb3e44da841b111449361cea",
       "style": "IPY_MODEL_97af1751777448e986b219275ee8dfca",
       "value": " 344/344 [00:24&lt;00:00, 14.32it/s, end_loss=0.791, jaccard=0.716, start_loss=0.824]"
      }
     },
     "003878bfb4aa4c7c8fc7cd0bf8979bee": {
      "model_module": "@jupyter-widgets/base",
      "model_module_version": "1.2.0",
      "model_name": "LayoutModel",
      "state": {}
     },
     "0045168f3fd748d6ac4a68193aea5d00": {
      "model_module": "@jupyter-widgets/base",
      "model_module_version": "1.2.0",
      "model_name": "LayoutModel",
      "state": {}
     },
     "004590efea174f54ac5b3e1eb7d1a381": {
      "model_module": "@jupyter-widgets/controls",
      "model_module_version": "1.5.0",
      "model_name": "HBoxModel",
      "state": {
       "children": [
        "IPY_MODEL_80f8cb4781f442ea8a3d8b5ecbcb9cf4",
        "IPY_MODEL_0eeb765db9aa41aa89227209e7a1dd12"
       ],
       "layout": "IPY_MODEL_57be3d94f55f49d79743efc2b434615f"
      }
     },
     "0063887f41ac46ad94e3d44158e2a6a3": {
      "model_module": "@jupyter-widgets/base",
      "model_module_version": "1.2.0",
      "model_name": "LayoutModel",
      "state": {}
     },
     "006580026b2440879f31a69b4dad5321": {
      "model_module": "@jupyter-widgets/base",
      "model_module_version": "1.2.0",
      "model_name": "LayoutModel",
      "state": {}
     },
     "0075c72596ed415c92c3731c0fe9b624": {
      "model_module": "@jupyter-widgets/controls",
      "model_module_version": "1.5.0",
      "model_name": "HTMLModel",
      "state": {
       "layout": "IPY_MODEL_0dc9266757eb49928e35975817df523c",
       "style": "IPY_MODEL_fd2106ff4669407882223b8b8bd495e4",
       "value": " 344/344 [00:21&lt;00:00, 15.92it/s, end_loss=0.795, jaccard=0.707, merged_loss=1, start_loss=0.843]"
      }
     },
     "0078e0ad5626428ead159d95daf358c1": {
      "model_module": "@jupyter-widgets/base",
      "model_module_version": "1.2.0",
      "model_name": "LayoutModel",
      "state": {}
     },
     "0080db067eaa4147b183092ee1598ee9": {
      "model_module": "@jupyter-widgets/base",
      "model_module_version": "1.2.0",
      "model_name": "LayoutModel",
      "state": {}
     },
     "008e933998654b49854c825c19669b01": {
      "model_module": "@jupyter-widgets/base",
      "model_module_version": "1.2.0",
      "model_name": "LayoutModel",
      "state": {}
     },
     "00927f9dfb91426db6fd6640e989fdc4": {
      "model_module": "@jupyter-widgets/base",
      "model_module_version": "1.2.0",
      "model_name": "LayoutModel",
      "state": {}
     },
     "00e979432eab4b42ab948399425ac6ca": {
      "model_module": "@jupyter-widgets/controls",
      "model_module_version": "1.5.0",
      "model_name": "HBoxModel",
      "state": {
       "children": [
        "IPY_MODEL_6b8071f5a6ba44b3a2dd64868daece15",
        "IPY_MODEL_4c576904974a451e99f40b79ab790668"
       ],
       "layout": "IPY_MODEL_aab5606405974262bd8091c60a1c32e6"
      }
     },
     "010ed7b41ee749d6857739702a836005": {
      "model_module": "@jupyter-widgets/controls",
      "model_module_version": "1.5.0",
      "model_name": "ProgressStyleModel",
      "state": {
       "description_width": "initial"
      }
     },
     "011939d412864cd59c2302b82df39d87": {
      "model_module": "@jupyter-widgets/controls",
      "model_module_version": "1.5.0",
      "model_name": "ProgressStyleModel",
      "state": {
       "description_width": "initial"
      }
     },
     "012d4d2f1e5c49399fe6f0795e633488": {
      "model_module": "@jupyter-widgets/controls",
      "model_module_version": "1.5.0",
      "model_name": "ProgressStyleModel",
      "state": {
       "description_width": "initial"
      }
     },
     "01415c77bfa54d9dab5cce5e033df6a4": {
      "model_module": "@jupyter-widgets/controls",
      "model_module_version": "1.5.0",
      "model_name": "HBoxModel",
      "state": {
       "children": [
        "IPY_MODEL_1066ba030902464eab395b9ccf504441",
        "IPY_MODEL_04730da6b74c449493dece2a1a75ac64"
       ],
       "layout": "IPY_MODEL_0eddd4744b3f4164a442bd6a03d57e5d"
      }
     },
     "016bece68cde45119f11def5f9236575": {
      "model_module": "@jupyter-widgets/controls",
      "model_module_version": "1.5.0",
      "model_name": "DescriptionStyleModel",
      "state": {
       "description_width": ""
      }
     },
     "019595122e11425b876dcd2c7b3447b9": {
      "model_module": "@jupyter-widgets/base",
      "model_module_version": "1.2.0",
      "model_name": "LayoutModel",
      "state": {}
     },
     "01bea54214a04b8991f21c8c6365fe7b": {
      "model_module": "@jupyter-widgets/base",
      "model_module_version": "1.2.0",
      "model_name": "LayoutModel",
      "state": {}
     },
     "01c3e55c2c2a48d1abdf492f9ef266bc": {
      "model_module": "@jupyter-widgets/base",
      "model_module_version": "1.2.0",
      "model_name": "LayoutModel",
      "state": {}
     },
     "01c673d2b2e04bbda3c24bb90b637768": {
      "model_module": "@jupyter-widgets/controls",
      "model_module_version": "1.5.0",
      "model_name": "HTMLModel",
      "state": {
       "layout": "IPY_MODEL_4328068822ea4a238b444331b4bc2cfa",
       "style": "IPY_MODEL_a1f98c90e1144dc4a4703fbb1de96085",
       "value": " 344/344 [00:19&lt;00:00, 17.50it/s, end_loss=1.51, jaccard=0.704, start_loss=1.55]"
      }
     },
     "01dfa89c1e52493196c5d0d4b11c9372": {
      "model_module": "@jupyter-widgets/controls",
      "model_module_version": "1.5.0",
      "model_name": "ProgressStyleModel",
      "state": {
       "description_width": "initial"
      }
     },
     "01e91f9563a74f3c915675280efa5922": {
      "model_module": "@jupyter-widgets/controls",
      "model_module_version": "1.5.0",
      "model_name": "DescriptionStyleModel",
      "state": {
       "description_width": ""
      }
     },
     "024b1094f6874fec83cd943dc6b61273": {
      "model_module": "@jupyter-widgets/controls",
      "model_module_version": "1.5.0",
      "model_name": "HTMLModel",
      "state": {
       "layout": "IPY_MODEL_2f810b87fe0e49bab7ec542d8f3fb57f",
       "style": "IPY_MODEL_045d095da6ff4d7390c816b24fd0e085",
       "value": " 344/344 [07:41&lt;00:00,  1.34s/it, end_loss=0.974, jaccard=0.713, start_loss=1.02]"
      }
     },
     "02516950c00348e0bfdaec45e053d206": {
      "model_module": "@jupyter-widgets/controls",
      "model_module_version": "1.5.0",
      "model_name": "DescriptionStyleModel",
      "state": {
       "description_width": ""
      }
     },
     "027a6c0cdede4b1f950f54f80cd580dd": {
      "model_module": "@jupyter-widgets/base",
      "model_module_version": "1.2.0",
      "model_name": "LayoutModel",
      "state": {}
     },
     "0287fc0f4ff945d6ab630228c87ed278": {
      "model_module": "@jupyter-widgets/base",
      "model_module_version": "1.2.0",
      "model_name": "LayoutModel",
      "state": {}
     },
     "029729f997c340d495961a8f08041b43": {
      "model_module": "@jupyter-widgets/controls",
      "model_module_version": "1.5.0",
      "model_name": "HBoxModel",
      "state": {
       "children": [
        "IPY_MODEL_fcb638e9740e42f3a203b62f938c0146",
        "IPY_MODEL_e62ec75ab5924bd8bdbcf942d29bcb7b"
       ],
       "layout": "IPY_MODEL_400c5ad8b4fc420782ba1088678cf279"
      }
     },
     "029f9c9e915b4080aaf7609235043d89": {
      "model_module": "@jupyter-widgets/controls",
      "model_module_version": "1.5.0",
      "model_name": "HBoxModel",
      "state": {
       "children": [
        "IPY_MODEL_7d7869904108420db72283cdf398c6ae",
        "IPY_MODEL_70bb8519747f4f0d8b1b975cee36bf3c"
       ],
       "layout": "IPY_MODEL_d5263c0ddc2a407da1ee86fdc205d5dc"
      }
     },
     "02f2ef21fb3e44da841b111449361cea": {
      "model_module": "@jupyter-widgets/base",
      "model_module_version": "1.2.0",
      "model_name": "LayoutModel",
      "state": {}
     },
     "02fbc81802864d7199b7eb4341230497": {
      "model_module": "@jupyter-widgets/controls",
      "model_module_version": "1.5.0",
      "model_name": "HTMLModel",
      "state": {
       "layout": "IPY_MODEL_2a447040070c422386ea8f882aa97dac",
       "style": "IPY_MODEL_d0699f1acee14b2aa94dd6d99a13e543",
       "value": " 344/344 [06:08&lt;00:00,  1.07s/it, end_loss=1.43, jaccard=0.597, start_loss=1.41]"
      }
     },
     "0323fe18075d4152b2a54a556ecbc7a5": {
      "model_module": "@jupyter-widgets/base",
      "model_module_version": "1.2.0",
      "model_name": "LayoutModel",
      "state": {}
     },
     "0327c76426334c468beb5eddeece116f": {
      "model_module": "@jupyter-widgets/controls",
      "model_module_version": "1.5.0",
      "model_name": "HTMLModel",
      "state": {
       "layout": "IPY_MODEL_e7af8c055c45493db59fd9bf3a62d062",
       "style": "IPY_MODEL_d4dd3ee950094809ae6a78377293bb38",
       "value": " 344/344 [06:35&lt;00:00,  1.15s/it, end_loss=1.08, jaccard=0.689, start_loss=1.1]"
      }
     },
     "034104b1618741ad9d00a83bc6dd811e": {
      "model_module": "@jupyter-widgets/base",
      "model_module_version": "1.2.0",
      "model_name": "LayoutModel",
      "state": {}
     },
     "036e58440c02482a966b0f0c0b529df1": {
      "model_module": "@jupyter-widgets/base",
      "model_module_version": "1.2.0",
      "model_name": "LayoutModel",
      "state": {}
     },
     "0386107e72d540d29762e4051d220a29": {
      "model_module": "@jupyter-widgets/controls",
      "model_module_version": "1.5.0",
      "model_name": "HTMLModel",
      "state": {
       "layout": "IPY_MODEL_b66ca9e002684046bbe7d66ec1feedbd",
       "style": "IPY_MODEL_9207aa8bc1824a70a8bb30932f3c682f",
       "value": " 344/344 [04:55&lt;00:00,  1.16it/s, end_loss=1.01, jaccard=0.669, start_loss=1.05]"
      }
     },
     "0390b9a9f034427fadffdb681139d4c5": {
      "model_module": "@jupyter-widgets/controls",
      "model_module_version": "1.5.0",
      "model_name": "DescriptionStyleModel",
      "state": {
       "description_width": ""
      }
     },
     "03970f9dce5b4b17af3c99242b66748d": {
      "model_module": "@jupyter-widgets/controls",
      "model_module_version": "1.5.0",
      "model_name": "HTMLModel",
      "state": {
       "layout": "IPY_MODEL_ef2594bf3c2c41aa9992f58c02956a5b",
       "style": "IPY_MODEL_4af40f8266714b8ca57c3b0015dff2f7",
       "value": " 344/344 [03:25&lt;00:00,  1.68it/s, end_loss=0.956, jaccard=0.719, start_loss=1.01]"
      }
     },
     "03a5bfb968f94a3b8c1d3180afcc0677": {
      "model_module": "@jupyter-widgets/controls",
      "model_module_version": "1.5.0",
      "model_name": "FloatProgressModel",
      "state": {
       "bar_style": "success",
       "description": "100%",
       "layout": "IPY_MODEL_71f91d6b2e03429a9eba14929f57c549",
       "max": 344,
       "style": "IPY_MODEL_78d809eda2f647b39610d37ab82f3edc",
       "value": 344
      }
     },
     "03adf23d9d5d4cc4a38d06cfb2ef5f46": {
      "model_module": "@jupyter-widgets/controls",
      "model_module_version": "1.5.0",
      "model_name": "FloatProgressModel",
      "state": {
       "bar_style": "success",
       "description": "100%",
       "layout": "IPY_MODEL_297f4a27fd52407eb675f0abf828c6d6",
       "max": 344,
       "style": "IPY_MODEL_0469c05caa13499d9baadc1ad46bfec3",
       "value": 344
      }
     },
     "03c09f84a0724a54b183a8ce5fd7df28": {
      "model_module": "@jupyter-widgets/base",
      "model_module_version": "1.2.0",
      "model_name": "LayoutModel",
      "state": {}
     },
     "03cd932aacdd45cb90494d9cc783a368": {
      "model_module": "@jupyter-widgets/controls",
      "model_module_version": "1.5.0",
      "model_name": "FloatProgressModel",
      "state": {
       "bar_style": "success",
       "description": "100%",
       "layout": "IPY_MODEL_42dfe540f8474dbe97bf867f1b5558d1",
       "max": 344,
       "style": "IPY_MODEL_140acf26ac9d46f6a6e19f4f954d8cf1",
       "value": 344
      }
     },
     "03d5ecb34b084a64830f8e278bf2540f": {
      "model_module": "@jupyter-widgets/controls",
      "model_module_version": "1.5.0",
      "model_name": "HTMLModel",
      "state": {
       "layout": "IPY_MODEL_6cce9581eb314a39b744734decd0400f",
       "style": "IPY_MODEL_070ccabbc77140d6ba603fd52a2b54cc",
       "value": " 344/344 [03:44&lt;00:00,  1.53it/s, end_loss=0.64, jaccard=0.74, merged_loss=0.995, start_loss=0.699]"
      }
     },
     "03d9555e4e414aa2a44b32a9d2680da1": {
      "model_module": "@jupyter-widgets/controls",
      "model_module_version": "1.5.0",
      "model_name": "ProgressStyleModel",
      "state": {
       "description_width": "initial"
      }
     },
     "041f24f522e940bbbe4065efbe5bd8ad": {
      "model_module": "@jupyter-widgets/controls",
      "model_module_version": "1.5.0",
      "model_name": "HBoxModel",
      "state": {
       "children": [
        "IPY_MODEL_f3da0cc774804e8e8cec743a8def7d60",
        "IPY_MODEL_96e465df34ac48d39fd5ba642a439cc1"
       ],
       "layout": "IPY_MODEL_e1796091f6e5442783a70657119480bf"
      }
     },
     "0441567c843e4753b8cd37b3a7f4af41": {
      "model_module": "@jupyter-widgets/controls",
      "model_module_version": "1.5.0",
      "model_name": "ProgressStyleModel",
      "state": {
       "description_width": "initial"
      }
     },
     "0458c07861124df7a58ccc054f20ceac": {
      "model_module": "@jupyter-widgets/controls",
      "model_module_version": "1.5.0",
      "model_name": "FloatProgressModel",
      "state": {
       "bar_style": "success",
       "description": "100%",
       "layout": "IPY_MODEL_52dfa3d7f00744f29d622af0de1fb685",
       "max": 344,
       "style": "IPY_MODEL_a7017a16dc8f41508056447e914820a4",
       "value": 344
      }
     },
     "045d095da6ff4d7390c816b24fd0e085": {
      "model_module": "@jupyter-widgets/controls",
      "model_module_version": "1.5.0",
      "model_name": "DescriptionStyleModel",
      "state": {
       "description_width": ""
      }
     },
     "0469c05caa13499d9baadc1ad46bfec3": {
      "model_module": "@jupyter-widgets/controls",
      "model_module_version": "1.5.0",
      "model_name": "ProgressStyleModel",
      "state": {
       "description_width": "initial"
      }
     },
     "04730da6b74c449493dece2a1a75ac64": {
      "model_module": "@jupyter-widgets/controls",
      "model_module_version": "1.5.0",
      "model_name": "HTMLModel",
      "state": {
       "layout": "IPY_MODEL_3c4374066d304f558fa01a3c5512c5fd",
       "style": "IPY_MODEL_e124875b7b5d4b648d6eb3530cfb3b1f",
       "value": " 344/344 [03:11&lt;00:00,  1.80it/s, end_loss=1.09, jaccard=0.653, start_loss=1.12]"
      }
     },
     "047d6162739e478f89b2313380db98e3": {
      "model_module": "@jupyter-widgets/base",
      "model_module_version": "1.2.0",
      "model_name": "LayoutModel",
      "state": {}
     },
     "047eacee5f3d403dac164c190bef059a": {
      "model_module": "@jupyter-widgets/base",
      "model_module_version": "1.2.0",
      "model_name": "LayoutModel",
      "state": {}
     },
     "0488a33dd24c4f71a873c67abfce29c9": {
      "model_module": "@jupyter-widgets/controls",
      "model_module_version": "1.5.0",
      "model_name": "ProgressStyleModel",
      "state": {
       "description_width": "initial"
      }
     },
     "04e1295374d5434cacd8267ca0696664": {
      "model_module": "@jupyter-widgets/controls",
      "model_module_version": "1.5.0",
      "model_name": "FloatProgressModel",
      "state": {
       "bar_style": "success",
       "description": "100%",
       "layout": "IPY_MODEL_f2ba27c19d764e448ecb98766e2ad30c",
       "max": 344,
       "style": "IPY_MODEL_57e9370f406e4a7d87b19961c49ab42a",
       "value": 344
      }
     },
     "04fb562ce67c4ac986ab1b57c601eab4": {
      "model_module": "@jupyter-widgets/controls",
      "model_module_version": "1.5.0",
      "model_name": "DescriptionStyleModel",
      "state": {
       "description_width": ""
      }
     },
     "04fe91f5dae042aeb275d6a7d8765ea9": {
      "model_module": "@jupyter-widgets/controls",
      "model_module_version": "1.5.0",
      "model_name": "HBoxModel",
      "state": {
       "children": [
        "IPY_MODEL_f65a5748fca84c4ca85f83e624887163",
        "IPY_MODEL_1f906bcc686b46b687c7d6eae1900eb0"
       ],
       "layout": "IPY_MODEL_18d93f5cf9c548c3a63ab8a7ca67199d"
      }
     },
     "050f0fd665a74b36986f0ce08fe8ec44": {
      "model_module": "@jupyter-widgets/base",
      "model_module_version": "1.2.0",
      "model_name": "LayoutModel",
      "state": {}
     },
     "052b97ac55874af690049a086660e779": {
      "model_module": "@jupyter-widgets/base",
      "model_module_version": "1.2.0",
      "model_name": "LayoutModel",
      "state": {}
     },
     "052c90eeeddc48998e1ed20db7021b90": {
      "model_module": "@jupyter-widgets/base",
      "model_module_version": "1.2.0",
      "model_name": "LayoutModel",
      "state": {}
     },
     "0531b2da4b3d43c9b4c178e2637e022e": {
      "model_module": "@jupyter-widgets/base",
      "model_module_version": "1.2.0",
      "model_name": "LayoutModel",
      "state": {}
     },
     "058a1a56803b41a8a3674e5fb9918224": {
      "model_module": "@jupyter-widgets/controls",
      "model_module_version": "1.5.0",
      "model_name": "HBoxModel",
      "state": {
       "children": [
        "IPY_MODEL_ee3cacc27ef44708a191d5fab4bf7ecc",
        "IPY_MODEL_223d719be108441eb7c651ec34fdd192"
       ],
       "layout": "IPY_MODEL_f9cfca1edaae40efba8a9b432774bb90"
      }
     },
     "059147b1041f48cf871e3827f29556c3": {
      "model_module": "@jupyter-widgets/base",
      "model_module_version": "1.2.0",
      "model_name": "LayoutModel",
      "state": {}
     },
     "05c1c87bcb6543b49fa1eb1e508ff52b": {
      "model_module": "@jupyter-widgets/controls",
      "model_module_version": "1.5.0",
      "model_name": "DescriptionStyleModel",
      "state": {
       "description_width": ""
      }
     },
     "05dfa9e5b0e7409ba352a7fe7100ac0d": {
      "model_module": "@jupyter-widgets/controls",
      "model_module_version": "1.5.0",
      "model_name": "DescriptionStyleModel",
      "state": {
       "description_width": ""
      }
     },
     "05e197acac164409b423407c594279dd": {
      "model_module": "@jupyter-widgets/base",
      "model_module_version": "1.2.0",
      "model_name": "LayoutModel",
      "state": {}
     },
     "05ef1585bef94da09e5020ae8c0514b1": {
      "model_module": "@jupyter-widgets/controls",
      "model_module_version": "1.5.0",
      "model_name": "HTMLModel",
      "state": {
       "layout": "IPY_MODEL_946eb145501c44cfa7d1c6d987472360",
       "style": "IPY_MODEL_56314c7f8a3340109cff29117bdc3f8d",
       "value": " 344/344 [1:10:16&lt;00:00, 12.26s/it, end_loss=0.784, jaccard=0.704, merged_loss=1.01, start_loss=0.837]"
      }
     },
     "05fc0e56de9e443d85c2931fdbbd0bca": {
      "model_module": "@jupyter-widgets/base",
      "model_module_version": "1.2.0",
      "model_name": "LayoutModel",
      "state": {}
     },
     "05fed7a0fa104b319930c538f10b35e2": {
      "model_module": "@jupyter-widgets/controls",
      "model_module_version": "1.5.0",
      "model_name": "HTMLModel",
      "state": {
       "layout": "IPY_MODEL_2ba3ad994ae84690a734efa590a569dd",
       "style": "IPY_MODEL_6079be87b474459493d2a98e547b55c4",
       "value": " 344/344 [04:09&lt;00:00,  1.38it/s, end_loss=2.06, jaccard=0.601, start_loss=2.03]"
      }
     },
     "061f325407db43c4bf2831c7e897d3a5": {
      "model_module": "@jupyter-widgets/controls",
      "model_module_version": "1.5.0",
      "model_name": "HTMLModel",
      "state": {
       "layout": "IPY_MODEL_084a4e46bb3843669dc4c37007152234",
       "style": "IPY_MODEL_0f62e7f98f2245bf907bf585730ff6f0",
       "value": " 344/344 [00:20&lt;00:00, 16.43it/s, end_loss=0.863, jaccard=0.705, start_loss=0.927]"
      }
     },
     "06599c1736e8499ca41ebfe066ed9e5a": {
      "model_module": "@jupyter-widgets/base",
      "model_module_version": "1.2.0",
      "model_name": "LayoutModel",
      "state": {}
     },
     "066f976053db4e9fb3d26386b8512b46": {
      "model_module": "@jupyter-widgets/base",
      "model_module_version": "1.2.0",
      "model_name": "LayoutModel",
      "state": {}
     },
     "0673e2594f794191aefe143424b2fcc8": {
      "model_module": "@jupyter-widgets/base",
      "model_module_version": "1.2.0",
      "model_name": "LayoutModel",
      "state": {}
     },
     "067e4a9aba8b4bf396d39d5364eb04a7": {
      "model_module": "@jupyter-widgets/base",
      "model_module_version": "1.2.0",
      "model_name": "LayoutModel",
      "state": {}
     },
     "06834612b094442e89c74f90ce28c2bb": {
      "model_module": "@jupyter-widgets/controls",
      "model_module_version": "1.5.0",
      "model_name": "HBoxModel",
      "state": {
       "children": [
        "IPY_MODEL_28b940f451fa4ebf98405b4e31e76a69",
        "IPY_MODEL_ceed09237c234dd4b384cac5d6b1725e"
       ],
       "layout": "IPY_MODEL_2dcce619ba8e4814acde168ef1517224"
      }
     },
     "069ee153d7284921a3fa02718212ccc8": {
      "model_module": "@jupyter-widgets/base",
      "model_module_version": "1.2.0",
      "model_name": "LayoutModel",
      "state": {}
     },
     "06ac7ba46c7244f3b55177fdabad3a0f": {
      "model_module": "@jupyter-widgets/base",
      "model_module_version": "1.2.0",
      "model_name": "LayoutModel",
      "state": {}
     },
     "06b90b55864d45959c64a8b64834add9": {
      "model_module": "@jupyter-widgets/controls",
      "model_module_version": "1.5.0",
      "model_name": "FloatProgressModel",
      "state": {
       "bar_style": "success",
       "description": "100%",
       "layout": "IPY_MODEL_a9b89e6956834321aeecb22559463c33",
       "max": 344,
       "style": "IPY_MODEL_314c9a3b171e48eb83fdba3f4e57fdfd",
       "value": 344
      }
     },
     "06c1eede26994ec38673f50f262be0e3": {
      "model_module": "@jupyter-widgets/controls",
      "model_module_version": "1.5.0",
      "model_name": "FloatProgressModel",
      "state": {
       "bar_style": "success",
       "description": "100%",
       "layout": "IPY_MODEL_159e692a60604c299a9fa6cd25744127",
       "max": 344,
       "style": "IPY_MODEL_6e848b29548f49cda0d340feacc1c408",
       "value": 344
      }
     },
     "06d333ea09c044c2b0516bdc2049f9bb": {
      "model_module": "@jupyter-widgets/controls",
      "model_module_version": "1.5.0",
      "model_name": "FloatProgressModel",
      "state": {
       "bar_style": "success",
       "description": "100%",
       "layout": "IPY_MODEL_a82c7075f40c48ee8731675b2958216f",
       "max": 344,
       "style": "IPY_MODEL_6a2d912f188a4d6d92e5198e3b02f205",
       "value": 344
      }
     },
     "06f7709758a146e48626f66516e67de6": {
      "model_module": "@jupyter-widgets/controls",
      "model_module_version": "1.5.0",
      "model_name": "HTMLModel",
      "state": {
       "layout": "IPY_MODEL_7a9bc8971cf4457ca8e1c659bf1f5958",
       "style": "IPY_MODEL_1740efef788b43d89e8d5887dadca6e5",
       "value": " 344/344 [18:09&lt;00:00,  3.17s/it, end_loss=1.06, jaccard=0.654, merged_loss=1.03, start_loss=1.05]"
      }
     },
     "0702f3699a484add81d8d45efa577b92": {
      "model_module": "@jupyter-widgets/controls",
      "model_module_version": "1.5.0",
      "model_name": "ProgressStyleModel",
      "state": {
       "description_width": "initial"
      }
     },
     "07082fdced2a40ce96d7e1c6aaae6b2b": {
      "model_module": "@jupyter-widgets/base",
      "model_module_version": "1.2.0",
      "model_name": "LayoutModel",
      "state": {}
     },
     "070a3a5cce2745f59797b441cb5e9a97": {
      "model_module": "@jupyter-widgets/controls",
      "model_module_version": "1.5.0",
      "model_name": "DescriptionStyleModel",
      "state": {
       "description_width": ""
      }
     },
     "070ccabbc77140d6ba603fd52a2b54cc": {
      "model_module": "@jupyter-widgets/controls",
      "model_module_version": "1.5.0",
      "model_name": "DescriptionStyleModel",
      "state": {
       "description_width": ""
      }
     },
     "07123a25307143349724e8fdff45f182": {
      "model_module": "@jupyter-widgets/controls",
      "model_module_version": "1.5.0",
      "model_name": "HBoxModel",
      "state": {
       "children": [
        "IPY_MODEL_97e4bba6ee454c7cadd1e70f33fc4b9c",
        "IPY_MODEL_ef56874a5ec64499a7d6851a96bff654"
       ],
       "layout": "IPY_MODEL_bb76eb391a5f4d78a219c807bdaaf8e3"
      }
     },
     "0717f10f335b4f74b4be98591e889540": {
      "model_module": "@jupyter-widgets/base",
      "model_module_version": "1.2.0",
      "model_name": "LayoutModel",
      "state": {}
     },
     "07441f6d288b42afa5f78797fb5b8534": {
      "model_module": "@jupyter-widgets/controls",
      "model_module_version": "1.5.0",
      "model_name": "HBoxModel",
      "state": {
       "children": [
        "IPY_MODEL_ec972187a19f4744a1b0b28324b9f951",
        "IPY_MODEL_580fcb0d203748ed902503c93b72c846"
       ],
       "layout": "IPY_MODEL_a02f660233a349b188f5c02c3a81d9f1"
      }
     },
     "07488bfe9ec24dd6ab0f713c3fe856bc": {
      "model_module": "@jupyter-widgets/base",
      "model_module_version": "1.2.0",
      "model_name": "LayoutModel",
      "state": {}
     },
     "075ac3551bc24ff4b6edda91dbefbef3": {
      "model_module": "@jupyter-widgets/controls",
      "model_module_version": "1.5.0",
      "model_name": "HTMLModel",
      "state": {
       "layout": "IPY_MODEL_8f289e3a6f044af397de95de49eaf35e",
       "style": "IPY_MODEL_da44f18347994fb0adda354e48b2ba3c",
       "value": " 344/344 [00:23&lt;00:00, 14.36it/s, end_loss=0.816, jaccard=0.703, start_loss=0.856]"
      }
     },
     "07608d6b60ec41f9a821a1184d92d39c": {
      "model_module": "@jupyter-widgets/controls",
      "model_module_version": "1.5.0",
      "model_name": "HBoxModel",
      "state": {
       "children": [
        "IPY_MODEL_48d659e9351a43a38f6ff4e291a4c0cc",
        "IPY_MODEL_000d1db901504bb1a0a1096e8ccbad0d"
       ],
       "layout": "IPY_MODEL_e67390b26e4c4b718f947f59ca28c060"
      }
     },
     "07641711811f4c2f9ce8020ae567e936": {
      "model_module": "@jupyter-widgets/base",
      "model_module_version": "1.2.0",
      "model_name": "LayoutModel",
      "state": {}
     },
     "0797bec95904497f83ec36cebd011e2f": {
      "model_module": "@jupyter-widgets/base",
      "model_module_version": "1.2.0",
      "model_name": "LayoutModel",
      "state": {}
     },
     "07b4c95a1fc84c5a8090416cb8f43037": {
      "model_module": "@jupyter-widgets/controls",
      "model_module_version": "1.5.0",
      "model_name": "HBoxModel",
      "state": {
       "children": [
        "IPY_MODEL_af4da94501ef44dd8ca29842c8b18321",
        "IPY_MODEL_5cf1254721af46e88a861e29ce217a99"
       ],
       "layout": "IPY_MODEL_3c29b35680614ab19cb5dc7a310d2207"
      }
     },
     "07bf69940afe4552bad3dde6b7e4e05d": {
      "model_module": "@jupyter-widgets/base",
      "model_module_version": "1.2.0",
      "model_name": "LayoutModel",
      "state": {}
     },
     "07c0227bdcd244d189d20f593c939902": {
      "model_module": "@jupyter-widgets/controls",
      "model_module_version": "1.5.0",
      "model_name": "DescriptionStyleModel",
      "state": {
       "description_width": ""
      }
     },
     "07cc51d513ab42b384a401127892f359": {
      "model_module": "@jupyter-widgets/base",
      "model_module_version": "1.2.0",
      "model_name": "LayoutModel",
      "state": {}
     },
     "07ff3696b40541c3b65969732b2efe0b": {
      "model_module": "@jupyter-widgets/controls",
      "model_module_version": "1.5.0",
      "model_name": "FloatProgressModel",
      "state": {
       "bar_style": "success",
       "description": "100%",
       "layout": "IPY_MODEL_75b965ccfa9a4d948d564bfe45b1177c",
       "max": 344,
       "style": "IPY_MODEL_c8c35c4f365f470dba53e23e74992aef",
       "value": 344
      }
     },
     "080947b60c8b4a4eacf2e5a4a4b218fd": {
      "model_module": "@jupyter-widgets/controls",
      "model_module_version": "1.5.0",
      "model_name": "FloatProgressModel",
      "state": {
       "bar_style": "success",
       "description": "100%",
       "layout": "IPY_MODEL_fa000d278fe540cfb286c934fd023d08",
       "max": 344,
       "style": "IPY_MODEL_9a8c792f73234bcb8fc7adbb2d9be0b9",
       "value": 344
      }
     },
     "084a4e46bb3843669dc4c37007152234": {
      "model_module": "@jupyter-widgets/base",
      "model_module_version": "1.2.0",
      "model_name": "LayoutModel",
      "state": {}
     },
     "08b77c2ea04149d585823f92b9ca5120": {
      "model_module": "@jupyter-widgets/controls",
      "model_module_version": "1.5.0",
      "model_name": "ProgressStyleModel",
      "state": {
       "description_width": "initial"
      }
     },
     "08d0673452244e01b183136288b31153": {
      "model_module": "@jupyter-widgets/controls",
      "model_module_version": "1.5.0",
      "model_name": "HBoxModel",
      "state": {
       "children": [
        "IPY_MODEL_bd0c4ffc4aeb4190b3b2a266dce2bfbf",
        "IPY_MODEL_dbca374c5caa44a6961e6af7019d7126"
       ],
       "layout": "IPY_MODEL_f389e23555754c78bf18bf519ebf64c5"
      }
     },
     "08d5fd1a369e41c2b01ca0b60a4f9518": {
      "model_module": "@jupyter-widgets/base",
      "model_module_version": "1.2.0",
      "model_name": "LayoutModel",
      "state": {}
     },
     "09027fd37e204ba1985dd44ae3d2e7f9": {
      "model_module": "@jupyter-widgets/base",
      "model_module_version": "1.2.0",
      "model_name": "LayoutModel",
      "state": {}
     },
     "093351a4514b46e3a70da1db25d03b93": {
      "model_module": "@jupyter-widgets/controls",
      "model_module_version": "1.5.0",
      "model_name": "HTMLModel",
      "state": {
       "layout": "IPY_MODEL_15252386559f44d49508f4bab5e7684d",
       "style": "IPY_MODEL_b851ae69a0fe44f7a82d5f5b71ef55ac",
       "value": " 344/344 [00:19&lt;00:00, 18.00it/s, end_loss=0.799, jaccard=0.712, start_loss=0.828]"
      }
     },
     "0955e799d2a446989bfe60c5737351cd": {
      "model_module": "@jupyter-widgets/base",
      "model_module_version": "1.2.0",
      "model_name": "LayoutModel",
      "state": {}
     },
     "096c2ed596944d79b2e3289dbdfecba9": {
      "model_module": "@jupyter-widgets/base",
      "model_module_version": "1.2.0",
      "model_name": "LayoutModel",
      "state": {}
     },
     "099e72ce3ddf4a6ab7a63c77bfa96aca": {
      "model_module": "@jupyter-widgets/controls",
      "model_module_version": "1.5.0",
      "model_name": "FloatProgressModel",
      "state": {
       "bar_style": "success",
       "description": "100%",
       "layout": "IPY_MODEL_c93d25d9a10a4740918d7ba4af9d8151",
       "max": 344,
       "style": "IPY_MODEL_b1093787269f44209e3eeab3938c3569",
       "value": 344
      }
     },
     "09b676d75ae746fdb18b99caf98d52d9": {
      "model_module": "@jupyter-widgets/controls",
      "model_module_version": "1.5.0",
      "model_name": "HBoxModel",
      "state": {
       "children": [
        "IPY_MODEL_1be075fc83d64e009a9c703ab0a7aebb",
        "IPY_MODEL_216ebe7762ab48c3a177570dfa55048f"
       ],
       "layout": "IPY_MODEL_4275f1941846427a89d9cab7710bda45"
      }
     },
     "09cc6d68625048ca94f5d6464d16e9d4": {
      "model_module": "@jupyter-widgets/base",
      "model_module_version": "1.2.0",
      "model_name": "LayoutModel",
      "state": {}
     },
     "09f488c797e74932846e179d7ab929cc": {
      "model_module": "@jupyter-widgets/controls",
      "model_module_version": "1.5.0",
      "model_name": "DescriptionStyleModel",
      "state": {
       "description_width": ""
      }
     },
     "0a352db673c043ab9bf31c4d108a8e77": {
      "model_module": "@jupyter-widgets/controls",
      "model_module_version": "1.5.0",
      "model_name": "FloatProgressModel",
      "state": {
       "bar_style": "success",
       "description": "100%",
       "layout": "IPY_MODEL_742b9d8799d447318f58ebe1048fccd8",
       "max": 344,
       "style": "IPY_MODEL_a740cd03e8c145e6b471c7b484cd7909",
       "value": 344
      }
     },
     "0a37b55ba1584a0594a5df2b8fde27a1": {
      "model_module": "@jupyter-widgets/base",
      "model_module_version": "1.2.0",
      "model_name": "LayoutModel",
      "state": {}
     },
     "0a655f77df85432f97b49f4468598e20": {
      "model_module": "@jupyter-widgets/controls",
      "model_module_version": "1.5.0",
      "model_name": "HBoxModel",
      "state": {
       "children": [
        "IPY_MODEL_6cc479f028ee42909e57006a811fba18",
        "IPY_MODEL_62e6b42130cd451d92189cbae411dcdc"
       ],
       "layout": "IPY_MODEL_a853837d118646b3b9103a28f779164c"
      }
     },
     "0a6962cf3f0a44928caa4cd3ae9e8e9f": {
      "model_module": "@jupyter-widgets/controls",
      "model_module_version": "1.5.0",
      "model_name": "HTMLModel",
      "state": {
       "layout": "IPY_MODEL_bcf8c06c9e53495ca5b0b9c862ae8336",
       "style": "IPY_MODEL_fe9359aada9a42e8b07434e519c18f04",
       "value": " 344/344 [00:19&lt;00:00, 17.65it/s, end_loss=1.49, jaccard=0.704, start_loss=1.53]"
      }
     },
     "0a7fa7abb4204ce498f8c626dd4a0108": {
      "model_module": "@jupyter-widgets/controls",
      "model_module_version": "1.5.0",
      "model_name": "HTMLModel",
      "state": {
       "layout": "IPY_MODEL_14ce323e146743b1a1b454ffee30c402",
       "style": "IPY_MODEL_c121d4da912e462f9625e07c5a661ad4",
       "value": " 344/344 [03:50&lt;00:00,  1.49it/s, end_loss=0.802, jaccard=0.713, start_loss=0.846]"
      }
     },
     "0a89abee609a4d89b10b5f8badfe0373": {
      "model_module": "@jupyter-widgets/controls",
      "model_module_version": "1.5.0",
      "model_name": "ProgressStyleModel",
      "state": {
       "description_width": "initial"
      }
     },
     "0a9e062030404dde9de3df4250ff9a4e": {
      "model_module": "@jupyter-widgets/base",
      "model_module_version": "1.2.0",
      "model_name": "LayoutModel",
      "state": {}
     },
     "0aacdac0a30c4098af07a6b44487b9c2": {
      "model_module": "@jupyter-widgets/controls",
      "model_module_version": "1.5.0",
      "model_name": "ProgressStyleModel",
      "state": {
       "description_width": "initial"
      }
     },
     "0ab02e495a324a36b72e4fc6919af36a": {
      "model_module": "@jupyter-widgets/controls",
      "model_module_version": "1.5.0",
      "model_name": "HTMLModel",
      "state": {
       "layout": "IPY_MODEL_ca208a8a4ba947f6bed65e856da76a1c",
       "style": "IPY_MODEL_9a3a18ea34e7446f90ffa2875cedfdce",
       "value": " 344/344 [00:19&lt;00:00, 17.88it/s, end_loss=1.5, jaccard=0.708, start_loss=1.52]"
      }
     },
     "0acd30b6872e45838a0f6c27d8adf105": {
      "model_module": "@jupyter-widgets/controls",
      "model_module_version": "1.5.0",
      "model_name": "ProgressStyleModel",
      "state": {
       "description_width": "initial"
      }
     },
     "0ad0e534e20f40a4b990d80babb3861e": {
      "model_module": "@jupyter-widgets/controls",
      "model_module_version": "1.5.0",
      "model_name": "HBoxModel",
      "state": {
       "children": [
        "IPY_MODEL_905d8431fd3d4ca2b2434d930aa8f492",
        "IPY_MODEL_e422fa6f5df84418a453da902e17fd20"
       ],
       "layout": "IPY_MODEL_26bd52c5cf274ea5aad2a72639a752a7"
      }
     },
     "0ae1067e8826493b82037d9202f99fe5": {
      "model_module": "@jupyter-widgets/base",
      "model_module_version": "1.2.0",
      "model_name": "LayoutModel",
      "state": {}
     },
     "0af5b3518ba74db9a2f58e3b2f17a818": {
      "model_module": "@jupyter-widgets/base",
      "model_module_version": "1.2.0",
      "model_name": "LayoutModel",
      "state": {}
     },
     "0afe1f9d84e0480ca632ca46a4818290": {
      "model_module": "@jupyter-widgets/controls",
      "model_module_version": "1.5.0",
      "model_name": "DescriptionStyleModel",
      "state": {
       "description_width": ""
      }
     },
     "0b506f57b3ba43708f5e8a3f87a3aafa": {
      "model_module": "@jupyter-widgets/base",
      "model_module_version": "1.2.0",
      "model_name": "LayoutModel",
      "state": {}
     },
     "0b55bd8708c240c096ed3a8c6964cdbd": {
      "model_module": "@jupyter-widgets/controls",
      "model_module_version": "1.5.0",
      "model_name": "ProgressStyleModel",
      "state": {
       "description_width": "initial"
      }
     },
     "0b5e71fa22bd4dedac69c6366174b208": {
      "model_module": "@jupyter-widgets/controls",
      "model_module_version": "1.5.0",
      "model_name": "ProgressStyleModel",
      "state": {
       "description_width": "initial"
      }
     },
     "0b68a35793d446a08f05ec2b144ffc7e": {
      "model_module": "@jupyter-widgets/controls",
      "model_module_version": "1.5.0",
      "model_name": "DescriptionStyleModel",
      "state": {
       "description_width": ""
      }
     },
     "0b916469b44c436ab7022290805c9f4d": {
      "model_module": "@jupyter-widgets/controls",
      "model_module_version": "1.5.0",
      "model_name": "HBoxModel",
      "state": {
       "children": [
        "IPY_MODEL_b50e6807aa954f10ba086d6d6b6ae72b",
        "IPY_MODEL_d634c8ff479f435586ff875a7fae40b0"
       ],
       "layout": "IPY_MODEL_d0c67ec7abce479d960c1af94e5d4b8a"
      }
     },
     "0bbd71e3c62f48c08058c334119e4b12": {
      "model_module": "@jupyter-widgets/base",
      "model_module_version": "1.2.0",
      "model_name": "LayoutModel",
      "state": {}
     },
     "0be32d50082843c2b1001d1ed32c4f92": {
      "model_module": "@jupyter-widgets/base",
      "model_module_version": "1.2.0",
      "model_name": "LayoutModel",
      "state": {}
     },
     "0be50e8780c24c3eb14dbb3f28db8692": {
      "model_module": "@jupyter-widgets/base",
      "model_module_version": "1.2.0",
      "model_name": "LayoutModel",
      "state": {}
     },
     "0bf693d606d746099470a853b21f4ff2": {
      "model_module": "@jupyter-widgets/base",
      "model_module_version": "1.2.0",
      "model_name": "LayoutModel",
      "state": {}
     },
     "0c28b0f56b384b80abdf5c68c4f002f8": {
      "model_module": "@jupyter-widgets/base",
      "model_module_version": "1.2.0",
      "model_name": "LayoutModel",
      "state": {}
     },
     "0c2e0b36c589474081d6357de2287d02": {
      "model_module": "@jupyter-widgets/base",
      "model_module_version": "1.2.0",
      "model_name": "LayoutModel",
      "state": {}
     },
     "0c31718933a640ae91f6bbbb95852854": {
      "model_module": "@jupyter-widgets/base",
      "model_module_version": "1.2.0",
      "model_name": "LayoutModel",
      "state": {}
     },
     "0c5daec8fdaf45769cb55b7e40e65ab7": {
      "model_module": "@jupyter-widgets/controls",
      "model_module_version": "1.5.0",
      "model_name": "DescriptionStyleModel",
      "state": {
       "description_width": ""
      }
     },
     "0c69271f37924e9f8adb57ca72315f8f": {
      "model_module": "@jupyter-widgets/controls",
      "model_module_version": "1.5.0",
      "model_name": "HTMLModel",
      "state": {
       "layout": "IPY_MODEL_1fb2eb0897054a70baed765c1f9f72b9",
       "style": "IPY_MODEL_7c7d71c039f64050a86cfc5c25361c35",
       "value": " 344/344 [00:19&lt;00:00, 17.75it/s, end_loss=0.815, jaccard=0.71, start_loss=0.834]"
      }
     },
     "0c70f0651b6c49a9931e1dd05f2c6c2c": {
      "model_module": "@jupyter-widgets/controls",
      "model_module_version": "1.5.0",
      "model_name": "DescriptionStyleModel",
      "state": {
       "description_width": ""
      }
     },
     "0c878dc153ac4dd9a0cb6dbb4f580e01": {
      "model_module": "@jupyter-widgets/controls",
      "model_module_version": "1.5.0",
      "model_name": "ProgressStyleModel",
      "state": {
       "description_width": "initial"
      }
     },
     "0c8cc0dab97641ce826445c51d9c4ae3": {
      "model_module": "@jupyter-widgets/controls",
      "model_module_version": "1.5.0",
      "model_name": "HTMLModel",
      "state": {
       "layout": "IPY_MODEL_b8e7cd3914a54c858eb26b1b2d4c00ec",
       "style": "IPY_MODEL_86447d0626444900a9ade019418982f1",
       "value": " 344/344 [03:10&lt;00:00,  1.81it/s, end_loss=1.78, jaccard=0.651, start_loss=1.81]"
      }
     },
     "0c9593e2d96b4891b16d6fbc2fb89cb5": {
      "model_module": "@jupyter-widgets/controls",
      "model_module_version": "1.5.0",
      "model_name": "ProgressStyleModel",
      "state": {
       "description_width": "initial"
      }
     },
     "0c9e1eb39c4d49399fdb77a40c055967": {
      "model_module": "@jupyter-widgets/controls",
      "model_module_version": "1.5.0",
      "model_name": "DescriptionStyleModel",
      "state": {
       "description_width": ""
      }
     },
     "0cc1eabda2ac47809e52b4298c85c9ec": {
      "model_module": "@jupyter-widgets/base",
      "model_module_version": "1.2.0",
      "model_name": "LayoutModel",
      "state": {}
     },
     "0ccecbb53aa04357a339f9ffac0d6cba": {
      "model_module": "@jupyter-widgets/base",
      "model_module_version": "1.2.0",
      "model_name": "LayoutModel",
      "state": {}
     },
     "0ce9de2e8d0e4581ae016e3bd042a91e": {
      "model_module": "@jupyter-widgets/controls",
      "model_module_version": "1.5.0",
      "model_name": "ProgressStyleModel",
      "state": {
       "description_width": "initial"
      }
     },
     "0d1d2a81b87242cba1ae4195ac4bf7c4": {
      "model_module": "@jupyter-widgets/controls",
      "model_module_version": "1.5.0",
      "model_name": "FloatProgressModel",
      "state": {
       "bar_style": "success",
       "description": "100%",
       "layout": "IPY_MODEL_5c74d318c7f54f2f981e1f0f2be2b49a",
       "max": 344,
       "style": "IPY_MODEL_2cb5a4a77fdf49c8bc0e11d84bf6b180",
       "value": 344
      }
     },
     "0d3b6c7a90f64824a7e617bd82b03ae7": {
      "model_module": "@jupyter-widgets/base",
      "model_module_version": "1.2.0",
      "model_name": "LayoutModel",
      "state": {}
     },
     "0d574f43e1524e04b6fc9177251f6ed6": {
      "model_module": "@jupyter-widgets/base",
      "model_module_version": "1.2.0",
      "model_name": "LayoutModel",
      "state": {}
     },
     "0d61bdb373064ef99d1b0b56fd61b0de": {
      "model_module": "@jupyter-widgets/controls",
      "model_module_version": "1.5.0",
      "model_name": "ProgressStyleModel",
      "state": {
       "description_width": "initial"
      }
     },
     "0d676fff348d45c38d2050f552b8e253": {
      "model_module": "@jupyter-widgets/base",
      "model_module_version": "1.2.0",
      "model_name": "LayoutModel",
      "state": {}
     },
     "0d8534c1a63b4f0d98138eedd61cf240": {
      "model_module": "@jupyter-widgets/base",
      "model_module_version": "1.2.0",
      "model_name": "LayoutModel",
      "state": {}
     },
     "0d8c2daefccf4c18bc31e9e9ef816afb": {
      "model_module": "@jupyter-widgets/base",
      "model_module_version": "1.2.0",
      "model_name": "LayoutModel",
      "state": {}
     },
     "0dac161c2df5480289bcf1812baedd09": {
      "model_module": "@jupyter-widgets/controls",
      "model_module_version": "1.5.0",
      "model_name": "ProgressStyleModel",
      "state": {
       "description_width": "initial"
      }
     },
     "0dc9266757eb49928e35975817df523c": {
      "model_module": "@jupyter-widgets/base",
      "model_module_version": "1.2.0",
      "model_name": "LayoutModel",
      "state": {}
     },
     "0de7c0196d424f35a74437d3e2ff2dcf": {
      "model_module": "@jupyter-widgets/controls",
      "model_module_version": "1.5.0",
      "model_name": "ProgressStyleModel",
      "state": {
       "description_width": "initial"
      }
     },
     "0df018c39adf4130bca05e558f9ca89c": {
      "model_module": "@jupyter-widgets/controls",
      "model_module_version": "1.5.0",
      "model_name": "ProgressStyleModel",
      "state": {
       "description_width": "initial"
      }
     },
     "0df1076f14114cf2b77c3355a1752958": {
      "model_module": "@jupyter-widgets/controls",
      "model_module_version": "1.5.0",
      "model_name": "ProgressStyleModel",
      "state": {
       "description_width": "initial"
      }
     },
     "0dfb0d1512a74a49a7bae4719b8482ea": {
      "model_module": "@jupyter-widgets/controls",
      "model_module_version": "1.5.0",
      "model_name": "FloatProgressModel",
      "state": {
       "bar_style": "success",
       "description": "100%",
       "layout": "IPY_MODEL_816a36280b9a4e94b7bbfa7dbbda3b31",
       "max": 344,
       "style": "IPY_MODEL_3b46d75288284be4b71e01a544494de6",
       "value": 344
      }
     },
     "0e2ba016af00462b889e1014b38ae0aa": {
      "model_module": "@jupyter-widgets/base",
      "model_module_version": "1.2.0",
      "model_name": "LayoutModel",
      "state": {}
     },
     "0e4f4a1a25394a0b9483dae970b69ec8": {
      "model_module": "@jupyter-widgets/base",
      "model_module_version": "1.2.0",
      "model_name": "LayoutModel",
      "state": {}
     },
     "0e5dfe089f0940efba3859c1d4288eb8": {
      "model_module": "@jupyter-widgets/base",
      "model_module_version": "1.2.0",
      "model_name": "LayoutModel",
      "state": {}
     },
     "0e60c50335024d0c94051df8b7ee723a": {
      "model_module": "@jupyter-widgets/controls",
      "model_module_version": "1.5.0",
      "model_name": "FloatProgressModel",
      "state": {
       "bar_style": "success",
       "description": "100%",
       "layout": "IPY_MODEL_3bdf642f3f904ea6b9ee1552d7f263eb",
       "max": 344,
       "style": "IPY_MODEL_26c19b29aaa6489fba0fec1c81d8a270",
       "value": 344
      }
     },
     "0e980afd92b24319a63906b5ef58f25c": {
      "model_module": "@jupyter-widgets/base",
      "model_module_version": "1.2.0",
      "model_name": "LayoutModel",
      "state": {}
     },
     "0e9c4b10ae74491d91ea31655e30cf34": {
      "model_module": "@jupyter-widgets/controls",
      "model_module_version": "1.5.0",
      "model_name": "HBoxModel",
      "state": {
       "children": [
        "IPY_MODEL_9f4f4fd3f0f34e2589febc5a96863e7a",
        "IPY_MODEL_2ef6a63333454a9a8becba7c78add057"
       ],
       "layout": "IPY_MODEL_acf0af7a8659444b88672467262438e0"
      }
     },
     "0ec0b4ca8263449781771ff1bd8f344a": {
      "model_module": "@jupyter-widgets/base",
      "model_module_version": "1.2.0",
      "model_name": "LayoutModel",
      "state": {}
     },
     "0ec8a617d07848848f166d007e7d2505": {
      "model_module": "@jupyter-widgets/controls",
      "model_module_version": "1.5.0",
      "model_name": "ProgressStyleModel",
      "state": {
       "description_width": "initial"
      }
     },
     "0eca0fea806b4ee1ba00ac76a40c20f0": {
      "model_module": "@jupyter-widgets/controls",
      "model_module_version": "1.5.0",
      "model_name": "DescriptionStyleModel",
      "state": {
       "description_width": ""
      }
     },
     "0eddd4744b3f4164a442bd6a03d57e5d": {
      "model_module": "@jupyter-widgets/base",
      "model_module_version": "1.2.0",
      "model_name": "LayoutModel",
      "state": {}
     },
     "0ee87e909b224a5f96b7fb1ccfede1b1": {
      "model_module": "@jupyter-widgets/controls",
      "model_module_version": "1.5.0",
      "model_name": "DescriptionStyleModel",
      "state": {
       "description_width": ""
      }
     },
     "0eeb765db9aa41aa89227209e7a1dd12": {
      "model_module": "@jupyter-widgets/controls",
      "model_module_version": "1.5.0",
      "model_name": "HTMLModel",
      "state": {
       "layout": "IPY_MODEL_53449001f44a4c428c80a869937f6ea9",
       "style": "IPY_MODEL_6f372020d4814fd290f5a8060490423c",
       "value": " 91/344 [00:51&lt;02:25,  1.74it/s, end_loss=0.856, jaccard=0.694, start_loss=0.938]"
      }
     },
     "0eebb080bbaa426da041509baa37453c": {
      "model_module": "@jupyter-widgets/base",
      "model_module_version": "1.2.0",
      "model_name": "LayoutModel",
      "state": {}
     },
     "0f18978617294a71a46386479fa0639d": {
      "model_module": "@jupyter-widgets/controls",
      "model_module_version": "1.5.0",
      "model_name": "HBoxModel",
      "state": {
       "children": [
        "IPY_MODEL_4f5b6ca39db34cceb383ec379845fcaa",
        "IPY_MODEL_d69dbac680904821aaca929a1dfad142"
       ],
       "layout": "IPY_MODEL_e6710bd60d624492bb633098e8b00357"
      }
     },
     "0f62e7f98f2245bf907bf585730ff6f0": {
      "model_module": "@jupyter-widgets/controls",
      "model_module_version": "1.5.0",
      "model_name": "DescriptionStyleModel",
      "state": {
       "description_width": ""
      }
     },
     "0f667233a2d64491a822f94624e2477e": {
      "model_module": "@jupyter-widgets/base",
      "model_module_version": "1.2.0",
      "model_name": "LayoutModel",
      "state": {}
     },
     "0f714bf730514d1a9c265e07c60b061b": {
      "model_module": "@jupyter-widgets/controls",
      "model_module_version": "1.5.0",
      "model_name": "HBoxModel",
      "state": {
       "children": [
        "IPY_MODEL_504928ca4bbc41ba8a6e6624a8baa130",
        "IPY_MODEL_1f0c779899374775986c36664868f7bb"
       ],
       "layout": "IPY_MODEL_0d8534c1a63b4f0d98138eedd61cf240"
      }
     },
     "0fa43cdd74e44272a10f9237a8976ae9": {
      "model_module": "@jupyter-widgets/controls",
      "model_module_version": "1.5.0",
      "model_name": "FloatProgressModel",
      "state": {
       "bar_style": "success",
       "description": "100%",
       "layout": "IPY_MODEL_c6749d8fce514feba42301c73dce94d3",
       "max": 344,
       "style": "IPY_MODEL_77c7f93b951842129df93bf1ede3837d",
       "value": 344
      }
     },
     "0fc5861cf08a421e825d165caf6e185f": {
      "model_module": "@jupyter-widgets/base",
      "model_module_version": "1.2.0",
      "model_name": "LayoutModel",
      "state": {}
     },
     "0fc81950e5f64a7183d40d3cc205274e": {
      "model_module": "@jupyter-widgets/controls",
      "model_module_version": "1.5.0",
      "model_name": "HTMLModel",
      "state": {
       "layout": "IPY_MODEL_241695f650004d189d18d3ce72fbe8f3",
       "style": "IPY_MODEL_f0cb007cf0c043af988c1fb9a2cb7fae",
       "value": " 344/344 [03:42&lt;00:00,  1.55it/s, end_loss=0.974, jaccard=0.713, start_loss=1.03]"
      }
     },
     "0fe26285c8cd449499694e35034a9920": {
      "model_module": "@jupyter-widgets/controls",
      "model_module_version": "1.5.0",
      "model_name": "HBoxModel",
      "state": {
       "children": [
        "IPY_MODEL_9d2b36eff2044991b176d349d9e0bb52",
        "IPY_MODEL_2dcc56a71e36482ea461370a459aa349"
       ],
       "layout": "IPY_MODEL_1c20064abf364faaace2528f37bd054f"
      }
     },
     "0fff9c2dba4c461a9dc25df300fbd773": {
      "model_module": "@jupyter-widgets/controls",
      "model_module_version": "1.5.0",
      "model_name": "DescriptionStyleModel",
      "state": {
       "description_width": ""
      }
     },
     "1002a034a1ab411fbc5b55a0eed900cd": {
      "model_module": "@jupyter-widgets/base",
      "model_module_version": "1.2.0",
      "model_name": "LayoutModel",
      "state": {}
     },
     "100cb82e23b548a4b8ca6cf3649b964a": {
      "model_module": "@jupyter-widgets/controls",
      "model_module_version": "1.5.0",
      "model_name": "FloatProgressModel",
      "state": {
       "bar_style": "success",
       "description": "100%",
       "layout": "IPY_MODEL_b3ffb7294e6d4fcabe09678cee836150",
       "max": 344,
       "style": "IPY_MODEL_1042b49e326842e288195fef0915f8e5",
       "value": 344
      }
     },
     "1019dcbf64ad43478692ed6054891c39": {
      "model_module": "@jupyter-widgets/base",
      "model_module_version": "1.2.0",
      "model_name": "LayoutModel",
      "state": {}
     },
     "1042b49e326842e288195fef0915f8e5": {
      "model_module": "@jupyter-widgets/controls",
      "model_module_version": "1.5.0",
      "model_name": "ProgressStyleModel",
      "state": {
       "description_width": "initial"
      }
     },
     "1066ba030902464eab395b9ccf504441": {
      "model_module": "@jupyter-widgets/controls",
      "model_module_version": "1.5.0",
      "model_name": "FloatProgressModel",
      "state": {
       "bar_style": "success",
       "description": "100%",
       "layout": "IPY_MODEL_30f3b7f0121f493f9d50e677310cd948",
       "max": 344,
       "style": "IPY_MODEL_a6313cf877ef43cf9bebb0e17d25ec90",
       "value": 344
      }
     },
     "10706cd442b1461da9fd2645fabb3ffe": {
      "model_module": "@jupyter-widgets/base",
      "model_module_version": "1.2.0",
      "model_name": "LayoutModel",
      "state": {}
     },
     "108d0cc6b35f46a48d4119caf9dac669": {
      "model_module": "@jupyter-widgets/base",
      "model_module_version": "1.2.0",
      "model_name": "LayoutModel",
      "state": {}
     },
     "108fc0761d2e4101891d6a119cc68d14": {
      "model_module": "@jupyter-widgets/controls",
      "model_module_version": "1.5.0",
      "model_name": "HTMLModel",
      "state": {
       "layout": "IPY_MODEL_d3de38fbbd254d0dbfe55ef68253af96",
       "style": "IPY_MODEL_524315d999af4eaaa51ca21106412535",
       "value": " 344/344 [00:18&lt;00:00, 18.13it/s, end_loss=1.48, jaccard=0.707, start_loss=1.53]"
      }
     },
     "10de1848782a417dae7b488dbcbcbf5f": {
      "model_module": "@jupyter-widgets/controls",
      "model_module_version": "1.5.0",
      "model_name": "HBoxModel",
      "state": {
       "children": [
        "IPY_MODEL_04e1295374d5434cacd8267ca0696664",
        "IPY_MODEL_c320318d1a834050b1079b1b6a91af4d"
       ],
       "layout": "IPY_MODEL_24d77f4f19e34087afe6aa5f0fc73e28"
      }
     },
     "10de7441ef0340dfb5d4bf3053cf5544": {
      "model_module": "@jupyter-widgets/controls",
      "model_module_version": "1.5.0",
      "model_name": "FloatProgressModel",
      "state": {
       "bar_style": "success",
       "description": "100%",
       "layout": "IPY_MODEL_697177254bce4451bfbbb8837c72a67a",
       "max": 344,
       "style": "IPY_MODEL_5ed1a9109f914b21a734feef184ed52a",
       "value": 344
      }
     },
     "10f441923f0b4f8cb06a0e3d87f9d335": {
      "model_module": "@jupyter-widgets/base",
      "model_module_version": "1.2.0",
      "model_name": "LayoutModel",
      "state": {}
     },
     "10f4568cdda44baca379e0898d1f1efa": {
      "model_module": "@jupyter-widgets/base",
      "model_module_version": "1.2.0",
      "model_name": "LayoutModel",
      "state": {}
     },
     "10fd06145c074747862cd99c5bb9e527": {
      "model_module": "@jupyter-widgets/controls",
      "model_module_version": "1.5.0",
      "model_name": "HTMLModel",
      "state": {
       "layout": "IPY_MODEL_0d574f43e1524e04b6fc9177251f6ed6",
       "style": "IPY_MODEL_d4cea1982c1c4fdf95d78a204e196306",
       "value": " 344/344 [04:04&lt;00:00,  1.41it/s, end_loss=0.81, jaccard=0.71, start_loss=0.85]"
      }
     },
     "111a172296db4a3c97108efc30cb2bfa": {
      "model_module": "@jupyter-widgets/controls",
      "model_module_version": "1.5.0",
      "model_name": "FloatProgressModel",
      "state": {
       "bar_style": "success",
       "description": "100%",
       "layout": "IPY_MODEL_697022d359c041a19d6c88f1aa454aa0",
       "max": 344,
       "style": "IPY_MODEL_b878b31068d949f18309cfdb967386e1",
       "value": 344
      }
     },
     "1143808230c04d59980f40d975baed78": {
      "model_module": "@jupyter-widgets/base",
      "model_module_version": "1.2.0",
      "model_name": "LayoutModel",
      "state": {}
     },
     "114adbb0ece34853affc14f59bb5d91a": {
      "model_module": "@jupyter-widgets/controls",
      "model_module_version": "1.5.0",
      "model_name": "HTMLModel",
      "state": {
       "layout": "IPY_MODEL_845bcd6408a544d8b7391ac3b1e33e78",
       "style": "IPY_MODEL_75cff0d424c342968228e94acffc44ee",
       "value": " 344/344 [03:36&lt;00:00,  1.59it/s, end_loss=1.13, jaccard=0.646, start_loss=1.16]"
      }
     },
     "117862559ae148f49d9e8700d69454e2": {
      "model_module": "@jupyter-widgets/controls",
      "model_module_version": "1.5.0",
      "model_name": "HTMLModel",
      "state": {
       "layout": "IPY_MODEL_9a04e1fb8a2c4fe0bb1d40df91de92ab",
       "style": "IPY_MODEL_92edb437e82a402e8b753d6c22a60d0f",
       "value": " 344/344 [00:18&lt;00:00, 18.24it/s, end_loss=0.841, jaccard=0.7, start_loss=0.891]"
      }
     },
     "11adcf33a95547eb884619ff4290899f": {
      "model_module": "@jupyter-widgets/controls",
      "model_module_version": "1.5.0",
      "model_name": "FloatProgressModel",
      "state": {
       "bar_style": "success",
       "description": "100%",
       "layout": "IPY_MODEL_803892e9faf54771aad07a158c7b7485",
       "max": 344,
       "style": "IPY_MODEL_b148292fe0b743c59d223b4131c4dfcd",
       "value": 344
      }
     },
     "11afd66fcad447fba3cf92c75e59b68c": {
      "model_module": "@jupyter-widgets/base",
      "model_module_version": "1.2.0",
      "model_name": "LayoutModel",
      "state": {}
     },
     "11b97341a31949ae883acb5268acce33": {
      "model_module": "@jupyter-widgets/controls",
      "model_module_version": "1.5.0",
      "model_name": "HTMLModel",
      "state": {
       "layout": "IPY_MODEL_5edbe4269d2244e88da186eef9d840a0",
       "style": "IPY_MODEL_fbda86deb33a4e238ef9919fa17f165a",
       "value": " 344/344 [08:32&lt;00:00,  1.49s/it, end_loss=0.922, jaccard=0.731, start_loss=0.968]"
      }
     },
     "11c726fc33f445beaf7733369cfeb952": {
      "model_module": "@jupyter-widgets/controls",
      "model_module_version": "1.5.0",
      "model_name": "HBoxModel",
      "state": {
       "children": [
        "IPY_MODEL_abd1dcabc8264f629e1de238e2901d13",
        "IPY_MODEL_4cdc0e45d05f480497ae690bd90e82a7"
       ],
       "layout": "IPY_MODEL_22146197f3444d56b96c97f47280aece"
      }
     },
     "121fc0272fdf4790bf18c98857e7ebc4": {
      "model_module": "@jupyter-widgets/controls",
      "model_module_version": "1.5.0",
      "model_name": "FloatProgressModel",
      "state": {
       "bar_style": "success",
       "description": "100%",
       "layout": "IPY_MODEL_e231a4811a9d4d5c818333da23e4a3b9",
       "max": 344,
       "style": "IPY_MODEL_55a6348fafa94c44a36e7cfbc93fc8fa",
       "value": 344
      }
     },
     "124e3f319bb24b08a828bec419281770": {
      "model_module": "@jupyter-widgets/controls",
      "model_module_version": "1.5.0",
      "model_name": "HBoxModel",
      "state": {
       "children": [
        "IPY_MODEL_dd1dc166ffe2498aaea5dbc287effe66",
        "IPY_MODEL_a1ddd10263d84842a12bc076140e396e"
       ],
       "layout": "IPY_MODEL_919501bcbc8045bfbfe6ea5d42461684"
      }
     },
     "12525a1c68e942e0accc51cba5ae910d": {
      "model_module": "@jupyter-widgets/base",
      "model_module_version": "1.2.0",
      "model_name": "LayoutModel",
      "state": {}
     },
     "125fa27d94f84775823381ea443d97fe": {
      "model_module": "@jupyter-widgets/base",
      "model_module_version": "1.2.0",
      "model_name": "LayoutModel",
      "state": {}
     },
     "12635d5a7fde4ca0aeec2cd5e79eabc3": {
      "model_module": "@jupyter-widgets/base",
      "model_module_version": "1.2.0",
      "model_name": "LayoutModel",
      "state": {}
     },
     "126a9095b0234094adbfab091182d5fa": {
      "model_module": "@jupyter-widgets/controls",
      "model_module_version": "1.5.0",
      "model_name": "ProgressStyleModel",
      "state": {
       "description_width": "initial"
      }
     },
     "1273465d816349f18f08065dd4624f83": {
      "model_module": "@jupyter-widgets/controls",
      "model_module_version": "1.5.0",
      "model_name": "DescriptionStyleModel",
      "state": {
       "description_width": ""
      }
     },
     "12a65cee454045bea77e21596b669564": {
      "model_module": "@jupyter-widgets/base",
      "model_module_version": "1.2.0",
      "model_name": "LayoutModel",
      "state": {}
     },
     "12bb14357de14b8aad850e682c68322c": {
      "model_module": "@jupyter-widgets/controls",
      "model_module_version": "1.5.0",
      "model_name": "ProgressStyleModel",
      "state": {
       "description_width": "initial"
      }
     },
     "12bfa02433a442f9bbb69315c6f729db": {
      "model_module": "@jupyter-widgets/base",
      "model_module_version": "1.2.0",
      "model_name": "LayoutModel",
      "state": {}
     },
     "12ccfd7ad3d84783956fce60a50d5695": {
      "model_module": "@jupyter-widgets/base",
      "model_module_version": "1.2.0",
      "model_name": "LayoutModel",
      "state": {}
     },
     "12d164b50fe14912add5b5ab20c9b17a": {
      "model_module": "@jupyter-widgets/controls",
      "model_module_version": "1.5.0",
      "model_name": "ProgressStyleModel",
      "state": {
       "description_width": "initial"
      }
     },
     "12f74f12747c456c9321fe6cdc241791": {
      "model_module": "@jupyter-widgets/controls",
      "model_module_version": "1.5.0",
      "model_name": "DescriptionStyleModel",
      "state": {
       "description_width": ""
      }
     },
     "13012fa710b24bfbbfdf49e2788b1ae4": {
      "model_module": "@jupyter-widgets/controls",
      "model_module_version": "1.5.0",
      "model_name": "ProgressStyleModel",
      "state": {
       "description_width": "initial"
      }
     },
     "1308e5c37b44463788423b57b1751d4d": {
      "model_module": "@jupyter-widgets/base",
      "model_module_version": "1.2.0",
      "model_name": "LayoutModel",
      "state": {}
     },
     "1314f949bae64f84bcd095d3599f05da": {
      "model_module": "@jupyter-widgets/base",
      "model_module_version": "1.2.0",
      "model_name": "LayoutModel",
      "state": {}
     },
     "1340bc4b5c5e4de1ae77ee7c06bb6758": {
      "model_module": "@jupyter-widgets/controls",
      "model_module_version": "1.5.0",
      "model_name": "HTMLModel",
      "state": {
       "layout": "IPY_MODEL_7752309af5c4495395cb074146c46f1e",
       "style": "IPY_MODEL_92c8f2a996ac477abfd998434aec990c",
       "value": " 344/344 [06:59&lt;00:00,  1.22s/it, end_loss=0.811, jaccard=0.707, start_loss=0.836]"
      }
     },
     "1355d7636ec64245930476fd6edb4104": {
      "model_module": "@jupyter-widgets/controls",
      "model_module_version": "1.5.0",
      "model_name": "DescriptionStyleModel",
      "state": {
       "description_width": ""
      }
     },
     "136a800419994b2fa84952294bb29aba": {
      "model_module": "@jupyter-widgets/base",
      "model_module_version": "1.2.0",
      "model_name": "LayoutModel",
      "state": {}
     },
     "13bd1217ab57421a826697efc37ade52": {
      "model_module": "@jupyter-widgets/base",
      "model_module_version": "1.2.0",
      "model_name": "LayoutModel",
      "state": {}
     },
     "13ee17b4406e4f029d261b16fdc82c94": {
      "model_module": "@jupyter-widgets/controls",
      "model_module_version": "1.5.0",
      "model_name": "FloatProgressModel",
      "state": {
       "bar_style": "success",
       "description": "100%",
       "layout": "IPY_MODEL_41644594ef5a48f99a246184ad1bcc9a",
       "max": 344,
       "style": "IPY_MODEL_d8fd33c7cab44a2089f9509cf1ea03b0",
       "value": 344
      }
     },
     "13fd62bd02474fccae3f88ba32bc4171": {
      "model_module": "@jupyter-widgets/controls",
      "model_module_version": "1.5.0",
      "model_name": "ProgressStyleModel",
      "state": {
       "description_width": "initial"
      }
     },
     "140a712f8b424f4cb8864e46e1f6d5fe": {
      "model_module": "@jupyter-widgets/controls",
      "model_module_version": "1.5.0",
      "model_name": "HBoxModel",
      "state": {
       "children": [
        "IPY_MODEL_6fe87b1ca76c4354a765753dc66afba8",
        "IPY_MODEL_3eef2973d90b4989b8a4d9c8a3f87c74"
       ],
       "layout": "IPY_MODEL_25608165ac6c4cc8a4e6350ce3bad4c8"
      }
     },
     "140acf26ac9d46f6a6e19f4f954d8cf1": {
      "model_module": "@jupyter-widgets/controls",
      "model_module_version": "1.5.0",
      "model_name": "ProgressStyleModel",
      "state": {
       "description_width": "initial"
      }
     },
     "142cf68d513446e09b54828fc775436f": {
      "model_module": "@jupyter-widgets/controls",
      "model_module_version": "1.5.0",
      "model_name": "FloatProgressModel",
      "state": {
       "bar_style": "success",
       "description": "100%",
       "layout": "IPY_MODEL_2b89bf59aef746d0800e7097e2aca6cc",
       "max": 344,
       "style": "IPY_MODEL_7d40d9aa5ad641509372106a113e9b72",
       "value": 344
      }
     },
     "1451e43e04e9494085ce7163bf1615a1": {
      "model_module": "@jupyter-widgets/controls",
      "model_module_version": "1.5.0",
      "model_name": "ProgressStyleModel",
      "state": {
       "description_width": "initial"
      }
     },
     "14aa5539830a4166a000fd4892ffdfb4": {
      "model_module": "@jupyter-widgets/base",
      "model_module_version": "1.2.0",
      "model_name": "LayoutModel",
      "state": {}
     },
     "14ae429a526f48fabe68e6cfca79df60": {
      "model_module": "@jupyter-widgets/controls",
      "model_module_version": "1.5.0",
      "model_name": "HTMLModel",
      "state": {
       "layout": "IPY_MODEL_6da2c62eef5f47c68cc4e8b937ce0610",
       "style": "IPY_MODEL_01e91f9563a74f3c915675280efa5922",
       "value": " 344/344 [03:53&lt;00:00,  1.48it/s, end_loss=0.82, jaccard=0.759, start_loss=0.876]"
      }
     },
     "14ce323e146743b1a1b454ffee30c402": {
      "model_module": "@jupyter-widgets/base",
      "model_module_version": "1.2.0",
      "model_name": "LayoutModel",
      "state": {}
     },
     "14e2ce5b58cf4dc6abbdd2914f1351ce": {
      "model_module": "@jupyter-widgets/controls",
      "model_module_version": "1.5.0",
      "model_name": "DescriptionStyleModel",
      "state": {
       "description_width": ""
      }
     },
     "14efc98389a44cacb1f2b1240db8a2f1": {
      "model_module": "@jupyter-widgets/controls",
      "model_module_version": "1.5.0",
      "model_name": "HBoxModel",
      "state": {
       "children": [
        "IPY_MODEL_e359644502794f368abcc6718a855a74",
        "IPY_MODEL_7a1a1fe549fa4239b5a97bf1ad43a8e0"
       ],
       "layout": "IPY_MODEL_32834d1ce74543bb85647bb45de7bc52"
      }
     },
     "14f84b82b04d43259c60d6886a5a2e91": {
      "model_module": "@jupyter-widgets/controls",
      "model_module_version": "1.5.0",
      "model_name": "HTMLModel",
      "state": {
       "layout": "IPY_MODEL_f24cc5525cf94767845c93f97c7c11b1",
       "style": "IPY_MODEL_e29f4639e3244d9d9bd95c05adcec423",
       "value": " 344/344 [04:04&lt;00:00,  1.41it/s, end_loss=0.879, jaccard=0.74, start_loss=0.931]"
      }
     },
     "1505b2543e16463b9d80c937db25e402": {
      "model_module": "@jupyter-widgets/base",
      "model_module_version": "1.2.0",
      "model_name": "LayoutModel",
      "state": {}
     },
     "15252386559f44d49508f4bab5e7684d": {
      "model_module": "@jupyter-widgets/base",
      "model_module_version": "1.2.0",
      "model_name": "LayoutModel",
      "state": {}
     },
     "152768eef89a496883a9b8fe23b8a1f4": {
      "model_module": "@jupyter-widgets/controls",
      "model_module_version": "1.5.0",
      "model_name": "ProgressStyleModel",
      "state": {
       "description_width": "initial"
      }
     },
     "1536e0d74e8c46238d590f38b5bfbb9c": {
      "model_module": "@jupyter-widgets/controls",
      "model_module_version": "1.5.0",
      "model_name": "HBoxModel",
      "state": {
       "children": [
        "IPY_MODEL_85a265cb05d046f6a41e83ff880204ea",
        "IPY_MODEL_eb194e04bb8e4a97847debe445379cb2"
       ],
       "layout": "IPY_MODEL_b8aaa0575d064066bf4d3b9e6859e38a"
      }
     },
     "1539d215d7fa4bbdb396e77316707ccf": {
      "model_module": "@jupyter-widgets/controls",
      "model_module_version": "1.5.0",
      "model_name": "HBoxModel",
      "state": {
       "children": [
        "IPY_MODEL_89f57ea1bb2d470ba7b9e24ba5f21a27",
        "IPY_MODEL_550ef263d6cd441c9a85198e17341b1a"
       ],
       "layout": "IPY_MODEL_6868513bec194595b39aa5ece7862004"
      }
     },
     "154d54c9ce8b40e9a8a464e1cdda135d": {
      "model_module": "@jupyter-widgets/base",
      "model_module_version": "1.2.0",
      "model_name": "LayoutModel",
      "state": {}
     },
     "1581a3b24ef9459783daa4bfe6b25ea7": {
      "model_module": "@jupyter-widgets/controls",
      "model_module_version": "1.5.0",
      "model_name": "HBoxModel",
      "state": {
       "children": [
        "IPY_MODEL_506c1f1531be48e1a8873016236f35ef",
        "IPY_MODEL_be9da5f930d54d4c92aaa16c41154ce9"
       ],
       "layout": "IPY_MODEL_09cc6d68625048ca94f5d6464d16e9d4"
      }
     },
     "159c934332374edc882aa54bc4323f5c": {
      "model_module": "@jupyter-widgets/base",
      "model_module_version": "1.2.0",
      "model_name": "LayoutModel",
      "state": {}
     },
     "159e692a60604c299a9fa6cd25744127": {
      "model_module": "@jupyter-widgets/base",
      "model_module_version": "1.2.0",
      "model_name": "LayoutModel",
      "state": {}
     },
     "15b0cb3fedce453a86a2ec5b82b2a3c3": {
      "model_module": "@jupyter-widgets/controls",
      "model_module_version": "1.5.0",
      "model_name": "FloatProgressModel",
      "state": {
       "bar_style": "danger",
       "description": "  0%",
       "layout": "IPY_MODEL_de811694e5d84dc9a116aa5a4616e837",
       "max": 344,
       "style": "IPY_MODEL_5f3fbd5fc1d5480f8513394afb02c69b"
      }
     },
     "15f1ea1bc48f4d0f85c4b56659a98cba": {
      "model_module": "@jupyter-widgets/controls",
      "model_module_version": "1.5.0",
      "model_name": "FloatProgressModel",
      "state": {
       "bar_style": "success",
       "description": "100%",
       "layout": "IPY_MODEL_b95d794418fc42ce9c2dd5d49cd3ae77",
       "max": 344,
       "style": "IPY_MODEL_b578d32a8527455581042039152dae30",
       "value": 344
      }
     },
     "16557cf8b2f441faaf079724b53e3dc8": {
      "model_module": "@jupyter-widgets/base",
      "model_module_version": "1.2.0",
      "model_name": "LayoutModel",
      "state": {}
     },
     "165614082ef6432abe1b016bb18c9c3d": {
      "model_module": "@jupyter-widgets/base",
      "model_module_version": "1.2.0",
      "model_name": "LayoutModel",
      "state": {}
     },
     "166d5f0d230a494a89957507462f151c": {
      "model_module": "@jupyter-widgets/controls",
      "model_module_version": "1.5.0",
      "model_name": "DescriptionStyleModel",
      "state": {
       "description_width": ""
      }
     },
     "168e5a29ab9e4941a416d53c81298e42": {
      "model_module": "@jupyter-widgets/base",
      "model_module_version": "1.2.0",
      "model_name": "LayoutModel",
      "state": {}
     },
     "16b604626c3544688d35a7b28200b8d9": {
      "model_module": "@jupyter-widgets/controls",
      "model_module_version": "1.5.0",
      "model_name": "FloatProgressModel",
      "state": {
       "bar_style": "success",
       "description": "100%",
       "layout": "IPY_MODEL_4145ff6e39444229a345d3ec8c340db1",
       "max": 344,
       "style": "IPY_MODEL_d83d338bc05247cab7b046de2664e3a3",
       "value": 344
      }
     },
     "170b04ed73144b7f9d21fb3a58f77c19": {
      "model_module": "@jupyter-widgets/base",
      "model_module_version": "1.2.0",
      "model_name": "LayoutModel",
      "state": {}
     },
     "1728c838e8e744e3925d333f53ae10f3": {
      "model_module": "@jupyter-widgets/base",
      "model_module_version": "1.2.0",
      "model_name": "LayoutModel",
      "state": {}
     },
     "1740efef788b43d89e8d5887dadca6e5": {
      "model_module": "@jupyter-widgets/controls",
      "model_module_version": "1.5.0",
      "model_name": "DescriptionStyleModel",
      "state": {
       "description_width": ""
      }
     },
     "174368a62f23455db0ad010bd870a846": {
      "model_module": "@jupyter-widgets/base",
      "model_module_version": "1.2.0",
      "model_name": "LayoutModel",
      "state": {}
     },
     "1788c3331c1e4cb7b1c58781a4ee9fe3": {
      "model_module": "@jupyter-widgets/controls",
      "model_module_version": "1.5.0",
      "model_name": "ProgressStyleModel",
      "state": {
       "description_width": "initial"
      }
     },
     "17a5b74bbebf4381a581bc5755e6ceb7": {
      "model_module": "@jupyter-widgets/controls",
      "model_module_version": "1.5.0",
      "model_name": "FloatProgressModel",
      "state": {
       "bar_style": "success",
       "description": "100%",
       "layout": "IPY_MODEL_331411c8bee84e119eb6ff4f41c2768f",
       "max": 344,
       "style": "IPY_MODEL_5150de5c74904df99d29c940b78456af",
       "value": 344
      }
     },
     "17bdf83e7cef458c93badfe773a22afb": {
      "model_module": "@jupyter-widgets/controls",
      "model_module_version": "1.5.0",
      "model_name": "HBoxModel",
      "state": {
       "children": [
        "IPY_MODEL_a26aac517a404450bdd16afc77cfed03",
        "IPY_MODEL_384fc85e416d4b11b1832ccfcb9aede0"
       ],
       "layout": "IPY_MODEL_af6ee0af83284e29b0092da5c4066c1a"
      }
     },
     "17be7fc5f6d9405e9da8dff371381121": {
      "model_module": "@jupyter-widgets/base",
      "model_module_version": "1.2.0",
      "model_name": "LayoutModel",
      "state": {}
     },
     "17d5b4da84b24613a02ec70bbe102219": {
      "model_module": "@jupyter-widgets/controls",
      "model_module_version": "1.5.0",
      "model_name": "DescriptionStyleModel",
      "state": {
       "description_width": ""
      }
     },
     "17ec92505b8e4a1f9599a2936b569464": {
      "model_module": "@jupyter-widgets/controls",
      "model_module_version": "1.5.0",
      "model_name": "HTMLModel",
      "state": {
       "layout": "IPY_MODEL_0b506f57b3ba43708f5e8a3f87a3aafa",
       "style": "IPY_MODEL_9dee78ee3c8c4d52a0f086b1ea6cd6df",
       "value": " 298/344 [02:49&lt;00:25,  1.78it/s, end_loss=1.15, jaccard=0.642, start_loss=1.15]"
      }
     },
     "180549dd04354b70a66de8f59ffb3bd8": {
      "model_module": "@jupyter-widgets/base",
      "model_module_version": "1.2.0",
      "model_name": "LayoutModel",
      "state": {}
     },
     "1830ceadb9b245e597eaef119a6fb253": {
      "model_module": "@jupyter-widgets/controls",
      "model_module_version": "1.5.0",
      "model_name": "HTMLModel",
      "state": {
       "layout": "IPY_MODEL_495ece4e1ff04ae0a9cc22fa907d4621",
       "style": "IPY_MODEL_a5e0d9cf22c442eba3017eb1a4ddceda",
       "value": " 344/344 [03:48&lt;00:00,  1.51it/s, end_loss=0.852, jaccard=0.748, start_loss=0.901]"
      }
     },
     "1832753c28f94a9bbfbe3bd7e55db9c8": {
      "model_module": "@jupyter-widgets/controls",
      "model_module_version": "1.5.0",
      "model_name": "DescriptionStyleModel",
      "state": {
       "description_width": ""
      }
     },
     "18487b45e1b648108202d4c176c36a9c": {
      "model_module": "@jupyter-widgets/base",
      "model_module_version": "1.2.0",
      "model_name": "LayoutModel",
      "state": {}
     },
     "185603991cbe43d6acaba2e9ede354b9": {
      "model_module": "@jupyter-widgets/controls",
      "model_module_version": "1.5.0",
      "model_name": "DescriptionStyleModel",
      "state": {
       "description_width": ""
      }
     },
     "185c07fa861940e88e7a7aa301f6b1f6": {
      "model_module": "@jupyter-widgets/base",
      "model_module_version": "1.2.0",
      "model_name": "LayoutModel",
      "state": {}
     },
     "185c80652f6c42309bc0cf0fdc2d0107": {
      "model_module": "@jupyter-widgets/controls",
      "model_module_version": "1.5.0",
      "model_name": "DescriptionStyleModel",
      "state": {
       "description_width": ""
      }
     },
     "188f82d8f7f047bda32daf919dd10ed3": {
      "model_module": "@jupyter-widgets/base",
      "model_module_version": "1.2.0",
      "model_name": "LayoutModel",
      "state": {}
     },
     "1898fc22dc45427e9cabe24ad9604010": {
      "model_module": "@jupyter-widgets/base",
      "model_module_version": "1.2.0",
      "model_name": "LayoutModel",
      "state": {}
     },
     "189c7987734a43619ed6f449367b14d4": {
      "model_module": "@jupyter-widgets/base",
      "model_module_version": "1.2.0",
      "model_name": "LayoutModel",
      "state": {}
     },
     "18a94090ff6544ffa9c23d96aa042de9": {
      "model_module": "@jupyter-widgets/controls",
      "model_module_version": "1.5.0",
      "model_name": "DescriptionStyleModel",
      "state": {
       "description_width": ""
      }
     },
     "18b02675e98e47ec92ca93c7a17a82ff": {
      "model_module": "@jupyter-widgets/base",
      "model_module_version": "1.2.0",
      "model_name": "LayoutModel",
      "state": {}
     },
     "18b7c95975764f2080bc72f8d9b635e1": {
      "model_module": "@jupyter-widgets/base",
      "model_module_version": "1.2.0",
      "model_name": "LayoutModel",
      "state": {}
     },
     "18ba6d6711aa4d7396685373fc71a520": {
      "model_module": "@jupyter-widgets/controls",
      "model_module_version": "1.5.0",
      "model_name": "FloatProgressModel",
      "state": {
       "bar_style": "success",
       "description": "100%",
       "layout": "IPY_MODEL_0955e799d2a446989bfe60c5737351cd",
       "max": 344,
       "style": "IPY_MODEL_3d5f65da6d7f4e02aa311990319d5b41",
       "value": 344
      }
     },
     "18d93f5cf9c548c3a63ab8a7ca67199d": {
      "model_module": "@jupyter-widgets/base",
      "model_module_version": "1.2.0",
      "model_name": "LayoutModel",
      "state": {}
     },
     "18e85bf5bb0146bda877420de5b9e19c": {
      "model_module": "@jupyter-widgets/base",
      "model_module_version": "1.2.0",
      "model_name": "LayoutModel",
      "state": {}
     },
     "18f1e1ffc4b7494e8cbcba69a5f9de0d": {
      "model_module": "@jupyter-widgets/base",
      "model_module_version": "1.2.0",
      "model_name": "LayoutModel",
      "state": {}
     },
     "1944a331a1884e6fb31958c30a650c81": {
      "model_module": "@jupyter-widgets/base",
      "model_module_version": "1.2.0",
      "model_name": "LayoutModel",
      "state": {}
     },
     "194fe457a25049518e672d1f38697e13": {
      "model_module": "@jupyter-widgets/base",
      "model_module_version": "1.2.0",
      "model_name": "LayoutModel",
      "state": {}
     },
     "1964973a8540491193a1dde6d909cdc0": {
      "model_module": "@jupyter-widgets/base",
      "model_module_version": "1.2.0",
      "model_name": "LayoutModel",
      "state": {}
     },
     "196c833c0ac145f88e7fad1e60b1c19f": {
      "model_module": "@jupyter-widgets/controls",
      "model_module_version": "1.5.0",
      "model_name": "FloatProgressModel",
      "state": {
       "bar_style": "success",
       "description": "100%",
       "layout": "IPY_MODEL_750eace49e904ffe99541ec61ab62e2d",
       "max": 344,
       "style": "IPY_MODEL_7fe1d4e72915483c99cf6a17923a48ad",
       "value": 344
      }
     },
     "198927960b3a4a21855992ec0fd3b4f8": {
      "model_module": "@jupyter-widgets/controls",
      "model_module_version": "1.5.0",
      "model_name": "ProgressStyleModel",
      "state": {
       "description_width": "initial"
      }
     },
     "19957d82f6c84e86bcdb531c263a1057": {
      "model_module": "@jupyter-widgets/base",
      "model_module_version": "1.2.0",
      "model_name": "LayoutModel",
      "state": {}
     },
     "19a1fa0f22ad4535b143d46725868e1c": {
      "model_module": "@jupyter-widgets/controls",
      "model_module_version": "1.5.0",
      "model_name": "ProgressStyleModel",
      "state": {
       "description_width": "initial"
      }
     },
     "19c4f01c503c4f4a95ef0a8fa1fbc5f9": {
      "model_module": "@jupyter-widgets/controls",
      "model_module_version": "1.5.0",
      "model_name": "HTMLModel",
      "state": {
       "layout": "IPY_MODEL_b5957b052c9146af879511ccc548b579",
       "style": "IPY_MODEL_a5418bdbd09e483ea20cb5a9e487a488",
       "value": " 344/344 [00:19&lt;00:00, 17.80it/s, end_loss=0.773, jaccard=0.712, start_loss=0.836]"
      }
     },
     "19c66bddcc1942eca5274f8f0695f1ca": {
      "model_module": "@jupyter-widgets/base",
      "model_module_version": "1.2.0",
      "model_name": "LayoutModel",
      "state": {}
     },
     "1a12460d9d534eb2ab6b042e41069e4f": {
      "model_module": "@jupyter-widgets/controls",
      "model_module_version": "1.5.0",
      "model_name": "HTMLModel",
      "state": {
       "layout": "IPY_MODEL_b6a7fa1abb704e46abb1324ebaf766b8",
       "style": "IPY_MODEL_560288ad2a8b4c898b266d0c8cc0541d",
       "value": " 344/344 [00:19&lt;00:00, 17.72it/s, end_loss=0.786, jaccard=0.702, start_loss=0.839]"
      }
     },
     "1a2bbb447d4f471b9c5b246c217bd2e6": {
      "model_module": "@jupyter-widgets/controls",
      "model_module_version": "1.5.0",
      "model_name": "FloatProgressModel",
      "state": {
       "bar_style": "success",
       "description": "100%",
       "layout": "IPY_MODEL_39faa32fcaf249d8be58d3fcdc8f9f76",
       "max": 344,
       "style": "IPY_MODEL_53786c3d30fa42fbb3c5d2fae04d1d76",
       "value": 344
      }
     },
     "1a33babac00b42caab78020e87f23c8d": {
      "model_module": "@jupyter-widgets/controls",
      "model_module_version": "1.5.0",
      "model_name": "HBoxModel",
      "state": {
       "children": [
        "IPY_MODEL_685b8c73119a4d4e8b1abf7b08ee8f9f",
        "IPY_MODEL_fcfee6a256db4f509661cb865e513bb9"
       ],
       "layout": "IPY_MODEL_c0daf9fd7ea44dc983ee2e2726deb558"
      }
     },
     "1a4676d615e44d43b2206e6e5339eefd": {
      "model_module": "@jupyter-widgets/controls",
      "model_module_version": "1.5.0",
      "model_name": "HTMLModel",
      "state": {
       "layout": "IPY_MODEL_0078e0ad5626428ead159d95daf358c1",
       "style": "IPY_MODEL_c12eddb6f9404ee49982fbeb3280de3a",
       "value": " 344/344 [00:17&lt;00:00, 19.23it/s, end_loss=1.52, jaccard=0.702, start_loss=1.56]"
      }
     },
     "1a94b584ad8447d188fd02a020ec0672": {
      "model_module": "@jupyter-widgets/base",
      "model_module_version": "1.2.0",
      "model_name": "LayoutModel",
      "state": {}
     },
     "1a9af3866b6a4c71b7a17e266fa802ac": {
      "model_module": "@jupyter-widgets/controls",
      "model_module_version": "1.5.0",
      "model_name": "DescriptionStyleModel",
      "state": {
       "description_width": ""
      }
     },
     "1ac5600364944d7b9a70e4aa84b9e81a": {
      "model_module": "@jupyter-widgets/controls",
      "model_module_version": "1.5.0",
      "model_name": "ProgressStyleModel",
      "state": {
       "description_width": "initial"
      }
     },
     "1ade40c9866c4c3b89b92dd9553a613a": {
      "model_module": "@jupyter-widgets/base",
      "model_module_version": "1.2.0",
      "model_name": "LayoutModel",
      "state": {}
     },
     "1af366517465465a9ddde13b74e44e61": {
      "model_module": "@jupyter-widgets/controls",
      "model_module_version": "1.5.0",
      "model_name": "ProgressStyleModel",
      "state": {
       "description_width": "initial"
      }
     },
     "1b1b8405e7ae4e01a46d6dd8595d868f": {
      "model_module": "@jupyter-widgets/controls",
      "model_module_version": "1.5.0",
      "model_name": "HBoxModel",
      "state": {
       "children": [
        "IPY_MODEL_53c2d2411bd84c36862016022472b47a",
        "IPY_MODEL_d71d4d81a03441e78813caecff48096e"
       ],
       "layout": "IPY_MODEL_dea06168d2594834a244ce16b8dcbd3d"
      }
     },
     "1b2874342c4643948d352eca6cc29fae": {
      "model_module": "@jupyter-widgets/controls",
      "model_module_version": "1.5.0",
      "model_name": "HBoxModel",
      "state": {
       "children": [
        "IPY_MODEL_a62537ec6c0b434b90d344a18fd56564",
        "IPY_MODEL_35521343789f441f99526468dde6fc31"
       ],
       "layout": "IPY_MODEL_815c2a9ef1434e66a7820dda4dd6ddd6"
      }
     },
     "1b388bf3ebf74ee2b25a29676f603ee2": {
      "model_module": "@jupyter-widgets/base",
      "model_module_version": "1.2.0",
      "model_name": "LayoutModel",
      "state": {}
     },
     "1b3b2cf4a0994aee9b74be1de9e74b4e": {
      "model_module": "@jupyter-widgets/controls",
      "model_module_version": "1.5.0",
      "model_name": "HBoxModel",
      "state": {
       "children": [
        "IPY_MODEL_c9a300772fad4a6c8671103f9105af79",
        "IPY_MODEL_e8519ff222ce4f7ebecd362259961c45"
       ],
       "layout": "IPY_MODEL_d271709b37f1440189ee858be9184f8b"
      }
     },
     "1b55fa3d110549f191703bb5e3988744": {
      "model_module": "@jupyter-widgets/controls",
      "model_module_version": "1.5.0",
      "model_name": "ProgressStyleModel",
      "state": {
       "description_width": "initial"
      }
     },
     "1ba0bce2e92448c3bb008ba785815bc2": {
      "model_module": "@jupyter-widgets/controls",
      "model_module_version": "1.5.0",
      "model_name": "FloatProgressModel",
      "state": {
       "bar_style": "success",
       "description": "100%",
       "layout": "IPY_MODEL_8ba8d8c3bcf44d8987b5f1534b56d9ba",
       "max": 344,
       "style": "IPY_MODEL_eb4e37ff11aa4156919e40604d1a53e3",
       "value": 344
      }
     },
     "1bc96e130c0a4883a09b2337cc1a4c4f": {
      "model_module": "@jupyter-widgets/base",
      "model_module_version": "1.2.0",
      "model_name": "LayoutModel",
      "state": {}
     },
     "1bdeb6d6e24745c89b4d5c075f37e790": {
      "model_module": "@jupyter-widgets/base",
      "model_module_version": "1.2.0",
      "model_name": "LayoutModel",
      "state": {}
     },
     "1be075fc83d64e009a9c703ab0a7aebb": {
      "model_module": "@jupyter-widgets/controls",
      "model_module_version": "1.5.0",
      "model_name": "FloatProgressModel",
      "state": {
       "bar_style": "success",
       "description": "100%",
       "layout": "IPY_MODEL_263b6c859a144f0e96e21b08f87e099a",
       "max": 344,
       "style": "IPY_MODEL_dc5f80ae6f754533a96534926fee6fe2",
       "value": 344
      }
     },
     "1bf4aa1a79df4231b55eac66d91ee942": {
      "model_module": "@jupyter-widgets/controls",
      "model_module_version": "1.5.0",
      "model_name": "HTMLModel",
      "state": {
       "layout": "IPY_MODEL_74dc4df65d9c4eea85f184b0d39b88e4",
       "style": "IPY_MODEL_9360dcfeff4f460f973e25ae01b25de7",
       "value": " 344/344 [51:39&lt;00:00,  9.01s/it, end_loss=0.799, jaccard=0.705, merged_loss=1.01, start_loss=0.831]"
      }
     },
     "1c20064abf364faaace2528f37bd054f": {
      "model_module": "@jupyter-widgets/base",
      "model_module_version": "1.2.0",
      "model_name": "LayoutModel",
      "state": {}
     },
     "1c26109a2f714c388f2e08f525017147": {
      "model_module": "@jupyter-widgets/base",
      "model_module_version": "1.2.0",
      "model_name": "LayoutModel",
      "state": {}
     },
     "1c3a0474631d4cd1b91338920ff32f35": {
      "model_module": "@jupyter-widgets/controls",
      "model_module_version": "1.5.0",
      "model_name": "FloatProgressModel",
      "state": {
       "bar_style": "success",
       "description": "100%",
       "layout": "IPY_MODEL_967efdf5340246a1904a5f737035fee2",
       "max": 344,
       "style": "IPY_MODEL_2531b00351bb4394b09348599e151f28",
       "value": 344
      }
     },
     "1c76e291ec5f4b70a3f88d8e942088f4": {
      "model_module": "@jupyter-widgets/controls",
      "model_module_version": "1.5.0",
      "model_name": "FloatProgressModel",
      "state": {
       "bar_style": "success",
       "description": "100%",
       "layout": "IPY_MODEL_6fceaecefea447e4b828f0fe4c1bba18",
       "max": 344,
       "style": "IPY_MODEL_ffdf8b562c134c489209f41ad6a772fd",
       "value": 344
      }
     },
     "1c8398ededdf4399a47cd9cb52c9b4f9": {
      "model_module": "@jupyter-widgets/base",
      "model_module_version": "1.2.0",
      "model_name": "LayoutModel",
      "state": {}
     },
     "1cbe0ecab17742039e6f1752c5718645": {
      "model_module": "@jupyter-widgets/controls",
      "model_module_version": "1.5.0",
      "model_name": "FloatProgressModel",
      "state": {
       "bar_style": "success",
       "description": "100%",
       "layout": "IPY_MODEL_f3231b66575c48729c8693d1787d7c13",
       "max": 344,
       "style": "IPY_MODEL_7abec336913a462c8108b930d8f4c562",
       "value": 344
      }
     },
     "1cd3a858920d4e56bdd7a68586c8ff7f": {
      "model_module": "@jupyter-widgets/base",
      "model_module_version": "1.2.0",
      "model_name": "LayoutModel",
      "state": {}
     },
     "1d00e7eef4bd47e194a5ff4343f83299": {
      "model_module": "@jupyter-widgets/controls",
      "model_module_version": "1.5.0",
      "model_name": "DescriptionStyleModel",
      "state": {
       "description_width": ""
      }
     },
     "1d0d2930ce5d4ff2a07ca590b222f884": {
      "model_module": "@jupyter-widgets/base",
      "model_module_version": "1.2.0",
      "model_name": "LayoutModel",
      "state": {}
     },
     "1d66625972ed46739ae3fe64c4a40af9": {
      "model_module": "@jupyter-widgets/controls",
      "model_module_version": "1.5.0",
      "model_name": "DescriptionStyleModel",
      "state": {
       "description_width": ""
      }
     },
     "1d6f7ef3c8834cd6866bca864fc93a7f": {
      "model_module": "@jupyter-widgets/controls",
      "model_module_version": "1.5.0",
      "model_name": "ProgressStyleModel",
      "state": {
       "description_width": "initial"
      }
     },
     "1d8664f481574393b8998873bc9f5ccb": {
      "model_module": "@jupyter-widgets/controls",
      "model_module_version": "1.5.0",
      "model_name": "FloatProgressModel",
      "state": {
       "bar_style": "success",
       "description": "100%",
       "layout": "IPY_MODEL_5d0bb88fd557402e97ccd054376aa9bb",
       "max": 344,
       "style": "IPY_MODEL_1ea2088756e64b099f8ff85f7f93db3f",
       "value": 344
      }
     },
     "1dbab23924ba4569bef87f73f14f4f44": {
      "model_module": "@jupyter-widgets/controls",
      "model_module_version": "1.5.0",
      "model_name": "FloatProgressModel",
      "state": {
       "bar_style": "success",
       "description": "100%",
       "layout": "IPY_MODEL_d2d2304cb2f54d579656aec9ffa357f6",
       "max": 344,
       "style": "IPY_MODEL_35a2576e3b2a4e5e95d5c6251d2cdae3",
       "value": 344
      }
     },
     "1dc1eda0917d465ab4b0737cf96ba1ae": {
      "model_module": "@jupyter-widgets/controls",
      "model_module_version": "1.5.0",
      "model_name": "FloatProgressModel",
      "state": {
       "bar_style": "success",
       "description": "100%",
       "layout": "IPY_MODEL_acc05ee066df4c4aa65fc60afbaec459",
       "max": 344,
       "style": "IPY_MODEL_2933848f1ee74cce85a2ff1247f637b8",
       "value": 344
      }
     },
     "1dc89b7a4ce94765a54b43ead51b9733": {
      "model_module": "@jupyter-widgets/controls",
      "model_module_version": "1.5.0",
      "model_name": "HTMLModel",
      "state": {
       "layout": "IPY_MODEL_d68f6f90f12047f19b6c09b157295837",
       "style": "IPY_MODEL_5aa12bfb64584cc4886372f5de91b3a4",
       "value": " 344/344 [02:35&lt;00:00,  2.21it/s, end_loss=0.844, jaccard=0.701, merged_loss=1.02, start_loss=0.863]"
      }
     },
     "1dc8febcf4b84c99b84c0143430e91af": {
      "model_module": "@jupyter-widgets/base",
      "model_module_version": "1.2.0",
      "model_name": "LayoutModel",
      "state": {}
     },
     "1de04026087f4c38b6f136d78bf5ebd7": {
      "model_module": "@jupyter-widgets/controls",
      "model_module_version": "1.5.0",
      "model_name": "DescriptionStyleModel",
      "state": {
       "description_width": ""
      }
     },
     "1e15ac77e8094b6cb93b20a404b99d01": {
      "model_module": "@jupyter-widgets/base",
      "model_module_version": "1.2.0",
      "model_name": "LayoutModel",
      "state": {}
     },
     "1e2521a647c3475ba9b4088379f7b59f": {
      "model_module": "@jupyter-widgets/base",
      "model_module_version": "1.2.0",
      "model_name": "LayoutModel",
      "state": {}
     },
     "1e435acee6c64e66a6720c1f71fc6bbe": {
      "model_module": "@jupyter-widgets/base",
      "model_module_version": "1.2.0",
      "model_name": "LayoutModel",
      "state": {}
     },
     "1e4d1b95b13c4a01a6eaf22cbc0a0f1a": {
      "model_module": "@jupyter-widgets/base",
      "model_module_version": "1.2.0",
      "model_name": "LayoutModel",
      "state": {}
     },
     "1e82a81d3a12400182aee30bb2baaaca": {
      "model_module": "@jupyter-widgets/controls",
      "model_module_version": "1.5.0",
      "model_name": "DescriptionStyleModel",
      "state": {
       "description_width": ""
      }
     },
     "1e9c0f47d9284040b69770571b371329": {
      "model_module": "@jupyter-widgets/controls",
      "model_module_version": "1.5.0",
      "model_name": "DescriptionStyleModel",
      "state": {
       "description_width": ""
      }
     },
     "1ea2088756e64b099f8ff85f7f93db3f": {
      "model_module": "@jupyter-widgets/controls",
      "model_module_version": "1.5.0",
      "model_name": "ProgressStyleModel",
      "state": {
       "description_width": "initial"
      }
     },
     "1ea7f385598145da9aee63289ff5f691": {
      "model_module": "@jupyter-widgets/base",
      "model_module_version": "1.2.0",
      "model_name": "LayoutModel",
      "state": {}
     },
     "1eac10481eef491997e826d14b3fe637": {
      "model_module": "@jupyter-widgets/base",
      "model_module_version": "1.2.0",
      "model_name": "LayoutModel",
      "state": {}
     },
     "1ecb2e8d512041bdaa7bbca4fd80d2ac": {
      "model_module": "@jupyter-widgets/controls",
      "model_module_version": "1.5.0",
      "model_name": "HBoxModel",
      "state": {
       "children": [
        "IPY_MODEL_f84963ef618040ce8b2c20f35d1065a2",
        "IPY_MODEL_eb11bb60a6e64ec297f9a8002ac2523d"
       ],
       "layout": "IPY_MODEL_889f88306d1249508e83688c41df903a"
      }
     },
     "1eccca5835ec4bf8b6056e445f2b2c76": {
      "model_module": "@jupyter-widgets/controls",
      "model_module_version": "1.5.0",
      "model_name": "DescriptionStyleModel",
      "state": {
       "description_width": ""
      }
     },
     "1ed08cada53d434ab631fbb43c280e43": {
      "model_module": "@jupyter-widgets/controls",
      "model_module_version": "1.5.0",
      "model_name": "HBoxModel",
      "state": {
       "children": [
        "IPY_MODEL_1cbe0ecab17742039e6f1752c5718645",
        "IPY_MODEL_5c154d232c4d4ca9be32a5fba3c92c23"
       ],
       "layout": "IPY_MODEL_e2bdef2f81954920845ab84ba8a2cb10"
      }
     },
     "1f0afc49ae4b423abb713bcfa9f85884": {
      "model_module": "@jupyter-widgets/controls",
      "model_module_version": "1.5.0",
      "model_name": "FloatProgressModel",
      "state": {
       "bar_style": "success",
       "description": "100%",
       "layout": "IPY_MODEL_e1e51ffcf401478ca09e62c4e46328a1",
       "max": 344,
       "style": "IPY_MODEL_7b6142d6847042ada94e159845abef6a",
       "value": 344
      }
     },
     "1f0c779899374775986c36664868f7bb": {
      "model_module": "@jupyter-widgets/controls",
      "model_module_version": "1.5.0",
      "model_name": "HTMLModel",
      "state": {
       "layout": "IPY_MODEL_29fa6473258a4b46a14c59821ee38f82",
       "style": "IPY_MODEL_5102a96713654729b044704c9beee00d",
       "value": " 344/344 [03:16&lt;00:00,  1.75it/s, end_loss=0.839, jaccard=0.702, start_loss=0.895]"
      }
     },
     "1f178865fd0c494fba6fbe371e01408b": {
      "model_module": "@jupyter-widgets/controls",
      "model_module_version": "1.5.0",
      "model_name": "DescriptionStyleModel",
      "state": {
       "description_width": ""
      }
     },
     "1f43ae1d8bdc405fb5a8450f869daeb5": {
      "model_module": "@jupyter-widgets/controls",
      "model_module_version": "1.5.0",
      "model_name": "FloatProgressModel",
      "state": {
       "bar_style": "success",
       "description": "100%",
       "layout": "IPY_MODEL_052c90eeeddc48998e1ed20db7021b90",
       "max": 344,
       "style": "IPY_MODEL_152768eef89a496883a9b8fe23b8a1f4",
       "value": 344
      }
     },
     "1f6b6f18ad5542519e420367028cf32a": {
      "model_module": "@jupyter-widgets/base",
      "model_module_version": "1.2.0",
      "model_name": "LayoutModel",
      "state": {}
     },
     "1f7f46c0c81c413d8d5b4ca4610f9cfc": {
      "model_module": "@jupyter-widgets/base",
      "model_module_version": "1.2.0",
      "model_name": "LayoutModel",
      "state": {}
     },
     "1f906bcc686b46b687c7d6eae1900eb0": {
      "model_module": "@jupyter-widgets/controls",
      "model_module_version": "1.5.0",
      "model_name": "HTMLModel",
      "state": {
       "layout": "IPY_MODEL_593735ac4a874f6c91dc30c027d2dab5",
       "style": "IPY_MODEL_25308b3d854d4abab9f9ea282b78ac08",
       "value": " 344/344 [04:12&lt;00:00,  1.36it/s, end_loss=1.72, jaccard=0.664, start_loss=1.76]"
      }
     },
     "1f9e8187befa4012adcd577ba99c9cb2": {
      "model_module": "@jupyter-widgets/controls",
      "model_module_version": "1.5.0",
      "model_name": "HTMLModel",
      "state": {
       "layout": "IPY_MODEL_ebd5d190d6604ccfa754f1b93bec2c1a",
       "style": "IPY_MODEL_e738ecb5a56948c9b8c136c9db0c9ba5",
       "value": " 344/344 [00:19&lt;00:00, 17.64it/s, end_loss=0.816, jaccard=0.705, start_loss=0.87]"
      }
     },
     "1fa482316190456582fa468a5ed7b572": {
      "model_module": "@jupyter-widgets/controls",
      "model_module_version": "1.5.0",
      "model_name": "FloatProgressModel",
      "state": {
       "bar_style": "success",
       "description": "100%",
       "layout": "IPY_MODEL_790dcb89acac44548314037ab360db0e",
       "max": 344,
       "style": "IPY_MODEL_f83bb39a991d4b30992fad9e806ea623",
       "value": 344
      }
     },
     "1fafae659cf04211bae64c57ddfc8db2": {
      "model_module": "@jupyter-widgets/controls",
      "model_module_version": "1.5.0",
      "model_name": "HTMLModel",
      "state": {
       "layout": "IPY_MODEL_5e2ef8cc5a814eb9a3711184f1d2d38b",
       "style": "IPY_MODEL_602343ef7eae49859783ab74278d7fef",
       "value": " 344/344 [18:49&lt;00:00,  3.28s/it, end_loss=1.41, jaccard=0.602, start_loss=1.39]"
      }
     },
     "1fb2eb0897054a70baed765c1f9f72b9": {
      "model_module": "@jupyter-widgets/base",
      "model_module_version": "1.2.0",
      "model_name": "LayoutModel",
      "state": {}
     },
     "1ff9a544bcc2490a974b35a1a88b292c": {
      "model_module": "@jupyter-widgets/controls",
      "model_module_version": "1.5.0",
      "model_name": "HTMLModel",
      "state": {
       "layout": "IPY_MODEL_07641711811f4c2f9ce8020ae567e936",
       "style": "IPY_MODEL_f3c888eff2cf4fbb80547e8630e16314",
       "value": " 344/344 [00:23&lt;00:00, 14.90it/s, end_loss=0.865, jaccard=0.709, start_loss=0.928]"
      }
     },
     "2032983420854767b2e87e3ba7e83cfd": {
      "model_module": "@jupyter-widgets/controls",
      "model_module_version": "1.5.0",
      "model_name": "DescriptionStyleModel",
      "state": {
       "description_width": ""
      }
     },
     "2036a28b615d433992f4f7d22672d804": {
      "model_module": "@jupyter-widgets/controls",
      "model_module_version": "1.5.0",
      "model_name": "HBoxModel",
      "state": {
       "children": [
        "IPY_MODEL_0e60c50335024d0c94051df8b7ee723a",
        "IPY_MODEL_699635ee61d144e7a07199aecb41eb67"
       ],
       "layout": "IPY_MODEL_4607e9ae73bc472a89f364c858c7c695"
      }
     },
     "203aebb2b68b4adea1d30d654b1b4f66": {
      "model_module": "@jupyter-widgets/controls",
      "model_module_version": "1.5.0",
      "model_name": "HTMLModel",
      "state": {
       "layout": "IPY_MODEL_9d7e85cd9cd74d4abb099a9d93645f4e",
       "style": "IPY_MODEL_647c2438ea7e43e08adaee917c999741",
       "value": " 344/344 [08:09&lt;00:00,  1.42s/it, end_loss=0.776, jaccard=0.713, start_loss=0.823]"
      }
     },
     "203f804c42ee48e3bd5778a9e144f6c2": {
      "model_module": "@jupyter-widgets/base",
      "model_module_version": "1.2.0",
      "model_name": "LayoutModel",
      "state": {}
     },
     "20746faec746436ca6f470c9630f53c3": {
      "model_module": "@jupyter-widgets/controls",
      "model_module_version": "1.5.0",
      "model_name": "HTMLModel",
      "state": {
       "layout": "IPY_MODEL_1b388bf3ebf74ee2b25a29676f603ee2",
       "style": "IPY_MODEL_8da9da7a5a464f1e89adc9dbcb1eb614",
       "value": " 344/344 [06:03&lt;00:00,  1.06s/it, end_loss=0.744, jaccard=0.72, start_loss=0.837]"
      }
     },
     "207d164e434445d3a12c48aeb5b852c0": {
      "model_module": "@jupyter-widgets/controls",
      "model_module_version": "1.5.0",
      "model_name": "ProgressStyleModel",
      "state": {
       "description_width": "initial"
      }
     },
     "208bb2737b7046708b0469c9b8cde5b0": {
      "model_module": "@jupyter-widgets/controls",
      "model_module_version": "1.5.0",
      "model_name": "ProgressStyleModel",
      "state": {
       "description_width": "initial"
      }
     },
     "208dd70cec93407d9715eef6b1d03aa3": {
      "model_module": "@jupyter-widgets/controls",
      "model_module_version": "1.5.0",
      "model_name": "ProgressStyleModel",
      "state": {
       "description_width": "initial"
      }
     },
     "2095628c4e404efb98d97c84d49edb2c": {
      "model_module": "@jupyter-widgets/base",
      "model_module_version": "1.2.0",
      "model_name": "LayoutModel",
      "state": {}
     },
     "20abae7d8f954643995b0adc3d8dee07": {
      "model_module": "@jupyter-widgets/controls",
      "model_module_version": "1.5.0",
      "model_name": "HBoxModel",
      "state": {
       "children": [
        "IPY_MODEL_edbde45c453340aab827a4c076be4c4e",
        "IPY_MODEL_b35aee10219a4181930dffaae842ad8d"
       ],
       "layout": "IPY_MODEL_b22698de2a094806889072a5df5200f9"
      }
     },
     "20dbe315cbfc4cd388fc071cd5a21e7d": {
      "model_module": "@jupyter-widgets/base",
      "model_module_version": "1.2.0",
      "model_name": "LayoutModel",
      "state": {}
     },
     "20e758658c684c55ac6157fa3022801d": {
      "model_module": "@jupyter-widgets/controls",
      "model_module_version": "1.5.0",
      "model_name": "ProgressStyleModel",
      "state": {
       "description_width": "initial"
      }
     },
     "20e7641058164801865d3b5739e9d2bb": {
      "model_module": "@jupyter-widgets/base",
      "model_module_version": "1.2.0",
      "model_name": "LayoutModel",
      "state": {}
     },
     "21146d04b2a64015b27da48868a7f079": {
      "model_module": "@jupyter-widgets/controls",
      "model_module_version": "1.5.0",
      "model_name": "ProgressStyleModel",
      "state": {
       "description_width": "initial"
      }
     },
     "213802b8fc9f4ae5a5e0209ccc8eba5c": {
      "model_module": "@jupyter-widgets/controls",
      "model_module_version": "1.5.0",
      "model_name": "ProgressStyleModel",
      "state": {
       "description_width": "initial"
      }
     },
     "2154291fe04048c095d9642a49945ec1": {
      "model_module": "@jupyter-widgets/controls",
      "model_module_version": "1.5.0",
      "model_name": "ProgressStyleModel",
      "state": {
       "description_width": "initial"
      }
     },
     "216600a3ecee45e08f659b5769ff4b45": {
      "model_module": "@jupyter-widgets/controls",
      "model_module_version": "1.5.0",
      "model_name": "ProgressStyleModel",
      "state": {
       "description_width": "initial"
      }
     },
     "216ebe7762ab48c3a177570dfa55048f": {
      "model_module": "@jupyter-widgets/controls",
      "model_module_version": "1.5.0",
      "model_name": "HTMLModel",
      "state": {
       "layout": "IPY_MODEL_9ebcec74e619498babafc6d141b0b74a",
       "style": "IPY_MODEL_c9bbdc887e7c45fbb8e858fc7719fd8d",
       "value": " 344/344 [04:08&lt;00:00,  1.38it/s, end_loss=0.782, jaccard=0.705, merged_loss=0.995, start_loss=0.833]"
      }
     },
     "21a0f8ccd4f34032b8db7fcc1a0bcf77": {
      "model_module": "@jupyter-widgets/controls",
      "model_module_version": "1.5.0",
      "model_name": "ProgressStyleModel",
      "state": {
       "description_width": "initial"
      }
     },
     "21bf7d5c84124991aee8d20c45d0892e": {
      "model_module": "@jupyter-widgets/base",
      "model_module_version": "1.2.0",
      "model_name": "LayoutModel",
      "state": {}
     },
     "21e881d283444342a97f4ce6fbfd19e6": {
      "model_module": "@jupyter-widgets/controls",
      "model_module_version": "1.5.0",
      "model_name": "DescriptionStyleModel",
      "state": {
       "description_width": ""
      }
     },
     "22146197f3444d56b96c97f47280aece": {
      "model_module": "@jupyter-widgets/base",
      "model_module_version": "1.2.0",
      "model_name": "LayoutModel",
      "state": {}
     },
     "22209110bcc94845a76f1d47a402ddb4": {
      "model_module": "@jupyter-widgets/base",
      "model_module_version": "1.2.0",
      "model_name": "LayoutModel",
      "state": {}
     },
     "222eaa324fef4668913ca774179c442a": {
      "model_module": "@jupyter-widgets/base",
      "model_module_version": "1.2.0",
      "model_name": "LayoutModel",
      "state": {}
     },
     "223d719be108441eb7c651ec34fdd192": {
      "model_module": "@jupyter-widgets/controls",
      "model_module_version": "1.5.0",
      "model_name": "HTMLModel",
      "state": {
       "layout": "IPY_MODEL_1898fc22dc45427e9cabe24ad9604010",
       "style": "IPY_MODEL_986b32f4db5b4db78a4a12f8a2de907d",
       "value": " 344/344 [05:26&lt;00:00,  1.05it/s, end_loss=0.825, jaccard=0.752, start_loss=0.904]"
      }
     },
     "2268e6e88d5b4cba83d6b62537a79421": {
      "model_module": "@jupyter-widgets/controls",
      "model_module_version": "1.5.0",
      "model_name": "FloatProgressModel",
      "state": {
       "bar_style": "success",
       "description": "100%",
       "layout": "IPY_MODEL_eb1890f2892c47afba88ad4689251aee",
       "max": 344,
       "style": "IPY_MODEL_46208a3de9614721aee3dc443e9d0c9b",
       "value": 344
      }
     },
     "22698a72f1f74127ab4e579b2d056216": {
      "model_module": "@jupyter-widgets/base",
      "model_module_version": "1.2.0",
      "model_name": "LayoutModel",
      "state": {}
     },
     "22733be37c5c4180888f1090e578707a": {
      "model_module": "@jupyter-widgets/controls",
      "model_module_version": "1.5.0",
      "model_name": "HBoxModel",
      "state": {
       "children": [
        "IPY_MODEL_d50589f5c2664fdbbef4893c663d9b2e",
        "IPY_MODEL_4cc2ff664393412e91b06d050bbc181e"
       ],
       "layout": "IPY_MODEL_1e4d1b95b13c4a01a6eaf22cbc0a0f1a"
      }
     },
     "227ffcfc34fc4f92a05f0b216e452fb3": {
      "model_module": "@jupyter-widgets/controls",
      "model_module_version": "1.5.0",
      "model_name": "FloatProgressModel",
      "state": {
       "bar_style": "danger",
       "description": "  0%",
       "layout": "IPY_MODEL_6d8e763563e24bd8a783f28bd4d2136a",
       "max": 344,
       "style": "IPY_MODEL_12d164b50fe14912add5b5ab20c9b17a"
      }
     },
     "22929ec90b744663a259f5502d0abaa6": {
      "model_module": "@jupyter-widgets/controls",
      "model_module_version": "1.5.0",
      "model_name": "HBoxModel",
      "state": {
       "children": [
        "IPY_MODEL_39ec4804eb8d4c9d8aae7dae339fd93a",
        "IPY_MODEL_4e813409152a49f2b7a1c9b9ee9270cd"
       ],
       "layout": "IPY_MODEL_301d24b82d2a4018a9f5bef564390d7e"
      }
     },
     "22bd260490804b099c39400db1dc5f61": {
      "model_module": "@jupyter-widgets/controls",
      "model_module_version": "1.5.0",
      "model_name": "HBoxModel",
      "state": {
       "children": [
        "IPY_MODEL_45b668fa13b448fd8be80297e67e9258",
        "IPY_MODEL_1a12460d9d534eb2ab6b042e41069e4f"
       ],
       "layout": "IPY_MODEL_f4f02340794b4516a20983038eb06048"
      }
     },
     "22ec3db14be54be5a5d007b20136606b": {
      "model_module": "@jupyter-widgets/controls",
      "model_module_version": "1.5.0",
      "model_name": "FloatProgressModel",
      "state": {
       "bar_style": "success",
       "description": "100%",
       "layout": "IPY_MODEL_108d0cc6b35f46a48d4119caf9dac669",
       "max": 344,
       "style": "IPY_MODEL_8c4ca182266f4ba38d6a4c3167ac98b2",
       "value": 344
      }
     },
     "230668487b6a412c8de4147893927447": {
      "model_module": "@jupyter-widgets/controls",
      "model_module_version": "1.5.0",
      "model_name": "HBoxModel",
      "state": {
       "children": [
        "IPY_MODEL_f7c8655e6900434fb94a1f0d15d55909",
        "IPY_MODEL_d05296e0a65d485195bc99724a4c5cc7"
       ],
       "layout": "IPY_MODEL_5812a50cf26e468eab2c85272fa6634e"
      }
     },
     "232fbf6783ff4830a3f264e96b647c80": {
      "model_module": "@jupyter-widgets/controls",
      "model_module_version": "1.5.0",
      "model_name": "HTMLModel",
      "state": {
       "layout": "IPY_MODEL_2891c73f8043432a9fdd6dad0a9f7cfa",
       "style": "IPY_MODEL_070a3a5cce2745f59797b441cb5e9a97",
       "value": " 102/344 [00:58&lt;02:20,  1.72it/s, end_loss=0.817, jaccard=0.721, start_loss=0.836]"
      }
     },
     "2344dc170c4c45208df067a0332bdc15": {
      "model_module": "@jupyter-widgets/controls",
      "model_module_version": "1.5.0",
      "model_name": "DescriptionStyleModel",
      "state": {
       "description_width": ""
      }
     },
     "236a2ffd79af4b08b62d00a39f9adac6": {
      "model_module": "@jupyter-widgets/controls",
      "model_module_version": "1.5.0",
      "model_name": "HBoxModel",
      "state": {
       "children": [
        "IPY_MODEL_10de7441ef0340dfb5d4bf3053cf5544",
        "IPY_MODEL_03970f9dce5b4b17af3c99242b66748d"
       ],
       "layout": "IPY_MODEL_0af5b3518ba74db9a2f58e3b2f17a818"
      }
     },
     "23a3e3a2175f478b8c6294f51cd32da6": {
      "model_module": "@jupyter-widgets/controls",
      "model_module_version": "1.5.0",
      "model_name": "HBoxModel",
      "state": {
       "children": [
        "IPY_MODEL_4c642cfa7a65412b8e2526eb345b8639",
        "IPY_MODEL_3b96c397a0ea4416a5a5b1f9ae930a2c"
       ],
       "layout": "IPY_MODEL_779fed5b9b104dea9eda54b52f7c410a"
      }
     },
     "23bfa95d46bf4c2ebd4e01c8ed515a12": {
      "model_module": "@jupyter-widgets/base",
      "model_module_version": "1.2.0",
      "model_name": "LayoutModel",
      "state": {}
     },
     "23f2816e19f24f188af7221143fbbd58": {
      "model_module": "@jupyter-widgets/base",
      "model_module_version": "1.2.0",
      "model_name": "LayoutModel",
      "state": {}
     },
     "2400522797314f568aab44d34f0f0a50": {
      "model_module": "@jupyter-widgets/base",
      "model_module_version": "1.2.0",
      "model_name": "LayoutModel",
      "state": {}
     },
     "24029ac1c03147a383c22a60723bfb01": {
      "model_module": "@jupyter-widgets/controls",
      "model_module_version": "1.5.0",
      "model_name": "HBoxModel",
      "state": {
       "children": [
        "IPY_MODEL_315ac7a89bf946dd8f27cfcf670abc7f",
        "IPY_MODEL_d7f8d193ce834f138b26c5d29c71fb37"
       ],
       "layout": "IPY_MODEL_4093e5045e244bc9b3dc4cfb026a7be4"
      }
     },
     "241695f650004d189d18d3ce72fbe8f3": {
      "model_module": "@jupyter-widgets/base",
      "model_module_version": "1.2.0",
      "model_name": "LayoutModel",
      "state": {}
     },
     "243b44273a9042839686a965e3b2096f": {
      "model_module": "@jupyter-widgets/controls",
      "model_module_version": "1.5.0",
      "model_name": "HBoxModel",
      "state": {
       "children": [
        "IPY_MODEL_9db3abf4daf04065aa45b5a911559408",
        "IPY_MODEL_d1c1e355ecf44c5289827aa9885708aa"
       ],
       "layout": "IPY_MODEL_933dc349dd3541948fc63599ffc2cbce"
      }
     },
     "2446fee02a7b4f66ab1bf32b5e8c017f": {
      "model_module": "@jupyter-widgets/base",
      "model_module_version": "1.2.0",
      "model_name": "LayoutModel",
      "state": {}
     },
     "246a17f60c284a80a7187b5b382f1ceb": {
      "model_module": "@jupyter-widgets/controls",
      "model_module_version": "1.5.0",
      "model_name": "FloatProgressModel",
      "state": {
       "bar_style": "success",
       "description": "100%",
       "layout": "IPY_MODEL_1f7f46c0c81c413d8d5b4ca4610f9cfc",
       "max": 344,
       "style": "IPY_MODEL_d870aefb98f94cc398c8f4538d73c830",
       "value": 344
      }
     },
     "248210d368dc44858bfc93fd8bc82013": {
      "model_module": "@jupyter-widgets/base",
      "model_module_version": "1.2.0",
      "model_name": "LayoutModel",
      "state": {}
     },
     "248caee746954fd785e4e72a41444280": {
      "model_module": "@jupyter-widgets/controls",
      "model_module_version": "1.5.0",
      "model_name": "FloatProgressModel",
      "state": {
       "bar_style": "success",
       "description": "100%",
       "layout": "IPY_MODEL_d582c6b9597a4ae7a3152b01f88e9460",
       "max": 344,
       "style": "IPY_MODEL_19a1fa0f22ad4535b143d46725868e1c",
       "value": 344
      }
     },
     "249bf7bf26154e639b03ef180b20a912": {
      "model_module": "@jupyter-widgets/controls",
      "model_module_version": "1.5.0",
      "model_name": "ProgressStyleModel",
      "state": {
       "description_width": "initial"
      }
     },
     "24b64c1ee59f434fb1aa6e4a476ba060": {
      "model_module": "@jupyter-widgets/base",
      "model_module_version": "1.2.0",
      "model_name": "LayoutModel",
      "state": {}
     },
     "24c2a3558cff4a6d8d007693b0f84523": {
      "model_module": "@jupyter-widgets/base",
      "model_module_version": "1.2.0",
      "model_name": "LayoutModel",
      "state": {}
     },
     "24c8dd3c7e75458abd86d25e6ed0a2c0": {
      "model_module": "@jupyter-widgets/base",
      "model_module_version": "1.2.0",
      "model_name": "LayoutModel",
      "state": {}
     },
     "24d77f4f19e34087afe6aa5f0fc73e28": {
      "model_module": "@jupyter-widgets/base",
      "model_module_version": "1.2.0",
      "model_name": "LayoutModel",
      "state": {}
     },
     "24ed428696ce4b639651f9505f9c2c34": {
      "model_module": "@jupyter-widgets/base",
      "model_module_version": "1.2.0",
      "model_name": "LayoutModel",
      "state": {}
     },
     "251ce494fb83406aa7beb2b54a9f44cb": {
      "model_module": "@jupyter-widgets/controls",
      "model_module_version": "1.5.0",
      "model_name": "DescriptionStyleModel",
      "state": {
       "description_width": ""
      }
     },
     "25308b3d854d4abab9f9ea282b78ac08": {
      "model_module": "@jupyter-widgets/controls",
      "model_module_version": "1.5.0",
      "model_name": "DescriptionStyleModel",
      "state": {
       "description_width": ""
      }
     },
     "2531b00351bb4394b09348599e151f28": {
      "model_module": "@jupyter-widgets/controls",
      "model_module_version": "1.5.0",
      "model_name": "ProgressStyleModel",
      "state": {
       "description_width": "initial"
      }
     },
     "25608165ac6c4cc8a4e6350ce3bad4c8": {
      "model_module": "@jupyter-widgets/base",
      "model_module_version": "1.2.0",
      "model_name": "LayoutModel",
      "state": {}
     },
     "2564cb672a9a4bb994d96120fd9a9d9b": {
      "model_module": "@jupyter-widgets/controls",
      "model_module_version": "1.5.0",
      "model_name": "ProgressStyleModel",
      "state": {
       "description_width": "initial"
      }
     },
     "25700ad98eba4a1a96d499345967c3dc": {
      "model_module": "@jupyter-widgets/base",
      "model_module_version": "1.2.0",
      "model_name": "LayoutModel",
      "state": {}
     },
     "257bdd32ad124c079113c6166a6e7b31": {
      "model_module": "@jupyter-widgets/controls",
      "model_module_version": "1.5.0",
      "model_name": "DescriptionStyleModel",
      "state": {
       "description_width": ""
      }
     },
     "25acc18e211b4fed8e77811ac4b17e53": {
      "model_module": "@jupyter-widgets/controls",
      "model_module_version": "1.5.0",
      "model_name": "HBoxModel",
      "state": {
       "children": [
        "IPY_MODEL_0d1d2a81b87242cba1ae4195ac4bf7c4",
        "IPY_MODEL_1340bc4b5c5e4de1ae77ee7c06bb6758"
       ],
       "layout": "IPY_MODEL_ebad3adc2b204272a5f5250fa3cc03f2"
      }
     },
     "25dc33ff955a48b29712a3afeb87c4e0": {
      "model_module": "@jupyter-widgets/base",
      "model_module_version": "1.2.0",
      "model_name": "LayoutModel",
      "state": {}
     },
     "261cb5bf3688465a8da2eb9da0f43f2c": {
      "model_module": "@jupyter-widgets/controls",
      "model_module_version": "1.5.0",
      "model_name": "DescriptionStyleModel",
      "state": {
       "description_width": ""
      }
     },
     "263046d51ef549f289aea3858cb0b5d7": {
      "model_module": "@jupyter-widgets/controls",
      "model_module_version": "1.5.0",
      "model_name": "HBoxModel",
      "state": {
       "children": [
        "IPY_MODEL_1f0afc49ae4b423abb713bcfa9f85884",
        "IPY_MODEL_8bd56146d6f04643902002a942e740c6"
       ],
       "layout": "IPY_MODEL_7ec480cceed64c8eac16a99912de4bbb"
      }
     },
     "263b6c859a144f0e96e21b08f87e099a": {
      "model_module": "@jupyter-widgets/base",
      "model_module_version": "1.2.0",
      "model_name": "LayoutModel",
      "state": {}
     },
     "269228786d4e4828a1cbdf87a8e2cb48": {
      "model_module": "@jupyter-widgets/controls",
      "model_module_version": "1.5.0",
      "model_name": "HBoxModel",
      "state": {
       "children": [
        "IPY_MODEL_4e9a35d4eb8c450fb5e35859a56e0180",
        "IPY_MODEL_ffcec12f8e6640a990360020a077416f"
       ],
       "layout": "IPY_MODEL_189c7987734a43619ed6f449367b14d4"
      }
     },
     "2696ee001cf84bcdb65d954ee158d1c4": {
      "model_module": "@jupyter-widgets/base",
      "model_module_version": "1.2.0",
      "model_name": "LayoutModel",
      "state": {}
     },
     "26bd52c5cf274ea5aad2a72639a752a7": {
      "model_module": "@jupyter-widgets/base",
      "model_module_version": "1.2.0",
      "model_name": "LayoutModel",
      "state": {}
     },
     "26c19b29aaa6489fba0fec1c81d8a270": {
      "model_module": "@jupyter-widgets/controls",
      "model_module_version": "1.5.0",
      "model_name": "ProgressStyleModel",
      "state": {
       "description_width": "initial"
      }
     },
     "26d4e707cfcc43aea8e62e1ce44e55a4": {
      "model_module": "@jupyter-widgets/controls",
      "model_module_version": "1.5.0",
      "model_name": "HTMLModel",
      "state": {
       "layout": "IPY_MODEL_38b269803ba44c638d9ca8934b5ebd9f",
       "style": "IPY_MODEL_bb3547d3cfcf4b6e81bca447fd43e2cd",
       "value": " 344/344 [29:37&lt;00:00,  5.17s/it, end_loss=0.703, jaccard=0.725, merged_loss=1, start_loss=0.762]"
      }
     },
     "26e544d76a09496b91964581ba90dfda": {
      "model_module": "@jupyter-widgets/base",
      "model_module_version": "1.2.0",
      "model_name": "LayoutModel",
      "state": {}
     },
     "26e5ab2835e049ee9f1aab64ab11e3ae": {
      "model_module": "@jupyter-widgets/controls",
      "model_module_version": "1.5.0",
      "model_name": "ProgressStyleModel",
      "state": {
       "description_width": "initial"
      }
     },
     "26e963d68d404d6680bbc8ebaf4e556c": {
      "model_module": "@jupyter-widgets/controls",
      "model_module_version": "1.5.0",
      "model_name": "ProgressStyleModel",
      "state": {
       "description_width": "initial"
      }
     },
     "26ea568295c14f658f69ad2fa3ff1e32": {
      "model_module": "@jupyter-widgets/controls",
      "model_module_version": "1.5.0",
      "model_name": "HTMLModel",
      "state": {
       "layout": "IPY_MODEL_1bc96e130c0a4883a09b2337cc1a4c4f",
       "style": "IPY_MODEL_35ade4f3e74d4ab8964abfe5f97f13cc",
       "value": " 344/344 [00:19&lt;00:00, 18.03it/s, end_loss=0.743, jaccard=0.718, merged_loss=0.988, start_loss=0.824]"
      }
     },
     "26f23042d0534df8adbef72d95ba478a": {
      "model_module": "@jupyter-widgets/base",
      "model_module_version": "1.2.0",
      "model_name": "LayoutModel",
      "state": {}
     },
     "26f51cbc11f04ab3a75a01879fc31cef": {
      "model_module": "@jupyter-widgets/base",
      "model_module_version": "1.2.0",
      "model_name": "LayoutModel",
      "state": {}
     },
     "2717ea7e0e394d4c9bbab78622231e7b": {
      "model_module": "@jupyter-widgets/base",
      "model_module_version": "1.2.0",
      "model_name": "LayoutModel",
      "state": {}
     },
     "2790b38f77f6457caa55cd248975f225": {
      "model_module": "@jupyter-widgets/controls",
      "model_module_version": "1.5.0",
      "model_name": "HBoxModel",
      "state": {
       "children": [
        "IPY_MODEL_899c8bb2d0804fa796cacd6075a3e5fe",
        "IPY_MODEL_86a04ea22dd04f1c9f263994ddada961"
       ],
       "layout": "IPY_MODEL_afd3fb6000da4987aac779cccaf5a43c"
      }
     },
     "27c13b6a664a4e70bc40ad45810c6c0a": {
      "model_module": "@jupyter-widgets/controls",
      "model_module_version": "1.5.0",
      "model_name": "ProgressStyleModel",
      "state": {
       "description_width": "initial"
      }
     },
     "28203db45c3046b99c7c556e6fac23f2": {
      "model_module": "@jupyter-widgets/base",
      "model_module_version": "1.2.0",
      "model_name": "LayoutModel",
      "state": {}
     },
     "28235a7e7f0a40bca7314bcda05a68d2": {
      "model_module": "@jupyter-widgets/controls",
      "model_module_version": "1.5.0",
      "model_name": "DescriptionStyleModel",
      "state": {
       "description_width": ""
      }
     },
     "28287023ca114d50a9f8660a6743e4a4": {
      "model_module": "@jupyter-widgets/base",
      "model_module_version": "1.2.0",
      "model_name": "LayoutModel",
      "state": {}
     },
     "2857c730537549bb8fe1e066f34fc11f": {
      "model_module": "@jupyter-widgets/controls",
      "model_module_version": "1.5.0",
      "model_name": "FloatProgressModel",
      "state": {
       "bar_style": "success",
       "description": "100%",
       "layout": "IPY_MODEL_19c66bddcc1942eca5274f8f0695f1ca",
       "max": 344,
       "style": "IPY_MODEL_6c11108eeeb4484a8d1d756ae716ce35",
       "value": 344
      }
     },
     "285ac3fa3f4d40a79399b24755f5c231": {
      "model_module": "@jupyter-widgets/controls",
      "model_module_version": "1.5.0",
      "model_name": "ProgressStyleModel",
      "state": {
       "description_width": "initial"
      }
     },
     "287a57cc2b564c429b1959cc93f949be": {
      "model_module": "@jupyter-widgets/base",
      "model_module_version": "1.2.0",
      "model_name": "LayoutModel",
      "state": {}
     },
     "288586fde7d44e23a518660e90cfbd4e": {
      "model_module": "@jupyter-widgets/base",
      "model_module_version": "1.2.0",
      "model_name": "LayoutModel",
      "state": {}
     },
     "2891c73f8043432a9fdd6dad0a9f7cfa": {
      "model_module": "@jupyter-widgets/base",
      "model_module_version": "1.2.0",
      "model_name": "LayoutModel",
      "state": {}
     },
     "28a578722ac7468399ba5bc94fbc2b6c": {
      "model_module": "@jupyter-widgets/controls",
      "model_module_version": "1.5.0",
      "model_name": "HBoxModel",
      "state": {
       "children": [
        "IPY_MODEL_d8f92d8cc82840e79cb648b6586292ae",
        "IPY_MODEL_19c4f01c503c4f4a95ef0a8fa1fbc5f9"
       ],
       "layout": "IPY_MODEL_ff1b947815f748d58517de9f0aa231f9"
      }
     },
     "28b940f451fa4ebf98405b4e31e76a69": {
      "model_module": "@jupyter-widgets/controls",
      "model_module_version": "1.5.0",
      "model_name": "FloatProgressModel",
      "state": {
       "bar_style": "success",
       "description": "100%",
       "layout": "IPY_MODEL_4fc3441843234af5b11f11bbe1ad2890",
       "max": 344,
       "style": "IPY_MODEL_31acfca9f4a246bcb97dd84175f4db7c",
       "value": 344
      }
     },
     "28c301ea8c5e4fe995448924aa54dd90": {
      "model_module": "@jupyter-widgets/base",
      "model_module_version": "1.2.0",
      "model_name": "LayoutModel",
      "state": {}
     },
     "28d1d943e8494ceb8f88dc07c0cb9718": {
      "model_module": "@jupyter-widgets/base",
      "model_module_version": "1.2.0",
      "model_name": "LayoutModel",
      "state": {}
     },
     "28e83dcd129a42d8a5622928b623813c": {
      "model_module": "@jupyter-widgets/base",
      "model_module_version": "1.2.0",
      "model_name": "LayoutModel",
      "state": {}
     },
     "2933848f1ee74cce85a2ff1247f637b8": {
      "model_module": "@jupyter-widgets/controls",
      "model_module_version": "1.5.0",
      "model_name": "ProgressStyleModel",
      "state": {
       "description_width": "initial"
      }
     },
     "29426562a9d04a669c0fc9e0f040156a": {
      "model_module": "@jupyter-widgets/base",
      "model_module_version": "1.2.0",
      "model_name": "LayoutModel",
      "state": {}
     },
     "294affe71f9942309676afbec625e7b5": {
      "model_module": "@jupyter-widgets/controls",
      "model_module_version": "1.5.0",
      "model_name": "HTMLModel",
      "state": {
       "layout": "IPY_MODEL_d950ee5b04754b10b100ff139e273333",
       "style": "IPY_MODEL_0c70f0651b6c49a9931e1dd05f2c6c2c",
       "value": " 344/344 [03:46&lt;00:00,  1.52it/s, end_loss=1.5, jaccard=0.705, start_loss=1.55]"
      }
     },
     "2963694dfce8443a809125e2f0572baa": {
      "model_module": "@jupyter-widgets/controls",
      "model_module_version": "1.5.0",
      "model_name": "DescriptionStyleModel",
      "state": {
       "description_width": ""
      }
     },
     "297f4a27fd52407eb675f0abf828c6d6": {
      "model_module": "@jupyter-widgets/base",
      "model_module_version": "1.2.0",
      "model_name": "LayoutModel",
      "state": {}
     },
     "29915bcb3aec4fdb98164c758fbb7ac2": {
      "model_module": "@jupyter-widgets/controls",
      "model_module_version": "1.5.0",
      "model_name": "ProgressStyleModel",
      "state": {
       "description_width": "initial"
      }
     },
     "29aa2318dd904b6f8cf36e6fcd3c6241": {
      "model_module": "@jupyter-widgets/base",
      "model_module_version": "1.2.0",
      "model_name": "LayoutModel",
      "state": {}
     },
     "29aa621cb18f4d26a02b6ca140fc18a8": {
      "model_module": "@jupyter-widgets/controls",
      "model_module_version": "1.5.0",
      "model_name": "HBoxModel",
      "state": {
       "children": [
        "IPY_MODEL_a20e9d6c6eab460abc5f11972fb26ea8",
        "IPY_MODEL_5841882817c14146994432349d3ab424"
       ],
       "layout": "IPY_MODEL_8125d00a9dd64e4abd4cf383f8262ac1"
      }
     },
     "29acbdcbfb5343e5a50682fb2642d040": {
      "model_module": "@jupyter-widgets/controls",
      "model_module_version": "1.5.0",
      "model_name": "HBoxModel",
      "state": {
       "children": [
        "IPY_MODEL_c50811398e34479687aac102748bcdb1",
        "IPY_MODEL_ec0d25cd98954f0ab78a6ee0cdd45bef"
       ],
       "layout": "IPY_MODEL_a098afb6a1f94a48ba71450df64e39a4"
      }
     },
     "29bdd5b781434ae7a646d99457d4021c": {
      "model_module": "@jupyter-widgets/controls",
      "model_module_version": "1.5.0",
      "model_name": "HBoxModel",
      "state": {
       "children": [
        "IPY_MODEL_cfaac95e37f84352be3564d1f12917ea",
        "IPY_MODEL_a2529456a54744efaa73a42f6c7b46dc"
       ],
       "layout": "IPY_MODEL_45024b34345540f68412fb947b3d5fa8"
      }
     },
     "29d87adfe5834fe68ec708d0601c953b": {
      "model_module": "@jupyter-widgets/base",
      "model_module_version": "1.2.0",
      "model_name": "LayoutModel",
      "state": {}
     },
     "29e5c8088ead4cc287ff2c260dcd93e4": {
      "model_module": "@jupyter-widgets/base",
      "model_module_version": "1.2.0",
      "model_name": "LayoutModel",
      "state": {}
     },
     "29eb4bf1316f4ae7bfee8bea3c48b505": {
      "model_module": "@jupyter-widgets/controls",
      "model_module_version": "1.5.0",
      "model_name": "HBoxModel",
      "state": {
       "children": [
        "IPY_MODEL_8c2c902535d94dd386ad7cef50d9e775",
        "IPY_MODEL_11b97341a31949ae883acb5268acce33"
       ],
       "layout": "IPY_MODEL_ba4141be4134443fba835482ffa811d9"
      }
     },
     "29fa6473258a4b46a14c59821ee38f82": {
      "model_module": "@jupyter-widgets/base",
      "model_module_version": "1.2.0",
      "model_name": "LayoutModel",
      "state": {}
     },
     "29ffcf8d81dc4e01bd28a04d1f91989a": {
      "model_module": "@jupyter-widgets/controls",
      "model_module_version": "1.5.0",
      "model_name": "HTMLModel",
      "state": {
       "layout": "IPY_MODEL_e0356febd95845e0a3ab4867a6b0958d",
       "style": "IPY_MODEL_63004337974345debba24419f3b78584",
       "value": " 344/344 [00:20&lt;00:00, 16.86it/s, end_loss=0.819, jaccard=0.703, start_loss=0.839]"
      }
     },
     "2a382596432a46f8a9c578271290184b": {
      "model_module": "@jupyter-widgets/base",
      "model_module_version": "1.2.0",
      "model_name": "LayoutModel",
      "state": {}
     },
     "2a447040070c422386ea8f882aa97dac": {
      "model_module": "@jupyter-widgets/base",
      "model_module_version": "1.2.0",
      "model_name": "LayoutModel",
      "state": {}
     },
     "2a46041aaebf402f934b1de3d2056158": {
      "model_module": "@jupyter-widgets/controls",
      "model_module_version": "1.5.0",
      "model_name": "HBoxModel",
      "state": {
       "children": [
        "IPY_MODEL_df947670d6014d2eb95e91c8341ea60c",
        "IPY_MODEL_3f9d136f43994f2e911688bb2b582148"
       ],
       "layout": "IPY_MODEL_07488bfe9ec24dd6ab0f713c3fe856bc"
      }
     },
     "2a46af197daf47d78b80c824103fb9d5": {
      "model_module": "@jupyter-widgets/controls",
      "model_module_version": "1.5.0",
      "model_name": "HBoxModel",
      "state": {
       "children": [
        "IPY_MODEL_b19ceee051f44e699570e466ad5afeff",
        "IPY_MODEL_6224e40156f64bc7ae0c0eb3ee35b504"
       ],
       "layout": "IPY_MODEL_e3d6749220754e6492738897f803c3b6"
      }
     },
     "2a6072e649f7412aab3a5b8883d1f471": {
      "model_module": "@jupyter-widgets/controls",
      "model_module_version": "1.5.0",
      "model_name": "DescriptionStyleModel",
      "state": {
       "description_width": ""
      }
     },
     "2a756d2680724340acae24523160a26c": {
      "model_module": "@jupyter-widgets/controls",
      "model_module_version": "1.5.0",
      "model_name": "DescriptionStyleModel",
      "state": {
       "description_width": ""
      }
     },
     "2a80d32b7512475db5998eb5421270f3": {
      "model_module": "@jupyter-widgets/controls",
      "model_module_version": "1.5.0",
      "model_name": "HTMLModel",
      "state": {
       "layout": "IPY_MODEL_37a70abbe64c46f8be86b06245e8e580",
       "style": "IPY_MODEL_9998ea3ad00245f28a68899da9618a28",
       "value": " 344/344 [04:48&lt;00:00,  1.19it/s, end_loss=1.07, jaccard=0.69, start_loss=1.1]"
      }
     },
     "2a838c0bffad4a3cb97a1a5367cf369b": {
      "model_module": "@jupyter-widgets/controls",
      "model_module_version": "1.5.0",
      "model_name": "DescriptionStyleModel",
      "state": {
       "description_width": ""
      }
     },
     "2a936a34045b4a9b88bbc537e48d7ca3": {
      "model_module": "@jupyter-widgets/controls",
      "model_module_version": "1.5.0",
      "model_name": "FloatProgressModel",
      "state": {
       "bar_style": "success",
       "description": "100%",
       "layout": "IPY_MODEL_cc4d96660b3f4eb1b51627fd3bf7c4be",
       "max": 344,
       "style": "IPY_MODEL_df234fbe32d2454cb140c49e8b9cdb6e",
       "value": 344
      }
     },
     "2ab526a2d10a48cdb8b13194d281922e": {
      "model_module": "@jupyter-widgets/controls",
      "model_module_version": "1.5.0",
      "model_name": "DescriptionStyleModel",
      "state": {
       "description_width": ""
      }
     },
     "2b01ed5ceab34981890c3ecd2517725d": {
      "model_module": "@jupyter-widgets/base",
      "model_module_version": "1.2.0",
      "model_name": "LayoutModel",
      "state": {}
     },
     "2b05f923546043e889103c3974e36f2e": {
      "model_module": "@jupyter-widgets/controls",
      "model_module_version": "1.5.0",
      "model_name": "HBoxModel",
      "state": {
       "children": [
        "IPY_MODEL_2857c730537549bb8fe1e066f34fc11f",
        "IPY_MODEL_fadc40998b2e4f519162bf83f94135e2"
       ],
       "layout": "IPY_MODEL_47c7e40458f9474e9d70d3495b0af854"
      }
     },
     "2b1fe06495cf4851aa36930c558f894f": {
      "model_module": "@jupyter-widgets/base",
      "model_module_version": "1.2.0",
      "model_name": "LayoutModel",
      "state": {}
     },
     "2b334684b1ee49fe8c6035aa634e01a2": {
      "model_module": "@jupyter-widgets/controls",
      "model_module_version": "1.5.0",
      "model_name": "FloatProgressModel",
      "state": {
       "bar_style": "success",
       "description": "100%",
       "layout": "IPY_MODEL_e0b6da4ba41443ebb716abea9d2228f0",
       "max": 344,
       "style": "IPY_MODEL_78b57c4e2c314f899e11277dda0d1423",
       "value": 344
      }
     },
     "2b66e8b1e31245a0b8ad85877e3ecc73": {
      "model_module": "@jupyter-widgets/base",
      "model_module_version": "1.2.0",
      "model_name": "LayoutModel",
      "state": {}
     },
     "2b8910b52c024a6784f32ca897b56359": {
      "model_module": "@jupyter-widgets/controls",
      "model_module_version": "1.5.0",
      "model_name": "FloatProgressModel",
      "state": {
       "bar_style": "success",
       "description": "100%",
       "layout": "IPY_MODEL_bff6038f516a4f6ab372fc5acb34d56b",
       "max": 344,
       "style": "IPY_MODEL_a4c070bd0cae4435a59972cb6473cce6",
       "value": 344
      }
     },
     "2b89bf59aef746d0800e7097e2aca6cc": {
      "model_module": "@jupyter-widgets/base",
      "model_module_version": "1.2.0",
      "model_name": "LayoutModel",
      "state": {}
     },
     "2b917940e67a4f82b716ad95598f086e": {
      "model_module": "@jupyter-widgets/controls",
      "model_module_version": "1.5.0",
      "model_name": "DescriptionStyleModel",
      "state": {
       "description_width": ""
      }
     },
     "2b957c000cf74f1792eb41a8b2049e8f": {
      "model_module": "@jupyter-widgets/controls",
      "model_module_version": "1.5.0",
      "model_name": "DescriptionStyleModel",
      "state": {
       "description_width": ""
      }
     },
     "2b9ce12114de4b71ab3d47be8b8205af": {
      "model_module": "@jupyter-widgets/controls",
      "model_module_version": "1.5.0",
      "model_name": "HBoxModel",
      "state": {
       "children": [
        "IPY_MODEL_a64fdb31e35b4e9d94fa61bf3b060c4a",
        "IPY_MODEL_4cd619a8122e4933ac08af052bf1991c"
       ],
       "layout": "IPY_MODEL_c9de5b0817b14a548e7f66ade4eae3a7"
      }
     },
     "2ba3ad994ae84690a734efa590a569dd": {
      "model_module": "@jupyter-widgets/base",
      "model_module_version": "1.2.0",
      "model_name": "LayoutModel",
      "state": {}
     },
     "2bcc1ba57b64426b8cd13586798084d5": {
      "model_module": "@jupyter-widgets/controls",
      "model_module_version": "1.5.0",
      "model_name": "ProgressStyleModel",
      "state": {
       "description_width": "initial"
      }
     },
     "2bf14fb561e744b9980be7700bfa4039": {
      "model_module": "@jupyter-widgets/controls",
      "model_module_version": "1.5.0",
      "model_name": "ProgressStyleModel",
      "state": {
       "description_width": "initial"
      }
     },
     "2bf59c6629c140ab8d7ca5a8142b1b8e": {
      "model_module": "@jupyter-widgets/controls",
      "model_module_version": "1.5.0",
      "model_name": "HBoxModel",
      "state": {
       "children": [
        "IPY_MODEL_a97199dbbf5d40c6a294185b98d21f8e",
        "IPY_MODEL_3db3ab165def4815b173e859eefa9105"
       ],
       "layout": "IPY_MODEL_f4099c741f6f4091941c372b8f577125"
      }
     },
     "2c058eebfe4c495190f24c4a011aaf61": {
      "model_module": "@jupyter-widgets/controls",
      "model_module_version": "1.5.0",
      "model_name": "FloatProgressModel",
      "state": {
       "bar_style": "success",
       "description": "100%",
       "layout": "IPY_MODEL_74a030ed171147e18ac58a2d041c8d45",
       "max": 344,
       "style": "IPY_MODEL_2bf14fb561e744b9980be7700bfa4039",
       "value": 344
      }
     },
     "2c0659a7438744a9b414e21076de727f": {
      "model_module": "@jupyter-widgets/controls",
      "model_module_version": "1.5.0",
      "model_name": "ProgressStyleModel",
      "state": {
       "description_width": "initial"
      }
     },
     "2c18236cd5ae4782a22d01c3a3d41a18": {
      "model_module": "@jupyter-widgets/controls",
      "model_module_version": "1.5.0",
      "model_name": "HBoxModel",
      "state": {
       "children": [
        "IPY_MODEL_edc9c27ff8b742e5bdd477b818844168",
        "IPY_MODEL_8a93d4f57cff4b59ba16b56c507f39bd"
       ],
       "layout": "IPY_MODEL_4d7653d4211749319ad28d17782be5f4"
      }
     },
     "2c4e1c49abd349d0a97976e9ed68cffe": {
      "model_module": "@jupyter-widgets/controls",
      "model_module_version": "1.5.0",
      "model_name": "FloatProgressModel",
      "state": {
       "bar_style": "success",
       "description": "100%",
       "layout": "IPY_MODEL_d267ed5dd8a544f998a5e04d411a9bb2",
       "max": 344,
       "style": "IPY_MODEL_5216d176a9af4073ab7a7b5eaa9c476c",
       "value": 344
      }
     },
     "2c96bfa86766416bbc216893fb8c4ac0": {
      "model_module": "@jupyter-widgets/base",
      "model_module_version": "1.2.0",
      "model_name": "LayoutModel",
      "state": {}
     },
     "2ca15edd5e5c48bebc579809cae64fcb": {
      "model_module": "@jupyter-widgets/base",
      "model_module_version": "1.2.0",
      "model_name": "LayoutModel",
      "state": {}
     },
     "2cb5a4a77fdf49c8bc0e11d84bf6b180": {
      "model_module": "@jupyter-widgets/controls",
      "model_module_version": "1.5.0",
      "model_name": "ProgressStyleModel",
      "state": {
       "description_width": "initial"
      }
     },
     "2cc0c704981b4c14a5771c56dfd73ed4": {
      "model_module": "@jupyter-widgets/controls",
      "model_module_version": "1.5.0",
      "model_name": "HTMLModel",
      "state": {
       "layout": "IPY_MODEL_fd180c3845464230bd002802a026e201",
       "style": "IPY_MODEL_6b0272ab4b01486d88428d0809339dee",
       "value": " 344/344 [00:19&lt;00:00, 17.79it/s, end_loss=0.786, jaccard=0.707, start_loss=0.849]"
      }
     },
     "2cd28aa91b0149e3b7da30e95f6daccd": {
      "model_module": "@jupyter-widgets/base",
      "model_module_version": "1.2.0",
      "model_name": "LayoutModel",
      "state": {}
     },
     "2cd4a03a90ed4b94a649095310bd04c6": {
      "model_module": "@jupyter-widgets/controls",
      "model_module_version": "1.5.0",
      "model_name": "HBoxModel",
      "state": {
       "children": [
        "IPY_MODEL_df48b0d3a6f74ab2961f5c02509dc08a",
        "IPY_MODEL_6d28fec0a9c441dbb928f0b64fc78b9f"
       ],
       "layout": "IPY_MODEL_3c762a68a07a49f5a9d75f9be0ba57ff"
      }
     },
     "2cdc6e16c04c40639c20f81e5a9033a7": {
      "model_module": "@jupyter-widgets/controls",
      "model_module_version": "1.5.0",
      "model_name": "HBoxModel",
      "state": {
       "children": [
        "IPY_MODEL_4ca2d6c2080c4ceba6e7ab01e8687e32",
        "IPY_MODEL_2a80d32b7512475db5998eb5421270f3"
       ],
       "layout": "IPY_MODEL_f691930885774b9a94b6d798b855e004"
      }
     },
     "2cf76de6538942339bc2f2ea67110aa1": {
      "model_module": "@jupyter-widgets/base",
      "model_module_version": "1.2.0",
      "model_name": "LayoutModel",
      "state": {}
     },
     "2d17858d7afb4417b209aa68c904617b": {
      "model_module": "@jupyter-widgets/controls",
      "model_module_version": "1.5.0",
      "model_name": "HBoxModel",
      "state": {
       "children": [
        "IPY_MODEL_53101f0ae9d043418fa27b6fdfc9b9b7",
        "IPY_MODEL_e2389b7281a74ca2ad360b88a7901a0e"
       ],
       "layout": "IPY_MODEL_a278acb58e334e349c177f7edff53727"
      }
     },
     "2d1ef7a3a78b4af793d9661232107623": {
      "model_module": "@jupyter-widgets/base",
      "model_module_version": "1.2.0",
      "model_name": "LayoutModel",
      "state": {}
     },
     "2d54aa446a844e31b2c75e2aea3c038b": {
      "model_module": "@jupyter-widgets/controls",
      "model_module_version": "1.5.0",
      "model_name": "FloatProgressModel",
      "state": {
       "bar_style": "success",
       "description": "100%",
       "layout": "IPY_MODEL_5269f140515d43558ec9fdc22053d359",
       "max": 344,
       "style": "IPY_MODEL_f7413d80019f449caa38f3ce43d1471c",
       "value": 344
      }
     },
     "2d61c405098f40a8ab0df57ed2cd3708": {
      "model_module": "@jupyter-widgets/base",
      "model_module_version": "1.2.0",
      "model_name": "LayoutModel",
      "state": {}
     },
     "2d621486bfe940e5820736b7ed0f3451": {
      "model_module": "@jupyter-widgets/controls",
      "model_module_version": "1.5.0",
      "model_name": "DescriptionStyleModel",
      "state": {
       "description_width": ""
      }
     },
     "2d74e4e25f434f1c8f9e9846d5564b7f": {
      "model_module": "@jupyter-widgets/controls",
      "model_module_version": "1.5.0",
      "model_name": "HBoxModel",
      "state": {
       "children": [
        "IPY_MODEL_d56339999ecc4c92a5c7450cdeba56a0",
        "IPY_MODEL_a94c1bb60a644a2eade8230f19662c62"
       ],
       "layout": "IPY_MODEL_ef74c6e4d177475aa58a51a65cbc129d"
      }
     },
     "2db319e993b64dfba97718030054f8b6": {
      "model_module": "@jupyter-widgets/base",
      "model_module_version": "1.2.0",
      "model_name": "LayoutModel",
      "state": {}
     },
     "2dcc56a71e36482ea461370a459aa349": {
      "model_module": "@jupyter-widgets/controls",
      "model_module_version": "1.5.0",
      "model_name": "HTMLModel",
      "state": {
       "layout": "IPY_MODEL_368506f6947a471f9f7ef03493431999",
       "style": "IPY_MODEL_ff8cb148d8a94efd90cb379a2c0cc3bd",
       "value": " 344/344 [00:20&lt;00:00, 16.87it/s, end_loss=0.798, jaccard=0.711, start_loss=0.86]"
      }
     },
     "2dcce619ba8e4814acde168ef1517224": {
      "model_module": "@jupyter-widgets/base",
      "model_module_version": "1.2.0",
      "model_name": "LayoutModel",
      "state": {}
     },
     "2dcce9a45fde4eae9adde0bd934c23e1": {
      "model_module": "@jupyter-widgets/controls",
      "model_module_version": "1.5.0",
      "model_name": "HBoxModel",
      "state": {
       "children": [
        "IPY_MODEL_2268e6e88d5b4cba83d6b62537a79421",
        "IPY_MODEL_76ef833775c641c29b9a113c1d2135c4"
       ],
       "layout": "IPY_MODEL_5e340caf37d9477cb240b4b6d6b955aa"
      }
     },
     "2dcf53fecaa54f4f9c6b29089a51eedd": {
      "model_module": "@jupyter-widgets/controls",
      "model_module_version": "1.5.0",
      "model_name": "HBoxModel",
      "state": {
       "children": [
        "IPY_MODEL_9149e00164474521b9bc359bb8644ff3",
        "IPY_MODEL_4209fbf39b4045c78228220166d315f2"
       ],
       "layout": "IPY_MODEL_ad7206da69174b668f381c655bc89995"
      }
     },
     "2e09734ccff843bb803328b280676d1a": {
      "model_module": "@jupyter-widgets/controls",
      "model_module_version": "1.5.0",
      "model_name": "HBoxModel",
      "state": {
       "children": [
        "IPY_MODEL_5fe3cfc02884443da1cc0606a1e2e2c6",
        "IPY_MODEL_48ce5c1654144c2aad4d35d61049ef2b"
       ],
       "layout": "IPY_MODEL_c4c2de7f24824974964348a004a534b2"
      }
     },
     "2e16f6c7b01f4ea4b84d756e2ef8897a": {
      "model_module": "@jupyter-widgets/controls",
      "model_module_version": "1.5.0",
      "model_name": "DescriptionStyleModel",
      "state": {
       "description_width": ""
      }
     },
     "2e186382c3ba4b418381e31192809255": {
      "model_module": "@jupyter-widgets/controls",
      "model_module_version": "1.5.0",
      "model_name": "HTMLModel",
      "state": {
       "layout": "IPY_MODEL_f22405948d194c3e881e258246a5d2be",
       "style": "IPY_MODEL_e26d17d911bd4715bf9c105fe7d3887b",
       "value": " 344/344 [00:18&lt;00:00, 18.19it/s, end_loss=1.49, jaccard=0.708, start_loss=1.53]"
      }
     },
     "2e1d919785914db3b7d077d1a86c0e0a": {
      "model_module": "@jupyter-widgets/controls",
      "model_module_version": "1.5.0",
      "model_name": "DescriptionStyleModel",
      "state": {
       "description_width": ""
      }
     },
     "2e236376730c4f5aae842512e44a05ed": {
      "model_module": "@jupyter-widgets/controls",
      "model_module_version": "1.5.0",
      "model_name": "HTMLModel",
      "state": {
       "layout": "IPY_MODEL_ca8070ece4b84404b9333c633dd29e73",
       "style": "IPY_MODEL_c3716e95715f487db0015cb27e7f4bcf",
       "value": " 344/344 [03:31&lt;00:00,  1.63it/s, end_loss=0.988, jaccard=0.667, start_loss=1.06]"
      }
     },
     "2e27dd220b294fb8bcf27b3c48219ae2": {
      "model_module": "@jupyter-widgets/controls",
      "model_module_version": "1.5.0",
      "model_name": "HBoxModel",
      "state": {
       "children": [
        "IPY_MODEL_6b58bd964a5046dab1a037e6f0902346",
        "IPY_MODEL_d32045f361cf4cc1b5c72f983979607c"
       ],
       "layout": "IPY_MODEL_e868d217c1f1488688f323b2cfc704fd"
      }
     },
     "2e62eee0eeba460dab5025e8c239436b": {
      "model_module": "@jupyter-widgets/controls",
      "model_module_version": "1.5.0",
      "model_name": "DescriptionStyleModel",
      "state": {
       "description_width": ""
      }
     },
     "2e8fa4b6dbcb4dffb72b830ad30e03bd": {
      "model_module": "@jupyter-widgets/base",
      "model_module_version": "1.2.0",
      "model_name": "LayoutModel",
      "state": {}
     },
     "2e918a7db4a048edbc503f18b26fff9b": {
      "model_module": "@jupyter-widgets/controls",
      "model_module_version": "1.5.0",
      "model_name": "DescriptionStyleModel",
      "state": {
       "description_width": ""
      }
     },
     "2ec5cff0681441a891a992b29f532446": {
      "model_module": "@jupyter-widgets/controls",
      "model_module_version": "1.5.0",
      "model_name": "ProgressStyleModel",
      "state": {
       "description_width": "initial"
      }
     },
     "2ed5039b4a8b4b2c969796e7f5ceaefb": {
      "model_module": "@jupyter-widgets/controls",
      "model_module_version": "1.5.0",
      "model_name": "ProgressStyleModel",
      "state": {
       "description_width": "initial"
      }
     },
     "2ef6a63333454a9a8becba7c78add057": {
      "model_module": "@jupyter-widgets/controls",
      "model_module_version": "1.5.0",
      "model_name": "HTMLModel",
      "state": {
       "layout": "IPY_MODEL_7a9405bd2c2e405495cc008e9e867ff7",
       "style": "IPY_MODEL_a753ab635433488eb1fa29c45c93a95f",
       "value": " 344/344 [00:20&lt;00:00, 16.45it/s, end_loss=0.799, jaccard=0.711, merged_loss=0.995, start_loss=0.86]"
      }
     },
     "2ef8000de20b43918313b7721f779eac": {
      "model_module": "@jupyter-widgets/controls",
      "model_module_version": "1.5.0",
      "model_name": "FloatProgressModel",
      "state": {
       "bar_style": "success",
       "description": "100%",
       "layout": "IPY_MODEL_4154750190b5445eae35b014b94f054d",
       "max": 344,
       "style": "IPY_MODEL_f342171ee817439687ee4819c8e8bb35",
       "value": 344
      }
     },
     "2effbb08a3d7446bb56c3b838e5eb30a": {
      "model_module": "@jupyter-widgets/controls",
      "model_module_version": "1.5.0",
      "model_name": "HTMLModel",
      "state": {
       "layout": "IPY_MODEL_fe13aa5d1b5f448db9a58dc7a5107bb8",
       "style": "IPY_MODEL_93da10e1f77c4245959bd3f50a811f8c",
       "value": " 344/344 [03:09&lt;00:00,  1.82it/s, end_loss=0.992, jaccard=0.672, start_loss=1.02]"
      }
     },
     "2f03ba22000d458a9c3c95a87f52facc": {
      "model_module": "@jupyter-widgets/controls",
      "model_module_version": "1.5.0",
      "model_name": "FloatProgressModel",
      "state": {
       "bar_style": "success",
       "description": "100%",
       "layout": "IPY_MODEL_3dfa1cf66a6340b1b3902c842509dcfe",
       "max": 344,
       "style": "IPY_MODEL_3ef31647700f4d698ee7f7ae8056bc16",
       "value": 344
      }
     },
     "2f1a8c8bfbd649abab0f8437ba7ee3b2": {
      "model_module": "@jupyter-widgets/controls",
      "model_module_version": "1.5.0",
      "model_name": "ProgressStyleModel",
      "state": {
       "description_width": "initial"
      }
     },
     "2f37f59e711b4298b6619066afe10d2c": {
      "model_module": "@jupyter-widgets/base",
      "model_module_version": "1.2.0",
      "model_name": "LayoutModel",
      "state": {}
     },
     "2f591c3e9989470aa696e61c3947b452": {
      "model_module": "@jupyter-widgets/base",
      "model_module_version": "1.2.0",
      "model_name": "LayoutModel",
      "state": {}
     },
     "2f5c0cee812b49e5bca3dc1a48ac030c": {
      "model_module": "@jupyter-widgets/base",
      "model_module_version": "1.2.0",
      "model_name": "LayoutModel",
      "state": {}
     },
     "2f723176777b4b0bb2f6c34b067139ed": {
      "model_module": "@jupyter-widgets/base",
      "model_module_version": "1.2.0",
      "model_name": "LayoutModel",
      "state": {}
     },
     "2f78168d642b444fbafb208d114c43a4": {
      "model_module": "@jupyter-widgets/controls",
      "model_module_version": "1.5.0",
      "model_name": "HTMLModel",
      "state": {
       "layout": "IPY_MODEL_10f4568cdda44baca379e0898d1f1efa",
       "style": "IPY_MODEL_2e62eee0eeba460dab5025e8c239436b",
       "value": " 344/344 [07:19&lt;00:00,  1.28s/it, end_loss=1.01, jaccard=0.705, start_loss=1.06]"
      }
     },
     "2f810b87fe0e49bab7ec542d8f3fb57f": {
      "model_module": "@jupyter-widgets/base",
      "model_module_version": "1.2.0",
      "model_name": "LayoutModel",
      "state": {}
     },
     "2f89a985357344348f59d413d9e2c77c": {
      "model_module": "@jupyter-widgets/controls",
      "model_module_version": "1.5.0",
      "model_name": "HBoxModel",
      "state": {
       "children": [
        "IPY_MODEL_07ff3696b40541c3b65969732b2efe0b",
        "IPY_MODEL_fc339f75aea14a2a92e897675bef6458"
       ],
       "layout": "IPY_MODEL_957c45f8a52b47a882a2702aab3d1009"
      }
     },
     "2fe6a24a159e40e795039048dae428ff": {
      "model_module": "@jupyter-widgets/base",
      "model_module_version": "1.2.0",
      "model_name": "LayoutModel",
      "state": {}
     },
     "30037f8e5ba54cf4b3caf34fbd339dad": {
      "model_module": "@jupyter-widgets/controls",
      "model_module_version": "1.5.0",
      "model_name": "ProgressStyleModel",
      "state": {
       "description_width": "initial"
      }
     },
     "301d24b82d2a4018a9f5bef564390d7e": {
      "model_module": "@jupyter-widgets/base",
      "model_module_version": "1.2.0",
      "model_name": "LayoutModel",
      "state": {}
     },
     "302f5de1e8024a718e0d8f823aca63d5": {
      "model_module": "@jupyter-widgets/controls",
      "model_module_version": "1.5.0",
      "model_name": "HTMLModel",
      "state": {
       "layout": "IPY_MODEL_6a418023eec3451483e4113ae24d4c50",
       "style": "IPY_MODEL_3bf3f401cbba496eba6134aabb0c3bc4",
       "value": " 344/344 [02:12&lt;00:00,  2.59it/s, end_loss=0.754, jaccard=0.72, start_loss=0.838]"
      }
     },
     "306d36fa1b0942b4b82fcda51ed43b91": {
      "model_module": "@jupyter-widgets/controls",
      "model_module_version": "1.5.0",
      "model_name": "HTMLModel",
      "state": {
       "layout": "IPY_MODEL_968313759e70494d83fe350be01e59f0",
       "style": "IPY_MODEL_c2ae41758185426aa6201fbf95699085",
       "value": " 344/344 [04:50&lt;00:00,  1.19it/s, end_loss=1.38, jaccard=0.6, start_loss=1.36]"
      }
     },
     "307049bb05e34938bde3555384a825d1": {
      "model_module": "@jupyter-widgets/controls",
      "model_module_version": "1.5.0",
      "model_name": "HBoxModel",
      "state": {
       "children": [
        "IPY_MODEL_b256f253025a4225a4caa7864eedd347",
        "IPY_MODEL_26d4e707cfcc43aea8e62e1ce44e55a4"
       ],
       "layout": "IPY_MODEL_463458432c164aee89690eb70e1130ce"
      }
     },
     "308063bfb69e4572b9a77c4295f79e49": {
      "model_module": "@jupyter-widgets/controls",
      "model_module_version": "1.5.0",
      "model_name": "FloatProgressModel",
      "state": {
       "bar_style": "success",
       "description": "100%",
       "layout": "IPY_MODEL_24c2a3558cff4a6d8d007693b0f84523",
       "max": 344,
       "style": "IPY_MODEL_71b299cdf91b4f81a4480907e92b2fb5",
       "value": 344
      }
     },
     "308634df9166418cae9b2f33edaf6801": {
      "model_module": "@jupyter-widgets/controls",
      "model_module_version": "1.5.0",
      "model_name": "ProgressStyleModel",
      "state": {
       "description_width": "initial"
      }
     },
     "30aa740c6afd42fd9fd9ba5efc65e6b2": {
      "model_module": "@jupyter-widgets/controls",
      "model_module_version": "1.5.0",
      "model_name": "HTMLModel",
      "state": {
       "layout": "IPY_MODEL_0531b2da4b3d43c9b4c178e2637e022e",
       "style": "IPY_MODEL_c649803617cc494596a06a5622e9d8f3",
       "value": " 344/344 [05:40&lt;00:00,  1.01it/s, end_loss=1, jaccard=0.706, start_loss=1.05]"
      }
     },
     "30b1618d59bb478082b2882f0b28a403": {
      "model_module": "@jupyter-widgets/controls",
      "model_module_version": "1.5.0",
      "model_name": "ProgressStyleModel",
      "state": {
       "description_width": "initial"
      }
     },
     "30f3b7f0121f493f9d50e677310cd948": {
      "model_module": "@jupyter-widgets/base",
      "model_module_version": "1.2.0",
      "model_name": "LayoutModel",
      "state": {}
     },
     "3126f92389fd465293fa4e5cb7e747ed": {
      "model_module": "@jupyter-widgets/controls",
      "model_module_version": "1.5.0",
      "model_name": "HBoxModel",
      "state": {
       "children": [
        "IPY_MODEL_96bf90661c4241109428f30cede2509b",
        "IPY_MODEL_306d36fa1b0942b4b82fcda51ed43b91"
       ],
       "layout": "IPY_MODEL_cff19a98a619416e844c1a448772651f"
      }
     },
     "314c9a3b171e48eb83fdba3f4e57fdfd": {
      "model_module": "@jupyter-widgets/controls",
      "model_module_version": "1.5.0",
      "model_name": "ProgressStyleModel",
      "state": {
       "description_width": "initial"
      }
     },
     "315ac7a89bf946dd8f27cfcf670abc7f": {
      "model_module": "@jupyter-widgets/controls",
      "model_module_version": "1.5.0",
      "model_name": "FloatProgressModel",
      "state": {
       "description": " 12%",
       "layout": "IPY_MODEL_8321f8a54c0441d28c3f81144daf695e",
       "max": 344,
       "style": "IPY_MODEL_772c3d963c3d409a9ed43fabceb41195",
       "value": 43
      }
     },
     "315bb7dfb7aa417d8dc05ecd6fb09293": {
      "model_module": "@jupyter-widgets/base",
      "model_module_version": "1.2.0",
      "model_name": "LayoutModel",
      "state": {}
     },
     "318a1b9fa3cb4c2db8e25a75f0d13f61": {
      "model_module": "@jupyter-widgets/controls",
      "model_module_version": "1.5.0",
      "model_name": "DescriptionStyleModel",
      "state": {
       "description_width": ""
      }
     },
     "318f1157f236429281d2e728e0f3b56d": {
      "model_module": "@jupyter-widgets/controls",
      "model_module_version": "1.5.0",
      "model_name": "FloatProgressModel",
      "state": {
       "bar_style": "success",
       "description": "100%",
       "layout": "IPY_MODEL_ed9ac6770f1345f6bead86a6c25d8d5a",
       "max": 344,
       "style": "IPY_MODEL_0de7c0196d424f35a74437d3e2ff2dcf",
       "value": 344
      }
     },
     "31acfca9f4a246bcb97dd84175f4db7c": {
      "model_module": "@jupyter-widgets/controls",
      "model_module_version": "1.5.0",
      "model_name": "ProgressStyleModel",
      "state": {
       "description_width": "initial"
      }
     },
     "31db194369df44018ce43218f8343d37": {
      "model_module": "@jupyter-widgets/controls",
      "model_module_version": "1.5.0",
      "model_name": "DescriptionStyleModel",
      "state": {
       "description_width": ""
      }
     },
     "31eeca402f164d93bbfc75197afef0b4": {
      "model_module": "@jupyter-widgets/base",
      "model_module_version": "1.2.0",
      "model_name": "LayoutModel",
      "state": {}
     },
     "31f8ce38b9a24e78b2402c02c332d1d4": {
      "model_module": "@jupyter-widgets/controls",
      "model_module_version": "1.5.0",
      "model_name": "HBoxModel",
      "state": {
       "children": [
        "IPY_MODEL_ab9c2391a51849d985a5abea41926960",
        "IPY_MODEL_466c6726def34499a976889e793d3c83"
       ],
       "layout": "IPY_MODEL_bcc53a1228be450c990547cbf273f3c2"
      }
     },
     "322ca8d4e08e4c0d981a41c294178eaf": {
      "model_module": "@jupyter-widgets/controls",
      "model_module_version": "1.5.0",
      "model_name": "HBoxModel",
      "state": {
       "children": [
        "IPY_MODEL_9c55916219a64b44963d909beb5d6e1c",
        "IPY_MODEL_b6685ef2c305482abebc0bddadb14263"
       ],
       "layout": "IPY_MODEL_b7135e090a0c42fd9670bc9f19664f2e"
      }
     },
     "324fe4c6409d4604846f9f88693d3e49": {
      "model_module": "@jupyter-widgets/controls",
      "model_module_version": "1.5.0",
      "model_name": "HBoxModel",
      "state": {
       "children": [
        "IPY_MODEL_9792abd5b40b42c79eddbfafab1592a9",
        "IPY_MODEL_a28faa737004465caebff5fe5340653b"
       ],
       "layout": "IPY_MODEL_95da7758caf64c74a13a70ba44fce826"
      }
     },
     "326e490f3eb944c7a6f879a0646b1d78": {
      "model_module": "@jupyter-widgets/controls",
      "model_module_version": "1.5.0",
      "model_name": "HBoxModel",
      "state": {
       "children": [
        "IPY_MODEL_1dbab23924ba4569bef87f73f14f4f44",
        "IPY_MODEL_3b9a2bf089fe4dc7aa63cef3ac59756c"
       ],
       "layout": "IPY_MODEL_a1229ca001894e10941cb75aba5d2567"
      }
     },
     "327be00fa425427a934ebaec46c5ef3f": {
      "model_module": "@jupyter-widgets/base",
      "model_module_version": "1.2.0",
      "model_name": "LayoutModel",
      "state": {}
     },
     "32834d1ce74543bb85647bb45de7bc52": {
      "model_module": "@jupyter-widgets/base",
      "model_module_version": "1.2.0",
      "model_name": "LayoutModel",
      "state": {}
     },
     "32902a89801b43a385a76bb4723bd426": {
      "model_module": "@jupyter-widgets/base",
      "model_module_version": "1.2.0",
      "model_name": "LayoutModel",
      "state": {}
     },
     "32933c72a2e04649bf575e79a37e23a6": {
      "model_module": "@jupyter-widgets/controls",
      "model_module_version": "1.5.0",
      "model_name": "HBoxModel",
      "state": {
       "children": [
        "IPY_MODEL_e76f9a8de98f4d3a810252ae0553344f",
        "IPY_MODEL_e6ca30ba0d5d424286c517da5f362299"
       ],
       "layout": "IPY_MODEL_defad6bb811141e59cc2ef86b377a935"
      }
     },
     "32a6850fb909458aac4264fa2d7b7398": {
      "model_module": "@jupyter-widgets/base",
      "model_module_version": "1.2.0",
      "model_name": "LayoutModel",
      "state": {}
     },
     "32b5f9771ca64e6fb3859b2eacc7d6a8": {
      "model_module": "@jupyter-widgets/base",
      "model_module_version": "1.2.0",
      "model_name": "LayoutModel",
      "state": {}
     },
     "32ba64c20ab4451297bba704744b147a": {
      "model_module": "@jupyter-widgets/base",
      "model_module_version": "1.2.0",
      "model_name": "LayoutModel",
      "state": {}
     },
     "32c921e426fc42b98677edf243a6b77f": {
      "model_module": "@jupyter-widgets/controls",
      "model_module_version": "1.5.0",
      "model_name": "HBoxModel",
      "state": {
       "children": [
        "IPY_MODEL_cd267d1f83ef4afe800f8ad564b566b7",
        "IPY_MODEL_b77cbac23a534503bc6f57b73c00ea44"
       ],
       "layout": "IPY_MODEL_724eb12b87324268a059c15a0ec4fb48"
      }
     },
     "3308011457dd442e853d766f34744342": {
      "model_module": "@jupyter-widgets/controls",
      "model_module_version": "1.5.0",
      "model_name": "ProgressStyleModel",
      "state": {
       "description_width": "initial"
      }
     },
     "331411c8bee84e119eb6ff4f41c2768f": {
      "model_module": "@jupyter-widgets/base",
      "model_module_version": "1.2.0",
      "model_name": "LayoutModel",
      "state": {}
     },
     "33193202409344e5899ad6c9a76a9f99": {
      "model_module": "@jupyter-widgets/base",
      "model_module_version": "1.2.0",
      "model_name": "LayoutModel",
      "state": {}
     },
     "331bbd57f890497abf231305dd36125a": {
      "model_module": "@jupyter-widgets/base",
      "model_module_version": "1.2.0",
      "model_name": "LayoutModel",
      "state": {}
     },
     "333f185afb764a12bd60333e5aeda2ea": {
      "model_module": "@jupyter-widgets/controls",
      "model_module_version": "1.5.0",
      "model_name": "ProgressStyleModel",
      "state": {
       "description_width": "initial"
      }
     },
     "33435b01843142f1a148d0246ea5988c": {
      "model_module": "@jupyter-widgets/controls",
      "model_module_version": "1.5.0",
      "model_name": "DescriptionStyleModel",
      "state": {
       "description_width": ""
      }
     },
     "335e478762214650b669ba0432e963b4": {
      "model_module": "@jupyter-widgets/controls",
      "model_module_version": "1.5.0",
      "model_name": "HTMLModel",
      "state": {
       "layout": "IPY_MODEL_d2a35bacaf384b20a4fdec68aacb9bcd",
       "style": "IPY_MODEL_53f3b174332440f7822b8d5221446242",
       "value": " 344/344 [36:46&lt;00:00,  6.41s/it, end_loss=1.44, jaccard=0.6, start_loss=1.38]"
      }
     },
     "33718b3187d544c8a6db76df60865ef9": {
      "model_module": "@jupyter-widgets/base",
      "model_module_version": "1.2.0",
      "model_name": "LayoutModel",
      "state": {}
     },
     "33bcecdebe554905b8b3b5b3f3aed677": {
      "model_module": "@jupyter-widgets/base",
      "model_module_version": "1.2.0",
      "model_name": "LayoutModel",
      "state": {}
     },
     "33ca8c365c3448dea84d6745df6dfe10": {
      "model_module": "@jupyter-widgets/base",
      "model_module_version": "1.2.0",
      "model_name": "LayoutModel",
      "state": {}
     },
     "33ead6cf94184498b1952fc93e1bfca0": {
      "model_module": "@jupyter-widgets/controls",
      "model_module_version": "1.5.0",
      "model_name": "HBoxModel",
      "state": {
       "children": [
        "IPY_MODEL_5e8655b4baf04de79d34633f3d42716a",
        "IPY_MODEL_26ea568295c14f658f69ad2fa3ff1e32"
       ],
       "layout": "IPY_MODEL_18b7c95975764f2080bc72f8d9b635e1"
      }
     },
     "33f26ef5780b45aa883515a17eecea44": {
      "model_module": "@jupyter-widgets/controls",
      "model_module_version": "1.5.0",
      "model_name": "HBoxModel",
      "state": {
       "children": [
        "IPY_MODEL_2b334684b1ee49fe8c6035aa634e01a2",
        "IPY_MODEL_9b68dda5e18341a2bc34433cdaf793a2"
       ],
       "layout": "IPY_MODEL_42dfef4769b64b98a92a7490f69036d5"
      }
     },
     "33fbfff79b2a40be8c3a398bc68abe40": {
      "model_module": "@jupyter-widgets/controls",
      "model_module_version": "1.5.0",
      "model_name": "FloatProgressModel",
      "state": {
       "bar_style": "success",
       "description": "100%",
       "layout": "IPY_MODEL_2f723176777b4b0bb2f6c34b067139ed",
       "max": 344,
       "style": "IPY_MODEL_bc0cc76aeb504d89a8a549403f49bd6e",
       "value": 344
      }
     },
     "34411453d99643318c3910d8530be98a": {
      "model_module": "@jupyter-widgets/base",
      "model_module_version": "1.2.0",
      "model_name": "LayoutModel",
      "state": {}
     },
     "345bef845f714d00a2967e641d36dfc9": {
      "model_module": "@jupyter-widgets/controls",
      "model_module_version": "1.5.0",
      "model_name": "DescriptionStyleModel",
      "state": {
       "description_width": ""
      }
     },
     "346dd4b8d1bf4124a3a65ba41bc279d9": {
      "model_module": "@jupyter-widgets/controls",
      "model_module_version": "1.5.0",
      "model_name": "FloatProgressModel",
      "state": {
       "bar_style": "success",
       "description": "100%",
       "layout": "IPY_MODEL_008e933998654b49854c825c19669b01",
       "max": 344,
       "style": "IPY_MODEL_0488a33dd24c4f71a873c67abfce29c9",
       "value": 344
      }
     },
     "3470cae3276642cbb447f62379f2e3a4": {
      "model_module": "@jupyter-widgets/controls",
      "model_module_version": "1.5.0",
      "model_name": "ProgressStyleModel",
      "state": {
       "description_width": "initial"
      }
     },
     "34774af65e8943488f62484839933718": {
      "model_module": "@jupyter-widgets/base",
      "model_module_version": "1.2.0",
      "model_name": "LayoutModel",
      "state": {}
     },
     "34899df4fe094de78d94ee9c2769a936": {
      "model_module": "@jupyter-widgets/controls",
      "model_module_version": "1.5.0",
      "model_name": "FloatProgressModel",
      "state": {
       "bar_style": "success",
       "description": "100%",
       "layout": "IPY_MODEL_dc8b336f93814780ae154a15edcd5b79",
       "max": 344,
       "style": "IPY_MODEL_3ed43385aabd477fa09137581af3ae01",
       "value": 344
      }
     },
     "34beeb17197e4546a220d289a72c4d20": {
      "model_module": "@jupyter-widgets/controls",
      "model_module_version": "1.5.0",
      "model_name": "ProgressStyleModel",
      "state": {
       "description_width": "initial"
      }
     },
     "34c95eedb762449cbe9300ea63168d63": {
      "model_module": "@jupyter-widgets/base",
      "model_module_version": "1.2.0",
      "model_name": "LayoutModel",
      "state": {}
     },
     "34d71bac54da4185958b3bb5d572c6b0": {
      "model_module": "@jupyter-widgets/base",
      "model_module_version": "1.2.0",
      "model_name": "LayoutModel",
      "state": {}
     },
     "34fbff37ae4e4b238ae2b49f7fd04b45": {
      "model_module": "@jupyter-widgets/base",
      "model_module_version": "1.2.0",
      "model_name": "LayoutModel",
      "state": {}
     },
     "3526c4718fc04b42959579c52945bfc4": {
      "model_module": "@jupyter-widgets/base",
      "model_module_version": "1.2.0",
      "model_name": "LayoutModel",
      "state": {}
     },
     "3533b4933ba64daaa900964035d857f0": {
      "model_module": "@jupyter-widgets/controls",
      "model_module_version": "1.5.0",
      "model_name": "HBoxModel",
      "state": {
       "children": [
        "IPY_MODEL_a5f1c16f337646eb848ebf8aee5dafc7",
        "IPY_MODEL_9af2d06f3f5645f0a4f9999a1e466120"
       ],
       "layout": "IPY_MODEL_8047a0cb22f2400487acdaa1f8a17e6c"
      }
     },
     "3548f696eeaa46eca2532c42029b5946": {
      "model_module": "@jupyter-widgets/base",
      "model_module_version": "1.2.0",
      "model_name": "LayoutModel",
      "state": {}
     },
     "35521343789f441f99526468dde6fc31": {
      "model_module": "@jupyter-widgets/controls",
      "model_module_version": "1.5.0",
      "model_name": "HTMLModel",
      "state": {
       "layout": "IPY_MODEL_498295d2fc4c40e8b094e671a413ee56",
       "style": "IPY_MODEL_a3faf9a6ed9744619173108b881d8885",
       "value": " 344/344 [00:22&lt;00:00, 14.99it/s, end_loss=0.816, jaccard=0.713, start_loss=0.862]"
      }
     },
     "357a660aa7954b03ac27e3d516104cb4": {
      "model_module": "@jupyter-widgets/base",
      "model_module_version": "1.2.0",
      "model_name": "LayoutModel",
      "state": {}
     },
     "35a17ab563c741d48f08b4040aa3ffde": {
      "model_module": "@jupyter-widgets/controls",
      "model_module_version": "1.5.0",
      "model_name": "ProgressStyleModel",
      "state": {
       "description_width": "initial"
      }
     },
     "35a2576e3b2a4e5e95d5c6251d2cdae3": {
      "model_module": "@jupyter-widgets/controls",
      "model_module_version": "1.5.0",
      "model_name": "ProgressStyleModel",
      "state": {
       "description_width": "initial"
      }
     },
     "35a599c836ad4a31aba80113865d44aa": {
      "model_module": "@jupyter-widgets/base",
      "model_module_version": "1.2.0",
      "model_name": "LayoutModel",
      "state": {}
     },
     "35ade4f3e74d4ab8964abfe5f97f13cc": {
      "model_module": "@jupyter-widgets/controls",
      "model_module_version": "1.5.0",
      "model_name": "DescriptionStyleModel",
      "state": {
       "description_width": ""
      }
     },
     "35b8ee200c58466095dbc6de9e32b7eb": {
      "model_module": "@jupyter-widgets/base",
      "model_module_version": "1.2.0",
      "model_name": "LayoutModel",
      "state": {}
     },
     "35cd8a6466524ec987ed9c7871e10442": {
      "model_module": "@jupyter-widgets/controls",
      "model_module_version": "1.5.0",
      "model_name": "HBoxModel",
      "state": {
       "children": [
        "IPY_MODEL_9f837b9a24a449528b6e81c68967693f",
        "IPY_MODEL_a92a880d543c4e3e84879e06304922c6"
       ],
       "layout": "IPY_MODEL_6c0bcda7d4564ebfa5e86732f0d9067a"
      }
     },
     "35ce92bf91a34c26980f3b2c68171e74": {
      "model_module": "@jupyter-widgets/base",
      "model_module_version": "1.2.0",
      "model_name": "LayoutModel",
      "state": {}
     },
     "3631a8b4e9e445bc975c7c99a0b59fa9": {
      "model_module": "@jupyter-widgets/base",
      "model_module_version": "1.2.0",
      "model_name": "LayoutModel",
      "state": {}
     },
     "364dcfd84ac941a1bcd53122833c5628": {
      "model_module": "@jupyter-widgets/controls",
      "model_module_version": "1.5.0",
      "model_name": "DescriptionStyleModel",
      "state": {
       "description_width": ""
      }
     },
     "36524397de5244a5a5e0b35ddd471bdb": {
      "model_module": "@jupyter-widgets/controls",
      "model_module_version": "1.5.0",
      "model_name": "HBoxModel",
      "state": {
       "children": [
        "IPY_MODEL_ffd85cd63d5b407a9ca9c3150703d2c9",
        "IPY_MODEL_bd62d12d861e4fa2a3a7fa3db6b28e14"
       ],
       "layout": "IPY_MODEL_d4449e9ac1ff493388cef4c1b62ab8b4"
      }
     },
     "368506f6947a471f9f7ef03493431999": {
      "model_module": "@jupyter-widgets/base",
      "model_module_version": "1.2.0",
      "model_name": "LayoutModel",
      "state": {}
     },
     "3685ad0f13314533b41064e951f7a14a": {
      "model_module": "@jupyter-widgets/base",
      "model_module_version": "1.2.0",
      "model_name": "LayoutModel",
      "state": {}
     },
     "36ba2c260c114c1e9951f9a9c4819a86": {
      "model_module": "@jupyter-widgets/controls",
      "model_module_version": "1.5.0",
      "model_name": "ProgressStyleModel",
      "state": {
       "description_width": "initial"
      }
     },
     "36da4de0703743d5917c18cd73358b93": {
      "model_module": "@jupyter-widgets/controls",
      "model_module_version": "1.5.0",
      "model_name": "HTMLModel",
      "state": {
       "layout": "IPY_MODEL_dd60f03b37d84f488a865f3676766616",
       "style": "IPY_MODEL_60445265f60f443aaf784a4cca9efcaf",
       "value": " 344/344 [1:43:49&lt;00:00, 18.11s/it, end_loss=1.2, jaccard=0.673, start_loss=1.17]"
      }
     },
     "36ec7eac137b4e7984a5d19ddb7056c6": {
      "model_module": "@jupyter-widgets/controls",
      "model_module_version": "1.5.0",
      "model_name": "FloatProgressModel",
      "state": {
       "bar_style": "success",
       "description": "100%",
       "layout": "IPY_MODEL_e5162d1442724edaae65b58d531307b4",
       "max": 344,
       "style": "IPY_MODEL_7c211e406ac84464afebbb273b898f02",
       "value": 344
      }
     },
     "36f28c34771741338651640fc07102be": {
      "model_module": "@jupyter-widgets/controls",
      "model_module_version": "1.5.0",
      "model_name": "DescriptionStyleModel",
      "state": {
       "description_width": ""
      }
     },
     "36f8a4217b504851945dde5e5c592797": {
      "model_module": "@jupyter-widgets/base",
      "model_module_version": "1.2.0",
      "model_name": "LayoutModel",
      "state": {}
     },
     "373a8b09c26f41c3be3b6ad21586301a": {
      "model_module": "@jupyter-widgets/base",
      "model_module_version": "1.2.0",
      "model_name": "LayoutModel",
      "state": {}
     },
     "3768939b1a744d1d8e19dcf951a637f4": {
      "model_module": "@jupyter-widgets/base",
      "model_module_version": "1.2.0",
      "model_name": "LayoutModel",
      "state": {}
     },
     "377e021991ad4c6e9dcbc29598bfc836": {
      "model_module": "@jupyter-widgets/controls",
      "model_module_version": "1.5.0",
      "model_name": "FloatProgressModel",
      "state": {
       "bar_style": "success",
       "description": "100%",
       "layout": "IPY_MODEL_f111de4ced2d474aa6a1a893274fc2e7",
       "max": 344,
       "style": "IPY_MODEL_e243c86fc948412abdd4044b440088e8",
       "value": 344
      }
     },
     "378421e2c53041ebb60e67911d6e4ec3": {
      "model_module": "@jupyter-widgets/controls",
      "model_module_version": "1.5.0",
      "model_name": "FloatProgressModel",
      "state": {
       "bar_style": "success",
       "description": "100%",
       "layout": "IPY_MODEL_e1fa3a7a219a43588db74603919cf277",
       "max": 344,
       "style": "IPY_MODEL_13fd62bd02474fccae3f88ba32bc4171",
       "value": 344
      }
     },
     "3784cbe4ccaf488592ddc922b0c28952": {
      "model_module": "@jupyter-widgets/controls",
      "model_module_version": "1.5.0",
      "model_name": "DescriptionStyleModel",
      "state": {
       "description_width": ""
      }
     },
     "37a70abbe64c46f8be86b06245e8e580": {
      "model_module": "@jupyter-widgets/base",
      "model_module_version": "1.2.0",
      "model_name": "LayoutModel",
      "state": {}
     },
     "37eb4f71e4d34b078383a9ed622bf61f": {
      "model_module": "@jupyter-widgets/controls",
      "model_module_version": "1.5.0",
      "model_name": "HTMLModel",
      "state": {
       "layout": "IPY_MODEL_8ed85649e24242dd9ed305d863f68890",
       "style": "IPY_MODEL_33435b01843142f1a148d0246ea5988c",
       "value": " 344/344 [00:20&lt;00:00, 16.51it/s, end_loss=0.798, jaccard=0.708, start_loss=0.86]"
      }
     },
     "382d1186d2b64f79962f9938a278dbac": {
      "model_module": "@jupyter-widgets/controls",
      "model_module_version": "1.5.0",
      "model_name": "HTMLModel",
      "state": {
       "layout": "IPY_MODEL_7d3f17651bbf4e67986c6de84e02d310",
       "style": "IPY_MODEL_3f5420987d27417c89e22866e98ba6bd",
       "value": " 344/344 [00:20&lt;00:00, 16.66it/s, end_loss=0.816, jaccard=0.71, merged_loss=1.01, start_loss=0.819]"
      }
     },
     "382df487a19e4b58bc2a51cfdeaba9c5": {
      "model_module": "@jupyter-widgets/base",
      "model_module_version": "1.2.0",
      "model_name": "LayoutModel",
      "state": {}
     },
     "384fc85e416d4b11b1832ccfcb9aede0": {
      "model_module": "@jupyter-widgets/controls",
      "model_module_version": "1.5.0",
      "model_name": "HTMLModel",
      "state": {
       "layout": "IPY_MODEL_ef7c6f2c519f49e1815bc760f91fbdb5",
       "style": "IPY_MODEL_e3c4ad2576154b7b81329b3caad68dfb",
       "value": " 344/344 [00:19&lt;00:00, 17.74it/s, end_loss=0.816, jaccard=0.708, start_loss=0.829]"
      }
     },
     "38852bcdf762426999504c20d8c153e7": {
      "model_module": "@jupyter-widgets/base",
      "model_module_version": "1.2.0",
      "model_name": "LayoutModel",
      "state": {}
     },
     "388ca9ca3bd34dbab41df7016ac8f8ab": {
      "model_module": "@jupyter-widgets/controls",
      "model_module_version": "1.5.0",
      "model_name": "HBoxModel",
      "state": {
       "children": [
        "IPY_MODEL_e76f450b8e794308ade1f7376067c64e",
        "IPY_MODEL_f5240e2e883f4634a033420adf2c7365"
       ],
       "layout": "IPY_MODEL_de084182eaaa451eb570ac3a3e00bfe0"
      }
     },
     "38a0585780314d4faf4a1f94615417e7": {
      "model_module": "@jupyter-widgets/controls",
      "model_module_version": "1.5.0",
      "model_name": "ProgressStyleModel",
      "state": {
       "description_width": "initial"
      }
     },
     "38a62dee62ef4bed898220badd00309a": {
      "model_module": "@jupyter-widgets/base",
      "model_module_version": "1.2.0",
      "model_name": "LayoutModel",
      "state": {}
     },
     "38a9e4e8481d4773b5cc3235b7ed502b": {
      "model_module": "@jupyter-widgets/base",
      "model_module_version": "1.2.0",
      "model_name": "LayoutModel",
      "state": {}
     },
     "38b269803ba44c638d9ca8934b5ebd9f": {
      "model_module": "@jupyter-widgets/base",
      "model_module_version": "1.2.0",
      "model_name": "LayoutModel",
      "state": {}
     },
     "38cb4c23d3eb491c832fc7312ceb8dee": {
      "model_module": "@jupyter-widgets/base",
      "model_module_version": "1.2.0",
      "model_name": "LayoutModel",
      "state": {}
     },
     "38d0004bda214556a53683e4c342f4bf": {
      "model_module": "@jupyter-widgets/controls",
      "model_module_version": "1.5.0",
      "model_name": "DescriptionStyleModel",
      "state": {
       "description_width": ""
      }
     },
     "38e7680595814330842788aa450074cc": {
      "model_module": "@jupyter-widgets/base",
      "model_module_version": "1.2.0",
      "model_name": "LayoutModel",
      "state": {}
     },
     "38fcf741050a42378127ab98aa12106f": {
      "model_module": "@jupyter-widgets/base",
      "model_module_version": "1.2.0",
      "model_name": "LayoutModel",
      "state": {}
     },
     "3907fcbf47254d58bb9fac74966e1371": {
      "model_module": "@jupyter-widgets/controls",
      "model_module_version": "1.5.0",
      "model_name": "HTMLModel",
      "state": {
       "layout": "IPY_MODEL_f8ac9af2091d433e9826a96afe2b4abc",
       "style": "IPY_MODEL_b2cab02e802a45c6a211fc58928088f4",
       "value": " 344/344 [00:19&lt;00:00, 17.71it/s, end_loss=0.79, jaccard=0.711, start_loss=0.808]"
      }
     },
     "3925c8ce25564159895fb2c3a1d07883": {
      "model_module": "@jupyter-widgets/base",
      "model_module_version": "1.2.0",
      "model_name": "LayoutModel",
      "state": {}
     },
     "393ea2e2ecce452abeabe2d1155ae22c": {
      "model_module": "@jupyter-widgets/base",
      "model_module_version": "1.2.0",
      "model_name": "LayoutModel",
      "state": {}
     },
     "39a25cb8e1a644e1bf934af909523a65": {
      "model_module": "@jupyter-widgets/base",
      "model_module_version": "1.2.0",
      "model_name": "LayoutModel",
      "state": {}
     },
     "39ba7d54d1ba4a18a288ef56d053ac48": {
      "model_module": "@jupyter-widgets/controls",
      "model_module_version": "1.5.0",
      "model_name": "HBoxModel",
      "state": {
       "children": [
        "IPY_MODEL_4e5e96a9f8a74717addd2c4ab4c3401a",
        "IPY_MODEL_69099e12658e4405a5a9582fb720bb74"
       ],
       "layout": "IPY_MODEL_b4b4640e83b5438e9ac6cfe17f085bbd"
      }
     },
     "39bc3dca15dd45db90e5f9ba2a121c20": {
      "model_module": "@jupyter-widgets/base",
      "model_module_version": "1.2.0",
      "model_name": "LayoutModel",
      "state": {}
     },
     "39c1f060f9be4e9e80d0a6226af92b43": {
      "model_module": "@jupyter-widgets/controls",
      "model_module_version": "1.5.0",
      "model_name": "DescriptionStyleModel",
      "state": {
       "description_width": ""
      }
     },
     "39cd6709b30a4e9cb8d9307fda1230f3": {
      "model_module": "@jupyter-widgets/controls",
      "model_module_version": "1.5.0",
      "model_name": "HTMLModel",
      "state": {
       "layout": "IPY_MODEL_a148683d7670488d97c3d6875a44d5da",
       "style": "IPY_MODEL_5165cb28b5274647b2c1bfa45f9fc8ae",
       "value": " 344/344 [05:09&lt;00:00,  1.11it/s, end_loss=1.54, jaccard=0.587, start_loss=1.4]"
      }
     },
     "39ec4804eb8d4c9d8aae7dae339fd93a": {
      "model_module": "@jupyter-widgets/controls",
      "model_module_version": "1.5.0",
      "model_name": "FloatProgressModel",
      "state": {
       "bar_style": "success",
       "description": "100%",
       "layout": "IPY_MODEL_70f3f0d741ba45d09e843dfe835fce77",
       "max": 344,
       "style": "IPY_MODEL_010ed7b41ee749d6857739702a836005",
       "value": 344
      }
     },
     "39faa32fcaf249d8be58d3fcdc8f9f76": {
      "model_module": "@jupyter-widgets/base",
      "model_module_version": "1.2.0",
      "model_name": "LayoutModel",
      "state": {}
     },
     "3a2210b605fe48dd9f2ce37816b8f3ff": {
      "model_module": "@jupyter-widgets/controls",
      "model_module_version": "1.5.0",
      "model_name": "HBoxModel",
      "state": {
       "children": [
        "IPY_MODEL_34899df4fe094de78d94ee9c2769a936",
        "IPY_MODEL_71ca7dd2595b456a8ea8ba0b973baf27"
       ],
       "layout": "IPY_MODEL_5c674eeea8534a3eb11426e66535ba46"
      }
     },
     "3a23d24e5e6d4eb5a223b3fe7966454b": {
      "model_module": "@jupyter-widgets/controls",
      "model_module_version": "1.5.0",
      "model_name": "HTMLModel",
      "state": {
       "layout": "IPY_MODEL_2f591c3e9989470aa696e61c3947b452",
       "style": "IPY_MODEL_43b9d01df6984043aae2c2eb1ca1a4ad",
       "value": " 344/344 [03:24&lt;00:00,  1.68it/s, end_loss=0.909, jaccard=0.732, start_loss=0.969]"
      }
     },
     "3a32029ba7314948997b89fd80987c84": {
      "model_module": "@jupyter-widgets/base",
      "model_module_version": "1.2.0",
      "model_name": "LayoutModel",
      "state": {}
     },
     "3a3655c0cb094ad1a1663c0a9da2a62d": {
      "model_module": "@jupyter-widgets/controls",
      "model_module_version": "1.5.0",
      "model_name": "FloatProgressModel",
      "state": {
       "bar_style": "success",
       "description": "100%",
       "layout": "IPY_MODEL_5fb6e89c351b4100bdbbee61c1c2cf2e",
       "max": 344,
       "style": "IPY_MODEL_c581213cc224403d8f3d2e7471bb7e45",
       "value": 344
      }
     },
     "3a9acb3943ae4af0b3a37e9823ab2573": {
      "model_module": "@jupyter-widgets/controls",
      "model_module_version": "1.5.0",
      "model_name": "FloatProgressModel",
      "state": {
       "bar_style": "success",
       "description": "100%",
       "layout": "IPY_MODEL_afd4bd74c442404e9ce1f0f5bd49bf21",
       "max": 344,
       "style": "IPY_MODEL_ae493b53809f4bbfa6a5883d19ba4d96",
       "value": 344
      }
     },
     "3aad52d1b25e4734a257f28cb27336b9": {
      "model_module": "@jupyter-widgets/controls",
      "model_module_version": "1.5.0",
      "model_name": "HBoxModel",
      "state": {
       "children": [
        "IPY_MODEL_a999d23ad4ed49c8baf2bfe2e89d96c3",
        "IPY_MODEL_d92336bc649b4231b47fe004e706d918"
       ],
       "layout": "IPY_MODEL_1c8398ededdf4399a47cd9cb52c9b4f9"
      }
     },
     "3b46d75288284be4b71e01a544494de6": {
      "model_module": "@jupyter-widgets/controls",
      "model_module_version": "1.5.0",
      "model_name": "ProgressStyleModel",
      "state": {
       "description_width": "initial"
      }
     },
     "3b6e3609ae07471e90d2c374f13aa8c5": {
      "model_module": "@jupyter-widgets/controls",
      "model_module_version": "1.5.0",
      "model_name": "HBoxModel",
      "state": {
       "children": [
        "IPY_MODEL_c8f5c728bfe84a699cbe15de8651eb1b",
        "IPY_MODEL_92a41f386e1f4fbca13ee3e166b615ac"
       ],
       "layout": "IPY_MODEL_10f441923f0b4f8cb06a0e3d87f9d335"
      }
     },
     "3b96c397a0ea4416a5a5b1f9ae930a2c": {
      "model_module": "@jupyter-widgets/controls",
      "model_module_version": "1.5.0",
      "model_name": "HTMLModel",
      "state": {
       "layout": "IPY_MODEL_a07063ccea7e402093a60fd597927a66",
       "style": "IPY_MODEL_17d5b4da84b24613a02ec70bbe102219",
       "value": " 344/344 [00:20&lt;00:00, 16.59it/s, end_loss=0.901, jaccard=0.705, start_loss=0.972]"
      }
     },
     "3b9a2bf089fe4dc7aa63cef3ac59756c": {
      "model_module": "@jupyter-widgets/controls",
      "model_module_version": "1.5.0",
      "model_name": "HTMLModel",
      "state": {
       "layout": "IPY_MODEL_45aae8a19b334407b7d11408cafc4444",
       "style": "IPY_MODEL_8ca5f0f201134a3182958790d349a72d",
       "value": " 344/344 [03:32&lt;00:00,  1.62it/s, end_loss=1.67, jaccard=0.676, start_loss=1.72]"
      }
     },
     "3bcec6c6d31a4ede95ec847a5dc71f27": {
      "model_module": "@jupyter-widgets/base",
      "model_module_version": "1.2.0",
      "model_name": "LayoutModel",
      "state": {}
     },
     "3bda4a132cd24ce1bdf1a8a4c03c945f": {
      "model_module": "@jupyter-widgets/controls",
      "model_module_version": "1.5.0",
      "model_name": "ProgressStyleModel",
      "state": {
       "description_width": "initial"
      }
     },
     "3bdf642f3f904ea6b9ee1552d7f263eb": {
      "model_module": "@jupyter-widgets/base",
      "model_module_version": "1.2.0",
      "model_name": "LayoutModel",
      "state": {}
     },
     "3bf3f401cbba496eba6134aabb0c3bc4": {
      "model_module": "@jupyter-widgets/controls",
      "model_module_version": "1.5.0",
      "model_name": "DescriptionStyleModel",
      "state": {
       "description_width": ""
      }
     },
     "3c0f3b8bfe6c4f679f745dd9186605ca": {
      "model_module": "@jupyter-widgets/controls",
      "model_module_version": "1.5.0",
      "model_name": "ProgressStyleModel",
      "state": {
       "description_width": "initial"
      }
     },
     "3c1aa8876dbf49d08c48f9dcbc7b267c": {
      "model_module": "@jupyter-widgets/controls",
      "model_module_version": "1.5.0",
      "model_name": "HTMLModel",
      "state": {
       "layout": "IPY_MODEL_5e3548d2448447cfa33803585e3b4bd0",
       "style": "IPY_MODEL_2e16f6c7b01f4ea4b84d756e2ef8897a",
       "value": " 344/344 [00:22&lt;00:00, 15.45it/s, end_loss=0.882, jaccard=0.71, start_loss=0.901]"
      }
     },
     "3c29b35680614ab19cb5dc7a310d2207": {
      "model_module": "@jupyter-widgets/base",
      "model_module_version": "1.2.0",
      "model_name": "LayoutModel",
      "state": {}
     },
     "3c3a8eb3bc8c41699ba1a9f57faaadeb": {
      "model_module": "@jupyter-widgets/base",
      "model_module_version": "1.2.0",
      "model_name": "LayoutModel",
      "state": {}
     },
     "3c4374066d304f558fa01a3c5512c5fd": {
      "model_module": "@jupyter-widgets/base",
      "model_module_version": "1.2.0",
      "model_name": "LayoutModel",
      "state": {}
     },
     "3c4fad38ae6e4167b082a37a12a6a80d": {
      "model_module": "@jupyter-widgets/controls",
      "model_module_version": "1.5.0",
      "model_name": "DescriptionStyleModel",
      "state": {
       "description_width": ""
      }
     },
     "3c762a68a07a49f5a9d75f9be0ba57ff": {
      "model_module": "@jupyter-widgets/base",
      "model_module_version": "1.2.0",
      "model_name": "LayoutModel",
      "state": {}
     },
     "3c78c25912044ea282706c7e0792470a": {
      "model_module": "@jupyter-widgets/controls",
      "model_module_version": "1.5.0",
      "model_name": "HBoxModel",
      "state": {
       "children": [
        "IPY_MODEL_18ba6d6711aa4d7396685373fc71a520",
        "IPY_MODEL_1bf4aa1a79df4231b55eac66d91ee942"
       ],
       "layout": "IPY_MODEL_e109b260b0e942e3b772232d9bf221d3"
      }
     },
     "3ca5f6fdf5fe4f2aa57cabb9f2fde551": {
      "model_module": "@jupyter-widgets/base",
      "model_module_version": "1.2.0",
      "model_name": "LayoutModel",
      "state": {}
     },
     "3ce5dd6385cd41eb85a6b735e4e6557a": {
      "model_module": "@jupyter-widgets/base",
      "model_module_version": "1.2.0",
      "model_name": "LayoutModel",
      "state": {}
     },
     "3cea1fc7504a4271b763a0962253964e": {
      "model_module": "@jupyter-widgets/controls",
      "model_module_version": "1.5.0",
      "model_name": "HTMLModel",
      "state": {
       "layout": "IPY_MODEL_cfee6ee35e0d48ae87b20a4898bfda47",
       "style": "IPY_MODEL_d23bacd566aa4027b4160e942f07322d",
       "value": " 344/344 [59:44&lt;00:00, 10.42s/it, end_loss=1.71, jaccard=0.667, start_loss=1.73]"
      }
     },
     "3cf2b82b6caa459f8627bf2837890a43": {
      "model_module": "@jupyter-widgets/controls",
      "model_module_version": "1.5.0",
      "model_name": "HBoxModel",
      "state": {
       "children": [
        "IPY_MODEL_62e5d38cdb6e4257b73b9861690b3ee5",
        "IPY_MODEL_d7d8c56621cb4ba8bdcdf3f67f640a26"
       ],
       "layout": "IPY_MODEL_066f976053db4e9fb3d26386b8512b46"
      }
     },
     "3d2be837262346839cb6087fd18b3aee": {
      "model_module": "@jupyter-widgets/controls",
      "model_module_version": "1.5.0",
      "model_name": "HBoxModel",
      "state": {
       "children": [
        "IPY_MODEL_50a476b0b27142ac9684fe84f061356e",
        "IPY_MODEL_a74209dba5de4ec0a5677a8346b5d0eb"
       ],
       "layout": "IPY_MODEL_125fa27d94f84775823381ea443d97fe"
      }
     },
     "3d38bd5a2aac4a96a08d14224b48b78a": {
      "model_module": "@jupyter-widgets/controls",
      "model_module_version": "1.5.0",
      "model_name": "DescriptionStyleModel",
      "state": {
       "description_width": ""
      }
     },
     "3d46fc1b626c427ab762e8899131e7de": {
      "model_module": "@jupyter-widgets/controls",
      "model_module_version": "1.5.0",
      "model_name": "HTMLModel",
      "state": {
       "layout": "IPY_MODEL_38cb4c23d3eb491c832fc7312ceb8dee",
       "style": "IPY_MODEL_abedae028ef6451facebcac243c3f1b2",
       "value": " 344/344 [00:19&lt;00:00, 17.79it/s, end_loss=0.752, jaccard=0.708, merged_loss=1, start_loss=0.829]"
      }
     },
     "3d5f65da6d7f4e02aa311990319d5b41": {
      "model_module": "@jupyter-widgets/controls",
      "model_module_version": "1.5.0",
      "model_name": "ProgressStyleModel",
      "state": {
       "description_width": "initial"
      }
     },
     "3da13d05c05f4a20837edc52e075d5de": {
      "model_module": "@jupyter-widgets/base",
      "model_module_version": "1.2.0",
      "model_name": "LayoutModel",
      "state": {}
     },
     "3db32056fdb047e2b4e3b27fff443c65": {
      "model_module": "@jupyter-widgets/controls",
      "model_module_version": "1.5.0",
      "model_name": "HBoxModel",
      "state": {
       "children": [
        "IPY_MODEL_83334d64ed604de99174de42c4a187c3",
        "IPY_MODEL_3e38d89808554b4488d9a6e9ec404381"
       ],
       "layout": "IPY_MODEL_fecb8f57fc0440dfba1a4aa239457bdd"
      }
     },
     "3db3ab165def4815b173e859eefa9105": {
      "model_module": "@jupyter-widgets/controls",
      "model_module_version": "1.5.0",
      "model_name": "HTMLModel",
      "state": {
       "layout": "IPY_MODEL_7fa0f5ed9a954aa0bd80387ed9e81181",
       "style": "IPY_MODEL_0c5daec8fdaf45769cb55b7e40e65ab7",
       "value": " 344/344 [03:00&lt;00:00,  1.90it/s, end_loss=0.777, jaccard=0.708, merged_loss=0.992, start_loss=0.809]"
      }
     },
     "3dfa1cf66a6340b1b3902c842509dcfe": {
      "model_module": "@jupyter-widgets/base",
      "model_module_version": "1.2.0",
      "model_name": "LayoutModel",
      "state": {}
     },
     "3e38d89808554b4488d9a6e9ec404381": {
      "model_module": "@jupyter-widgets/controls",
      "model_module_version": "1.5.0",
      "model_name": "HTMLModel",
      "state": {
       "layout": "IPY_MODEL_23bfa95d46bf4c2ebd4e01c8ed515a12",
       "style": "IPY_MODEL_2963694dfce8443a809125e2f0572baa",
       "value": " 344/344 [07:09&lt;00:00,  1.25s/it, end_loss=0.662, jaccard=0.732, merged_loss=0.991, start_loss=0.728]"
      }
     },
     "3e40222caebe47e6b496526eb06c94ee": {
      "model_module": "@jupyter-widgets/controls",
      "model_module_version": "1.5.0",
      "model_name": "DescriptionStyleModel",
      "state": {
       "description_width": ""
      }
     },
     "3e748e90152440c8bfa255a25dd0ef38": {
      "model_module": "@jupyter-widgets/controls",
      "model_module_version": "1.5.0",
      "model_name": "DescriptionStyleModel",
      "state": {
       "description_width": ""
      }
     },
     "3eac90c4305040bfa230d8e024c53a1c": {
      "model_module": "@jupyter-widgets/base",
      "model_module_version": "1.2.0",
      "model_name": "LayoutModel",
      "state": {}
     },
     "3ec054807292480084756968787a6ead": {
      "model_module": "@jupyter-widgets/controls",
      "model_module_version": "1.5.0",
      "model_name": "HTMLModel",
      "state": {
       "layout": "IPY_MODEL_b6ed6e64367b4544b015ac578f7d3b19",
       "style": "IPY_MODEL_678661879d5543c5a52e2dede49031bc",
       "value": " 344/344 [00:19&lt;00:00, 17.43it/s, end_loss=1.5, jaccard=0.706, start_loss=1.55]"
      }
     },
     "3ec2d833f1e64855a244f5024163f8fd": {
      "model_module": "@jupyter-widgets/controls",
      "model_module_version": "1.5.0",
      "model_name": "FloatProgressModel",
      "state": {
       "bar_style": "success",
       "description": "100%",
       "layout": "IPY_MODEL_68d6ac8f15b845cead15307c5172e8dd",
       "max": 344,
       "style": "IPY_MODEL_ca06f26167964806ac00a597b61cd1d2",
       "value": 344
      }
     },
     "3ed43385aabd477fa09137581af3ae01": {
      "model_module": "@jupyter-widgets/controls",
      "model_module_version": "1.5.0",
      "model_name": "ProgressStyleModel",
      "state": {
       "description_width": "initial"
      }
     },
     "3eef2973d90b4989b8a4d9c8a3f87c74": {
      "model_module": "@jupyter-widgets/controls",
      "model_module_version": "1.5.0",
      "model_name": "HTMLModel",
      "state": {
       "layout": "IPY_MODEL_0f667233a2d64491a822f94624e2477e",
       "style": "IPY_MODEL_6c5dec6692eb4b6bbcf942c8de96e450",
       "value": " 344/344 [00:23&lt;00:00, 14.68it/s, end_loss=0.933, jaccard=0.709, start_loss=0.931]"
      }
     },
     "3ef31647700f4d698ee7f7ae8056bc16": {
      "model_module": "@jupyter-widgets/controls",
      "model_module_version": "1.5.0",
      "model_name": "ProgressStyleModel",
      "state": {
       "description_width": "initial"
      }
     },
     "3f1f37123a0c46be96fd848693d2dfc0": {
      "model_module": "@jupyter-widgets/controls",
      "model_module_version": "1.5.0",
      "model_name": "DescriptionStyleModel",
      "state": {
       "description_width": ""
      }
     },
     "3f403a08fe254529a5fa05c6b6a32d35": {
      "model_module": "@jupyter-widgets/base",
      "model_module_version": "1.2.0",
      "model_name": "LayoutModel",
      "state": {}
     },
     "3f4e81c333d446c4a6c3a2b5cb1f931c": {
      "model_module": "@jupyter-widgets/base",
      "model_module_version": "1.2.0",
      "model_name": "LayoutModel",
      "state": {}
     },
     "3f5420987d27417c89e22866e98ba6bd": {
      "model_module": "@jupyter-widgets/controls",
      "model_module_version": "1.5.0",
      "model_name": "DescriptionStyleModel",
      "state": {
       "description_width": ""
      }
     },
     "3f5cb930ecc7446ebdb58cd11b09b05b": {
      "model_module": "@jupyter-widgets/controls",
      "model_module_version": "1.5.0",
      "model_name": "DescriptionStyleModel",
      "state": {
       "description_width": ""
      }
     },
     "3f7fc33f53784bdda00ac124592b3ba2": {
      "model_module": "@jupyter-widgets/controls",
      "model_module_version": "1.5.0",
      "model_name": "DescriptionStyleModel",
      "state": {
       "description_width": ""
      }
     },
     "3f98bb87eca74f1d979309bef15a7e45": {
      "model_module": "@jupyter-widgets/controls",
      "model_module_version": "1.5.0",
      "model_name": "FloatProgressModel",
      "state": {
       "bar_style": "success",
       "description": "100%",
       "layout": "IPY_MODEL_4bf8ac87ba48418daa3c7ac896dc0482",
       "max": 344,
       "style": "IPY_MODEL_acd7dd2c0773457794a658729484032f",
       "value": 344
      }
     },
     "3f9d136f43994f2e911688bb2b582148": {
      "model_module": "@jupyter-widgets/controls",
      "model_module_version": "1.5.0",
      "model_name": "HTMLModel",
      "state": {
       "layout": "IPY_MODEL_3685ad0f13314533b41064e951f7a14a",
       "style": "IPY_MODEL_d25efda3e0314ec3bda6862ac5940808",
       "value": " 344/344 [06:16&lt;00:00,  1.09s/it, end_loss=0.715, jaccard=0.72, merged_loss=1, start_loss=0.769]"
      }
     },
     "3fa0874565ff4028b4040d9098136c3f": {
      "model_module": "@jupyter-widgets/controls",
      "model_module_version": "1.5.0",
      "model_name": "HBoxModel",
      "state": {
       "children": [
        "IPY_MODEL_4436332f40ee4fab8cf7abdeadd5cf6a",
        "IPY_MODEL_8e57e37e2ad34a32a723a37e72393d80"
       ],
       "layout": "IPY_MODEL_94d961a824ae449cba93920ddeb4169b"
      }
     },
     "3fdab8043eec4b588726773a2c0b6b72": {
      "model_module": "@jupyter-widgets/controls",
      "model_module_version": "1.5.0",
      "model_name": "ProgressStyleModel",
      "state": {
       "description_width": "initial"
      }
     },
     "3ff1965dab494d9b927953f1900cc6f3": {
      "model_module": "@jupyter-widgets/base",
      "model_module_version": "1.2.0",
      "model_name": "LayoutModel",
      "state": {}
     },
     "3ff5c937f1dd4b64b92fa9438b49d5f8": {
      "model_module": "@jupyter-widgets/controls",
      "model_module_version": "1.5.0",
      "model_name": "HTMLModel",
      "state": {
       "layout": "IPY_MODEL_ab4c975fbeeb412f98a66814cb74b0eb",
       "style": "IPY_MODEL_c4f23afeffd2447c80e42fd47b95768f",
       "value": " 344/344 [03:10&lt;00:00,  1.81it/s, end_loss=1.01, jaccard=0.664, start_loss=1.06]"
      }
     },
     "400c5ad8b4fc420782ba1088678cf279": {
      "model_module": "@jupyter-widgets/base",
      "model_module_version": "1.2.0",
      "model_name": "LayoutModel",
      "state": {}
     },
     "4033d3d8b9b94df59e8e006c0b4edf76": {
      "model_module": "@jupyter-widgets/controls",
      "model_module_version": "1.5.0",
      "model_name": "ProgressStyleModel",
      "state": {
       "description_width": "initial"
      }
     },
     "40851815e07042ce80d5866caf5fe70e": {
      "model_module": "@jupyter-widgets/controls",
      "model_module_version": "1.5.0",
      "model_name": "FloatProgressModel",
      "state": {
       "bar_style": "success",
       "description": "100%",
       "layout": "IPY_MODEL_ccb12e051e344ddc8d2bac4dc59930a9",
       "max": 344,
       "style": "IPY_MODEL_74a844b266934137b17b8cd642d553df",
       "value": 344
      }
     },
     "408905126fd24ac5945b52016bf03249": {
      "model_module": "@jupyter-widgets/controls",
      "model_module_version": "1.5.0",
      "model_name": "FloatProgressModel",
      "state": {
       "bar_style": "success",
       "description": "100%",
       "layout": "IPY_MODEL_5e66068f112f44c69c3ec8b27a7d944e",
       "max": 344,
       "style": "IPY_MODEL_6496a1ecf7b847688031ed08558b3b2d",
       "value": 344
      }
     },
     "4093e5045e244bc9b3dc4cfb026a7be4": {
      "model_module": "@jupyter-widgets/base",
      "model_module_version": "1.2.0",
      "model_name": "LayoutModel",
      "state": {}
     },
     "40998f9a85bf4fd8941f40a5e70388f4": {
      "model_module": "@jupyter-widgets/controls",
      "model_module_version": "1.5.0",
      "model_name": "HBoxModel",
      "state": {
       "children": [
        "IPY_MODEL_830b818d85054ccaa6dcd9466964d35a",
        "IPY_MODEL_bf7a5e09661247cfb8d3c99e99df0b97"
       ],
       "layout": "IPY_MODEL_34d71bac54da4185958b3bb5d572c6b0"
      }
     },
     "40f2d1d579b248ffb92aafac88cbf49e": {
      "model_module": "@jupyter-widgets/base",
      "model_module_version": "1.2.0",
      "model_name": "LayoutModel",
      "state": {}
     },
     "40ff198dbc6245faabd6ba8495faa505": {
      "model_module": "@jupyter-widgets/controls",
      "model_module_version": "1.5.0",
      "model_name": "HBoxModel",
      "state": {
       "children": [
        "IPY_MODEL_501ae510e78d487c855e11e0cb831c26",
        "IPY_MODEL_97b6341c6b9846129118b3982331cecd"
       ],
       "layout": "IPY_MODEL_6766bd0f025e4087a597c3e9fbd45d54"
      }
     },
     "4107bb7467364749b4fd85b54c00c8c4": {
      "model_module": "@jupyter-widgets/base",
      "model_module_version": "1.2.0",
      "model_name": "LayoutModel",
      "state": {}
     },
     "411572ff28f54414b082c3c5f71d8cc4": {
      "model_module": "@jupyter-widgets/controls",
      "model_module_version": "1.5.0",
      "model_name": "HTMLModel",
      "state": {
       "layout": "IPY_MODEL_6d0afb13fd3948b1a6ed9abbe04cbb03",
       "style": "IPY_MODEL_05c1c87bcb6543b49fa1eb1e508ff52b",
       "value": " 344/344 [05:55&lt;00:00,  1.03s/it, end_loss=1.06, jaccard=0.656, start_loss=1.11]"
      }
     },
     "4136a7839d5b42d7ac6ed25bfddbf07c": {
      "model_module": "@jupyter-widgets/controls",
      "model_module_version": "1.5.0",
      "model_name": "FloatProgressModel",
      "state": {
       "bar_style": "success",
       "description": "100%",
       "layout": "IPY_MODEL_c3e2e57d23c44d6585db51f87cbdc098",
       "max": 344,
       "style": "IPY_MODEL_1af366517465465a9ddde13b74e44e61",
       "value": 344
      }
     },
     "413baff9ff9f47288f19796289e9d53f": {
      "model_module": "@jupyter-widgets/base",
      "model_module_version": "1.2.0",
      "model_name": "LayoutModel",
      "state": {}
     },
     "4140fc7205384e8a8586238ec955c6a7": {
      "model_module": "@jupyter-widgets/controls",
      "model_module_version": "1.5.0",
      "model_name": "HBoxModel",
      "state": {
       "children": [
        "IPY_MODEL_51d94dffda5a448ab63edd8f7b4cf843",
        "IPY_MODEL_d5fd6e4988454293bb35f45cee767d13"
       ],
       "layout": "IPY_MODEL_b043d5d224274987adb2dc98e48b4ba7"
      }
     },
     "4145ff6e39444229a345d3ec8c340db1": {
      "model_module": "@jupyter-widgets/base",
      "model_module_version": "1.2.0",
      "model_name": "LayoutModel",
      "state": {}
     },
     "4154406c941a43cabef7ecd29da03775": {
      "model_module": "@jupyter-widgets/controls",
      "model_module_version": "1.5.0",
      "model_name": "HBoxModel",
      "state": {
       "children": [
        "IPY_MODEL_b5b86e8ca48c499598a34f1f159b0b39",
        "IPY_MODEL_14f84b82b04d43259c60d6886a5a2e91"
       ],
       "layout": "IPY_MODEL_b34965009eb04794ba5cf499b27bbad8"
      }
     },
     "4154750190b5445eae35b014b94f054d": {
      "model_module": "@jupyter-widgets/base",
      "model_module_version": "1.2.0",
      "model_name": "LayoutModel",
      "state": {}
     },
     "416246698c5c40e29427733d9663bece": {
      "model_module": "@jupyter-widgets/base",
      "model_module_version": "1.2.0",
      "model_name": "LayoutModel",
      "state": {}
     },
     "41644594ef5a48f99a246184ad1bcc9a": {
      "model_module": "@jupyter-widgets/base",
      "model_module_version": "1.2.0",
      "model_name": "LayoutModel",
      "state": {}
     },
     "41bf656ec42d4342a835836f4fcc832d": {
      "model_module": "@jupyter-widgets/base",
      "model_module_version": "1.2.0",
      "model_name": "LayoutModel",
      "state": {}
     },
     "41c323b09b724ebd830561100ac4177d": {
      "model_module": "@jupyter-widgets/controls",
      "model_module_version": "1.5.0",
      "model_name": "HBoxModel",
      "state": {
       "children": [
        "IPY_MODEL_b1d70c8ed6c244178e09b46e6ae2eb00",
        "IPY_MODEL_024b1094f6874fec83cd943dc6b61273"
       ],
       "layout": "IPY_MODEL_0d8c2daefccf4c18bc31e9e9ef816afb"
      }
     },
     "41e70012f90140ac94a5f2d05b8aba79": {
      "model_module": "@jupyter-widgets/controls",
      "model_module_version": "1.5.0",
      "model_name": "ProgressStyleModel",
      "state": {
       "description_width": "initial"
      }
     },
     "41f07b4bf47f4b47aac3662627411887": {
      "model_module": "@jupyter-widgets/base",
      "model_module_version": "1.2.0",
      "model_name": "LayoutModel",
      "state": {}
     },
     "4209fbf39b4045c78228220166d315f2": {
      "model_module": "@jupyter-widgets/controls",
      "model_module_version": "1.5.0",
      "model_name": "HTMLModel",
      "state": {
       "layout": "IPY_MODEL_53afdd96adee46ec9b6d806d6197fa41",
       "style": "IPY_MODEL_9a6b87381d784c9891f6281af18a8547",
       "value": " 344/344 [00:22&lt;00:00, 15.52it/s, end_loss=0.811, jaccard=0.716, start_loss=0.839]"
      }
     },
     "42170b71aee94d0b830f3efcf0972a5a": {
      "model_module": "@jupyter-widgets/base",
      "model_module_version": "1.2.0",
      "model_name": "LayoutModel",
      "state": {}
     },
     "421b28ed406a4b17a7fe7ce98027a9d5": {
      "model_module": "@jupyter-widgets/controls",
      "model_module_version": "1.5.0",
      "model_name": "ProgressStyleModel",
      "state": {
       "description_width": "initial"
      }
     },
     "421bcca191564814bb32c42bb77df435": {
      "model_module": "@jupyter-widgets/base",
      "model_module_version": "1.2.0",
      "model_name": "LayoutModel",
      "state": {}
     },
     "421d7b661df745d29be4b45716160a66": {
      "model_module": "@jupyter-widgets/base",
      "model_module_version": "1.2.0",
      "model_name": "LayoutModel",
      "state": {}
     },
     "424c5be0448c420e8be6eace5f1ed681": {
      "model_module": "@jupyter-widgets/controls",
      "model_module_version": "1.5.0",
      "model_name": "HBoxModel",
      "state": {
       "children": [
        "IPY_MODEL_ec731b6c9fa14e56a3283dda6a41854e",
        "IPY_MODEL_2cc0c704981b4c14a5771c56dfd73ed4"
       ],
       "layout": "IPY_MODEL_180549dd04354b70a66de8f59ffb3bd8"
      }
     },
     "4268987800c54265820d465a2d13c3ec": {
      "model_module": "@jupyter-widgets/controls",
      "model_module_version": "1.5.0",
      "model_name": "ProgressStyleModel",
      "state": {
       "description_width": "initial"
      }
     },
     "4275f1941846427a89d9cab7710bda45": {
      "model_module": "@jupyter-widgets/base",
      "model_module_version": "1.2.0",
      "model_name": "LayoutModel",
      "state": {}
     },
     "427d87492da8461880613a6f77849f08": {
      "model_module": "@jupyter-widgets/base",
      "model_module_version": "1.2.0",
      "model_name": "LayoutModel",
      "state": {}
     },
     "4285d10629984eee90354002983c8e86": {
      "model_module": "@jupyter-widgets/controls",
      "model_module_version": "1.5.0",
      "model_name": "HTMLModel",
      "state": {
       "layout": "IPY_MODEL_e653773a58d24b94b6a6def56a26d87c",
       "style": "IPY_MODEL_86f815b2135b490e99285dfffa696aeb",
       "value": " 344/344 [00:25&lt;00:00, 13.72it/s, end_loss=0.852, jaccard=0.707, start_loss=0.894]"
      }
     },
     "42aa5832097d41e29ccfbfb1f94c20d2": {
      "model_module": "@jupyter-widgets/controls",
      "model_module_version": "1.5.0",
      "model_name": "ProgressStyleModel",
      "state": {
       "description_width": "initial"
      }
     },
     "42afc8d3b4a64fcf948f2529eb28419f": {
      "model_module": "@jupyter-widgets/controls",
      "model_module_version": "1.5.0",
      "model_name": "DescriptionStyleModel",
      "state": {
       "description_width": ""
      }
     },
     "42bbcc28f71748568c014e42e11aa7a6": {
      "model_module": "@jupyter-widgets/base",
      "model_module_version": "1.2.0",
      "model_name": "LayoutModel",
      "state": {}
     },
     "42c3c262a4c34cb7aac0b14f2e4a1887": {
      "model_module": "@jupyter-widgets/controls",
      "model_module_version": "1.5.0",
      "model_name": "FloatProgressModel",
      "state": {
       "bar_style": "success",
       "description": "100%",
       "layout": "IPY_MODEL_7c5fea9d0ad1419681225f0b28ea9fab",
       "max": 344,
       "style": "IPY_MODEL_9df5ee07b823492a830a500e80c3c7c9",
       "value": 344
      }
     },
     "42dfe540f8474dbe97bf867f1b5558d1": {
      "model_module": "@jupyter-widgets/base",
      "model_module_version": "1.2.0",
      "model_name": "LayoutModel",
      "state": {}
     },
     "42dfef4769b64b98a92a7490f69036d5": {
      "model_module": "@jupyter-widgets/base",
      "model_module_version": "1.2.0",
      "model_name": "LayoutModel",
      "state": {}
     },
     "42f45dad627e4186b1b1ede3323c03fa": {
      "model_module": "@jupyter-widgets/controls",
      "model_module_version": "1.5.0",
      "model_name": "ProgressStyleModel",
      "state": {
       "description_width": "initial"
      }
     },
     "430bc436f886450daa054bf60376c9c2": {
      "model_module": "@jupyter-widgets/base",
      "model_module_version": "1.2.0",
      "model_name": "LayoutModel",
      "state": {}
     },
     "431584afbc8245d790a5a521f3e15640": {
      "model_module": "@jupyter-widgets/controls",
      "model_module_version": "1.5.0",
      "model_name": "HBoxModel",
      "state": {
       "children": [
        "IPY_MODEL_8f68c88da0aa4c11a4066b061820b165",
        "IPY_MODEL_d452115ab93d4b9e99aa38421543e511"
       ],
       "layout": "IPY_MODEL_bb05b8e6a47b42ba947fb5dce09fa22b"
      }
     },
     "4328068822ea4a238b444331b4bc2cfa": {
      "model_module": "@jupyter-widgets/base",
      "model_module_version": "1.2.0",
      "model_name": "LayoutModel",
      "state": {}
     },
     "433f864d49454b338c35ac9c9664ee77": {
      "model_module": "@jupyter-widgets/controls",
      "model_module_version": "1.5.0",
      "model_name": "HTMLModel",
      "state": {
       "layout": "IPY_MODEL_31eeca402f164d93bbfc75197afef0b4",
       "style": "IPY_MODEL_de24f6dfb20c460b8e97435ef85f8558",
       "value": " 344/344 [00:23&lt;00:00, 14.67it/s, end_loss=0.896, jaccard=0.708, start_loss=0.955]"
      }
     },
     "434a19ad59dc41f6aefea00726499763": {
      "model_module": "@jupyter-widgets/base",
      "model_module_version": "1.2.0",
      "model_name": "LayoutModel",
      "state": {}
     },
     "4391bbe56de248a89d73ed2fd658605d": {
      "model_module": "@jupyter-widgets/base",
      "model_module_version": "1.2.0",
      "model_name": "LayoutModel",
      "state": {}
     },
     "439cac1435c84c79bafa6973fd8a93ae": {
      "model_module": "@jupyter-widgets/controls",
      "model_module_version": "1.5.0",
      "model_name": "ProgressStyleModel",
      "state": {
       "description_width": "initial"
      }
     },
     "43b9d01df6984043aae2c2eb1ca1a4ad": {
      "model_module": "@jupyter-widgets/controls",
      "model_module_version": "1.5.0",
      "model_name": "DescriptionStyleModel",
      "state": {
       "description_width": ""
      }
     },
     "43eff06c67f14c35b11c46f1b3090f73": {
      "model_module": "@jupyter-widgets/base",
      "model_module_version": "1.2.0",
      "model_name": "LayoutModel",
      "state": {}
     },
     "4425e0d96c224d0985cac1e6a93bedf4": {
      "model_module": "@jupyter-widgets/base",
      "model_module_version": "1.2.0",
      "model_name": "LayoutModel",
      "state": {}
     },
     "442c2d605f63452e93950d862fdb109d": {
      "model_module": "@jupyter-widgets/controls",
      "model_module_version": "1.5.0",
      "model_name": "HBoxModel",
      "state": {
       "children": [
        "IPY_MODEL_03cd932aacdd45cb90494d9cc783a368",
        "IPY_MODEL_aa8cc70caed54b28ad145f9707c3bdfb"
       ],
       "layout": "IPY_MODEL_c60c9fb7c3cd4259b564c652c4948780"
      }
     },
     "4436332f40ee4fab8cf7abdeadd5cf6a": {
      "model_module": "@jupyter-widgets/controls",
      "model_module_version": "1.5.0",
      "model_name": "FloatProgressModel",
      "state": {
       "bar_style": "success",
       "description": "100%",
       "layout": "IPY_MODEL_682a844923cb46e2b7af7d79c1a777a5",
       "max": 344,
       "style": "IPY_MODEL_f7ec31d36b9547f5895b40e7104e21d3",
       "value": 344
      }
     },
     "44404f129c224193acb11afadf2edc68": {
      "model_module": "@jupyter-widgets/base",
      "model_module_version": "1.2.0",
      "model_name": "LayoutModel",
      "state": {}
     },
     "4461477a4e684441adc85b2f0ad91e0b": {
      "model_module": "@jupyter-widgets/controls",
      "model_module_version": "1.5.0",
      "model_name": "ProgressStyleModel",
      "state": {
       "description_width": "initial"
      }
     },
     "44779861c7ca481b81cfd0db84c11942": {
      "model_module": "@jupyter-widgets/controls",
      "model_module_version": "1.5.0",
      "model_name": "FloatProgressModel",
      "state": {
       "bar_style": "success",
       "description": "100%",
       "layout": "IPY_MODEL_a3b3175848844c619bb6e742e835cc85",
       "max": 344,
       "style": "IPY_MODEL_e15f05213b98464eb0c1abd9d10e15e2",
       "value": 344
      }
     },
     "44ae5e1d88ff46579f93f3f79ea07618": {
      "model_module": "@jupyter-widgets/controls",
      "model_module_version": "1.5.0",
      "model_name": "ProgressStyleModel",
      "state": {
       "description_width": "initial"
      }
     },
     "44b5d6e77a224fcc9576f52533dc7a38": {
      "model_module": "@jupyter-widgets/controls",
      "model_module_version": "1.5.0",
      "model_name": "HTMLModel",
      "state": {
       "layout": "IPY_MODEL_1964973a8540491193a1dde6d909cdc0",
       "style": "IPY_MODEL_5063ccf610364a5e9159efaa196a8130",
       "value": " 344/344 [03:36&lt;00:00,  1.59it/s, end_loss=0.972, jaccard=0.672, start_loss=1.03]"
      }
     },
     "45024b34345540f68412fb947b3d5fa8": {
      "model_module": "@jupyter-widgets/base",
      "model_module_version": "1.2.0",
      "model_name": "LayoutModel",
      "state": {}
     },
     "45034dd31a8b48879d8b555cc4f2dcde": {
      "model_module": "@jupyter-widgets/controls",
      "model_module_version": "1.5.0",
      "model_name": "ProgressStyleModel",
      "state": {
       "description_width": "initial"
      }
     },
     "45099a8e66a84766a5875b0e1d0be6df": {
      "model_module": "@jupyter-widgets/controls",
      "model_module_version": "1.5.0",
      "model_name": "ProgressStyleModel",
      "state": {
       "description_width": "initial"
      }
     },
     "4516cc70f765491f947fb86847d3a230": {
      "model_module": "@jupyter-widgets/controls",
      "model_module_version": "1.5.0",
      "model_name": "HBoxModel",
      "state": {
       "children": [
        "IPY_MODEL_9d58fe88fed74457b230359f1985d3c3",
        "IPY_MODEL_be4e7775c50844898292e597ea460b10"
       ],
       "layout": "IPY_MODEL_f1db5cb3449b4c869e7a84c68b9a6a95"
      }
     },
     "451d2e6a567c4e7385a2c8da2b81d1bd": {
      "model_module": "@jupyter-widgets/controls",
      "model_module_version": "1.5.0",
      "model_name": "ProgressStyleModel",
      "state": {
       "description_width": "initial"
      }
     },
     "453df0bb53584f59a4609b08f7f7921e": {
      "model_module": "@jupyter-widgets/controls",
      "model_module_version": "1.5.0",
      "model_name": "DescriptionStyleModel",
      "state": {
       "description_width": ""
      }
     },
     "4547e50720cc47c6b96ef4170a3fa21f": {
      "model_module": "@jupyter-widgets/controls",
      "model_module_version": "1.5.0",
      "model_name": "HTMLModel",
      "state": {
       "layout": "IPY_MODEL_ae8f25ce38ca441b89816903297984e4",
       "style": "IPY_MODEL_677ca9d174014421af58fc86b2382088",
       "value": " 344/344 [00:19&lt;00:00, 17.69it/s, end_loss=1.5, jaccard=0.707, start_loss=1.56]"
      }
     },
     "455d52c7953c42f49cffb1dc1aa90263": {
      "model_module": "@jupyter-widgets/controls",
      "model_module_version": "1.5.0",
      "model_name": "FloatProgressModel",
      "state": {
       "bar_style": "success",
       "description": "100%",
       "layout": "IPY_MODEL_8f5a7156569a41c4ab4618607cf83989",
       "max": 344,
       "style": "IPY_MODEL_b3079bd543e94989a7deb05bc8e074fc",
       "value": 344
      }
     },
     "4585c4d812834116bd9e16e009d93694": {
      "model_module": "@jupyter-widgets/controls",
      "model_module_version": "1.5.0",
      "model_name": "DescriptionStyleModel",
      "state": {
       "description_width": ""
      }
     },
     "458c67d55de2400d85a929f742b343cb": {
      "model_module": "@jupyter-widgets/controls",
      "model_module_version": "1.5.0",
      "model_name": "FloatProgressModel",
      "state": {
       "bar_style": "success",
       "description": "100%",
       "layout": "IPY_MODEL_7903e4acdd4c47e5a5a7afbf9f6b7ae3",
       "max": 344,
       "style": "IPY_MODEL_451d2e6a567c4e7385a2c8da2b81d1bd",
       "value": 344
      }
     },
     "45a9e76d6b2e4c8fa3191150b21bc030": {
      "model_module": "@jupyter-widgets/base",
      "model_module_version": "1.2.0",
      "model_name": "LayoutModel",
      "state": {}
     },
     "45aae8a19b334407b7d11408cafc4444": {
      "model_module": "@jupyter-widgets/base",
      "model_module_version": "1.2.0",
      "model_name": "LayoutModel",
      "state": {}
     },
     "45b668fa13b448fd8be80297e67e9258": {
      "model_module": "@jupyter-widgets/controls",
      "model_module_version": "1.5.0",
      "model_name": "FloatProgressModel",
      "state": {
       "bar_style": "success",
       "description": "100%",
       "layout": "IPY_MODEL_500b12a514834d33ab77cbca0b4d11f4",
       "max": 344,
       "style": "IPY_MODEL_d04682cda5e34bbdb2920f7b336fe073",
       "value": 344
      }
     },
     "45d5d25b20c34a4d83e0eeb46141fae8": {
      "model_module": "@jupyter-widgets/controls",
      "model_module_version": "1.5.0",
      "model_name": "HTMLModel",
      "state": {
       "layout": "IPY_MODEL_487bcacc740a451eb553178735cdadc6",
       "style": "IPY_MODEL_d194be2527e149b1a836838d570dad6c",
       "value": " 344/344 [24:43&lt;00:00,  4.31s/it, end_loss=1.69, jaccard=0.667, start_loss=1.75]"
      }
     },
     "45e93c49b5ac4ebbab9fbc7bfb491d61": {
      "model_module": "@jupyter-widgets/controls",
      "model_module_version": "1.5.0",
      "model_name": "HBoxModel",
      "state": {
       "children": [
        "IPY_MODEL_1fa482316190456582fa468a5ed7b572",
        "IPY_MODEL_c7e580ccf30b498199076eee71e696b1"
       ],
       "layout": "IPY_MODEL_a76f97bb174e470eafe29ffe78a38097"
      }
     },
     "45f731b5cf424fc1aa8e8a233f36c69f": {
      "model_module": "@jupyter-widgets/controls",
      "model_module_version": "1.5.0",
      "model_name": "FloatProgressModel",
      "state": {
       "bar_style": "success",
       "description": "100%",
       "layout": "IPY_MODEL_0bbd71e3c62f48c08058c334119e4b12",
       "max": 344,
       "style": "IPY_MODEL_d8c19259869848088ee0bdafdf85c210",
       "value": 344
      }
     },
     "45fac782560a42d9b05485960c6600bf": {
      "model_module": "@jupyter-widgets/base",
      "model_module_version": "1.2.0",
      "model_name": "LayoutModel",
      "state": {}
     },
     "4607e9ae73bc472a89f364c858c7c695": {
      "model_module": "@jupyter-widgets/base",
      "model_module_version": "1.2.0",
      "model_name": "LayoutModel",
      "state": {}
     },
     "46140e91c52342efa8d505d7582f3941": {
      "model_module": "@jupyter-widgets/controls",
      "model_module_version": "1.5.0",
      "model_name": "HTMLModel",
      "state": {
       "layout": "IPY_MODEL_34411453d99643318c3910d8530be98a",
       "style": "IPY_MODEL_75f30ec8b42d4b13a13771a07bcac189",
       "value": " 344/344 [00:19&lt;00:00, 17.75it/s, end_loss=1.46, jaccard=0.715, start_loss=1.52]"
      }
     },
     "46208a3de9614721aee3dc443e9d0c9b": {
      "model_module": "@jupyter-widgets/controls",
      "model_module_version": "1.5.0",
      "model_name": "ProgressStyleModel",
      "state": {
       "description_width": "initial"
      }
     },
     "463458432c164aee89690eb70e1130ce": {
      "model_module": "@jupyter-widgets/base",
      "model_module_version": "1.2.0",
      "model_name": "LayoutModel",
      "state": {}
     },
     "466c6726def34499a976889e793d3c83": {
      "model_module": "@jupyter-widgets/controls",
      "model_module_version": "1.5.0",
      "model_name": "HTMLModel",
      "state": {
       "layout": "IPY_MODEL_471c948f958749adbf7bbad8503016b0",
       "style": "IPY_MODEL_7b0a0bca5b514333a9da9b655a003258",
       "value": " 344/344 [03:27&lt;00:00,  1.65it/s, end_loss=1.15, jaccard=0.637, start_loss=1.17]"
      }
     },
     "469b7671002140a48720b8da163835f2": {
      "model_module": "@jupyter-widgets/controls",
      "model_module_version": "1.5.0",
      "model_name": "HBoxModel",
      "state": {
       "children": [
        "IPY_MODEL_e8e7aa07d0954832b67598b33f050c54",
        "IPY_MODEL_dd4d744683cd4c6486920129ed66896c"
       ],
       "layout": "IPY_MODEL_29aa2318dd904b6f8cf36e6fcd3c6241"
      }
     },
     "46ac614f7e644c0590fe1bb2dc7d77a3": {
      "model_module": "@jupyter-widgets/base",
      "model_module_version": "1.2.0",
      "model_name": "LayoutModel",
      "state": {}
     },
     "46ce2e2f00b34dd6bc03974ce7246805": {
      "model_module": "@jupyter-widgets/controls",
      "model_module_version": "1.5.0",
      "model_name": "HBoxModel",
      "state": {
       "children": [
        "IPY_MODEL_d375c6092008441693a422aee8e566b1",
        "IPY_MODEL_daa38b31847044fb9d04a0143d997f7c"
       ],
       "layout": "IPY_MODEL_4a9e9ec731b4495ea416e718571bee63"
      }
     },
     "46eb2d9170a349758d587e41047a8ea9": {
      "model_module": "@jupyter-widgets/base",
      "model_module_version": "1.2.0",
      "model_name": "LayoutModel",
      "state": {}
     },
     "4704d13c4a634ee595ee275bbfd33cd7": {
      "model_module": "@jupyter-widgets/base",
      "model_module_version": "1.2.0",
      "model_name": "LayoutModel",
      "state": {}
     },
     "4705b38e67b44a7688d31c535566ee33": {
      "model_module": "@jupyter-widgets/controls",
      "model_module_version": "1.5.0",
      "model_name": "HTMLModel",
      "state": {
       "layout": "IPY_MODEL_d9c698e4be9e45c48044084646005893",
       "style": "IPY_MODEL_2b957c000cf74f1792eb41a8b2049e8f",
       "value": " 344/344 [00:19&lt;00:00, 17.63it/s, end_loss=0.75, jaccard=0.718, merged_loss=0.988, start_loss=0.833]"
      }
     },
     "470d06036573498daf6461c3fe4c06b7": {
      "model_module": "@jupyter-widgets/controls",
      "model_module_version": "1.5.0",
      "model_name": "ProgressStyleModel",
      "state": {
       "description_width": "initial"
      }
     },
     "470fe3bf92194a66a74a4a4494b5e514": {
      "model_module": "@jupyter-widgets/base",
      "model_module_version": "1.2.0",
      "model_name": "LayoutModel",
      "state": {}
     },
     "471c948f958749adbf7bbad8503016b0": {
      "model_module": "@jupyter-widgets/base",
      "model_module_version": "1.2.0",
      "model_name": "LayoutModel",
      "state": {}
     },
     "473184b0f14249e88bc7565f9f7060b1": {
      "model_module": "@jupyter-widgets/base",
      "model_module_version": "1.2.0",
      "model_name": "LayoutModel",
      "state": {}
     },
     "476be6e17c754a54a81209e20c41cdb8": {
      "model_module": "@jupyter-widgets/base",
      "model_module_version": "1.2.0",
      "model_name": "LayoutModel",
      "state": {}
     },
     "4777595d15604e1bbfaaf2b909d3fe81": {
      "model_module": "@jupyter-widgets/base",
      "model_module_version": "1.2.0",
      "model_name": "LayoutModel",
      "state": {}
     },
     "479c56fdd615483497b8a0ec468e3ed3": {
      "model_module": "@jupyter-widgets/base",
      "model_module_version": "1.2.0",
      "model_name": "LayoutModel",
      "state": {}
     },
     "47c7e40458f9474e9d70d3495b0af854": {
      "model_module": "@jupyter-widgets/base",
      "model_module_version": "1.2.0",
      "model_name": "LayoutModel",
      "state": {}
     },
     "47cc299f52c54477bbfa63d33c1b2115": {
      "model_module": "@jupyter-widgets/controls",
      "model_module_version": "1.5.0",
      "model_name": "HTMLModel",
      "state": {
       "layout": "IPY_MODEL_dde1f017ac2b4147b5ea049209628b77",
       "style": "IPY_MODEL_aedf35e817b04030b664b44002c29924",
       "value": " 344/344 [00:19&lt;00:00, 17.59it/s, end_loss=0.795, jaccard=0.694, start_loss=0.859]"
      }
     },
     "4805a8b81824471a8aab45c733459e1f": {
      "model_module": "@jupyter-widgets/base",
      "model_module_version": "1.2.0",
      "model_name": "LayoutModel",
      "state": {}
     },
     "482e8b06dc9c4cdeaa140702405bd367": {
      "model_module": "@jupyter-widgets/base",
      "model_module_version": "1.2.0",
      "model_name": "LayoutModel",
      "state": {}
     },
     "485d4bbfc2f44c2c92684c670c0bc62c": {
      "model_module": "@jupyter-widgets/controls",
      "model_module_version": "1.5.0",
      "model_name": "FloatProgressModel",
      "state": {
       "bar_style": "success",
       "description": "100%",
       "layout": "IPY_MODEL_019595122e11425b876dcd2c7b3447b9",
       "max": 344,
       "style": "IPY_MODEL_36ba2c260c114c1e9951f9a9c4819a86",
       "value": 344
      }
     },
     "48782b0c1b434a64a58eeebf7f8d69c2": {
      "model_module": "@jupyter-widgets/base",
      "model_module_version": "1.2.0",
      "model_name": "LayoutModel",
      "state": {}
     },
     "4878bb05f9744116b894804c07122124": {
      "model_module": "@jupyter-widgets/controls",
      "model_module_version": "1.5.0",
      "model_name": "DescriptionStyleModel",
      "state": {
       "description_width": ""
      }
     },
     "487bcacc740a451eb553178735cdadc6": {
      "model_module": "@jupyter-widgets/base",
      "model_module_version": "1.2.0",
      "model_name": "LayoutModel",
      "state": {}
     },
     "48a4457c7101449cb045c5232442b846": {
      "model_module": "@jupyter-widgets/base",
      "model_module_version": "1.2.0",
      "model_name": "LayoutModel",
      "state": {}
     },
     "48bf8b19b732433a97ed4b8560d664aa": {
      "model_module": "@jupyter-widgets/base",
      "model_module_version": "1.2.0",
      "model_name": "LayoutModel",
      "state": {}
     },
     "48ce5c1654144c2aad4d35d61049ef2b": {
      "model_module": "@jupyter-widgets/controls",
      "model_module_version": "1.5.0",
      "model_name": "HTMLModel",
      "state": {
       "layout": "IPY_MODEL_20dbe315cbfc4cd388fc071cd5a21e7d",
       "style": "IPY_MODEL_879de976edae44dc9eff27dcbe46a022",
       "value": " 344/344 [03:30&lt;00:00,  1.63it/s, end_loss=1.66, jaccard=0.677, start_loss=1.72]"
      }
     },
     "48d235242b524417848487e761893416": {
      "model_module": "@jupyter-widgets/controls",
      "model_module_version": "1.5.0",
      "model_name": "HBoxModel",
      "state": {
       "children": [
        "IPY_MODEL_ba5db5e003704149b2fa987318c04b1c",
        "IPY_MODEL_6c759cc1c82b4e059e8df7950f6b9e07"
       ],
       "layout": "IPY_MODEL_72b4738aec6a42a89f09b522200a2e8a"
      }
     },
     "48d659e9351a43a38f6ff4e291a4c0cc": {
      "model_module": "@jupyter-widgets/controls",
      "model_module_version": "1.5.0",
      "model_name": "FloatProgressModel",
      "state": {
       "bar_style": "success",
       "description": "100%",
       "layout": "IPY_MODEL_b7d1e608886442cbae2e226d3dc6fc0d",
       "max": 344,
       "style": "IPY_MODEL_3fdab8043eec4b588726773a2c0b6b72",
       "value": 344
      }
     },
     "4912fb5b5ab64360bf1b88aef2c9bc34": {
      "model_module": "@jupyter-widgets/controls",
      "model_module_version": "1.5.0",
      "model_name": "DescriptionStyleModel",
      "state": {
       "description_width": ""
      }
     },
     "49144077dbd8432dbfacdf373e02192d": {
      "model_module": "@jupyter-widgets/base",
      "model_module_version": "1.2.0",
      "model_name": "LayoutModel",
      "state": {}
     },
     "4946a7fd582947c5b3e358abc031d45b": {
      "model_module": "@jupyter-widgets/controls",
      "model_module_version": "1.5.0",
      "model_name": "HBoxModel",
      "state": {
       "children": [
        "IPY_MODEL_844ff819d6d14cf5b76bd2f0e69f954c",
        "IPY_MODEL_0c8cc0dab97641ce826445c51d9c4ae3"
       ],
       "layout": "IPY_MODEL_5614b322128149acb0e6ade9aab133fb"
      }
     },
     "494b489f3c5e49858f378a806f932e80": {
      "model_module": "@jupyter-widgets/base",
      "model_module_version": "1.2.0",
      "model_name": "LayoutModel",
      "state": {}
     },
     "495ece4e1ff04ae0a9cc22fa907d4621": {
      "model_module": "@jupyter-widgets/base",
      "model_module_version": "1.2.0",
      "model_name": "LayoutModel",
      "state": {}
     },
     "496f833521b6447ca7c4c55a3946b1b1": {
      "model_module": "@jupyter-widgets/base",
      "model_module_version": "1.2.0",
      "model_name": "LayoutModel",
      "state": {}
     },
     "498295d2fc4c40e8b094e671a413ee56": {
      "model_module": "@jupyter-widgets/base",
      "model_module_version": "1.2.0",
      "model_name": "LayoutModel",
      "state": {}
     },
     "49c9f378a3b147cc8871fa4dd173e625": {
      "model_module": "@jupyter-widgets/controls",
      "model_module_version": "1.5.0",
      "model_name": "HBoxModel",
      "state": {
       "children": [
        "IPY_MODEL_983d1413b1b8482aa78ba1251a4ed3b0",
        "IPY_MODEL_2e186382c3ba4b418381e31192809255"
       ],
       "layout": "IPY_MODEL_d7fdf69dd00e4182bbd0f2094532de32"
      }
     },
     "49d5e5596ece4bacb9aabbd1cabc6502": {
      "model_module": "@jupyter-widgets/base",
      "model_module_version": "1.2.0",
      "model_name": "LayoutModel",
      "state": {}
     },
     "49dfd6223be54cd5afb87de4ac504892": {
      "model_module": "@jupyter-widgets/base",
      "model_module_version": "1.2.0",
      "model_name": "LayoutModel",
      "state": {}
     },
     "49e4ccf7f8fb438bab95f69013fe8d77": {
      "model_module": "@jupyter-widgets/controls",
      "model_module_version": "1.5.0",
      "model_name": "FloatProgressModel",
      "state": {
       "bar_style": "success",
       "description": "100%",
       "layout": "IPY_MODEL_df6f6f8445b14b3d9aa92ffa2c12b6f5",
       "max": 344,
       "style": "IPY_MODEL_7e45a8d4eba744279457800c938cede3",
       "value": 344
      }
     },
     "49f3becd4e854c9db9e529200bb42cc4": {
      "model_module": "@jupyter-widgets/controls",
      "model_module_version": "1.5.0",
      "model_name": "ProgressStyleModel",
      "state": {
       "description_width": "initial"
      }
     },
     "4a1dc3170aaa4c08bb0d05b59fd487fa": {
      "model_module": "@jupyter-widgets/base",
      "model_module_version": "1.2.0",
      "model_name": "LayoutModel",
      "state": {}
     },
     "4a20871161ca4db0a954ea3de449ea19": {
      "model_module": "@jupyter-widgets/controls",
      "model_module_version": "1.5.0",
      "model_name": "FloatProgressModel",
      "state": {
       "bar_style": "success",
       "description": "100%",
       "layout": "IPY_MODEL_5e7f0deab9e247698ae89b9bed7d36c5",
       "max": 344,
       "style": "IPY_MODEL_bb7ecbc31cd84fb591b2ea2660c5e5cc",
       "value": 344
      }
     },
     "4a33834cdbda4478aa64dc914425c71b": {
      "model_module": "@jupyter-widgets/controls",
      "model_module_version": "1.5.0",
      "model_name": "DescriptionStyleModel",
      "state": {
       "description_width": ""
      }
     },
     "4a5d6cb609004bba9bedfcc986988bc4": {
      "model_module": "@jupyter-widgets/controls",
      "model_module_version": "1.5.0",
      "model_name": "HTMLModel",
      "state": {
       "layout": "IPY_MODEL_373a8b09c26f41c3be3b6ad21586301a",
       "style": "IPY_MODEL_eb2d7d40431d41fdabf3b43fda9ca4aa",
       "value": " 344/344 [04:42&lt;00:00,  1.22it/s, end_loss=1.41, jaccard=0.63, start_loss=1.38]"
      }
     },
     "4a9e9ec731b4495ea416e718571bee63": {
      "model_module": "@jupyter-widgets/base",
      "model_module_version": "1.2.0",
      "model_name": "LayoutModel",
      "state": {}
     },
     "4aaca169b9094c9c953f6403db1fb429": {
      "model_module": "@jupyter-widgets/controls",
      "model_module_version": "1.5.0",
      "model_name": "DescriptionStyleModel",
      "state": {
       "description_width": ""
      }
     },
     "4aefa7189b7e41f4af71b31653095507": {
      "model_module": "@jupyter-widgets/controls",
      "model_module_version": "1.5.0",
      "model_name": "HTMLModel",
      "state": {
       "layout": "IPY_MODEL_a2fc3cf68d9e4069b14a6709a109eb98",
       "style": "IPY_MODEL_da34fc432ff04323ad73d0f8d93b48f4",
       "value": " 344/344 [00:21&lt;00:00, 16.31it/s, end_loss=0.873, jaccard=0.707, start_loss=0.946]"
      }
     },
     "4af40f8266714b8ca57c3b0015dff2f7": {
      "model_module": "@jupyter-widgets/controls",
      "model_module_version": "1.5.0",
      "model_name": "DescriptionStyleModel",
      "state": {
       "description_width": ""
      }
     },
     "4af7560fe03441a3a2c06f2280295dac": {
      "model_module": "@jupyter-widgets/base",
      "model_module_version": "1.2.0",
      "model_name": "LayoutModel",
      "state": {}
     },
     "4af99ad095724ecd88d973bcfa79bb6d": {
      "model_module": "@jupyter-widgets/base",
      "model_module_version": "1.2.0",
      "model_name": "LayoutModel",
      "state": {}
     },
     "4b08d0da361e4a19b98b462e81fbae72": {
      "model_module": "@jupyter-widgets/controls",
      "model_module_version": "1.5.0",
      "model_name": "ProgressStyleModel",
      "state": {
       "description_width": "initial"
      }
     },
     "4b20a9eec14843a4b6c26748e3ca255e": {
      "model_module": "@jupyter-widgets/controls",
      "model_module_version": "1.5.0",
      "model_name": "FloatProgressModel",
      "state": {
       "bar_style": "success",
       "description": "100%",
       "layout": "IPY_MODEL_9efb4408d229489699fd4428fd218e2f",
       "max": 344,
       "style": "IPY_MODEL_5a08c55950944ab3b195b8d24c007f29",
       "value": 344
      }
     },
     "4b6b32251b894b238e517ab9db70f40b": {
      "model_module": "@jupyter-widgets/controls",
      "model_module_version": "1.5.0",
      "model_name": "HTMLModel",
      "state": {
       "layout": "IPY_MODEL_ef79993290854946bf07f83ba9d66720",
       "style": "IPY_MODEL_7eb48157341a431a98e17c364e26ff9a",
       "value": " 128/344 [01:05&lt;01:53,  1.91it/s, end_loss=-705, jaccard=0.371, start_loss=-712]"
      }
     },
     "4b81d4da03404293ab86bfd368de2547": {
      "model_module": "@jupyter-widgets/controls",
      "model_module_version": "1.5.0",
      "model_name": "ProgressStyleModel",
      "state": {
       "description_width": "initial"
      }
     },
     "4b9772c1b0884daca64e056eb3db4cca": {
      "model_module": "@jupyter-widgets/controls",
      "model_module_version": "1.5.0",
      "model_name": "DescriptionStyleModel",
      "state": {
       "description_width": ""
      }
     },
     "4b9c16104b424b7782936adb74fdce45": {
      "model_module": "@jupyter-widgets/controls",
      "model_module_version": "1.5.0",
      "model_name": "HTMLModel",
      "state": {
       "layout": "IPY_MODEL_cb263ac4ccd9485591895faa7e0c6c89",
       "style": "IPY_MODEL_8f12ae5c6d1349ebb4c0383c498ef475",
       "value": " 344/344 [06:49&lt;00:00,  1.19s/it, end_loss=0.785, jaccard=0.714, start_loss=0.823]"
      }
     },
     "4bae2a1acc1b47918a64d10a81e2b056": {
      "model_module": "@jupyter-widgets/base",
      "model_module_version": "1.2.0",
      "model_name": "LayoutModel",
      "state": {}
     },
     "4baf768aeacb46178533e3339f76117d": {
      "model_module": "@jupyter-widgets/base",
      "model_module_version": "1.2.0",
      "model_name": "LayoutModel",
      "state": {}
     },
     "4bc4986b752b4e1282c7adb1c0fee188": {
      "model_module": "@jupyter-widgets/controls",
      "model_module_version": "1.5.0",
      "model_name": "DescriptionStyleModel",
      "state": {
       "description_width": ""
      }
     },
     "4bd561b30eed4096a971792f7d3b4c05": {
      "model_module": "@jupyter-widgets/controls",
      "model_module_version": "1.5.0",
      "model_name": "HBoxModel",
      "state": {
       "children": [
        "IPY_MODEL_6cc15f9321234f9cb335fe864357ba5d",
        "IPY_MODEL_f6ba9b7f5e264e5593c90569ad33a605"
       ],
       "layout": "IPY_MODEL_b67476481dd04567bae1d991b1c847a1"
      }
     },
     "4bda3f81e80b407f980826c60f08cf5b": {
      "model_module": "@jupyter-widgets/base",
      "model_module_version": "1.2.0",
      "model_name": "LayoutModel",
      "state": {}
     },
     "4bdba29c099b4da1b874bc0e78059052": {
      "model_module": "@jupyter-widgets/base",
      "model_module_version": "1.2.0",
      "model_name": "LayoutModel",
      "state": {}
     },
     "4be6a400166b4d6fbd8957d860d99cce": {
      "model_module": "@jupyter-widgets/controls",
      "model_module_version": "1.5.0",
      "model_name": "DescriptionStyleModel",
      "state": {
       "description_width": ""
      }
     },
     "4bf8ac87ba48418daa3c7ac896dc0482": {
      "model_module": "@jupyter-widgets/base",
      "model_module_version": "1.2.0",
      "model_name": "LayoutModel",
      "state": {}
     },
     "4bfd5de857014a73b0794ab9e1891852": {
      "model_module": "@jupyter-widgets/controls",
      "model_module_version": "1.5.0",
      "model_name": "ProgressStyleModel",
      "state": {
       "description_width": "initial"
      }
     },
     "4c325ddab82f4f07b426d28b43f5aced": {
      "model_module": "@jupyter-widgets/base",
      "model_module_version": "1.2.0",
      "model_name": "LayoutModel",
      "state": {}
     },
     "4c3d1f7c9cbd4cb890c6c8740ec3cc34": {
      "model_module": "@jupyter-widgets/controls",
      "model_module_version": "1.5.0",
      "model_name": "DescriptionStyleModel",
      "state": {
       "description_width": ""
      }
     },
     "4c4b0415a1f747df9c9b27c99eaf48fd": {
      "model_module": "@jupyter-widgets/base",
      "model_module_version": "1.2.0",
      "model_name": "LayoutModel",
      "state": {}
     },
     "4c576904974a451e99f40b79ab790668": {
      "model_module": "@jupyter-widgets/controls",
      "model_module_version": "1.5.0",
      "model_name": "HTMLModel",
      "state": {
       "layout": "IPY_MODEL_57997c11853d436bafc08fb7421d21b7",
       "style": "IPY_MODEL_f14032ba5b7741f2bfaae1572c1007f8",
       "value": " 344/344 [00:20&lt;00:00, 17.14it/s, end_loss=0.826, jaccard=0.694, start_loss=0.886]"
      }
     },
     "4c642cfa7a65412b8e2526eb345b8639": {
      "model_module": "@jupyter-widgets/controls",
      "model_module_version": "1.5.0",
      "model_name": "FloatProgressModel",
      "state": {
       "bar_style": "success",
       "description": "100%",
       "layout": "IPY_MODEL_38852bcdf762426999504c20d8c153e7",
       "max": 344,
       "style": "IPY_MODEL_b1258eb1ecfd4393b0e4e602ba539006",
       "value": 344
      }
     },
     "4c73c48b02164ec2941f90a0bc72b929": {
      "model_module": "@jupyter-widgets/controls",
      "model_module_version": "1.5.0",
      "model_name": "HTMLModel",
      "state": {
       "layout": "IPY_MODEL_2446fee02a7b4f66ab1bf32b5e8c017f",
       "style": "IPY_MODEL_57d4f440bb0b418ea12d234734211223",
       "value": " 344/344 [03:36&lt;00:00,  1.59it/s, end_loss=1.06, jaccard=0.695, start_loss=1.11]"
      }
     },
     "4c7cc65137134defb090f0b1d7868d72": {
      "model_module": "@jupyter-widgets/controls",
      "model_module_version": "1.5.0",
      "model_name": "DescriptionStyleModel",
      "state": {
       "description_width": ""
      }
     },
     "4c883cfe25b747bfbdb8ba874013bcde": {
      "model_module": "@jupyter-widgets/controls",
      "model_module_version": "1.5.0",
      "model_name": "ProgressStyleModel",
      "state": {
       "description_width": "initial"
      }
     },
     "4ca2d6c2080c4ceba6e7ab01e8687e32": {
      "model_module": "@jupyter-widgets/controls",
      "model_module_version": "1.5.0",
      "model_name": "FloatProgressModel",
      "state": {
       "bar_style": "success",
       "description": "100%",
       "layout": "IPY_MODEL_e3265211e5e84a81a7d6ffe69120c7ab",
       "max": 344,
       "style": "IPY_MODEL_f239ad2d11574957bedeea719dbb425c",
       "value": 344
      }
     },
     "4cc2ff664393412e91b06d050bbc181e": {
      "model_module": "@jupyter-widgets/controls",
      "model_module_version": "1.5.0",
      "model_name": "HTMLModel",
      "state": {
       "layout": "IPY_MODEL_71b55f11b3bc4cf9a1f91a73c95d30e0",
       "style": "IPY_MODEL_4c7cc65137134defb090f0b1d7868d72",
       "value": " 344/344 [00:19&lt;00:00, 17.58it/s, end_loss=0.765, jaccard=0.709, merged_loss=1.01, start_loss=0.845]"
      }
     },
     "4cd023f80f9c4b9185f1292415016c22": {
      "model_module": "@jupyter-widgets/controls",
      "model_module_version": "1.5.0",
      "model_name": "HBoxModel",
      "state": {
       "children": [
        "IPY_MODEL_f5884a5ce052413eb95f4f57e29f3132",
        "IPY_MODEL_81ce8033e6b344e9b78c19337cfff86c"
       ],
       "layout": "IPY_MODEL_ba247fe275da4e03b8266ea043ca424c"
      }
     },
     "4cd619a8122e4933ac08af052bf1991c": {
      "model_module": "@jupyter-widgets/controls",
      "model_module_version": "1.5.0",
      "model_name": "HTMLModel",
      "state": {
       "layout": "IPY_MODEL_50bae5b5417d4bf390ba2b13857d7ce4",
       "style": "IPY_MODEL_1e9c0f47d9284040b69770571b371329",
       "value": " 344/344 [07:30&lt;00:00,  1.31s/it, end_loss=0.927, jaccard=0.726, start_loss=0.965]"
      }
     },
     "4cdc0e45d05f480497ae690bd90e82a7": {
      "model_module": "@jupyter-widgets/controls",
      "model_module_version": "1.5.0",
      "model_name": "HTMLModel",
      "state": {
       "layout": "IPY_MODEL_07bf69940afe4552bad3dde6b7e4e05d",
       "style": "IPY_MODEL_1832753c28f94a9bbfbe3bd7e55db9c8",
       "value": " 344/344 [00:26&lt;00:00, 12.85it/s, end_loss=0.881, jaccard=0.713, start_loss=0.927]"
      }
     },
     "4cef4326bf74494f93c3711d4795d950": {
      "model_module": "@jupyter-widgets/controls",
      "model_module_version": "1.5.0",
      "model_name": "FloatProgressModel",
      "state": {
       "bar_style": "success",
       "description": "100%",
       "layout": "IPY_MODEL_5d66bc7a3c7347c8a32743ba60ec13b9",
       "max": 344,
       "style": "IPY_MODEL_57aa23b92887487cacb873a4b40fbd51",
       "value": 344
      }
     },
     "4cf217deac9f4f79b4d7f0008f0efc5b": {
      "model_module": "@jupyter-widgets/controls",
      "model_module_version": "1.5.0",
      "model_name": "HTMLModel",
      "state": {
       "layout": "IPY_MODEL_18487b45e1b648108202d4c176c36a9c",
       "style": "IPY_MODEL_c04d5243d37f404aa663fce8e2e1380b",
       "value": " 344/344 [00:19&lt;00:00, 17.62it/s, end_loss=0.822, jaccard=0.703, start_loss=0.844]"
      }
     },
     "4d3f80337260497c800ecdfb64badb4d": {
      "model_module": "@jupyter-widgets/controls",
      "model_module_version": "1.5.0",
      "model_name": "ProgressStyleModel",
      "state": {
       "description_width": "initial"
      }
     },
     "4d5fe983f56b4a4d8a137067803ff47e": {
      "model_module": "@jupyter-widgets/controls",
      "model_module_version": "1.5.0",
      "model_name": "ProgressStyleModel",
      "state": {
       "description_width": "initial"
      }
     },
     "4d7653d4211749319ad28d17782be5f4": {
      "model_module": "@jupyter-widgets/base",
      "model_module_version": "1.2.0",
      "model_name": "LayoutModel",
      "state": {}
     },
     "4daf743ea6fc47e4b12214e96b936ec9": {
      "model_module": "@jupyter-widgets/controls",
      "model_module_version": "1.5.0",
      "model_name": "HTMLModel",
      "state": {
       "layout": "IPY_MODEL_93b03c6001534c55a45922d972970489",
       "style": "IPY_MODEL_364dcfd84ac941a1bcd53122833c5628",
       "value": " 344/344 [00:23&lt;00:00, 14.89it/s, end_loss=0.798, jaccard=0.71, start_loss=0.828]"
      }
     },
     "4db029696ef44f7fbf3209a3c3800a87": {
      "model_module": "@jupyter-widgets/controls",
      "model_module_version": "1.5.0",
      "model_name": "DescriptionStyleModel",
      "state": {
       "description_width": ""
      }
     },
     "4de1ee59e1514ab6b62439ffe533eae6": {
      "model_module": "@jupyter-widgets/base",
      "model_module_version": "1.2.0",
      "model_name": "LayoutModel",
      "state": {}
     },
     "4e13fcdc814d432dbdaf54f2c1d94299": {
      "model_module": "@jupyter-widgets/base",
      "model_module_version": "1.2.0",
      "model_name": "LayoutModel",
      "state": {}
     },
     "4e3fcd6025f54fc180679e29d8ff7b58": {
      "model_module": "@jupyter-widgets/controls",
      "model_module_version": "1.5.0",
      "model_name": "HTMLModel",
      "state": {
       "layout": "IPY_MODEL_1e2521a647c3475ba9b4088379f7b59f",
       "style": "IPY_MODEL_2032983420854767b2e87e3ba7e83cfd",
       "value": " 344/344 [00:20&lt;00:00, 16.57it/s, end_loss=0.803, jaccard=0.705, start_loss=0.845]"
      }
     },
     "4e5e96a9f8a74717addd2c4ab4c3401a": {
      "model_module": "@jupyter-widgets/controls",
      "model_module_version": "1.5.0",
      "model_name": "FloatProgressModel",
      "state": {
       "bar_style": "success",
       "description": "100%",
       "layout": "IPY_MODEL_93be6accce6e4095a54298bb88600c6b",
       "max": 344,
       "style": "IPY_MODEL_f130ce31fe364451b4d06e30e0f2b77b",
       "value": 344
      }
     },
     "4e74e34013ec45da9da44b5b503324e5": {
      "model_module": "@jupyter-widgets/controls",
      "model_module_version": "1.5.0",
      "model_name": "DescriptionStyleModel",
      "state": {
       "description_width": ""
      }
     },
     "4e813409152a49f2b7a1c9b9ee9270cd": {
      "model_module": "@jupyter-widgets/controls",
      "model_module_version": "1.5.0",
      "model_name": "HTMLModel",
      "state": {
       "layout": "IPY_MODEL_29e5c8088ead4cc287ff2c260dcd93e4",
       "style": "IPY_MODEL_28235a7e7f0a40bca7314bcda05a68d2",
       "value": " 344/344 [00:19&lt;00:00, 17.33it/s, end_loss=0.794, jaccard=0.705, start_loss=0.858]"
      }
     },
     "4e925efac19741a7b0c8a6d8986e2562": {
      "model_module": "@jupyter-widgets/base",
      "model_module_version": "1.2.0",
      "model_name": "LayoutModel",
      "state": {}
     },
     "4e9a35d4eb8c450fb5e35859a56e0180": {
      "model_module": "@jupyter-widgets/controls",
      "model_module_version": "1.5.0",
      "model_name": "FloatProgressModel",
      "state": {
       "bar_style": "success",
       "description": "100%",
       "layout": "IPY_MODEL_be28e97ff5384ae5883985d5e5b08420",
       "max": 344,
       "style": "IPY_MODEL_421b28ed406a4b17a7fe7ce98027a9d5",
       "value": 344
      }
     },
     "4ecf6a9552aa4e3c87be8bf245da91aa": {
      "model_module": "@jupyter-widgets/controls",
      "model_module_version": "1.5.0",
      "model_name": "HBoxModel",
      "state": {
       "children": [
        "IPY_MODEL_a22670444a364218814eb9854391e579",
        "IPY_MODEL_a30135ed08f049d7b1f6c8adbd3bb8bf"
       ],
       "layout": "IPY_MODEL_fd20eba0bbb248c28af33c1f346705b9"
      }
     },
     "4f5b6ca39db34cceb383ec379845fcaa": {
      "model_module": "@jupyter-widgets/controls",
      "model_module_version": "1.5.0",
      "model_name": "FloatProgressModel",
      "state": {
       "bar_style": "success",
       "description": "100%",
       "layout": "IPY_MODEL_fed1b26bd6ca4913a6d17281be4ab808",
       "max": 344,
       "style": "IPY_MODEL_27c13b6a664a4e70bc40ad45810c6c0a",
       "value": 344
      }
     },
     "4f6967b4eab14c77849fe3ac7bf0dd44": {
      "model_module": "@jupyter-widgets/controls",
      "model_module_version": "1.5.0",
      "model_name": "FloatProgressModel",
      "state": {
       "bar_style": "success",
       "description": "100%",
       "layout": "IPY_MODEL_b018604acdf440c8853e3f8b214905d2",
       "max": 344,
       "style": "IPY_MODEL_439cac1435c84c79bafa6973fd8a93ae",
       "value": 344
      }
     },
     "4f6ed6f6fe174357b12e3e357742684d": {
      "model_module": "@jupyter-widgets/controls",
      "model_module_version": "1.5.0",
      "model_name": "HBoxModel",
      "state": {
       "children": [
        "IPY_MODEL_5cd4b6c76d654a10a29a25ffff52bf06",
        "IPY_MODEL_6a357666b41e4504949c60e7b7a03102"
       ],
       "layout": "IPY_MODEL_89dc71e65f234cbd82d0b15be26a64e1"
      }
     },
     "4f6f69e0c27f44789346e63093f7d7d1": {
      "model_module": "@jupyter-widgets/controls",
      "model_module_version": "1.5.0",
      "model_name": "FloatProgressModel",
      "state": {
       "bar_style": "success",
       "description": "100%",
       "layout": "IPY_MODEL_dd37bb1338f54356999da6606dad88be",
       "max": 344,
       "style": "IPY_MODEL_4461477a4e684441adc85b2f0ad91e0b",
       "value": 344
      }
     },
     "4f9d5eb097344488bbdf69ca59989538": {
      "model_module": "@jupyter-widgets/controls",
      "model_module_version": "1.5.0",
      "model_name": "HBoxModel",
      "state": {
       "children": [
        "IPY_MODEL_657aa928b3794bed8b2b58f2ffc173f3",
        "IPY_MODEL_4705b38e67b44a7688d31c535566ee33"
       ],
       "layout": "IPY_MODEL_d036828e71ba4357937783e358a34acf"
      }
     },
     "4fa2a6775b304774a58d47b20222e603": {
      "model_module": "@jupyter-widgets/controls",
      "model_module_version": "1.5.0",
      "model_name": "ProgressStyleModel",
      "state": {
       "description_width": "initial"
      }
     },
     "4fab81b9ba9744c58688e0c2e9eb8198": {
      "model_module": "@jupyter-widgets/base",
      "model_module_version": "1.2.0",
      "model_name": "LayoutModel",
      "state": {}
     },
     "4fc3441843234af5b11f11bbe1ad2890": {
      "model_module": "@jupyter-widgets/base",
      "model_module_version": "1.2.0",
      "model_name": "LayoutModel",
      "state": {}
     },
     "4fce712511dd4a25bf40eec5a7b1bf69": {
      "model_module": "@jupyter-widgets/controls",
      "model_module_version": "1.5.0",
      "model_name": "FloatProgressModel",
      "state": {
       "bar_style": "success",
       "description": "100%",
       "layout": "IPY_MODEL_496f833521b6447ca7c4c55a3946b1b1",
       "max": 344,
       "style": "IPY_MODEL_0b5e71fa22bd4dedac69c6366174b208",
       "value": 344
      }
     },
     "4ffd32a92c81466eab9b5fb92e33406a": {
      "model_module": "@jupyter-widgets/controls",
      "model_module_version": "1.5.0",
      "model_name": "DescriptionStyleModel",
      "state": {
       "description_width": ""
      }
     },
     "5003f9314bb14840abdb1723c8f60dfc": {
      "model_module": "@jupyter-widgets/base",
      "model_module_version": "1.2.0",
      "model_name": "LayoutModel",
      "state": {}
     },
     "500b12a514834d33ab77cbca0b4d11f4": {
      "model_module": "@jupyter-widgets/base",
      "model_module_version": "1.2.0",
      "model_name": "LayoutModel",
      "state": {}
     },
     "501ae510e78d487c855e11e0cb831c26": {
      "model_module": "@jupyter-widgets/controls",
      "model_module_version": "1.5.0",
      "model_name": "FloatProgressModel",
      "state": {
       "bar_style": "success",
       "description": "100%",
       "layout": "IPY_MODEL_159c934332374edc882aa54bc4323f5c",
       "max": 344,
       "style": "IPY_MODEL_a923ebfa64904609b93e31c0b267aee8",
       "value": 344
      }
     },
     "5025708d8a3f4fe8b2c764f42878f8bc": {
      "model_module": "@jupyter-widgets/base",
      "model_module_version": "1.2.0",
      "model_name": "LayoutModel",
      "state": {}
     },
     "50368e1a14ef421ebe11f9c148cb5156": {
      "model_module": "@jupyter-widgets/controls",
      "model_module_version": "1.5.0",
      "model_name": "ProgressStyleModel",
      "state": {
       "description_width": "initial"
      }
     },
     "504928ca4bbc41ba8a6e6624a8baa130": {
      "model_module": "@jupyter-widgets/controls",
      "model_module_version": "1.5.0",
      "model_name": "FloatProgressModel",
      "state": {
       "bar_style": "success",
       "description": "100%",
       "layout": "IPY_MODEL_25700ad98eba4a1a96d499345967c3dc",
       "max": 344,
       "style": "IPY_MODEL_58612fbdf9644cfdbe9d2458b362a783",
       "value": 344
      }
     },
     "5063ccf610364a5e9159efaa196a8130": {
      "model_module": "@jupyter-widgets/controls",
      "model_module_version": "1.5.0",
      "model_name": "DescriptionStyleModel",
      "state": {
       "description_width": ""
      }
     },
     "5068df8922424b98b3e04c0c92a3ce75": {
      "model_module": "@jupyter-widgets/base",
      "model_module_version": "1.2.0",
      "model_name": "LayoutModel",
      "state": {}
     },
     "506b421fdb8d4b8c919871f7b328eb05": {
      "model_module": "@jupyter-widgets/controls",
      "model_module_version": "1.5.0",
      "model_name": "HBoxModel",
      "state": {
       "children": [
        "IPY_MODEL_959e976a3d9a4a98830b376964b2cbdb",
        "IPY_MODEL_58d19242a3c14310b34ab0597fdcffd6"
       ],
       "layout": "IPY_MODEL_9cc6d18b39f847a7929a82b34f6e4a0d"
      }
     },
     "506c1f1531be48e1a8873016236f35ef": {
      "model_module": "@jupyter-widgets/controls",
      "model_module_version": "1.5.0",
      "model_name": "FloatProgressModel",
      "state": {
       "bar_style": "danger",
       "description": "  0%",
       "layout": "IPY_MODEL_715c32db27174028b2696416c1aba036",
       "max": 344,
       "style": "IPY_MODEL_30b1618d59bb478082b2882f0b28a403"
      }
     },
     "50a476b0b27142ac9684fe84f061356e": {
      "model_module": "@jupyter-widgets/controls",
      "model_module_version": "1.5.0",
      "model_name": "FloatProgressModel",
      "state": {
       "bar_style": "success",
       "description": "100%",
       "layout": "IPY_MODEL_11afd66fcad447fba3cf92c75e59b68c",
       "max": 344,
       "style": "IPY_MODEL_972edb7294db4e60865a475aab581842",
       "value": 344
      }
     },
     "50bae5b5417d4bf390ba2b13857d7ce4": {
      "model_module": "@jupyter-widgets/base",
      "model_module_version": "1.2.0",
      "model_name": "LayoutModel",
      "state": {}
     },
     "5102a96713654729b044704c9beee00d": {
      "model_module": "@jupyter-widgets/controls",
      "model_module_version": "1.5.0",
      "model_name": "DescriptionStyleModel",
      "state": {
       "description_width": ""
      }
     },
     "51073e10540f450ca52cfa8e393eee17": {
      "model_module": "@jupyter-widgets/controls",
      "model_module_version": "1.5.0",
      "model_name": "FloatProgressModel",
      "state": {
       "bar_style": "success",
       "description": "100%",
       "layout": "IPY_MODEL_06ac7ba46c7244f3b55177fdabad3a0f",
       "max": 344,
       "style": "IPY_MODEL_44ae5e1d88ff46579f93f3f79ea07618",
       "value": 344
      }
     },
     "514000ea7bcb4c7681eb3838d4a8356e": {
      "model_module": "@jupyter-widgets/controls",
      "model_module_version": "1.5.0",
      "model_name": "DescriptionStyleModel",
      "state": {
       "description_width": ""
      }
     },
     "5150de5c74904df99d29c940b78456af": {
      "model_module": "@jupyter-widgets/controls",
      "model_module_version": "1.5.0",
      "model_name": "ProgressStyleModel",
      "state": {
       "description_width": "initial"
      }
     },
     "515d34ac58f246419272a6127fb38b15": {
      "model_module": "@jupyter-widgets/controls",
      "model_module_version": "1.5.0",
      "model_name": "FloatProgressModel",
      "state": {
       "bar_style": "success",
       "description": "100%",
       "layout": "IPY_MODEL_eb447fac8596414faf1f08ba496ce56d",
       "max": 344,
       "style": "IPY_MODEL_c8d360983b9d45038112f646ebb5692b",
       "value": 344
      }
     },
     "5165cb28b5274647b2c1bfa45f9fc8ae": {
      "model_module": "@jupyter-widgets/controls",
      "model_module_version": "1.5.0",
      "model_name": "DescriptionStyleModel",
      "state": {
       "description_width": ""
      }
     },
     "516dd657ea8843fc806f80846dbd6611": {
      "model_module": "@jupyter-widgets/controls",
      "model_module_version": "1.5.0",
      "model_name": "HBoxModel",
      "state": {
       "children": [
        "IPY_MODEL_6aa65ff151b847a5a3cb86f1bec0d6a3",
        "IPY_MODEL_b250868585c349a88011d5baee360de2"
       ],
       "layout": "IPY_MODEL_a501380cabdc4c8d9ce0a88ea58a4467"
      }
     },
     "519caa020e5a43148e61e43f0d26024a": {
      "model_module": "@jupyter-widgets/controls",
      "model_module_version": "1.5.0",
      "model_name": "HBoxModel",
      "state": {
       "children": [
        "IPY_MODEL_ef850f22ce1e45329ea6628b9d5e5a76",
        "IPY_MODEL_55a4cdc521d5412cb004948c25f54bab"
       ],
       "layout": "IPY_MODEL_990a44db5535423f8c128ef95a14f95b"
      }
     },
     "519efa9ff9334c4486ef67baf5b567c4": {
      "model_module": "@jupyter-widgets/controls",
      "model_module_version": "1.5.0",
      "model_name": "DescriptionStyleModel",
      "state": {
       "description_width": ""
      }
     },
     "51a6dba6d19e4b38852fae3c681fbfa3": {
      "model_module": "@jupyter-widgets/controls",
      "model_module_version": "1.5.0",
      "model_name": "ProgressStyleModel",
      "state": {
       "description_width": "initial"
      }
     },
     "51d94dffda5a448ab63edd8f7b4cf843": {
      "model_module": "@jupyter-widgets/controls",
      "model_module_version": "1.5.0",
      "model_name": "FloatProgressModel",
      "state": {
       "bar_style": "success",
       "description": "100%",
       "layout": "IPY_MODEL_382df487a19e4b58bc2a51cfdeaba9c5",
       "max": 344,
       "style": "IPY_MODEL_0df1076f14114cf2b77c3355a1752958",
       "value": 344
      }
     },
     "5216d176a9af4073ab7a7b5eaa9c476c": {
      "model_module": "@jupyter-widgets/controls",
      "model_module_version": "1.5.0",
      "model_name": "ProgressStyleModel",
      "state": {
       "description_width": "initial"
      }
     },
     "522e3f85a4b64c48b79ddcfa015c603e": {
      "model_module": "@jupyter-widgets/base",
      "model_module_version": "1.2.0",
      "model_name": "LayoutModel",
      "state": {}
     },
     "523eb2bfe783417d86a682dbfcbf461e": {
      "model_module": "@jupyter-widgets/controls",
      "model_module_version": "1.5.0",
      "model_name": "HBoxModel",
      "state": {
       "children": [
        "IPY_MODEL_8c1a498fb4aa4915b0a970345eb05031",
        "IPY_MODEL_57712e1f33184dccb7f325f6180c1ca3"
       ],
       "layout": "IPY_MODEL_430bc436f886450daa054bf60376c9c2"
      }
     },
     "524315d999af4eaaa51ca21106412535": {
      "model_module": "@jupyter-widgets/controls",
      "model_module_version": "1.5.0",
      "model_name": "DescriptionStyleModel",
      "state": {
       "description_width": ""
      }
     },
     "5256b8689b9843c9b7a0eec05f37f446": {
      "model_module": "@jupyter-widgets/base",
      "model_module_version": "1.2.0",
      "model_name": "LayoutModel",
      "state": {}
     },
     "5269f140515d43558ec9fdc22053d359": {
      "model_module": "@jupyter-widgets/base",
      "model_module_version": "1.2.0",
      "model_name": "LayoutModel",
      "state": {}
     },
     "526a70b1ed2f4294bb10d51f79b20e58": {
      "model_module": "@jupyter-widgets/controls",
      "model_module_version": "1.5.0",
      "model_name": "HBoxModel",
      "state": {
       "children": [
        "IPY_MODEL_6fb744e7a91e4b7795b9b90f707ac2b0",
        "IPY_MODEL_ce7fa0b9e04643feaff5a67b50f9cf4f"
       ],
       "layout": "IPY_MODEL_522e3f85a4b64c48b79ddcfa015c603e"
      }
     },
     "52b124202ee349a58395360b3dd1e035": {
      "model_module": "@jupyter-widgets/base",
      "model_module_version": "1.2.0",
      "model_name": "LayoutModel",
      "state": {}
     },
     "52dfa3d7f00744f29d622af0de1fb685": {
      "model_module": "@jupyter-widgets/base",
      "model_module_version": "1.2.0",
      "model_name": "LayoutModel",
      "state": {}
     },
     "53101f0ae9d043418fa27b6fdfc9b9b7": {
      "model_module": "@jupyter-widgets/controls",
      "model_module_version": "1.5.0",
      "model_name": "FloatProgressModel",
      "state": {
       "bar_style": "success",
       "description": "100%",
       "layout": "IPY_MODEL_bb42946a72c34eac91842f450be58e79",
       "max": 344,
       "style": "IPY_MODEL_7e9f86823a42412180a55329d58782c1",
       "value": 344
      }
     },
     "53135a3919a14defa169363be0e22a44": {
      "model_module": "@jupyter-widgets/controls",
      "model_module_version": "1.5.0",
      "model_name": "HBoxModel",
      "state": {
       "children": [
        "IPY_MODEL_15b0cb3fedce453a86a2ec5b82b2a3c3",
        "IPY_MODEL_9ec0b74266104b1e852ae2c7aba0d05c"
       ],
       "layout": "IPY_MODEL_c6a9f0253103411cb1d14dbb7a33cb62"
      }
     },
     "531cb2b16cc04c56aed23e156618429b": {
      "model_module": "@jupyter-widgets/controls",
      "model_module_version": "1.5.0",
      "model_name": "HBoxModel",
      "state": {
       "children": [
        "IPY_MODEL_1c3a0474631d4cd1b91338920ff32f35",
        "IPY_MODEL_a0ce627f4d9945d99ca75213a9482770"
       ],
       "layout": "IPY_MODEL_74f6c46c753b4130a0b3dd5bce919a58"
      }
     },
     "532957b9ccc04aa68574306ccbebb52e": {
      "model_module": "@jupyter-widgets/controls",
      "model_module_version": "1.5.0",
      "model_name": "HBoxModel",
      "state": {
       "children": [
        "IPY_MODEL_ac099027523148538d3503f55a7c0a74",
        "IPY_MODEL_eda966491e704d2a94e4e0145083fcb6"
       ],
       "layout": "IPY_MODEL_0c28b0f56b384b80abdf5c68c4f002f8"
      }
     },
     "53449001f44a4c428c80a869937f6ea9": {
      "model_module": "@jupyter-widgets/base",
      "model_module_version": "1.2.0",
      "model_name": "LayoutModel",
      "state": {}
     },
     "53678134e01b445fa13b7a19893998d7": {
      "model_module": "@jupyter-widgets/controls",
      "model_module_version": "1.5.0",
      "model_name": "ProgressStyleModel",
      "state": {
       "description_width": "initial"
      }
     },
     "53786c3d30fa42fbb3c5d2fae04d1d76": {
      "model_module": "@jupyter-widgets/controls",
      "model_module_version": "1.5.0",
      "model_name": "ProgressStyleModel",
      "state": {
       "description_width": "initial"
      }
     },
     "539596abd2994561b1b5b1f90ad14550": {
      "model_module": "@jupyter-widgets/controls",
      "model_module_version": "1.5.0",
      "model_name": "HTMLModel",
      "state": {
       "layout": "IPY_MODEL_003878bfb4aa4c7c8fc7cd0bf8979bee",
       "style": "IPY_MODEL_3d38bd5a2aac4a96a08d14224b48b78a",
       "value": " 344/344 [00:27&lt;00:00, 12.63it/s, end_loss=0.929, jaccard=0.707, start_loss=0.992]"
      }
     },
     "53a18179bb4341f3a8b215611d034035": {
      "model_module": "@jupyter-widgets/controls",
      "model_module_version": "1.5.0",
      "model_name": "HBoxModel",
      "state": {
       "children": [
        "IPY_MODEL_e2957aa58bcc496f98f52b7bf55350bc",
        "IPY_MODEL_382d1186d2b64f79962f9938a278dbac"
       ],
       "layout": "IPY_MODEL_35ce92bf91a34c26980f3b2c68171e74"
      }
     },
     "53abf31416224efa9067b2b6f2f32339": {
      "model_module": "@jupyter-widgets/base",
      "model_module_version": "1.2.0",
      "model_name": "LayoutModel",
      "state": {}
     },
     "53afdd96adee46ec9b6d806d6197fa41": {
      "model_module": "@jupyter-widgets/base",
      "model_module_version": "1.2.0",
      "model_name": "LayoutModel",
      "state": {}
     },
     "53b2c3078ddc47c6aa497ec18e8950ec": {
      "model_module": "@jupyter-widgets/base",
      "model_module_version": "1.2.0",
      "model_name": "LayoutModel",
      "state": {}
     },
     "53bc934f9dee471bb3308019c8a20323": {
      "model_module": "@jupyter-widgets/base",
      "model_module_version": "1.2.0",
      "model_name": "LayoutModel",
      "state": {}
     },
     "53c2d2411bd84c36862016022472b47a": {
      "model_module": "@jupyter-widgets/controls",
      "model_module_version": "1.5.0",
      "model_name": "FloatProgressModel",
      "state": {
       "bar_style": "success",
       "description": "100%",
       "layout": "IPY_MODEL_672c284b72b24a26a2ddda1fd14f65a2",
       "max": 344,
       "style": "IPY_MODEL_c92b8692619d4edb9816590a235abd3e",
       "value": 344
      }
     },
     "53d6bcc32048472e8f4469160d4806b7": {
      "model_module": "@jupyter-widgets/controls",
      "model_module_version": "1.5.0",
      "model_name": "ProgressStyleModel",
      "state": {
       "description_width": "initial"
      }
     },
     "53ec067c954f4df28e4d361c34aebe8e": {
      "model_module": "@jupyter-widgets/base",
      "model_module_version": "1.2.0",
      "model_name": "LayoutModel",
      "state": {}
     },
     "53f3b174332440f7822b8d5221446242": {
      "model_module": "@jupyter-widgets/controls",
      "model_module_version": "1.5.0",
      "model_name": "DescriptionStyleModel",
      "state": {
       "description_width": ""
      }
     },
     "53f3c13230b743428a215b355160822a": {
      "model_module": "@jupyter-widgets/controls",
      "model_module_version": "1.5.0",
      "model_name": "DescriptionStyleModel",
      "state": {
       "description_width": ""
      }
     },
     "544b86602be94427a9901fbb91d91f51": {
      "model_module": "@jupyter-widgets/controls",
      "model_module_version": "1.5.0",
      "model_name": "DescriptionStyleModel",
      "state": {
       "description_width": ""
      }
     },
     "54ac6bff72d34f55823e1208337c4fda": {
      "model_module": "@jupyter-widgets/base",
      "model_module_version": "1.2.0",
      "model_name": "LayoutModel",
      "state": {}
     },
     "54d923ff2636406bbc285240b7bbb07c": {
      "model_module": "@jupyter-widgets/controls",
      "model_module_version": "1.5.0",
      "model_name": "DescriptionStyleModel",
      "state": {
       "description_width": ""
      }
     },
     "5502762b2d9a4085b2cdc7844a7202f6": {
      "model_module": "@jupyter-widgets/base",
      "model_module_version": "1.2.0",
      "model_name": "LayoutModel",
      "state": {}
     },
     "550ef263d6cd441c9a85198e17341b1a": {
      "model_module": "@jupyter-widgets/controls",
      "model_module_version": "1.5.0",
      "model_name": "HTMLModel",
      "state": {
       "layout": "IPY_MODEL_2b66e8b1e31245a0b8ad85877e3ecc73",
       "style": "IPY_MODEL_1d00e7eef4bd47e194a5ff4343f83299",
       "value": " 344/344 [05:24&lt;00:00,  1.06it/s, end_loss=1.07, jaccard=0.66, start_loss=1.09]"
      }
     },
     "551459b6c3cf4f0f9d96e2cadcb1e2e0": {
      "model_module": "@jupyter-widgets/base",
      "model_module_version": "1.2.0",
      "model_name": "LayoutModel",
      "state": {}
     },
     "5515aac2e54e4dadbabfa27083270f1d": {
      "model_module": "@jupyter-widgets/controls",
      "model_module_version": "1.5.0",
      "model_name": "ProgressStyleModel",
      "state": {
       "description_width": "initial"
      }
     },
     "5524104bd0e143199c24cc73b773748c": {
      "model_module": "@jupyter-widgets/controls",
      "model_module_version": "1.5.0",
      "model_name": "DescriptionStyleModel",
      "state": {
       "description_width": ""
      }
     },
     "552c684b78254faca790fea612d78fe3": {
      "model_module": "@jupyter-widgets/base",
      "model_module_version": "1.2.0",
      "model_name": "LayoutModel",
      "state": {}
     },
     "5543c642eb004a33a8a33bc2a2681d4b": {
      "model_module": "@jupyter-widgets/controls",
      "model_module_version": "1.5.0",
      "model_name": "HBoxModel",
      "state": {
       "children": [
        "IPY_MODEL_73c42886e15d4555b020722d6d86947d",
        "IPY_MODEL_bfa065965a29427d81873b106432a914"
       ],
       "layout": "IPY_MODEL_a2336eaee5ba4feaa420430bf853684c"
      }
     },
     "559a8f55ec4546e789c4d0e0e2e015e1": {
      "model_module": "@jupyter-widgets/base",
      "model_module_version": "1.2.0",
      "model_name": "LayoutModel",
      "state": {}
     },
     "55a399b8adfa4d299841b08f3b713ca5": {
      "model_module": "@jupyter-widgets/controls",
      "model_module_version": "1.5.0",
      "model_name": "HBoxModel",
      "state": {
       "children": [
        "IPY_MODEL_16b604626c3544688d35a7b28200b8d9",
        "IPY_MODEL_bed4e96dd1cf41e1a5af067748d9f318"
       ],
       "layout": "IPY_MODEL_1e15ac77e8094b6cb93b20a404b99d01"
      }
     },
     "55a4cdc521d5412cb004948c25f54bab": {
      "model_module": "@jupyter-widgets/controls",
      "model_module_version": "1.5.0",
      "model_name": "HTMLModel",
      "state": {
       "layout": "IPY_MODEL_5e0ecc493e31442396b86f460395bce9",
       "style": "IPY_MODEL_821a84b0366149e78f4e0e3ce2c9af46",
       "value": " 344/344 [00:24&lt;00:00, 14.18it/s, end_loss=0.794, jaccard=0.707, start_loss=0.842]"
      }
     },
     "55a6348fafa94c44a36e7cfbc93fc8fa": {
      "model_module": "@jupyter-widgets/controls",
      "model_module_version": "1.5.0",
      "model_name": "ProgressStyleModel",
      "state": {
       "description_width": "initial"
      }
     },
     "55bb6114fadb4e609fd15d829a187903": {
      "model_module": "@jupyter-widgets/base",
      "model_module_version": "1.2.0",
      "model_name": "LayoutModel",
      "state": {}
     },
     "55bed83c184a452aa77c359a8c493537": {
      "model_module": "@jupyter-widgets/controls",
      "model_module_version": "1.5.0",
      "model_name": "HBoxModel",
      "state": {
       "children": [
        "IPY_MODEL_fa57aa9e1363420da8bc9e513de56541",
        "IPY_MODEL_0327c76426334c468beb5eddeece116f"
       ],
       "layout": "IPY_MODEL_956c30cc1f8441b9940ef57800da5a5d"
      }
     },
     "55d155f173ce4ff7a1535d551a70a130": {
      "model_module": "@jupyter-widgets/controls",
      "model_module_version": "1.5.0",
      "model_name": "FloatProgressModel",
      "state": {
       "bar_style": "success",
       "description": "100%",
       "layout": "IPY_MODEL_4de1ee59e1514ab6b62439ffe533eae6",
       "max": 344,
       "style": "IPY_MODEL_9d23d29b23544a949479a4ed538b0c73",
       "value": 344
      }
     },
     "55f5f187b25642a5b381184b5ca575a3": {
      "model_module": "@jupyter-widgets/base",
      "model_module_version": "1.2.0",
      "model_name": "LayoutModel",
      "state": {}
     },
     "560288ad2a8b4c898b266d0c8cc0541d": {
      "model_module": "@jupyter-widgets/controls",
      "model_module_version": "1.5.0",
      "model_name": "DescriptionStyleModel",
      "state": {
       "description_width": ""
      }
     },
     "5614b322128149acb0e6ade9aab133fb": {
      "model_module": "@jupyter-widgets/base",
      "model_module_version": "1.2.0",
      "model_name": "LayoutModel",
      "state": {}
     },
     "563056cf821e4c33ab353ced5cb96b94": {
      "model_module": "@jupyter-widgets/controls",
      "model_module_version": "1.5.0",
      "model_name": "FloatProgressModel",
      "state": {
       "bar_style": "success",
       "description": "100%",
       "layout": "IPY_MODEL_63c9f9e5a36b4980920ca0da59acaeb8",
       "max": 344,
       "style": "IPY_MODEL_e80a33fec1f9493388e61f7d51f884f1",
       "value": 344
      }
     },
     "56314c7f8a3340109cff29117bdc3f8d": {
      "model_module": "@jupyter-widgets/controls",
      "model_module_version": "1.5.0",
      "model_name": "DescriptionStyleModel",
      "state": {
       "description_width": ""
      }
     },
     "5649056559554644ace67e5cfc03be00": {
      "model_module": "@jupyter-widgets/base",
      "model_module_version": "1.2.0",
      "model_name": "LayoutModel",
      "state": {}
     },
     "565fb2cb39a949719575f3d090296059": {
      "model_module": "@jupyter-widgets/controls",
      "model_module_version": "1.5.0",
      "model_name": "HBoxModel",
      "state": {
       "children": [
        "IPY_MODEL_f9a80fa52fbd4cf6825203c8ef6a6a07",
        "IPY_MODEL_cd0c08e324c94d7f880f6357433dfa85"
       ],
       "layout": "IPY_MODEL_8c67b821bc014001993974c22d1d7798"
      }
     },
     "5671f8e54eb3416198ca26f71272ea1f": {
      "model_module": "@jupyter-widgets/controls",
      "model_module_version": "1.5.0",
      "model_name": "HBoxModel",
      "state": {
       "children": [
        "IPY_MODEL_d892d0d1124d48d8a09c9c0bea49da4b",
        "IPY_MODEL_117862559ae148f49d9e8700d69454e2"
       ],
       "layout": "IPY_MODEL_9b28bf23b0464501850e947301b9566a"
      }
     },
     "5684a34e0b884a9dbbc6f06858f884fe": {
      "model_module": "@jupyter-widgets/controls",
      "model_module_version": "1.5.0",
      "model_name": "HBoxModel",
      "state": {
       "children": [
        "IPY_MODEL_4fce712511dd4a25bf40eec5a7b1bf69",
        "IPY_MODEL_ae923992e97d462390cb429c6f416b3a"
       ],
       "layout": "IPY_MODEL_76e43eb2066d489d8548d6c75dc5f45f"
      }
     },
     "56bb117b4d304156b2162b37a8693a8a": {
      "model_module": "@jupyter-widgets/base",
      "model_module_version": "1.2.0",
      "model_name": "LayoutModel",
      "state": {}
     },
     "56be79ec8002460ab5d446af93e38b6d": {
      "model_module": "@jupyter-widgets/controls",
      "model_module_version": "1.5.0",
      "model_name": "HTMLModel",
      "state": {
       "layout": "IPY_MODEL_f8ff4f693b364159a77f23655b251c78",
       "style": "IPY_MODEL_9a76061a26044ffda9b27f7b3125f431",
       "value": " 344/344 [00:19&lt;00:00, 17.57it/s, end_loss=1.5, jaccard=0.705, start_loss=1.53]"
      }
     },
     "57531a13f95a47b797b09eb1dc9c152b": {
      "model_module": "@jupyter-widgets/controls",
      "model_module_version": "1.5.0",
      "model_name": "HBoxModel",
      "state": {
       "children": [
        "IPY_MODEL_5c9c4f1a81534f3b8f9cb19d8f40ca03",
        "IPY_MODEL_2effbb08a3d7446bb56c3b838e5eb30a"
       ],
       "layout": "IPY_MODEL_5c03aba117954a6088781a337eab9a19"
      }
     },
     "5753da02235e4d9aad431954a28a5d49": {
      "model_module": "@jupyter-widgets/controls",
      "model_module_version": "1.5.0",
      "model_name": "DescriptionStyleModel",
      "state": {
       "description_width": ""
      }
     },
     "575770d2bc9e48dbb03245fa0e3a8024": {
      "model_module": "@jupyter-widgets/controls",
      "model_module_version": "1.5.0",
      "model_name": "FloatProgressModel",
      "state": {
       "bar_style": "success",
       "description": "100%",
       "layout": "IPY_MODEL_6c6e73fe5b96410286ad427ba17fda4a",
       "max": 344,
       "style": "IPY_MODEL_5f2c3f9c09de468bb6d0f950f5529944",
       "value": 344
      }
     },
     "57712e1f33184dccb7f325f6180c1ca3": {
      "model_module": "@jupyter-widgets/controls",
      "model_module_version": "1.5.0",
      "model_name": "HTMLModel",
      "state": {
       "layout": "IPY_MODEL_551459b6c3cf4f0f9d96e2cadcb1e2e0",
       "style": "IPY_MODEL_dc0a3b99ff7f43ad80dd8b38955dd95a",
       "value": " 344/344 [03:53&lt;00:00,  1.47it/s, end_loss=0.623, jaccard=0.748, merged_loss=0.992, start_loss=0.682]"
      }
     },
     "577588eaafaa41dfa2443deeb1c74d5c": {
      "model_module": "@jupyter-widgets/base",
      "model_module_version": "1.2.0",
      "model_name": "LayoutModel",
      "state": {}
     },
     "57997c11853d436bafc08fb7421d21b7": {
      "model_module": "@jupyter-widgets/base",
      "model_module_version": "1.2.0",
      "model_name": "LayoutModel",
      "state": {}
     },
     "57a514aeb10145a4bd093967064c3e23": {
      "model_module": "@jupyter-widgets/controls",
      "model_module_version": "1.5.0",
      "model_name": "ProgressStyleModel",
      "state": {
       "description_width": "initial"
      }
     },
     "57aa23b92887487cacb873a4b40fbd51": {
      "model_module": "@jupyter-widgets/controls",
      "model_module_version": "1.5.0",
      "model_name": "ProgressStyleModel",
      "state": {
       "description_width": "initial"
      }
     },
     "57be3d94f55f49d79743efc2b434615f": {
      "model_module": "@jupyter-widgets/base",
      "model_module_version": "1.2.0",
      "model_name": "LayoutModel",
      "state": {}
     },
     "57d4f440bb0b418ea12d234734211223": {
      "model_module": "@jupyter-widgets/controls",
      "model_module_version": "1.5.0",
      "model_name": "DescriptionStyleModel",
      "state": {
       "description_width": ""
      }
     },
     "57e9370f406e4a7d87b19961c49ab42a": {
      "model_module": "@jupyter-widgets/controls",
      "model_module_version": "1.5.0",
      "model_name": "ProgressStyleModel",
      "state": {
       "description_width": "initial"
      }
     },
     "580fcb0d203748ed902503c93b72c846": {
      "model_module": "@jupyter-widgets/controls",
      "model_module_version": "1.5.0",
      "model_name": "HTMLModel",
      "state": {
       "layout": "IPY_MODEL_a13ffc49f46e4d09b43111cc36d95dcb",
       "style": "IPY_MODEL_2a838c0bffad4a3cb97a1a5367cf369b",
       "value": " 344/344 [44:11&lt;00:00,  7.71s/it, end_loss=0.685, jaccard=0.73, merged_loss=1, start_loss=0.73]"
      }
     },
     "581279fa5d034a28b4bf5bab1e030e3c": {
      "model_module": "@jupyter-widgets/base",
      "model_module_version": "1.2.0",
      "model_name": "LayoutModel",
      "state": {}
     },
     "5812a50cf26e468eab2c85272fa6634e": {
      "model_module": "@jupyter-widgets/base",
      "model_module_version": "1.2.0",
      "model_name": "LayoutModel",
      "state": {}
     },
     "5817ddb2eec543689d8ccb68c56dedb2": {
      "model_module": "@jupyter-widgets/base",
      "model_module_version": "1.2.0",
      "model_name": "LayoutModel",
      "state": {}
     },
     "581888a1e83b4e06b2c5e80e5e9fa141": {
      "model_module": "@jupyter-widgets/controls",
      "model_module_version": "1.5.0",
      "model_name": "HBoxModel",
      "state": {
       "children": [
        "IPY_MODEL_f58c7b7367e94a66af3862f488e01267",
        "IPY_MODEL_988f7be258004c1e98c1cd78916a72a5"
       ],
       "layout": "IPY_MODEL_6d698769d712413b8bd3b779f92c044f"
      }
     },
     "58196b3551a9478ca11a699e96d826e2": {
      "model_module": "@jupyter-widgets/controls",
      "model_module_version": "1.5.0",
      "model_name": "ProgressStyleModel",
      "state": {
       "description_width": "initial"
      }
     },
     "5841882817c14146994432349d3ab424": {
      "model_module": "@jupyter-widgets/controls",
      "model_module_version": "1.5.0",
      "model_name": "HTMLModel",
      "state": {
       "layout": "IPY_MODEL_6a1efe589938480fa75aec90935d40c8",
       "style": "IPY_MODEL_0fff9c2dba4c461a9dc25df300fbd773",
       "value": " 344/344 [1:05:46&lt;00:00, 11.47s/it, end_loss=1.15, jaccard=0.676, start_loss=1.14]"
      }
     },
     "58612fbdf9644cfdbe9d2458b362a783": {
      "model_module": "@jupyter-widgets/controls",
      "model_module_version": "1.5.0",
      "model_name": "ProgressStyleModel",
      "state": {
       "description_width": "initial"
      }
     },
     "5869bb13a4d44e95bc0898696986f364": {
      "model_module": "@jupyter-widgets/controls",
      "model_module_version": "1.5.0",
      "model_name": "DescriptionStyleModel",
      "state": {
       "description_width": ""
      }
     },
     "587623eaf0914c629ca1de92b062ca03": {
      "model_module": "@jupyter-widgets/controls",
      "model_module_version": "1.5.0",
      "model_name": "FloatProgressModel",
      "state": {
       "bar_style": "success",
       "description": "100%",
       "layout": "IPY_MODEL_49d5e5596ece4bacb9aabbd1cabc6502",
       "max": 344,
       "style": "IPY_MODEL_f206bd95d5914eed8c62c9c028e195ea",
       "value": 344
      }
     },
     "58d19242a3c14310b34ab0597fdcffd6": {
      "model_module": "@jupyter-widgets/controls",
      "model_module_version": "1.5.0",
      "model_name": "HTMLModel",
      "state": {
       "layout": "IPY_MODEL_26f51cbc11f04ab3a75a01879fc31cef",
       "style": "IPY_MODEL_fcd3dd4d4c87475b87aafea650e0d246",
       "value": " 344/344 [00:19&lt;00:00, 17.74it/s, end_loss=0.802, jaccard=0.702, start_loss=0.841]"
      }
     },
     "58e74f579fba4bc1aeefc2ab8d5e1405": {
      "model_module": "@jupyter-widgets/controls",
      "model_module_version": "1.5.0",
      "model_name": "FloatProgressModel",
      "state": {
       "bar_style": "success",
       "description": "100%",
       "layout": "IPY_MODEL_d0a7fae540744437b2203431332e1d3c",
       "max": 344,
       "style": "IPY_MODEL_7c5aef2dca8a4812bff4849262799745",
       "value": 344
      }
     },
     "591ed04ef4a04d33b75e862e8771e3ad": {
      "model_module": "@jupyter-widgets/controls",
      "model_module_version": "1.5.0",
      "model_name": "HBoxModel",
      "state": {
       "children": [
        "IPY_MODEL_13ee17b4406e4f029d261b16fdc82c94",
        "IPY_MODEL_1fafae659cf04211bae64c57ddfc8db2"
       ],
       "layout": "IPY_MODEL_6945296ddbeb4689aab81d26becbbd9e"
      }
     },
     "593735ac4a874f6c91dc30c027d2dab5": {
      "model_module": "@jupyter-widgets/base",
      "model_module_version": "1.2.0",
      "model_name": "LayoutModel",
      "state": {}
     },
     "5945c24fd2f843ed9d67e655066950c7": {
      "model_module": "@jupyter-widgets/base",
      "model_module_version": "1.2.0",
      "model_name": "LayoutModel",
      "state": {}
     },
     "5972f4b0f407471d8dd125ea6e5f2f3e": {
      "model_module": "@jupyter-widgets/controls",
      "model_module_version": "1.5.0",
      "model_name": "HTMLModel",
      "state": {
       "layout": "IPY_MODEL_4a1dc3170aaa4c08bb0d05b59fd487fa",
       "style": "IPY_MODEL_ea850752a9d147119417fd9afb49ca0d",
       "value": " 344/344 [54:19&lt;00:00,  9.48s/it, end_loss=1.44, jaccard=0.598, start_loss=1.4]"
      }
     },
     "59be4149de7645ac811c50335300799e": {
      "model_module": "@jupyter-widgets/controls",
      "model_module_version": "1.5.0",
      "model_name": "FloatProgressModel",
      "state": {
       "bar_style": "success",
       "description": "100%",
       "layout": "IPY_MODEL_be7175be1ab24070aa280127dff60a56",
       "max": 344,
       "style": "IPY_MODEL_c8e3b41d78e6447a81c7303f54d8d686",
       "value": 344
      }
     },
     "59de5427e63e48ec88be81a06dbcd612": {
      "model_module": "@jupyter-widgets/base",
      "model_module_version": "1.2.0",
      "model_name": "LayoutModel",
      "state": {}
     },
     "5a08c55950944ab3b195b8d24c007f29": {
      "model_module": "@jupyter-widgets/controls",
      "model_module_version": "1.5.0",
      "model_name": "ProgressStyleModel",
      "state": {
       "description_width": "initial"
      }
     },
     "5a2423bf7d4a4c9eb626ac3d1dafe496": {
      "model_module": "@jupyter-widgets/base",
      "model_module_version": "1.2.0",
      "model_name": "LayoutModel",
      "state": {}
     },
     "5a460254cb52408ea837bf920001f48c": {
      "model_module": "@jupyter-widgets/base",
      "model_module_version": "1.2.0",
      "model_name": "LayoutModel",
      "state": {}
     },
     "5a645bf378634206a9cecf150e158378": {
      "model_module": "@jupyter-widgets/base",
      "model_module_version": "1.2.0",
      "model_name": "LayoutModel",
      "state": {}
     },
     "5a795d02bb6d4c4284314d7439f57c6c": {
      "model_module": "@jupyter-widgets/controls",
      "model_module_version": "1.5.0",
      "model_name": "HBoxModel",
      "state": {
       "children": [
        "IPY_MODEL_cd28089167024a309c94f6b49e31b98d",
        "IPY_MODEL_fa2cb6c783d64983bd6681606bc7ac49"
       ],
       "layout": "IPY_MODEL_0eebb080bbaa426da041509baa37453c"
      }
     },
     "5a903080392f4a768c1bd0e7e022fff7": {
      "model_module": "@jupyter-widgets/base",
      "model_module_version": "1.2.0",
      "model_name": "LayoutModel",
      "state": {}
     },
     "5a9fba0bbcce4d2682308b3360f1d629": {
      "model_module": "@jupyter-widgets/base",
      "model_module_version": "1.2.0",
      "model_name": "LayoutModel",
      "state": {}
     },
     "5aa12bfb64584cc4886372f5de91b3a4": {
      "model_module": "@jupyter-widgets/controls",
      "model_module_version": "1.5.0",
      "model_name": "DescriptionStyleModel",
      "state": {
       "description_width": ""
      }
     },
     "5ac97c48e4ba419a9406e204a850f84a": {
      "model_module": "@jupyter-widgets/controls",
      "model_module_version": "1.5.0",
      "model_name": "HTMLModel",
      "state": {
       "layout": "IPY_MODEL_73ba57c2fe2840c3aeacc734ac70ee51",
       "style": "IPY_MODEL_09f488c797e74932846e179d7ab929cc",
       "value": " 344/344 [02:22&lt;00:00,  2.41it/s, end_loss=0.754, jaccard=0.716, merged_loss=0.993, start_loss=0.84]"
      }
     },
     "5adc80d23ac94abfadb0bc6e2c4a70e4": {
      "model_module": "@jupyter-widgets/controls",
      "model_module_version": "1.5.0",
      "model_name": "FloatProgressModel",
      "state": {
       "bar_style": "success",
       "description": "100%",
       "layout": "IPY_MODEL_53b2c3078ddc47c6aa497ec18e8950ec",
       "max": 344,
       "style": "IPY_MODEL_bccc500c8bf643b696c8347bcacdf99a",
       "value": 344
      }
     },
     "5b61f993b34f4931bbdf770bd8fb687d": {
      "model_module": "@jupyter-widgets/controls",
      "model_module_version": "1.5.0",
      "model_name": "DescriptionStyleModel",
      "state": {
       "description_width": ""
      }
     },
     "5b73bc0272714fa4821a462a573a906d": {
      "model_module": "@jupyter-widgets/controls",
      "model_module_version": "1.5.0",
      "model_name": "HTMLModel",
      "state": {
       "layout": "IPY_MODEL_23f2816e19f24f188af7221143fbbd58",
       "style": "IPY_MODEL_5753da02235e4d9aad431954a28a5d49",
       "value": " 344/344 [03:50&lt;00:00,  1.50it/s, end_loss=0.929, jaccard=0.727, start_loss=0.967]"
      }
     },
     "5b7574456c034c78bd4607708930ccc3": {
      "model_module": "@jupyter-widgets/base",
      "model_module_version": "1.2.0",
      "model_name": "LayoutModel",
      "state": {}
     },
     "5baefc5bec4d4279a890a4a15853cafd": {
      "model_module": "@jupyter-widgets/controls",
      "model_module_version": "1.5.0",
      "model_name": "FloatProgressModel",
      "state": {
       "bar_style": "success",
       "description": "100%",
       "layout": "IPY_MODEL_bf39ce5f137b4f4393c2b54eebd1bb41",
       "max": 344,
       "style": "IPY_MODEL_57a514aeb10145a4bd093967064c3e23",
       "value": 344
      }
     },
     "5bb60d48fa4d48b6b0af3e9eb73c86ae": {
      "model_module": "@jupyter-widgets/base",
      "model_module_version": "1.2.0",
      "model_name": "LayoutModel",
      "state": {}
     },
     "5bed8baa82ef4b0ebc625c8137183af9": {
      "model_module": "@jupyter-widgets/controls",
      "model_module_version": "1.5.0",
      "model_name": "HBoxModel",
      "state": {
       "children": [
        "IPY_MODEL_81150db4497e44e9b3708bf0e59f3c9f",
        "IPY_MODEL_d1c45e5a260f4a3f80c5798c0b4e05c0"
       ],
       "layout": "IPY_MODEL_16557cf8b2f441faaf079724b53e3dc8"
      }
     },
     "5c03aba117954a6088781a337eab9a19": {
      "model_module": "@jupyter-widgets/base",
      "model_module_version": "1.2.0",
      "model_name": "LayoutModel",
      "state": {}
     },
     "5c154d232c4d4ca9be32a5fba3c92c23": {
      "model_module": "@jupyter-widgets/controls",
      "model_module_version": "1.5.0",
      "model_name": "HTMLModel",
      "state": {
       "layout": "IPY_MODEL_88ee91ff04b84daa9d3f15c762f43880",
       "style": "IPY_MODEL_4db029696ef44f7fbf3209a3c3800a87",
       "value": " 344/344 [00:21&lt;00:00, 15.81it/s, end_loss=0.808, jaccard=0.706, start_loss=0.877]"
      }
     },
     "5c3413cd63b44774af7a23ca8c385dda": {
      "model_module": "@jupyter-widgets/controls",
      "model_module_version": "1.5.0",
      "model_name": "HBoxModel",
      "state": {
       "children": [
        "IPY_MODEL_2f03ba22000d458a9c3c95a87f52facc",
        "IPY_MODEL_f4609135e96e42d2a64c7a0677d574f7"
       ],
       "layout": "IPY_MODEL_4bda3f81e80b407f980826c60f08cf5b"
      }
     },
     "5c674eeea8534a3eb11426e66535ba46": {
      "model_module": "@jupyter-widgets/base",
      "model_module_version": "1.2.0",
      "model_name": "LayoutModel",
      "state": {}
     },
     "5c74d318c7f54f2f981e1f0f2be2b49a": {
      "model_module": "@jupyter-widgets/base",
      "model_module_version": "1.2.0",
      "model_name": "LayoutModel",
      "state": {}
     },
     "5c8ce932aff54f1eaee76b86d54bcca5": {
      "model_module": "@jupyter-widgets/base",
      "model_module_version": "1.2.0",
      "model_name": "LayoutModel",
      "state": {}
     },
     "5c9763708b424cd286c0cc24ea1d29e6": {
      "model_module": "@jupyter-widgets/controls",
      "model_module_version": "1.5.0",
      "model_name": "DescriptionStyleModel",
      "state": {
       "description_width": ""
      }
     },
     "5c9c4f1a81534f3b8f9cb19d8f40ca03": {
      "model_module": "@jupyter-widgets/controls",
      "model_module_version": "1.5.0",
      "model_name": "FloatProgressModel",
      "state": {
       "bar_style": "success",
       "description": "100%",
       "layout": "IPY_MODEL_9c6301cc1663485391028a97ed78293a",
       "max": 344,
       "style": "IPY_MODEL_3c0f3b8bfe6c4f679f745dd9186605ca",
       "value": 344
      }
     },
     "5cbef16c6721439792a9a241b9265b3d": {
      "model_module": "@jupyter-widgets/controls",
      "model_module_version": "1.5.0",
      "model_name": "DescriptionStyleModel",
      "state": {
       "description_width": ""
      }
     },
     "5cc5e4713def42e29806d25789e3964a": {
      "model_module": "@jupyter-widgets/base",
      "model_module_version": "1.2.0",
      "model_name": "LayoutModel",
      "state": {}
     },
     "5cd4b6c76d654a10a29a25ffff52bf06": {
      "model_module": "@jupyter-widgets/controls",
      "model_module_version": "1.5.0",
      "model_name": "FloatProgressModel",
      "state": {
       "bar_style": "success",
       "description": "100%",
       "layout": "IPY_MODEL_86a6ab67a96c4058bfea5e5928a3e8b3",
       "max": 344,
       "style": "IPY_MODEL_42aa5832097d41e29ccfbfb1f94c20d2",
       "value": 344
      }
     },
     "5cf1254721af46e88a861e29ce217a99": {
      "model_module": "@jupyter-widgets/controls",
      "model_module_version": "1.5.0",
      "model_name": "HTMLModel",
      "state": {
       "layout": "IPY_MODEL_067e4a9aba8b4bf396d39d5364eb04a7",
       "style": "IPY_MODEL_91c6c8320a2b4ca3bda8efa59fdd4397",
       "value": " 344/344 [00:20&lt;00:00, 16.53it/s, end_loss=0.805, jaccard=0.706, merged_loss=0.99, start_loss=0.851]"
      }
     },
     "5cf87471408c4a419877a4369e967bb7": {
      "model_module": "@jupyter-widgets/base",
      "model_module_version": "1.2.0",
      "model_name": "LayoutModel",
      "state": {}
     },
     "5cf901394d6d4e6f80bfd3d20e477f0c": {
      "model_module": "@jupyter-widgets/base",
      "model_module_version": "1.2.0",
      "model_name": "LayoutModel",
      "state": {}
     },
     "5d0bb88fd557402e97ccd054376aa9bb": {
      "model_module": "@jupyter-widgets/base",
      "model_module_version": "1.2.0",
      "model_name": "LayoutModel",
      "state": {}
     },
     "5d66bc7a3c7347c8a32743ba60ec13b9": {
      "model_module": "@jupyter-widgets/base",
      "model_module_version": "1.2.0",
      "model_name": "LayoutModel",
      "state": {}
     },
     "5da1a5f67a0148bea5daf6b228195093": {
      "model_module": "@jupyter-widgets/base",
      "model_module_version": "1.2.0",
      "model_name": "LayoutModel",
      "state": {}
     },
     "5da7787ecf5f431a869887ed2382b2b0": {
      "model_module": "@jupyter-widgets/base",
      "model_module_version": "1.2.0",
      "model_name": "LayoutModel",
      "state": {}
     },
     "5decf3b75c934f00a8f11de90cac2ed8": {
      "model_module": "@jupyter-widgets/controls",
      "model_module_version": "1.5.0",
      "model_name": "FloatProgressModel",
      "state": {
       "bar_style": "success",
       "description": "100%",
       "layout": "IPY_MODEL_82da177fec3a44058dd534c27f23786f",
       "max": 344,
       "style": "IPY_MODEL_ed7853a919fd4c65bcaa1a59e8d827a4",
       "value": 344
      }
     },
     "5df03d59169d48319c53289bd687f8cd": {
      "model_module": "@jupyter-widgets/controls",
      "model_module_version": "1.5.0",
      "model_name": "ProgressStyleModel",
      "state": {
       "description_width": "initial"
      }
     },
     "5e0ecc493e31442396b86f460395bce9": {
      "model_module": "@jupyter-widgets/base",
      "model_module_version": "1.2.0",
      "model_name": "LayoutModel",
      "state": {}
     },
     "5e19bb0ba63d4b4198a5e6285ef694c6": {
      "model_module": "@jupyter-widgets/controls",
      "model_module_version": "1.5.0",
      "model_name": "ProgressStyleModel",
      "state": {
       "description_width": "initial"
      }
     },
     "5e2137795cbd44bb8fc872ab5ec46b00": {
      "model_module": "@jupyter-widgets/controls",
      "model_module_version": "1.5.0",
      "model_name": "HBoxModel",
      "state": {
       "children": [
        "IPY_MODEL_8d982f3581994627b495ebe96179cd0a",
        "IPY_MODEL_45d5d25b20c34a4d83e0eeb46141fae8"
       ],
       "layout": "IPY_MODEL_8fe5e09e172447c888cea1258216072e"
      }
     },
     "5e2a8cb00c3749e49e62e2b7c9a27eba": {
      "model_module": "@jupyter-widgets/controls",
      "model_module_version": "1.5.0",
      "model_name": "DescriptionStyleModel",
      "state": {
       "description_width": ""
      }
     },
     "5e2ef8cc5a814eb9a3711184f1d2d38b": {
      "model_module": "@jupyter-widgets/base",
      "model_module_version": "1.2.0",
      "model_name": "LayoutModel",
      "state": {}
     },
     "5e340caf37d9477cb240b4b6d6b955aa": {
      "model_module": "@jupyter-widgets/base",
      "model_module_version": "1.2.0",
      "model_name": "LayoutModel",
      "state": {}
     },
     "5e3548d2448447cfa33803585e3b4bd0": {
      "model_module": "@jupyter-widgets/base",
      "model_module_version": "1.2.0",
      "model_name": "LayoutModel",
      "state": {}
     },
     "5e66068f112f44c69c3ec8b27a7d944e": {
      "model_module": "@jupyter-widgets/base",
      "model_module_version": "1.2.0",
      "model_name": "LayoutModel",
      "state": {}
     },
     "5e7f0deab9e247698ae89b9bed7d36c5": {
      "model_module": "@jupyter-widgets/base",
      "model_module_version": "1.2.0",
      "model_name": "LayoutModel",
      "state": {}
     },
     "5e80086d72ef4bd186c97a3608b5d01f": {
      "model_module": "@jupyter-widgets/base",
      "model_module_version": "1.2.0",
      "model_name": "LayoutModel",
      "state": {}
     },
     "5e8655b4baf04de79d34633f3d42716a": {
      "model_module": "@jupyter-widgets/controls",
      "model_module_version": "1.5.0",
      "model_name": "FloatProgressModel",
      "state": {
       "bar_style": "success",
       "description": "100%",
       "layout": "IPY_MODEL_01c3e55c2c2a48d1abdf492f9ef266bc",
       "max": 344,
       "style": "IPY_MODEL_126a9095b0234094adbfab091182d5fa",
       "value": 344
      }
     },
     "5e8684df015f47ba8f61f590b8ff03bf": {
      "model_module": "@jupyter-widgets/base",
      "model_module_version": "1.2.0",
      "model_name": "LayoutModel",
      "state": {}
     },
     "5e9baa6dd6da4e1ca42880efdadf9b6f": {
      "model_module": "@jupyter-widgets/base",
      "model_module_version": "1.2.0",
      "model_name": "LayoutModel",
      "state": {}
     },
     "5ed0d1c5d74e465a80b10e8d3202a87f": {
      "model_module": "@jupyter-widgets/base",
      "model_module_version": "1.2.0",
      "model_name": "LayoutModel",
      "state": {}
     },
     "5ed1a9109f914b21a734feef184ed52a": {
      "model_module": "@jupyter-widgets/controls",
      "model_module_version": "1.5.0",
      "model_name": "ProgressStyleModel",
      "state": {
       "description_width": "initial"
      }
     },
     "5edbe4269d2244e88da186eef9d840a0": {
      "model_module": "@jupyter-widgets/base",
      "model_module_version": "1.2.0",
      "model_name": "LayoutModel",
      "state": {}
     },
     "5ef0e45fa80c493495bc83f43a51fde2": {
      "model_module": "@jupyter-widgets/controls",
      "model_module_version": "1.5.0",
      "model_name": "HTMLModel",
      "state": {
       "layout": "IPY_MODEL_32ba64c20ab4451297bba704744b147a",
       "style": "IPY_MODEL_eaaf5149cb4c441dbb977482a59e750b",
       "value": " 344/344 [00:22&lt;00:00, 15.57it/s, end_loss=0.822, jaccard=0.7, start_loss=0.873]"
      }
     },
     "5ef8a7b38de14820b9f6064dbc8193a5": {
      "model_module": "@jupyter-widgets/controls",
      "model_module_version": "1.5.0",
      "model_name": "HBoxModel",
      "state": {
       "children": [
        "IPY_MODEL_76ac500e288c4f3ca5d5d6c18bcf879b",
        "IPY_MODEL_68b8f12428304636b8928647c480959a"
       ],
       "layout": "IPY_MODEL_00046bd5d8ab4910b9a32924dab3bc1f"
      }
     },
     "5f25cbd538f24084973a01bca81579db": {
      "model_module": "@jupyter-widgets/controls",
      "model_module_version": "1.5.0",
      "model_name": "DescriptionStyleModel",
      "state": {
       "description_width": ""
      }
     },
     "5f2c3f9c09de468bb6d0f950f5529944": {
      "model_module": "@jupyter-widgets/controls",
      "model_module_version": "1.5.0",
      "model_name": "ProgressStyleModel",
      "state": {
       "description_width": "initial"
      }
     },
     "5f3fbd5fc1d5480f8513394afb02c69b": {
      "model_module": "@jupyter-widgets/controls",
      "model_module_version": "1.5.0",
      "model_name": "ProgressStyleModel",
      "state": {
       "description_width": "initial"
      }
     },
     "5f48f2e9b2d14035b365ec2c23bd25e3": {
      "model_module": "@jupyter-widgets/controls",
      "model_module_version": "1.5.0",
      "model_name": "ProgressStyleModel",
      "state": {
       "description_width": "initial"
      }
     },
     "5f7e93847bf04cc2b0c91c3562f3025b": {
      "model_module": "@jupyter-widgets/base",
      "model_module_version": "1.2.0",
      "model_name": "LayoutModel",
      "state": {}
     },
     "5f836d97566d470391941cd3923094d8": {
      "model_module": "@jupyter-widgets/controls",
      "model_module_version": "1.5.0",
      "model_name": "FloatProgressModel",
      "state": {
       "bar_style": "success",
       "description": "100%",
       "layout": "IPY_MODEL_14aa5539830a4166a000fd4892ffdfb4",
       "max": 344,
       "style": "IPY_MODEL_92bf7e906b9f461db8fb90d713331d3f",
       "value": 344
      }
     },
     "5fafc87547964be794e36b7018ae6713": {
      "model_module": "@jupyter-widgets/base",
      "model_module_version": "1.2.0",
      "model_name": "LayoutModel",
      "state": {}
     },
     "5fb6e89c351b4100bdbbee61c1c2cf2e": {
      "model_module": "@jupyter-widgets/base",
      "model_module_version": "1.2.0",
      "model_name": "LayoutModel",
      "state": {}
     },
     "5fc3be0ff5e74dfb83b2f0b02998dec6": {
      "model_module": "@jupyter-widgets/controls",
      "model_module_version": "1.5.0",
      "model_name": "FloatProgressModel",
      "state": {
       "bar_style": "success",
       "description": "100%",
       "layout": "IPY_MODEL_68e0542d4ebb4b47b27ba07b446906bf",
       "max": 344,
       "style": "IPY_MODEL_1451e43e04e9494085ce7163bf1615a1",
       "value": 344
      }
     },
     "5fdd5cba759846b7aebe322a921b71e6": {
      "model_module": "@jupyter-widgets/base",
      "model_module_version": "1.2.0",
      "model_name": "LayoutModel",
      "state": {}
     },
     "5fe3cfc02884443da1cc0606a1e2e2c6": {
      "model_module": "@jupyter-widgets/controls",
      "model_module_version": "1.5.0",
      "model_name": "FloatProgressModel",
      "state": {
       "bar_style": "success",
       "description": "100%",
       "layout": "IPY_MODEL_900b468802894722aed152fa8de5374b",
       "max": 344,
       "style": "IPY_MODEL_66e4fc57dcbc46c5b3adb61914f2cf56",
       "value": 344
      }
     },
     "5fead3f10e6d4225a31ec11bfbd6e733": {
      "model_module": "@jupyter-widgets/base",
      "model_module_version": "1.2.0",
      "model_name": "LayoutModel",
      "state": {}
     },
     "5ff442fe99d549da92e6a20a8a16f307": {
      "model_module": "@jupyter-widgets/controls",
      "model_module_version": "1.5.0",
      "model_name": "DescriptionStyleModel",
      "state": {
       "description_width": ""
      }
     },
     "6006b1d17c51447ab3b6a280c35973db": {
      "model_module": "@jupyter-widgets/controls",
      "model_module_version": "1.5.0",
      "model_name": "HTMLModel",
      "state": {
       "layout": "IPY_MODEL_e684b9a324d04d99adea23b8590a7296",
       "style": "IPY_MODEL_995a6d01758d4d5b8a5cf7b4db1a20c3",
       "value": " 344/344 [00:20&lt;00:00, 16.43it/s, end_loss=0.789, jaccard=0.706, start_loss=0.853]"
      }
     },
     "600a73313c8444eba389f14a03a8437a": {
      "model_module": "@jupyter-widgets/controls",
      "model_module_version": "1.5.0",
      "model_name": "HBoxModel",
      "state": {
       "children": [
        "IPY_MODEL_ea192cf866d94890b4e3056b973695de",
        "IPY_MODEL_da8b3e0c87cf427e9198030b73897cc9"
       ],
       "layout": "IPY_MODEL_0673e2594f794191aefe143424b2fcc8"
      }
     },
     "602343ef7eae49859783ab74278d7fef": {
      "model_module": "@jupyter-widgets/controls",
      "model_module_version": "1.5.0",
      "model_name": "DescriptionStyleModel",
      "state": {
       "description_width": ""
      }
     },
     "60408aa3631b4eeaa773de3a0563ff28": {
      "model_module": "@jupyter-widgets/base",
      "model_module_version": "1.2.0",
      "model_name": "LayoutModel",
      "state": {}
     },
     "60445265f60f443aaf784a4cca9efcaf": {
      "model_module": "@jupyter-widgets/controls",
      "model_module_version": "1.5.0",
      "model_name": "DescriptionStyleModel",
      "state": {
       "description_width": ""
      }
     },
     "60695b6a9a4946eabc99ac69e2a9b128": {
      "model_module": "@jupyter-widgets/base",
      "model_module_version": "1.2.0",
      "model_name": "LayoutModel",
      "state": {}
     },
     "6079be87b474459493d2a98e547b55c4": {
      "model_module": "@jupyter-widgets/controls",
      "model_module_version": "1.5.0",
      "model_name": "DescriptionStyleModel",
      "state": {
       "description_width": ""
      }
     },
     "60ae8874ff0349d2b77a1a72ca4c0d13": {
      "model_module": "@jupyter-widgets/controls",
      "model_module_version": "1.5.0",
      "model_name": "HBoxModel",
      "state": {
       "children": [
        "IPY_MODEL_11adcf33a95547eb884619ff4290899f",
        "IPY_MODEL_cb6b17ca07234825b7b2d6a0fdada2cc"
       ],
       "layout": "IPY_MODEL_c11af22e87814d8e894bcf2b6f25aea1"
      }
     },
     "60d996ae414f43cdb1a70eb82e42c9b8": {
      "model_module": "@jupyter-widgets/controls",
      "model_module_version": "1.5.0",
      "model_name": "HBoxModel",
      "state": {
       "children": [
        "IPY_MODEL_4b20a9eec14843a4b6c26748e3ca255e",
        "IPY_MODEL_0ab02e495a324a36b72e4fc6919af36a"
       ],
       "layout": "IPY_MODEL_fb33c8d494b3475985a7fd4d945a1281"
      }
     },
     "60e413dc60704a9fa3104cf0386e0d06": {
      "model_module": "@jupyter-widgets/controls",
      "model_module_version": "1.5.0",
      "model_name": "DescriptionStyleModel",
      "state": {
       "description_width": ""
      }
     },
     "610b409c38b44ef69996adb208cba0e4": {
      "model_module": "@jupyter-widgets/controls",
      "model_module_version": "1.5.0",
      "model_name": "FloatProgressModel",
      "state": {
       "bar_style": "success",
       "description": "100%",
       "layout": "IPY_MODEL_63d4871f28d94f85ba01ce6b08edda16",
       "max": 344,
       "style": "IPY_MODEL_2f1a8c8bfbd649abab0f8437ba7ee3b2",
       "value": 344
      }
     },
     "6111c0e3bed24034a07b66e099878ee3": {
      "model_module": "@jupyter-widgets/base",
      "model_module_version": "1.2.0",
      "model_name": "LayoutModel",
      "state": {}
     },
     "611b0f47ffd34e1a8d9552d4dcef0c4e": {
      "model_module": "@jupyter-widgets/base",
      "model_module_version": "1.2.0",
      "model_name": "LayoutModel",
      "state": {}
     },
     "612cb9578484408a8022f1b57612af81": {
      "model_module": "@jupyter-widgets/base",
      "model_module_version": "1.2.0",
      "model_name": "LayoutModel",
      "state": {}
     },
     "612f52af2b354593b3a76aef0ff28e37": {
      "model_module": "@jupyter-widgets/base",
      "model_module_version": "1.2.0",
      "model_name": "LayoutModel",
      "state": {}
     },
     "613fbc9eee444c1cbe37e2c76c9f5aca": {
      "model_module": "@jupyter-widgets/base",
      "model_module_version": "1.2.0",
      "model_name": "LayoutModel",
      "state": {}
     },
     "6140803977734129adadbb7411b73f95": {
      "model_module": "@jupyter-widgets/controls",
      "model_module_version": "1.5.0",
      "model_name": "FloatProgressModel",
      "state": {
       "bar_style": "success",
       "description": "100%",
       "layout": "IPY_MODEL_d24ada64e2f6499e8a7dfe99b75db8b5",
       "max": 344,
       "style": "IPY_MODEL_877861100ee24628a9e2f3e48aa79f4d",
       "value": 344
      }
     },
     "61498e932f094f89a85ebbecf3cb31a4": {
      "model_module": "@jupyter-widgets/base",
      "model_module_version": "1.2.0",
      "model_name": "LayoutModel",
      "state": {}
     },
     "614c733767714a7fa8493a23142bb1d5": {
      "model_module": "@jupyter-widgets/controls",
      "model_module_version": "1.5.0",
      "model_name": "DescriptionStyleModel",
      "state": {
       "description_width": ""
      }
     },
     "6150f4ec9c434c62b2734b3ced6abff7": {
      "model_module": "@jupyter-widgets/controls",
      "model_module_version": "1.5.0",
      "model_name": "FloatProgressModel",
      "state": {
       "bar_style": "success",
       "description": "100%",
       "layout": "IPY_MODEL_331bbd57f890497abf231305dd36125a",
       "max": 344,
       "style": "IPY_MODEL_dcb0bfcf24ab4d17be481a296e1aa652",
       "value": 344
      }
     },
     "61577ca3ca8d4a2ab5e8f2b687fc8a1a": {
      "model_module": "@jupyter-widgets/controls",
      "model_module_version": "1.5.0",
      "model_name": "HTMLModel",
      "state": {
       "layout": "IPY_MODEL_e22ff62ebe1d4132b75a65610c6be96b",
       "style": "IPY_MODEL_d09cc520d5bd4805add8798467770093",
       "value": " 344/344 [03:03&lt;00:00,  1.88it/s, end_loss=1.14, jaccard=0.644, start_loss=1.15]"
      }
     },
     "617a0e92852842e7b68c0d9227e6d05a": {
      "model_module": "@jupyter-widgets/controls",
      "model_module_version": "1.5.0",
      "model_name": "HBoxModel",
      "state": {
       "children": [
        "IPY_MODEL_1dc1eda0917d465ab4b0737cf96ba1ae",
        "IPY_MODEL_baa7831d204341eb840e0efb6b517b2d"
       ],
       "layout": "IPY_MODEL_53ec067c954f4df28e4d361c34aebe8e"
      }
     },
     "61ac6f87b4394b9f9d7d4737832e325c": {
      "model_module": "@jupyter-widgets/controls",
      "model_module_version": "1.5.0",
      "model_name": "HBoxModel",
      "state": {
       "children": [
        "IPY_MODEL_575770d2bc9e48dbb03245fa0e3a8024",
        "IPY_MODEL_5972f4b0f407471d8dd125ea6e5f2f3e"
       ],
       "layout": "IPY_MODEL_13bd1217ab57421a826697efc37ade52"
      }
     },
     "61baebb487664e2fbe9c3959ddf68dcd": {
      "model_module": "@jupyter-widgets/controls",
      "model_module_version": "1.5.0",
      "model_name": "DescriptionStyleModel",
      "state": {
       "description_width": ""
      }
     },
     "61f2d3e8c68d4e46ab787ec89044d7f6": {
      "model_module": "@jupyter-widgets/controls",
      "model_module_version": "1.5.0",
      "model_name": "FloatProgressModel",
      "state": {
       "bar_style": "success",
       "description": "100%",
       "layout": "IPY_MODEL_027a6c0cdede4b1f950f54f80cd580dd",
       "max": 344,
       "style": "IPY_MODEL_d84969d04a874d8da1ee2a4ecdd2d8eb",
       "value": 344
      }
     },
     "6224e40156f64bc7ae0c0eb3ee35b504": {
      "model_module": "@jupyter-widgets/controls",
      "model_module_version": "1.5.0",
      "model_name": "HTMLModel",
      "state": {
       "layout": "IPY_MODEL_5502762b2d9a4085b2cdc7844a7202f6",
       "style": "IPY_MODEL_0eca0fea806b4ee1ba00ac76a40c20f0",
       "value": " 344/344 [00:21&lt;00:00, 16.38it/s, end_loss=0.797, jaccard=0.707, start_loss=0.858]"
      }
     },
     "6249ad36471e4a12b951bdc0115c932d": {
      "model_module": "@jupyter-widgets/controls",
      "model_module_version": "1.5.0",
      "model_name": "HTMLModel",
      "state": {
       "layout": "IPY_MODEL_eecc3f44c24941b08a26df8f98be578f",
       "style": "IPY_MODEL_4bc4986b752b4e1282c7adb1c0fee188",
       "value": " 344/344 [00:23&lt;00:00, 14.72it/s, end_loss=0.965, jaccard=0.708, start_loss=0.978]"
      }
     },
     "626a893ff18a4774991ecee1986d4200": {
      "model_module": "@jupyter-widgets/base",
      "model_module_version": "1.2.0",
      "model_name": "LayoutModel",
      "state": {}
     },
     "62b46675a2534e049307f79dd70b9cec": {
      "model_module": "@jupyter-widgets/controls",
      "model_module_version": "1.5.0",
      "model_name": "HTMLModel",
      "state": {
       "layout": "IPY_MODEL_d5c3d9cdbbe34bfa912b2c3120402052",
       "style": "IPY_MODEL_ab5691502ddf44a281af7d8b87dec262",
       "value": " 344/344 [00:21&lt;00:00, 16.07it/s, end_loss=0.839, jaccard=0.698, start_loss=0.88]"
      }
     },
     "62b9041b5db84c15b797a0e867da09fb": {
      "model_module": "@jupyter-widgets/base",
      "model_module_version": "1.2.0",
      "model_name": "LayoutModel",
      "state": {}
     },
     "62e5d38cdb6e4257b73b9861690b3ee5": {
      "model_module": "@jupyter-widgets/controls",
      "model_module_version": "1.5.0",
      "model_name": "FloatProgressModel",
      "state": {
       "bar_style": "success",
       "description": "100%",
       "layout": "IPY_MODEL_8ad14809fc45417697ba4543402f534c",
       "max": 344,
       "style": "IPY_MODEL_49f3becd4e854c9db9e529200bb42cc4",
       "value": 344
      }
     },
     "62e6b42130cd451d92189cbae411dcdc": {
      "model_module": "@jupyter-widgets/controls",
      "model_module_version": "1.5.0",
      "model_name": "HTMLModel",
      "state": {
       "layout": "IPY_MODEL_46ac614f7e644c0590fe1bb2dc7d77a3",
       "style": "IPY_MODEL_849595304f7542949d8bf06acfea9fdb",
       "value": " 344/344 [03:53&lt;00:00,  1.48it/s, end_loss=1.06, jaccard=0.695, start_loss=1.1]"
      }
     },
     "63004337974345debba24419f3b78584": {
      "model_module": "@jupyter-widgets/controls",
      "model_module_version": "1.5.0",
      "model_name": "DescriptionStyleModel",
      "state": {
       "description_width": ""
      }
     },
     "6338b1182913408686551e7d8a25a919": {
      "model_module": "@jupyter-widgets/controls",
      "model_module_version": "1.5.0",
      "model_name": "DescriptionStyleModel",
      "state": {
       "description_width": ""
      }
     },
     "63496dc46e1645d4a082a3253b8cb2bb": {
      "model_module": "@jupyter-widgets/controls",
      "model_module_version": "1.5.0",
      "model_name": "HBoxModel",
      "state": {
       "children": [
        "IPY_MODEL_c80f6a2debc24bc9845eb750e45f54f4",
        "IPY_MODEL_752696d766e24821a9c23c7595fb2c25"
       ],
       "layout": "IPY_MODEL_28d1d943e8494ceb8f88dc07c0cb9718"
      }
     },
     "634a8537105646c883335fdaad90122d": {
      "model_module": "@jupyter-widgets/controls",
      "model_module_version": "1.5.0",
      "model_name": "ProgressStyleModel",
      "state": {
       "description_width": "initial"
      }
     },
     "6378b2e29000421e96a8b5e630d1bb76": {
      "model_module": "@jupyter-widgets/controls",
      "model_module_version": "1.5.0",
      "model_name": "HBoxModel",
      "state": {
       "children": [
        "IPY_MODEL_777475a8e2ef441aadca1656f66cb8eb",
        "IPY_MODEL_1dc89b7a4ce94765a54b43ead51b9733"
       ],
       "layout": "IPY_MODEL_c605f5db1af34f57bf3ec284efec9f2b"
      }
     },
     "63999a60acde45979c64f1aee04a02e6": {
      "model_module": "@jupyter-widgets/controls",
      "model_module_version": "1.5.0",
      "model_name": "HTMLModel",
      "state": {
       "layout": "IPY_MODEL_34c95eedb762449cbe9300ea63168d63",
       "style": "IPY_MODEL_e72b19c8a06f4690b9e80b8b4127c3ef",
       "value": " 344/344 [49:19&lt;00:00,  8.60s/it, end_loss=1.79, jaccard=0.651, start_loss=1.81]"
      }
     },
     "63bd31d5682646cea94bb1fed403b0fb": {
      "model_module": "@jupyter-widgets/controls",
      "model_module_version": "1.5.0",
      "model_name": "ProgressStyleModel",
      "state": {
       "description_width": "initial"
      }
     },
     "63c9f9e5a36b4980920ca0da59acaeb8": {
      "model_module": "@jupyter-widgets/base",
      "model_module_version": "1.2.0",
      "model_name": "LayoutModel",
      "state": {}
     },
     "63d4871f28d94f85ba01ce6b08edda16": {
      "model_module": "@jupyter-widgets/base",
      "model_module_version": "1.2.0",
      "model_name": "LayoutModel",
      "state": {}
     },
     "644220d84b7c4259b883b71f20af242d": {
      "model_module": "@jupyter-widgets/base",
      "model_module_version": "1.2.0",
      "model_name": "LayoutModel",
      "state": {}
     },
     "6455d3e36f154620b654b3fbf99af308": {
      "model_module": "@jupyter-widgets/controls",
      "model_module_version": "1.5.0",
      "model_name": "ProgressStyleModel",
      "state": {
       "description_width": "initial"
      }
     },
     "6474e4a867214877a88818cd1187db0c": {
      "model_module": "@jupyter-widgets/controls",
      "model_module_version": "1.5.0",
      "model_name": "HTMLModel",
      "state": {
       "layout": "IPY_MODEL_12ccfd7ad3d84783956fce60a50d5695",
       "style": "IPY_MODEL_868d90ecfb684acf80ad76a893ef40df",
       "value": " 344/344 [04:37&lt;00:00,  1.24it/s, end_loss=0.904, jaccard=0.737, start_loss=0.932]"
      }
     },
     "647c2438ea7e43e08adaee917c999741": {
      "model_module": "@jupyter-widgets/controls",
      "model_module_version": "1.5.0",
      "model_name": "DescriptionStyleModel",
      "state": {
       "description_width": ""
      }
     },
     "6496a1ecf7b847688031ed08558b3b2d": {
      "model_module": "@jupyter-widgets/controls",
      "model_module_version": "1.5.0",
      "model_name": "ProgressStyleModel",
      "state": {
       "description_width": "initial"
      }
     },
     "6496faa6039f465a8de39ca49795875e": {
      "model_module": "@jupyter-widgets/base",
      "model_module_version": "1.2.0",
      "model_name": "LayoutModel",
      "state": {}
     },
     "6502445a71d4442bac8fe3bd7a4b2f2e": {
      "model_module": "@jupyter-widgets/controls",
      "model_module_version": "1.5.0",
      "model_name": "FloatProgressModel",
      "state": {
       "bar_style": "success",
       "description": "100%",
       "layout": "IPY_MODEL_7b67e8488033422bb8e3f78b9fe7cac7",
       "max": 344,
       "style": "IPY_MODEL_94251ad533b84564a799b2e0cff98d8c",
       "value": 344
      }
     },
     "652bd5eef2e440fc90dd9977902d06d2": {
      "model_module": "@jupyter-widgets/controls",
      "model_module_version": "1.5.0",
      "model_name": "HBoxModel",
      "state": {
       "children": [
        "IPY_MODEL_758d7f0cd65b44098aacd5093c1b0aa1",
        "IPY_MODEL_9cf2923cf99541e7b9f8e9ffc06dbc69"
       ],
       "layout": "IPY_MODEL_52b124202ee349a58395360b3dd1e035"
      }
     },
     "652d844aa2ea4364b59f32ad5a4e6f05": {
      "model_module": "@jupyter-widgets/controls",
      "model_module_version": "1.5.0",
      "model_name": "DescriptionStyleModel",
      "state": {
       "description_width": ""
      }
     },
     "6535df627a644981b495c7b2e757b758": {
      "model_module": "@jupyter-widgets/base",
      "model_module_version": "1.2.0",
      "model_name": "LayoutModel",
      "state": {}
     },
     "657aa928b3794bed8b2b58f2ffc173f3": {
      "model_module": "@jupyter-widgets/controls",
      "model_module_version": "1.5.0",
      "model_name": "FloatProgressModel",
      "state": {
       "bar_style": "success",
       "description": "100%",
       "layout": "IPY_MODEL_5c8ce932aff54f1eaee76b86d54bcca5",
       "max": 344,
       "style": "IPY_MODEL_a9bec4541e4a41e6993d80ac5a363380",
       "value": 344
      }
     },
     "657d02ca23b14d93b0517cc46d208d02": {
      "model_module": "@jupyter-widgets/controls",
      "model_module_version": "1.5.0",
      "model_name": "HBoxModel",
      "state": {
       "children": [
        "IPY_MODEL_91a120ac8ad54c89a1c9ed8ff91606a5",
        "IPY_MODEL_86a166ea50cb49fa9e904b323cf375de"
       ],
       "layout": "IPY_MODEL_82916a27ade246aaa307a21ebfa9431c"
      }
     },
     "659c65a22c7d40228158df3b9f27de5f": {
      "model_module": "@jupyter-widgets/controls",
      "model_module_version": "1.5.0",
      "model_name": "ProgressStyleModel",
      "state": {
       "description_width": "initial"
      }
     },
     "65c02aa3796c4313a29c67cd1a06b4c0": {
      "model_module": "@jupyter-widgets/controls",
      "model_module_version": "1.5.0",
      "model_name": "HTMLModel",
      "state": {
       "layout": "IPY_MODEL_357a660aa7954b03ac27e3d516104cb4",
       "style": "IPY_MODEL_2344dc170c4c45208df067a0332bdc15",
       "value": " 344/344 [05:26&lt;00:00,  1.06it/s, end_loss=1.37, jaccard=0.61, start_loss=1.35]"
      }
     },
     "65e09980419749e4be82cd71b20b59bc": {
      "model_module": "@jupyter-widgets/base",
      "model_module_version": "1.2.0",
      "model_name": "LayoutModel",
      "state": {}
     },
     "65e15760968842d8a4580e073942cf3d": {
      "model_module": "@jupyter-widgets/controls",
      "model_module_version": "1.5.0",
      "model_name": "HBoxModel",
      "state": {
       "children": [
        "IPY_MODEL_3ec2d833f1e64855a244f5024163f8fd",
        "IPY_MODEL_adb3129f6b1446ce8791d2196e1c36cc"
       ],
       "layout": "IPY_MODEL_0d3b6c7a90f64824a7e617bd82b03ae7"
      }
     },
     "65e46ad7f66a4e60a70bd5d21d1dab35": {
      "model_module": "@jupyter-widgets/controls",
      "model_module_version": "1.5.0",
      "model_name": "HTMLModel",
      "state": {
       "layout": "IPY_MODEL_32b5f9771ca64e6fb3859b2eacc7d6a8",
       "style": "IPY_MODEL_f1a7e14d4cc04e6eba9df68c19f9b456",
       "value": " 344/344 [03:37&lt;00:00,  1.58it/s, end_loss=0.806, jaccard=0.704, start_loss=0.854]"
      }
     },
     "65fbf43fe5e44260b6ed23a5c0df57e9": {
      "model_module": "@jupyter-widgets/controls",
      "model_module_version": "1.5.0",
      "model_name": "ProgressStyleModel",
      "state": {
       "description_width": "initial"
      }
     },
     "6609245f0dd5428d898093588ea706ae": {
      "model_module": "@jupyter-widgets/controls",
      "model_module_version": "1.5.0",
      "model_name": "FloatProgressModel",
      "state": {
       "bar_style": "success",
       "description": "100%",
       "layout": "IPY_MODEL_194fe457a25049518e672d1f38697e13",
       "max": 344,
       "style": "IPY_MODEL_4fa2a6775b304774a58d47b20222e603",
       "value": 344
      }
     },
     "660ebf86e4164b64a7dff431fb08b78e": {
      "model_module": "@jupyter-widgets/controls",
      "model_module_version": "1.5.0",
      "model_name": "HBoxModel",
      "state": {
       "children": [
        "IPY_MODEL_080947b60c8b4a4eacf2e5a4a4b218fd",
        "IPY_MODEL_746011c8c1574d00a1232f7b57778c39"
       ],
       "layout": "IPY_MODEL_168e5a29ab9e4941a416d53c81298e42"
      }
     },
     "66333dbf6de14bd08fe8f58e82f7c91a": {
      "model_module": "@jupyter-widgets/controls",
      "model_module_version": "1.5.0",
      "model_name": "ProgressStyleModel",
      "state": {
       "description_width": "initial"
      }
     },
     "666dfd24c98f4880ac6bd2da0f56ae7d": {
      "model_module": "@jupyter-widgets/controls",
      "model_module_version": "1.5.0",
      "model_name": "ProgressStyleModel",
      "state": {
       "description_width": "initial"
      }
     },
     "66e4fc57dcbc46c5b3adb61914f2cf56": {
      "model_module": "@jupyter-widgets/controls",
      "model_module_version": "1.5.0",
      "model_name": "ProgressStyleModel",
      "state": {
       "description_width": "initial"
      }
     },
     "66e936882fa74c758344ecf13f4982fd": {
      "model_module": "@jupyter-widgets/controls",
      "model_module_version": "1.5.0",
      "model_name": "HTMLModel",
      "state": {
       "layout": "IPY_MODEL_f6348ddd51d84bdcbce67f4a3163a97b",
       "style": "IPY_MODEL_8dc9b4285a1e4d27a350b2c6a10a9ebe",
       "value": " 344/344 [03:30&lt;00:00,  1.64it/s, end_loss=1.14, jaccard=0.649, start_loss=1.14]"
      }
     },
     "6702c3686aaa4a1ebcee11014508f02e": {
      "model_module": "@jupyter-widgets/base",
      "model_module_version": "1.2.0",
      "model_name": "LayoutModel",
      "state": {}
     },
     "672c284b72b24a26a2ddda1fd14f65a2": {
      "model_module": "@jupyter-widgets/base",
      "model_module_version": "1.2.0",
      "model_name": "LayoutModel",
      "state": {}
     },
     "675edd19f7024694bc2ead1bf029e811": {
      "model_module": "@jupyter-widgets/controls",
      "model_module_version": "1.5.0",
      "model_name": "DescriptionStyleModel",
      "state": {
       "description_width": ""
      }
     },
     "6766bd0f025e4087a597c3e9fbd45d54": {
      "model_module": "@jupyter-widgets/base",
      "model_module_version": "1.2.0",
      "model_name": "LayoutModel",
      "state": {}
     },
     "677c4117796349fc8f11768930a9bf49": {
      "model_module": "@jupyter-widgets/controls",
      "model_module_version": "1.5.0",
      "model_name": "ProgressStyleModel",
      "state": {
       "description_width": "initial"
      }
     },
     "677ca9d174014421af58fc86b2382088": {
      "model_module": "@jupyter-widgets/controls",
      "model_module_version": "1.5.0",
      "model_name": "DescriptionStyleModel",
      "state": {
       "description_width": ""
      }
     },
     "678661879d5543c5a52e2dede49031bc": {
      "model_module": "@jupyter-widgets/controls",
      "model_module_version": "1.5.0",
      "model_name": "DescriptionStyleModel",
      "state": {
       "description_width": ""
      }
     },
     "6789ca810bf04b18956adcd5c7a28bcd": {
      "model_module": "@jupyter-widgets/controls",
      "model_module_version": "1.5.0",
      "model_name": "HBoxModel",
      "state": {
       "children": [
        "IPY_MODEL_bc574aaf3fa14a099672072a931c9c42",
        "IPY_MODEL_b283f8dcc6464c3bb6f4d9b9f8b78df4"
       ],
       "layout": "IPY_MODEL_28287023ca114d50a9f8660a6743e4a4"
      }
     },
     "67ab9892845c4a31b45c9c7065b8d360": {
      "model_module": "@jupyter-widgets/controls",
      "model_module_version": "1.5.0",
      "model_name": "HBoxModel",
      "state": {
       "children": [
        "IPY_MODEL_73cf70aab53245c98f68e85d5d62b6a5",
        "IPY_MODEL_fa1590d5b4ff405dadd0955e15f225ab"
       ],
       "layout": "IPY_MODEL_7405b59630b74187b0933ac521ac42f6"
      }
     },
     "67c7c80188524b259c861b7176e5d79c": {
      "model_module": "@jupyter-widgets/base",
      "model_module_version": "1.2.0",
      "model_name": "LayoutModel",
      "state": {}
     },
     "67df35d158c54eef8a0c6820b6800500": {
      "model_module": "@jupyter-widgets/base",
      "model_module_version": "1.2.0",
      "model_name": "LayoutModel",
      "state": {}
     },
     "6826f9a9765c4194b91af17154556c1b": {
      "model_module": "@jupyter-widgets/controls",
      "model_module_version": "1.5.0",
      "model_name": "ProgressStyleModel",
      "state": {
       "description_width": "initial"
      }
     },
     "682a844923cb46e2b7af7d79c1a777a5": {
      "model_module": "@jupyter-widgets/base",
      "model_module_version": "1.2.0",
      "model_name": "LayoutModel",
      "state": {}
     },
     "685b8c73119a4d4e8b1abf7b08ee8f9f": {
      "model_module": "@jupyter-widgets/controls",
      "model_module_version": "1.5.0",
      "model_name": "FloatProgressModel",
      "state": {
       "bar_style": "success",
       "description": "100%",
       "layout": "IPY_MODEL_2e8fa4b6dbcb4dffb72b830ad30e03bd",
       "max": 344,
       "style": "IPY_MODEL_4268987800c54265820d465a2d13c3ec",
       "value": 344
      }
     },
     "6868513bec194595b39aa5ece7862004": {
      "model_module": "@jupyter-widgets/base",
      "model_module_version": "1.2.0",
      "model_name": "LayoutModel",
      "state": {}
     },
     "687a9c3a2e294a338b04d630f0786797": {
      "model_module": "@jupyter-widgets/controls",
      "model_module_version": "1.5.0",
      "model_name": "DescriptionStyleModel",
      "state": {
       "description_width": ""
      }
     },
     "68a1213318e045f3bb15bdbde84c0abd": {
      "model_module": "@jupyter-widgets/controls",
      "model_module_version": "1.5.0",
      "model_name": "ProgressStyleModel",
      "state": {
       "description_width": "initial"
      }
     },
     "68b8f12428304636b8928647c480959a": {
      "model_module": "@jupyter-widgets/controls",
      "model_module_version": "1.5.0",
      "model_name": "HTMLModel",
      "state": {
       "layout": "IPY_MODEL_4e13fcdc814d432dbdaf54f2c1d94299",
       "style": "IPY_MODEL_4ffd32a92c81466eab9b5fb92e33406a",
       "value": " 344/344 [06:30&lt;00:00,  1.13s/it, end_loss=0.834, jaccard=0.711, start_loss=0.848]"
      }
     },
     "68d563d7294f4af8ab68e40a99116112": {
      "model_module": "@jupyter-widgets/base",
      "model_module_version": "1.2.0",
      "model_name": "LayoutModel",
      "state": {}
     },
     "68d6ac8f15b845cead15307c5172e8dd": {
      "model_module": "@jupyter-widgets/base",
      "model_module_version": "1.2.0",
      "model_name": "LayoutModel",
      "state": {}
     },
     "68e0542d4ebb4b47b27ba07b446906bf": {
      "model_module": "@jupyter-widgets/base",
      "model_module_version": "1.2.0",
      "model_name": "LayoutModel",
      "state": {}
     },
     "68ef593a474c4f238abe2cf8dc8574e4": {
      "model_module": "@jupyter-widgets/controls",
      "model_module_version": "1.5.0",
      "model_name": "FloatProgressModel",
      "state": {
       "bar_style": "success",
       "description": "100%",
       "layout": "IPY_MODEL_48bf8b19b732433a97ed4b8560d664aa",
       "max": 344,
       "style": "IPY_MODEL_9e82d137e6124f58a5f46681e05cf7ef",
       "value": 344
      }
     },
     "69099e12658e4405a5a9582fb720bb74": {
      "model_module": "@jupyter-widgets/controls",
      "model_module_version": "1.5.0",
      "model_name": "HTMLModel",
      "state": {
       "layout": "IPY_MODEL_79235f7627844dc7b4fadebbca17086d",
       "style": "IPY_MODEL_4585c4d812834116bd9e16e009d93694",
       "value": " 344/344 [08:06&lt;00:00,  1.41s/it, end_loss=0.792, jaccard=0.716, start_loss=0.835]"
      }
     },
     "6945296ddbeb4689aab81d26becbbd9e": {
      "model_module": "@jupyter-widgets/base",
      "model_module_version": "1.2.0",
      "model_name": "LayoutModel",
      "state": {}
     },
     "6952701b4a57468f9571ad5a34e96253": {
      "model_module": "@jupyter-widgets/controls",
      "model_module_version": "1.5.0",
      "model_name": "HTMLModel",
      "state": {
       "layout": "IPY_MODEL_c4041760612046caa4c6d6921da013c6",
       "style": "IPY_MODEL_a36494d381244d97888cdec231345a3a",
       "value": " 344/344 [00:19&lt;00:00, 18.09it/s, end_loss=0.821, jaccard=0.707, start_loss=0.875]"
      }
     },
     "697022d359c041a19d6c88f1aa454aa0": {
      "model_module": "@jupyter-widgets/base",
      "model_module_version": "1.2.0",
      "model_name": "LayoutModel",
      "state": {}
     },
     "697177254bce4451bfbbb8837c72a67a": {
      "model_module": "@jupyter-widgets/base",
      "model_module_version": "1.2.0",
      "model_name": "LayoutModel",
      "state": {}
     },
     "697e8252ba3b4c9599e2d6e80414c4f3": {
      "model_module": "@jupyter-widgets/controls",
      "model_module_version": "1.5.0",
      "model_name": "DescriptionStyleModel",
      "state": {
       "description_width": ""
      }
     },
     "699635ee61d144e7a07199aecb41eb67": {
      "model_module": "@jupyter-widgets/controls",
      "model_module_version": "1.5.0",
      "model_name": "HTMLModel",
      "state": {
       "layout": "IPY_MODEL_cab9f424a6be4f029b13046b6ee1a164",
       "style": "IPY_MODEL_39c1f060f9be4e9e80d0a6226af92b43",
       "value": " 344/344 [00:20&lt;00:00, 16.72it/s, end_loss=0.832, jaccard=0.698, merged_loss=1.02, start_loss=0.845]"
      }
     },
     "699c1c3201884b1689371b369bcd9fe8": {
      "model_module": "@jupyter-widgets/base",
      "model_module_version": "1.2.0",
      "model_name": "LayoutModel",
      "state": {}
     },
     "69a013e378fd4386bba09441729143c1": {
      "model_module": "@jupyter-widgets/controls",
      "model_module_version": "1.5.0",
      "model_name": "ProgressStyleModel",
      "state": {
       "description_width": "initial"
      }
     },
     "6a1efe589938480fa75aec90935d40c8": {
      "model_module": "@jupyter-widgets/base",
      "model_module_version": "1.2.0",
      "model_name": "LayoutModel",
      "state": {}
     },
     "6a1fed900c69417c889f8795fb7f2451": {
      "model_module": "@jupyter-widgets/base",
      "model_module_version": "1.2.0",
      "model_name": "LayoutModel",
      "state": {}
     },
     "6a2d912f188a4d6d92e5198e3b02f205": {
      "model_module": "@jupyter-widgets/controls",
      "model_module_version": "1.5.0",
      "model_name": "ProgressStyleModel",
      "state": {
       "description_width": "initial"
      }
     },
     "6a357666b41e4504949c60e7b7a03102": {
      "model_module": "@jupyter-widgets/controls",
      "model_module_version": "1.5.0",
      "model_name": "HTMLModel",
      "state": {
       "layout": "IPY_MODEL_dc71c100a5dd43329eff7066ff252052",
       "style": "IPY_MODEL_ff0a1acd1a4f427d8b7464ed5c130599",
       "value": " 344/344 [00:24&lt;00:00, 14.20it/s, end_loss=0.827, jaccard=0.705, start_loss=0.842]"
      }
     },
     "6a3b3db9bfdf47629cd7bc0a98c01cee": {
      "model_module": "@jupyter-widgets/base",
      "model_module_version": "1.2.0",
      "model_name": "LayoutModel",
      "state": {}
     },
     "6a418023eec3451483e4113ae24d4c50": {
      "model_module": "@jupyter-widgets/base",
      "model_module_version": "1.2.0",
      "model_name": "LayoutModel",
      "state": {}
     },
     "6a7a69d2b98c457390225150780dcd4f": {
      "model_module": "@jupyter-widgets/controls",
      "model_module_version": "1.5.0",
      "model_name": "HTMLModel",
      "state": {
       "layout": "IPY_MODEL_bf65a2231559442fa1f89201efb81fa1",
       "style": "IPY_MODEL_ee075ba5ad88426f9ec8a1eb291fa73c",
       "value": " 344/344 [06:53&lt;00:00,  1.20s/it, end_loss=0.807, jaccard=0.707, start_loss=0.865]"
      }
     },
     "6aa2298a7b6d497893e0426545e47e1d": {
      "model_module": "@jupyter-widgets/controls",
      "model_module_version": "1.5.0",
      "model_name": "HTMLModel",
      "state": {
       "layout": "IPY_MODEL_fee7e8c4513045f2a5b3f52a6d45e4f4",
       "style": "IPY_MODEL_a8c06e4414314a249d38e7f3a611c8ec",
       "value": " 344/344 [03:26&lt;00:00,  1.66it/s, end_loss=1.41, jaccard=0.628, start_loss=1.38]"
      }
     },
     "6aa65ff151b847a5a3cb86f1bec0d6a3": {
      "model_module": "@jupyter-widgets/controls",
      "model_module_version": "1.5.0",
      "model_name": "FloatProgressModel",
      "state": {
       "bar_style": "success",
       "description": "100%",
       "layout": "IPY_MODEL_3ca5f6fdf5fe4f2aa57cabb9f2fde551",
       "max": 344,
       "style": "IPY_MODEL_e4d77d6456de4d4f934479d352a78c21",
       "value": 344
      }
     },
     "6b0272ab4b01486d88428d0809339dee": {
      "model_module": "@jupyter-widgets/controls",
      "model_module_version": "1.5.0",
      "model_name": "DescriptionStyleModel",
      "state": {
       "description_width": ""
      }
     },
     "6b0963d9db1646058b6c7dc9a9f6d3b7": {
      "model_module": "@jupyter-widgets/base",
      "model_module_version": "1.2.0",
      "model_name": "LayoutModel",
      "state": {}
     },
     "6b341ac5121a4536890e296e40b17128": {
      "model_module": "@jupyter-widgets/controls",
      "model_module_version": "1.5.0",
      "model_name": "HBoxModel",
      "state": {
       "children": [
        "IPY_MODEL_ea8190a051494d5ba831c0d86e0fd8cf",
        "IPY_MODEL_d5acfb33e4c347919630fdd5b47ad8ec"
       ],
       "layout": "IPY_MODEL_db3c212c52ff44ba8e53e189683c678b"
      }
     },
     "6b3835442d4f4434bcb0e70621b94ced": {
      "model_module": "@jupyter-widgets/controls",
      "model_module_version": "1.5.0",
      "model_name": "DescriptionStyleModel",
      "state": {
       "description_width": ""
      }
     },
     "6b442682a96e42c186fe77813ab6e8c7": {
      "model_module": "@jupyter-widgets/controls",
      "model_module_version": "1.5.0",
      "model_name": "HTMLModel",
      "state": {
       "layout": "IPY_MODEL_a29b8c12fe74479aa13e28fa58e5b27f",
       "style": "IPY_MODEL_bbd14984bf004dd5a19138731dcc06b0",
       "value": " 0/344 [00:00&lt;?, ?it/s]"
      }
     },
     "6b58bd964a5046dab1a037e6f0902346": {
      "model_module": "@jupyter-widgets/controls",
      "model_module_version": "1.5.0",
      "model_name": "FloatProgressModel",
      "state": {
       "bar_style": "success",
       "description": "100%",
       "layout": "IPY_MODEL_824b1870d89349a08bc920cc5f431bfb",
       "max": 344,
       "style": "IPY_MODEL_7de0a605fe744992847885088b896728",
       "value": 344
      }
     },
     "6b8071f5a6ba44b3a2dd64868daece15": {
      "model_module": "@jupyter-widgets/controls",
      "model_module_version": "1.5.0",
      "model_name": "FloatProgressModel",
      "state": {
       "bar_style": "success",
       "description": "100%",
       "layout": "IPY_MODEL_3548f696eeaa46eca2532c42029b5946",
       "max": 344,
       "style": "IPY_MODEL_9226ec89275147bea4498e344c07a895",
       "value": 344
      }
     },
     "6b9f4209ee6c45bb87ccef0122a53b85": {
      "model_module": "@jupyter-widgets/controls",
      "model_module_version": "1.5.0",
      "model_name": "HTMLModel",
      "state": {
       "layout": "IPY_MODEL_48a4457c7101449cb045c5232442b846",
       "style": "IPY_MODEL_9c7cb21b5c57438abecd05a5b8b5f288",
       "value": " 344/344 [00:26&lt;00:00, 13.19it/s, end_loss=0.866, jaccard=0.714, start_loss=0.951]"
      }
     },
     "6baa8bfe7438479f8c5c197fb759d38a": {
      "model_module": "@jupyter-widgets/controls",
      "model_module_version": "1.5.0",
      "model_name": "HBoxModel",
      "state": {
       "children": [
        "IPY_MODEL_ae529b85eb7a4075a335afff8265670d",
        "IPY_MODEL_a2c39e1cf02043e180f13ab6698cdd1d"
       ],
       "layout": "IPY_MODEL_b07687bca7ba4186bb1fd6523c88ccba"
      }
     },
     "6bfa884fb8334894aeb5eaf9affd9c6e": {
      "model_module": "@jupyter-widgets/controls",
      "model_module_version": "1.5.0",
      "model_name": "HBoxModel",
      "state": {
       "children": [
        "IPY_MODEL_a810748d8d1e4f44939ef4eb8d55eedd",
        "IPY_MODEL_7e4f91d2ee28416e91ac29e8daa5eb09"
       ],
       "layout": "IPY_MODEL_b57c05c551524be99563ca090a19799c"
      }
     },
     "6c095e377b5745c9bd9bb59c48b5bdfd": {
      "model_module": "@jupyter-widgets/controls",
      "model_module_version": "1.5.0",
      "model_name": "FloatProgressModel",
      "state": {
       "bar_style": "success",
       "description": "100%",
       "layout": "IPY_MODEL_26e544d76a09496b91964581ba90dfda",
       "max": 344,
       "style": "IPY_MODEL_855df7155902451ba17523416959a2a8",
       "value": 344
      }
     },
     "6c0bcda7d4564ebfa5e86732f0d9067a": {
      "model_module": "@jupyter-widgets/base",
      "model_module_version": "1.2.0",
      "model_name": "LayoutModel",
      "state": {}
     },
     "6c11108eeeb4484a8d1d756ae716ce35": {
      "model_module": "@jupyter-widgets/controls",
      "model_module_version": "1.5.0",
      "model_name": "ProgressStyleModel",
      "state": {
       "description_width": "initial"
      }
     },
     "6c36cb2c74f348a5a137849c713deeb9": {
      "model_module": "@jupyter-widgets/controls",
      "model_module_version": "1.5.0",
      "model_name": "HTMLModel",
      "state": {
       "layout": "IPY_MODEL_612cb9578484408a8022f1b57612af81",
       "style": "IPY_MODEL_cdd91c855ce04c739812824e1e1236dd",
       "value": " 344/344 [00:18&lt;00:00, 18.53it/s, end_loss=0.802, jaccard=0.705, start_loss=0.86]"
      }
     },
     "6c5dec6692eb4b6bbcf942c8de96e450": {
      "model_module": "@jupyter-widgets/controls",
      "model_module_version": "1.5.0",
      "model_name": "DescriptionStyleModel",
      "state": {
       "description_width": ""
      }
     },
     "6c6e73fe5b96410286ad427ba17fda4a": {
      "model_module": "@jupyter-widgets/base",
      "model_module_version": "1.2.0",
      "model_name": "LayoutModel",
      "state": {}
     },
     "6c759cc1c82b4e059e8df7950f6b9e07": {
      "model_module": "@jupyter-widgets/controls",
      "model_module_version": "1.5.0",
      "model_name": "HTMLModel",
      "state": {
       "layout": "IPY_MODEL_f87d79d1352b44ab8d0ee3e281024f87",
       "style": "IPY_MODEL_5ff442fe99d549da92e6a20a8a16f307",
       "value": " 344/344 [00:19&lt;00:00, 17.86it/s, end_loss=1.48, jaccard=0.712, start_loss=1.53]"
      }
     },
     "6c994606f9f64b2d85c405b61e95f081": {
      "model_module": "@jupyter-widgets/controls",
      "model_module_version": "1.5.0",
      "model_name": "ProgressStyleModel",
      "state": {
       "description_width": "initial"
      }
     },
     "6cc15f9321234f9cb335fe864357ba5d": {
      "model_module": "@jupyter-widgets/controls",
      "model_module_version": "1.5.0",
      "model_name": "FloatProgressModel",
      "state": {
       "bar_style": "success",
       "description": "100%",
       "layout": "IPY_MODEL_c45012835def40078a714c27097517ef",
       "max": 344,
       "style": "IPY_MODEL_78090fe84e2b4ed1bc7fbdd46301d040",
       "value": 344
      }
     },
     "6cc479f028ee42909e57006a811fba18": {
      "model_module": "@jupyter-widgets/controls",
      "model_module_version": "1.5.0",
      "model_name": "FloatProgressModel",
      "state": {
       "bar_style": "success",
       "description": "100%",
       "layout": "IPY_MODEL_887796fd8a3d456e9ad178bd44b132e4",
       "max": 344,
       "style": "IPY_MODEL_cadcf650f42a43ed8ef067c7c46d50c0",
       "value": 344
      }
     },
     "6cc68bdaf90b45fbb3ac7fbb14ff47a6": {
      "model_module": "@jupyter-widgets/controls",
      "model_module_version": "1.5.0",
      "model_name": "FloatProgressModel",
      "state": {
       "bar_style": "success",
       "description": "100%",
       "layout": "IPY_MODEL_28c301ea8c5e4fe995448924aa54dd90",
       "max": 344,
       "style": "IPY_MODEL_29915bcb3aec4fdb98164c758fbb7ac2",
       "value": 344
      }
     },
     "6cce9581eb314a39b744734decd0400f": {
      "model_module": "@jupyter-widgets/base",
      "model_module_version": "1.2.0",
      "model_name": "LayoutModel",
      "state": {}
     },
     "6cd98e878c04436dab97124ac91a42c0": {
      "model_module": "@jupyter-widgets/controls",
      "model_module_version": "1.5.0",
      "model_name": "ProgressStyleModel",
      "state": {
       "description_width": "initial"
      }
     },
     "6d032d1ee6ac43e88dcdfe4a29bcd392": {
      "model_module": "@jupyter-widgets/controls",
      "model_module_version": "1.5.0",
      "model_name": "DescriptionStyleModel",
      "state": {
       "description_width": ""
      }
     },
     "6d0afb13fd3948b1a6ed9abbe04cbb03": {
      "model_module": "@jupyter-widgets/base",
      "model_module_version": "1.2.0",
      "model_name": "LayoutModel",
      "state": {}
     },
     "6d18e14bbda242ebb5533f86cf31a4ff": {
      "model_module": "@jupyter-widgets/base",
      "model_module_version": "1.2.0",
      "model_name": "LayoutModel",
      "state": {}
     },
     "6d28fec0a9c441dbb928f0b64fc78b9f": {
      "model_module": "@jupyter-widgets/controls",
      "model_module_version": "1.5.0",
      "model_name": "HTMLModel",
      "state": {
       "layout": "IPY_MODEL_069ee153d7284921a3fa02718212ccc8",
       "style": "IPY_MODEL_8c5e14fecaae4d85bdbeacc6e51e099a",
       "value": " 344/344 [03:36&lt;00:00,  1.59it/s, end_loss=0.803, jaccard=0.763, start_loss=0.853]"
      }
     },
     "6d5ff1238a9e42c7adfc051a06787abd": {
      "model_module": "@jupyter-widgets/controls",
      "model_module_version": "1.5.0",
      "model_name": "HBoxModel",
      "state": {
       "children": [
        "IPY_MODEL_0fa43cdd74e44272a10f9237a8976ae9",
        "IPY_MODEL_e4238e9f939d4fabad2d6d47c77a573e"
       ],
       "layout": "IPY_MODEL_1a94b584ad8447d188fd02a020ec0672"
      }
     },
     "6d61ec2c5b614e82b0288ed462b83d4d": {
      "model_module": "@jupyter-widgets/base",
      "model_module_version": "1.2.0",
      "model_name": "LayoutModel",
      "state": {}
     },
     "6d698769d712413b8bd3b779f92c044f": {
      "model_module": "@jupyter-widgets/base",
      "model_module_version": "1.2.0",
      "model_name": "LayoutModel",
      "state": {}
     },
     "6d6ecda160124972a5fa17200a9365a9": {
      "model_module": "@jupyter-widgets/base",
      "model_module_version": "1.2.0",
      "model_name": "LayoutModel",
      "state": {}
     },
     "6d7394d289404e848889683a09216657": {
      "model_module": "@jupyter-widgets/base",
      "model_module_version": "1.2.0",
      "model_name": "LayoutModel",
      "state": {}
     },
     "6d85013fa413471e92cb9319ee664139": {
      "model_module": "@jupyter-widgets/base",
      "model_module_version": "1.2.0",
      "model_name": "LayoutModel",
      "state": {}
     },
     "6d8e763563e24bd8a783f28bd4d2136a": {
      "model_module": "@jupyter-widgets/base",
      "model_module_version": "1.2.0",
      "model_name": "LayoutModel",
      "state": {}
     },
     "6da2c62eef5f47c68cc4e8b937ce0610": {
      "model_module": "@jupyter-widgets/base",
      "model_module_version": "1.2.0",
      "model_name": "LayoutModel",
      "state": {}
     },
     "6e0e15722bb7447083afc1a686bf1435": {
      "model_module": "@jupyter-widgets/controls",
      "model_module_version": "1.5.0",
      "model_name": "ProgressStyleModel",
      "state": {
       "description_width": "initial"
      }
     },
     "6e5ee68bd6e3498a8b218de6f6f84909": {
      "model_module": "@jupyter-widgets/controls",
      "model_module_version": "1.5.0",
      "model_name": "FloatProgressModel",
      "state": {
       "bar_style": "success",
       "description": "100%",
       "layout": "IPY_MODEL_416246698c5c40e29427733d9663bece",
       "max": 344,
       "style": "IPY_MODEL_97ecab3ee5cc4244815919350a977c3b",
       "value": 344
      }
     },
     "6e6f754bf058464588562ff837d7fe17": {
      "model_module": "@jupyter-widgets/controls",
      "model_module_version": "1.5.0",
      "model_name": "ProgressStyleModel",
      "state": {
       "description_width": "initial"
      }
     },
     "6e848b29548f49cda0d340feacc1c408": {
      "model_module": "@jupyter-widgets/controls",
      "model_module_version": "1.5.0",
      "model_name": "ProgressStyleModel",
      "state": {
       "description_width": "initial"
      }
     },
     "6e85c90efa214ec9b90d2a856bc0c328": {
      "model_module": "@jupyter-widgets/base",
      "model_module_version": "1.2.0",
      "model_name": "LayoutModel",
      "state": {}
     },
     "6ea77f1643364794a4f3d3ecf4dbd310": {
      "model_module": "@jupyter-widgets/controls",
      "model_module_version": "1.5.0",
      "model_name": "HBoxModel",
      "state": {
       "children": [
        "IPY_MODEL_4f6f69e0c27f44789346e63093f7d7d1",
        "IPY_MODEL_9896e9cb4e134999bd3daee34f025b1a"
       ],
       "layout": "IPY_MODEL_67c7c80188524b259c861b7176e5d79c"
      }
     },
     "6ea8f9cd63aa48f4a77fee319a6425d3": {
      "model_module": "@jupyter-widgets/controls",
      "model_module_version": "1.5.0",
      "model_name": "HBoxModel",
      "state": {
       "children": [
        "IPY_MODEL_a7f9d3b6098b47d79ec1ae04b86d42fb",
        "IPY_MODEL_847bf106d2324d948fe5d2f50e58e9fb"
       ],
       "layout": "IPY_MODEL_a563117adc124c2aac54b164f9c40b7c"
      }
     },
     "6ef396d04f364f85a82c290d2533af27": {
      "model_module": "@jupyter-widgets/controls",
      "model_module_version": "1.5.0",
      "model_name": "FloatProgressModel",
      "state": {
       "bar_style": "success",
       "description": "100%",
       "layout": "IPY_MODEL_879792198283469494546f30b7206a90",
       "max": 344,
       "style": "IPY_MODEL_8d121d8df599414e900299e62f899c4a",
       "value": 344
      }
     },
     "6efd6c467a7a45009c4f5d8c8389a1b5": {
      "model_module": "@jupyter-widgets/controls",
      "model_module_version": "1.5.0",
      "model_name": "HBoxModel",
      "state": {
       "children": [
        "IPY_MODEL_5fc3be0ff5e74dfb83b2f0b02998dec6",
        "IPY_MODEL_3cea1fc7504a4271b763a0962253964e"
       ],
       "layout": "IPY_MODEL_d7b0abad124646f385f2cda1c6555ee2"
      }
     },
     "6f28214baa1c42f8a3d8200c69c78601": {
      "model_module": "@jupyter-widgets/controls",
      "model_module_version": "1.5.0",
      "model_name": "HBoxModel",
      "state": {
       "children": [
        "IPY_MODEL_44779861c7ca481b81cfd0db84c11942",
        "IPY_MODEL_a5bdaf56441b444b9ba933976770f02d"
       ],
       "layout": "IPY_MODEL_e68a747d87f4417682ad37d5db7f3001"
      }
     },
     "6f36df521671460a83de640ce1f10652": {
      "model_module": "@jupyter-widgets/controls",
      "model_module_version": "1.5.0",
      "model_name": "ProgressStyleModel",
      "state": {
       "description_width": "initial"
      }
     },
     "6f372020d4814fd290f5a8060490423c": {
      "model_module": "@jupyter-widgets/controls",
      "model_module_version": "1.5.0",
      "model_name": "DescriptionStyleModel",
      "state": {
       "description_width": ""
      }
     },
     "6f40e7bf86cc413cbb373f67116f077b": {
      "model_module": "@jupyter-widgets/controls",
      "model_module_version": "1.5.0",
      "model_name": "HTMLModel",
      "state": {
       "layout": "IPY_MODEL_07082fdced2a40ce96d7e1c6aaae6b2b",
       "style": "IPY_MODEL_9b57943ff94647e3946faa0abcfbb279",
       "value": " 344/344 [03:14&lt;00:00,  1.77it/s, end_loss=0.948, jaccard=0.679, start_loss=0.965]"
      }
     },
     "6f5de7cc668f45c6940c59e1cbb0bd7e": {
      "model_module": "@jupyter-widgets/controls",
      "model_module_version": "1.5.0",
      "model_name": "ProgressStyleModel",
      "state": {
       "description_width": "initial"
      }
     },
     "6f934c0a84f04419ba0a5b25336d85ec": {
      "model_module": "@jupyter-widgets/base",
      "model_module_version": "1.2.0",
      "model_name": "LayoutModel",
      "state": {}
     },
     "6fb744e7a91e4b7795b9b90f707ac2b0": {
      "model_module": "@jupyter-widgets/controls",
      "model_module_version": "1.5.0",
      "model_name": "FloatProgressModel",
      "state": {
       "bar_style": "success",
       "description": "100%",
       "layout": "IPY_MODEL_e91a8bdc37b0426490445c6ce698f519",
       "max": 344,
       "style": "IPY_MODEL_79848780517546a69aee7255b4c0ef9e",
       "value": 344
      }
     },
     "6fba438cdfe04f5d86737db7cf5600c3": {
      "model_module": "@jupyter-widgets/base",
      "model_module_version": "1.2.0",
      "model_name": "LayoutModel",
      "state": {}
     },
     "6fc647a54db345deaeb219e4e557f853": {
      "model_module": "@jupyter-widgets/controls",
      "model_module_version": "1.5.0",
      "model_name": "HTMLModel",
      "state": {
       "layout": "IPY_MODEL_e19dcf65634e42918874bb9a42d8f7bd",
       "style": "IPY_MODEL_3f5cb930ecc7446ebdb58cd11b09b05b",
       "value": " 344/344 [03:11&lt;00:00,  1.79it/s, end_loss=1.1, jaccard=0.652, start_loss=1.13]"
      }
     },
     "6fca71db1702428dbff3733f69c7aabe": {
      "model_module": "@jupyter-widgets/base",
      "model_module_version": "1.2.0",
      "model_name": "LayoutModel",
      "state": {}
     },
     "6fceaecefea447e4b828f0fe4c1bba18": {
      "model_module": "@jupyter-widgets/base",
      "model_module_version": "1.2.0",
      "model_name": "LayoutModel",
      "state": {}
     },
     "6fd617aaece24405a674092071a06b6a": {
      "model_module": "@jupyter-widgets/controls",
      "model_module_version": "1.5.0",
      "model_name": "ProgressStyleModel",
      "state": {
       "description_width": "initial"
      }
     },
     "6fe87b1ca76c4354a765753dc66afba8": {
      "model_module": "@jupyter-widgets/controls",
      "model_module_version": "1.5.0",
      "model_name": "FloatProgressModel",
      "state": {
       "bar_style": "success",
       "description": "100%",
       "layout": "IPY_MODEL_e91af2a6bd134a189d653eae72d0d171",
       "max": 344,
       "style": "IPY_MODEL_53678134e01b445fa13b7a19893998d7",
       "value": 344
      }
     },
     "6ff31edd2ed34ee6a9d0112cf2f1be4e": {
      "model_module": "@jupyter-widgets/base",
      "model_module_version": "1.2.0",
      "model_name": "LayoutModel",
      "state": {}
     },
     "703cc5f1a7b64e519c72fc3d909aeace": {
      "model_module": "@jupyter-widgets/controls",
      "model_module_version": "1.5.0",
      "model_name": "FloatProgressModel",
      "state": {
       "bar_style": "success",
       "description": "100%",
       "layout": "IPY_MODEL_44404f129c224193acb11afadf2edc68",
       "max": 344,
       "style": "IPY_MODEL_12bb14357de14b8aad850e682c68322c",
       "value": 344
      }
     },
     "70881e3116e8438e8fcb623d87f1cf01": {
      "model_module": "@jupyter-widgets/controls",
      "model_module_version": "1.5.0",
      "model_name": "HBoxModel",
      "state": {
       "children": [
        "IPY_MODEL_de14218fcee7455c881c65784e2266e1",
        "IPY_MODEL_f3fb6f0df1534d098c216a1f1b489dad"
       ],
       "layout": "IPY_MODEL_fea98da1136d40568afdd397525c6e1c"
      }
     },
     "7095bf2af6d245f687313cbfaa60dbf4": {
      "model_module": "@jupyter-widgets/controls",
      "model_module_version": "1.5.0",
      "model_name": "HTMLModel",
      "state": {
       "layout": "IPY_MODEL_287a57cc2b564c429b1959cc93f949be",
       "style": "IPY_MODEL_b1496dca53bc4b7cb389ed33d7e36850",
       "value": " 344/344 [03:10&lt;00:00,  1.81it/s, end_loss=1.06, jaccard=0.655, start_loss=1.12]"
      }
     },
     "709af46fd45a4a37b0272406b7da0886": {
      "model_module": "@jupyter-widgets/controls",
      "model_module_version": "1.5.0",
      "model_name": "HBoxModel",
      "state": {
       "children": [
        "IPY_MODEL_9ffa97993a4b40289c109f797144dd0c",
        "IPY_MODEL_433f864d49454b338c35ac9c9664ee77"
       ],
       "layout": "IPY_MODEL_3c3a8eb3bc8c41699ba1a9f57faaadeb"
      }
     },
     "70a1845a12aa4731a20b307ea456f79f": {
      "model_module": "@jupyter-widgets/controls",
      "model_module_version": "1.5.0",
      "model_name": "HBoxModel",
      "state": {
       "children": [
        "IPY_MODEL_e16904839ef149c581283eb893987c2e",
        "IPY_MODEL_cad6466549ba48c98c538636e37ea288"
       ],
       "layout": "IPY_MODEL_047eacee5f3d403dac164c190bef059a"
      }
     },
     "70bb8519747f4f0d8b1b975cee36bf3c": {
      "model_module": "@jupyter-widgets/controls",
      "model_module_version": "1.5.0",
      "model_name": "HTMLModel",
      "state": {
       "layout": "IPY_MODEL_cb72cd08f8c74b5b92ea97bb75c86d4e",
       "style": "IPY_MODEL_81753baa28ed410990337ae6a4365333",
       "value": " 344/344 [03:06&lt;00:00,  1.84it/s, end_loss=1.03, jaccard=0.66, start_loss=1.07]"
      }
     },
     "70cedeaadda641d783e85234f272e908": {
      "model_module": "@jupyter-widgets/controls",
      "model_module_version": "1.5.0",
      "model_name": "ProgressStyleModel",
      "state": {
       "description_width": "initial"
      }
     },
     "70f29fe3b52747b0a91388dca8fb9b3e": {
      "model_module": "@jupyter-widgets/base",
      "model_module_version": "1.2.0",
      "model_name": "LayoutModel",
      "state": {}
     },
     "70f3f0d741ba45d09e843dfe835fce77": {
      "model_module": "@jupyter-widgets/base",
      "model_module_version": "1.2.0",
      "model_name": "LayoutModel",
      "state": {}
     },
     "71126d0919cc4d298e70dad52991584a": {
      "model_module": "@jupyter-widgets/base",
      "model_module_version": "1.2.0",
      "model_name": "LayoutModel",
      "state": {}
     },
     "7125f3ce43b94d0388e4c3de65c1aa1e": {
      "model_module": "@jupyter-widgets/controls",
      "model_module_version": "1.5.0",
      "model_name": "FloatProgressModel",
      "state": {
       "description": " 87%",
       "layout": "IPY_MODEL_cced5a340d2f4466a34d6ec178a472d1",
       "max": 344,
       "style": "IPY_MODEL_6cd98e878c04436dab97124ac91a42c0",
       "value": 298
      }
     },
     "713f26cd39b74f1cba1ef2ebc7caa0ae": {
      "model_module": "@jupyter-widgets/base",
      "model_module_version": "1.2.0",
      "model_name": "LayoutModel",
      "state": {}
     },
     "715017a7d4c646a9aedbece2f42588ef": {
      "model_module": "@jupyter-widgets/controls",
      "model_module_version": "1.5.0",
      "model_name": "HTMLModel",
      "state": {
       "layout": "IPY_MODEL_da1eb8b4079046638e91941055a2d557",
       "style": "IPY_MODEL_e6f73e7ce7fb41148d80f17944ad48ae",
       "value": " 344/344 [04:52&lt;00:00,  1.17it/s, end_loss=2.05, jaccard=0.605, start_loss=2.03]"
      }
     },
     "715c32db27174028b2696416c1aba036": {
      "model_module": "@jupyter-widgets/base",
      "model_module_version": "1.2.0",
      "model_name": "LayoutModel",
      "state": {}
     },
     "7168eadc088c4316be8334cca789b2d7": {
      "model_module": "@jupyter-widgets/controls",
      "model_module_version": "1.5.0",
      "model_name": "FloatProgressModel",
      "state": {
       "bar_style": "success",
       "description": "100%",
       "layout": "IPY_MODEL_7be3e4af44994061ad622fe7e994a9be",
       "max": 344,
       "style": "IPY_MODEL_0d61bdb373064ef99d1b0b56fd61b0de",
       "value": 344
      }
     },
     "71b299cdf91b4f81a4480907e92b2fb5": {
      "model_module": "@jupyter-widgets/controls",
      "model_module_version": "1.5.0",
      "model_name": "ProgressStyleModel",
      "state": {
       "description_width": "initial"
      }
     },
     "71b47390e8594a6d9a97a6697fc4cd36": {
      "model_module": "@jupyter-widgets/controls",
      "model_module_version": "1.5.0",
      "model_name": "FloatProgressModel",
      "state": {
       "bar_style": "success",
       "description": "100%",
       "layout": "IPY_MODEL_844c085735a1415886ac1d7d75b66402",
       "max": 344,
       "style": "IPY_MODEL_6e6f754bf058464588562ff837d7fe17",
       "value": 344
      }
     },
     "71b55f11b3bc4cf9a1f91a73c95d30e0": {
      "model_module": "@jupyter-widgets/base",
      "model_module_version": "1.2.0",
      "model_name": "LayoutModel",
      "state": {}
     },
     "71ca7dd2595b456a8ea8ba0b973baf27": {
      "model_module": "@jupyter-widgets/controls",
      "model_module_version": "1.5.0",
      "model_name": "HTMLModel",
      "state": {
       "layout": "IPY_MODEL_72f162b0f0de427dbea723a6209e2718",
       "style": "IPY_MODEL_ee6b5d4ec2c14f81aaf97f1242e497fb",
       "value": " 344/344 [03:19&lt;00:00,  1.72it/s, end_loss=1.01, jaccard=0.707, start_loss=1.05]"
      }
     },
     "71f91d6b2e03429a9eba14929f57c549": {
      "model_module": "@jupyter-widgets/base",
      "model_module_version": "1.2.0",
      "model_name": "LayoutModel",
      "state": {}
     },
     "7227d064c0074731abc45b967ab9f479": {
      "model_module": "@jupyter-widgets/controls",
      "model_module_version": "1.5.0",
      "model_name": "HTMLModel",
      "state": {
       "layout": "IPY_MODEL_c0fe1c1f872842a8939525a2f6fd856e",
       "style": "IPY_MODEL_0afe1f9d84e0480ca632ca46a4818290",
       "value": " 344/344 [00:23&lt;00:00, 14.35it/s, end_loss=0.785, jaccard=0.706, start_loss=0.831]"
      }
     },
     "7247dbcc0a80491fa60eea612664d757": {
      "model_module": "@jupyter-widgets/base",
      "model_module_version": "1.2.0",
      "model_name": "LayoutModel",
      "state": {}
     },
     "724dfe4f9e204afebc33ccd5e67f6fad": {
      "model_module": "@jupyter-widgets/controls",
      "model_module_version": "1.5.0",
      "model_name": "HTMLModel",
      "state": {
       "layout": "IPY_MODEL_e72a717e6c884908b297cddda6d49fe5",
       "style": "IPY_MODEL_ce8c9f142bdc453cab6928595ad1fb9f",
       "value": " 344/344 [03:17&lt;00:00,  1.74it/s, end_loss=0.839, jaccard=0.695, start_loss=0.882]"
      }
     },
     "724eb12b87324268a059c15a0ec4fb48": {
      "model_module": "@jupyter-widgets/base",
      "model_module_version": "1.2.0",
      "model_name": "LayoutModel",
      "state": {}
     },
     "72b4738aec6a42a89f09b522200a2e8a": {
      "model_module": "@jupyter-widgets/base",
      "model_module_version": "1.2.0",
      "model_name": "LayoutModel",
      "state": {}
     },
     "72f162b0f0de427dbea723a6209e2718": {
      "model_module": "@jupyter-widgets/base",
      "model_module_version": "1.2.0",
      "model_name": "LayoutModel",
      "state": {}
     },
     "731f31fa1a894589b4b78d41fa53d5b8": {
      "model_module": "@jupyter-widgets/base",
      "model_module_version": "1.2.0",
      "model_name": "LayoutModel",
      "state": {}
     },
     "735b3ac78a6d4a919bc26373a8282b4b": {
      "model_module": "@jupyter-widgets/controls",
      "model_module_version": "1.5.0",
      "model_name": "DescriptionStyleModel",
      "state": {
       "description_width": ""
      }
     },
     "736336116c3d43369821b80bd0efac3e": {
      "model_module": "@jupyter-widgets/controls",
      "model_module_version": "1.5.0",
      "model_name": "HBoxModel",
      "state": {
       "children": [
        "IPY_MODEL_51073e10540f450ca52cfa8e393eee17",
        "IPY_MODEL_e5ba5bd962164701ba6b7be1b130ea8f"
       ],
       "layout": "IPY_MODEL_6a1fed900c69417c889f8795fb7f2451"
      }
     },
     "737f15e8c94f41c5995bdf1f72ce39f3": {
      "model_module": "@jupyter-widgets/controls",
      "model_module_version": "1.5.0",
      "model_name": "FloatProgressModel",
      "state": {
       "bar_style": "success",
       "description": "100%",
       "layout": "IPY_MODEL_21bf7d5c84124991aee8d20c45d0892e",
       "max": 344,
       "style": "IPY_MODEL_b8aa8fafeb744430a02af23369a2e99c",
       "value": 344
      }
     },
     "738afd66ed194cab930280d924f43bef": {
      "model_module": "@jupyter-widgets/controls",
      "model_module_version": "1.5.0",
      "model_name": "HBoxModel",
      "state": {
       "children": [
        "IPY_MODEL_3f98bb87eca74f1d979309bef15a7e45",
        "IPY_MODEL_954a134b3c424c798c5e69a554fb15f0"
       ],
       "layout": "IPY_MODEL_35a599c836ad4a31aba80113865d44aa"
      }
     },
     "739dbc906dbe40f6a1398c3d954b2355": {
      "model_module": "@jupyter-widgets/base",
      "model_module_version": "1.2.0",
      "model_name": "LayoutModel",
      "state": {}
     },
     "73a23c8ba5d04a8f9026069b807d5b9c": {
      "model_module": "@jupyter-widgets/base",
      "model_module_version": "1.2.0",
      "model_name": "LayoutModel",
      "state": {}
     },
     "73a3b26df81f4f8db6d0de1f965768a7": {
      "model_module": "@jupyter-widgets/controls",
      "model_module_version": "1.5.0",
      "model_name": "HTMLModel",
      "state": {
       "layout": "IPY_MODEL_a2ac580c6d32430ea8058bc58567fdf8",
       "style": "IPY_MODEL_a1d75a838eaa46ceae1ec6b7cc16c2a3",
       "value": " 344/344 [31:46&lt;00:00,  5.54s/it, end_loss=1.79, jaccard=0.652, start_loss=1.81]"
      }
     },
     "73ba57c2fe2840c3aeacc734ac70ee51": {
      "model_module": "@jupyter-widgets/base",
      "model_module_version": "1.2.0",
      "model_name": "LayoutModel",
      "state": {}
     },
     "73c42886e15d4555b020722d6d86947d": {
      "model_module": "@jupyter-widgets/controls",
      "model_module_version": "1.5.0",
      "model_name": "FloatProgressModel",
      "state": {
       "bar_style": "danger",
       "description": "  0%",
       "layout": "IPY_MODEL_c04345bb4b554fada1b23e027ea7031b",
       "max": 344,
       "style": "IPY_MODEL_cae081978d2e4516b5d633ddf2db23a1"
      }
     },
     "73cf70aab53245c98f68e85d5d62b6a5": {
      "model_module": "@jupyter-widgets/controls",
      "model_module_version": "1.5.0",
      "model_name": "FloatProgressModel",
      "state": {
       "bar_style": "success",
       "description": "100%",
       "layout": "IPY_MODEL_df953d762141467fa1cda18fc0a52712",
       "max": 344,
       "style": "IPY_MODEL_c6e4e55dc630428e9d46cfe2007b9d06",
       "value": 344
      }
     },
     "73d8327691684a9394d62634b797deed": {
      "model_module": "@jupyter-widgets/controls",
      "model_module_version": "1.5.0",
      "model_name": "ProgressStyleModel",
      "state": {
       "description_width": "initial"
      }
     },
     "7405b59630b74187b0933ac521ac42f6": {
      "model_module": "@jupyter-widgets/base",
      "model_module_version": "1.2.0",
      "model_name": "LayoutModel",
      "state": {}
     },
     "742b9d8799d447318f58ebe1048fccd8": {
      "model_module": "@jupyter-widgets/base",
      "model_module_version": "1.2.0",
      "model_name": "LayoutModel",
      "state": {}
     },
     "742c186c52834cfe9385cd73642bf87b": {
      "model_module": "@jupyter-widgets/base",
      "model_module_version": "1.2.0",
      "model_name": "LayoutModel",
      "state": {}
     },
     "746011c8c1574d00a1232f7b57778c39": {
      "model_module": "@jupyter-widgets/controls",
      "model_module_version": "1.5.0",
      "model_name": "HTMLModel",
      "state": {
       "layout": "IPY_MODEL_d49b9128a07d4ae4a6c13bcdff7c0874",
       "style": "IPY_MODEL_675edd19f7024694bc2ead1bf029e811",
       "value": " 344/344 [1:02:46&lt;00:00, 10.95s/it, end_loss=0.667, jaccard=0.733, merged_loss=0.998, start_loss=0.722]"
      }
     },
     "746ab58ab23246a09ace6e07750052f6": {
      "model_module": "@jupyter-widgets/base",
      "model_module_version": "1.2.0",
      "model_name": "LayoutModel",
      "state": {}
     },
     "747f989c30ea428180f13f354b1d797b": {
      "model_module": "@jupyter-widgets/base",
      "model_module_version": "1.2.0",
      "model_name": "LayoutModel",
      "state": {}
     },
     "74885ba67df6466e9df066e1dc8a4eec": {
      "model_module": "@jupyter-widgets/controls",
      "model_module_version": "1.5.0",
      "model_name": "HBoxModel",
      "state": {
       "children": [
        "IPY_MODEL_b751e54c7942412e83cd4d0729f8bf5c",
        "IPY_MODEL_7d4dd08f666c48fc9c4d5f982dc62da3"
       ],
       "layout": "IPY_MODEL_e60e0291f29442c9a409527a04537b21"
      }
     },
     "74a030ed171147e18ac58a2d041c8d45": {
      "model_module": "@jupyter-widgets/base",
      "model_module_version": "1.2.0",
      "model_name": "LayoutModel",
      "state": {}
     },
     "74a844b266934137b17b8cd642d553df": {
      "model_module": "@jupyter-widgets/controls",
      "model_module_version": "1.5.0",
      "model_name": "ProgressStyleModel",
      "state": {
       "description_width": "initial"
      }
     },
     "74d36aabe01a4730a976d559746aa4f3": {
      "model_module": "@jupyter-widgets/base",
      "model_module_version": "1.2.0",
      "model_name": "LayoutModel",
      "state": {}
     },
     "74dc4df65d9c4eea85f184b0d39b88e4": {
      "model_module": "@jupyter-widgets/base",
      "model_module_version": "1.2.0",
      "model_name": "LayoutModel",
      "state": {}
     },
     "74eccc7f3ebb42c2a2b96c25fca4891e": {
      "model_module": "@jupyter-widgets/controls",
      "model_module_version": "1.5.0",
      "model_name": "HTMLModel",
      "state": {
       "layout": "IPY_MODEL_d25a2c576fea4fb28a9104b6ce36ea04",
       "style": "IPY_MODEL_e3419ca91d224f9aa8db83336c6713c5",
       "value": " 344/344 [05:39&lt;00:00,  1.01it/s, end_loss=0.875, jaccard=0.696, start_loss=0.928]"
      }
     },
     "74f6c46c753b4130a0b3dd5bce919a58": {
      "model_module": "@jupyter-widgets/base",
      "model_module_version": "1.2.0",
      "model_name": "LayoutModel",
      "state": {}
     },
     "750eace49e904ffe99541ec61ab62e2d": {
      "model_module": "@jupyter-widgets/base",
      "model_module_version": "1.2.0",
      "model_name": "LayoutModel",
      "state": {}
     },
     "752696d766e24821a9c23c7595fb2c25": {
      "model_module": "@jupyter-widgets/controls",
      "model_module_version": "1.5.0",
      "model_name": "HTMLModel",
      "state": {
       "layout": "IPY_MODEL_00927f9dfb91426db6fd6640e989fdc4",
       "style": "IPY_MODEL_697e8252ba3b4c9599e2d6e80414c4f3",
       "value": " 344/344 [03:30&lt;00:00,  1.63it/s, end_loss=1.04, jaccard=0.663, start_loss=1.06]"
      }
     },
     "753383f67c174e30a7176c0d879daef3": {
      "model_module": "@jupyter-widgets/base",
      "model_module_version": "1.2.0",
      "model_name": "LayoutModel",
      "state": {}
     },
     "7558a28d012e4f58a417691fc3404ea4": {
      "model_module": "@jupyter-widgets/controls",
      "model_module_version": "1.5.0",
      "model_name": "DescriptionStyleModel",
      "state": {
       "description_width": ""
      }
     },
     "75699eea940a4147a51f0342241ca514": {
      "model_module": "@jupyter-widgets/controls",
      "model_module_version": "1.5.0",
      "model_name": "DescriptionStyleModel",
      "state": {
       "description_width": ""
      }
     },
     "756f2c45a8704efc993b0e2010765667": {
      "model_module": "@jupyter-widgets/controls",
      "model_module_version": "1.5.0",
      "model_name": "HBoxModel",
      "state": {
       "children": [
        "IPY_MODEL_a855d998f3ae4f20bf5b31f995048050",
        "IPY_MODEL_d92eb781ff0243748d5aec42d93ca2e1"
       ],
       "layout": "IPY_MODEL_ce60c13360d743fdb2a7605e311a189e"
      }
     },
     "75859903ece54104883229b00b5f7e18": {
      "model_module": "@jupyter-widgets/controls",
      "model_module_version": "1.5.0",
      "model_name": "HBoxModel",
      "state": {
       "children": [
        "IPY_MODEL_94faa29341a64331a37c57181fa6af6f",
        "IPY_MODEL_56be79ec8002460ab5d446af93e38b6d"
       ],
       "layout": "IPY_MODEL_18e85bf5bb0146bda877420de5b9e19c"
      }
     },
     "758d7f0cd65b44098aacd5093c1b0aa1": {
      "model_module": "@jupyter-widgets/controls",
      "model_module_version": "1.5.0",
      "model_name": "FloatProgressModel",
      "state": {
       "bar_style": "success",
       "description": "100%",
       "layout": "IPY_MODEL_900b910928f54d3d81f92972c1256008",
       "max": 344,
       "style": "IPY_MODEL_7ceea2eb3c404fcab54b938f3163ce53",
       "value": 344
      }
     },
     "75aa42d3444141129a7cf44948715f74": {
      "model_module": "@jupyter-widgets/controls",
      "model_module_version": "1.5.0",
      "model_name": "FloatProgressModel",
      "state": {
       "bar_style": "success",
       "description": "100%",
       "layout": "IPY_MODEL_9c772016d46c4e8d8638f544979f4944",
       "max": 344,
       "style": "IPY_MODEL_a747e56fd79048039285f764e3f427d2",
       "value": 344
      }
     },
     "75b6fd59a34e41ae9d7542c5546ded8a": {
      "model_module": "@jupyter-widgets/controls",
      "model_module_version": "1.5.0",
      "model_name": "HBoxModel",
      "state": {
       "children": [
        "IPY_MODEL_1a2bbb447d4f471b9c5b246c217bd2e6",
        "IPY_MODEL_f01141fd55154d4d8f3fd5302c9fcb6d"
       ],
       "layout": "IPY_MODEL_861d2164ff6a46b7896c2599737da2d7"
      }
     },
     "75b965ccfa9a4d948d564bfe45b1177c": {
      "model_module": "@jupyter-widgets/base",
      "model_module_version": "1.2.0",
      "model_name": "LayoutModel",
      "state": {}
     },
     "75c812c85e264d069f930d6eecb2afe1": {
      "model_module": "@jupyter-widgets/base",
      "model_module_version": "1.2.0",
      "model_name": "LayoutModel",
      "state": {}
     },
     "75cff0d424c342968228e94acffc44ee": {
      "model_module": "@jupyter-widgets/controls",
      "model_module_version": "1.5.0",
      "model_name": "DescriptionStyleModel",
      "state": {
       "description_width": ""
      }
     },
     "75f30ec8b42d4b13a13771a07bcac189": {
      "model_module": "@jupyter-widgets/controls",
      "model_module_version": "1.5.0",
      "model_name": "DescriptionStyleModel",
      "state": {
       "description_width": ""
      }
     },
     "762b759deaac4e8e818ce58939de63da": {
      "model_module": "@jupyter-widgets/controls",
      "model_module_version": "1.5.0",
      "model_name": "ProgressStyleModel",
      "state": {
       "description_width": "initial"
      }
     },
     "7681eb84fe3b4cfd98238a6459ab557a": {
      "model_module": "@jupyter-widgets/controls",
      "model_module_version": "1.5.0",
      "model_name": "DescriptionStyleModel",
      "state": {
       "description_width": ""
      }
     },
     "769d8c0b614a4754ad3d85782337b337": {
      "model_module": "@jupyter-widgets/controls",
      "model_module_version": "1.5.0",
      "model_name": "HBoxModel",
      "state": {
       "children": [
        "IPY_MODEL_af8175f35fa5481fb7ccda0ad4628477",
        "IPY_MODEL_bb96901fb3d9410189476ae9b92b38a6"
       ],
       "layout": "IPY_MODEL_d942c4a4526848bdb053e857c18419b9"
      }
     },
     "76ac500e288c4f3ca5d5d6c18bcf879b": {
      "model_module": "@jupyter-widgets/controls",
      "model_module_version": "1.5.0",
      "model_name": "FloatProgressModel",
      "state": {
       "bar_style": "success",
       "description": "100%",
       "layout": "IPY_MODEL_e08447541ffe43438074b094061eb5aa",
       "max": 344,
       "style": "IPY_MODEL_b0a6cd19e19544a496a82e8d19e6c092",
       "value": 344
      }
     },
     "76d4bac3fe594ab6b31900d1c39ef245": {
      "model_module": "@jupyter-widgets/base",
      "model_module_version": "1.2.0",
      "model_name": "LayoutModel",
      "state": {}
     },
     "76e43eb2066d489d8548d6c75dc5f45f": {
      "model_module": "@jupyter-widgets/base",
      "model_module_version": "1.2.0",
      "model_name": "LayoutModel",
      "state": {}
     },
     "76ef833775c641c29b9a113c1d2135c4": {
      "model_module": "@jupyter-widgets/controls",
      "model_module_version": "1.5.0",
      "model_name": "HTMLModel",
      "state": {
       "layout": "IPY_MODEL_5a460254cb52408ea837bf920001f48c",
       "style": "IPY_MODEL_3c4fad38ae6e4167b082a37a12a6a80d",
       "value": " 344/344 [00:20&lt;00:00, 16.90it/s, end_loss=0.762, jaccard=0.707, merged_loss=1, start_loss=0.811]"
      }
     },
     "771bd719952f4e27baba9ca2e807425c": {
      "model_module": "@jupyter-widgets/base",
      "model_module_version": "1.2.0",
      "model_name": "LayoutModel",
      "state": {}
     },
     "772c3d963c3d409a9ed43fabceb41195": {
      "model_module": "@jupyter-widgets/controls",
      "model_module_version": "1.5.0",
      "model_name": "ProgressStyleModel",
      "state": {
       "description_width": "initial"
      }
     },
     "7752309af5c4495395cb074146c46f1e": {
      "model_module": "@jupyter-widgets/base",
      "model_module_version": "1.2.0",
      "model_name": "LayoutModel",
      "state": {}
     },
     "777475a8e2ef441aadca1656f66cb8eb": {
      "model_module": "@jupyter-widgets/controls",
      "model_module_version": "1.5.0",
      "model_name": "FloatProgressModel",
      "state": {
       "bar_style": "success",
       "description": "100%",
       "layout": "IPY_MODEL_cdffd909f479489bbdff529ebeba1f55",
       "max": 344,
       "style": "IPY_MODEL_cf947e4fd7de420baa1869478b52abe9",
       "value": 344
      }
     },
     "779fed5b9b104dea9eda54b52f7c410a": {
      "model_module": "@jupyter-widgets/base",
      "model_module_version": "1.2.0",
      "model_name": "LayoutModel",
      "state": {}
     },
     "77a7313fd94e48599e973f261def1868": {
      "model_module": "@jupyter-widgets/base",
      "model_module_version": "1.2.0",
      "model_name": "LayoutModel",
      "state": {}
     },
     "77c7f93b951842129df93bf1ede3837d": {
      "model_module": "@jupyter-widgets/controls",
      "model_module_version": "1.5.0",
      "model_name": "ProgressStyleModel",
      "state": {
       "description_width": "initial"
      }
     },
     "77fe1247e1a74b5197bbe075a234fd59": {
      "model_module": "@jupyter-widgets/base",
      "model_module_version": "1.2.0",
      "model_name": "LayoutModel",
      "state": {}
     },
     "78090fe84e2b4ed1bc7fbdd46301d040": {
      "model_module": "@jupyter-widgets/controls",
      "model_module_version": "1.5.0",
      "model_name": "ProgressStyleModel",
      "state": {
       "description_width": "initial"
      }
     },
     "7822b025e755496c9c937321b870f373": {
      "model_module": "@jupyter-widgets/base",
      "model_module_version": "1.2.0",
      "model_name": "LayoutModel",
      "state": {}
     },
     "783970294df5449dab699a1b57771c22": {
      "model_module": "@jupyter-widgets/controls",
      "model_module_version": "1.5.0",
      "model_name": "ProgressStyleModel",
      "state": {
       "description_width": "initial"
      }
     },
     "7878effdbc944c6abb9f300adb417e7a": {
      "model_module": "@jupyter-widgets/base",
      "model_module_version": "1.2.0",
      "model_name": "LayoutModel",
      "state": {}
     },
     "788273ce029545eab4ded99c094b4276": {
      "model_module": "@jupyter-widgets/base",
      "model_module_version": "1.2.0",
      "model_name": "LayoutModel",
      "state": {}
     },
     "78b57c4e2c314f899e11277dda0d1423": {
      "model_module": "@jupyter-widgets/controls",
      "model_module_version": "1.5.0",
      "model_name": "ProgressStyleModel",
      "state": {
       "description_width": "initial"
      }
     },
     "78b673d78ac34268a1daceba4ad062bd": {
      "model_module": "@jupyter-widgets/controls",
      "model_module_version": "1.5.0",
      "model_name": "FloatProgressModel",
      "state": {
       "bar_style": "success",
       "description": "100%",
       "layout": "IPY_MODEL_18f1e1ffc4b7494e8cbcba69a5f9de0d",
       "max": 344,
       "style": "IPY_MODEL_b463160f5e5e4d7b86a12d6550ef2a2e",
       "value": 344
      }
     },
     "78bb7290cebf4eedb274abd6985c60e1": {
      "model_module": "@jupyter-widgets/controls",
      "model_module_version": "1.5.0",
      "model_name": "HBoxModel",
      "state": {
       "children": [
        "IPY_MODEL_5f836d97566d470391941cd3923094d8",
        "IPY_MODEL_fa6f1869b1eb466aa53857c561112c53"
       ],
       "layout": "IPY_MODEL_e6102ddfcf2b4bcb95ba5a3879e67209"
      }
     },
     "78d809eda2f647b39610d37ab82f3edc": {
      "model_module": "@jupyter-widgets/controls",
      "model_module_version": "1.5.0",
      "model_name": "ProgressStyleModel",
      "state": {
       "description_width": "initial"
      }
     },
     "78de2cd5329d4d0e8bd2e9021e52852d": {
      "model_module": "@jupyter-widgets/controls",
      "model_module_version": "1.5.0",
      "model_name": "HBoxModel",
      "state": {
       "children": [
        "IPY_MODEL_a3d44b324a1d49e482d8489264b67619",
        "IPY_MODEL_92c83eb6e91640a9b20e4480d9e775a3"
       ],
       "layout": "IPY_MODEL_f716ba66bf324b729856d0d56825215d"
      }
     },
     "7903e4acdd4c47e5a5a7afbf9f6b7ae3": {
      "model_module": "@jupyter-widgets/base",
      "model_module_version": "1.2.0",
      "model_name": "LayoutModel",
      "state": {}
     },
     "790dcb89acac44548314037ab360db0e": {
      "model_module": "@jupyter-widgets/base",
      "model_module_version": "1.2.0",
      "model_name": "LayoutModel",
      "state": {}
     },
     "79235f7627844dc7b4fadebbca17086d": {
      "model_module": "@jupyter-widgets/base",
      "model_module_version": "1.2.0",
      "model_name": "LayoutModel",
      "state": {}
     },
     "7942871bb862476798db41ee31321b74": {
      "model_module": "@jupyter-widgets/base",
      "model_module_version": "1.2.0",
      "model_name": "LayoutModel",
      "state": {}
     },
     "795fcee5ae2b48bb8e76987d5dac67b4": {
      "model_module": "@jupyter-widgets/controls",
      "model_module_version": "1.5.0",
      "model_name": "HBoxModel",
      "state": {
       "children": [
        "IPY_MODEL_346dd4b8d1bf4124a3a65ba41bc279d9",
        "IPY_MODEL_724dfe4f9e204afebc33ccd5e67f6fad"
       ],
       "layout": "IPY_MODEL_1143808230c04d59980f40d975baed78"
      }
     },
     "7980b0e947ea4a5ebc05744670cd22ca": {
      "model_module": "@jupyter-widgets/controls",
      "model_module_version": "1.5.0",
      "model_name": "HBoxModel",
      "state": {
       "children": [
        "IPY_MODEL_6e5ee68bd6e3498a8b218de6f6f84909",
        "IPY_MODEL_97c6dd13ad8e451799db44170b7090ab"
       ],
       "layout": "IPY_MODEL_43eff06c67f14c35b11c46f1b3090f73"
      }
     },
     "79848780517546a69aee7255b4c0ef9e": {
      "model_module": "@jupyter-widgets/controls",
      "model_module_version": "1.5.0",
      "model_name": "ProgressStyleModel",
      "state": {
       "description_width": "initial"
      }
     },
     "7986717a3bdc4f0ea6158a2430079181": {
      "model_module": "@jupyter-widgets/controls",
      "model_module_version": "1.5.0",
      "model_name": "HBoxModel",
      "state": {
       "children": [
        "IPY_MODEL_e0bef6a8e76a417f9b9205f6ae1498e3",
        "IPY_MODEL_e031bdda943d421d96eaadf3d3f2122e"
       ],
       "layout": "IPY_MODEL_470fe3bf92194a66a74a4a4494b5e514"
      }
     },
     "79aa6cd554824e379ceefdd467013366": {
      "model_module": "@jupyter-widgets/controls",
      "model_module_version": "1.5.0",
      "model_name": "DescriptionStyleModel",
      "state": {
       "description_width": ""
      }
     },
     "7a017c8984e94c0db739ab37b0373552": {
      "model_module": "@jupyter-widgets/controls",
      "model_module_version": "1.5.0",
      "model_name": "DescriptionStyleModel",
      "state": {
       "description_width": ""
      }
     },
     "7a1a1fe549fa4239b5a97bf1ad43a8e0": {
      "model_module": "@jupyter-widgets/controls",
      "model_module_version": "1.5.0",
      "model_name": "HTMLModel",
      "state": {
       "layout": "IPY_MODEL_877bc3e9eea4450299e2c56dbd2c18ae",
       "style": "IPY_MODEL_5b61f993b34f4931bbdf770bd8fb687d",
       "value": " 344/344 [00:25&lt;00:00, 13.38it/s, end_loss=0.946, jaccard=0.711, start_loss=0.967]"
      }
     },
     "7a2d57aec62b45fbac7bd93ec3431a50": {
      "model_module": "@jupyter-widgets/controls",
      "model_module_version": "1.5.0",
      "model_name": "DescriptionStyleModel",
      "state": {
       "description_width": ""
      }
     },
     "7a80e111e7594797a2565eec7e14cb79": {
      "model_module": "@jupyter-widgets/controls",
      "model_module_version": "1.5.0",
      "model_name": "DescriptionStyleModel",
      "state": {
       "description_width": ""
      }
     },
     "7a9405bd2c2e405495cc008e9e867ff7": {
      "model_module": "@jupyter-widgets/base",
      "model_module_version": "1.2.0",
      "model_name": "LayoutModel",
      "state": {}
     },
     "7a9bc8971cf4457ca8e1c659bf1f5958": {
      "model_module": "@jupyter-widgets/base",
      "model_module_version": "1.2.0",
      "model_name": "LayoutModel",
      "state": {}
     },
     "7a9c7a647e7a4f60aa45da0001c774d6": {
      "model_module": "@jupyter-widgets/base",
      "model_module_version": "1.2.0",
      "model_name": "LayoutModel",
      "state": {}
     },
     "7aa4b858d5054908afacf3fd5963a4cb": {
      "model_module": "@jupyter-widgets/base",
      "model_module_version": "1.2.0",
      "model_name": "LayoutModel",
      "state": {}
     },
     "7aa86d6e11a74753a5193f1da213990c": {
      "model_module": "@jupyter-widgets/controls",
      "model_module_version": "1.5.0",
      "model_name": "HBoxModel",
      "state": {
       "children": [
        "IPY_MODEL_fecd49e9dc55471d9fe04fa211eab167",
        "IPY_MODEL_7d7494a2267b470098ce0f8bbb8f664d"
       ],
       "layout": "IPY_MODEL_da3c7e2bd6d540ba96e17eba67c22da5"
      }
     },
     "7ab2a9668a3a4856aacb9c1acf1c27f6": {
      "model_module": "@jupyter-widgets/controls",
      "model_module_version": "1.5.0",
      "model_name": "HBoxModel",
      "state": {
       "children": [
        "IPY_MODEL_68ef593a474c4f238abe2cf8dc8574e4",
        "IPY_MODEL_65c02aa3796c4313a29c67cd1a06b4c0"
       ],
       "layout": "IPY_MODEL_cece528915d74261bd63b39fb6b5ad98"
      }
     },
     "7abec336913a462c8108b930d8f4c562": {
      "model_module": "@jupyter-widgets/controls",
      "model_module_version": "1.5.0",
      "model_name": "ProgressStyleModel",
      "state": {
       "description_width": "initial"
      }
     },
     "7ae6ea2ac38b453e86d62b099890e987": {
      "model_module": "@jupyter-widgets/controls",
      "model_module_version": "1.5.0",
      "model_name": "ProgressStyleModel",
      "state": {
       "description_width": "initial"
      }
     },
     "7b0a0bca5b514333a9da9b655a003258": {
      "model_module": "@jupyter-widgets/controls",
      "model_module_version": "1.5.0",
      "model_name": "DescriptionStyleModel",
      "state": {
       "description_width": ""
      }
     },
     "7b388cf5bb264f389746fd2873a90e8d": {
      "model_module": "@jupyter-widgets/controls",
      "model_module_version": "1.5.0",
      "model_name": "HBoxModel",
      "state": {
       "children": [
        "IPY_MODEL_a1a20ea3605547e1a13f4bc8dc9ac2ee",
        "IPY_MODEL_03d5ecb34b084a64830f8e278bf2540f"
       ],
       "layout": "IPY_MODEL_9d88f48df4ef4fb09664ac8bf4e94eb3"
      }
     },
     "7b3bd563d79148d5b843528f2de07634": {
      "model_module": "@jupyter-widgets/controls",
      "model_module_version": "1.5.0",
      "model_name": "FloatProgressModel",
      "state": {
       "bar_style": "success",
       "description": "100%",
       "layout": "IPY_MODEL_0045168f3fd748d6ac4a68193aea5d00",
       "max": 344,
       "style": "IPY_MODEL_aa1cc683ac344805b9284d0adc9bdb5e",
       "value": 344
      }
     },
     "7b5c5ebbe7e64634863a069446d91c9a": {
      "model_module": "@jupyter-widgets/controls",
      "model_module_version": "1.5.0",
      "model_name": "DescriptionStyleModel",
      "state": {
       "description_width": ""
      }
     },
     "7b6142d6847042ada94e159845abef6a": {
      "model_module": "@jupyter-widgets/controls",
      "model_module_version": "1.5.0",
      "model_name": "ProgressStyleModel",
      "state": {
       "description_width": "initial"
      }
     },
     "7b67e8488033422bb8e3f78b9fe7cac7": {
      "model_module": "@jupyter-widgets/base",
      "model_module_version": "1.2.0",
      "model_name": "LayoutModel",
      "state": {}
     },
     "7b89e24f005f42a89b4e2c3158b9a778": {
      "model_module": "@jupyter-widgets/base",
      "model_module_version": "1.2.0",
      "model_name": "LayoutModel",
      "state": {}
     },
     "7bb336bba0b146a4bdeecd69f1794a0e": {
      "model_module": "@jupyter-widgets/controls",
      "model_module_version": "1.5.0",
      "model_name": "FloatProgressModel",
      "state": {
       "bar_style": "success",
       "description": "100%",
       "layout": "IPY_MODEL_af6d2de747d7419da678b8648e9806e9",
       "max": 344,
       "style": "IPY_MODEL_bd34cf157cea4db7be61b954e7b49a07",
       "value": 344
      }
     },
     "7be3e4af44994061ad622fe7e994a9be": {
      "model_module": "@jupyter-widgets/base",
      "model_module_version": "1.2.0",
      "model_name": "LayoutModel",
      "state": {}
     },
     "7c1dccdd0726439581b23d798de5e521": {
      "model_module": "@jupyter-widgets/base",
      "model_module_version": "1.2.0",
      "model_name": "LayoutModel",
      "state": {}
     },
     "7c211e406ac84464afebbb273b898f02": {
      "model_module": "@jupyter-widgets/controls",
      "model_module_version": "1.5.0",
      "model_name": "ProgressStyleModel",
      "state": {
       "description_width": "initial"
      }
     },
     "7c51ec10914941bc8b9139ab457071a4": {
      "model_module": "@jupyter-widgets/controls",
      "model_module_version": "1.5.0",
      "model_name": "DescriptionStyleModel",
      "state": {
       "description_width": ""
      }
     },
     "7c5ac5641e474fa3a3300da8b1001113": {
      "model_module": "@jupyter-widgets/controls",
      "model_module_version": "1.5.0",
      "model_name": "DescriptionStyleModel",
      "state": {
       "description_width": ""
      }
     },
     "7c5aef2dca8a4812bff4849262799745": {
      "model_module": "@jupyter-widgets/controls",
      "model_module_version": "1.5.0",
      "model_name": "ProgressStyleModel",
      "state": {
       "description_width": "initial"
      }
     },
     "7c5fea9d0ad1419681225f0b28ea9fab": {
      "model_module": "@jupyter-widgets/base",
      "model_module_version": "1.2.0",
      "model_name": "LayoutModel",
      "state": {}
     },
     "7c685134a13e41a69fa7ec9661e8ea3f": {
      "model_module": "@jupyter-widgets/controls",
      "model_module_version": "1.5.0",
      "model_name": "DescriptionStyleModel",
      "state": {
       "description_width": ""
      }
     },
     "7c7d71c039f64050a86cfc5c25361c35": {
      "model_module": "@jupyter-widgets/controls",
      "model_module_version": "1.5.0",
      "model_name": "DescriptionStyleModel",
      "state": {
       "description_width": ""
      }
     },
     "7c89339398bd4d919c7ce6997dbee0a7": {
      "model_module": "@jupyter-widgets/base",
      "model_module_version": "1.2.0",
      "model_name": "LayoutModel",
      "state": {}
     },
     "7cc323c3945044a4afe6d1627f28ec35": {
      "model_module": "@jupyter-widgets/base",
      "model_module_version": "1.2.0",
      "model_name": "LayoutModel",
      "state": {}
     },
     "7cc8965324254b8c841acd4ba6c2da06": {
      "model_module": "@jupyter-widgets/controls",
      "model_module_version": "1.5.0",
      "model_name": "ProgressStyleModel",
      "state": {
       "description_width": "initial"
      }
     },
     "7cdae081dbbd4e8aa95485e000d040f8": {
      "model_module": "@jupyter-widgets/controls",
      "model_module_version": "1.5.0",
      "model_name": "FloatProgressModel",
      "state": {
       "bar_style": "success",
       "description": "100%",
       "layout": "IPY_MODEL_d208cdf0178a4bac92567a029c576ab2",
       "max": 344,
       "style": "IPY_MODEL_c2764dbd113a40eda11853009a484ba9",
       "value": 344
      }
     },
     "7ceea2eb3c404fcab54b938f3163ce53": {
      "model_module": "@jupyter-widgets/controls",
      "model_module_version": "1.5.0",
      "model_name": "ProgressStyleModel",
      "state": {
       "description_width": "initial"
      }
     },
     "7cfab1a56b0842609893738e6b6a4934": {
      "model_module": "@jupyter-widgets/base",
      "model_module_version": "1.2.0",
      "model_name": "LayoutModel",
      "state": {}
     },
     "7d039ca7a03c45e3a4c3020410ddaabc": {
      "model_module": "@jupyter-widgets/controls",
      "model_module_version": "1.5.0",
      "model_name": "HBoxModel",
      "state": {
       "children": [
        "IPY_MODEL_15f1ea1bc48f4d0f85c4b56659a98cba",
        "IPY_MODEL_cc62236904374a628725060311dcdf97"
       ],
       "layout": "IPY_MODEL_ebba6429ddfe487eaf46cc24a7b2c6cc"
      }
     },
     "7d13dd95c88a4705b62ffd154ba36afd": {
      "model_module": "@jupyter-widgets/controls",
      "model_module_version": "1.5.0",
      "model_name": "DescriptionStyleModel",
      "state": {
       "description_width": ""
      }
     },
     "7d3f17651bbf4e67986c6de84e02d310": {
      "model_module": "@jupyter-widgets/base",
      "model_module_version": "1.2.0",
      "model_name": "LayoutModel",
      "state": {}
     },
     "7d40d9aa5ad641509372106a113e9b72": {
      "model_module": "@jupyter-widgets/controls",
      "model_module_version": "1.5.0",
      "model_name": "ProgressStyleModel",
      "state": {
       "description_width": "initial"
      }
     },
     "7d4dd08f666c48fc9c4d5f982dc62da3": {
      "model_module": "@jupyter-widgets/controls",
      "model_module_version": "1.5.0",
      "model_name": "HTMLModel",
      "state": {
       "layout": "IPY_MODEL_e1f70757c159417bb62d0e8cd67aac84",
       "style": "IPY_MODEL_735b3ac78a6d4a919bc26373a8282b4b",
       "value": " 344/344 [03:29&lt;00:00,  1.65it/s, end_loss=1.03, jaccard=0.66, start_loss=1.07]"
      }
     },
     "7d7494a2267b470098ce0f8bbb8f664d": {
      "model_module": "@jupyter-widgets/controls",
      "model_module_version": "1.5.0",
      "model_name": "HTMLModel",
      "state": {
       "layout": "IPY_MODEL_c90997bbf9344ef78c9e2de2fcba3af9",
       "style": "IPY_MODEL_b63e4194c10e4b9692301143ef4b34e7",
       "value": " 344/344 [03:15&lt;00:00,  1.76it/s, end_loss=0.927, jaccard=0.677, start_loss=0.976]"
      }
     },
     "7d7869904108420db72283cdf398c6ae": {
      "model_module": "@jupyter-widgets/controls",
      "model_module_version": "1.5.0",
      "model_name": "FloatProgressModel",
      "state": {
       "bar_style": "success",
       "description": "100%",
       "layout": "IPY_MODEL_052b97ac55874af690049a086660e779",
       "max": 344,
       "style": "IPY_MODEL_f957dbda1bbb4bba888a26124feea42a",
       "value": 344
      }
     },
     "7dd18ed6f81d472db26cec798d045738": {
      "model_module": "@jupyter-widgets/controls",
      "model_module_version": "1.5.0",
      "model_name": "HBoxModel",
      "state": {
       "children": [
        "IPY_MODEL_45f731b5cf424fc1aa8e8a233f36c69f",
        "IPY_MODEL_6c36cb2c74f348a5a137849c713deeb9"
       ],
       "layout": "IPY_MODEL_0be32d50082843c2b1001d1ed32c4f92"
      }
     },
     "7de0a605fe744992847885088b896728": {
      "model_module": "@jupyter-widgets/controls",
      "model_module_version": "1.5.0",
      "model_name": "ProgressStyleModel",
      "state": {
       "description_width": "initial"
      }
     },
     "7e09da9d4f444fa7b7c5db42a738e86e": {
      "model_module": "@jupyter-widgets/base",
      "model_module_version": "1.2.0",
      "model_name": "LayoutModel",
      "state": {}
     },
     "7e30b2132037418d82907a97ba0bee7a": {
      "model_module": "@jupyter-widgets/controls",
      "model_module_version": "1.5.0",
      "model_name": "HTMLModel",
      "state": {
       "layout": "IPY_MODEL_d79ec1420ac4484d8238e856ee2483d6",
       "style": "IPY_MODEL_5f25cbd538f24084973a01bca81579db",
       "value": " 344/344 [00:19&lt;00:00, 17.45it/s, end_loss=0.804, jaccard=0.696, merged_loss=1.01, start_loss=0.839]"
      }
     },
     "7e45a8d4eba744279457800c938cede3": {
      "model_module": "@jupyter-widgets/controls",
      "model_module_version": "1.5.0",
      "model_name": "ProgressStyleModel",
      "state": {
       "description_width": "initial"
      }
     },
     "7e4f91d2ee28416e91ac29e8daa5eb09": {
      "model_module": "@jupyter-widgets/controls",
      "model_module_version": "1.5.0",
      "model_name": "HTMLModel",
      "state": {
       "layout": "IPY_MODEL_5bb60d48fa4d48b6b0af3e9eb73c86ae",
       "style": "IPY_MODEL_ad86c246d7a24f84ab21e5d40672542a",
       "value": " 344/344 [03:03&lt;00:00,  1.88it/s, end_loss=0.856, jaccard=0.703, start_loss=0.86]"
      }
     },
     "7e5f4ebfd2d644a4aec25aa8f829522a": {
      "model_module": "@jupyter-widgets/base",
      "model_module_version": "1.2.0",
      "model_name": "LayoutModel",
      "state": {}
     },
     "7e64b4f0cb60466a865ac3b1646a117b": {
      "model_module": "@jupyter-widgets/controls",
      "model_module_version": "1.5.0",
      "model_name": "HBoxModel",
      "state": {
       "children": [
        "IPY_MODEL_4cef4326bf74494f93c3711d4795d950",
        "IPY_MODEL_5b73bc0272714fa4821a462a573a906d"
       ],
       "layout": "IPY_MODEL_05fc0e56de9e443d85c2931fdbbd0bca"
      }
     },
     "7e783951b0ca49b1bdad25fd8d00e161": {
      "model_module": "@jupyter-widgets/controls",
      "model_module_version": "1.5.0",
      "model_name": "HTMLModel",
      "state": {
       "layout": "IPY_MODEL_d3171bcfaf2d4f72963aa8d5e4e63c86",
       "style": "IPY_MODEL_4878bb05f9744116b894804c07122124",
       "value": " 344/344 [03:12&lt;00:00,  1.79it/s, end_loss=0.804, jaccard=0.705, merged_loss=1.01, start_loss=0.831]"
      }
     },
     "7e7acb455b49451c9a95e63b237f89b6": {
      "model_module": "@jupyter-widgets/controls",
      "model_module_version": "1.5.0",
      "model_name": "DescriptionStyleModel",
      "state": {
       "description_width": ""
      }
     },
     "7e9f86823a42412180a55329d58782c1": {
      "model_module": "@jupyter-widgets/controls",
      "model_module_version": "1.5.0",
      "model_name": "ProgressStyleModel",
      "state": {
       "description_width": "initial"
      }
     },
     "7ea648eac23c4bcd804b44ee689807be": {
      "model_module": "@jupyter-widgets/base",
      "model_module_version": "1.2.0",
      "model_name": "LayoutModel",
      "state": {}
     },
     "7eb48157341a431a98e17c364e26ff9a": {
      "model_module": "@jupyter-widgets/controls",
      "model_module_version": "1.5.0",
      "model_name": "DescriptionStyleModel",
      "state": {
       "description_width": ""
      }
     },
     "7ec480cceed64c8eac16a99912de4bbb": {
      "model_module": "@jupyter-widgets/base",
      "model_module_version": "1.2.0",
      "model_name": "LayoutModel",
      "state": {}
     },
     "7ed9860f96894bf490b42e57491805b0": {
      "model_module": "@jupyter-widgets/controls",
      "model_module_version": "1.5.0",
      "model_name": "HTMLModel",
      "state": {
       "layout": "IPY_MODEL_8ba0f2fcce24473c9a75ffcf9ae054f2",
       "style": "IPY_MODEL_4a33834cdbda4478aa64dc914425c71b",
       "value": " 344/344 [00:19&lt;00:00, 17.27it/s, end_loss=1.48, jaccard=0.711, start_loss=1.53]"
      }
     },
     "7f17e58cbdcd468b942cbca8d7b78c54": {
      "model_module": "@jupyter-widgets/controls",
      "model_module_version": "1.5.0",
      "model_name": "FloatProgressModel",
      "state": {
       "bar_style": "success",
       "description": "100%",
       "layout": "IPY_MODEL_7c1dccdd0726439581b23d798de5e521",
       "max": 344,
       "style": "IPY_MODEL_ac7b9c85b5ed4831a645c9f7123e9939",
       "value": 344
      }
     },
     "7f2b0901e4e64c6999644c0c5738b8a6": {
      "model_module": "@jupyter-widgets/controls",
      "model_module_version": "1.5.0",
      "model_name": "FloatProgressModel",
      "state": {
       "bar_style": "success",
       "description": "100%",
       "layout": "IPY_MODEL_77fe1247e1a74b5197bbe075a234fd59",
       "max": 344,
       "style": "IPY_MODEL_e47c3418f9254c368f9becad8f915e4c",
       "value": 344
      }
     },
     "7fa0f5ed9a954aa0bd80387ed9e81181": {
      "model_module": "@jupyter-widgets/base",
      "model_module_version": "1.2.0",
      "model_name": "LayoutModel",
      "state": {}
     },
     "7fb2a5f72d134397a2df1f8cf14da7d0": {
      "model_module": "@jupyter-widgets/controls",
      "model_module_version": "1.5.0",
      "model_name": "HBoxModel",
      "state": {
       "children": [
        "IPY_MODEL_c0296b3c1f5f4dc0994bf065ec2a60f1",
        "IPY_MODEL_02fbc81802864d7199b7eb4341230497"
       ],
       "layout": "IPY_MODEL_8cde51dd00f649f18ef14a1efbad3648"
      }
     },
     "7fe1d4e72915483c99cf6a17923a48ad": {
      "model_module": "@jupyter-widgets/controls",
      "model_module_version": "1.5.0",
      "model_name": "ProgressStyleModel",
      "state": {
       "description_width": "initial"
      }
     },
     "800374996408403da8385fad046f1997": {
      "model_module": "@jupyter-widgets/controls",
      "model_module_version": "1.5.0",
      "model_name": "HBoxModel",
      "state": {
       "children": [
        "IPY_MODEL_d881714bcc604e0ea6ae08b5aa6cf4d7",
        "IPY_MODEL_3d46fc1b626c427ab762e8899131e7de"
       ],
       "layout": "IPY_MODEL_0ae1067e8826493b82037d9202f99fe5"
      }
     },
     "80261f32583a463e9dc418a3bc1ee0a9": {
      "model_module": "@jupyter-widgets/controls",
      "model_module_version": "1.5.0",
      "model_name": "ProgressStyleModel",
      "state": {
       "description_width": "initial"
      }
     },
     "8032834686b14904bf884e26a78f8cc8": {
      "model_module": "@jupyter-widgets/base",
      "model_module_version": "1.2.0",
      "model_name": "LayoutModel",
      "state": {}
     },
     "803892e9faf54771aad07a158c7b7485": {
      "model_module": "@jupyter-widgets/base",
      "model_module_version": "1.2.0",
      "model_name": "LayoutModel",
      "state": {}
     },
     "8047a0cb22f2400487acdaa1f8a17e6c": {
      "model_module": "@jupyter-widgets/base",
      "model_module_version": "1.2.0",
      "model_name": "LayoutModel",
      "state": {}
     },
     "806927763c0d41d5877536e16aef9488": {
      "model_module": "@jupyter-widgets/controls",
      "model_module_version": "1.5.0",
      "model_name": "ProgressStyleModel",
      "state": {
       "description_width": "initial"
      }
     },
     "80b56f25e43b4108bc5e577977a3c1ce": {
      "model_module": "@jupyter-widgets/base",
      "model_module_version": "1.2.0",
      "model_name": "LayoutModel",
      "state": {}
     },
     "80d0f255545e485d9b11b396576ed425": {
      "model_module": "@jupyter-widgets/base",
      "model_module_version": "1.2.0",
      "model_name": "LayoutModel",
      "state": {}
     },
     "80dfb7c860b24608a1bc553f5cd73f62": {
      "model_module": "@jupyter-widgets/controls",
      "model_module_version": "1.5.0",
      "model_name": "FloatProgressModel",
      "state": {
       "bar_style": "success",
       "description": "100%",
       "layout": "IPY_MODEL_473184b0f14249e88bc7565f9f7060b1",
       "max": 344,
       "style": "IPY_MODEL_0acd30b6872e45838a0f6c27d8adf105",
       "value": 344
      }
     },
     "80ed9cfac2894d79bed778e456282313": {
      "model_module": "@jupyter-widgets/controls",
      "model_module_version": "1.5.0",
      "model_name": "DescriptionStyleModel",
      "state": {
       "description_width": ""
      }
     },
     "80f766b366214963b5536627a217f3c4": {
      "model_module": "@jupyter-widgets/controls",
      "model_module_version": "1.5.0",
      "model_name": "HBoxModel",
      "state": {
       "children": [
        "IPY_MODEL_efd9b69f827d4a1cbf2b0cbecc1993db",
        "IPY_MODEL_87b23ef182bc489d8e2f893be5181e76"
       ],
       "layout": "IPY_MODEL_91f7e7fd8a3e466d93eb92e23c7f648c"
      }
     },
     "80f8cb4781f442ea8a3d8b5ecbcb9cf4": {
      "model_module": "@jupyter-widgets/controls",
      "model_module_version": "1.5.0",
      "model_name": "FloatProgressModel",
      "state": {
       "description": " 26%",
       "layout": "IPY_MODEL_2a382596432a46f8a9c578271290184b",
       "max": 344,
       "style": "IPY_MODEL_198927960b3a4a21855992ec0fd3b4f8",
       "value": 91
      }
     },
     "81150db4497e44e9b3708bf0e59f3c9f": {
      "model_module": "@jupyter-widgets/controls",
      "model_module_version": "1.5.0",
      "model_name": "FloatProgressModel",
      "state": {
       "bar_style": "success",
       "description": "100%",
       "layout": "IPY_MODEL_34774af65e8943488f62484839933718",
       "max": 344,
       "style": "IPY_MODEL_e248282d05b74adcbec21f9b8e87d587",
       "value": 344
      }
     },
     "8125d00a9dd64e4abd4cf383f8262ac1": {
      "model_module": "@jupyter-widgets/base",
      "model_module_version": "1.2.0",
      "model_name": "LayoutModel",
      "state": {}
     },
     "814c5b99cb6d474fa38486f826a50583": {
      "model_module": "@jupyter-widgets/base",
      "model_module_version": "1.2.0",
      "model_name": "LayoutModel",
      "state": {}
     },
     "815c2a9ef1434e66a7820dda4dd6ddd6": {
      "model_module": "@jupyter-widgets/base",
      "model_module_version": "1.2.0",
      "model_name": "LayoutModel",
      "state": {}
     },
     "816a36280b9a4e94b7bbfa7dbbda3b31": {
      "model_module": "@jupyter-widgets/base",
      "model_module_version": "1.2.0",
      "model_name": "LayoutModel",
      "state": {}
     },
     "81753baa28ed410990337ae6a4365333": {
      "model_module": "@jupyter-widgets/controls",
      "model_module_version": "1.5.0",
      "model_name": "DescriptionStyleModel",
      "state": {
       "description_width": ""
      }
     },
     "8179418638944ad6a0b2778359723130": {
      "model_module": "@jupyter-widgets/controls",
      "model_module_version": "1.5.0",
      "model_name": "ProgressStyleModel",
      "state": {
       "description_width": "initial"
      }
     },
     "8190d5f8856344f2b744dc3c4137cb2c": {
      "model_module": "@jupyter-widgets/base",
      "model_module_version": "1.2.0",
      "model_name": "LayoutModel",
      "state": {}
     },
     "81ce8033e6b344e9b78c19337cfff86c": {
      "model_module": "@jupyter-widgets/controls",
      "model_module_version": "1.5.0",
      "model_name": "HTMLModel",
      "state": {
       "layout": "IPY_MODEL_b4c7ad5de80a410e86b71dd76b664391",
       "style": "IPY_MODEL_f8b953da92904a1bad0ee79719c6bc02",
       "value": " 344/344 [03:11&lt;00:00,  1.80it/s, end_loss=0.657, jaccard=0.737, merged_loss=0.991, start_loss=0.713]"
      }
     },
     "81fc85acfcff43c1b05e4b84786ce875": {
      "model_module": "@jupyter-widgets/controls",
      "model_module_version": "1.5.0",
      "model_name": "HBoxModel",
      "state": {
       "children": [
        "IPY_MODEL_5adc80d23ac94abfadb0bc6e2c4a70e4",
        "IPY_MODEL_0386107e72d540d29762e4051d220a29"
       ],
       "layout": "IPY_MODEL_12635d5a7fde4ca0aeec2cd5e79eabc3"
      }
     },
     "821a84b0366149e78f4e0e3ce2c9af46": {
      "model_module": "@jupyter-widgets/controls",
      "model_module_version": "1.5.0",
      "model_name": "DescriptionStyleModel",
      "state": {
       "description_width": ""
      }
     },
     "82259c490d4a488eb5b4b661d3d924f1": {
      "model_module": "@jupyter-widgets/base",
      "model_module_version": "1.2.0",
      "model_name": "LayoutModel",
      "state": {}
     },
     "824b1870d89349a08bc920cc5f431bfb": {
      "model_module": "@jupyter-widgets/base",
      "model_module_version": "1.2.0",
      "model_name": "LayoutModel",
      "state": {}
     },
     "826fcd8bbe1c4384a0183f444c9765de": {
      "model_module": "@jupyter-widgets/controls",
      "model_module_version": "1.5.0",
      "model_name": "HTMLModel",
      "state": {
       "layout": "IPY_MODEL_73a23c8ba5d04a8f9026069b807d5b9c",
       "style": "IPY_MODEL_bd828d999f24485ebc084f572d264053",
       "value": " 344/344 [05:11&lt;00:00,  1.11it/s, end_loss=0.817, jaccard=0.707, start_loss=0.858]"
      }
     },
     "827d510165ca4176aae11d357cd3424b": {
      "model_module": "@jupyter-widgets/controls",
      "model_module_version": "1.5.0",
      "model_name": "FloatProgressModel",
      "state": {
       "bar_style": "success",
       "description": "100%",
       "layout": "IPY_MODEL_8c94a5edad91451cb8fc2689177a38a9",
       "max": 344,
       "style": "IPY_MODEL_cead55b5d1cc401f9519b429a880034c",
       "value": 344
      }
     },
     "828cfa4976734a46b57d65e7fe351c90": {
      "model_module": "@jupyter-widgets/controls",
      "model_module_version": "1.5.0",
      "model_name": "DescriptionStyleModel",
      "state": {
       "description_width": ""
      }
     },
     "82916a27ade246aaa307a21ebfa9431c": {
      "model_module": "@jupyter-widgets/base",
      "model_module_version": "1.2.0",
      "model_name": "LayoutModel",
      "state": {}
     },
     "82cd003c79d54e069f6b2bad0d9fcaf3": {
      "model_module": "@jupyter-widgets/controls",
      "model_module_version": "1.5.0",
      "model_name": "FloatProgressModel",
      "state": {
       "description": " 37%",
       "layout": "IPY_MODEL_41f07b4bf47f4b47aac3662627411887",
       "max": 344,
       "style": "IPY_MODEL_53d6bcc32048472e8f4469160d4806b7",
       "value": 128
      }
     },
     "82d11265e4db437c9ee54bd87ae798d3": {
      "model_module": "@jupyter-widgets/controls",
      "model_module_version": "1.5.0",
      "model_name": "HBoxModel",
      "state": {
       "children": [
        "IPY_MODEL_515d34ac58f246419272a6127fb38b15",
        "IPY_MODEL_f41a970f91694ef98accb86d26424a07"
       ],
       "layout": "IPY_MODEL_6535df627a644981b495c7b2e757b758"
      }
     },
     "82d830c9551f4f7bbe273261de666480": {
      "model_module": "@jupyter-widgets/controls",
      "model_module_version": "1.5.0",
      "model_name": "DescriptionStyleModel",
      "state": {
       "description_width": ""
      }
     },
     "82da177fec3a44058dd534c27f23786f": {
      "model_module": "@jupyter-widgets/base",
      "model_module_version": "1.2.0",
      "model_name": "LayoutModel",
      "state": {}
     },
     "82dd69cc51d842b29fcea98bbef85702": {
      "model_module": "@jupyter-widgets/controls",
      "model_module_version": "1.5.0",
      "model_name": "HBoxModel",
      "state": {
       "children": [
        "IPY_MODEL_e1d7d82ff38d4b8f891e027cd707a6a8",
        "IPY_MODEL_a1a2282600ee496d950edf8d25d7d0ef"
       ],
       "layout": "IPY_MODEL_a79a361244344e1390aa26ac4dfa6946"
      }
     },
     "830b818d85054ccaa6dcd9466964d35a": {
      "model_module": "@jupyter-widgets/controls",
      "model_module_version": "1.5.0",
      "model_name": "FloatProgressModel",
      "state": {
       "bar_style": "success",
       "description": "100%",
       "layout": "IPY_MODEL_742c186c52834cfe9385cd73642bf87b",
       "max": 344,
       "style": "IPY_MODEL_e8bdd8c1fd2e46f1b7f355d8f823c4d3",
       "value": 344
      }
     },
     "8321f8a54c0441d28c3f81144daf695e": {
      "model_module": "@jupyter-widgets/base",
      "model_module_version": "1.2.0",
      "model_name": "LayoutModel",
      "state": {}
     },
     "8330d47732ac48ce95c63d487dae38f0": {
      "model_module": "@jupyter-widgets/controls",
      "model_module_version": "1.5.0",
      "model_name": "FloatProgressModel",
      "state": {
       "bar_style": "success",
       "description": "100%",
       "layout": "IPY_MODEL_b6ded4425d9a4a5c9aa28b30ccbe1b74",
       "max": 344,
       "style": "IPY_MODEL_e0ad5a8e36db45f98673776bd6fc21e8",
       "value": 344
      }
     },
     "83334d64ed604de99174de42c4a187c3": {
      "model_module": "@jupyter-widgets/controls",
      "model_module_version": "1.5.0",
      "model_name": "FloatProgressModel",
      "state": {
       "bar_style": "success",
       "description": "100%",
       "layout": "IPY_MODEL_739dbc906dbe40f6a1398c3d954b2355",
       "max": 344,
       "style": "IPY_MODEL_470d06036573498daf6461c3fe4c06b7",
       "value": 344
      }
     },
     "8359a808b2f943d69be250debffc2163": {
      "model_module": "@jupyter-widgets/controls",
      "model_module_version": "1.5.0",
      "model_name": "ProgressStyleModel",
      "state": {
       "description_width": "initial"
      }
     },
     "835f1615df124f759a46a0a2e1a45818": {
      "model_module": "@jupyter-widgets/controls",
      "model_module_version": "1.5.0",
      "model_name": "HTMLModel",
      "state": {
       "layout": "IPY_MODEL_934a3958306a4557a37ffc793895d268",
       "style": "IPY_MODEL_5869bb13a4d44e95bc0898696986f364",
       "value": " 344/344 [03:12&lt;00:00,  1.79it/s, end_loss=0.945, jaccard=0.685, start_loss=0.981]"
      }
     },
     "8379deeab7c84ea1b5e225aa06bec11d": {
      "model_module": "@jupyter-widgets/controls",
      "model_module_version": "1.5.0",
      "model_name": "ProgressStyleModel",
      "state": {
       "description_width": "initial"
      }
     },
     "83a1e49e081f4d2bbebe1d25a1b3e19f": {
      "model_module": "@jupyter-widgets/base",
      "model_module_version": "1.2.0",
      "model_name": "LayoutModel",
      "state": {}
     },
     "83ae752aba54481a8b803d3af2db9550": {
      "model_module": "@jupyter-widgets/controls",
      "model_module_version": "1.5.0",
      "model_name": "FloatProgressModel",
      "state": {
       "bar_style": "success",
       "description": "100%",
       "layout": "IPY_MODEL_bf33f6f497fd40038dd54957b4fd9576",
       "max": 344,
       "style": "IPY_MODEL_c1e998f09f414b7e80638f69f1d0750e",
       "value": 344
      }
     },
     "83dd612cf4e84a8197e32b1b56d2cf29": {
      "model_module": "@jupyter-widgets/base",
      "model_module_version": "1.2.0",
      "model_name": "LayoutModel",
      "state": {}
     },
     "844c085735a1415886ac1d7d75b66402": {
      "model_module": "@jupyter-widgets/base",
      "model_module_version": "1.2.0",
      "model_name": "LayoutModel",
      "state": {}
     },
     "844ff819d6d14cf5b76bd2f0e69f954c": {
      "model_module": "@jupyter-widgets/controls",
      "model_module_version": "1.5.0",
      "model_name": "FloatProgressModel",
      "state": {
       "bar_style": "success",
       "description": "100%",
       "layout": "IPY_MODEL_4af99ad095724ecd88d973bcfa79bb6d",
       "max": 344,
       "style": "IPY_MODEL_26e5ab2835e049ee9f1aab64ab11e3ae",
       "value": 344
      }
     },
     "845bcd6408a544d8b7391ac3b1e33e78": {
      "model_module": "@jupyter-widgets/base",
      "model_module_version": "1.2.0",
      "model_name": "LayoutModel",
      "state": {}
     },
     "847a105525224c1282d528ae12b0668c": {
      "model_module": "@jupyter-widgets/controls",
      "model_module_version": "1.5.0",
      "model_name": "HBoxModel",
      "state": {
       "children": [
        "IPY_MODEL_e4b52ebbc2a940e39d60634e47debf7a",
        "IPY_MODEL_d873ceb6c02d4416b2e5336a6eba496e"
       ],
       "layout": "IPY_MODEL_fe15cd2077034a12b8a79164e700fb51"
      }
     },
     "847bf106d2324d948fe5d2f50e58e9fb": {
      "model_module": "@jupyter-widgets/controls",
      "model_module_version": "1.5.0",
      "model_name": "HTMLModel",
      "state": {
       "layout": "IPY_MODEL_e16001123db9457c9f4dd8ec7c83957c",
       "style": "IPY_MODEL_a6a15bf55c25418d921371be896a0ea8",
       "value": " 344/344 [00:25&lt;00:00, 13.33it/s, end_loss=0.814, jaccard=0.704, start_loss=0.852]"
      }
     },
     "849595304f7542949d8bf06acfea9fdb": {
      "model_module": "@jupyter-widgets/controls",
      "model_module_version": "1.5.0",
      "model_name": "DescriptionStyleModel",
      "state": {
       "description_width": ""
      }
     },
     "849aeec04f6f4d70bc8d33550e511832": {
      "model_module": "@jupyter-widgets/controls",
      "model_module_version": "1.5.0",
      "model_name": "HBoxModel",
      "state": {
       "children": [
        "IPY_MODEL_a3a4c40d3fdd4ca58e39bacb3866cf50",
        "IPY_MODEL_14ae429a526f48fabe68e6cfca79df60"
       ],
       "layout": "IPY_MODEL_0a9e062030404dde9de3df4250ff9a4e"
      }
     },
     "84c101304f324cdfbfc350402eca10b4": {
      "model_module": "@jupyter-widgets/base",
      "model_module_version": "1.2.0",
      "model_name": "LayoutModel",
      "state": {}
     },
     "85192db7ea42492fae1ae6eea31cc8d8": {
      "model_module": "@jupyter-widgets/controls",
      "model_module_version": "1.5.0",
      "model_name": "FloatProgressModel",
      "state": {
       "bar_style": "success",
       "description": "100%",
       "layout": "IPY_MODEL_fafc15b724e4448ea95927d53498b551",
       "max": 344,
       "style": "IPY_MODEL_dd2b5e8d90134d048fb5e9a96847ebd3",
       "value": 344
      }
     },
     "855df7155902451ba17523416959a2a8": {
      "model_module": "@jupyter-widgets/controls",
      "model_module_version": "1.5.0",
      "model_name": "ProgressStyleModel",
      "state": {
       "description_width": "initial"
      }
     },
     "85a265cb05d046f6a41e83ff880204ea": {
      "model_module": "@jupyter-widgets/controls",
      "model_module_version": "1.5.0",
      "model_name": "FloatProgressModel",
      "state": {
       "bar_style": "success",
       "description": "100%",
       "layout": "IPY_MODEL_7878effdbc944c6abb9f300adb417e7a",
       "max": 344,
       "style": "IPY_MODEL_7cc8965324254b8c841acd4ba6c2da06",
       "value": 344
      }
     },
     "85e449351c504c359c7de61af5c00f52": {
      "model_module": "@jupyter-widgets/base",
      "model_module_version": "1.2.0",
      "model_name": "LayoutModel",
      "state": {}
     },
     "85e48c22b99841269919bb4089e3480c": {
      "model_module": "@jupyter-widgets/base",
      "model_module_version": "1.2.0",
      "model_name": "LayoutModel",
      "state": {}
     },
     "8612d780a5b84d6aaa8d767342f7d59a": {
      "model_module": "@jupyter-widgets/controls",
      "model_module_version": "1.5.0",
      "model_name": "FloatProgressModel",
      "state": {
       "bar_style": "success",
       "description": "100%",
       "layout": "IPY_MODEL_b1c9b4cd1b0e4f5d9075001e76041518",
       "max": 344,
       "style": "IPY_MODEL_2ed5039b4a8b4b2c969796e7f5ceaefb",
       "value": 344
      }
     },
     "861d2164ff6a46b7896c2599737da2d7": {
      "model_module": "@jupyter-widgets/base",
      "model_module_version": "1.2.0",
      "model_name": "LayoutModel",
      "state": {}
     },
     "86447d0626444900a9ade019418982f1": {
      "model_module": "@jupyter-widgets/controls",
      "model_module_version": "1.5.0",
      "model_name": "DescriptionStyleModel",
      "state": {
       "description_width": ""
      }
     },
     "865b58c838f5499191cf8eac12abf585": {
      "model_module": "@jupyter-widgets/base",
      "model_module_version": "1.2.0",
      "model_name": "LayoutModel",
      "state": {}
     },
     "866f647ea70f4899b561d5d5beffc2e7": {
      "model_module": "@jupyter-widgets/controls",
      "model_module_version": "1.5.0",
      "model_name": "ProgressStyleModel",
      "state": {
       "description_width": "initial"
      }
     },
     "868d90ecfb684acf80ad76a893ef40df": {
      "model_module": "@jupyter-widgets/controls",
      "model_module_version": "1.5.0",
      "model_name": "DescriptionStyleModel",
      "state": {
       "description_width": ""
      }
     },
     "86a0325e43be445da981a43ff49c4f72": {
      "model_module": "@jupyter-widgets/base",
      "model_module_version": "1.2.0",
      "model_name": "LayoutModel",
      "state": {}
     },
     "86a04ea22dd04f1c9f263994ddada961": {
      "model_module": "@jupyter-widgets/controls",
      "model_module_version": "1.5.0",
      "model_name": "HTMLModel",
      "state": {
       "layout": "IPY_MODEL_814c5b99cb6d474fa38486f826a50583",
       "style": "IPY_MODEL_02516950c00348e0bfdaec45e053d206",
       "value": " 344/344 [00:19&lt;00:00, 17.66it/s, end_loss=0.757, jaccard=0.711, start_loss=0.832]"
      }
     },
     "86a166ea50cb49fa9e904b323cf375de": {
      "model_module": "@jupyter-widgets/controls",
      "model_module_version": "1.5.0",
      "model_name": "HTMLModel",
      "state": {
       "layout": "IPY_MODEL_5e80086d72ef4bd186c97a3608b5d01f",
       "style": "IPY_MODEL_4c3d1f7c9cbd4cb890c6c8740ec3cc34",
       "value": " 344/344 [03:16&lt;00:00,  1.75it/s, end_loss=0.947, jaccard=0.682, start_loss=0.986]"
      }
     },
     "86a6ab67a96c4058bfea5e5928a3e8b3": {
      "model_module": "@jupyter-widgets/base",
      "model_module_version": "1.2.0",
      "model_name": "LayoutModel",
      "state": {}
     },
     "86d124ff5d2a4d6fb3004703293ea704": {
      "model_module": "@jupyter-widgets/controls",
      "model_module_version": "1.5.0",
      "model_name": "ProgressStyleModel",
      "state": {
       "description_width": "initial"
      }
     },
     "86d70aaf0afc4c99bfb9231a1fe314fa": {
      "model_module": "@jupyter-widgets/controls",
      "model_module_version": "1.5.0",
      "model_name": "DescriptionStyleModel",
      "state": {
       "description_width": ""
      }
     },
     "86e596dcdad84aeb9caad167334ddd52": {
      "model_module": "@jupyter-widgets/controls",
      "model_module_version": "1.5.0",
      "model_name": "HTMLModel",
      "state": {
       "layout": "IPY_MODEL_1eac10481eef491997e826d14b3fe637",
       "style": "IPY_MODEL_afa5b06c43f9420a822562a9829ae88c",
       "value": " 344/344 [06:51&lt;00:00,  1.19s/it, end_loss=1.77, jaccard=0.654, start_loss=1.81]"
      }
     },
     "86f815b2135b490e99285dfffa696aeb": {
      "model_module": "@jupyter-widgets/controls",
      "model_module_version": "1.5.0",
      "model_name": "DescriptionStyleModel",
      "state": {
       "description_width": ""
      }
     },
     "87362004beb647a482905f01d059af35": {
      "model_module": "@jupyter-widgets/base",
      "model_module_version": "1.2.0",
      "model_name": "LayoutModel",
      "state": {}
     },
     "877861100ee24628a9e2f3e48aa79f4d": {
      "model_module": "@jupyter-widgets/controls",
      "model_module_version": "1.5.0",
      "model_name": "ProgressStyleModel",
      "state": {
       "description_width": "initial"
      }
     },
     "877bc3e9eea4450299e2c56dbd2c18ae": {
      "model_module": "@jupyter-widgets/base",
      "model_module_version": "1.2.0",
      "model_name": "LayoutModel",
      "state": {}
     },
     "878413a26b1a4f6fae98fa840d44550e": {
      "model_module": "@jupyter-widgets/base",
      "model_module_version": "1.2.0",
      "model_name": "LayoutModel",
      "state": {}
     },
     "879792198283469494546f30b7206a90": {
      "model_module": "@jupyter-widgets/base",
      "model_module_version": "1.2.0",
      "model_name": "LayoutModel",
      "state": {}
     },
     "879de976edae44dc9eff27dcbe46a022": {
      "model_module": "@jupyter-widgets/controls",
      "model_module_version": "1.5.0",
      "model_name": "DescriptionStyleModel",
      "state": {
       "description_width": ""
      }
     },
     "87b23ef182bc489d8e2f893be5181e76": {
      "model_module": "@jupyter-widgets/controls",
      "model_module_version": "1.5.0",
      "model_name": "HTMLModel",
      "state": {
       "layout": "IPY_MODEL_5cf87471408c4a419877a4369e967bb7",
       "style": "IPY_MODEL_f4c5a0ea5aef4db2a6dd686b083e33cf",
       "value": " 344/344 [07:08&lt;00:00,  1.25s/it, end_loss=1.07, jaccard=0.656, start_loss=1.1]"
      }
     },
     "87dec48024794d4dacbb858951af4f28": {
      "model_module": "@jupyter-widgets/base",
      "model_module_version": "1.2.0",
      "model_name": "LayoutModel",
      "state": {}
     },
     "87e325e3278e4d888b12309bfea3b5e0": {
      "model_module": "@jupyter-widgets/controls",
      "model_module_version": "1.5.0",
      "model_name": "ProgressStyleModel",
      "state": {
       "description_width": "initial"
      }
     },
     "882de96007814e409811029530c15534": {
      "model_module": "@jupyter-widgets/controls",
      "model_module_version": "1.5.0",
      "model_name": "FloatProgressModel",
      "state": {
       "bar_style": "success",
       "description": "100%",
       "layout": "IPY_MODEL_b2bbaec763b144f78749831775ce9c53",
       "max": 344,
       "style": "IPY_MODEL_65fbf43fe5e44260b6ed23a5c0df57e9",
       "value": 344
      }
     },
     "886def9978ac4de59af24b2c85df5b8b": {
      "model_module": "@jupyter-widgets/controls",
      "model_module_version": "1.5.0",
      "model_name": "DescriptionStyleModel",
      "state": {
       "description_width": ""
      }
     },
     "8871ec518819482d8ee4bb4042eb5182": {
      "model_module": "@jupyter-widgets/controls",
      "model_module_version": "1.5.0",
      "model_name": "HBoxModel",
      "state": {
       "children": [
        "IPY_MODEL_6ef396d04f364f85a82c290d2533af27",
        "IPY_MODEL_1ff9a544bcc2490a974b35a1a88b292c"
       ],
       "layout": "IPY_MODEL_6d61ec2c5b614e82b0288ed462b83d4d"
      }
     },
     "887796fd8a3d456e9ad178bd44b132e4": {
      "model_module": "@jupyter-widgets/base",
      "model_module_version": "1.2.0",
      "model_name": "LayoutModel",
      "state": {}
     },
     "889f88306d1249508e83688c41df903a": {
      "model_module": "@jupyter-widgets/base",
      "model_module_version": "1.2.0",
      "model_name": "LayoutModel",
      "state": {}
     },
     "88c42f73877242828bb05c73b1c22f91": {
      "model_module": "@jupyter-widgets/base",
      "model_module_version": "1.2.0",
      "model_name": "LayoutModel",
      "state": {}
     },
     "88ee91ff04b84daa9d3f15c762f43880": {
      "model_module": "@jupyter-widgets/base",
      "model_module_version": "1.2.0",
      "model_name": "LayoutModel",
      "state": {}
     },
     "891bd8f6db154737bbd6da2d777c3149": {
      "model_module": "@jupyter-widgets/controls",
      "model_module_version": "1.5.0",
      "model_name": "HBoxModel",
      "state": {
       "children": [
        "IPY_MODEL_7125f3ce43b94d0388e4c3de65c1aa1e",
        "IPY_MODEL_17ec92505b8e4a1f9599a2936b569464"
       ],
       "layout": "IPY_MODEL_6fca71db1702428dbff3733f69c7aabe"
      }
     },
     "8926ac152beb45cfa66880be20a35ed2": {
      "model_module": "@jupyter-widgets/base",
      "model_module_version": "1.2.0",
      "model_name": "LayoutModel",
      "state": {}
     },
     "892f2ef57ac64698aad7b42f4dd5736c": {
      "model_module": "@jupyter-widgets/controls",
      "model_module_version": "1.5.0",
      "model_name": "HBoxModel",
      "state": {
       "children": [
        "IPY_MODEL_c25fdfcb69a944aba1b7355fe2bf4029",
        "IPY_MODEL_f51f54a5caa746ce997cb44ac41c36d3"
       ],
       "layout": "IPY_MODEL_956b433841cb4a8b91b387e30261191d"
      }
     },
     "89398508bcc741d7aadba217dc3a8710": {
      "model_module": "@jupyter-widgets/controls",
      "model_module_version": "1.5.0",
      "model_name": "HTMLModel",
      "state": {
       "layout": "IPY_MODEL_059147b1041f48cf871e3827f29556c3",
       "style": "IPY_MODEL_0c9e1eb39c4d49399fdb77a40c055967",
       "value": " 344/344 [06:29&lt;00:00,  1.13s/it, end_loss=1.01, jaccard=0.708, start_loss=1.03]"
      }
     },
     "8953602e6ce8455696eaf69c542facf4": {
      "model_module": "@jupyter-widgets/controls",
      "model_module_version": "1.5.0",
      "model_name": "ProgressStyleModel",
      "state": {
       "description_width": "initial"
      }
     },
     "899c8bb2d0804fa796cacd6075a3e5fe": {
      "model_module": "@jupyter-widgets/controls",
      "model_module_version": "1.5.0",
      "model_name": "FloatProgressModel",
      "state": {
       "bar_style": "success",
       "description": "100%",
       "layout": "IPY_MODEL_d5350d86cd184cf1894a520b5ff357c1",
       "max": 344,
       "style": "IPY_MODEL_42f45dad627e4186b1b1ede3323c03fa",
       "value": 344
      }
     },
     "899f92da27cc41cba1d490450eb2d240": {
      "model_module": "@jupyter-widgets/controls",
      "model_module_version": "1.5.0",
      "model_name": "DescriptionStyleModel",
      "state": {
       "description_width": ""
      }
     },
     "89b2af7f1a1642eba9fd05da58b68164": {
      "model_module": "@jupyter-widgets/base",
      "model_module_version": "1.2.0",
      "model_name": "LayoutModel",
      "state": {}
     },
     "89dc71e65f234cbd82d0b15be26a64e1": {
      "model_module": "@jupyter-widgets/base",
      "model_module_version": "1.2.0",
      "model_name": "LayoutModel",
      "state": {}
     },
     "89f57ea1bb2d470ba7b9e24ba5f21a27": {
      "model_module": "@jupyter-widgets/controls",
      "model_module_version": "1.5.0",
      "model_name": "FloatProgressModel",
      "state": {
       "bar_style": "success",
       "description": "100%",
       "layout": "IPY_MODEL_d507e5dae1884b2f8d0219681560c4d6",
       "max": 344,
       "style": "IPY_MODEL_51a6dba6d19e4b38852fae3c681fbfa3",
       "value": 344
      }
     },
     "8a006f60fa24430ba74e04e772289239": {
      "model_module": "@jupyter-widgets/controls",
      "model_module_version": "1.5.0",
      "model_name": "ProgressStyleModel",
      "state": {
       "description_width": "initial"
      }
     },
     "8a69e78356404d3d88a6289037065e4a": {
      "model_module": "@jupyter-widgets/controls",
      "model_module_version": "1.5.0",
      "model_name": "ProgressStyleModel",
      "state": {
       "description_width": "initial"
      }
     },
     "8a93d4f57cff4b59ba16b56c507f39bd": {
      "model_module": "@jupyter-widgets/controls",
      "model_module_version": "1.5.0",
      "model_name": "HTMLModel",
      "state": {
       "layout": "IPY_MODEL_222eaa324fef4668913ca774179c442a",
       "style": "IPY_MODEL_42afc8d3b4a64fcf948f2529eb28419f",
       "value": " 344/344 [00:24&lt;00:00, 14.26it/s, end_loss=0.872, jaccard=0.708, start_loss=0.928]"
      }
     },
     "8accdd8f535643f0a10b3f50fec7b10e": {
      "model_module": "@jupyter-widgets/controls",
      "model_module_version": "1.5.0",
      "model_name": "HTMLModel",
      "state": {
       "layout": "IPY_MODEL_d222a188d118425ca37ca4f6fe29e98a",
       "style": "IPY_MODEL_ccb2872b09274ab08b0f683acea972b4",
       "value": " 344/344 [03:12&lt;00:00,  1.79it/s, end_loss=0.683, jaccard=0.729, merged_loss=0.994, start_loss=0.734]"
      }
     },
     "8ad14809fc45417697ba4543402f534c": {
      "model_module": "@jupyter-widgets/base",
      "model_module_version": "1.2.0",
      "model_name": "LayoutModel",
      "state": {}
     },
     "8ad66356e14e4844835e22783e7a5aba": {
      "model_module": "@jupyter-widgets/base",
      "model_module_version": "1.2.0",
      "model_name": "LayoutModel",
      "state": {}
     },
     "8ae80a0cab404e1181bb76c5524548e1": {
      "model_module": "@jupyter-widgets/base",
      "model_module_version": "1.2.0",
      "model_name": "LayoutModel",
      "state": {}
     },
     "8b4182714f1042f1a5429647e6d1fafc": {
      "model_module": "@jupyter-widgets/controls",
      "model_module_version": "1.5.0",
      "model_name": "HTMLModel",
      "state": {
       "layout": "IPY_MODEL_427d87492da8461880613a6f77849f08",
       "style": "IPY_MODEL_b59a70e4b53c43adb9c1d7aabf429ef9",
       "value": " 344/344 [03:27&lt;00:00,  1.66it/s, end_loss=1.12, jaccard=0.68, start_loss=1.15]"
      }
     },
     "8b78f58ed98641519dfdc467f94707de": {
      "model_module": "@jupyter-widgets/base",
      "model_module_version": "1.2.0",
      "model_name": "LayoutModel",
      "state": {}
     },
     "8ba0f2fcce24473c9a75ffcf9ae054f2": {
      "model_module": "@jupyter-widgets/base",
      "model_module_version": "1.2.0",
      "model_name": "LayoutModel",
      "state": {}
     },
     "8ba8d8c3bcf44d8987b5f1534b56d9ba": {
      "model_module": "@jupyter-widgets/base",
      "model_module_version": "1.2.0",
      "model_name": "LayoutModel",
      "state": {}
     },
     "8baac56053bc4812bbf60d17cb4e6849": {
      "model_module": "@jupyter-widgets/controls",
      "model_module_version": "1.5.0",
      "model_name": "HTMLModel",
      "state": {
       "layout": "IPY_MODEL_0ec0b4ca8263449781771ff1bd8f344a",
       "style": "IPY_MODEL_318a1b9fa3cb4c2db8e25a75f0d13f61",
       "value": " 344/344 [00:18&lt;00:00, 18.38it/s, end_loss=0.8, jaccard=0.71, start_loss=0.845]"
      }
     },
     "8bd56146d6f04643902002a942e740c6": {
      "model_module": "@jupyter-widgets/controls",
      "model_module_version": "1.5.0",
      "model_name": "HTMLModel",
      "state": {
       "layout": "IPY_MODEL_f5d3b8a0d9a34970b3c93363e4437710",
       "style": "IPY_MODEL_d741bb53f18a476ba961617134bb4918",
       "value": " 344/344 [00:32&lt;00:00, 10.54it/s, end_loss=1.2, jaccard=0.641, start_loss=0.929]"
      }
     },
     "8be485ba5e984a9cb729df5022b0c601": {
      "model_module": "@jupyter-widgets/controls",
      "model_module_version": "1.5.0",
      "model_name": "FloatProgressModel",
      "state": {
       "bar_style": "success",
       "description": "100%",
       "layout": "IPY_MODEL_bb09d8a8fad1449698c423eb654dcb98",
       "max": 344,
       "style": "IPY_MODEL_666dfd24c98f4880ac6bd2da0f56ae7d",
       "value": 344
      }
     },
     "8c1a498fb4aa4915b0a970345eb05031": {
      "model_module": "@jupyter-widgets/controls",
      "model_module_version": "1.5.0",
      "model_name": "FloatProgressModel",
      "state": {
       "bar_style": "success",
       "description": "100%",
       "layout": "IPY_MODEL_c2a0aabf97444a3789df556250915b48",
       "max": 344,
       "style": "IPY_MODEL_e86615ebdd674356896d5924f5062717",
       "value": 344
      }
     },
     "8c2c902535d94dd386ad7cef50d9e775": {
      "model_module": "@jupyter-widgets/controls",
      "model_module_version": "1.5.0",
      "model_name": "FloatProgressModel",
      "state": {
       "bar_style": "success",
       "description": "100%",
       "layout": "IPY_MODEL_b34848ed2e67489dbfc77cabdada6979",
       "max": 344,
       "style": "IPY_MODEL_9301a2d2652b464dae0a541fa3e4c042",
       "value": 344
      }
     },
     "8c2d1214afa94f4d9a8064e9bc5dcb44": {
      "model_module": "@jupyter-widgets/controls",
      "model_module_version": "1.5.0",
      "model_name": "DescriptionStyleModel",
      "state": {
       "description_width": ""
      }
     },
     "8c2d6f5ad0b24be59dfd3aed82bc11f1": {
      "model_module": "@jupyter-widgets/controls",
      "model_module_version": "1.5.0",
      "model_name": "DescriptionStyleModel",
      "state": {
       "description_width": ""
      }
     },
     "8c4ca182266f4ba38d6a4c3167ac98b2": {
      "model_module": "@jupyter-widgets/controls",
      "model_module_version": "1.5.0",
      "model_name": "ProgressStyleModel",
      "state": {
       "description_width": "initial"
      }
     },
     "8c5e14fecaae4d85bdbeacc6e51e099a": {
      "model_module": "@jupyter-widgets/controls",
      "model_module_version": "1.5.0",
      "model_name": "DescriptionStyleModel",
      "state": {
       "description_width": ""
      }
     },
     "8c67b821bc014001993974c22d1d7798": {
      "model_module": "@jupyter-widgets/base",
      "model_module_version": "1.2.0",
      "model_name": "LayoutModel",
      "state": {}
     },
     "8c8890f6d5624c6bbeb63c5534c99a4a": {
      "model_module": "@jupyter-widgets/base",
      "model_module_version": "1.2.0",
      "model_name": "LayoutModel",
      "state": {}
     },
     "8c8cf108a48448378b04fc8da7fef787": {
      "model_module": "@jupyter-widgets/base",
      "model_module_version": "1.2.0",
      "model_name": "LayoutModel",
      "state": {}
     },
     "8c94a5edad91451cb8fc2689177a38a9": {
      "model_module": "@jupyter-widgets/base",
      "model_module_version": "1.2.0",
      "model_name": "LayoutModel",
      "state": {}
     },
     "8ca5f0f201134a3182958790d349a72d": {
      "model_module": "@jupyter-widgets/controls",
      "model_module_version": "1.5.0",
      "model_name": "DescriptionStyleModel",
      "state": {
       "description_width": ""
      }
     },
     "8cde51dd00f649f18ef14a1efbad3648": {
      "model_module": "@jupyter-widgets/base",
      "model_module_version": "1.2.0",
      "model_name": "LayoutModel",
      "state": {}
     },
     "8cec606271514710a03f8730d2f5af86": {
      "model_module": "@jupyter-widgets/controls",
      "model_module_version": "1.5.0",
      "model_name": "HTMLModel",
      "state": {
       "layout": "IPY_MODEL_b405a0e275f94c6c9832992a748d6e54",
       "style": "IPY_MODEL_166d5f0d230a494a89957507462f151c",
       "value": " 344/344 [00:24&lt;00:00, 14.16it/s, end_loss=0.846, jaccard=0.71, start_loss=0.86]"
      }
     },
     "8cf2df95b861410692b87fa41cc33b6c": {
      "model_module": "@jupyter-widgets/controls",
      "model_module_version": "1.5.0",
      "model_name": "FloatProgressModel",
      "state": {
       "bar_style": "success",
       "description": "100%",
       "layout": "IPY_MODEL_bbf2ed095f224373a417e90469555e4c",
       "max": 344,
       "style": "IPY_MODEL_58196b3551a9478ca11a699e96d826e2",
       "value": 344
      }
     },
     "8d121d8df599414e900299e62f899c4a": {
      "model_module": "@jupyter-widgets/controls",
      "model_module_version": "1.5.0",
      "model_name": "ProgressStyleModel",
      "state": {
       "description_width": "initial"
      }
     },
     "8d6ea34f12ef4a5590446f65905e13ba": {
      "model_module": "@jupyter-widgets/controls",
      "model_module_version": "1.5.0",
      "model_name": "HTMLModel",
      "state": {
       "layout": "IPY_MODEL_2db319e993b64dfba97718030054f8b6",
       "style": "IPY_MODEL_b121dd95150b49abb693b252ee9aa615",
       "value": " 344/344 [00:19&lt;00:00, 17.88it/s, end_loss=0.834, jaccard=0.698, start_loss=0.878]"
      }
     },
     "8d982f3581994627b495ebe96179cd0a": {
      "model_module": "@jupyter-widgets/controls",
      "model_module_version": "1.5.0",
      "model_name": "FloatProgressModel",
      "state": {
       "bar_style": "success",
       "description": "100%",
       "layout": "IPY_MODEL_bb9327ab23044790bd718d9c0df4c4a2",
       "max": 344,
       "style": "IPY_MODEL_90456d978739409fbeeb477bd176592f",
       "value": 344
      }
     },
     "8da9da7a5a464f1e89adc9dbcb1eb614": {
      "model_module": "@jupyter-widgets/controls",
      "model_module_version": "1.5.0",
      "model_name": "DescriptionStyleModel",
      "state": {
       "description_width": ""
      }
     },
     "8dc9b4285a1e4d27a350b2c6a10a9ebe": {
      "model_module": "@jupyter-widgets/controls",
      "model_module_version": "1.5.0",
      "model_name": "DescriptionStyleModel",
      "state": {
       "description_width": ""
      }
     },
     "8e01f80388204ecbabfbbe5c7cd1b8f6": {
      "model_module": "@jupyter-widgets/controls",
      "model_module_version": "1.5.0",
      "model_name": "FloatProgressModel",
      "state": {
       "description": " 30%",
       "layout": "IPY_MODEL_8032834686b14904bf884e26a78f8cc8",
       "max": 344,
       "style": "IPY_MODEL_0dac161c2df5480289bcf1812baedd09",
       "value": 102
      }
     },
     "8e57e37e2ad34a32a723a37e72393d80": {
      "model_module": "@jupyter-widgets/controls",
      "model_module_version": "1.5.0",
      "model_name": "HTMLModel",
      "state": {
       "layout": "IPY_MODEL_a62d59fa1e4746ada7a5d381ee06e33e",
       "style": "IPY_MODEL_5e2a8cb00c3749e49e62e2b7c9a27eba",
       "value": " 344/344 [00:22&lt;00:00, 15.55it/s, end_loss=0.778, jaccard=0.715, start_loss=0.816]"
      }
     },
     "8e733e0cb8164b7787048db94597b798": {
      "model_module": "@jupyter-widgets/controls",
      "model_module_version": "1.5.0",
      "model_name": "HBoxModel",
      "state": {
       "children": [
        "IPY_MODEL_882de96007814e409811029530c15534",
        "IPY_MODEL_37eb4f71e4d34b078383a9ed622bf61f"
       ],
       "layout": "IPY_MODEL_f93e60f17e5e49c7ae20a3acfc80e072"
      }
     },
     "8e770cd00ef849f3ae205abb7837e286": {
      "model_module": "@jupyter-widgets/base",
      "model_module_version": "1.2.0",
      "model_name": "LayoutModel",
      "state": {}
     },
     "8ea754bc5d004c26be09feb5cef0ec1c": {
      "model_module": "@jupyter-widgets/controls",
      "model_module_version": "1.5.0",
      "model_name": "HBoxModel",
      "state": {
       "children": [
        "IPY_MODEL_b093404aa6964002b727ac5151a54f51",
        "IPY_MODEL_c5d43db82f174bebbb78210b2a12c43f"
       ],
       "layout": "IPY_MODEL_b057a89329ea46069b13297e72b0fb35"
      }
     },
     "8ecc8b3453a54bcfaec625cf6a51f2e4": {
      "model_module": "@jupyter-widgets/controls",
      "model_module_version": "1.5.0",
      "model_name": "DescriptionStyleModel",
      "state": {
       "description_width": ""
      }
     },
     "8ed85649e24242dd9ed305d863f68890": {
      "model_module": "@jupyter-widgets/base",
      "model_module_version": "1.2.0",
      "model_name": "LayoutModel",
      "state": {}
     },
     "8ee82776adf4409fb694ce5eb8efc991": {
      "model_module": "@jupyter-widgets/controls",
      "model_module_version": "1.5.0",
      "model_name": "ProgressStyleModel",
      "state": {
       "description_width": "initial"
      }
     },
     "8ef3b300ea7740ba894b29a191cb28e2": {
      "model_module": "@jupyter-widgets/controls",
      "model_module_version": "1.5.0",
      "model_name": "HTMLModel",
      "state": {
       "layout": "IPY_MODEL_933799dd355b48f4abefcce8ca0f4a68",
       "style": "IPY_MODEL_9e139feedcb24084bd8ca4f3bc436815",
       "value": " 344/344 [03:44&lt;00:00,  1.53it/s, end_loss=0.776, jaccard=0.708, merged_loss=1.01, start_loss=0.834]"
      }
     },
     "8f12ae5c6d1349ebb4c0383c498ef475": {
      "model_module": "@jupyter-widgets/controls",
      "model_module_version": "1.5.0",
      "model_name": "DescriptionStyleModel",
      "state": {
       "description_width": ""
      }
     },
     "8f26e5c255f94153b155aad0d8fb94f8": {
      "model_module": "@jupyter-widgets/base",
      "model_module_version": "1.2.0",
      "model_name": "LayoutModel",
      "state": {}
     },
     "8f289e3a6f044af397de95de49eaf35e": {
      "model_module": "@jupyter-widgets/base",
      "model_module_version": "1.2.0",
      "model_name": "LayoutModel",
      "state": {}
     },
     "8f3c974ebf8345a8a656d504ba67b577": {
      "model_module": "@jupyter-widgets/base",
      "model_module_version": "1.2.0",
      "model_name": "LayoutModel",
      "state": {}
     },
     "8f51f141e83049ef90095f23107b6fa6": {
      "model_module": "@jupyter-widgets/controls",
      "model_module_version": "1.5.0",
      "model_name": "ProgressStyleModel",
      "state": {
       "description_width": "initial"
      }
     },
     "8f5a7156569a41c4ab4618607cf83989": {
      "model_module": "@jupyter-widgets/base",
      "model_module_version": "1.2.0",
      "model_name": "LayoutModel",
      "state": {}
     },
     "8f68c88da0aa4c11a4066b061820b165": {
      "model_module": "@jupyter-widgets/controls",
      "model_module_version": "1.5.0",
      "model_name": "FloatProgressModel",
      "state": {
       "bar_style": "success",
       "description": "100%",
       "layout": "IPY_MODEL_c3b87999c1fb411ea880f86ea4026612",
       "max": 344,
       "style": "IPY_MODEL_50368e1a14ef421ebe11f9c148cb5156",
       "value": 344
      }
     },
     "8f724a4e5fae47aeb546e1232ea89337": {
      "model_module": "@jupyter-widgets/controls",
      "model_module_version": "1.5.0",
      "model_name": "DescriptionStyleModel",
      "state": {
       "description_width": ""
      }
     },
     "8f73652e63d84a65a36fca9f2bdc3167": {
      "model_module": "@jupyter-widgets/controls",
      "model_module_version": "1.5.0",
      "model_name": "HBoxModel",
      "state": {
       "children": [
        "IPY_MODEL_ce1e0bd3ea114564b3d06371b46bdb2e",
        "IPY_MODEL_8d6ea34f12ef4a5590446f65905e13ba"
       ],
       "layout": "IPY_MODEL_84c101304f324cdfbfc350402eca10b4"
      }
     },
     "8f771a013e134f2393e8c66abdc0f52b": {
      "model_module": "@jupyter-widgets/base",
      "model_module_version": "1.2.0",
      "model_name": "LayoutModel",
      "state": {}
     },
     "8fe5e09e172447c888cea1258216072e": {
      "model_module": "@jupyter-widgets/base",
      "model_module_version": "1.2.0",
      "model_name": "LayoutModel",
      "state": {}
     },
     "8ff228006de14a5bb7bce47f2d014a25": {
      "model_module": "@jupyter-widgets/controls",
      "model_module_version": "1.5.0",
      "model_name": "HBoxModel",
      "state": {
       "children": [
        "IPY_MODEL_308063bfb69e4572b9a77c4295f79e49",
        "IPY_MODEL_d8c6f30b97f04ce3adccbdf0f16ee461"
       ],
       "layout": "IPY_MODEL_60408aa3631b4eeaa773de3a0563ff28"
      }
     },
     "9002e1222f3645b7a7ebc4d93052efd9": {
      "model_module": "@jupyter-widgets/controls",
      "model_module_version": "1.5.0",
      "model_name": "HBoxModel",
      "state": {
       "children": [
        "IPY_MODEL_7b3bd563d79148d5b843528f2de07634",
        "IPY_MODEL_61577ca3ca8d4a2ab5e8f2b687fc8a1a"
       ],
       "layout": "IPY_MODEL_f95188b1801348569e3cb351c5bb21c5"
      }
     },
     "900b468802894722aed152fa8de5374b": {
      "model_module": "@jupyter-widgets/base",
      "model_module_version": "1.2.0",
      "model_name": "LayoutModel",
      "state": {}
     },
     "900b910928f54d3d81f92972c1256008": {
      "model_module": "@jupyter-widgets/base",
      "model_module_version": "1.2.0",
      "model_name": "LayoutModel",
      "state": {}
     },
     "9020f980d6ee4035ba587f7d4d11020a": {
      "model_module": "@jupyter-widgets/controls",
      "model_module_version": "1.5.0",
      "model_name": "DescriptionStyleModel",
      "state": {
       "description_width": ""
      }
     },
     "90355ee9baed440794327398c6780a4d": {
      "model_module": "@jupyter-widgets/controls",
      "model_module_version": "1.5.0",
      "model_name": "DescriptionStyleModel",
      "state": {
       "description_width": ""
      }
     },
     "903dc734806042fd8431808d4de8730d": {
      "model_module": "@jupyter-widgets/controls",
      "model_module_version": "1.5.0",
      "model_name": "HBoxModel",
      "state": {
       "children": [
        "IPY_MODEL_1f43ae1d8bdc405fb5a8450f869daeb5",
        "IPY_MODEL_715017a7d4c646a9aedbece2f42588ef"
       ],
       "layout": "IPY_MODEL_1ea7f385598145da9aee63289ff5f691"
      }
     },
     "90456d978739409fbeeb477bd176592f": {
      "model_module": "@jupyter-widgets/controls",
      "model_module_version": "1.5.0",
      "model_name": "ProgressStyleModel",
      "state": {
       "description_width": "initial"
      }
     },
     "905d8431fd3d4ca2b2434d930aa8f492": {
      "model_module": "@jupyter-widgets/controls",
      "model_module_version": "1.5.0",
      "model_name": "FloatProgressModel",
      "state": {
       "bar_style": "success",
       "description": "100%",
       "layout": "IPY_MODEL_f271e013a1354cbf927fca501129ea41",
       "max": 344,
       "style": "IPY_MODEL_aae8a38f8d8b43a288897a78fdf3caf2",
       "value": 344
      }
     },
     "9098fb6c45da4bd5b06a38db58916449": {
      "model_module": "@jupyter-widgets/base",
      "model_module_version": "1.2.0",
      "model_name": "LayoutModel",
      "state": {}
     },
     "90dc012f4d1d49afbcccdd216dae112d": {
      "model_module": "@jupyter-widgets/controls",
      "model_module_version": "1.5.0",
      "model_name": "FloatProgressModel",
      "state": {
       "bar_style": "success",
       "description": "100%",
       "layout": "IPY_MODEL_b9798c0ed3db4dfc9965e45ed5b6eef2",
       "max": 344,
       "style": "IPY_MODEL_30037f8e5ba54cf4b3caf34fbd339dad",
       "value": 344
      }
     },
     "90f1e0b0840347578897c5db7e655a4f": {
      "model_module": "@jupyter-widgets/controls",
      "model_module_version": "1.5.0",
      "model_name": "HTMLModel",
      "state": {
       "layout": "IPY_MODEL_e2f98c9f560d4acebd1656c0bdd08842",
       "style": "IPY_MODEL_05dfa9e5b0e7409ba352a7fe7100ac0d",
       "value": " 344/344 [00:19&lt;00:00, 17.74it/s, end_loss=1.49, jaccard=0.707, start_loss=1.53]"
      }
     },
     "90ff4e1cb6384165828c9554e71372cc": {
      "model_module": "@jupyter-widgets/controls",
      "model_module_version": "1.5.0",
      "model_name": "HBoxModel",
      "state": {
       "children": [
        "IPY_MODEL_e483066cc24e4a29b28b133a459325a2",
        "IPY_MODEL_e23b9f91cab24ccc97f0f2b3602d9652"
       ],
       "layout": "IPY_MODEL_c62d438f102c472997320d5b4922a39a"
      }
     },
     "910be37b76464fd38eea29bec50e5879": {
      "model_module": "@jupyter-widgets/controls",
      "model_module_version": "1.5.0",
      "model_name": "HBoxModel",
      "state": {
       "children": [
        "IPY_MODEL_fb89c8af875e462da4aa623d23caf3b0",
        "IPY_MODEL_a19126e86bca47ba9b722c5119fd8e94"
       ],
       "layout": "IPY_MODEL_41bf656ec42d4342a835836f4fcc832d"
      }
     },
     "9128d27f61ca4e6e94b7c1129ec165d5": {
      "model_module": "@jupyter-widgets/base",
      "model_module_version": "1.2.0",
      "model_name": "LayoutModel",
      "state": {}
     },
     "9149e00164474521b9bc359bb8644ff3": {
      "model_module": "@jupyter-widgets/controls",
      "model_module_version": "1.5.0",
      "model_name": "FloatProgressModel",
      "state": {
       "bar_style": "success",
       "description": "100%",
       "layout": "IPY_MODEL_bb6fbef88dac4b53a85daec9cda7294c",
       "max": 344,
       "style": "IPY_MODEL_34beeb17197e4546a220d289a72c4d20",
       "value": 344
      }
     },
     "91652734f10941f9bd938b0f8ce9db56": {
      "model_module": "@jupyter-widgets/controls",
      "model_module_version": "1.5.0",
      "model_name": "HBoxModel",
      "state": {
       "children": [
        "IPY_MODEL_f17b88ef7ebb42cb98bb9150c122f94c",
        "IPY_MODEL_adfcbad5e42541e7b72707da27f4ad7e"
       ],
       "layout": "IPY_MODEL_83dd612cf4e84a8197e32b1b56d2cf29"
      }
     },
     "919501bcbc8045bfbfe6ea5d42461684": {
      "model_module": "@jupyter-widgets/base",
      "model_module_version": "1.2.0",
      "model_name": "LayoutModel",
      "state": {}
     },
     "91a120ac8ad54c89a1c9ed8ff91606a5": {
      "model_module": "@jupyter-widgets/controls",
      "model_module_version": "1.5.0",
      "model_name": "FloatProgressModel",
      "state": {
       "bar_style": "success",
       "description": "100%",
       "layout": "IPY_MODEL_42170b71aee94d0b830f3efcf0972a5a",
       "max": 344,
       "style": "IPY_MODEL_d5b988a7147d4cc497560671e75cc664",
       "value": 344
      }
     },
     "91c6c8320a2b4ca3bda8efa59fdd4397": {
      "model_module": "@jupyter-widgets/controls",
      "model_module_version": "1.5.0",
      "model_name": "DescriptionStyleModel",
      "state": {
       "description_width": ""
      }
     },
     "91e9690522b444e89d4f81652655d87a": {
      "model_module": "@jupyter-widgets/base",
      "model_module_version": "1.2.0",
      "model_name": "LayoutModel",
      "state": {}
     },
     "91ed707d991b444b8062e3cfa3ac3549": {
      "model_module": "@jupyter-widgets/base",
      "model_module_version": "1.2.0",
      "model_name": "LayoutModel",
      "state": {}
     },
     "91f7e7fd8a3e466d93eb92e23c7f648c": {
      "model_module": "@jupyter-widgets/base",
      "model_module_version": "1.2.0",
      "model_name": "LayoutModel",
      "state": {}
     },
     "9207aa8bc1824a70a8bb30932f3c682f": {
      "model_module": "@jupyter-widgets/controls",
      "model_module_version": "1.5.0",
      "model_name": "DescriptionStyleModel",
      "state": {
       "description_width": ""
      }
     },
     "9226ec89275147bea4498e344c07a895": {
      "model_module": "@jupyter-widgets/controls",
      "model_module_version": "1.5.0",
      "model_name": "ProgressStyleModel",
      "state": {
       "description_width": "initial"
      }
     },
     "9239a9b49fd24f7eb514558525674c43": {
      "model_module": "@jupyter-widgets/controls",
      "model_module_version": "1.5.0",
      "model_name": "ProgressStyleModel",
      "state": {
       "description_width": "initial"
      }
     },
     "9243f7f650884c17ba7026c959f38e61": {
      "model_module": "@jupyter-widgets/controls",
      "model_module_version": "1.5.0",
      "model_name": "HBoxModel",
      "state": {
       "children": [
        "IPY_MODEL_22ec3db14be54be5a5d007b20136606b",
        "IPY_MODEL_1f9e8187befa4012adcd577ba99c9cb2"
       ],
       "layout": "IPY_MODEL_2696ee001cf84bcdb65d954ee158d1c4"
      }
     },
     "92a41f386e1f4fbca13ee3e166b615ac": {
      "model_module": "@jupyter-widgets/controls",
      "model_module_version": "1.5.0",
      "model_name": "HTMLModel",
      "state": {
       "layout": "IPY_MODEL_552c684b78254faca790fea612d78fe3",
       "style": "IPY_MODEL_5524104bd0e143199c24cc73b773748c",
       "value": " 344/344 [05:30&lt;00:00,  1.04it/s, end_loss=1.72, jaccard=0.661, start_loss=1.77]"
      }
     },
     "92bf7e906b9f461db8fb90d713331d3f": {
      "model_module": "@jupyter-widgets/controls",
      "model_module_version": "1.5.0",
      "model_name": "ProgressStyleModel",
      "state": {
       "description_width": "initial"
      }
     },
     "92c83eb6e91640a9b20e4480d9e775a3": {
      "model_module": "@jupyter-widgets/controls",
      "model_module_version": "1.5.0",
      "model_name": "HTMLModel",
      "state": {
       "layout": "IPY_MODEL_7cfab1a56b0842609893738e6b6a4934",
       "style": "IPY_MODEL_b869b586db854d63aad3b9fae4f86b7c",
       "value": " 344/344 [03:54&lt;00:00,  1.47it/s, end_loss=0.812, jaccard=0.765, start_loss=0.857]"
      }
     },
     "92c8f2a996ac477abfd998434aec990c": {
      "model_module": "@jupyter-widgets/controls",
      "model_module_version": "1.5.0",
      "model_name": "DescriptionStyleModel",
      "state": {
       "description_width": ""
      }
     },
     "92e699107f7f419b893ec0284a210d0e": {
      "model_module": "@jupyter-widgets/base",
      "model_module_version": "1.2.0",
      "model_name": "LayoutModel",
      "state": {}
     },
     "92edb437e82a402e8b753d6c22a60d0f": {
      "model_module": "@jupyter-widgets/controls",
      "model_module_version": "1.5.0",
      "model_name": "DescriptionStyleModel",
      "state": {
       "description_width": ""
      }
     },
     "92f4b8d83ab64941a8a061c20a45f5fa": {
      "model_module": "@jupyter-widgets/controls",
      "model_module_version": "1.5.0",
      "model_name": "FloatProgressModel",
      "state": {
       "bar_style": "success",
       "description": "100%",
       "layout": "IPY_MODEL_49dfd6223be54cd5afb87de4ac504892",
       "max": 344,
       "style": "IPY_MODEL_6f36df521671460a83de640ce1f10652",
       "value": 344
      }
     },
     "92f4e72c7084447f8b0bad2252e8367f": {
      "model_module": "@jupyter-widgets/controls",
      "model_module_version": "1.5.0",
      "model_name": "HBoxModel",
      "state": {
       "children": [
        "IPY_MODEL_9827bd4bf8fb47b5badca2646450319b",
        "IPY_MODEL_cbbf5678eec84c6f89f9f4b8f31d4ead"
       ],
       "layout": "IPY_MODEL_24c8dd3c7e75458abd86d25e6ed0a2c0"
      }
     },
     "9301a2d2652b464dae0a541fa3e4c042": {
      "model_module": "@jupyter-widgets/controls",
      "model_module_version": "1.5.0",
      "model_name": "ProgressStyleModel",
      "state": {
       "description_width": "initial"
      }
     },
     "9310e568c6e046318a6fd3e7a3283440": {
      "model_module": "@jupyter-widgets/controls",
      "model_module_version": "1.5.0",
      "model_name": "HTMLModel",
      "state": {
       "layout": "IPY_MODEL_ad3a6c1d34504a4d9b7131f4453cdea5",
       "style": "IPY_MODEL_2e918a7db4a048edbc503f18b26fff9b",
       "value": " 344/344 [1:08:28&lt;00:00, 11.94s/it, end_loss=1.11, jaccard=0.646, start_loss=1.14]"
      }
     },
     "9328ccfecdb84518a0e62c7f8695f5f8": {
      "model_module": "@jupyter-widgets/controls",
      "model_module_version": "1.5.0",
      "model_name": "ProgressStyleModel",
      "state": {
       "description_width": "initial"
      }
     },
     "933799dd355b48f4abefcce8ca0f4a68": {
      "model_module": "@jupyter-widgets/base",
      "model_module_version": "1.2.0",
      "model_name": "LayoutModel",
      "state": {}
     },
     "933dc349dd3541948fc63599ffc2cbce": {
      "model_module": "@jupyter-widgets/base",
      "model_module_version": "1.2.0",
      "model_name": "LayoutModel",
      "state": {}
     },
     "934a3958306a4557a37ffc793895d268": {
      "model_module": "@jupyter-widgets/base",
      "model_module_version": "1.2.0",
      "model_name": "LayoutModel",
      "state": {}
     },
     "9354bbea78214c729f47596fa1ec8b48": {
      "model_module": "@jupyter-widgets/controls",
      "model_module_version": "1.5.0",
      "model_name": "HBoxModel",
      "state": {
       "children": [
        "IPY_MODEL_b027327e1d2f4d758fec4be3e6cbaabc",
        "IPY_MODEL_eea311526c9f42dc8c37217f9de2b10a"
       ],
       "layout": "IPY_MODEL_6496faa6039f465a8de39ca49795875e"
      }
     },
     "9360dcfeff4f460f973e25ae01b25de7": {
      "model_module": "@jupyter-widgets/controls",
      "model_module_version": "1.5.0",
      "model_name": "DescriptionStyleModel",
      "state": {
       "description_width": ""
      }
     },
     "937b8e5341ec47c5a1da1117a11666df": {
      "model_module": "@jupyter-widgets/base",
      "model_module_version": "1.2.0",
      "model_name": "LayoutModel",
      "state": {}
     },
     "93b03c6001534c55a45922d972970489": {
      "model_module": "@jupyter-widgets/base",
      "model_module_version": "1.2.0",
      "model_name": "LayoutModel",
      "state": {}
     },
     "93bbc553180747959d86b698ccdb0ab4": {
      "model_module": "@jupyter-widgets/base",
      "model_module_version": "1.2.0",
      "model_name": "LayoutModel",
      "state": {}
     },
     "93be6accce6e4095a54298bb88600c6b": {
      "model_module": "@jupyter-widgets/base",
      "model_module_version": "1.2.0",
      "model_name": "LayoutModel",
      "state": {}
     },
     "93da10e1f77c4245959bd3f50a811f8c": {
      "model_module": "@jupyter-widgets/controls",
      "model_module_version": "1.5.0",
      "model_name": "DescriptionStyleModel",
      "state": {
       "description_width": ""
      }
     },
     "93de3a4807f344bd9df1b9948f95ef11": {
      "model_module": "@jupyter-widgets/controls",
      "model_module_version": "1.5.0",
      "model_name": "ProgressStyleModel",
      "state": {
       "description_width": "initial"
      }
     },
     "94251ad533b84564a799b2e0cff98d8c": {
      "model_module": "@jupyter-widgets/controls",
      "model_module_version": "1.5.0",
      "model_name": "ProgressStyleModel",
      "state": {
       "description_width": "initial"
      }
     },
     "944a21fa43884ca69d7a018c8bc46b58": {
      "model_module": "@jupyter-widgets/controls",
      "model_module_version": "1.5.0",
      "model_name": "HBoxModel",
      "state": {
       "children": [
        "IPY_MODEL_f0c6ab7df48d4632be920c79e1ec16d5",
        "IPY_MODEL_2e236376730c4f5aae842512e44a05ed"
       ],
       "layout": "IPY_MODEL_ac52c1e23534430b9bab7d1e71725797"
      }
     },
     "9464959c62bd403da51a0eae6f78dd50": {
      "model_module": "@jupyter-widgets/controls",
      "model_module_version": "1.5.0",
      "model_name": "HTMLModel",
      "state": {
       "layout": "IPY_MODEL_35b8ee200c58466095dbc6de9e32b7eb",
       "style": "IPY_MODEL_de0d04c86c244798a79da040872aa8ca",
       "value": " 344/344 [1:28:36&lt;00:00, 15.45s/it, end_loss=0.981, jaccard=0.715, start_loss=1]"
      }
     },
     "946eb145501c44cfa7d1c6d987472360": {
      "model_module": "@jupyter-widgets/base",
      "model_module_version": "1.2.0",
      "model_name": "LayoutModel",
      "state": {}
     },
     "94a162c697414c429bc7855b200fcfbd": {
      "model_module": "@jupyter-widgets/controls",
      "model_module_version": "1.5.0",
      "model_name": "ProgressStyleModel",
      "state": {
       "description_width": "initial"
      }
     },
     "94d961a824ae449cba93920ddeb4169b": {
      "model_module": "@jupyter-widgets/base",
      "model_module_version": "1.2.0",
      "model_name": "LayoutModel",
      "state": {}
     },
     "94faa29341a64331a37c57181fa6af6f": {
      "model_module": "@jupyter-widgets/controls",
      "model_module_version": "1.5.0",
      "model_name": "FloatProgressModel",
      "state": {
       "bar_style": "success",
       "description": "100%",
       "layout": "IPY_MODEL_bb20a03000074a7a907dc5549e3db21d",
       "max": 344,
       "style": "IPY_MODEL_35a17ab563c741d48f08b4040aa3ffde",
       "value": 344
      }
     },
     "954a134b3c424c798c5e69a554fb15f0": {
      "model_module": "@jupyter-widgets/controls",
      "model_module_version": "1.5.0",
      "model_name": "HTMLModel",
      "state": {
       "layout": "IPY_MODEL_d8b9bb594b6f417d8c181bd509a268e9",
       "style": "IPY_MODEL_be16cce9b54345c9b7cb6e124d363c1e",
       "value": " 344/344 [00:19&lt;00:00, 17.75it/s, end_loss=0.786, jaccard=0.702, start_loss=0.845]"
      }
     },
     "956b433841cb4a8b91b387e30261191d": {
      "model_module": "@jupyter-widgets/base",
      "model_module_version": "1.2.0",
      "model_name": "LayoutModel",
      "state": {}
     },
     "956c30cc1f8441b9940ef57800da5a5d": {
      "model_module": "@jupyter-widgets/base",
      "model_module_version": "1.2.0",
      "model_name": "LayoutModel",
      "state": {}
     },
     "957c45f8a52b47a882a2702aab3d1009": {
      "model_module": "@jupyter-widgets/base",
      "model_module_version": "1.2.0",
      "model_name": "LayoutModel",
      "state": {}
     },
     "958f1c6d1985447fb7a31ef874ac7600": {
      "model_module": "@jupyter-widgets/base",
      "model_module_version": "1.2.0",
      "model_name": "LayoutModel",
      "state": {}
     },
     "959e976a3d9a4a98830b376964b2cbdb": {
      "model_module": "@jupyter-widgets/controls",
      "model_module_version": "1.5.0",
      "model_name": "FloatProgressModel",
      "state": {
       "bar_style": "success",
       "description": "100%",
       "layout": "IPY_MODEL_9f65d53b096e422e82405d79515a18de",
       "max": 344,
       "style": "IPY_MODEL_1ac5600364944d7b9a70e4aa84b9e81a",
       "value": 344
      }
     },
     "95a9527b3b0a40c28be0e7901c3a405e": {
      "model_module": "@jupyter-widgets/base",
      "model_module_version": "1.2.0",
      "model_name": "LayoutModel",
      "state": {}
     },
     "95ab830e6cd74d588c567061ea2c0eed": {
      "model_module": "@jupyter-widgets/controls",
      "model_module_version": "1.5.0",
      "model_name": "HTMLModel",
      "state": {
       "layout": "IPY_MODEL_12bfa02433a442f9bbb69315c6f729db",
       "style": "IPY_MODEL_7e7acb455b49451c9a95e63b237f89b6",
       "value": " 344/344 [1:17:15&lt;00:00, 13.47s/it, end_loss=0.863, jaccard=0.743, start_loss=0.923]"
      }
     },
     "95b15f4c9dcc44a68bfd58c5272ca814": {
      "model_module": "@jupyter-widgets/controls",
      "model_module_version": "1.5.0",
      "model_name": "DescriptionStyleModel",
      "state": {
       "description_width": ""
      }
     },
     "95bdf1ff6d524a8fb9a5006fbc0df4c4": {
      "model_module": "@jupyter-widgets/controls",
      "model_module_version": "1.5.0",
      "model_name": "FloatProgressModel",
      "state": {
       "bar_style": "success",
       "description": "100%",
       "layout": "IPY_MODEL_03c09f84a0724a54b183a8ce5fd7df28",
       "max": 344,
       "style": "IPY_MODEL_66333dbf6de14bd08fe8f58e82f7c91a",
       "value": 344
      }
     },
     "95c39c6f38f14d0d986d1c5a62892d61": {
      "model_module": "@jupyter-widgets/controls",
      "model_module_version": "1.5.0",
      "model_name": "ProgressStyleModel",
      "state": {
       "description_width": "initial"
      }
     },
     "95da7758caf64c74a13a70ba44fce826": {
      "model_module": "@jupyter-widgets/base",
      "model_module_version": "1.2.0",
      "model_name": "LayoutModel",
      "state": {}
     },
     "96006847b64f4be8842ed843dbdbdc07": {
      "model_module": "@jupyter-widgets/base",
      "model_module_version": "1.2.0",
      "model_name": "LayoutModel",
      "state": {}
     },
     "962f65489e7d40499ed5b58566d8c2c2": {
      "model_module": "@jupyter-widgets/controls",
      "model_module_version": "1.5.0",
      "model_name": "HTMLModel",
      "state": {
       "layout": "IPY_MODEL_07cc51d513ab42b384a401127892f359",
       "style": "IPY_MODEL_e62a6c3c0f114208810e15ad7060902d",
       "value": " 344/344 [00:32&lt;00:00, 10.44it/s, end_loss=0.89, jaccard=0.708, start_loss=0.943]"
      }
     },
     "96600b59bcb94faca8741cc0260ae52c": {
      "model_module": "@jupyter-widgets/base",
      "model_module_version": "1.2.0",
      "model_name": "LayoutModel",
      "state": {}
     },
     "966334597b194739bc82446d98281672": {
      "model_module": "@jupyter-widgets/base",
      "model_module_version": "1.2.0",
      "model_name": "LayoutModel",
      "state": {}
     },
     "967efdf5340246a1904a5f737035fee2": {
      "model_module": "@jupyter-widgets/base",
      "model_module_version": "1.2.0",
      "model_name": "LayoutModel",
      "state": {}
     },
     "968313759e70494d83fe350be01e59f0": {
      "model_module": "@jupyter-widgets/base",
      "model_module_version": "1.2.0",
      "model_name": "LayoutModel",
      "state": {}
     },
     "96a672d3921b418693f86ebd82bfba67": {
      "model_module": "@jupyter-widgets/base",
      "model_module_version": "1.2.0",
      "model_name": "LayoutModel",
      "state": {}
     },
     "96a76a41efed4b18a343972e595d34c4": {
      "model_module": "@jupyter-widgets/controls",
      "model_module_version": "1.5.0",
      "model_name": "HBoxModel",
      "state": {
       "children": [
        "IPY_MODEL_7168eadc088c4316be8334cca789b2d7",
        "IPY_MODEL_1a4676d615e44d43b2206e6e5339eefd"
       ],
       "layout": "IPY_MODEL_5256b8689b9843c9b7a0eec05f37f446"
      }
     },
     "96bf90661c4241109428f30cede2509b": {
      "model_module": "@jupyter-widgets/controls",
      "model_module_version": "1.5.0",
      "model_name": "FloatProgressModel",
      "state": {
       "bar_style": "success",
       "description": "100%",
       "layout": "IPY_MODEL_dd822858dbad45419c3c4cf9ba1045b7",
       "max": 344,
       "style": "IPY_MODEL_13012fa710b24bfbbfdf49e2788b1ae4",
       "value": 344
      }
     },
     "96cd92e8a8c943dbb9648f3b45b02b0a": {
      "model_module": "@jupyter-widgets/base",
      "model_module_version": "1.2.0",
      "model_name": "LayoutModel",
      "state": {}
     },
     "96dcbf8a225d45e5a8321cd2355d1a65": {
      "model_module": "@jupyter-widgets/controls",
      "model_module_version": "1.5.0",
      "model_name": "HBoxModel",
      "state": {
       "children": [
        "IPY_MODEL_587623eaf0914c629ca1de92b062ca03",
        "IPY_MODEL_f2e14cd2251c4bce8c9f92cf0f2daa64"
       ],
       "layout": "IPY_MODEL_89b2af7f1a1642eba9fd05da58b68164"
      }
     },
     "96e465df34ac48d39fd5ba642a439cc1": {
      "model_module": "@jupyter-widgets/controls",
      "model_module_version": "1.5.0",
      "model_name": "HTMLModel",
      "state": {
       "layout": "IPY_MODEL_6d85013fa413471e92cb9319ee664139",
       "style": "IPY_MODEL_e697c56b03b64b9bb6a82764e313560a",
       "value": " 344/344 [00:19&lt;00:00, 17.80it/s, end_loss=1.46, jaccard=0.711, start_loss=1.52]"
      }
     },
     "972edb7294db4e60865a475aab581842": {
      "model_module": "@jupyter-widgets/controls",
      "model_module_version": "1.5.0",
      "model_name": "ProgressStyleModel",
      "state": {
       "description_width": "initial"
      }
     },
     "975078dad7024460b90c5a24ad9e1fc0": {
      "model_module": "@jupyter-widgets/controls",
      "model_module_version": "1.5.0",
      "model_name": "DescriptionStyleModel",
      "state": {
       "description_width": ""
      }
     },
     "9767fa412df34bc08c86cefd0c5ce1c5": {
      "model_module": "@jupyter-widgets/base",
      "model_module_version": "1.2.0",
      "model_name": "LayoutModel",
      "state": {}
     },
     "9792abd5b40b42c79eddbfafab1592a9": {
      "model_module": "@jupyter-widgets/controls",
      "model_module_version": "1.5.0",
      "model_name": "FloatProgressModel",
      "state": {
       "bar_style": "success",
       "description": "100%",
       "layout": "IPY_MODEL_39a25cb8e1a644e1bf934af909523a65",
       "max": 344,
       "style": "IPY_MODEL_c7ce828761f3496db81c368795e6293d",
       "value": 344
      }
     },
     "97a91347283a4475acabe240686d020d": {
      "model_module": "@jupyter-widgets/controls",
      "model_module_version": "1.5.0",
      "model_name": "ProgressStyleModel",
      "state": {
       "description_width": "initial"
      }
     },
     "97af1751777448e986b219275ee8dfca": {
      "model_module": "@jupyter-widgets/controls",
      "model_module_version": "1.5.0",
      "model_name": "DescriptionStyleModel",
      "state": {
       "description_width": ""
      }
     },
     "97b6341c6b9846129118b3982331cecd": {
      "model_module": "@jupyter-widgets/controls",
      "model_module_version": "1.5.0",
      "model_name": "HTMLModel",
      "state": {
       "layout": "IPY_MODEL_0e5dfe089f0940efba3859c1d4288eb8",
       "style": "IPY_MODEL_04fb562ce67c4ac986ab1b57c601eab4",
       "value": " 344/344 [05:26&lt;00:00,  1.05it/s, end_loss=1.27, jaccard=0.621, start_loss=1.24]"
      }
     },
     "97b69920a01746b79109fe2ad141c1ba": {
      "model_module": "@jupyter-widgets/controls",
      "model_module_version": "1.5.0",
      "model_name": "FloatProgressModel",
      "state": {
       "bar_style": "success",
       "description": "100%",
       "layout": "IPY_MODEL_87dec48024794d4dacbb858951af4f28",
       "max": 344,
       "style": "IPY_MODEL_68a1213318e045f3bb15bdbde84c0abd",
       "value": 344
      }
     },
     "97bb5de4087744e8816df51470764ef8": {
      "model_module": "@jupyter-widgets/controls",
      "model_module_version": "1.5.0",
      "model_name": "FloatProgressModel",
      "state": {
       "bar_style": "success",
       "description": "100%",
       "layout": "IPY_MODEL_6b0963d9db1646058b6c7dc9a9f6d3b7",
       "max": 344,
       "style": "IPY_MODEL_012d4d2f1e5c49399fe6f0795e633488",
       "value": 344
      }
     },
     "97c6dd13ad8e451799db44170b7090ab": {
      "model_module": "@jupyter-widgets/controls",
      "model_module_version": "1.5.0",
      "model_name": "HTMLModel",
      "state": {
       "layout": "IPY_MODEL_1f6b6f18ad5542519e420367028cf32a",
       "style": "IPY_MODEL_a2849999f72e42209ed880de59347e4a",
       "value": " 344/344 [03:47&lt;00:00,  1.51it/s, end_loss=0.65, jaccard=0.739, merged_loss=0.995, start_loss=0.709]"
      }
     },
     "97db54e4c5d14cc1b3032a123e420918": {
      "model_module": "@jupyter-widgets/controls",
      "model_module_version": "1.5.0",
      "model_name": "HBoxModel",
      "state": {
       "children": [
        "IPY_MODEL_33fbfff79b2a40be8c3a398bc68abe40",
        "IPY_MODEL_4cf217deac9f4f79b4d7f0008f0efc5b"
       ],
       "layout": "IPY_MODEL_559a8f55ec4546e789c4d0e0e2e015e1"
      }
     },
     "97e4bba6ee454c7cadd1e70f33fc4b9c": {
      "model_module": "@jupyter-widgets/controls",
      "model_module_version": "1.5.0",
      "model_name": "FloatProgressModel",
      "state": {
       "bar_style": "success",
       "description": "100%",
       "layout": "IPY_MODEL_f5feb48a486c4fc7af134b8ae8dbd936",
       "max": 344,
       "style": "IPY_MODEL_db2d004f73904324811d926de4169efe",
       "value": 344
      }
     },
     "97ecab3ee5cc4244815919350a977c3b": {
      "model_module": "@jupyter-widgets/controls",
      "model_module_version": "1.5.0",
      "model_name": "ProgressStyleModel",
      "state": {
       "description_width": "initial"
      }
     },
     "9827bd4bf8fb47b5badca2646450319b": {
      "model_module": "@jupyter-widgets/controls",
      "model_module_version": "1.5.0",
      "model_name": "FloatProgressModel",
      "state": {
       "bar_style": "success",
       "description": "100%",
       "layout": "IPY_MODEL_d77abd671cba445abf5a30dabc03f190",
       "max": 344,
       "style": "IPY_MODEL_0aacdac0a30c4098af07a6b44487b9c2",
       "value": 344
      }
     },
     "9836295f81b9465e9b993b0ad93f39ff": {
      "model_module": "@jupyter-widgets/base",
      "model_module_version": "1.2.0",
      "model_name": "LayoutModel",
      "state": {}
     },
     "983d1413b1b8482aa78ba1251a4ed3b0": {
      "model_module": "@jupyter-widgets/controls",
      "model_module_version": "1.5.0",
      "model_name": "FloatProgressModel",
      "state": {
       "bar_style": "success",
       "description": "100%",
       "layout": "IPY_MODEL_2d61c405098f40a8ab0df57ed2cd3708",
       "max": 344,
       "style": "IPY_MODEL_03d9555e4e414aa2a44b32a9d2680da1",
       "value": 344
      }
     },
     "986b32f4db5b4db78a4a12f8a2de907d": {
      "model_module": "@jupyter-widgets/controls",
      "model_module_version": "1.5.0",
      "model_name": "DescriptionStyleModel",
      "state": {
       "description_width": ""
      }
     },
     "9870a4e13b3f4beea3b62da1db724511": {
      "model_module": "@jupyter-widgets/controls",
      "model_module_version": "1.5.0",
      "model_name": "DescriptionStyleModel",
      "state": {
       "description_width": ""
      }
     },
     "988f7be258004c1e98c1cd78916a72a5": {
      "model_module": "@jupyter-widgets/controls",
      "model_module_version": "1.5.0",
      "model_name": "HTMLModel",
      "state": {
       "layout": "IPY_MODEL_96a672d3921b418693f86ebd82bfba67",
       "style": "IPY_MODEL_7681eb84fe3b4cfd98238a6459ab557a",
       "value": " 344/344 [00:21&lt;00:00, 16.36it/s, end_loss=0.809, jaccard=0.707, start_loss=0.859]"
      }
     },
     "9896e9cb4e134999bd3daee34f025b1a": {
      "model_module": "@jupyter-widgets/controls",
      "model_module_version": "1.5.0",
      "model_name": "HTMLModel",
      "state": {
       "layout": "IPY_MODEL_74d36aabe01a4730a976d559746aa4f3",
       "style": "IPY_MODEL_185603991cbe43d6acaba2e9ede354b9",
       "value": " 344/344 [14:04&lt;00:00,  2.45s/it, end_loss=1.77, jaccard=0.655, start_loss=1.8]"
      }
     },
     "98ac3dbcea1043f89e5a970bd6462bb9": {
      "model_module": "@jupyter-widgets/controls",
      "model_module_version": "1.5.0",
      "model_name": "HTMLModel",
      "state": {
       "layout": "IPY_MODEL_3eac90c4305040bfa230d8e024c53a1c",
       "style": "IPY_MODEL_9cee07c7e1c64e2b847068e0b731d4d8",
       "value": " 344/344 [03:32&lt;00:00,  1.62it/s, end_loss=1.01, jaccard=0.667, start_loss=1.06]"
      }
     },
     "98d1b3f03441454e9b36f1e95c3739eb": {
      "model_module": "@jupyter-widgets/controls",
      "model_module_version": "1.5.0",
      "model_name": "ProgressStyleModel",
      "state": {
       "description_width": "initial"
      }
     },
     "98f4df13fe4d41a29872bcf325f620c2": {
      "model_module": "@jupyter-widgets/controls",
      "model_module_version": "1.5.0",
      "model_name": "HTMLModel",
      "state": {
       "layout": "IPY_MODEL_2400522797314f568aab44d34f0f0a50",
       "style": "IPY_MODEL_7558a28d012e4f58a417691fc3404ea4",
       "value": " 344/344 [00:19&lt;00:00, 17.60it/s, end_loss=0.823, jaccard=0.704, merged_loss=0.997, start_loss=0.834]"
      }
     },
     "990a44db5535423f8c128ef95a14f95b": {
      "model_module": "@jupyter-widgets/base",
      "model_module_version": "1.2.0",
      "model_name": "LayoutModel",
      "state": {}
     },
     "992d314190054fab860b481c2d6093a4": {
      "model_module": "@jupyter-widgets/base",
      "model_module_version": "1.2.0",
      "model_name": "LayoutModel",
      "state": {}
     },
     "995a6d01758d4d5b8a5cf7b4db1a20c3": {
      "model_module": "@jupyter-widgets/controls",
      "model_module_version": "1.5.0",
      "model_name": "DescriptionStyleModel",
      "state": {
       "description_width": ""
      }
     },
     "997e8b31ff00409f938f6fb596d75bd7": {
      "model_module": "@jupyter-widgets/base",
      "model_module_version": "1.2.0",
      "model_name": "LayoutModel",
      "state": {}
     },
     "999189df4f19494ba06f06b1bd2e5e28": {
      "model_module": "@jupyter-widgets/controls",
      "model_module_version": "1.5.0",
      "model_name": "HBoxModel",
      "state": {
       "children": [
        "IPY_MODEL_2c4e1c49abd349d0a97976e9ed68cffe",
        "IPY_MODEL_39cd6709b30a4e9cb8d9307fda1230f3"
       ],
       "layout": "IPY_MODEL_65e09980419749e4be82cd71b20b59bc"
      }
     },
     "9998ea3ad00245f28a68899da9618a28": {
      "model_module": "@jupyter-widgets/controls",
      "model_module_version": "1.5.0",
      "model_name": "DescriptionStyleModel",
      "state": {
       "description_width": ""
      }
     },
     "9a04e1fb8a2c4fe0bb1d40df91de92ab": {
      "model_module": "@jupyter-widgets/base",
      "model_module_version": "1.2.0",
      "model_name": "LayoutModel",
      "state": {}
     },
     "9a3a18ea34e7446f90ffa2875cedfdce": {
      "model_module": "@jupyter-widgets/controls",
      "model_module_version": "1.5.0",
      "model_name": "DescriptionStyleModel",
      "state": {
       "description_width": ""
      }
     },
     "9a6b87381d784c9891f6281af18a8547": {
      "model_module": "@jupyter-widgets/controls",
      "model_module_version": "1.5.0",
      "model_name": "DescriptionStyleModel",
      "state": {
       "description_width": ""
      }
     },
     "9a76061a26044ffda9b27f7b3125f431": {
      "model_module": "@jupyter-widgets/controls",
      "model_module_version": "1.5.0",
      "model_name": "DescriptionStyleModel",
      "state": {
       "description_width": ""
      }
     },
     "9a8c792f73234bcb8fc7adbb2d9be0b9": {
      "model_module": "@jupyter-widgets/controls",
      "model_module_version": "1.5.0",
      "model_name": "ProgressStyleModel",
      "state": {
       "description_width": "initial"
      }
     },
     "9aa2092523f54ee1b78e972c3b0e6294": {
      "model_module": "@jupyter-widgets/base",
      "model_module_version": "1.2.0",
      "model_name": "LayoutModel",
      "state": {}
     },
     "9af2d06f3f5645f0a4f9999a1e466120": {
      "model_module": "@jupyter-widgets/controls",
      "model_module_version": "1.5.0",
      "model_name": "HTMLModel",
      "state": {
       "layout": "IPY_MODEL_581279fa5d034a28b4bf5bab1e030e3c",
       "style": "IPY_MODEL_95b15f4c9dcc44a68bfd58c5272ca814",
       "value": " 344/344 [06:58&lt;00:00,  1.22s/it, end_loss=1.07, jaccard=0.652, start_loss=1.11]"
      }
     },
     "9b0cca04475648bbad35f1ac6989c0cb": {
      "model_module": "@jupyter-widgets/controls",
      "model_module_version": "1.5.0",
      "model_name": "FloatProgressModel",
      "state": {
       "bar_style": "success",
       "description": "100%",
       "layout": "IPY_MODEL_315bb7dfb7aa417d8dc05ecd6fb09293",
       "max": 344,
       "style": "IPY_MODEL_dc7d0f205ce94ba99cff7428d91a3cc8",
       "value": 344
      }
     },
     "9b1313066ae340b7ae4e6d79994d8a5b": {
      "model_module": "@jupyter-widgets/base",
      "model_module_version": "1.2.0",
      "model_name": "LayoutModel",
      "state": {}
     },
     "9b1cc47fb28e4f1fad0abf4e84161949": {
      "model_module": "@jupyter-widgets/controls",
      "model_module_version": "1.5.0",
      "model_name": "HTMLModel",
      "state": {
       "layout": "IPY_MODEL_ac7abc3854154ddbaeadb4ba4bda2fd7",
       "style": "IPY_MODEL_38d0004bda214556a53683e4c342f4bf",
       "value": " 344/344 [37:04&lt;00:00,  6.47s/it, end_loss=1.07, jaccard=0.65, merged_loss=1.03, start_loss=1.05]"
      }
     },
     "9b28bf23b0464501850e947301b9566a": {
      "model_module": "@jupyter-widgets/base",
      "model_module_version": "1.2.0",
      "model_name": "LayoutModel",
      "state": {}
     },
     "9b47cf9d9a8f48ccb1b5afc77fa24f11": {
      "model_module": "@jupyter-widgets/controls",
      "model_module_version": "1.5.0",
      "model_name": "ProgressStyleModel",
      "state": {
       "description_width": "initial"
      }
     },
     "9b57943ff94647e3946faa0abcfbb279": {
      "model_module": "@jupyter-widgets/controls",
      "model_module_version": "1.5.0",
      "model_name": "DescriptionStyleModel",
      "state": {
       "description_width": ""
      }
     },
     "9b68dda5e18341a2bc34433cdaf793a2": {
      "model_module": "@jupyter-widgets/controls",
      "model_module_version": "1.5.0",
      "model_name": "HTMLModel",
      "state": {
       "layout": "IPY_MODEL_1944a331a1884e6fb31958c30a650c81",
       "style": "IPY_MODEL_a8f685a2957c42ef9b315ad403ddabd7",
       "value": " 344/344 [40:21&lt;00:00,  7.04s/it, end_loss=0.994, jaccard=0.668, start_loss=1.02]"
      }
     },
     "9b8b25fe333543cabb955857a06a3f4d": {
      "model_module": "@jupyter-widgets/base",
      "model_module_version": "1.2.0",
      "model_name": "LayoutModel",
      "state": {}
     },
     "9babb39999c44806add2942c96726c15": {
      "model_module": "@jupyter-widgets/controls",
      "model_module_version": "1.5.0",
      "model_name": "HBoxModel",
      "state": {
       "children": [
        "IPY_MODEL_85192db7ea42492fae1ae6eea31cc8d8",
        "IPY_MODEL_4285d10629984eee90354002983c8e86"
       ],
       "layout": "IPY_MODEL_937b8e5341ec47c5a1da1117a11666df"
      }
     },
     "9bfaa8384ed44aa5bd6e3db007d2c076": {
      "model_module": "@jupyter-widgets/base",
      "model_module_version": "1.2.0",
      "model_name": "LayoutModel",
      "state": {}
     },
     "9c179c2a1eb642b3a489adcca645fb71": {
      "model_module": "@jupyter-widgets/controls",
      "model_module_version": "1.5.0",
      "model_name": "HTMLModel",
      "state": {
       "layout": "IPY_MODEL_1cd3a858920d4e56bdd7a68586c8ff7f",
       "style": "IPY_MODEL_07c0227bdcd244d189d20f593c939902",
       "value": " 344/344 [05:27&lt;00:00,  1.05it/s, end_loss=0.963, jaccard=0.673, start_loss=1.01]"
      }
     },
     "9c27e8db14404093bf9f02acb5e43b4e": {
      "model_module": "@jupyter-widgets/controls",
      "model_module_version": "1.5.0",
      "model_name": "FloatProgressModel",
      "state": {
       "bar_style": "success",
       "description": "100%",
       "layout": "IPY_MODEL_4107bb7467364749b4fd85b54c00c8c4",
       "max": 344,
       "style": "IPY_MODEL_95c39c6f38f14d0d986d1c5a62892d61",
       "value": 344
      }
     },
     "9c4bf73c976b4b11a3bbaf1dc5d3a32c": {
      "model_module": "@jupyter-widgets/controls",
      "model_module_version": "1.5.0",
      "model_name": "FloatProgressModel",
      "state": {
       "bar_style": "success",
       "description": "100%",
       "layout": "IPY_MODEL_d30447b8a8c848b8a6be9a13e0dc84f7",
       "max": 344,
       "style": "IPY_MODEL_c9ddb97dcc4148dd9bc5f89ded172222",
       "value": 344
      }
     },
     "9c55916219a64b44963d909beb5d6e1c": {
      "model_module": "@jupyter-widgets/controls",
      "model_module_version": "1.5.0",
      "model_name": "FloatProgressModel",
      "state": {
       "description": " 92%",
       "layout": "IPY_MODEL_3a32029ba7314948997b89fd80987c84",
       "max": 344,
       "style": "IPY_MODEL_9e6c15771b534d50992dc7eb0856b91c",
       "value": 318
      }
     },
     "9c6301cc1663485391028a97ed78293a": {
      "model_module": "@jupyter-widgets/base",
      "model_module_version": "1.2.0",
      "model_name": "LayoutModel",
      "state": {}
     },
     "9c772016d46c4e8d8638f544979f4944": {
      "model_module": "@jupyter-widgets/base",
      "model_module_version": "1.2.0",
      "model_name": "LayoutModel",
      "state": {}
     },
     "9c7cb21b5c57438abecd05a5b8b5f288": {
      "model_module": "@jupyter-widgets/controls",
      "model_module_version": "1.5.0",
      "model_name": "DescriptionStyleModel",
      "state": {
       "description_width": ""
      }
     },
     "9cc6d18b39f847a7929a82b34f6e4a0d": {
      "model_module": "@jupyter-widgets/base",
      "model_module_version": "1.2.0",
      "model_name": "LayoutModel",
      "state": {}
     },
     "9ce571d7511740e0b831dd09c8c0eaff": {
      "model_module": "@jupyter-widgets/base",
      "model_module_version": "1.2.0",
      "model_name": "LayoutModel",
      "state": {}
     },
     "9cee07c7e1c64e2b847068e0b731d4d8": {
      "model_module": "@jupyter-widgets/controls",
      "model_module_version": "1.5.0",
      "model_name": "DescriptionStyleModel",
      "state": {
       "description_width": ""
      }
     },
     "9cf2923cf99541e7b9f8e9ffc06dbc69": {
      "model_module": "@jupyter-widgets/controls",
      "model_module_version": "1.5.0",
      "model_name": "HTMLModel",
      "state": {
       "layout": "IPY_MODEL_61498e932f094f89a85ebbecf3cb31a4",
       "style": "IPY_MODEL_7c5ac5641e474fa3a3300da8b1001113",
       "value": " 344/344 [1:01:28&lt;00:00, 10.72s/it, end_loss=1, jaccard=0.671, start_loss=1.04]"
      }
     },
     "9d0921d90edf43e89e405ba1856d7875": {
      "model_module": "@jupyter-widgets/base",
      "model_module_version": "1.2.0",
      "model_name": "LayoutModel",
      "state": {}
     },
     "9d14ebe0f82546689a1203f3f7fb0c1a": {
      "model_module": "@jupyter-widgets/controls",
      "model_module_version": "1.5.0",
      "model_name": "DescriptionStyleModel",
      "state": {
       "description_width": ""
      }
     },
     "9d23d29b23544a949479a4ed538b0c73": {
      "model_module": "@jupyter-widgets/controls",
      "model_module_version": "1.5.0",
      "model_name": "ProgressStyleModel",
      "state": {
       "description_width": "initial"
      }
     },
     "9d2b36eff2044991b176d349d9e0bb52": {
      "model_module": "@jupyter-widgets/controls",
      "model_module_version": "1.5.0",
      "model_name": "FloatProgressModel",
      "state": {
       "bar_style": "success",
       "description": "100%",
       "layout": "IPY_MODEL_753383f67c174e30a7176c0d879daef3",
       "max": 344,
       "style": "IPY_MODEL_ecce740d12214bc2b8df8c06476af33a",
       "value": 344
      }
     },
     "9d338321b1174cf1b20a916fe9ed8ee7": {
      "model_module": "@jupyter-widgets/controls",
      "model_module_version": "1.5.0",
      "model_name": "DescriptionStyleModel",
      "state": {
       "description_width": ""
      }
     },
     "9d3d62c3b4234004b9bf774ccae18b43": {
      "model_module": "@jupyter-widgets/controls",
      "model_module_version": "1.5.0",
      "model_name": "DescriptionStyleModel",
      "state": {
       "description_width": ""
      }
     },
     "9d58fe88fed74457b230359f1985d3c3": {
      "model_module": "@jupyter-widgets/controls",
      "model_module_version": "1.5.0",
      "model_name": "FloatProgressModel",
      "state": {
       "bar_style": "success",
       "description": "100%",
       "layout": "IPY_MODEL_5f7e93847bf04cc2b0c91c3562f3025b",
       "max": 344,
       "style": "IPY_MODEL_213802b8fc9f4ae5a5e0209ccc8eba5c",
       "value": 344
      }
     },
     "9d7e85cd9cd74d4abb099a9d93645f4e": {
      "model_module": "@jupyter-widgets/base",
      "model_module_version": "1.2.0",
      "model_name": "LayoutModel",
      "state": {}
     },
     "9d88f48df4ef4fb09664ac8bf4e94eb3": {
      "model_module": "@jupyter-widgets/base",
      "model_module_version": "1.2.0",
      "model_name": "LayoutModel",
      "state": {}
     },
     "9d8b330184344799bf6f72057bd63366": {
      "model_module": "@jupyter-widgets/base",
      "model_module_version": "1.2.0",
      "model_name": "LayoutModel",
      "state": {}
     },
     "9dad1be953d541a59be99b43a259b9de": {
      "model_module": "@jupyter-widgets/base",
      "model_module_version": "1.2.0",
      "model_name": "LayoutModel",
      "state": {}
     },
     "9db3abf4daf04065aa45b5a911559408": {
      "model_module": "@jupyter-widgets/controls",
      "model_module_version": "1.5.0",
      "model_name": "FloatProgressModel",
      "state": {
       "bar_style": "success",
       "description": "100%",
       "layout": "IPY_MODEL_0be50e8780c24c3eb14dbb3f28db8692",
       "max": 344,
       "style": "IPY_MODEL_0a89abee609a4d89b10b5f8badfe0373",
       "value": 344
      }
     },
     "9dd76cdf4eca4757928d7d6bfb612676": {
      "model_module": "@jupyter-widgets/controls",
      "model_module_version": "1.5.0",
      "model_name": "FloatProgressModel",
      "state": {
       "description": " 24%",
       "layout": "IPY_MODEL_70f29fe3b52747b0a91388dca8fb9b3e",
       "max": 344,
       "style": "IPY_MODEL_b755163308a54bf59d48266299957735",
       "value": 81
      }
     },
     "9de662678638486a8d255dc1c73b4cad": {
      "model_module": "@jupyter-widgets/controls",
      "model_module_version": "1.5.0",
      "model_name": "HBoxModel",
      "state": {
       "children": [
        "IPY_MODEL_03a5bfb968f94a3b8c1d3180afcc0677",
        "IPY_MODEL_d1606a626df649dfa175a8da4585fb30"
       ],
       "layout": "IPY_MODEL_33bcecdebe554905b8b3b5b3f3aed677"
      }
     },
     "9de892e4e08147078c22b10a8ab65bb8": {
      "model_module": "@jupyter-widgets/controls",
      "model_module_version": "1.5.0",
      "model_name": "ProgressStyleModel",
      "state": {
       "description_width": "initial"
      }
     },
     "9dee78ee3c8c4d52a0f086b1ea6cd6df": {
      "model_module": "@jupyter-widgets/controls",
      "model_module_version": "1.5.0",
      "model_name": "DescriptionStyleModel",
      "state": {
       "description_width": ""
      }
     },
     "9df5ee07b823492a830a500e80c3c7c9": {
      "model_module": "@jupyter-widgets/controls",
      "model_module_version": "1.5.0",
      "model_name": "ProgressStyleModel",
      "state": {
       "description_width": "initial"
      }
     },
     "9e136fd419df4d2d987e52635ea45af0": {
      "model_module": "@jupyter-widgets/controls",
      "model_module_version": "1.5.0",
      "model_name": "HBoxModel",
      "state": {
       "children": [
        "IPY_MODEL_b9f31a98d0c943caab2e3c87bc54630e",
        "IPY_MODEL_01c673d2b2e04bbda3c24bb90b637768"
       ],
       "layout": "IPY_MODEL_2717ea7e0e394d4c9bbab78622231e7b"
      }
     },
     "9e139feedcb24084bd8ca4f3bc436815": {
      "model_module": "@jupyter-widgets/controls",
      "model_module_version": "1.5.0",
      "model_name": "DescriptionStyleModel",
      "state": {
       "description_width": ""
      }
     },
     "9e6c15771b534d50992dc7eb0856b91c": {
      "model_module": "@jupyter-widgets/controls",
      "model_module_version": "1.5.0",
      "model_name": "ProgressStyleModel",
      "state": {
       "description_width": "initial"
      }
     },
     "9e82d137e6124f58a5f46681e05cf7ef": {
      "model_module": "@jupyter-widgets/controls",
      "model_module_version": "1.5.0",
      "model_name": "ProgressStyleModel",
      "state": {
       "description_width": "initial"
      }
     },
     "9ea5e9dd982f4fe4a166651fc09cb800": {
      "model_module": "@jupyter-widgets/controls",
      "model_module_version": "1.5.0",
      "model_name": "HTMLModel",
      "state": {
       "layout": "IPY_MODEL_5da1a5f67a0148bea5daf6b228195093",
       "style": "IPY_MODEL_fe27695c3c794016b828fb5c37a1cbe1",
       "value": " 344/344 [00:19&lt;00:00, 17.59it/s, end_loss=0.788, jaccard=0.71, merged_loss=0.987, start_loss=0.817]"
      }
     },
     "9ebcec74e619498babafc6d141b0b74a": {
      "model_module": "@jupyter-widgets/base",
      "model_module_version": "1.2.0",
      "model_name": "LayoutModel",
      "state": {}
     },
     "9ec0b74266104b1e852ae2c7aba0d05c": {
      "model_module": "@jupyter-widgets/controls",
      "model_module_version": "1.5.0",
      "model_name": "HTMLModel",
      "state": {
       "layout": "IPY_MODEL_bd1fce88b35e48639d96ae6181594fea",
       "style": "IPY_MODEL_0390b9a9f034427fadffdb681139d4c5",
       "value": " 0/344 [00:00&lt;?, ?it/s]"
      }
     },
     "9efb4408d229489699fd4428fd218e2f": {
      "model_module": "@jupyter-widgets/base",
      "model_module_version": "1.2.0",
      "model_name": "LayoutModel",
      "state": {}
     },
     "9f4f4fd3f0f34e2589febc5a96863e7a": {
      "model_module": "@jupyter-widgets/controls",
      "model_module_version": "1.5.0",
      "model_name": "FloatProgressModel",
      "state": {
       "bar_style": "success",
       "description": "100%",
       "layout": "IPY_MODEL_a1a32bc42b1441799b3bbf7199e55171",
       "max": 344,
       "style": "IPY_MODEL_216600a3ecee45e08f659b5769ff4b45",
       "value": 344
      }
     },
     "9f65d53b096e422e82405d79515a18de": {
      "model_module": "@jupyter-widgets/base",
      "model_module_version": "1.2.0",
      "model_name": "LayoutModel",
      "state": {}
     },
     "9f837b9a24a449528b6e81c68967693f": {
      "model_module": "@jupyter-widgets/controls",
      "model_module_version": "1.5.0",
      "model_name": "FloatProgressModel",
      "state": {
       "bar_style": "success",
       "description": "100%",
       "layout": "IPY_MODEL_1019dcbf64ad43478692ed6054891c39",
       "max": 344,
       "style": "IPY_MODEL_b5fcc772ae29485290cf413c19d2bdb4",
       "value": 344
      }
     },
     "9fccbc2daf30420699eeffb532788884": {
      "model_module": "@jupyter-widgets/base",
      "model_module_version": "1.2.0",
      "model_name": "LayoutModel",
      "state": {}
     },
     "9fd3e39eb1f848f68ee65e418c25adea": {
      "model_module": "@jupyter-widgets/controls",
      "model_module_version": "1.5.0",
      "model_name": "HBoxModel",
      "state": {
       "children": [
        "IPY_MODEL_455d52c7953c42f49cffb1dc1aa90263",
        "IPY_MODEL_2f78168d642b444fbafb208d114c43a4"
       ],
       "layout": "IPY_MODEL_b6e39dc4b1f84a00a11ded610ab96b3c"
      }
     },
     "9fea3f55620a43e7b0b1fed10d6ccd9d": {
      "model_module": "@jupyter-widgets/controls",
      "model_module_version": "1.5.0",
      "model_name": "ProgressStyleModel",
      "state": {
       "description_width": "initial"
      }
     },
     "9ffa97993a4b40289c109f797144dd0c": {
      "model_module": "@jupyter-widgets/controls",
      "model_module_version": "1.5.0",
      "model_name": "FloatProgressModel",
      "state": {
       "bar_style": "success",
       "description": "100%",
       "layout": "IPY_MODEL_9b1313066ae340b7ae4e6d79994d8a5b",
       "max": 344,
       "style": "IPY_MODEL_a3102180c19a47bdb6a5ccd92f6442ad",
       "value": 344
      }
     },
     "a0136a9e416c42bf89c0759b87624f83": {
      "model_module": "@jupyter-widgets/controls",
      "model_module_version": "1.5.0",
      "model_name": "FloatProgressModel",
      "state": {
       "bar_style": "success",
       "description": "100%",
       "layout": "IPY_MODEL_f486e439ef364da3ab6d9abad05f77b6",
       "max": 344,
       "style": "IPY_MODEL_6c994606f9f64b2d85c405b61e95f081",
       "value": 344
      }
     },
     "a01bda2f5d2c4e1190e90057f57c791f": {
      "model_module": "@jupyter-widgets/controls",
      "model_module_version": "1.5.0",
      "model_name": "DescriptionStyleModel",
      "state": {
       "description_width": ""
      }
     },
     "a02f660233a349b188f5c02c3a81d9f1": {
      "model_module": "@jupyter-widgets/base",
      "model_module_version": "1.2.0",
      "model_name": "LayoutModel",
      "state": {}
     },
     "a07063ccea7e402093a60fd597927a66": {
      "model_module": "@jupyter-widgets/base",
      "model_module_version": "1.2.0",
      "model_name": "LayoutModel",
      "state": {}
     },
     "a098afb6a1f94a48ba71450df64e39a4": {
      "model_module": "@jupyter-widgets/base",
      "model_module_version": "1.2.0",
      "model_name": "LayoutModel",
      "state": {}
     },
     "a0a2692dc3814ba69490eec02bc276b0": {
      "model_module": "@jupyter-widgets/controls",
      "model_module_version": "1.5.0",
      "model_name": "FloatProgressModel",
      "state": {
       "bar_style": "success",
       "description": "100%",
       "layout": "IPY_MODEL_5068df8922424b98b3e04c0c92a3ce75",
       "max": 344,
       "style": "IPY_MODEL_73d8327691684a9394d62634b797deed",
       "value": 344
      }
     },
     "a0cd1b11d11a4e448026036c3940bd54": {
      "model_module": "@jupyter-widgets/controls",
      "model_module_version": "1.5.0",
      "model_name": "HBoxModel",
      "state": {
       "children": [
        "IPY_MODEL_83ae752aba54481a8b803d3af2db9550",
        "IPY_MODEL_30aa740c6afd42fd9fd9ba5efc65e6b2"
       ],
       "layout": "IPY_MODEL_f929c4f0f9584920993695bb1bfc82ca"
      }
     },
     "a0ce627f4d9945d99ca75213a9482770": {
      "model_module": "@jupyter-widgets/controls",
      "model_module_version": "1.5.0",
      "model_name": "HTMLModel",
      "state": {
       "layout": "IPY_MODEL_6f934c0a84f04419ba0a5b25336d85ec",
       "style": "IPY_MODEL_df459b879e8c4d58817864316f5f6d9c",
       "value": " 344/344 [00:23&lt;00:00, 14.66it/s, end_loss=0.805, jaccard=0.708, start_loss=0.878]"
      }
     },
     "a0ce7d9f10f04f3ca8addd64e1b62a03": {
      "model_module": "@jupyter-widgets/base",
      "model_module_version": "1.2.0",
      "model_name": "LayoutModel",
      "state": {}
     },
     "a0f52de9340544b093397e96aa144edb": {
      "model_module": "@jupyter-widgets/base",
      "model_module_version": "1.2.0",
      "model_name": "LayoutModel",
      "state": {}
     },
     "a10c5d2401f448439d87d5ba9f88f4c1": {
      "model_module": "@jupyter-widgets/controls",
      "model_module_version": "1.5.0",
      "model_name": "HBoxModel",
      "state": {
       "children": [
        "IPY_MODEL_485d4bbfc2f44c2c92684c670c0bc62c",
        "IPY_MODEL_8b4182714f1042f1a5429647e6d1fafc"
       ],
       "layout": "IPY_MODEL_01bea54214a04b8991f21c8c6365fe7b"
      }
     },
     "a1229ca001894e10941cb75aba5d2567": {
      "model_module": "@jupyter-widgets/base",
      "model_module_version": "1.2.0",
      "model_name": "LayoutModel",
      "state": {}
     },
     "a125710775314d02b3d519e7580efe13": {
      "model_module": "@jupyter-widgets/controls",
      "model_module_version": "1.5.0",
      "model_name": "HBoxModel",
      "state": {
       "children": [
        "IPY_MODEL_9dd76cdf4eca4757928d7d6bfb612676",
        "IPY_MODEL_abd60b85996347fda7dddca1334e5450"
       ],
       "layout": "IPY_MODEL_788273ce029545eab4ded99c094b4276"
      }
     },
     "a12e6c0c75274e478a2aadd12c0c5140": {
      "model_module": "@jupyter-widgets/controls",
      "model_module_version": "1.5.0",
      "model_name": "HBoxModel",
      "state": {
       "children": [
        "IPY_MODEL_f7854727935b4c9e8ab8920dba61872a",
        "IPY_MODEL_4a5d6cb609004bba9bedfcc986988bc4"
       ],
       "layout": "IPY_MODEL_a9265f5a48404eeda1e54f2c134f8ac5"
      }
     },
     "a13ffc49f46e4d09b43111cc36d95dcb": {
      "model_module": "@jupyter-widgets/base",
      "model_module_version": "1.2.0",
      "model_name": "LayoutModel",
      "state": {}
     },
     "a148683d7670488d97c3d6875a44d5da": {
      "model_module": "@jupyter-widgets/base",
      "model_module_version": "1.2.0",
      "model_name": "LayoutModel",
      "state": {}
     },
     "a15a471889fa4bdcad2e2f3b026ba03a": {
      "model_module": "@jupyter-widgets/base",
      "model_module_version": "1.2.0",
      "model_name": "LayoutModel",
      "state": {}
     },
     "a171ae8a69e24ce58e5e679b95cab158": {
      "model_module": "@jupyter-widgets/controls",
      "model_module_version": "1.5.0",
      "model_name": "HTMLModel",
      "state": {
       "layout": "IPY_MODEL_a862a7e23087446b8b46ad4d605ca3a0",
       "style": "IPY_MODEL_ee61190f16ad495ea5584365763081ff",
       "value": " 344/344 [06:07&lt;00:00,  1.07s/it, end_loss=0.869, jaccard=0.743, start_loss=0.936]"
      }
     },
     "a178f0f53c5b484c947e38b5ef3ecc7f": {
      "model_module": "@jupyter-widgets/controls",
      "model_module_version": "1.5.0",
      "model_name": "DescriptionStyleModel",
      "state": {
       "description_width": ""
      }
     },
     "a19126e86bca47ba9b722c5119fd8e94": {
      "model_module": "@jupyter-widgets/controls",
      "model_module_version": "1.5.0",
      "model_name": "HTMLModel",
      "state": {
       "layout": "IPY_MODEL_bd5200dcb09a43c594442a08f5a5815f",
       "style": "IPY_MODEL_975078dad7024460b90c5a24ad9e1fc0",
       "value": " 344/344 [00:25&lt;00:00, 13.38it/s, end_loss=0.842, jaccard=0.714, start_loss=0.902]"
      }
     },
     "a1a20ea3605547e1a13f4bc8dc9ac2ee": {
      "model_module": "@jupyter-widgets/controls",
      "model_module_version": "1.5.0",
      "model_name": "FloatProgressModel",
      "state": {
       "bar_style": "success",
       "description": "100%",
       "layout": "IPY_MODEL_8926ac152beb45cfa66880be20a35ed2",
       "max": 344,
       "style": "IPY_MODEL_5e19bb0ba63d4b4198a5e6285ef694c6",
       "value": 344
      }
     },
     "a1a2282600ee496d950edf8d25d7d0ef": {
      "model_module": "@jupyter-widgets/controls",
      "model_module_version": "1.5.0",
      "model_name": "HTMLModel",
      "state": {
       "layout": "IPY_MODEL_6d6ecda160124972a5fa17200a9365a9",
       "style": "IPY_MODEL_a5c3255ef46943b59079a3e2239fe42b",
       "value": " 344/344 [01:43&lt;00:00,  3.33it/s, end_loss=0.779, jaccard=0.709, start_loss=0.858]"
      }
     },
     "a1a32bc42b1441799b3bbf7199e55171": {
      "model_module": "@jupyter-widgets/base",
      "model_module_version": "1.2.0",
      "model_name": "LayoutModel",
      "state": {}
     },
     "a1aac9dbabb443fabbed9130b1b20ee4": {
      "model_module": "@jupyter-widgets/controls",
      "model_module_version": "1.5.0",
      "model_name": "DescriptionStyleModel",
      "state": {
       "description_width": ""
      }
     },
     "a1ac6025c78e4308b98abeceaf76df62": {
      "model_module": "@jupyter-widgets/controls",
      "model_module_version": "1.5.0",
      "model_name": "HBoxModel",
      "state": {
       "children": [
        "IPY_MODEL_d9f8220eefc747659b0a29f8fbfb4024",
        "IPY_MODEL_46140e91c52342efa8d505d7582f3941"
       ],
       "layout": "IPY_MODEL_32a6850fb909458aac4264fa2d7b7398"
      }
     },
     "a1aeeadfae2b4c4aa5fe6893a552fe78": {
      "model_module": "@jupyter-widgets/controls",
      "model_module_version": "1.5.0",
      "model_name": "HBoxModel",
      "state": {
       "children": [
        "IPY_MODEL_b65cdae8c78244d08d9758a099cbceef",
        "IPY_MODEL_a8b4c4b418224808accac57d896fcb31"
       ],
       "layout": "IPY_MODEL_1505b2543e16463b9d80c937db25e402"
      }
     },
     "a1d75a838eaa46ceae1ec6b7cc16c2a3": {
      "model_module": "@jupyter-widgets/controls",
      "model_module_version": "1.5.0",
      "model_name": "DescriptionStyleModel",
      "state": {
       "description_width": ""
      }
     },
     "a1ddd10263d84842a12bc076140e396e": {
      "model_module": "@jupyter-widgets/controls",
      "model_module_version": "1.5.0",
      "model_name": "HTMLModel",
      "state": {
       "layout": "IPY_MODEL_ffd4ac53c78d4f51a872741bd7a54748",
       "style": "IPY_MODEL_1e82a81d3a12400182aee30bb2baaaca",
       "value": " 344/344 [03:34&lt;00:00,  1.61it/s, end_loss=1.12, jaccard=0.643, start_loss=1.16]"
      }
     },
     "a1f98c90e1144dc4a4703fbb1de96085": {
      "model_module": "@jupyter-widgets/controls",
      "model_module_version": "1.5.0",
      "model_name": "DescriptionStyleModel",
      "state": {
       "description_width": ""
      }
     },
     "a20e9d6c6eab460abc5f11972fb26ea8": {
      "model_module": "@jupyter-widgets/controls",
      "model_module_version": "1.5.0",
      "model_name": "FloatProgressModel",
      "state": {
       "bar_style": "success",
       "description": "100%",
       "layout": "IPY_MODEL_33ca8c365c3448dea84d6745df6dfe10",
       "max": 344,
       "style": "IPY_MODEL_a7b9d06a6e5045e5a65ae7ae0b85d998",
       "value": 344
      }
     },
     "a22670444a364218814eb9854391e579": {
      "model_module": "@jupyter-widgets/controls",
      "model_module_version": "1.5.0",
      "model_name": "FloatProgressModel",
      "state": {
       "bar_style": "success",
       "description": "100%",
       "layout": "IPY_MODEL_4391bbe56de248a89d73ed2fd658605d",
       "max": 344,
       "style": "IPY_MODEL_e12ed185e7294708ac1412ae39e7660f",
       "value": 344
      }
     },
     "a2304f39c6914f86b4d8fe6b5436a6a8": {
      "model_module": "@jupyter-widgets/controls",
      "model_module_version": "1.5.0",
      "model_name": "FloatProgressModel",
      "state": {
       "bar_style": "success",
       "description": "100%",
       "layout": "IPY_MODEL_f796890870fd44af9d23b3954c6ef77a",
       "max": 344,
       "style": "IPY_MODEL_d5fcb6f7616e4c6e80ff402a82d867ec",
       "value": 344
      }
     },
     "a2336eaee5ba4feaa420430bf853684c": {
      "model_module": "@jupyter-widgets/base",
      "model_module_version": "1.2.0",
      "model_name": "LayoutModel",
      "state": {}
     },
     "a2529456a54744efaa73a42f6c7b46dc": {
      "model_module": "@jupyter-widgets/controls",
      "model_module_version": "1.5.0",
      "model_name": "HTMLModel",
      "state": {
       "layout": "IPY_MODEL_f4c7b7aa857f4a6eb63dd971f9683668",
       "style": "IPY_MODEL_d8b507a22ab04a27890addab5047723f",
       "value": " 344/344 [03:37&lt;00:00,  1.58it/s, end_loss=0.992, jaccard=0.671, start_loss=1.02]"
      }
     },
     "a25ec67002924bc1b88c4e85628dadd1": {
      "model_module": "@jupyter-widgets/base",
      "model_module_version": "1.2.0",
      "model_name": "LayoutModel",
      "state": {}
     },
     "a26aac517a404450bdd16afc77cfed03": {
      "model_module": "@jupyter-widgets/controls",
      "model_module_version": "1.5.0",
      "model_name": "FloatProgressModel",
      "state": {
       "bar_style": "success",
       "description": "100%",
       "layout": "IPY_MODEL_e7fa56e73510470996e3bb2a1472734d",
       "max": 344,
       "style": "IPY_MODEL_c068f751834349f08d7cfd57ae6f4f5e",
       "value": 344
      }
     },
     "a278acb58e334e349c177f7edff53727": {
      "model_module": "@jupyter-widgets/base",
      "model_module_version": "1.2.0",
      "model_name": "LayoutModel",
      "state": {}
     },
     "a2849999f72e42209ed880de59347e4a": {
      "model_module": "@jupyter-widgets/controls",
      "model_module_version": "1.5.0",
      "model_name": "DescriptionStyleModel",
      "state": {
       "description_width": ""
      }
     },
     "a28faa737004465caebff5fe5340653b": {
      "model_module": "@jupyter-widgets/controls",
      "model_module_version": "1.5.0",
      "model_name": "HTMLModel",
      "state": {
       "layout": "IPY_MODEL_ec286275a4094b0b9dc77715356163b7",
       "style": "IPY_MODEL_82d830c9551f4f7bbe273261de666480",
       "value": " 344/344 [00:19&lt;00:00, 17.93it/s, end_loss=0.808, jaccard=0.708, start_loss=0.856]"
      }
     },
     "a29b8c12fe74479aa13e28fa58e5b27f": {
      "model_module": "@jupyter-widgets/base",
      "model_module_version": "1.2.0",
      "model_name": "LayoutModel",
      "state": {}
     },
     "a2ac580c6d32430ea8058bc58567fdf8": {
      "model_module": "@jupyter-widgets/base",
      "model_module_version": "1.2.0",
      "model_name": "LayoutModel",
      "state": {}
     },
     "a2c39e1cf02043e180f13ab6698cdd1d": {
      "model_module": "@jupyter-widgets/controls",
      "model_module_version": "1.5.0",
      "model_name": "HTMLModel",
      "state": {
       "layout": "IPY_MODEL_ed841378a0b648088cdc96c5464c707b",
       "style": "IPY_MODEL_eaf0fbe18a8e42b5a0a782ffb3c22ffa",
       "value": " 344/344 [03:27&lt;00:00,  1.66it/s, end_loss=0.837, jaccard=0.752, start_loss=0.906]"
      }
     },
     "a2fc3cf68d9e4069b14a6709a109eb98": {
      "model_module": "@jupyter-widgets/base",
      "model_module_version": "1.2.0",
      "model_name": "LayoutModel",
      "state": {}
     },
     "a30135ed08f049d7b1f6c8adbd3bb8bf": {
      "model_module": "@jupyter-widgets/controls",
      "model_module_version": "1.5.0",
      "model_name": "HTMLModel",
      "state": {
       "layout": "IPY_MODEL_096c2ed596944d79b2e3289dbdfecba9",
       "style": "IPY_MODEL_9d338321b1174cf1b20a916fe9ed8ee7",
       "value": " 344/344 [07:24&lt;00:00,  1.29s/it, end_loss=1.13, jaccard=0.681, start_loss=1.15]"
      }
     },
     "a3102180c19a47bdb6a5ccd92f6442ad": {
      "model_module": "@jupyter-widgets/controls",
      "model_module_version": "1.5.0",
      "model_name": "ProgressStyleModel",
      "state": {
       "description_width": "initial"
      }
     },
     "a315f358f4724a98aabf95664026fe4a": {
      "model_module": "@jupyter-widgets/controls",
      "model_module_version": "1.5.0",
      "model_name": "HBoxModel",
      "state": {
       "children": [
        "IPY_MODEL_de78cf34f0ef434aa305872c479fce39",
        "IPY_MODEL_c3d96d20ba3b47a18128b77f19e37c30"
       ],
       "layout": "IPY_MODEL_f72ac54f76a24692bcfee28759059c5a"
      }
     },
     "a32e3ca21f7943eda9ce86d2f36336b8": {
      "model_module": "@jupyter-widgets/controls",
      "model_module_version": "1.5.0",
      "model_name": "DescriptionStyleModel",
      "state": {
       "description_width": ""
      }
     },
     "a36494d381244d97888cdec231345a3a": {
      "model_module": "@jupyter-widgets/controls",
      "model_module_version": "1.5.0",
      "model_name": "DescriptionStyleModel",
      "state": {
       "description_width": ""
      }
     },
     "a372bc688ae24c9695851594ec0cbd91": {
      "model_module": "@jupyter-widgets/controls",
      "model_module_version": "1.5.0",
      "model_name": "ProgressStyleModel",
      "state": {
       "description_width": "initial"
      }
     },
     "a3976f054cff4f07874ac0d3596298a7": {
      "model_module": "@jupyter-widgets/controls",
      "model_module_version": "1.5.0",
      "model_name": "HTMLModel",
      "state": {
       "layout": "IPY_MODEL_5945c24fd2f843ed9d67e655066950c7",
       "style": "IPY_MODEL_d3b71404f1fa418f9e8cb288d00206c7",
       "value": " 344/344 [00:24&lt;00:00, 14.25it/s, end_loss=0.909, jaccard=0.715, start_loss=1]"
      }
     },
     "a3a4c40d3fdd4ca58e39bacb3866cf50": {
      "model_module": "@jupyter-widgets/controls",
      "model_module_version": "1.5.0",
      "model_name": "FloatProgressModel",
      "state": {
       "bar_style": "success",
       "description": "100%",
       "layout": "IPY_MODEL_39bc3dca15dd45db90e5f9ba2a121c20",
       "max": 344,
       "style": "IPY_MODEL_6e0e15722bb7447083afc1a686bf1435",
       "value": 344
      }
     },
     "a3b3175848844c619bb6e742e835cc85": {
      "model_module": "@jupyter-widgets/base",
      "model_module_version": "1.2.0",
      "model_name": "LayoutModel",
      "state": {}
     },
     "a3c59e756ac34b7482cc2bd20e77db51": {
      "model_module": "@jupyter-widgets/controls",
      "model_module_version": "1.5.0",
      "model_name": "HTMLModel",
      "state": {
       "layout": "IPY_MODEL_8e770cd00ef849f3ae205abb7837e286",
       "style": "IPY_MODEL_36f28c34771741338651640fc07102be",
       "value": " 344/344 [00:21&lt;00:00, 16.30it/s, end_loss=0.799, jaccard=0.709, merged_loss=0.995, start_loss=0.854]"
      }
     },
     "a3c8c08d95994800815bfa31c4640f7b": {
      "model_module": "@jupyter-widgets/controls",
      "model_module_version": "1.5.0",
      "model_name": "DescriptionStyleModel",
      "state": {
       "description_width": ""
      }
     },
     "a3d44b324a1d49e482d8489264b67619": {
      "model_module": "@jupyter-widgets/controls",
      "model_module_version": "1.5.0",
      "model_name": "FloatProgressModel",
      "state": {
       "bar_style": "success",
       "description": "100%",
       "layout": "IPY_MODEL_1dc8febcf4b84c99b84c0143430e91af",
       "max": 344,
       "style": "IPY_MODEL_4b81d4da03404293ab86bfd368de2547",
       "value": 344
      }
     },
     "a3faf9a6ed9744619173108b881d8885": {
      "model_module": "@jupyter-widgets/controls",
      "model_module_version": "1.5.0",
      "model_name": "DescriptionStyleModel",
      "state": {
       "description_width": ""
      }
     },
     "a405c90ff9dc4975aef2025ad200156b": {
      "model_module": "@jupyter-widgets/base",
      "model_module_version": "1.2.0",
      "model_name": "LayoutModel",
      "state": {}
     },
     "a44c630bfd7a4c7d95cc6ba334e1bddd": {
      "model_module": "@jupyter-widgets/base",
      "model_module_version": "1.2.0",
      "model_name": "LayoutModel",
      "state": {}
     },
     "a453158b1ff14b0eada94ae49bfc8486": {
      "model_module": "@jupyter-widgets/controls",
      "model_module_version": "1.5.0",
      "model_name": "FloatProgressModel",
      "state": {
       "bar_style": "success",
       "description": "100%",
       "layout": "IPY_MODEL_5003f9314bb14840abdb1723c8f60dfc",
       "max": 344,
       "style": "IPY_MODEL_dd0f86dc49c748b4bd6dc5c0f27583e8",
       "value": 344
      }
     },
     "a489b59148454b4ead6b0854e8891888": {
      "model_module": "@jupyter-widgets/base",
      "model_module_version": "1.2.0",
      "model_name": "LayoutModel",
      "state": {}
     },
     "a4bfc69b246b48b3984eb49398f6a926": {
      "model_module": "@jupyter-widgets/controls",
      "model_module_version": "1.5.0",
      "model_name": "DescriptionStyleModel",
      "state": {
       "description_width": ""
      }
     },
     "a4c070bd0cae4435a59972cb6473cce6": {
      "model_module": "@jupyter-widgets/controls",
      "model_module_version": "1.5.0",
      "model_name": "ProgressStyleModel",
      "state": {
       "description_width": "initial"
      }
     },
     "a4e832c0fa0d4e6db782112bb8f6285f": {
      "model_module": "@jupyter-widgets/controls",
      "model_module_version": "1.5.0",
      "model_name": "DescriptionStyleModel",
      "state": {
       "description_width": ""
      }
     },
     "a4eebb4333aa42c6be48fabadf4da5cd": {
      "model_module": "@jupyter-widgets/controls",
      "model_module_version": "1.5.0",
      "model_name": "ProgressStyleModel",
      "state": {
       "description_width": "initial"
      }
     },
     "a501380cabdc4c8d9ce0a88ea58a4467": {
      "model_module": "@jupyter-widgets/base",
      "model_module_version": "1.2.0",
      "model_name": "LayoutModel",
      "state": {}
     },
     "a5378cd09d9748fd9f506d3b5fcfccfd": {
      "model_module": "@jupyter-widgets/controls",
      "model_module_version": "1.5.0",
      "model_name": "HBoxModel",
      "state": {
       "children": [
        "IPY_MODEL_9c27e8db14404093bf9f02acb5e43b4e",
        "IPY_MODEL_9ea5e9dd982f4fe4a166651fc09cb800"
       ],
       "layout": "IPY_MODEL_d46969fea2af43c181ca7ba843ef8128"
      }
     },
     "a5418bdbd09e483ea20cb5a9e487a488": {
      "model_module": "@jupyter-widgets/controls",
      "model_module_version": "1.5.0",
      "model_name": "DescriptionStyleModel",
      "state": {
       "description_width": ""
      }
     },
     "a55f183751324b4d9a102bc6ba5362ca": {
      "model_module": "@jupyter-widgets/controls",
      "model_module_version": "1.5.0",
      "model_name": "HTMLModel",
      "state": {
       "layout": "IPY_MODEL_c203f687196e47dda941f5357b1bedb6",
       "style": "IPY_MODEL_18a94090ff6544ffa9c23d96aa042de9",
       "value": " 344/344 [00:20&lt;00:00, 17.12it/s, end_loss=0.787, jaccard=0.706, start_loss=0.839]"
      }
     },
     "a563117adc124c2aac54b164f9c40b7c": {
      "model_module": "@jupyter-widgets/base",
      "model_module_version": "1.2.0",
      "model_name": "LayoutModel",
      "state": {}
     },
     "a594125685dd455dab771bcd06fde3ec": {
      "model_module": "@jupyter-widgets/controls",
      "model_module_version": "1.5.0",
      "model_name": "HBoxModel",
      "state": {
       "children": [
        "IPY_MODEL_318f1157f236429281d2e728e0f3b56d",
        "IPY_MODEL_e7ddbb7f23524fb898954620c803175c"
       ],
       "layout": "IPY_MODEL_c41da2373e9c4a08ab73932a68c18665"
      }
     },
     "a5a64d1d30814058b131156750f41796": {
      "model_module": "@jupyter-widgets/controls",
      "model_module_version": "1.5.0",
      "model_name": "HBoxModel",
      "state": {
       "children": [
        "IPY_MODEL_92f4b8d83ab64941a8a061c20a45f5fa",
        "IPY_MODEL_62b46675a2534e049307f79dd70b9cec"
       ],
       "layout": "IPY_MODEL_3da13d05c05f4a20837edc52e075d5de"
      }
     },
     "a5bac3bd79224c02bf64ddf769cbd9e7": {
      "model_module": "@jupyter-widgets/controls",
      "model_module_version": "1.5.0",
      "model_name": "DescriptionStyleModel",
      "state": {
       "description_width": ""
      }
     },
     "a5bdaf56441b444b9ba933976770f02d": {
      "model_module": "@jupyter-widgets/controls",
      "model_module_version": "1.5.0",
      "model_name": "HTMLModel",
      "state": {
       "layout": "IPY_MODEL_fc79cac5b14c4d0ba8f96726b493e9a5",
       "style": "IPY_MODEL_2b917940e67a4f82b716ad95598f086e",
       "value": " 344/344 [04:51&lt;00:00,  1.18it/s, end_loss=2.07, jaccard=0.602, start_loss=2.01]"
      }
     },
     "a5c3255ef46943b59079a3e2239fe42b": {
      "model_module": "@jupyter-widgets/controls",
      "model_module_version": "1.5.0",
      "model_name": "DescriptionStyleModel",
      "state": {
       "description_width": ""
      }
     },
     "a5cc33064804410b968214e971c15807": {
      "model_module": "@jupyter-widgets/controls",
      "model_module_version": "1.5.0",
      "model_name": "ProgressStyleModel",
      "state": {
       "description_width": "initial"
      }
     },
     "a5e0d9cf22c442eba3017eb1a4ddceda": {
      "model_module": "@jupyter-widgets/controls",
      "model_module_version": "1.5.0",
      "model_name": "DescriptionStyleModel",
      "state": {
       "description_width": ""
      }
     },
     "a5f1c16f337646eb848ebf8aee5dafc7": {
      "model_module": "@jupyter-widgets/controls",
      "model_module_version": "1.5.0",
      "model_name": "FloatProgressModel",
      "state": {
       "bar_style": "success",
       "description": "100%",
       "layout": "IPY_MODEL_185c07fa861940e88e7a7aa301f6b1f6",
       "max": 344,
       "style": "IPY_MODEL_8379deeab7c84ea1b5e225aa06bec11d",
       "value": 344
      }
     },
     "a5f1fb4b71b4438582ccede9cac852bc": {
      "model_module": "@jupyter-widgets/controls",
      "model_module_version": "1.5.0",
      "model_name": "HBoxModel",
      "state": {
       "children": [
        "IPY_MODEL_3a3655c0cb094ad1a1663c0a9da2a62d",
        "IPY_MODEL_1830ceadb9b245e597eaef119a6fb253"
       ],
       "layout": "IPY_MODEL_1bdeb6d6e24745c89b4d5c075f37e790"
      }
     },
     "a62537ec6c0b434b90d344a18fd56564": {
      "model_module": "@jupyter-widgets/controls",
      "model_module_version": "1.5.0",
      "model_name": "FloatProgressModel",
      "state": {
       "bar_style": "success",
       "description": "100%",
       "layout": "IPY_MODEL_49144077dbd8432dbfacdf373e02192d",
       "max": 344,
       "style": "IPY_MODEL_21146d04b2a64015b27da48868a7f079",
       "value": 344
      }
     },
     "a62d59fa1e4746ada7a5d381ee06e33e": {
      "model_module": "@jupyter-widgets/base",
      "model_module_version": "1.2.0",
      "model_name": "LayoutModel",
      "state": {}
     },
     "a6313cf877ef43cf9bebb0e17d25ec90": {
      "model_module": "@jupyter-widgets/controls",
      "model_module_version": "1.5.0",
      "model_name": "ProgressStyleModel",
      "state": {
       "description_width": "initial"
      }
     },
     "a633e1f414664640a60f2fa59651ced3": {
      "model_module": "@jupyter-widgets/controls",
      "model_module_version": "1.5.0",
      "model_name": "HBoxModel",
      "state": {
       "children": [
        "IPY_MODEL_1c76e291ec5f4b70a3f88d8e942088f4",
        "IPY_MODEL_4547e50720cc47c6b96ef4170a3fa21f"
       ],
       "layout": "IPY_MODEL_421bcca191564814bb32c42bb77df435"
      }
     },
     "a63aa0e91de74a75b3019e0fcba337ba": {
      "model_module": "@jupyter-widgets/base",
      "model_module_version": "1.2.0",
      "model_name": "LayoutModel",
      "state": {}
     },
     "a64fdb31e35b4e9d94fa61bf3b060c4a": {
      "model_module": "@jupyter-widgets/controls",
      "model_module_version": "1.5.0",
      "model_name": "FloatProgressModel",
      "state": {
       "bar_style": "success",
       "description": "100%",
       "layout": "IPY_MODEL_dd9c39e6a6dd4f0a8ec1ddbe1aa7199d",
       "max": 344,
       "style": "IPY_MODEL_98d1b3f03441454e9b36f1e95c3739eb",
       "value": 344
      }
     },
     "a66cdf4951764effa542d5cc7df17503": {
      "model_module": "@jupyter-widgets/controls",
      "model_module_version": "1.5.0",
      "model_name": "DescriptionStyleModel",
      "state": {
       "description_width": ""
      }
     },
     "a6a15bf55c25418d921371be896a0ea8": {
      "model_module": "@jupyter-widgets/controls",
      "model_module_version": "1.5.0",
      "model_name": "DescriptionStyleModel",
      "state": {
       "description_width": ""
      }
     },
     "a6de838d7d38450ea5772fb478c8efbf": {
      "model_module": "@jupyter-widgets/controls",
      "model_module_version": "1.5.0",
      "model_name": "DescriptionStyleModel",
      "state": {
       "description_width": ""
      }
     },
     "a7017a16dc8f41508056447e914820a4": {
      "model_module": "@jupyter-widgets/controls",
      "model_module_version": "1.5.0",
      "model_name": "ProgressStyleModel",
      "state": {
       "description_width": "initial"
      }
     },
     "a71432e8b10042bc858501aeb4f3aa0e": {
      "model_module": "@jupyter-widgets/controls",
      "model_module_version": "1.5.0",
      "model_name": "DescriptionStyleModel",
      "state": {
       "description_width": ""
      }
     },
     "a740cd03e8c145e6b471c7b484cd7909": {
      "model_module": "@jupyter-widgets/controls",
      "model_module_version": "1.5.0",
      "model_name": "ProgressStyleModel",
      "state": {
       "description_width": "initial"
      }
     },
     "a74209dba5de4ec0a5677a8346b5d0eb": {
      "model_module": "@jupyter-widgets/controls",
      "model_module_version": "1.5.0",
      "model_name": "HTMLModel",
      "state": {
       "layout": "IPY_MODEL_878413a26b1a4f6fae98fa840d44550e",
       "style": "IPY_MODEL_2e1d919785914db3b7d077d1a86c0e0a",
       "value": " 344/344 [42:20&lt;00:00,  7.39s/it, end_loss=1.68, jaccard=0.672, start_loss=1.72]"
      }
     },
     "a747e56fd79048039285f764e3f427d2": {
      "model_module": "@jupyter-widgets/controls",
      "model_module_version": "1.5.0",
      "model_name": "ProgressStyleModel",
      "state": {
       "description_width": "initial"
      }
     },
     "a753ab635433488eb1fa29c45c93a95f": {
      "model_module": "@jupyter-widgets/controls",
      "model_module_version": "1.5.0",
      "model_name": "DescriptionStyleModel",
      "state": {
       "description_width": ""
      }
     },
     "a753dc533d754b2cba6460c4a4e07320": {
      "model_module": "@jupyter-widgets/controls",
      "model_module_version": "1.5.0",
      "model_name": "ProgressStyleModel",
      "state": {
       "description_width": "initial"
      }
     },
     "a76f97bb174e470eafe29ffe78a38097": {
      "model_module": "@jupyter-widgets/base",
      "model_module_version": "1.2.0",
      "model_name": "LayoutModel",
      "state": {}
     },
     "a79a361244344e1390aa26ac4dfa6946": {
      "model_module": "@jupyter-widgets/base",
      "model_module_version": "1.2.0",
      "model_name": "LayoutModel",
      "state": {}
     },
     "a7b9d06a6e5045e5a65ae7ae0b85d998": {
      "model_module": "@jupyter-widgets/controls",
      "model_module_version": "1.5.0",
      "model_name": "ProgressStyleModel",
      "state": {
       "description_width": "initial"
      }
     },
     "a7f9d3b6098b47d79ec1ae04b86d42fb": {
      "model_module": "@jupyter-widgets/controls",
      "model_module_version": "1.5.0",
      "model_name": "FloatProgressModel",
      "state": {
       "bar_style": "success",
       "description": "100%",
       "layout": "IPY_MODEL_c100ca9907d44346955ac2594b91d965",
       "max": 344,
       "style": "IPY_MODEL_38a0585780314d4faf4a1f94615417e7",
       "value": 344
      }
     },
     "a810748d8d1e4f44939ef4eb8d55eedd": {
      "model_module": "@jupyter-widgets/controls",
      "model_module_version": "1.5.0",
      "model_name": "FloatProgressModel",
      "state": {
       "bar_style": "success",
       "description": "100%",
       "layout": "IPY_MODEL_0c31718933a640ae91f6bbbb95852854",
       "max": 344,
       "style": "IPY_MODEL_0c878dc153ac4dd9a0cb6dbb4f580e01",
       "value": 344
      }
     },
     "a82c7075f40c48ee8731675b2958216f": {
      "model_module": "@jupyter-widgets/base",
      "model_module_version": "1.2.0",
      "model_name": "LayoutModel",
      "state": {}
     },
     "a83134471ab541729cc40af68d98bfbf": {
      "model_module": "@jupyter-widgets/base",
      "model_module_version": "1.2.0",
      "model_name": "LayoutModel",
      "state": {}
     },
     "a8379d112113445da9037fab1f06deb8": {
      "model_module": "@jupyter-widgets/base",
      "model_module_version": "1.2.0",
      "model_name": "LayoutModel",
      "state": {}
     },
     "a853837d118646b3b9103a28f779164c": {
      "model_module": "@jupyter-widgets/base",
      "model_module_version": "1.2.0",
      "model_name": "LayoutModel",
      "state": {}
     },
     "a855d998f3ae4f20bf5b31f995048050": {
      "model_module": "@jupyter-widgets/controls",
      "model_module_version": "1.5.0",
      "model_name": "FloatProgressModel",
      "state": {
       "bar_style": "success",
       "description": "100%",
       "layout": "IPY_MODEL_5fead3f10e6d4225a31ec11bfbd6e733",
       "max": 344,
       "style": "IPY_MODEL_f17a9509dfbd4948bb72ff536728a723",
       "value": 344
      }
     },
     "a862a7e23087446b8b46ad4d605ca3a0": {
      "model_module": "@jupyter-widgets/base",
      "model_module_version": "1.2.0",
      "model_name": "LayoutModel",
      "state": {}
     },
     "a8b4c4b418224808accac57d896fcb31": {
      "model_module": "@jupyter-widgets/controls",
      "model_module_version": "1.5.0",
      "model_name": "HTMLModel",
      "state": {
       "layout": "IPY_MODEL_958f1c6d1985447fb7a31ef874ac7600",
       "style": "IPY_MODEL_d7e92b1ff4a54c31869a16b96a435add",
       "value": " 0/344 [00:00&lt;?, ?it/s]"
      }
     },
     "a8c06e4414314a249d38e7f3a611c8ec": {
      "model_module": "@jupyter-widgets/controls",
      "model_module_version": "1.5.0",
      "model_name": "DescriptionStyleModel",
      "state": {
       "description_width": ""
      }
     },
     "a8e34b8a398e482799e995b16b0662d1": {
      "model_module": "@jupyter-widgets/base",
      "model_module_version": "1.2.0",
      "model_name": "LayoutModel",
      "state": {}
     },
     "a8f685a2957c42ef9b315ad403ddabd7": {
      "model_module": "@jupyter-widgets/controls",
      "model_module_version": "1.5.0",
      "model_name": "DescriptionStyleModel",
      "state": {
       "description_width": ""
      }
     },
     "a91b094acac24552b202402fd5320968": {
      "model_module": "@jupyter-widgets/controls",
      "model_module_version": "1.5.0",
      "model_name": "FloatProgressModel",
      "state": {
       "bar_style": "success",
       "description": "100%",
       "layout": "IPY_MODEL_55f5f187b25642a5b381184b5ca575a3",
       "max": 344,
       "style": "IPY_MODEL_5515aac2e54e4dadbabfa27083270f1d",
       "value": 344
      }
     },
     "a923ebfa64904609b93e31c0b267aee8": {
      "model_module": "@jupyter-widgets/controls",
      "model_module_version": "1.5.0",
      "model_name": "ProgressStyleModel",
      "state": {
       "description_width": "initial"
      }
     },
     "a9265f5a48404eeda1e54f2c134f8ac5": {
      "model_module": "@jupyter-widgets/base",
      "model_module_version": "1.2.0",
      "model_name": "LayoutModel",
      "state": {}
     },
     "a92a880d543c4e3e84879e06304922c6": {
      "model_module": "@jupyter-widgets/controls",
      "model_module_version": "1.5.0",
      "model_name": "HTMLModel",
      "state": {
       "layout": "IPY_MODEL_0fc5861cf08a421e825d165caf6e185f",
       "style": "IPY_MODEL_3784cbe4ccaf488592ddc922b0c28952",
       "value": " 344/344 [00:20&lt;00:00, 16.48it/s, end_loss=0.841, jaccard=0.71, start_loss=0.906]"
      }
     },
     "a94c1bb60a644a2eade8230f19662c62": {
      "model_module": "@jupyter-widgets/controls",
      "model_module_version": "1.5.0",
      "model_name": "HTMLModel",
      "state": {
       "layout": "IPY_MODEL_dfbcedf443d84c90a31311bc32c80cd7",
       "style": "IPY_MODEL_c5915a8541324599a884ac60442a188c",
       "value": " 0/344 [00:00&lt;?, ?it/s]"
      }
     },
     "a94c8208ff0f4c70b4813628debca686": {
      "model_module": "@jupyter-widgets/controls",
      "model_module_version": "1.5.0",
      "model_name": "HTMLModel",
      "state": {
       "layout": "IPY_MODEL_d2bd703da67942ad9ee4fa965058a091",
       "style": "IPY_MODEL_a66cdf4951764effa542d5cc7df17503",
       "value": " 344/344 [00:26&lt;00:00, 12.87it/s, end_loss=0.839, jaccard=0.717, start_loss=0.905]"
      }
     },
     "a962ff67593f4ae7adcea402382bd2a6": {
      "model_module": "@jupyter-widgets/base",
      "model_module_version": "1.2.0",
      "model_name": "LayoutModel",
      "state": {}
     },
     "a964d257fed0481d93b7adf844a191f4": {
      "model_module": "@jupyter-widgets/controls",
      "model_module_version": "1.5.0",
      "model_name": "HBoxModel",
      "state": {
       "children": [
        "IPY_MODEL_377e021991ad4c6e9dcbc29598bfc836",
        "IPY_MODEL_d0d5b87d5563442cbee6ec33dce043cf"
       ],
       "layout": "IPY_MODEL_3f4e81c333d446c4a6c3a2b5cb1f931c"
      }
     },
     "a97199dbbf5d40c6a294185b98d21f8e": {
      "model_module": "@jupyter-widgets/controls",
      "model_module_version": "1.5.0",
      "model_name": "FloatProgressModel",
      "state": {
       "bar_style": "success",
       "description": "100%",
       "layout": "IPY_MODEL_38e7680595814330842788aa450074cc",
       "max": 344,
       "style": "IPY_MODEL_9328ccfecdb84518a0e62c7f8695f5f8",
       "value": 344
      }
     },
     "a985e86941034c01b7b79eb8cc094915": {
      "model_module": "@jupyter-widgets/controls",
      "model_module_version": "1.5.0",
      "model_name": "HBoxModel",
      "state": {
       "children": [
        "IPY_MODEL_2ef8000de20b43918313b7721f779eac",
        "IPY_MODEL_6b9f4209ee6c45bb87ccef0122a53b85"
       ],
       "layout": "IPY_MODEL_e301c44170ff4a68905da4fa7cde0c09"
      }
     },
     "a999d23ad4ed49c8baf2bfe2e89d96c3": {
      "model_module": "@jupyter-widgets/controls",
      "model_module_version": "1.5.0",
      "model_name": "FloatProgressModel",
      "state": {
       "bar_style": "success",
       "description": "100%",
       "layout": "IPY_MODEL_034104b1618741ad9d00a83bc6dd811e",
       "max": 344,
       "style": "IPY_MODEL_cf43caadab9a4a7cae11053d9b265e53",
       "value": 344
      }
     },
     "a9acd4ed8dea446db76f80b0f2295a53": {
      "model_module": "@jupyter-widgets/controls",
      "model_module_version": "1.5.0",
      "model_name": "HBoxModel",
      "state": {
       "children": [
        "IPY_MODEL_a9def68c35ec4097822580e9c84ade4a",
        "IPY_MODEL_6952701b4a57468f9571ad5a34e96253"
       ],
       "layout": "IPY_MODEL_494b489f3c5e49858f378a806f932e80"
      }
     },
     "a9b89e6956834321aeecb22559463c33": {
      "model_module": "@jupyter-widgets/base",
      "model_module_version": "1.2.0",
      "model_name": "LayoutModel",
      "state": {}
     },
     "a9bec4541e4a41e6993d80ac5a363380": {
      "model_module": "@jupyter-widgets/controls",
      "model_module_version": "1.5.0",
      "model_name": "ProgressStyleModel",
      "state": {
       "description_width": "initial"
      }
     },
     "a9def68c35ec4097822580e9c84ade4a": {
      "model_module": "@jupyter-widgets/controls",
      "model_module_version": "1.5.0",
      "model_name": "FloatProgressModel",
      "state": {
       "bar_style": "success",
       "description": "100%",
       "layout": "IPY_MODEL_ee8f417d45c84d24bf4b6bf3147a0d08",
       "max": 344,
       "style": "IPY_MODEL_bc091f219f064ee8be8b4b27545a1442",
       "value": 344
      }
     },
     "a9e8bd3eb0a540c29e77f9f91535c409": {
      "model_module": "@jupyter-widgets/controls",
      "model_module_version": "1.5.0",
      "model_name": "HTMLModel",
      "state": {
       "layout": "IPY_MODEL_d2d34b22facf46b48ab920f9277f9859",
       "style": "IPY_MODEL_b45337850c034b8396963ff42558a9d4",
       "value": " 344/344 [04:16&lt;00:00,  1.34it/s, end_loss=0.793, jaccard=0.706, start_loss=0.848]"
      }
     },
     "a9eea2ebedd743aa897c353280488f0c": {
      "model_module": "@jupyter-widgets/controls",
      "model_module_version": "1.5.0",
      "model_name": "HBoxModel",
      "state": {
       "children": [
        "IPY_MODEL_fae0dfb433c44e3f91d9f83430825f3a",
        "IPY_MODEL_6249ad36471e4a12b951bdc0115c932d"
       ],
       "layout": "IPY_MODEL_c3e9e95dda714e4ab39848287106b6cb"
      }
     },
     "aa06ee91d34f490cbc25a2c2fa31e73b": {
      "model_module": "@jupyter-widgets/controls",
      "model_module_version": "1.5.0",
      "model_name": "HTMLModel",
      "state": {
       "layout": "IPY_MODEL_4fab81b9ba9744c58688e0c2e9eb8198",
       "style": "IPY_MODEL_7d13dd95c88a4705b62ffd154ba36afd",
       "value": " 344/344 [04:54&lt;00:00,  1.17it/s, end_loss=1.74, jaccard=0.658, start_loss=1.78]"
      }
     },
     "aa1cc683ac344805b9284d0adc9bdb5e": {
      "model_module": "@jupyter-widgets/controls",
      "model_module_version": "1.5.0",
      "model_name": "ProgressStyleModel",
      "state": {
       "description_width": "initial"
      }
     },
     "aa2f6b58bf7f4064a1f86a4197af97ef": {
      "model_module": "@jupyter-widgets/controls",
      "model_module_version": "1.5.0",
      "model_name": "HBoxModel",
      "state": {
       "children": [
        "IPY_MODEL_2c058eebfe4c495190f24c4a011aaf61",
        "IPY_MODEL_093351a4514b46e3a70da1db25d03b93"
       ],
       "layout": "IPY_MODEL_e99b5adbf4a44b40ba43fc9f3d7eb2a7"
      }
     },
     "aa4e52f3c4964e34af1a62fa5a5f602d": {
      "model_module": "@jupyter-widgets/controls",
      "model_module_version": "1.5.0",
      "model_name": "FloatProgressModel",
      "state": {
       "bar_style": "success",
       "description": "100%",
       "layout": "IPY_MODEL_7e09da9d4f444fa7b7c5db42a738e86e",
       "max": 344,
       "style": "IPY_MODEL_f62d192495fa40f8ba99c320df83093e",
       "value": 344
      }
     },
     "aa723249b85843a0b9263610072aeb2e": {
      "model_module": "@jupyter-widgets/controls",
      "model_module_version": "1.5.0",
      "model_name": "HBoxModel",
      "state": {
       "children": [
        "IPY_MODEL_246a17f60c284a80a7187b5b382f1ceb",
        "IPY_MODEL_66e936882fa74c758344ecf13f4982fd"
       ],
       "layout": "IPY_MODEL_5a2423bf7d4a4c9eb626ac3d1dafe496"
      }
     },
     "aa72822630984e45ad6dc3784b140dd3": {
      "model_module": "@jupyter-widgets/base",
      "model_module_version": "1.2.0",
      "model_name": "LayoutModel",
      "state": {}
     },
     "aa8cc70caed54b28ad145f9707c3bdfb": {
      "model_module": "@jupyter-widgets/controls",
      "model_module_version": "1.5.0",
      "model_name": "HTMLModel",
      "state": {
       "layout": "IPY_MODEL_82259c490d4a488eb5b4b661d3d924f1",
       "style": "IPY_MODEL_12f74f12747c456c9321fe6cdc241791",
       "value": " 344/344 [03:51&lt;00:00,  1.49it/s, end_loss=1.43, jaccard=0.624, start_loss=1.38]"
      }
     },
     "aa947f95369c416d9250403f3d290a4b": {
      "model_module": "@jupyter-widgets/controls",
      "model_module_version": "1.5.0",
      "model_name": "HBoxModel",
      "state": {
       "children": [
        "IPY_MODEL_f2c0938a75854ef1b66803d6ad3fd2a6",
        "IPY_MODEL_fc5441c26daa45abb5027c3c32d8e445"
       ],
       "layout": "IPY_MODEL_4777595d15604e1bbfaaf2b909d3fe81"
      }
     },
     "aab5606405974262bd8091c60a1c32e6": {
      "model_module": "@jupyter-widgets/base",
      "model_module_version": "1.2.0",
      "model_name": "LayoutModel",
      "state": {}
     },
     "aae8a38f8d8b43a288897a78fdf3caf2": {
      "model_module": "@jupyter-widgets/controls",
      "model_module_version": "1.5.0",
      "model_name": "ProgressStyleModel",
      "state": {
       "description_width": "initial"
      }
     },
     "ab128bb3405b4f7f9ee3aadfb71da474": {
      "model_module": "@jupyter-widgets/controls",
      "model_module_version": "1.5.0",
      "model_name": "ProgressStyleModel",
      "state": {
       "description_width": "initial"
      }
     },
     "ab3df5e9602b45bca591817c3da6be1e": {
      "model_module": "@jupyter-widgets/base",
      "model_module_version": "1.2.0",
      "model_name": "LayoutModel",
      "state": {}
     },
     "ab4c975fbeeb412f98a66814cb74b0eb": {
      "model_module": "@jupyter-widgets/base",
      "model_module_version": "1.2.0",
      "model_name": "LayoutModel",
      "state": {}
     },
     "ab5691502ddf44a281af7d8b87dec262": {
      "model_module": "@jupyter-widgets/controls",
      "model_module_version": "1.5.0",
      "model_name": "DescriptionStyleModel",
      "state": {
       "description_width": ""
      }
     },
     "ab80c81620b34fb7a70a4bd8ec9702de": {
      "model_module": "@jupyter-widgets/controls",
      "model_module_version": "1.5.0",
      "model_name": "FloatProgressModel",
      "state": {
       "bar_style": "success",
       "description": "100%",
       "layout": "IPY_MODEL_1d0d2930ce5d4ff2a07ca590b222f884",
       "max": 344,
       "style": "IPY_MODEL_634a8537105646c883335fdaad90122d",
       "value": 344
      }
     },
     "ab9c2391a51849d985a5abea41926960": {
      "model_module": "@jupyter-widgets/controls",
      "model_module_version": "1.5.0",
      "model_name": "FloatProgressModel",
      "state": {
       "bar_style": "success",
       "description": "100%",
       "layout": "IPY_MODEL_ddc5c48afa9a426293e4152d723ca0c6",
       "max": 344,
       "style": "IPY_MODEL_45099a8e66a84766a5875b0e1d0be6df",
       "value": 344
      }
     },
     "abcc129e339141a384194fd862c6f5d2": {
      "model_module": "@jupyter-widgets/controls",
      "model_module_version": "1.5.0",
      "model_name": "HBoxModel",
      "state": {
       "children": [
        "IPY_MODEL_d188cbcbeb4546dd83df725f883c688c",
        "IPY_MODEL_4c73c48b02164ec2941f90a0bc72b929"
       ],
       "layout": "IPY_MODEL_a8e34b8a398e482799e995b16b0662d1"
      }
     },
     "abd1dcabc8264f629e1de238e2901d13": {
      "model_module": "@jupyter-widgets/controls",
      "model_module_version": "1.5.0",
      "model_name": "FloatProgressModel",
      "state": {
       "bar_style": "success",
       "description": "100%",
       "layout": "IPY_MODEL_b7baa22fb34d42448333b1fd13b807d2",
       "max": 344,
       "style": "IPY_MODEL_f915b96f1f824b2ab74645890529e4ab",
       "value": 344
      }
     },
     "abd60b85996347fda7dddca1334e5450": {
      "model_module": "@jupyter-widgets/controls",
      "model_module_version": "1.5.0",
      "model_name": "HTMLModel",
      "state": {
       "layout": "IPY_MODEL_0e980afd92b24319a63906b5ef58f25c",
       "style": "IPY_MODEL_453df0bb53584f59a4609b08f7f7921e",
       "value": " 81/344 [00:45&lt;02:28,  1.77it/s, end_loss=1.12, jaccard=0.645, start_loss=1.14]"
      }
     },
     "abedae028ef6451facebcac243c3f1b2": {
      "model_module": "@jupyter-widgets/controls",
      "model_module_version": "1.5.0",
      "model_name": "DescriptionStyleModel",
      "state": {
       "description_width": ""
      }
     },
     "ac099027523148538d3503f55a7c0a74": {
      "model_module": "@jupyter-widgets/controls",
      "model_module_version": "1.5.0",
      "model_name": "FloatProgressModel",
      "state": {
       "bar_style": "success",
       "description": "100%",
       "layout": "IPY_MODEL_000d1ae443f744a486bef68b4f05b3e3",
       "max": 344,
       "style": "IPY_MODEL_6f5de7cc668f45c6940c59e1cbb0bd7e",
       "value": 344
      }
     },
     "ac0fc149110846aba3ae576cb9e5c5fd": {
      "model_module": "@jupyter-widgets/controls",
      "model_module_version": "1.5.0",
      "model_name": "ProgressStyleModel",
      "state": {
       "description_width": "initial"
      }
     },
     "ac1de5794c5548b885875a7c46b26bdd": {
      "model_module": "@jupyter-widgets/controls",
      "model_module_version": "1.5.0",
      "model_name": "HTMLModel",
      "state": {
       "layout": "IPY_MODEL_5649056559554644ace67e5cfc03be00",
       "style": "IPY_MODEL_7a80e111e7594797a2565eec7e14cb79",
       "value": " 344/344 [00:24&lt;00:00, 13.85it/s, end_loss=0.912, jaccard=0.709, start_loss=0.925]"
      }
     },
     "ac52c1e23534430b9bab7d1e71725797": {
      "model_module": "@jupyter-widgets/base",
      "model_module_version": "1.2.0",
      "model_name": "LayoutModel",
      "state": {}
     },
     "ac7abc3854154ddbaeadb4ba4bda2fd7": {
      "model_module": "@jupyter-widgets/base",
      "model_module_version": "1.2.0",
      "model_name": "LayoutModel",
      "state": {}
     },
     "ac7b9c85b5ed4831a645c9f7123e9939": {
      "model_module": "@jupyter-widgets/controls",
      "model_module_version": "1.5.0",
      "model_name": "ProgressStyleModel",
      "state": {
       "description_width": "initial"
      }
     },
     "ac8fe4cdd41a417f91cc6dfe415f87c0": {
      "model_module": "@jupyter-widgets/controls",
      "model_module_version": "1.5.0",
      "model_name": "HTMLModel",
      "state": {
       "layout": "IPY_MODEL_eb1367bf9def401c893f824a453e7b74",
       "style": "IPY_MODEL_dc18e43c0e7748fbb366a9e95cc29265",
       "value": " 344/344 [00:19&lt;00:00, 17.62it/s, end_loss=1.49, jaccard=0.703, start_loss=1.53]"
      }
     },
     "acc05ee066df4c4aa65fc60afbaec459": {
      "model_module": "@jupyter-widgets/base",
      "model_module_version": "1.2.0",
      "model_name": "LayoutModel",
      "state": {}
     },
     "acd7dd2c0773457794a658729484032f": {
      "model_module": "@jupyter-widgets/controls",
      "model_module_version": "1.5.0",
      "model_name": "ProgressStyleModel",
      "state": {
       "description_width": "initial"
      }
     },
     "acdbd19f8c4a4bf18046e1201d07f841": {
      "model_module": "@jupyter-widgets/controls",
      "model_module_version": "1.5.0",
      "model_name": "HTMLModel",
      "state": {
       "layout": "IPY_MODEL_4af7560fe03441a3a2c06f2280295dac",
       "style": "IPY_MODEL_f2e14e831dfe40e79475a55bbef2125d",
       "value": " 344/344 [05:48&lt;00:00,  1.01s/it, end_loss=1.01, jaccard=0.666, start_loss=1.05]"
      }
     },
     "ace3465e96814585a9b1db7eb91d715d": {
      "model_module": "@jupyter-widgets/base",
      "model_module_version": "1.2.0",
      "model_name": "LayoutModel",
      "state": {}
     },
     "acf0af7a8659444b88672467262438e0": {
      "model_module": "@jupyter-widgets/base",
      "model_module_version": "1.2.0",
      "model_name": "LayoutModel",
      "state": {}
     },
     "acf186eb6b3941dfbb48d45eef034018": {
      "model_module": "@jupyter-widgets/base",
      "model_module_version": "1.2.0",
      "model_name": "LayoutModel",
      "state": {}
     },
     "ad3a6c1d34504a4d9b7131f4453cdea5": {
      "model_module": "@jupyter-widgets/base",
      "model_module_version": "1.2.0",
      "model_name": "LayoutModel",
      "state": {}
     },
     "ad706e1514bb4ccdbe14879b4e0acbdd": {
      "model_module": "@jupyter-widgets/controls",
      "model_module_version": "1.5.0",
      "model_name": "HTMLModel",
      "state": {
       "layout": "IPY_MODEL_cbb80410944846ac9e373e3062cc4deb",
       "style": "IPY_MODEL_cd871846be4342b1a0f48748417283a4",
       "value": " 0/344 [00:00&lt;?, ?it/s]"
      }
     },
     "ad7206da69174b668f381c655bc89995": {
      "model_module": "@jupyter-widgets/base",
      "model_module_version": "1.2.0",
      "model_name": "LayoutModel",
      "state": {}
     },
     "ad86c246d7a24f84ab21e5d40672542a": {
      "model_module": "@jupyter-widgets/controls",
      "model_module_version": "1.5.0",
      "model_name": "DescriptionStyleModel",
      "state": {
       "description_width": ""
      }
     },
     "adb3129f6b1446ce8791d2196e1c36cc": {
      "model_module": "@jupyter-widgets/controls",
      "model_module_version": "1.5.0",
      "model_name": "HTMLModel",
      "state": {
       "layout": "IPY_MODEL_f3cb9fc539b5409fb83b38a01321daf0",
       "style": "IPY_MODEL_544b86602be94427a9901fbb91d91f51",
       "value": " 344/344 [03:17&lt;00:00,  1.74it/s, end_loss=1.12, jaccard=0.682, start_loss=1.14]"
      }
     },
     "addbf5fa91514b358bb13f8c5145dd9d": {
      "model_module": "@jupyter-widgets/base",
      "model_module_version": "1.2.0",
      "model_name": "LayoutModel",
      "state": {}
     },
     "adfcbad5e42541e7b72707da27f4ad7e": {
      "model_module": "@jupyter-widgets/controls",
      "model_module_version": "1.5.0",
      "model_name": "HTMLModel",
      "state": {
       "layout": "IPY_MODEL_413baff9ff9f47288f19796289e9d53f",
       "style": "IPY_MODEL_53f3c13230b743428a215b355160822a",
       "value": " 344/344 [19:27&lt;00:00,  3.39s/it, end_loss=0.969, jaccard=0.717, start_loss=1]"
      }
     },
     "ae0cc18c9aea4641a0a7017ab92eb267": {
      "model_module": "@jupyter-widgets/controls",
      "model_module_version": "1.5.0",
      "model_name": "DescriptionStyleModel",
      "state": {
       "description_width": ""
      }
     },
     "ae3be821f9fa41c5996728fa9b88d8b0": {
      "model_module": "@jupyter-widgets/controls",
      "model_module_version": "1.5.0",
      "model_name": "HBoxModel",
      "state": {
       "children": [
        "IPY_MODEL_ce3774cea8b84e8882b799b4d9f30f24",
        "IPY_MODEL_ecc770db65214f99b3df0284b8fa073e"
       ],
       "layout": "IPY_MODEL_ddf09c511cf5407fae20ace2e982a4cc"
      }
     },
     "ae493b53809f4bbfa6a5883d19ba4d96": {
      "model_module": "@jupyter-widgets/controls",
      "model_module_version": "1.5.0",
      "model_name": "ProgressStyleModel",
      "state": {
       "description_width": "initial"
      }
     },
     "ae529b85eb7a4075a335afff8265670d": {
      "model_module": "@jupyter-widgets/controls",
      "model_module_version": "1.5.0",
      "model_name": "FloatProgressModel",
      "state": {
       "bar_style": "success",
       "description": "100%",
       "layout": "IPY_MODEL_cd5a97f966ca4fe4a8db22241db58f8d",
       "max": 344,
       "style": "IPY_MODEL_21a0f8ccd4f34032b8db7fcc1a0bcf77",
       "value": 344
      }
     },
     "ae8f25ce38ca441b89816903297984e4": {
      "model_module": "@jupyter-widgets/base",
      "model_module_version": "1.2.0",
      "model_name": "LayoutModel",
      "state": {}
     },
     "ae923992e97d462390cb429c6f416b3a": {
      "model_module": "@jupyter-widgets/controls",
      "model_module_version": "1.5.0",
      "model_name": "HTMLModel",
      "state": {
       "layout": "IPY_MODEL_ab3df5e9602b45bca591817c3da6be1e",
       "style": "IPY_MODEL_1355d7636ec64245930476fd6edb4104",
       "value": " 344/344 [00:23&lt;00:00, 14.83it/s, end_loss=0.795, jaccard=0.716, start_loss=0.817]"
      }
     },
     "aeb1f49b48a9479bba8fde9eb6894889": {
      "model_module": "@jupyter-widgets/controls",
      "model_module_version": "1.5.0",
      "model_name": "HBoxModel",
      "state": {
       "children": [
        "IPY_MODEL_099e72ce3ddf4a6ab7a63c77bfa96aca",
        "IPY_MODEL_d315ff02b19f4ad49710c6ae82ebf57c"
       ],
       "layout": "IPY_MODEL_6d18e14bbda242ebb5533f86cf31a4ff"
      }
     },
     "aedf35e817b04030b664b44002c29924": {
      "model_module": "@jupyter-widgets/controls",
      "model_module_version": "1.5.0",
      "model_name": "DescriptionStyleModel",
      "state": {
       "description_width": ""
      }
     },
     "aee084df6f0b4be3900434c00e3d0557": {
      "model_module": "@jupyter-widgets/controls",
      "model_module_version": "1.5.0",
      "model_name": "HBoxModel",
      "state": {
       "children": [
        "IPY_MODEL_d2f2275976824a1abec97dcc137a7985",
        "IPY_MODEL_3ec054807292480084756968787a6ead"
       ],
       "layout": "IPY_MODEL_4baf768aeacb46178533e3339f76117d"
      }
     },
     "aef3840253094255ac81a4ee2155fcba": {
      "model_module": "@jupyter-widgets/controls",
      "model_module_version": "1.5.0",
      "model_name": "FloatProgressModel",
      "state": {
       "bar_style": "success",
       "description": "100%",
       "layout": "IPY_MODEL_476be6e17c754a54a81209e20c41cdb8",
       "max": 344,
       "style": "IPY_MODEL_0df018c39adf4130bca05e558f9ca89c",
       "value": 344
      }
     },
     "af17b953042744599944c15b69e5cff9": {
      "model_module": "@jupyter-widgets/controls",
      "model_module_version": "1.5.0",
      "model_name": "FloatProgressModel",
      "state": {
       "bar_style": "success",
       "description": "100%",
       "layout": "IPY_MODEL_67df35d158c54eef8a0c6820b6800500",
       "max": 344,
       "style": "IPY_MODEL_8359a808b2f943d69be250debffc2163",
       "value": 344
      }
     },
     "af17bee2581c419da45a16b8dc6f2f4d": {
      "model_module": "@jupyter-widgets/controls",
      "model_module_version": "1.5.0",
      "model_name": "ProgressStyleModel",
      "state": {
       "description_width": "initial"
      }
     },
     "af2da932a20e4978bca47561d34dc0b7": {
      "model_module": "@jupyter-widgets/base",
      "model_module_version": "1.2.0",
      "model_name": "LayoutModel",
      "state": {}
     },
     "af2dd65237984206803c96b90a7fd57d": {
      "model_module": "@jupyter-widgets/controls",
      "model_module_version": "1.5.0",
      "model_name": "DescriptionStyleModel",
      "state": {
       "description_width": ""
      }
     },
     "af4da94501ef44dd8ca29842c8b18321": {
      "model_module": "@jupyter-widgets/controls",
      "model_module_version": "1.5.0",
      "model_name": "FloatProgressModel",
      "state": {
       "bar_style": "success",
       "description": "100%",
       "layout": "IPY_MODEL_1728c838e8e744e3925d333f53ae10f3",
       "max": 344,
       "style": "IPY_MODEL_cb2a6da35edc4e2c9d544f4861a42d35",
       "value": 344
      }
     },
     "af6d2de747d7419da678b8648e9806e9": {
      "model_module": "@jupyter-widgets/base",
      "model_module_version": "1.2.0",
      "model_name": "LayoutModel",
      "state": {}
     },
     "af6ee0af83284e29b0092da5c4066c1a": {
      "model_module": "@jupyter-widgets/base",
      "model_module_version": "1.2.0",
      "model_name": "LayoutModel",
      "state": {}
     },
     "af8175f35fa5481fb7ccda0ad4628477": {
      "model_module": "@jupyter-widgets/controls",
      "model_module_version": "1.5.0",
      "model_name": "FloatProgressModel",
      "state": {
       "bar_style": "success",
       "description": "100%",
       "layout": "IPY_MODEL_80b56f25e43b4108bc5e577977a3c1ce",
       "max": 344,
       "style": "IPY_MODEL_3470cae3276642cbb447f62379f2e3a4",
       "value": 344
      }
     },
     "af8fb19a58b247bf950c28ffc02c3cb5": {
      "model_module": "@jupyter-widgets/controls",
      "model_module_version": "1.5.0",
      "model_name": "ProgressStyleModel",
      "state": {
       "description_width": "initial"
      }
     },
     "afa5b06c43f9420a822562a9829ae88c": {
      "model_module": "@jupyter-widgets/controls",
      "model_module_version": "1.5.0",
      "model_name": "DescriptionStyleModel",
      "state": {
       "description_width": ""
      }
     },
     "afbeee0313fb42cd8939054ecc2bb19b": {
      "model_module": "@jupyter-widgets/controls",
      "model_module_version": "1.5.0",
      "model_name": "HTMLModel",
      "state": {
       "layout": "IPY_MODEL_e1e8db97c6bf4c18b37b6d12d044dc25",
       "style": "IPY_MODEL_7c685134a13e41a69fa7ec9661e8ea3f",
       "value": " 344/344 [00:19&lt;00:00, 17.56it/s, end_loss=0.779, jaccard=0.707, start_loss=0.84]"
      }
     },
     "afd3fb6000da4987aac779cccaf5a43c": {
      "model_module": "@jupyter-widgets/base",
      "model_module_version": "1.2.0",
      "model_name": "LayoutModel",
      "state": {}
     },
     "afd4bd74c442404e9ce1f0f5bd49bf21": {
      "model_module": "@jupyter-widgets/base",
      "model_module_version": "1.2.0",
      "model_name": "LayoutModel",
      "state": {}
     },
     "b018604acdf440c8853e3f8b214905d2": {
      "model_module": "@jupyter-widgets/base",
      "model_module_version": "1.2.0",
      "model_name": "LayoutModel",
      "state": {}
     },
     "b027327e1d2f4d758fec4be3e6cbaabc": {
      "model_module": "@jupyter-widgets/controls",
      "model_module_version": "1.5.0",
      "model_name": "FloatProgressModel",
      "state": {
       "bar_style": "success",
       "description": "100%",
       "layout": "IPY_MODEL_8190d5f8856344f2b744dc3c4137cb2c",
       "max": 344,
       "style": "IPY_MODEL_9fea3f55620a43e7b0b1fed10d6ccd9d",
       "value": 344
      }
     },
     "b03355e34b5046bcb51467977dd752d4": {
      "model_module": "@jupyter-widgets/controls",
      "model_module_version": "1.5.0",
      "model_name": "HBoxModel",
      "state": {
       "children": [
        "IPY_MODEL_ff45a5cb75b14fbc8e26e5b11df1937d",
        "IPY_MODEL_e15119d1c14b44388b53b1028d6227a4"
       ],
       "layout": "IPY_MODEL_24b64c1ee59f434fb1aa6e4a476ba060"
      }
     },
     "b043d5d224274987adb2dc98e48b4ba7": {
      "model_module": "@jupyter-widgets/base",
      "model_module_version": "1.2.0",
      "model_name": "LayoutModel",
      "state": {}
     },
     "b048d4675d3c4870aaafbcadf446c0de": {
      "model_module": "@jupyter-widgets/controls",
      "model_module_version": "1.5.0",
      "model_name": "HBoxModel",
      "state": {
       "children": [
        "IPY_MODEL_55d155f173ce4ff7a1535d551a70a130",
        "IPY_MODEL_302f5de1e8024a718e0d8f823aca63d5"
       ],
       "layout": "IPY_MODEL_c37dfd9962f6428cba4af1fe47f3d6c5"
      }
     },
     "b057a89329ea46069b13297e72b0fb35": {
      "model_module": "@jupyter-widgets/base",
      "model_module_version": "1.2.0",
      "model_name": "LayoutModel",
      "state": {}
     },
     "b076331ce2c0468cb769297c49ac17df": {
      "model_module": "@jupyter-widgets/controls",
      "model_module_version": "1.5.0",
      "model_name": "HTMLModel",
      "state": {
       "layout": "IPY_MODEL_19957d82f6c84e86bcdb531c263a1057",
       "style": "IPY_MODEL_1273465d816349f18f08065dd4624f83",
       "value": " 344/344 [00:20&lt;00:00, 16.52it/s, end_loss=0.8, jaccard=0.7, merged_loss=1, start_loss=0.84]"
      }
     },
     "b07687bca7ba4186bb1fd6523c88ccba": {
      "model_module": "@jupyter-widgets/base",
      "model_module_version": "1.2.0",
      "model_name": "LayoutModel",
      "state": {}
     },
     "b093404aa6964002b727ac5151a54f51": {
      "model_module": "@jupyter-widgets/controls",
      "model_module_version": "1.5.0",
      "model_name": "FloatProgressModel",
      "state": {
       "bar_style": "success",
       "description": "100%",
       "layout": "IPY_MODEL_2c96bfa86766416bbc216893fb8c4ac0",
       "max": 344,
       "style": "IPY_MODEL_2564cb672a9a4bb994d96120fd9a9d9b",
       "value": 344
      }
     },
     "b0a6cd19e19544a496a82e8d19e6c092": {
      "model_module": "@jupyter-widgets/controls",
      "model_module_version": "1.5.0",
      "model_name": "ProgressStyleModel",
      "state": {
       "description_width": "initial"
      }
     },
     "b0e9b8f4d3a64ac490ae2f8289a90f2d": {
      "model_module": "@jupyter-widgets/controls",
      "model_module_version": "1.5.0",
      "model_name": "HBoxModel",
      "state": {
       "children": [
        "IPY_MODEL_c3434340c0274963a4cac898ff9f5d4e",
        "IPY_MODEL_6aa2298a7b6d497893e0426545e47e1d"
       ],
       "layout": "IPY_MODEL_ddcb5bdc047f415a9e1e9a077755cbd6"
      }
     },
     "b1093787269f44209e3eeab3938c3569": {
      "model_module": "@jupyter-widgets/controls",
      "model_module_version": "1.5.0",
      "model_name": "ProgressStyleModel",
      "state": {
       "description_width": "initial"
      }
     },
     "b121dd95150b49abb693b252ee9aa615": {
      "model_module": "@jupyter-widgets/controls",
      "model_module_version": "1.5.0",
      "model_name": "DescriptionStyleModel",
      "state": {
       "description_width": ""
      }
     },
     "b1258eb1ecfd4393b0e4e602ba539006": {
      "model_module": "@jupyter-widgets/controls",
      "model_module_version": "1.5.0",
      "model_name": "ProgressStyleModel",
      "state": {
       "description_width": "initial"
      }
     },
     "b13e6426cb7a4ae7bbf9bdd0236c0b0d": {
      "model_module": "@jupyter-widgets/controls",
      "model_module_version": "1.5.0",
      "model_name": "HBoxModel",
      "state": {
       "children": [
        "IPY_MODEL_6140803977734129adadbb7411b73f95",
        "IPY_MODEL_cc32c728332c43a4920b34535c0fedc3"
       ],
       "layout": "IPY_MODEL_203f804c42ee48e3bd5778a9e144f6c2"
      }
     },
     "b148292fe0b743c59d223b4131c4dfcd": {
      "model_module": "@jupyter-widgets/controls",
      "model_module_version": "1.5.0",
      "model_name": "ProgressStyleModel",
      "state": {
       "description_width": "initial"
      }
     },
     "b1496dca53bc4b7cb389ed33d7e36850": {
      "model_module": "@jupyter-widgets/controls",
      "model_module_version": "1.5.0",
      "model_name": "DescriptionStyleModel",
      "state": {
       "description_width": ""
      }
     },
     "b1540d6212dd4c4ab80848b236109686": {
      "model_module": "@jupyter-widgets/controls",
      "model_module_version": "1.5.0",
      "model_name": "ProgressStyleModel",
      "state": {
       "description_width": "initial"
      }
     },
     "b179ba4c27214068897860918825a749": {
      "model_module": "@jupyter-widgets/controls",
      "model_module_version": "1.5.0",
      "model_name": "HBoxModel",
      "state": {
       "children": [
        "IPY_MODEL_75aa42d3444141129a7cf44948715f74",
        "IPY_MODEL_98f4df13fe4d41a29872bcf325f620c2"
       ],
       "layout": "IPY_MODEL_9d0921d90edf43e89e405ba1856d7875"
      }
     },
     "b19ceee051f44e699570e466ad5afeff": {
      "model_module": "@jupyter-widgets/controls",
      "model_module_version": "1.5.0",
      "model_name": "FloatProgressModel",
      "state": {
       "bar_style": "success",
       "description": "100%",
       "layout": "IPY_MODEL_3f403a08fe254529a5fa05c6b6a32d35",
       "max": 344,
       "style": "IPY_MODEL_5df03d59169d48319c53289bd687f8cd",
       "value": 344
      }
     },
     "b1a383b3c7754cd892a11ac23f677783": {
      "model_module": "@jupyter-widgets/base",
      "model_module_version": "1.2.0",
      "model_name": "LayoutModel",
      "state": {}
     },
     "b1c9b4cd1b0e4f5d9075001e76041518": {
      "model_module": "@jupyter-widgets/base",
      "model_module_version": "1.2.0",
      "model_name": "LayoutModel",
      "state": {}
     },
     "b1d70c8ed6c244178e09b46e6ae2eb00": {
      "model_module": "@jupyter-widgets/controls",
      "model_module_version": "1.5.0",
      "model_name": "FloatProgressModel",
      "state": {
       "bar_style": "success",
       "description": "100%",
       "layout": "IPY_MODEL_b748ffc995924b4fb2a006344df385c3",
       "max": 344,
       "style": "IPY_MODEL_659c65a22c7d40228158df3b9f27de5f",
       "value": 344
      }
     },
     "b22698de2a094806889072a5df5200f9": {
      "model_module": "@jupyter-widgets/base",
      "model_module_version": "1.2.0",
      "model_name": "LayoutModel",
      "state": {}
     },
     "b2355c447ca042dcb087278c220808c3": {
      "model_module": "@jupyter-widgets/base",
      "model_module_version": "1.2.0",
      "model_name": "LayoutModel",
      "state": {}
     },
     "b250868585c349a88011d5baee360de2": {
      "model_module": "@jupyter-widgets/controls",
      "model_module_version": "1.5.0",
      "model_name": "HTMLModel",
      "state": {
       "layout": "IPY_MODEL_dced993fef024c058945f2021f473a01",
       "style": "IPY_MODEL_fc01d1c63df5469fb10b28473c1eb580",
       "value": " 344/344 [08:15&lt;00:00,  1.44s/it, end_loss=0.768, jaccard=0.717, start_loss=0.852]"
      }
     },
     "b256f253025a4225a4caa7864eedd347": {
      "model_module": "@jupyter-widgets/controls",
      "model_module_version": "1.5.0",
      "model_name": "FloatProgressModel",
      "state": {
       "bar_style": "success",
       "description": "100%",
       "layout": "IPY_MODEL_8c8cf108a48448378b04fc8da7fef787",
       "max": 344,
       "style": "IPY_MODEL_1b55fa3d110549f191703bb5e3988744",
       "value": 344
      }
     },
     "b283f8dcc6464c3bb6f4d9b9f8b78df4": {
      "model_module": "@jupyter-widgets/controls",
      "model_module_version": "1.5.0",
      "model_name": "HTMLModel",
      "state": {
       "layout": "IPY_MODEL_713f26cd39b74f1cba1ef2ebc7caa0ae",
       "style": "IPY_MODEL_fec43dc552904b469990a2329ff69664",
       "value": " 344/344 [00:20&lt;00:00, 16.83it/s, end_loss=0.795, jaccard=0.708, merged_loss=1.01, start_loss=0.843]"
      }
     },
     "b2af0667ac7a4221af1aa9f4a841fb2d": {
      "model_module": "@jupyter-widgets/base",
      "model_module_version": "1.2.0",
      "model_name": "LayoutModel",
      "state": {}
     },
     "b2b3587852824815bc09656593559c20": {
      "model_module": "@jupyter-widgets/controls",
      "model_module_version": "1.5.0",
      "model_name": "HTMLModel",
      "state": {
       "layout": "IPY_MODEL_87362004beb647a482905f01d059af35",
       "style": "IPY_MODEL_4912fb5b5ab64360bf1b88aef2c9bc34",
       "value": " 344/344 [07:03&lt;00:00,  1.23s/it, end_loss=1.7, jaccard=0.67, start_loss=1.73]"
      }
     },
     "b2bbaec763b144f78749831775ce9c53": {
      "model_module": "@jupyter-widgets/base",
      "model_module_version": "1.2.0",
      "model_name": "LayoutModel",
      "state": {}
     },
     "b2cab02e802a45c6a211fc58928088f4": {
      "model_module": "@jupyter-widgets/controls",
      "model_module_version": "1.5.0",
      "model_name": "DescriptionStyleModel",
      "state": {
       "description_width": ""
      }
     },
     "b2cc49ded2194f69b63e2f64cd513191": {
      "model_module": "@jupyter-widgets/controls",
      "model_module_version": "1.5.0",
      "model_name": "DescriptionStyleModel",
      "state": {
       "description_width": ""
      }
     },
     "b2dbfd7047dc4ea9b95dcafabf00569a": {
      "model_module": "@jupyter-widgets/base",
      "model_module_version": "1.2.0",
      "model_name": "LayoutModel",
      "state": {}
     },
     "b2e3bdbe74474ed28d513f02c773316d": {
      "model_module": "@jupyter-widgets/controls",
      "model_module_version": "1.5.0",
      "model_name": "HBoxModel",
      "state": {
       "children": [
        "IPY_MODEL_97bb5de4087744e8816df51470764ef8",
        "IPY_MODEL_ba7e09c864d248579121923a4b5a124b"
       ],
       "layout": "IPY_MODEL_bdfbbe4b8ff24fd9be0a0ffadd90bc36"
      }
     },
     "b2e594fdfc054bc499689941f0853262": {
      "model_module": "@jupyter-widgets/base",
      "model_module_version": "1.2.0",
      "model_name": "LayoutModel",
      "state": {}
     },
     "b30737c3ec194b7184b1c4463d07ae84": {
      "model_module": "@jupyter-widgets/controls",
      "model_module_version": "1.5.0",
      "model_name": "HTMLModel",
      "state": {
       "layout": "IPY_MODEL_b2dbfd7047dc4ea9b95dcafabf00569a",
       "style": "IPY_MODEL_185c80652f6c42309bc0cf0fdc2d0107",
       "value": " 344/344 [07:46&lt;00:00,  1.36s/it, end_loss=0.988, jaccard=0.709, start_loss=1.04]"
      }
     },
     "b3079bd543e94989a7deb05bc8e074fc": {
      "model_module": "@jupyter-widgets/controls",
      "model_module_version": "1.5.0",
      "model_name": "ProgressStyleModel",
      "state": {
       "description_width": "initial"
      }
     },
     "b34848ed2e67489dbfc77cabdada6979": {
      "model_module": "@jupyter-widgets/base",
      "model_module_version": "1.2.0",
      "model_name": "LayoutModel",
      "state": {}
     },
     "b34965009eb04794ba5cf499b27bbad8": {
      "model_module": "@jupyter-widgets/base",
      "model_module_version": "1.2.0",
      "model_name": "LayoutModel",
      "state": {}
     },
     "b35aee10219a4181930dffaae842ad8d": {
      "model_module": "@jupyter-widgets/controls",
      "model_module_version": "1.5.0",
      "model_name": "HTMLModel",
      "state": {
       "layout": "IPY_MODEL_699c1c3201884b1689371b369bcd9fe8",
       "style": "IPY_MODEL_652d844aa2ea4364b59f32ad5a4e6f05",
       "value": " 344/344 [00:19&lt;00:00, 17.54it/s, end_loss=0.807, jaccard=0.704, start_loss=0.86]"
      }
     },
     "b36a4615efec460b86fbaed1bd7dad61": {
      "model_module": "@jupyter-widgets/controls",
      "model_module_version": "1.5.0",
      "model_name": "HBoxModel",
      "state": {
       "children": [
        "IPY_MODEL_40851815e07042ce80d5866caf5fe70e",
        "IPY_MODEL_294affe71f9942309676afbec625e7b5"
       ],
       "layout": "IPY_MODEL_8b78f58ed98641519dfdc467f94707de"
      }
     },
     "b39f1521aad94d4ea94d2e4865d1a3e3": {
      "model_module": "@jupyter-widgets/controls",
      "model_module_version": "1.5.0",
      "model_name": "HBoxModel",
      "state": {
       "children": [
        "IPY_MODEL_49e4ccf7f8fb438bab95f69013fe8d77",
        "IPY_MODEL_89398508bcc741d7aadba217dc3a8710"
       ],
       "layout": "IPY_MODEL_34fbff37ae4e4b238ae2b49f7fd04b45"
      }
     },
     "b3ac046238b7438ab331e67ba0659348": {
      "model_module": "@jupyter-widgets/controls",
      "model_module_version": "1.5.0",
      "model_name": "HBoxModel",
      "state": {
       "children": [
        "IPY_MODEL_06c1eede26994ec38673f50f262be0e3",
        "IPY_MODEL_ed83066e7c8a4064a9f9f4107a2e48b9"
       ],
       "layout": "IPY_MODEL_18b02675e98e47ec92ca93c7a17a82ff"
      }
     },
     "b3ffb7294e6d4fcabe09678cee836150": {
      "model_module": "@jupyter-widgets/base",
      "model_module_version": "1.2.0",
      "model_name": "LayoutModel",
      "state": {}
     },
     "b405a0e275f94c6c9832992a748d6e54": {
      "model_module": "@jupyter-widgets/base",
      "model_module_version": "1.2.0",
      "model_name": "LayoutModel",
      "state": {}
     },
     "b408c790cf1646c583e6e6e26891c693": {
      "model_module": "@jupyter-widgets/controls",
      "model_module_version": "1.5.0",
      "model_name": "HBoxModel",
      "state": {
       "children": [
        "IPY_MODEL_d5605f10c45e4de4a268359f4d626641",
        "IPY_MODEL_05ef1585bef94da09e5020ae8c0514b1"
       ],
       "layout": "IPY_MODEL_05e197acac164409b423407c594279dd"
      }
     },
     "b44881b59d724bf1bd24985d93c9ea90": {
      "model_module": "@jupyter-widgets/controls",
      "model_module_version": "1.5.0",
      "model_name": "HBoxModel",
      "state": {
       "children": [
        "IPY_MODEL_cc1d6e96161146a0be3941eeb7f58dcb",
        "IPY_MODEL_ac8fe4cdd41a417f91cc6dfe415f87c0"
       ],
       "layout": "IPY_MODEL_fbb55c1e91644dc3ba8df1f6e61cf681"
      }
     },
     "b45337850c034b8396963ff42558a9d4": {
      "model_module": "@jupyter-widgets/controls",
      "model_module_version": "1.5.0",
      "model_name": "DescriptionStyleModel",
      "state": {
       "description_width": ""
      }
     },
     "b463160f5e5e4d7b86a12d6550ef2a2e": {
      "model_module": "@jupyter-widgets/controls",
      "model_module_version": "1.5.0",
      "model_name": "ProgressStyleModel",
      "state": {
       "description_width": "initial"
      }
     },
     "b488913e8ec14efb9c88ef9ebacaf3e0": {
      "model_module": "@jupyter-widgets/controls",
      "model_module_version": "1.5.0",
      "model_name": "ProgressStyleModel",
      "state": {
       "description_width": "initial"
      }
     },
     "b4a4c27a815545c99597be5336d84463": {
      "model_module": "@jupyter-widgets/controls",
      "model_module_version": "1.5.0",
      "model_name": "HTMLModel",
      "state": {
       "layout": "IPY_MODEL_997e8b31ff00409f938f6fb596d75bd7",
       "style": "IPY_MODEL_2a756d2680724340acae24523160a26c",
       "value": " 344/344 [00:18&lt;00:00, 18.25it/s, end_loss=0.818, jaccard=0.704, start_loss=0.824]"
      }
     },
     "b4b4640e83b5438e9ac6cfe17f085bbd": {
      "model_module": "@jupyter-widgets/base",
      "model_module_version": "1.2.0",
      "model_name": "LayoutModel",
      "state": {}
     },
     "b4b69c32971147e6ba7beb91dadaaf5b": {
      "model_module": "@jupyter-widgets/controls",
      "model_module_version": "1.5.0",
      "model_name": "HBoxModel",
      "state": {
       "children": [
        "IPY_MODEL_6609245f0dd5428d898093588ea706ae",
        "IPY_MODEL_a94c8208ff0f4c70b4813628debca686"
       ],
       "layout": "IPY_MODEL_b1a383b3c7754cd892a11ac23f677783"
      }
     },
     "b4c7ad5de80a410e86b71dd76b664391": {
      "model_module": "@jupyter-widgets/base",
      "model_module_version": "1.2.0",
      "model_name": "LayoutModel",
      "state": {}
     },
     "b4ce294a41554794a776defea98913ab": {
      "model_module": "@jupyter-widgets/controls",
      "model_module_version": "1.5.0",
      "model_name": "HBoxModel",
      "state": {
       "children": [
        "IPY_MODEL_6cc68bdaf90b45fbb3ac7fbb14ff47a6",
        "IPY_MODEL_bbc23eff8bd24ef590fd16210e91be13"
       ],
       "layout": "IPY_MODEL_7247dbcc0a80491fa60eea612664d757"
      }
     },
     "b4d252df378b4d96b5138951aa9eea0a": {
      "model_module": "@jupyter-widgets/controls",
      "model_module_version": "1.5.0",
      "model_name": "ProgressStyleModel",
      "state": {
       "description_width": "initial"
      }
     },
     "b4eb63b526114352bd225a0afe496656": {
      "model_module": "@jupyter-widgets/base",
      "model_module_version": "1.2.0",
      "model_name": "LayoutModel",
      "state": {}
     },
     "b50e6807aa954f10ba086d6d6b6ae72b": {
      "model_module": "@jupyter-widgets/controls",
      "model_module_version": "1.5.0",
      "model_name": "FloatProgressModel",
      "state": {
       "bar_style": "success",
       "description": "100%",
       "layout": "IPY_MODEL_df5e7f9446c84f3d9166d0e29fd030dc",
       "max": 344,
       "style": "IPY_MODEL_4d3f80337260497c800ecdfb64badb4d",
       "value": 344
      }
     },
     "b578d32a8527455581042039152dae30": {
      "model_module": "@jupyter-widgets/controls",
      "model_module_version": "1.5.0",
      "model_name": "ProgressStyleModel",
      "state": {
       "description_width": "initial"
      }
     },
     "b57c05c551524be99563ca090a19799c": {
      "model_module": "@jupyter-widgets/base",
      "model_module_version": "1.2.0",
      "model_name": "LayoutModel",
      "state": {}
     },
     "b58166d5e00a4ffbac168ee6c76689ba": {
      "model_module": "@jupyter-widgets/controls",
      "model_module_version": "1.5.0",
      "model_name": "HBoxModel",
      "state": {
       "children": [
        "IPY_MODEL_80dfb7c860b24608a1bc553f5cd73f62",
        "IPY_MODEL_8ef3b300ea7740ba894b29a191cb28e2"
       ],
       "layout": "IPY_MODEL_38fcf741050a42378127ab98aa12106f"
      }
     },
     "b5933d44467149c6bcdaf026dcb7f079": {
      "model_module": "@jupyter-widgets/controls",
      "model_module_version": "1.5.0",
      "model_name": "FloatProgressModel",
      "state": {
       "bar_style": "success",
       "description": "100%",
       "layout": "IPY_MODEL_aa72822630984e45ad6dc3784b140dd3",
       "max": 344,
       "style": "IPY_MODEL_d8c5fa849d0243f295be3901bf47001e",
       "value": 344
      }
     },
     "b5957b052c9146af879511ccc548b579": {
      "model_module": "@jupyter-widgets/base",
      "model_module_version": "1.2.0",
      "model_name": "LayoutModel",
      "state": {}
     },
     "b59a70e4b53c43adb9c1d7aabf429ef9": {
      "model_module": "@jupyter-widgets/controls",
      "model_module_version": "1.5.0",
      "model_name": "DescriptionStyleModel",
      "state": {
       "description_width": ""
      }
     },
     "b5b86e8ca48c499598a34f1f159b0b39": {
      "model_module": "@jupyter-widgets/controls",
      "model_module_version": "1.5.0",
      "model_name": "FloatProgressModel",
      "state": {
       "bar_style": "success",
       "description": "100%",
       "layout": "IPY_MODEL_5ed0d1c5d74e465a80b10e8d3202a87f",
       "max": 344,
       "style": "IPY_MODEL_8a69e78356404d3d88a6289037065e4a",
       "value": 344
      }
     },
     "b5e98933e2f74b36bd7e95ad68d69313": {
      "model_module": "@jupyter-widgets/controls",
      "model_module_version": "1.5.0",
      "model_name": "HBoxModel",
      "state": {
       "children": [
        "IPY_MODEL_58e74f579fba4bc1aeefc2ab8d5e1405",
        "IPY_MODEL_835f1615df124f759a46a0a2e1a45818"
       ],
       "layout": "IPY_MODEL_393ea2e2ecce452abeabe2d1155ae22c"
      }
     },
     "b5fcc772ae29485290cf413c19d2bdb4": {
      "model_module": "@jupyter-widgets/controls",
      "model_module_version": "1.5.0",
      "model_name": "ProgressStyleModel",
      "state": {
       "description_width": "initial"
      }
     },
     "b604dac4f15241a890cfe8180c2411cf": {
      "model_module": "@jupyter-widgets/controls",
      "model_module_version": "1.5.0",
      "model_name": "HBoxModel",
      "state": {
       "children": [
        "IPY_MODEL_7f2b0901e4e64c6999644c0c5738b8a6",
        "IPY_MODEL_5ac97c48e4ba419a9406e204a850f84a"
       ],
       "layout": "IPY_MODEL_e8c3ef28a4b747acaea2945fe499bc8b"
      }
     },
     "b60802c479d941be9c01657eeca98d36": {
      "model_module": "@jupyter-widgets/controls",
      "model_module_version": "1.5.0",
      "model_name": "HBoxModel",
      "state": {
       "children": [
        "IPY_MODEL_61f2d3e8c68d4e46ab787ec89044d7f6",
        "IPY_MODEL_05fed7a0fa104b319930c538f10b35e2"
       ],
       "layout": "IPY_MODEL_6e85c90efa214ec9b90d2a856bc0c328"
      }
     },
     "b632e2507d3d4c5f87f362368792ee5c": {
      "model_module": "@jupyter-widgets/controls",
      "model_module_version": "1.5.0",
      "model_name": "HBoxModel",
      "state": {
       "children": [
        "IPY_MODEL_7f17e58cbdcd468b942cbca8d7b78c54",
        "IPY_MODEL_6006b1d17c51447ab3b6a280c35973db"
       ],
       "layout": "IPY_MODEL_88c42f73877242828bb05c73b1c22f91"
      }
     },
     "b63e4194c10e4b9692301143ef4b34e7": {
      "model_module": "@jupyter-widgets/controls",
      "model_module_version": "1.5.0",
      "model_name": "DescriptionStyleModel",
      "state": {
       "description_width": ""
      }
     },
     "b65cdae8c78244d08d9758a099cbceef": {
      "model_module": "@jupyter-widgets/controls",
      "model_module_version": "1.5.0",
      "model_name": "FloatProgressModel",
      "state": {
       "bar_style": "danger",
       "description": "  0%",
       "layout": "IPY_MODEL_8f771a013e134f2393e8c66abdc0f52b",
       "max": 344,
       "style": "IPY_MODEL_9239a9b49fd24f7eb514558525674c43"
      }
     },
     "b6685ef2c305482abebc0bddadb14263": {
      "model_module": "@jupyter-widgets/controls",
      "model_module_version": "1.5.0",
      "model_name": "HTMLModel",
      "state": {
       "layout": "IPY_MODEL_2f5c0cee812b49e5bca3dc1a48ac030c",
       "style": "IPY_MODEL_4aaca169b9094c9c953f6403db1fb429",
       "value": " 318/344 [03:00&lt;00:14,  1.76it/s, end_loss=0.901, jaccard=0.687, start_loss=0.972]"
      }
     },
     "b66ca9e002684046bbe7d66ec1feedbd": {
      "model_module": "@jupyter-widgets/base",
      "model_module_version": "1.2.0",
      "model_name": "LayoutModel",
      "state": {}
     },
     "b670988479dd4be7b1717b997645dc16": {
      "model_module": "@jupyter-widgets/base",
      "model_module_version": "1.2.0",
      "model_name": "LayoutModel",
      "state": {}
     },
     "b67476481dd04567bae1d991b1c847a1": {
      "model_module": "@jupyter-widgets/base",
      "model_module_version": "1.2.0",
      "model_name": "LayoutModel",
      "state": {}
     },
     "b6a7fa1abb704e46abb1324ebaf766b8": {
      "model_module": "@jupyter-widgets/base",
      "model_module_version": "1.2.0",
      "model_name": "LayoutModel",
      "state": {}
     },
     "b6adfbb190734e91830a0f11fb915e00": {
      "model_module": "@jupyter-widgets/controls",
      "model_module_version": "1.5.0",
      "model_name": "ProgressStyleModel",
      "state": {
       "description_width": "initial"
      }
     },
     "b6cf18dbd354416c90bf3a5217da9048": {
      "model_module": "@jupyter-widgets/controls",
      "model_module_version": "1.5.0",
      "model_name": "HBoxModel",
      "state": {
       "children": [
        "IPY_MODEL_d164cc5854d542889cd13aa52d7b22da",
        "IPY_MODEL_d7333b6319f6407ba335ccdd7110a91e"
       ],
       "layout": "IPY_MODEL_ecd21d1c29d04233ac8ed13a9245b1fb"
      }
     },
     "b6d7255b66f846b0ad8e72c4ff3e21d4": {
      "model_module": "@jupyter-widgets/base",
      "model_module_version": "1.2.0",
      "model_name": "LayoutModel",
      "state": {}
     },
     "b6ded4425d9a4a5c9aa28b30ccbe1b74": {
      "model_module": "@jupyter-widgets/base",
      "model_module_version": "1.2.0",
      "model_name": "LayoutModel",
      "state": {}
     },
     "b6e39dc4b1f84a00a11ded610ab96b3c": {
      "model_module": "@jupyter-widgets/base",
      "model_module_version": "1.2.0",
      "model_name": "LayoutModel",
      "state": {}
     },
     "b6ed6e64367b4544b015ac578f7d3b19": {
      "model_module": "@jupyter-widgets/base",
      "model_module_version": "1.2.0",
      "model_name": "LayoutModel",
      "state": {}
     },
     "b703aa177af04b76b173560cc4b736ce": {
      "model_module": "@jupyter-widgets/controls",
      "model_module_version": "1.5.0",
      "model_name": "HBoxModel",
      "state": {
       "children": [
        "IPY_MODEL_6502445a71d4442bac8fe3bd7a4b2f2e",
        "IPY_MODEL_9b1cc47fb28e4f1fad0abf4e84161949"
       ],
       "layout": "IPY_MODEL_60695b6a9a4946eabc99ac69e2a9b128"
      }
     },
     "b7135e090a0c42fd9670bc9f19664f2e": {
      "model_module": "@jupyter-widgets/base",
      "model_module_version": "1.2.0",
      "model_name": "LayoutModel",
      "state": {}
     },
     "b748ffc995924b4fb2a006344df385c3": {
      "model_module": "@jupyter-widgets/base",
      "model_module_version": "1.2.0",
      "model_name": "LayoutModel",
      "state": {}
     },
     "b751e54c7942412e83cd4d0729f8bf5c": {
      "model_module": "@jupyter-widgets/controls",
      "model_module_version": "1.5.0",
      "model_name": "FloatProgressModel",
      "state": {
       "bar_style": "success",
       "description": "100%",
       "layout": "IPY_MODEL_170b04ed73144b7f9d21fb3a58f77c19",
       "max": 344,
       "style": "IPY_MODEL_249bf7bf26154e639b03ef180b20a912",
       "value": 344
      }
     },
     "b755163308a54bf59d48266299957735": {
      "model_module": "@jupyter-widgets/controls",
      "model_module_version": "1.5.0",
      "model_name": "ProgressStyleModel",
      "state": {
       "description_width": "initial"
      }
     },
     "b77cbac23a534503bc6f57b73c00ea44": {
      "model_module": "@jupyter-widgets/controls",
      "model_module_version": "1.5.0",
      "model_name": "HTMLModel",
      "state": {
       "layout": "IPY_MODEL_050f0fd665a74b36986f0ce08fe8ec44",
       "style": "IPY_MODEL_6338b1182913408686551e7d8a25a919",
       "value": " 344/344 [07:01&lt;00:00,  1.22s/it, end_loss=1.18, jaccard=0.646, start_loss=1.13]"
      }
     },
     "b7baa22fb34d42448333b1fd13b807d2": {
      "model_module": "@jupyter-widgets/base",
      "model_module_version": "1.2.0",
      "model_name": "LayoutModel",
      "state": {}
     },
     "b7d1e608886442cbae2e226d3dc6fc0d": {
      "model_module": "@jupyter-widgets/base",
      "model_module_version": "1.2.0",
      "model_name": "LayoutModel",
      "state": {}
     },
     "b7fdf7f8d40a4b6083179520b4f83a59": {
      "model_module": "@jupyter-widgets/controls",
      "model_module_version": "1.5.0",
      "model_name": "HBoxModel",
      "state": {
       "children": [
        "IPY_MODEL_95bdf1ff6d524a8fb9a5006fbc0df4c4",
        "IPY_MODEL_a9e8bd3eb0a540c29e77f9f91535c409"
       ],
       "layout": "IPY_MODEL_c7a47f200a5a49689a5b318161a615a8"
      }
     },
     "b833f6ce94fa4bd48c126df29365d9b8": {
      "model_module": "@jupyter-widgets/base",
      "model_module_version": "1.2.0",
      "model_name": "LayoutModel",
      "state": {}
     },
     "b8428c39831a4f4b93053438dde025be": {
      "model_module": "@jupyter-widgets/controls",
      "model_module_version": "1.5.0",
      "model_name": "DescriptionStyleModel",
      "state": {
       "description_width": ""
      }
     },
     "b851ae69a0fe44f7a82d5f5b71ef55ac": {
      "model_module": "@jupyter-widgets/controls",
      "model_module_version": "1.5.0",
      "model_name": "DescriptionStyleModel",
      "state": {
       "description_width": ""
      }
     },
     "b869b586db854d63aad3b9fae4f86b7c": {
      "model_module": "@jupyter-widgets/controls",
      "model_module_version": "1.5.0",
      "model_name": "DescriptionStyleModel",
      "state": {
       "description_width": ""
      }
     },
     "b878b31068d949f18309cfdb967386e1": {
      "model_module": "@jupyter-widgets/controls",
      "model_module_version": "1.5.0",
      "model_name": "ProgressStyleModel",
      "state": {
       "description_width": "initial"
      }
     },
     "b87da9ccc84f4d2794b8bc78b657215c": {
      "model_module": "@jupyter-widgets/controls",
      "model_module_version": "1.5.0",
      "model_name": "FloatProgressModel",
      "state": {
       "bar_style": "success",
       "description": "100%",
       "layout": "IPY_MODEL_f44f4e679f9349ff84197782c4af94fc",
       "max": 344,
       "style": "IPY_MODEL_f9d28cd491074945a7faf152aac1d62b",
       "value": 344
      }
     },
     "b8a0d9a3fe0a439ca4152f7e949f2ce5": {
      "model_module": "@jupyter-widgets/controls",
      "model_module_version": "1.5.0",
      "model_name": "HBoxModel",
      "state": {
       "children": [
        "IPY_MODEL_1d8664f481574393b8998873bc9f5ccb",
        "IPY_MODEL_0075c72596ed415c92c3731c0fe9b624"
       ],
       "layout": "IPY_MODEL_b2355c447ca042dcb087278c220808c3"
      }
     },
     "b8aa8fafeb744430a02af23369a2e99c": {
      "model_module": "@jupyter-widgets/controls",
      "model_module_version": "1.5.0",
      "model_name": "ProgressStyleModel",
      "state": {
       "description_width": "initial"
      }
     },
     "b8aaa0575d064066bf4d3b9e6859e38a": {
      "model_module": "@jupyter-widgets/base",
      "model_module_version": "1.2.0",
      "model_name": "LayoutModel",
      "state": {}
     },
     "b8e7cd3914a54c858eb26b1b2d4c00ec": {
      "model_module": "@jupyter-widgets/base",
      "model_module_version": "1.2.0",
      "model_name": "LayoutModel",
      "state": {}
     },
     "b921dc6b19c1470abc0762af720ac89d": {
      "model_module": "@jupyter-widgets/controls",
      "model_module_version": "1.5.0",
      "model_name": "DescriptionStyleModel",
      "state": {
       "description_width": ""
      }
     },
     "b95d794418fc42ce9c2dd5d49cd3ae77": {
      "model_module": "@jupyter-widgets/base",
      "model_module_version": "1.2.0",
      "model_name": "LayoutModel",
      "state": {}
     },
     "b9783f8d1c964756914e78e7a5b7a50c": {
      "model_module": "@jupyter-widgets/controls",
      "model_module_version": "1.5.0",
      "model_name": "ProgressStyleModel",
      "state": {
       "description_width": "initial"
      }
     },
     "b9798c0ed3db4dfc9965e45ed5b6eef2": {
      "model_module": "@jupyter-widgets/base",
      "model_module_version": "1.2.0",
      "model_name": "LayoutModel",
      "state": {}
     },
     "b9f31a98d0c943caab2e3c87bc54630e": {
      "model_module": "@jupyter-widgets/controls",
      "model_module_version": "1.5.0",
      "model_name": "FloatProgressModel",
      "state": {
       "bar_style": "success",
       "description": "100%",
       "layout": "IPY_MODEL_ec6c65f46e234db7b52487ed16cb92e9",
       "max": 344,
       "style": "IPY_MODEL_70cedeaadda641d783e85234f272e908",
       "value": 344
      }
     },
     "b9f62857fe9343bda84d13b98fff92ef": {
      "model_module": "@jupyter-widgets/controls",
      "model_module_version": "1.5.0",
      "model_name": "ProgressStyleModel",
      "state": {
       "description_width": "initial"
      }
     },
     "b9f7282334bc496fbabaffd9080736a1": {
      "model_module": "@jupyter-widgets/controls",
      "model_module_version": "1.5.0",
      "model_name": "HTMLModel",
      "state": {
       "layout": "IPY_MODEL_6111c0e3bed24034a07b66e099878ee3",
       "style": "IPY_MODEL_4be6a400166b4d6fbd8957d860d99cce",
       "value": " 344/344 [03:00&lt;00:00,  1.91it/s, end_loss=0.801, jaccard=0.708, merged_loss=0.999, start_loss=0.827]"
      }
     },
     "ba247fe275da4e03b8266ea043ca424c": {
      "model_module": "@jupyter-widgets/base",
      "model_module_version": "1.2.0",
      "model_name": "LayoutModel",
      "state": {}
     },
     "ba4141be4134443fba835482ffa811d9": {
      "model_module": "@jupyter-widgets/base",
      "model_module_version": "1.2.0",
      "model_name": "LayoutModel",
      "state": {}
     },
     "ba5db5e003704149b2fa987318c04b1c": {
      "model_module": "@jupyter-widgets/controls",
      "model_module_version": "1.5.0",
      "model_name": "FloatProgressModel",
      "state": {
       "bar_style": "success",
       "description": "100%",
       "layout": "IPY_MODEL_e1c20407836746afa1f3a871cba35605",
       "max": 344,
       "style": "IPY_MODEL_9de892e4e08147078c22b10a8ab65bb8",
       "value": 344
      }
     },
     "ba6e110372354985b0c0a747e6b9b747": {
      "model_module": "@jupyter-widgets/controls",
      "model_module_version": "1.5.0",
      "model_name": "HBoxModel",
      "state": {
       "children": [
        "IPY_MODEL_378421e2c53041ebb60e67911d6e4ec3",
        "IPY_MODEL_a3c59e756ac34b7482cc2bd20e77db51"
       ],
       "layout": "IPY_MODEL_d3d82d2b941b4200a65e402ed7e0de9a"
      }
     },
     "ba7e09c864d248579121923a4b5a124b": {
      "model_module": "@jupyter-widgets/controls",
      "model_module_version": "1.5.0",
      "model_name": "HTMLModel",
      "state": {
       "layout": "IPY_MODEL_327be00fa425427a934ebaec46c5ef3f",
       "style": "IPY_MODEL_5cbef16c6721439792a9a241b9265b3d",
       "value": " 344/344 [00:24&lt;00:00, 14.14it/s, end_loss=0.805, jaccard=0.71, start_loss=0.865]"
      }
     },
     "ba8b3d708fae47a5861c272d03a24986": {
      "model_module": "@jupyter-widgets/controls",
      "model_module_version": "1.5.0",
      "model_name": "HTMLModel",
      "state": {
       "layout": "IPY_MODEL_7822b025e755496c9c937321b870f373",
       "style": "IPY_MODEL_886def9978ac4de59af24b2c85df5b8b",
       "value": " 344/344 [05:45&lt;00:00,  1.00s/it, end_loss=1.27, jaccard=0.622, start_loss=1.23]"
      }
     },
     "baa7831d204341eb840e0efb6b517b2d": {
      "model_module": "@jupyter-widgets/controls",
      "model_module_version": "1.5.0",
      "model_name": "HTMLModel",
      "state": {
       "layout": "IPY_MODEL_96cd92e8a8c943dbb9648f3b45b02b0a",
       "style": "IPY_MODEL_8c2d1214afa94f4d9a8064e9bc5dcb44",
       "value": " 344/344 [03:10&lt;00:00,  1.80it/s, end_loss=1.67, jaccard=0.679, start_loss=1.71]"
      }
     },
     "bada56a9b2a14d86b21c4820e67b4bb7": {
      "model_module": "@jupyter-widgets/controls",
      "model_module_version": "1.5.0",
      "model_name": "DescriptionStyleModel",
      "state": {
       "description_width": ""
      }
     },
     "bae92d8bf0d144d087d03b9becfe891b": {
      "model_module": "@jupyter-widgets/base",
      "model_module_version": "1.2.0",
      "model_name": "LayoutModel",
      "state": {}
     },
     "baec51d827954a6e991a9ac0c9bdef8c": {
      "model_module": "@jupyter-widgets/controls",
      "model_module_version": "1.5.0",
      "model_name": "HTMLModel",
      "state": {
       "layout": "IPY_MODEL_4c325ddab82f4f07b426d28b43f5aced",
       "style": "IPY_MODEL_257bdd32ad124c079113c6166a6e7b31",
       "value": " 344/344 [07:55&lt;00:00,  1.38s/it, end_loss=0.84, jaccard=0.712, start_loss=0.874]"
      }
     },
     "bb05b8e6a47b42ba947fb5dce09fa22b": {
      "model_module": "@jupyter-widgets/base",
      "model_module_version": "1.2.0",
      "model_name": "LayoutModel",
      "state": {}
     },
     "bb09d8a8fad1449698c423eb654dcb98": {
      "model_module": "@jupyter-widgets/base",
      "model_module_version": "1.2.0",
      "model_name": "LayoutModel",
      "state": {}
     },
     "bb20a03000074a7a907dc5549e3db21d": {
      "model_module": "@jupyter-widgets/base",
      "model_module_version": "1.2.0",
      "model_name": "LayoutModel",
      "state": {}
     },
     "bb3547d3cfcf4b6e81bca447fd43e2cd": {
      "model_module": "@jupyter-widgets/controls",
      "model_module_version": "1.5.0",
      "model_name": "DescriptionStyleModel",
      "state": {
       "description_width": ""
      }
     },
     "bb395671ff2c4dafaa418372c9dfeacc": {
      "model_module": "@jupyter-widgets/base",
      "model_module_version": "1.2.0",
      "model_name": "LayoutModel",
      "state": {}
     },
     "bb42946a72c34eac91842f450be58e79": {
      "model_module": "@jupyter-widgets/base",
      "model_module_version": "1.2.0",
      "model_name": "LayoutModel",
      "state": {}
     },
     "bb48a340cb354b58b6aed1e3ac1d42f5": {
      "model_module": "@jupyter-widgets/controls",
      "model_module_version": "1.5.0",
      "model_name": "HBoxModel",
      "state": {
       "children": [
        "IPY_MODEL_d16189ff9ebb4c76a0be0c14dd1a0205",
        "IPY_MODEL_b4a4c27a815545c99597be5336d84463"
       ],
       "layout": "IPY_MODEL_3ff1965dab494d9b927953f1900cc6f3"
      }
     },
     "bb66035168da47f09660ff354e1a4165": {
      "model_module": "@jupyter-widgets/base",
      "model_module_version": "1.2.0",
      "model_name": "LayoutModel",
      "state": {}
     },
     "bb6fbef88dac4b53a85daec9cda7294c": {
      "model_module": "@jupyter-widgets/base",
      "model_module_version": "1.2.0",
      "model_name": "LayoutModel",
      "state": {}
     },
     "bb76eb391a5f4d78a219c807bdaaf8e3": {
      "model_module": "@jupyter-widgets/base",
      "model_module_version": "1.2.0",
      "model_name": "LayoutModel",
      "state": {}
     },
     "bb7b40287cb842bbb62472f9f7b0de10": {
      "model_module": "@jupyter-widgets/base",
      "model_module_version": "1.2.0",
      "model_name": "LayoutModel",
      "state": {}
     },
     "bb7ecbc31cd84fb591b2ea2660c5e5cc": {
      "model_module": "@jupyter-widgets/controls",
      "model_module_version": "1.5.0",
      "model_name": "ProgressStyleModel",
      "state": {
       "description_width": "initial"
      }
     },
     "bb9327ab23044790bd718d9c0df4c4a2": {
      "model_module": "@jupyter-widgets/base",
      "model_module_version": "1.2.0",
      "model_name": "LayoutModel",
      "state": {}
     },
     "bb96901fb3d9410189476ae9b92b38a6": {
      "model_module": "@jupyter-widgets/controls",
      "model_module_version": "1.5.0",
      "model_name": "HTMLModel",
      "state": {
       "layout": "IPY_MODEL_29d87adfe5834fe68ec708d0601c953b",
       "style": "IPY_MODEL_af2dd65237984206803c96b90a7fd57d",
       "value": " 344/344 [1:13:52&lt;00:00, 12.89s/it, end_loss=1.07, jaccard=0.658, merged_loss=1.04, start_loss=1.04]"
      }
     },
     "bbc23eff8bd24ef590fd16210e91be13": {
      "model_module": "@jupyter-widgets/controls",
      "model_module_version": "1.5.0",
      "model_name": "HTMLModel",
      "state": {
       "layout": "IPY_MODEL_4704d13c4a634ee595ee275bbfd33cd7",
       "style": "IPY_MODEL_1eccca5835ec4bf8b6056e445f2b2c76",
       "value": " 344/344 [03:50&lt;00:00,  1.50it/s, end_loss=1.46, jaccard=0.623, start_loss=1.41]"
      }
     },
     "bbd14984bf004dd5a19138731dcc06b0": {
      "model_module": "@jupyter-widgets/controls",
      "model_module_version": "1.5.0",
      "model_name": "DescriptionStyleModel",
      "state": {
       "description_width": ""
      }
     },
     "bbd448b504b14f16aa5e81b865417063": {
      "model_module": "@jupyter-widgets/controls",
      "model_module_version": "1.5.0",
      "model_name": "FloatProgressModel",
      "state": {
       "bar_style": "success",
       "description": "100%",
       "layout": "IPY_MODEL_0e2ba016af00462b889e1014b38ae0aa",
       "max": 344,
       "style": "IPY_MODEL_8ee82776adf4409fb694ce5eb8efc991",
       "value": 344
      }
     },
     "bbf2ed095f224373a417e90469555e4c": {
      "model_module": "@jupyter-widgets/base",
      "model_module_version": "1.2.0",
      "model_name": "LayoutModel",
      "state": {}
     },
     "bc091f219f064ee8be8b4b27545a1442": {
      "model_module": "@jupyter-widgets/controls",
      "model_module_version": "1.5.0",
      "model_name": "ProgressStyleModel",
      "state": {
       "description_width": "initial"
      }
     },
     "bc0cc76aeb504d89a8a549403f49bd6e": {
      "model_module": "@jupyter-widgets/controls",
      "model_module_version": "1.5.0",
      "model_name": "ProgressStyleModel",
      "state": {
       "description_width": "initial"
      }
     },
     "bc574aaf3fa14a099672072a931c9c42": {
      "model_module": "@jupyter-widgets/controls",
      "model_module_version": "1.5.0",
      "model_name": "FloatProgressModel",
      "state": {
       "bar_style": "success",
       "description": "100%",
       "layout": "IPY_MODEL_85e449351c504c359c7de61af5c00f52",
       "max": 344,
       "style": "IPY_MODEL_0ce9de2e8d0e4581ae016e3bd042a91e",
       "value": 344
      }
     },
     "bcbdfca273ec4d45a6a571acd742db7e": {
      "model_module": "@jupyter-widgets/controls",
      "model_module_version": "1.5.0",
      "model_name": "HBoxModel",
      "state": {
       "children": [
        "IPY_MODEL_8be485ba5e984a9cb729df5022b0c601",
        "IPY_MODEL_b30737c3ec194b7184b1c4463d07ae84"
       ],
       "layout": "IPY_MODEL_5a645bf378634206a9cecf150e158378"
      }
     },
     "bcc53a1228be450c990547cbf273f3c2": {
      "model_module": "@jupyter-widgets/base",
      "model_module_version": "1.2.0",
      "model_name": "LayoutModel",
      "state": {}
     },
     "bccc500c8bf643b696c8347bcacdf99a": {
      "model_module": "@jupyter-widgets/controls",
      "model_module_version": "1.5.0",
      "model_name": "ProgressStyleModel",
      "state": {
       "description_width": "initial"
      }
     },
     "bcf8c06c9e53495ca5b0b9c862ae8336": {
      "model_module": "@jupyter-widgets/base",
      "model_module_version": "1.2.0",
      "model_name": "LayoutModel",
      "state": {}
     },
     "bd0c4ffc4aeb4190b3b2a266dce2bfbf": {
      "model_module": "@jupyter-widgets/controls",
      "model_module_version": "1.5.0",
      "model_name": "FloatProgressModel",
      "state": {
       "bar_style": "success",
       "description": "100%",
       "layout": "IPY_MODEL_bd85c4e03fb34b6cbd4afe3efe2c65be",
       "max": 344,
       "style": "IPY_MODEL_8f51f141e83049ef90095f23107b6fa6",
       "value": 344
      }
     },
     "bd1fce88b35e48639d96ae6181594fea": {
      "model_module": "@jupyter-widgets/base",
      "model_module_version": "1.2.0",
      "model_name": "LayoutModel",
      "state": {}
     },
     "bd34cf157cea4db7be61b954e7b49a07": {
      "model_module": "@jupyter-widgets/controls",
      "model_module_version": "1.5.0",
      "model_name": "ProgressStyleModel",
      "state": {
       "description_width": "initial"
      }
     },
     "bd4a18da3ccb4224ba5f1984c788b750": {
      "model_module": "@jupyter-widgets/base",
      "model_module_version": "1.2.0",
      "model_name": "LayoutModel",
      "state": {}
     },
     "bd5200dcb09a43c594442a08f5a5815f": {
      "model_module": "@jupyter-widgets/base",
      "model_module_version": "1.2.0",
      "model_name": "LayoutModel",
      "state": {}
     },
     "bd62d12d861e4fa2a3a7fa3db6b28e14": {
      "model_module": "@jupyter-widgets/controls",
      "model_module_version": "1.5.0",
      "model_name": "HTMLModel",
      "state": {
       "layout": "IPY_MODEL_eb9a004dd1bc48219eb4e08550938c65",
       "style": "IPY_MODEL_016bece68cde45119f11def5f9236575",
       "value": " 344/344 [03:10&lt;00:00,  1.81it/s, end_loss=1.42, jaccard=0.602, start_loss=1.4]"
      }
     },
     "bd828d999f24485ebc084f572d264053": {
      "model_module": "@jupyter-widgets/controls",
      "model_module_version": "1.5.0",
      "model_name": "DescriptionStyleModel",
      "state": {
       "description_width": ""
      }
     },
     "bd85c4e03fb34b6cbd4afe3efe2c65be": {
      "model_module": "@jupyter-widgets/base",
      "model_module_version": "1.2.0",
      "model_name": "LayoutModel",
      "state": {}
     },
     "bd8fd4dd0e424f5782d81c36c30ed4fe": {
      "model_module": "@jupyter-widgets/controls",
      "model_module_version": "1.5.0",
      "model_name": "DescriptionStyleModel",
      "state": {
       "description_width": ""
      }
     },
     "bd9b0cbc99904b06829c6e683350b5be": {
      "model_module": "@jupyter-widgets/base",
      "model_module_version": "1.2.0",
      "model_name": "LayoutModel",
      "state": {}
     },
     "bdea49095b3147579ea19ff051074f9d": {
      "model_module": "@jupyter-widgets/controls",
      "model_module_version": "1.5.0",
      "model_name": "ProgressStyleModel",
      "state": {
       "description_width": "initial"
      }
     },
     "bdfbbe4b8ff24fd9be0a0ffadd90bc36": {
      "model_module": "@jupyter-widgets/base",
      "model_module_version": "1.2.0",
      "model_name": "LayoutModel",
      "state": {}
     },
     "be0272811c1d4daaa21a96154e4bb498": {
      "model_module": "@jupyter-widgets/base",
      "model_module_version": "1.2.0",
      "model_name": "LayoutModel",
      "state": {}
     },
     "be04a110a8b34af3b585c29d908969d0": {
      "model_module": "@jupyter-widgets/controls",
      "model_module_version": "1.5.0",
      "model_name": "HBoxModel",
      "state": {
       "children": [
        "IPY_MODEL_a0136a9e416c42bf89c0759b87624f83",
        "IPY_MODEL_baec51d827954a6e991a9ac0c9bdef8c"
       ],
       "layout": "IPY_MODEL_eb7aa46ade004afe84cdabe1be364718"
      }
     },
     "be16cce9b54345c9b7cb6e124d363c1e": {
      "model_module": "@jupyter-widgets/controls",
      "model_module_version": "1.5.0",
      "model_name": "DescriptionStyleModel",
      "state": {
       "description_width": ""
      }
     },
     "be28e97ff5384ae5883985d5e5b08420": {
      "model_module": "@jupyter-widgets/base",
      "model_module_version": "1.2.0",
      "model_name": "LayoutModel",
      "state": {}
     },
     "be4483e2063f427992ab4254bc95fdc8": {
      "model_module": "@jupyter-widgets/controls",
      "model_module_version": "1.5.0",
      "model_name": "HBoxModel",
      "state": {
       "children": [
        "IPY_MODEL_36ec7eac137b4e7984a5d19ddb7056c6",
        "IPY_MODEL_c5ce6425e795465388763efbd02c7c2f"
       ],
       "layout": "IPY_MODEL_9098fb6c45da4bd5b06a38db58916449"
      }
     },
     "be4e7775c50844898292e597ea460b10": {
      "model_module": "@jupyter-widgets/controls",
      "model_module_version": "1.5.0",
      "model_name": "HTMLModel",
      "state": {
       "layout": "IPY_MODEL_c9acc5086cd04a3282b5968318a649ec",
       "style": "IPY_MODEL_80ed9cfac2894d79bed778e456282313",
       "value": " 344/344 [00:25&lt;00:00, 13.56it/s, end_loss=0.891, jaccard=0.707, start_loss=0.962]"
      }
     },
     "be7175be1ab24070aa280127dff60a56": {
      "model_module": "@jupyter-widgets/base",
      "model_module_version": "1.2.0",
      "model_name": "LayoutModel",
      "state": {}
     },
     "be8b344e9e244c199cdca71041733478": {
      "model_module": "@jupyter-widgets/controls",
      "model_module_version": "1.5.0",
      "model_name": "HBoxModel",
      "state": {
       "children": [
        "IPY_MODEL_703cc5f1a7b64e519c72fc3d909aeace",
        "IPY_MODEL_962f65489e7d40499ed5b58566d8c2c2"
       ],
       "layout": "IPY_MODEL_c0fa29e33daf43a499a0122ab4dda577"
      }
     },
     "be9da5f930d54d4c92aaa16c41154ce9": {
      "model_module": "@jupyter-widgets/controls",
      "model_module_version": "1.5.0",
      "model_name": "HTMLModel",
      "state": {
       "layout": "IPY_MODEL_d560f69a98504fcb9fa8e5bdf2677683",
       "style": "IPY_MODEL_a32e3ca21f7943eda9ce86d2f36336b8",
       "value": " 0/344 [00:00&lt;?, ?it/s]"
      }
     },
     "bed4e96dd1cf41e1a5af067748d9f318": {
      "model_module": "@jupyter-widgets/controls",
      "model_module_version": "1.5.0",
      "model_name": "HTMLModel",
      "state": {
       "layout": "IPY_MODEL_0080db067eaa4147b183092ee1598ee9",
       "style": "IPY_MODEL_eb33349dfe7b446e8e62122260861262",
       "value": " 344/344 [00:24&lt;00:00, 13.86it/s, end_loss=0.831, jaccard=0.703, merged_loss=0.996, start_loss=0.845]"
      }
     },
     "bf0032adec994905a9864207820c627e": {
      "model_module": "@jupyter-widgets/controls",
      "model_module_version": "1.5.0",
      "model_name": "HBoxModel",
      "state": {
       "children": [
        "IPY_MODEL_a2304f39c6914f86b4d8fe6b5436a6a8",
        "IPY_MODEL_0fc81950e5f64a7183d40d3cc205274e"
       ],
       "layout": "IPY_MODEL_2b1fe06495cf4851aa36930c558f894f"
      }
     },
     "bf33f6f497fd40038dd54957b4fd9576": {
      "model_module": "@jupyter-widgets/base",
      "model_module_version": "1.2.0",
      "model_name": "LayoutModel",
      "state": {}
     },
     "bf39ce5f137b4f4393c2b54eebd1bb41": {
      "model_module": "@jupyter-widgets/base",
      "model_module_version": "1.2.0",
      "model_name": "LayoutModel",
      "state": {}
     },
     "bf65a2231559442fa1f89201efb81fa1": {
      "model_module": "@jupyter-widgets/base",
      "model_module_version": "1.2.0",
      "model_name": "LayoutModel",
      "state": {}
     },
     "bf7a5e09661247cfb8d3c99e99df0b97": {
      "model_module": "@jupyter-widgets/controls",
      "model_module_version": "1.5.0",
      "model_name": "HTMLModel",
      "state": {
       "layout": "IPY_MODEL_9d8b330184344799bf6f72057bd63366",
       "style": "IPY_MODEL_d62e64ef588c4365b1ea0b116bfa7b6a",
       "value": " 344/344 [05:09&lt;00:00,  1.11it/s, end_loss=0.829, jaccard=0.708, start_loss=0.826]"
      }
     },
     "bfa065965a29427d81873b106432a914": {
      "model_module": "@jupyter-widgets/controls",
      "model_module_version": "1.5.0",
      "model_name": "HTMLModel",
      "state": {
       "layout": "IPY_MODEL_0bf693d606d746099470a853b21f4ff2",
       "style": "IPY_MODEL_b8428c39831a4f4b93053438dde025be",
       "value": " 0/344 [04:05&lt;?, ?it/s]"
      }
     },
     "bfa96265e22f4d0fb953826fd8814f9e": {
      "model_module": "@jupyter-widgets/controls",
      "model_module_version": "1.5.0",
      "model_name": "HBoxModel",
      "state": {
       "children": [
        "IPY_MODEL_248caee746954fd785e4e72a41444280",
        "IPY_MODEL_0a7fa7abb4204ce498f8c626dd4a0108"
       ],
       "layout": "IPY_MODEL_a0ce7d9f10f04f3ca8addd64e1b62a03"
      }
     },
     "bff6038f516a4f6ab372fc5acb34d56b": {
      "model_module": "@jupyter-widgets/base",
      "model_module_version": "1.2.0",
      "model_name": "LayoutModel",
      "state": {}
     },
     "bffd0d193dca40ec8071f9ece614086d": {
      "model_module": "@jupyter-widgets/controls",
      "model_module_version": "1.5.0",
      "model_name": "HTMLModel",
      "state": {
       "layout": "IPY_MODEL_c5578c8c97304aa8b0bb00cbbfd8bfef",
       "style": "IPY_MODEL_7a017c8984e94c0db739ab37b0373552",
       "value": " 344/344 [00:19&lt;00:00, 17.65it/s, end_loss=1.48, jaccard=0.709, start_loss=1.52]"
      }
     },
     "c01c0ffbf25f4c188b6c15257ac7c42e": {
      "model_module": "@jupyter-widgets/controls",
      "model_module_version": "1.5.0",
      "model_name": "HBoxModel",
      "state": {
       "children": [
        "IPY_MODEL_408905126fd24ac5945b52016bf03249",
        "IPY_MODEL_411572ff28f54414b082c3c5f71d8cc4"
       ],
       "layout": "IPY_MODEL_4e925efac19741a7b0c8a6d8986e2562"
      }
     },
     "c0296b3c1f5f4dc0994bf065ec2a60f1": {
      "model_module": "@jupyter-widgets/controls",
      "model_module_version": "1.5.0",
      "model_name": "FloatProgressModel",
      "state": {
       "bar_style": "success",
       "description": "100%",
       "layout": "IPY_MODEL_71126d0919cc4d298e70dad52991584a",
       "max": 344,
       "style": "IPY_MODEL_9b47cf9d9a8f48ccb1b5afc77fa24f11",
       "value": 344
      }
     },
     "c04345bb4b554fada1b23e027ea7031b": {
      "model_module": "@jupyter-widgets/base",
      "model_module_version": "1.2.0",
      "model_name": "LayoutModel",
      "state": {}
     },
     "c04d5243d37f404aa663fce8e2e1380b": {
      "model_module": "@jupyter-widgets/controls",
      "model_module_version": "1.5.0",
      "model_name": "DescriptionStyleModel",
      "state": {
       "description_width": ""
      }
     },
     "c068f751834349f08d7cfd57ae6f4f5e": {
      "model_module": "@jupyter-widgets/controls",
      "model_module_version": "1.5.0",
      "model_name": "ProgressStyleModel",
      "state": {
       "description_width": "initial"
      }
     },
     "c0daf9fd7ea44dc983ee2e2726deb558": {
      "model_module": "@jupyter-widgets/base",
      "model_module_version": "1.2.0",
      "model_name": "LayoutModel",
      "state": {}
     },
     "c0f82630a102406ba910e2e6c8a54ac2": {
      "model_module": "@jupyter-widgets/controls",
      "model_module_version": "1.5.0",
      "model_name": "HBoxModel",
      "state": {
       "children": [
        "IPY_MODEL_1ba0bce2e92448c3bb008ba785815bc2",
        "IPY_MODEL_44b5d6e77a224fcc9576f52533dc7a38"
       ],
       "layout": "IPY_MODEL_006580026b2440879f31a69b4dad5321"
      }
     },
     "c0f97c0dc7604ca98af09a958aa3ed5e": {
      "model_module": "@jupyter-widgets/controls",
      "model_module_version": "1.5.0",
      "model_name": "FloatProgressModel",
      "state": {
       "bar_style": "success",
       "description": "100%",
       "layout": "IPY_MODEL_5cf901394d6d4e6f80bfd3d20e477f0c",
       "max": 344,
       "style": "IPY_MODEL_0441567c843e4753b8cd37b3a7f4af41",
       "value": 344
      }
     },
     "c0fa29e33daf43a499a0122ab4dda577": {
      "model_module": "@jupyter-widgets/base",
      "model_module_version": "1.2.0",
      "model_name": "LayoutModel",
      "state": {}
     },
     "c0fe1c1f872842a8939525a2f6fd856e": {
      "model_module": "@jupyter-widgets/base",
      "model_module_version": "1.2.0",
      "model_name": "LayoutModel",
      "state": {}
     },
     "c0ff54d89808407484bc04d88a46d90b": {
      "model_module": "@jupyter-widgets/controls",
      "model_module_version": "1.5.0",
      "model_name": "ProgressStyleModel",
      "state": {
       "description_width": "initial"
      }
     },
     "c100ca9907d44346955ac2594b91d965": {
      "model_module": "@jupyter-widgets/base",
      "model_module_version": "1.2.0",
      "model_name": "LayoutModel",
      "state": {}
     },
     "c11af22e87814d8e894bcf2b6f25aea1": {
      "model_module": "@jupyter-widgets/base",
      "model_module_version": "1.2.0",
      "model_name": "LayoutModel",
      "state": {}
     },
     "c121d4da912e462f9625e07c5a661ad4": {
      "model_module": "@jupyter-widgets/controls",
      "model_module_version": "1.5.0",
      "model_name": "DescriptionStyleModel",
      "state": {
       "description_width": ""
      }
     },
     "c12eddb6f9404ee49982fbeb3280de3a": {
      "model_module": "@jupyter-widgets/controls",
      "model_module_version": "1.5.0",
      "model_name": "DescriptionStyleModel",
      "state": {
       "description_width": ""
      }
     },
     "c141bb2c8ef04f379bc37ad1be673866": {
      "model_module": "@jupyter-widgets/controls",
      "model_module_version": "1.5.0",
      "model_name": "HBoxModel",
      "state": {
       "children": [
        "IPY_MODEL_2b8910b52c024a6784f32ca897b56359",
        "IPY_MODEL_06f7709758a146e48626f66516e67de6"
       ],
       "layout": "IPY_MODEL_4425e0d96c224d0985cac1e6a93bedf4"
      }
     },
     "c1809d2b20db4e4a91f4aa84cbe0fe31": {
      "model_module": "@jupyter-widgets/base",
      "model_module_version": "1.2.0",
      "model_name": "LayoutModel",
      "state": {}
     },
     "c1e998f09f414b7e80638f69f1d0750e": {
      "model_module": "@jupyter-widgets/controls",
      "model_module_version": "1.5.0",
      "model_name": "ProgressStyleModel",
      "state": {
       "description_width": "initial"
      }
     },
     "c1ed4ae0964e4453b2901a4048742d35": {
      "model_module": "@jupyter-widgets/controls",
      "model_module_version": "1.5.0",
      "model_name": "HBoxModel",
      "state": {
       "children": [
        "IPY_MODEL_2a936a34045b4a9b88bbc537e48d7ca3",
        "IPY_MODEL_d4bd9902b97e437193ecc3af5733ece4"
       ],
       "layout": "IPY_MODEL_59de5427e63e48ec88be81a06dbcd612"
      }
     },
     "c203f687196e47dda941f5357b1bedb6": {
      "model_module": "@jupyter-widgets/base",
      "model_module_version": "1.2.0",
      "model_name": "LayoutModel",
      "state": {}
     },
     "c219f7d05e3343c892db46f5e0b2c665": {
      "model_module": "@jupyter-widgets/base",
      "model_module_version": "1.2.0",
      "model_name": "LayoutModel",
      "state": {}
     },
     "c21c8c9d7a7e4377b0a98503ce59b2ac": {
      "model_module": "@jupyter-widgets/base",
      "model_module_version": "1.2.0",
      "model_name": "LayoutModel",
      "state": {}
     },
     "c22210f20ea04fc8866074ad50756461": {
      "model_module": "@jupyter-widgets/base",
      "model_module_version": "1.2.0",
      "model_name": "LayoutModel",
      "state": {}
     },
     "c2339d43026e4a748e0c09ff86e72d35": {
      "model_module": "@jupyter-widgets/base",
      "model_module_version": "1.2.0",
      "model_name": "LayoutModel",
      "state": {}
     },
     "c244b1c030a448ea91812ba8fa58f360": {
      "model_module": "@jupyter-widgets/base",
      "model_module_version": "1.2.0",
      "model_name": "LayoutModel",
      "state": {}
     },
     "c25fdfcb69a944aba1b7355fe2bf4029": {
      "model_module": "@jupyter-widgets/controls",
      "model_module_version": "1.5.0",
      "model_name": "FloatProgressModel",
      "state": {
       "bar_style": "success",
       "description": "100%",
       "layout": "IPY_MODEL_966334597b194739bc82446d98281672",
       "max": 344,
       "style": "IPY_MODEL_db925e0b63e541e180dd3b2114c24edc",
       "value": 344
      }
     },
     "c26025cb3e04471ba6b5e72214a11a2c": {
      "model_module": "@jupyter-widgets/controls",
      "model_module_version": "1.5.0",
      "model_name": "HBoxModel",
      "state": {
       "children": [
        "IPY_MODEL_0458c07861124df7a58ccc054f20ceac",
        "IPY_MODEL_0a6962cf3f0a44928caa4cd3ae9e8e9f"
       ],
       "layout": "IPY_MODEL_bae92d8bf0d144d087d03b9becfe891b"
      }
     },
     "c2764dbd113a40eda11853009a484ba9": {
      "model_module": "@jupyter-widgets/controls",
      "model_module_version": "1.5.0",
      "model_name": "ProgressStyleModel",
      "state": {
       "description_width": "initial"
      }
     },
     "c2a0aabf97444a3789df556250915b48": {
      "model_module": "@jupyter-widgets/base",
      "model_module_version": "1.2.0",
      "model_name": "LayoutModel",
      "state": {}
     },
     "c2ae41758185426aa6201fbf95699085": {
      "model_module": "@jupyter-widgets/controls",
      "model_module_version": "1.5.0",
      "model_name": "DescriptionStyleModel",
      "state": {
       "description_width": ""
      }
     },
     "c2d3d99250894ebca47b253677872feb": {
      "model_module": "@jupyter-widgets/controls",
      "model_module_version": "1.5.0",
      "model_name": "HBoxModel",
      "state": {
       "children": [
        "IPY_MODEL_c0f97c0dc7604ca98af09a958aa3ed5e",
        "IPY_MODEL_0c69271f37924e9f8adb57ca72315f8f"
       ],
       "layout": "IPY_MODEL_96006847b64f4be8842ed843dbdbdc07"
      }
     },
     "c320318d1a834050b1079b1b6a91af4d": {
      "model_module": "@jupyter-widgets/controls",
      "model_module_version": "1.5.0",
      "model_name": "HTMLModel",
      "state": {
       "layout": "IPY_MODEL_0287fc0f4ff945d6ab630228c87ed278",
       "style": "IPY_MODEL_2ab526a2d10a48cdb8b13194d281922e",
       "value": " 344/344 [04:05&lt;00:00,  1.40it/s, end_loss=1.03, jaccard=0.664, start_loss=1.05]"
      }
     },
     "c3434340c0274963a4cac898ff9f5d4e": {
      "model_module": "@jupyter-widgets/controls",
      "model_module_version": "1.5.0",
      "model_name": "FloatProgressModel",
      "state": {
       "bar_style": "success",
       "description": "100%",
       "layout": "IPY_MODEL_174368a62f23455db0ad010bd870a846",
       "max": 344,
       "style": "IPY_MODEL_d96ee5f7f1f34888a6d8337fd7b5b688",
       "value": 344
      }
     },
     "c343b5772cec4701b213e6ff7d35332e": {
      "model_module": "@jupyter-widgets/controls",
      "model_module_version": "1.5.0",
      "model_name": "FloatProgressModel",
      "state": {
       "bar_style": "success",
       "description": "100%",
       "layout": "IPY_MODEL_29426562a9d04a669c0fc9e0f040156a",
       "max": 344,
       "style": "IPY_MODEL_208dd70cec93407d9715eef6b1d03aa3",
       "value": 344
      }
     },
     "c3716e95715f487db0015cb27e7f4bcf": {
      "model_module": "@jupyter-widgets/controls",
      "model_module_version": "1.5.0",
      "model_name": "DescriptionStyleModel",
      "state": {
       "description_width": ""
      }
     },
     "c37dfd9962f6428cba4af1fe47f3d6c5": {
      "model_module": "@jupyter-widgets/base",
      "model_module_version": "1.2.0",
      "model_name": "LayoutModel",
      "state": {}
     },
     "c3b87999c1fb411ea880f86ea4026612": {
      "model_module": "@jupyter-widgets/base",
      "model_module_version": "1.2.0",
      "model_name": "LayoutModel",
      "state": {}
     },
     "c3d96d20ba3b47a18128b77f19e37c30": {
      "model_module": "@jupyter-widgets/controls",
      "model_module_version": "1.5.0",
      "model_name": "HTMLModel",
      "state": {
       "layout": "IPY_MODEL_22209110bcc94845a76f1d47a402ddb4",
       "style": "IPY_MODEL_614c733767714a7fa8493a23142bb1d5",
       "value": " 344/344 [00:30&lt;00:00, 11.13it/s, end_loss=0.817, jaccard=0.708, start_loss=0.831]"
      }
     },
     "c3e2e57d23c44d6585db51f87cbdc098": {
      "model_module": "@jupyter-widgets/base",
      "model_module_version": "1.2.0",
      "model_name": "LayoutModel",
      "state": {}
     },
     "c3e9e95dda714e4ab39848287106b6cb": {
      "model_module": "@jupyter-widgets/base",
      "model_module_version": "1.2.0",
      "model_name": "LayoutModel",
      "state": {}
     },
     "c4041760612046caa4c6d6921da013c6": {
      "model_module": "@jupyter-widgets/base",
      "model_module_version": "1.2.0",
      "model_name": "LayoutModel",
      "state": {}
     },
     "c418f73d822b4fad85afab643311449d": {
      "model_module": "@jupyter-widgets/base",
      "model_module_version": "1.2.0",
      "model_name": "LayoutModel",
      "state": {}
     },
     "c41da2373e9c4a08ab73932a68c18665": {
      "model_module": "@jupyter-widgets/base",
      "model_module_version": "1.2.0",
      "model_name": "LayoutModel",
      "state": {}
     },
     "c45012835def40078a714c27097517ef": {
      "model_module": "@jupyter-widgets/base",
      "model_module_version": "1.2.0",
      "model_name": "LayoutModel",
      "state": {}
     },
     "c46cf09ea35f48d989f3a138df809839": {
      "model_module": "@jupyter-widgets/controls",
      "model_module_version": "1.5.0",
      "model_name": "HBoxModel",
      "state": {
       "children": [
        "IPY_MODEL_aa4e52f3c4964e34af1a62fa5a5f602d",
        "IPY_MODEL_3c1aa8876dbf49d08c48f9dcbc7b267c"
       ],
       "layout": "IPY_MODEL_b4eb63b526114352bd225a0afe496656"
      }
     },
     "c4c2de7f24824974964348a004a534b2": {
      "model_module": "@jupyter-widgets/base",
      "model_module_version": "1.2.0",
      "model_name": "LayoutModel",
      "state": {}
     },
     "c4f001a4f18d4892ae43a4ac617f1acc": {
      "model_module": "@jupyter-widgets/controls",
      "model_module_version": "1.5.0",
      "model_name": "DescriptionStyleModel",
      "state": {
       "description_width": ""
      }
     },
     "c4f23afeffd2447c80e42fd47b95768f": {
      "model_module": "@jupyter-widgets/controls",
      "model_module_version": "1.5.0",
      "model_name": "DescriptionStyleModel",
      "state": {
       "description_width": ""
      }
     },
     "c50811398e34479687aac102748bcdb1": {
      "model_module": "@jupyter-widgets/controls",
      "model_module_version": "1.5.0",
      "model_name": "FloatProgressModel",
      "state": {
       "bar_style": "success",
       "description": "100%",
       "layout": "IPY_MODEL_d29f18b0e40c49ff98fdf02ee741ecbf",
       "max": 344,
       "style": "IPY_MODEL_7ae6ea2ac38b453e86d62b099890e987",
       "value": 344
      }
     },
     "c517e009d6614d66a2cd82d276e604fe": {
      "model_module": "@jupyter-widgets/base",
      "model_module_version": "1.2.0",
      "model_name": "LayoutModel",
      "state": {}
     },
     "c53e597b3ff6424abdca7ce47ac23d95": {
      "model_module": "@jupyter-widgets/controls",
      "model_module_version": "1.5.0",
      "model_name": "HBoxModel",
      "state": {
       "children": [
        "IPY_MODEL_fe61f1e7552f406186809b80f88f6c31",
        "IPY_MODEL_e909472c8ebd4a4192a84dfae7d7629d"
       ],
       "layout": "IPY_MODEL_92e699107f7f419b893ec0284a210d0e"
      }
     },
     "c5578c8c97304aa8b0bb00cbbfd8bfef": {
      "model_module": "@jupyter-widgets/base",
      "model_module_version": "1.2.0",
      "model_name": "LayoutModel",
      "state": {}
     },
     "c581213cc224403d8f3d2e7471bb7e45": {
      "model_module": "@jupyter-widgets/controls",
      "model_module_version": "1.5.0",
      "model_name": "ProgressStyleModel",
      "state": {
       "description_width": "initial"
      }
     },
     "c585dfc0de8b463db4dc39123aa28a88": {
      "model_module": "@jupyter-widgets/base",
      "model_module_version": "1.2.0",
      "model_name": "LayoutModel",
      "state": {}
     },
     "c5915a8541324599a884ac60442a188c": {
      "model_module": "@jupyter-widgets/controls",
      "model_module_version": "1.5.0",
      "model_name": "DescriptionStyleModel",
      "state": {
       "description_width": ""
      }
     },
     "c5ce0c6640c84e0e90ae5c120151c53e": {
      "model_module": "@jupyter-widgets/controls",
      "model_module_version": "1.5.0",
      "model_name": "DescriptionStyleModel",
      "state": {
       "description_width": ""
      }
     },
     "c5ce6425e795465388763efbd02c7c2f": {
      "model_module": "@jupyter-widgets/controls",
      "model_module_version": "1.5.0",
      "model_name": "HTMLModel",
      "state": {
       "layout": "IPY_MODEL_ce7e4136a7e04c559c76a9d6d2b98682",
       "style": "IPY_MODEL_251ce494fb83406aa7beb2b54a9f44cb",
       "value": " 344/344 [00:21&lt;00:00, 15.85it/s, end_loss=0.809, jaccard=0.707, start_loss=0.839]"
      }
     },
     "c5d43db82f174bebbb78210b2a12c43f": {
      "model_module": "@jupyter-widgets/controls",
      "model_module_version": "1.5.0",
      "model_name": "HTMLModel",
      "state": {
       "layout": "IPY_MODEL_bd9b0cbc99904b06829c6e683350b5be",
       "style": "IPY_MODEL_9020f980d6ee4035ba587f7d4d11020a",
       "value": " 344/344 [00:23&lt;00:00, 14.34it/s, end_loss=0.78, jaccard=0.71, start_loss=0.855]"
      }
     },
     "c5f0d570f89d4b768afc3e14bfd7bc7a": {
      "model_module": "@jupyter-widgets/controls",
      "model_module_version": "1.5.0",
      "model_name": "DescriptionStyleModel",
      "state": {
       "description_width": ""
      }
     },
     "c5f944b6008641f0a050e6509687a2a3": {
      "model_module": "@jupyter-widgets/controls",
      "model_module_version": "1.5.0",
      "model_name": "FloatProgressModel",
      "state": {
       "bar_style": "success",
       "description": "100%",
       "layout": "IPY_MODEL_b2e594fdfc054bc499689941f0853262",
       "max": 344,
       "style": "IPY_MODEL_d59a6aca13fe4b9aab92039adc49a980",
       "value": 344
      }
     },
     "c605f5db1af34f57bf3ec284efec9f2b": {
      "model_module": "@jupyter-widgets/base",
      "model_module_version": "1.2.0",
      "model_name": "LayoutModel",
      "state": {}
     },
     "c60c9fb7c3cd4259b564c652c4948780": {
      "model_module": "@jupyter-widgets/base",
      "model_module_version": "1.2.0",
      "model_name": "LayoutModel",
      "state": {}
     },
     "c62d438f102c472997320d5b4922a39a": {
      "model_module": "@jupyter-widgets/base",
      "model_module_version": "1.2.0",
      "model_name": "LayoutModel",
      "state": {}
     },
     "c63f195acd11480595edf495fc1d856e": {
      "model_module": "@jupyter-widgets/controls",
      "model_module_version": "1.5.0",
      "model_name": "HBoxModel",
      "state": {
       "children": [
        "IPY_MODEL_100cb82e23b548a4b8ca6cf3649b964a",
        "IPY_MODEL_7ed9860f96894bf490b42e57491805b0"
       ],
       "layout": "IPY_MODEL_c21c8c9d7a7e4377b0a98503ce59b2ac"
      }
     },
     "c649803617cc494596a06a5622e9d8f3": {
      "model_module": "@jupyter-widgets/controls",
      "model_module_version": "1.5.0",
      "model_name": "DescriptionStyleModel",
      "state": {
       "description_width": ""
      }
     },
     "c6749d8fce514feba42301c73dce94d3": {
      "model_module": "@jupyter-widgets/base",
      "model_module_version": "1.2.0",
      "model_name": "LayoutModel",
      "state": {}
     },
     "c6a9f0253103411cb1d14dbb7a33cb62": {
      "model_module": "@jupyter-widgets/base",
      "model_module_version": "1.2.0",
      "model_name": "LayoutModel",
      "state": {}
     },
     "c6ca363d420d42d1851b6550386044f7": {
      "model_module": "@jupyter-widgets/controls",
      "model_module_version": "1.5.0",
      "model_name": "ProgressStyleModel",
      "state": {
       "description_width": "initial"
      }
     },
     "c6d1b917e1d545868cabda6793e81c68": {
      "model_module": "@jupyter-widgets/controls",
      "model_module_version": "1.5.0",
      "model_name": "DescriptionStyleModel",
      "state": {
       "description_width": ""
      }
     },
     "c6e4e55dc630428e9d46cfe2007b9d06": {
      "model_module": "@jupyter-widgets/controls",
      "model_module_version": "1.5.0",
      "model_name": "ProgressStyleModel",
      "state": {
       "description_width": "initial"
      }
     },
     "c71312f04b6348a6b8fd6cc242d9969f": {
      "model_module": "@jupyter-widgets/controls",
      "model_module_version": "1.5.0",
      "model_name": "DescriptionStyleModel",
      "state": {
       "description_width": ""
      }
     },
     "c7869b230b3d4ec8976428ad41e1bc4a": {
      "model_module": "@jupyter-widgets/controls",
      "model_module_version": "1.5.0",
      "model_name": "HBoxModel",
      "state": {
       "children": [
        "IPY_MODEL_cc0ca0f62ce64c288099e8d6550ea948",
        "IPY_MODEL_36da4de0703743d5917c18cd73358b93"
       ],
       "layout": "IPY_MODEL_f33039c94b594dd69628c2b692c04479"
      }
     },
     "c7a47f200a5a49689a5b318161a615a8": {
      "model_module": "@jupyter-widgets/base",
      "model_module_version": "1.2.0",
      "model_name": "LayoutModel",
      "state": {}
     },
     "c7bc7c00f23c4ef498e29316842b92ed": {
      "model_module": "@jupyter-widgets/base",
      "model_module_version": "1.2.0",
      "model_name": "LayoutModel",
      "state": {}
     },
     "c7ce828761f3496db81c368795e6293d": {
      "model_module": "@jupyter-widgets/controls",
      "model_module_version": "1.5.0",
      "model_name": "ProgressStyleModel",
      "state": {
       "description_width": "initial"
      }
     },
     "c7cf3be0821a43c48657979f0eaccfb1": {
      "model_module": "@jupyter-widgets/base",
      "model_module_version": "1.2.0",
      "model_name": "LayoutModel",
      "state": {}
     },
     "c7e580ccf30b498199076eee71e696b1": {
      "model_module": "@jupyter-widgets/controls",
      "model_module_version": "1.5.0",
      "model_name": "HTMLModel",
      "state": {
       "layout": "IPY_MODEL_479c56fdd615483497b8a0ec468e3ed3",
       "style": "IPY_MODEL_9870a4e13b3f4beea3b62da1db724511",
       "value": " 344/344 [00:22&lt;00:00, 15.43it/s, end_loss=0.862, jaccard=0.708, start_loss=0.902]"
      }
     },
     "c8035b225f344f0c930af7d0855679fb": {
      "model_module": "@jupyter-widgets/controls",
      "model_module_version": "1.5.0",
      "model_name": "HTMLModel",
      "state": {
       "layout": "IPY_MODEL_2b01ed5ceab34981890c3ecd2517725d",
       "style": "IPY_MODEL_7b5c5ebbe7e64634863a069446d91c9a",
       "value": " 344/344 [03:26&lt;00:00,  1.66it/s, end_loss=1.43, jaccard=0.627, start_loss=1.39]"
      }
     },
     "c80f6a2debc24bc9845eb750e45f54f4": {
      "model_module": "@jupyter-widgets/controls",
      "model_module_version": "1.5.0",
      "model_name": "FloatProgressModel",
      "state": {
       "bar_style": "success",
       "description": "100%",
       "layout": "IPY_MODEL_76d4bac3fe594ab6b31900d1c39ef245",
       "max": 344,
       "style": "IPY_MODEL_fba00f52960a41a393177a30a5f05734",
       "value": 344
      }
     },
     "c8648372f3d14f7fa5d080d29ff39748": {
      "model_module": "@jupyter-widgets/base",
      "model_module_version": "1.2.0",
      "model_name": "LayoutModel",
      "state": {}
     },
     "c8a1ebbf0ab64a89b89303f257f555ba": {
      "model_module": "@jupyter-widgets/controls",
      "model_module_version": "1.5.0",
      "model_name": "FloatProgressModel",
      "state": {
       "bar_style": "success",
       "description": "100%",
       "layout": "IPY_MODEL_b833f6ce94fa4bd48c126df29365d9b8",
       "max": 344,
       "style": "IPY_MODEL_f655e36f98db4747aa1d853473fac130",
       "value": 344
      }
     },
     "c8af3e00ec404dd095caf91e99c1eb2e": {
      "model_module": "@jupyter-widgets/base",
      "model_module_version": "1.2.0",
      "model_name": "LayoutModel",
      "state": {}
     },
     "c8c35c4f365f470dba53e23e74992aef": {
      "model_module": "@jupyter-widgets/controls",
      "model_module_version": "1.5.0",
      "model_name": "ProgressStyleModel",
      "state": {
       "description_width": "initial"
      }
     },
     "c8d360983b9d45038112f646ebb5692b": {
      "model_module": "@jupyter-widgets/controls",
      "model_module_version": "1.5.0",
      "model_name": "ProgressStyleModel",
      "state": {
       "description_width": "initial"
      }
     },
     "c8e3b41d78e6447a81c7303f54d8d686": {
      "model_module": "@jupyter-widgets/controls",
      "model_module_version": "1.5.0",
      "model_name": "ProgressStyleModel",
      "state": {
       "description_width": "initial"
      }
     },
     "c8f5c728bfe84a699cbe15de8651eb1b": {
      "model_module": "@jupyter-widgets/controls",
      "model_module_version": "1.5.0",
      "model_name": "FloatProgressModel",
      "state": {
       "bar_style": "success",
       "description": "100%",
       "layout": "IPY_MODEL_a8379d112113445da9037fab1f06deb8",
       "max": 344,
       "style": "IPY_MODEL_41e70012f90140ac94a5f2d05b8aba79",
       "value": 344
      }
     },
     "c8feb26f5a3e41c0a50828184450c9db": {
      "model_module": "@jupyter-widgets/base",
      "model_module_version": "1.2.0",
      "model_name": "LayoutModel",
      "state": {}
     },
     "c90997bbf9344ef78c9e2de2fcba3af9": {
      "model_module": "@jupyter-widgets/base",
      "model_module_version": "1.2.0",
      "model_name": "LayoutModel",
      "state": {}
     },
     "c92b8692619d4edb9816590a235abd3e": {
      "model_module": "@jupyter-widgets/controls",
      "model_module_version": "1.5.0",
      "model_name": "ProgressStyleModel",
      "state": {
       "description_width": "initial"
      }
     },
     "c93d25d9a10a4740918d7ba4af9d8151": {
      "model_module": "@jupyter-widgets/base",
      "model_module_version": "1.2.0",
      "model_name": "LayoutModel",
      "state": {}
     },
     "c981f378851f4e7296adf0299437207e": {
      "model_module": "@jupyter-widgets/controls",
      "model_module_version": "1.5.0",
      "model_name": "FloatProgressModel",
      "state": {
       "bar_style": "success",
       "description": "100%",
       "layout": "IPY_MODEL_9dad1be953d541a59be99b43a259b9de",
       "max": 344,
       "style": "IPY_MODEL_8179418638944ad6a0b2778359723130",
       "value": 344
      }
     },
     "c9a300772fad4a6c8671103f9105af79": {
      "model_module": "@jupyter-widgets/controls",
      "model_module_version": "1.5.0",
      "model_name": "FloatProgressModel",
      "state": {
       "bar_style": "success",
       "description": "100%",
       "layout": "IPY_MODEL_421d7b661df745d29be4b45716160a66",
       "max": 344,
       "style": "IPY_MODEL_f3a23f6c3e3a43389d5c5c25c0b1f10f",
       "value": 344
      }
     },
     "c9acc5086cd04a3282b5968318a649ec": {
      "model_module": "@jupyter-widgets/base",
      "model_module_version": "1.2.0",
      "model_name": "LayoutModel",
      "state": {}
     },
     "c9bbdc887e7c45fbb8e858fc7719fd8d": {
      "model_module": "@jupyter-widgets/controls",
      "model_module_version": "1.5.0",
      "model_name": "DescriptionStyleModel",
      "state": {
       "description_width": ""
      }
     },
     "c9d9899fdb184f03bcf03f47b197e8c1": {
      "model_module": "@jupyter-widgets/controls",
      "model_module_version": "1.5.0",
      "model_name": "HBoxModel",
      "state": {
       "children": [
        "IPY_MODEL_17a5b74bbebf4381a581bc5755e6ceb7",
        "IPY_MODEL_65e46ad7f66a4e60a70bd5d21d1dab35"
       ],
       "layout": "IPY_MODEL_0cc1eabda2ac47809e52b4298c85c9ec"
      }
     },
     "c9ddb97dcc4148dd9bc5f89ded172222": {
      "model_module": "@jupyter-widgets/controls",
      "model_module_version": "1.5.0",
      "model_name": "ProgressStyleModel",
      "state": {
       "description_width": "initial"
      }
     },
     "c9de5b0817b14a548e7f66ade4eae3a7": {
      "model_module": "@jupyter-widgets/base",
      "model_module_version": "1.2.0",
      "model_name": "LayoutModel",
      "state": {}
     },
     "ca06f26167964806ac00a597b61cd1d2": {
      "model_module": "@jupyter-widgets/controls",
      "model_module_version": "1.5.0",
      "model_name": "ProgressStyleModel",
      "state": {
       "description_width": "initial"
      }
     },
     "ca208a8a4ba947f6bed65e856da76a1c": {
      "model_module": "@jupyter-widgets/base",
      "model_module_version": "1.2.0",
      "model_name": "LayoutModel",
      "state": {}
     },
     "ca5c2a23bfe34c98b5cde20996f5732e": {
      "model_module": "@jupyter-widgets/base",
      "model_module_version": "1.2.0",
      "model_name": "LayoutModel",
      "state": {}
     },
     "ca8070ece4b84404b9333c633dd29e73": {
      "model_module": "@jupyter-widgets/base",
      "model_module_version": "1.2.0",
      "model_name": "LayoutModel",
      "state": {}
     },
     "cab9f424a6be4f029b13046b6ee1a164": {
      "model_module": "@jupyter-widgets/base",
      "model_module_version": "1.2.0",
      "model_name": "LayoutModel",
      "state": {}
     },
     "cad53ac2b29249819795afec23fa6c29": {
      "model_module": "@jupyter-widgets/base",
      "model_module_version": "1.2.0",
      "model_name": "LayoutModel",
      "state": {}
     },
     "cad6466549ba48c98c538636e37ea288": {
      "model_module": "@jupyter-widgets/controls",
      "model_module_version": "1.5.0",
      "model_name": "HTMLModel",
      "state": {
       "layout": "IPY_MODEL_3631a8b4e9e445bc975c7c99a0b59fa9",
       "style": "IPY_MODEL_21e881d283444342a97f4ce6fbfd19e6",
       "value": " 344/344 [27:16&lt;00:00,  4.76s/it, end_loss=1.05, jaccard=0.695, start_loss=1.1]"
      }
     },
     "cadcf650f42a43ed8ef067c7c46d50c0": {
      "model_module": "@jupyter-widgets/controls",
      "model_module_version": "1.5.0",
      "model_name": "ProgressStyleModel",
      "state": {
       "description_width": "initial"
      }
     },
     "cae081978d2e4516b5d633ddf2db23a1": {
      "model_module": "@jupyter-widgets/controls",
      "model_module_version": "1.5.0",
      "model_name": "ProgressStyleModel",
      "state": {
       "description_width": "initial"
      }
     },
     "cb1543b6353a47aebfe13e973c49b4f5": {
      "model_module": "@jupyter-widgets/base",
      "model_module_version": "1.2.0",
      "model_name": "LayoutModel",
      "state": {}
     },
     "cb263ac4ccd9485591895faa7e0c6c89": {
      "model_module": "@jupyter-widgets/base",
      "model_module_version": "1.2.0",
      "model_name": "LayoutModel",
      "state": {}
     },
     "cb2a5e7b60244c02bf807092e47c3ee8": {
      "model_module": "@jupyter-widgets/base",
      "model_module_version": "1.2.0",
      "model_name": "LayoutModel",
      "state": {}
     },
     "cb2a6da35edc4e2c9d544f4861a42d35": {
      "model_module": "@jupyter-widgets/controls",
      "model_module_version": "1.5.0",
      "model_name": "ProgressStyleModel",
      "state": {
       "description_width": "initial"
      }
     },
     "cb6b17ca07234825b7b2d6a0fdada2cc": {
      "model_module": "@jupyter-widgets/controls",
      "model_module_version": "1.5.0",
      "model_name": "HTMLModel",
      "state": {
       "layout": "IPY_MODEL_0797bec95904497f83ec36cebd011e2f",
       "style": "IPY_MODEL_75699eea940a4147a51f0342241ca514",
       "value": " 344/344 [04:51&lt;00:00,  1.18it/s, end_loss=1.75, jaccard=0.656, start_loss=1.79]"
      }
     },
     "cb72cd08f8c74b5b92ea97bb75c86d4e": {
      "model_module": "@jupyter-widgets/base",
      "model_module_version": "1.2.0",
      "model_name": "LayoutModel",
      "state": {}
     },
     "cba06806718e48b4988eebf20cbad17b": {
      "model_module": "@jupyter-widgets/controls",
      "model_module_version": "1.5.0",
      "model_name": "HBoxModel",
      "state": {
       "children": [
        "IPY_MODEL_0dfb0d1512a74a49a7bae4719b8482ea",
        "IPY_MODEL_3ff5c937f1dd4b64b92fa9438b49d5f8"
       ],
       "layout": "IPY_MODEL_eb1d3561c4634625842dfe0d26fe631d"
      }
     },
     "cbb80410944846ac9e373e3062cc4deb": {
      "model_module": "@jupyter-widgets/base",
      "model_module_version": "1.2.0",
      "model_name": "LayoutModel",
      "state": {}
     },
     "cbbf5678eec84c6f89f9f4b8f31d4ead": {
      "model_module": "@jupyter-widgets/controls",
      "model_module_version": "1.5.0",
      "model_name": "HTMLModel",
      "state": {
       "layout": "IPY_MODEL_865b58c838f5499191cf8eac12abf585",
       "style": "IPY_MODEL_c6d1b917e1d545868cabda6793e81c68",
       "value": " 344/344 [00:19&lt;00:00, 17.60it/s, end_loss=0.785, jaccard=0.712, merged_loss=0.986, start_loss=0.817]"
      }
     },
     "cbfc8392f44a4d1db4bff4f8169d8cc8": {
      "model_module": "@jupyter-widgets/controls",
      "model_module_version": "1.5.0",
      "model_name": "ProgressStyleModel",
      "state": {
       "description_width": "initial"
      }
     },
     "cc0ca0f62ce64c288099e8d6550ea948": {
      "model_module": "@jupyter-widgets/controls",
      "model_module_version": "1.5.0",
      "model_name": "FloatProgressModel",
      "state": {
       "bar_style": "success",
       "description": "100%",
       "layout": "IPY_MODEL_ebbd0c44761c448f96c6a81546dbe4cc",
       "max": 344,
       "style": "IPY_MODEL_783970294df5449dab699a1b57771c22",
       "value": 344
      }
     },
     "cc14d66bc2b64410821d2e8424f55597": {
      "model_module": "@jupyter-widgets/base",
      "model_module_version": "1.2.0",
      "model_name": "LayoutModel",
      "state": {}
     },
     "cc1d6e96161146a0be3941eeb7f58dcb": {
      "model_module": "@jupyter-widgets/controls",
      "model_module_version": "1.5.0",
      "model_name": "FloatProgressModel",
      "state": {
       "bar_style": "success",
       "description": "100%",
       "layout": "IPY_MODEL_dcd3d4e3fd6f4bc0a19cf44302553664",
       "max": 344,
       "style": "IPY_MODEL_c6ca363d420d42d1851b6550386044f7",
       "value": 344
      }
     },
     "cc32c728332c43a4920b34535c0fedc3": {
      "model_module": "@jupyter-widgets/controls",
      "model_module_version": "1.5.0",
      "model_name": "HTMLModel",
      "state": {
       "layout": "IPY_MODEL_bb66035168da47f09660ff354e1a4165",
       "style": "IPY_MODEL_5c9763708b424cd286c0cc24ea1d29e6",
       "value": " 344/344 [03:10&lt;00:00,  1.81it/s, end_loss=1.7, jaccard=0.669, start_loss=1.73]"
      }
     },
     "cc4d96660b3f4eb1b51627fd3bf7c4be": {
      "model_module": "@jupyter-widgets/base",
      "model_module_version": "1.2.0",
      "model_name": "LayoutModel",
      "state": {}
     },
     "cc62236904374a628725060311dcdf97": {
      "model_module": "@jupyter-widgets/controls",
      "model_module_version": "1.5.0",
      "model_name": "HTMLModel",
      "state": {
       "layout": "IPY_MODEL_7aa4b858d5054908afacf3fd5963a4cb",
       "style": "IPY_MODEL_b2cc49ded2194f69b63e2f64cd513191",
       "value": " 344/344 [00:19&lt;00:00, 17.88it/s, end_loss=1.49, jaccard=0.708, start_loss=1.54]"
      }
     },
     "cc7f6ff220314d5fac9f641c8be27a90": {
      "model_module": "@jupyter-widgets/controls",
      "model_module_version": "1.5.0",
      "model_name": "HBoxModel",
      "state": {
       "children": [
        "IPY_MODEL_4a20871161ca4db0a954ea3de449ea19",
        "IPY_MODEL_63999a60acde45979c64f1aee04a02e6"
       ],
       "layout": "IPY_MODEL_acf186eb6b3941dfbb48d45eef034018"
      }
     },
     "ccb12e051e344ddc8d2bac4dc59930a9": {
      "model_module": "@jupyter-widgets/base",
      "model_module_version": "1.2.0",
      "model_name": "LayoutModel",
      "state": {}
     },
     "ccb2872b09274ab08b0f683acea972b4": {
      "model_module": "@jupyter-widgets/controls",
      "model_module_version": "1.5.0",
      "model_name": "DescriptionStyleModel",
      "state": {
       "description_width": ""
      }
     },
     "cccbcd3e271242869a87662b55aa920d": {
      "model_module": "@jupyter-widgets/base",
      "model_module_version": "1.2.0",
      "model_name": "LayoutModel",
      "state": {}
     },
     "ccdfe1c76efd4c29a0823d98f2a4f3d2": {
      "model_module": "@jupyter-widgets/controls",
      "model_module_version": "1.5.0",
      "model_name": "HBoxModel",
      "state": {
       "children": [
        "IPY_MODEL_03adf23d9d5d4cc4a38d06cfb2ef5f46",
        "IPY_MODEL_5ef0e45fa80c493495bc83f43a51fde2"
       ],
       "layout": "IPY_MODEL_4c4b0415a1f747df9c9b27c99eaf48fd"
      }
     },
     "ccec67212474416196de702b70d97a5c": {
      "model_module": "@jupyter-widgets/controls",
      "model_module_version": "1.5.0",
      "model_name": "HBoxModel",
      "state": {
       "children": [
        "IPY_MODEL_4f6967b4eab14c77849fe3ac7bf0dd44",
        "IPY_MODEL_203aebb2b68b4adea1d30d654b1b4f66"
       ],
       "layout": "IPY_MODEL_7ea648eac23c4bcd804b44ee689807be"
      }
     },
     "cced5a340d2f4466a34d6ec178a472d1": {
      "model_module": "@jupyter-widgets/base",
      "model_module_version": "1.2.0",
      "model_name": "LayoutModel",
      "state": {}
     },
     "cd0c08e324c94d7f880f6357433dfa85": {
      "model_module": "@jupyter-widgets/controls",
      "model_module_version": "1.5.0",
      "model_name": "HTMLModel",
      "state": {
       "layout": "IPY_MODEL_ce6ee43123e1428fa33e30451d7acc92",
       "style": "IPY_MODEL_ae0cc18c9aea4641a0a7017ab92eb267",
       "value": " 344/344 [00:20&lt;00:00, 16.73it/s, end_loss=0.791, jaccard=0.71, start_loss=0.84]"
      }
     },
     "cd267d1f83ef4afe800f8ad564b566b7": {
      "model_module": "@jupyter-widgets/controls",
      "model_module_version": "1.5.0",
      "model_name": "FloatProgressModel",
      "state": {
       "bar_style": "success",
       "description": "100%",
       "layout": "IPY_MODEL_0d676fff348d45c38d2050f552b8e253",
       "max": 344,
       "style": "IPY_MODEL_86d124ff5d2a4d6fb3004703293ea704",
       "value": 344
      }
     },
     "cd28089167024a309c94f6b49e31b98d": {
      "model_module": "@jupyter-widgets/controls",
      "model_module_version": "1.5.0",
      "model_name": "FloatProgressModel",
      "state": {
       "bar_style": "success",
       "description": "100%",
       "layout": "IPY_MODEL_55bb6114fadb4e609fd15d829a187903",
       "max": 344,
       "style": "IPY_MODEL_af17bee2581c419da45a16b8dc6f2f4d",
       "value": 344
      }
     },
     "cd5a97f966ca4fe4a8db22241db58f8d": {
      "model_module": "@jupyter-widgets/base",
      "model_module_version": "1.2.0",
      "model_name": "LayoutModel",
      "state": {}
     },
     "cd871846be4342b1a0f48748417283a4": {
      "model_module": "@jupyter-widgets/controls",
      "model_module_version": "1.5.0",
      "model_name": "DescriptionStyleModel",
      "state": {
       "description_width": ""
      }
     },
     "cdd91c855ce04c739812824e1e1236dd": {
      "model_module": "@jupyter-widgets/controls",
      "model_module_version": "1.5.0",
      "model_name": "DescriptionStyleModel",
      "state": {
       "description_width": ""
      }
     },
     "cdff49c7a8cc49f58697521aa55e7375": {
      "model_module": "@jupyter-widgets/controls",
      "model_module_version": "1.5.0",
      "model_name": "DescriptionStyleModel",
      "state": {
       "description_width": ""
      }
     },
     "cdffd909f479489bbdff529ebeba1f55": {
      "model_module": "@jupyter-widgets/base",
      "model_module_version": "1.2.0",
      "model_name": "LayoutModel",
      "state": {}
     },
     "ce1e0bd3ea114564b3d06371b46bdb2e": {
      "model_module": "@jupyter-widgets/controls",
      "model_module_version": "1.5.0",
      "model_name": "FloatProgressModel",
      "state": {
       "bar_style": "success",
       "description": "100%",
       "layout": "IPY_MODEL_e3b996274f2945ec97b25997bd710f7c",
       "max": 344,
       "style": "IPY_MODEL_4c883cfe25b747bfbdb8ba874013bcde",
       "value": 344
      }
     },
     "ce3774cea8b84e8882b799b4d9f30f24": {
      "model_module": "@jupyter-widgets/controls",
      "model_module_version": "1.5.0",
      "model_name": "FloatProgressModel",
      "state": {
       "bar_style": "success",
       "description": "100%",
       "layout": "IPY_MODEL_611b0f47ffd34e1a8d9552d4dcef0c4e",
       "max": 344,
       "style": "IPY_MODEL_e0c3a7b1d67f43639a151997c9757b9b",
       "value": 344
      }
     },
     "ce60c13360d743fdb2a7605e311a189e": {
      "model_module": "@jupyter-widgets/base",
      "model_module_version": "1.2.0",
      "model_name": "LayoutModel",
      "state": {}
     },
     "ce6ee43123e1428fa33e30451d7acc92": {
      "model_module": "@jupyter-widgets/base",
      "model_module_version": "1.2.0",
      "model_name": "LayoutModel",
      "state": {}
     },
     "ce7e4136a7e04c559c76a9d6d2b98682": {
      "model_module": "@jupyter-widgets/base",
      "model_module_version": "1.2.0",
      "model_name": "LayoutModel",
      "state": {}
     },
     "ce7fa0b9e04643feaff5a67b50f9cf4f": {
      "model_module": "@jupyter-widgets/controls",
      "model_module_version": "1.5.0",
      "model_name": "HTMLModel",
      "state": {
       "layout": "IPY_MODEL_40f2d1d579b248ffb92aafac88cbf49e",
       "style": "IPY_MODEL_e7dc2dd2ec1f4e388994c33a5cb49f4c",
       "value": " 344/344 [01:41&lt;00:00,  3.39it/s, end_loss=1.49, jaccard=0.71, start_loss=1.51]"
      }
     },
     "ce8c9f142bdc453cab6928595ad1fb9f": {
      "model_module": "@jupyter-widgets/controls",
      "model_module_version": "1.5.0",
      "model_name": "DescriptionStyleModel",
      "state": {
       "description_width": ""
      }
     },
     "ceacaa1ea5d74d49b74ff13188478c3e": {
      "model_module": "@jupyter-widgets/controls",
      "model_module_version": "1.5.0",
      "model_name": "DescriptionStyleModel",
      "state": {
       "description_width": ""
      }
     },
     "cead55b5d1cc401f9519b429a880034c": {
      "model_module": "@jupyter-widgets/controls",
      "model_module_version": "1.5.0",
      "model_name": "ProgressStyleModel",
      "state": {
       "description_width": "initial"
      }
     },
     "cece528915d74261bd63b39fb6b5ad98": {
      "model_module": "@jupyter-widgets/base",
      "model_module_version": "1.2.0",
      "model_name": "LayoutModel",
      "state": {}
     },
     "ceed09237c234dd4b384cac5d6b1725e": {
      "model_module": "@jupyter-widgets/controls",
      "model_module_version": "1.5.0",
      "model_name": "HTMLModel",
      "state": {
       "layout": "IPY_MODEL_bd4a18da3ccb4224ba5f1984c788b750",
       "style": "IPY_MODEL_0b68a35793d446a08f05ec2b144ffc7e",
       "value": " 344/344 [05:11&lt;00:00,  1.10it/s, end_loss=1.11, jaccard=0.681, start_loss=1.14]"
      }
     },
     "cef50bc180004217a3ae93a2ee355bd8": {
      "model_module": "@jupyter-widgets/controls",
      "model_module_version": "1.5.0",
      "model_name": "HBoxModel",
      "state": {
       "children": [
        "IPY_MODEL_0a352db673c043ab9bf31c4d108a8e77",
        "IPY_MODEL_061f325407db43c4bf2831c7e897d3a5"
       ],
       "layout": "IPY_MODEL_5da7787ecf5f431a869887ed2382b2b0"
      }
     },
     "cef9b2f0a32642dfa32f4174bde762d6": {
      "model_module": "@jupyter-widgets/controls",
      "model_module_version": "1.5.0",
      "model_name": "HBoxModel",
      "state": {
       "children": [
        "IPY_MODEL_a453158b1ff14b0eada94ae49bfc8486",
        "IPY_MODEL_10fd06145c074747862cd99c5bb9e527"
       ],
       "layout": "IPY_MODEL_6fba438cdfe04f5d86737db7cf5600c3"
      }
     },
     "cf20c52cd0a040bf88948a6221495db4": {
      "model_module": "@jupyter-widgets/controls",
      "model_module_version": "1.5.0",
      "model_name": "HBoxModel",
      "state": {
       "children": [
        "IPY_MODEL_737f15e8c94f41c5995bdf1f72ce39f3",
        "IPY_MODEL_7227d064c0074731abc45b967ab9f479"
       ],
       "layout": "IPY_MODEL_5fafc87547964be794e36b7018ae6713"
      }
     },
     "cf43caadab9a4a7cae11053d9b265e53": {
      "model_module": "@jupyter-widgets/controls",
      "model_module_version": "1.5.0",
      "model_name": "ProgressStyleModel",
      "state": {
       "description_width": "initial"
      }
     },
     "cf947e4fd7de420baa1869478b52abe9": {
      "model_module": "@jupyter-widgets/controls",
      "model_module_version": "1.5.0",
      "model_name": "ProgressStyleModel",
      "state": {
       "description_width": "initial"
      }
     },
     "cfa5180a410e45ec8adf693e7e43ded3": {
      "model_module": "@jupyter-widgets/base",
      "model_module_version": "1.2.0",
      "model_name": "LayoutModel",
      "state": {}
     },
     "cfaac95e37f84352be3564d1f12917ea": {
      "model_module": "@jupyter-widgets/controls",
      "model_module_version": "1.5.0",
      "model_name": "FloatProgressModel",
      "state": {
       "bar_style": "success",
       "description": "100%",
       "layout": "IPY_MODEL_747f989c30ea428180f13f354b1d797b",
       "max": 344,
       "style": "IPY_MODEL_308634df9166418cae9b2f33edaf6801",
       "value": 344
      }
     },
     "cfcf7c6e57884cefb0a404776e1590fa": {
      "model_module": "@jupyter-widgets/controls",
      "model_module_version": "1.5.0",
      "model_name": "FloatProgressModel",
      "state": {
       "bar_style": "success",
       "description": "100%",
       "layout": "IPY_MODEL_77a7313fd94e48599e973f261def1868",
       "max": 344,
       "style": "IPY_MODEL_5f48f2e9b2d14035b365ec2c23bd25e3",
       "value": 344
      }
     },
     "cfee6ee35e0d48ae87b20a4898bfda47": {
      "model_module": "@jupyter-widgets/base",
      "model_module_version": "1.2.0",
      "model_name": "LayoutModel",
      "state": {}
     },
     "cff19a98a619416e844c1a448772651f": {
      "model_module": "@jupyter-widgets/base",
      "model_module_version": "1.2.0",
      "model_name": "LayoutModel",
      "state": {}
     },
     "d036828e71ba4357937783e358a34acf": {
      "model_module": "@jupyter-widgets/base",
      "model_module_version": "1.2.0",
      "model_name": "LayoutModel",
      "state": {}
     },
     "d0374e5b7a54482bab99f48cf793a8f3": {
      "model_module": "@jupyter-widgets/base",
      "model_module_version": "1.2.0",
      "model_name": "LayoutModel",
      "state": {}
     },
     "d0466a13e96f4b19a4d5ccce1e4305a6": {
      "model_module": "@jupyter-widgets/controls",
      "model_module_version": "1.5.0",
      "model_name": "HBoxModel",
      "state": {
       "children": [
        "IPY_MODEL_8612d780a5b84d6aaa8d767342f7d59a",
        "IPY_MODEL_a3976f054cff4f07874ac0d3596298a7"
       ],
       "layout": "IPY_MODEL_c7cf3be0821a43c48657979f0eaccfb1"
      }
     },
     "d04682cda5e34bbdb2920f7b336fe073": {
      "model_module": "@jupyter-widgets/controls",
      "model_module_version": "1.5.0",
      "model_name": "ProgressStyleModel",
      "state": {
       "description_width": "initial"
      }
     },
     "d05296e0a65d485195bc99724a4c5cc7": {
      "model_module": "@jupyter-widgets/controls",
      "model_module_version": "1.5.0",
      "model_name": "HTMLModel",
      "state": {
       "layout": "IPY_MODEL_e4b068b9e84149ec8dc050fb0de27705",
       "style": "IPY_MODEL_828cfa4976734a46b57d65e7fe351c90",
       "value": " 344/344 [03:11&lt;00:00,  1.80it/s, end_loss=1.44, jaccard=0.598, start_loss=1.39]"
      }
     },
     "d0699f1acee14b2aa94dd6d99a13e543": {
      "model_module": "@jupyter-widgets/controls",
      "model_module_version": "1.5.0",
      "model_name": "DescriptionStyleModel",
      "state": {
       "description_width": ""
      }
     },
     "d079ab8a955240b7939be642dd193e41": {
      "model_module": "@jupyter-widgets/controls",
      "model_module_version": "1.5.0",
      "model_name": "HTMLModel",
      "state": {
       "layout": "IPY_MODEL_3bcec6c6d31a4ede95ec847a5dc71f27",
       "style": "IPY_MODEL_14e2ce5b58cf4dc6abbdd2914f1351ce",
       "value": " 344/344 [01:40&lt;00:00,  3.41it/s, end_loss=0.83, jaccard=0.7, start_loss=0.869]"
      }
     },
     "d08d3830e9a94eb083d3a6bb26a01f72": {
      "model_module": "@jupyter-widgets/controls",
      "model_module_version": "1.5.0",
      "model_name": "FloatProgressModel",
      "state": {
       "bar_style": "success",
       "description": "100%",
       "layout": "IPY_MODEL_c8feb26f5a3e41c0a50828184450c9db",
       "max": 344,
       "style": "IPY_MODEL_b488913e8ec14efb9c88ef9ebacaf3e0",
       "value": 344
      }
     },
     "d0904ccbcfc941ceb55cfe06c976be73": {
      "model_module": "@jupyter-widgets/base",
      "model_module_version": "1.2.0",
      "model_name": "LayoutModel",
      "state": {}
     },
     "d09cc520d5bd4805add8798467770093": {
      "model_module": "@jupyter-widgets/controls",
      "model_module_version": "1.5.0",
      "model_name": "DescriptionStyleModel",
      "state": {
       "description_width": ""
      }
     },
     "d0a7fae540744437b2203431332e1d3c": {
      "model_module": "@jupyter-widgets/base",
      "model_module_version": "1.2.0",
      "model_name": "LayoutModel",
      "state": {}
     },
     "d0c67ec7abce479d960c1af94e5d4b8a": {
      "model_module": "@jupyter-widgets/base",
      "model_module_version": "1.2.0",
      "model_name": "LayoutModel",
      "state": {}
     },
     "d0d5b87d5563442cbee6ec33dce043cf": {
      "model_module": "@jupyter-widgets/controls",
      "model_module_version": "1.5.0",
      "model_name": "HTMLModel",
      "state": {
       "layout": "IPY_MODEL_1ade40c9866c4c3b89b92dd9553a613a",
       "style": "IPY_MODEL_ea5b98f7cfcb4895a78a1dc941bfd934",
       "value": " 344/344 [00:19&lt;00:00, 17.78it/s, end_loss=1.52, jaccard=0.693, start_loss=1.55]"
      }
     },
     "d1606a626df649dfa175a8da4585fb30": {
      "model_module": "@jupyter-widgets/controls",
      "model_module_version": "1.5.0",
      "model_name": "HTMLModel",
      "state": {
       "layout": "IPY_MODEL_2cf76de6538942339bc2f2ea67110aa1",
       "style": "IPY_MODEL_fdf66015b1f347299e5d87c3145dedf5",
       "value": " 344/344 [05:24&lt;00:00,  1.06it/s, end_loss=1.42, jaccard=0.6, start_loss=1.39]"
      }
     },
     "d16189ff9ebb4c76a0be0c14dd1a0205": {
      "model_module": "@jupyter-widgets/controls",
      "model_module_version": "1.5.0",
      "model_name": "FloatProgressModel",
      "state": {
       "bar_style": "success",
       "description": "100%",
       "layout": "IPY_MODEL_771bd719952f4e27baba9ca2e807425c",
       "max": 344,
       "style": "IPY_MODEL_94a162c697414c429bc7855b200fcfbd",
       "value": 344
      }
     },
     "d164cc5854d542889cd13aa52d7b22da": {
      "model_module": "@jupyter-widgets/controls",
      "model_module_version": "1.5.0",
      "model_name": "FloatProgressModel",
      "state": {
       "bar_style": "success",
       "description": "100%",
       "layout": "IPY_MODEL_cfa5180a410e45ec8adf693e7e43ded3",
       "max": 344,
       "style": "IPY_MODEL_63bd31d5682646cea94bb1fed403b0fb",
       "value": 344
      }
     },
     "d188cbcbeb4546dd83df725f883c688c": {
      "model_module": "@jupyter-widgets/controls",
      "model_module_version": "1.5.0",
      "model_name": "FloatProgressModel",
      "state": {
       "bar_style": "success",
       "description": "100%",
       "layout": "IPY_MODEL_8f26e5c255f94153b155aad0d8fb94f8",
       "max": 344,
       "style": "IPY_MODEL_333f185afb764a12bd60333e5aeda2ea",
       "value": 344
      }
     },
     "d194be2527e149b1a836838d570dad6c": {
      "model_module": "@jupyter-widgets/controls",
      "model_module_version": "1.5.0",
      "model_name": "DescriptionStyleModel",
      "state": {
       "description_width": ""
      }
     },
     "d1abb98a7fb94293b4ae1001da54f2f6": {
      "model_module": "@jupyter-widgets/controls",
      "model_module_version": "1.5.0",
      "model_name": "HBoxModel",
      "state": {
       "children": [
        "IPY_MODEL_edcd128bc7b44e90a1d189a38c828afd",
        "IPY_MODEL_d079ab8a955240b7939be642dd193e41"
       ],
       "layout": "IPY_MODEL_644220d84b7c4259b883b71f20af242d"
      }
     },
     "d1c1e355ecf44c5289827aa9885708aa": {
      "model_module": "@jupyter-widgets/controls",
      "model_module_version": "1.5.0",
      "model_name": "HTMLModel",
      "state": {
       "layout": "IPY_MODEL_0c2e0b36c589474081d6357de2287d02",
       "style": "IPY_MODEL_a1aac9dbabb443fabbed9130b1b20ee4",
       "value": " 344/344 [06:34&lt;00:00,  1.15s/it, end_loss=1.45, jaccard=0.619, start_loss=1.4]"
      }
     },
     "d1c45e5a260f4a3f80c5798c0b4e05c0": {
      "model_module": "@jupyter-widgets/controls",
      "model_module_version": "1.5.0",
      "model_name": "HTMLModel",
      "state": {
       "layout": "IPY_MODEL_68d563d7294f4af8ab68e40a99116112",
       "style": "IPY_MODEL_514000ea7bcb4c7681eb3838d4a8356e",
       "value": " 344/344 [03:33&lt;00:00,  1.61it/s, end_loss=1.67, jaccard=0.674, start_loss=1.72]"
      }
     },
     "d1cef6e5d1b144d792f64b6458abfd40": {
      "model_module": "@jupyter-widgets/controls",
      "model_module_version": "1.5.0",
      "model_name": "HTMLModel",
      "state": {
       "layout": "IPY_MODEL_1308e5c37b44463788423b57b1751d4d",
       "style": "IPY_MODEL_ceacaa1ea5d74d49b74ff13188478c3e",
       "value": " 344/344 [03:27&lt;00:00,  1.65it/s, end_loss=1.69, jaccard=0.67, start_loss=1.71]"
      }
     },
     "d1fea199b991476d8b2a8f017088e6f6": {
      "model_module": "@jupyter-widgets/controls",
      "model_module_version": "1.5.0",
      "model_name": "HBoxModel",
      "state": {
       "children": [
        "IPY_MODEL_bbd448b504b14f16aa5e81b865417063",
        "IPY_MODEL_075ac3551bc24ff4b6edda91dbefbef3"
       ],
       "layout": "IPY_MODEL_7c89339398bd4d919c7ce6997dbee0a7"
      }
     },
     "d208cdf0178a4bac92567a029c576ab2": {
      "model_module": "@jupyter-widgets/base",
      "model_module_version": "1.2.0",
      "model_name": "LayoutModel",
      "state": {}
     },
     "d222a188d118425ca37ca4f6fe29e98a": {
      "model_module": "@jupyter-widgets/base",
      "model_module_version": "1.2.0",
      "model_name": "LayoutModel",
      "state": {}
     },
     "d23bacd566aa4027b4160e942f07322d": {
      "model_module": "@jupyter-widgets/controls",
      "model_module_version": "1.5.0",
      "model_name": "DescriptionStyleModel",
      "state": {
       "description_width": ""
      }
     },
     "d24ada64e2f6499e8a7dfe99b75db8b5": {
      "model_module": "@jupyter-widgets/base",
      "model_module_version": "1.2.0",
      "model_name": "LayoutModel",
      "state": {}
     },
     "d25a2c576fea4fb28a9104b6ce36ea04": {
      "model_module": "@jupyter-widgets/base",
      "model_module_version": "1.2.0",
      "model_name": "LayoutModel",
      "state": {}
     },
     "d25efda3e0314ec3bda6862ac5940808": {
      "model_module": "@jupyter-widgets/controls",
      "model_module_version": "1.5.0",
      "model_name": "DescriptionStyleModel",
      "state": {
       "description_width": ""
      }
     },
     "d267ed5dd8a544f998a5e04d411a9bb2": {
      "model_module": "@jupyter-widgets/base",
      "model_module_version": "1.2.0",
      "model_name": "LayoutModel",
      "state": {}
     },
     "d271709b37f1440189ee858be9184f8b": {
      "model_module": "@jupyter-widgets/base",
      "model_module_version": "1.2.0",
      "model_name": "LayoutModel",
      "state": {}
     },
     "d2784ec3a2ea4c80b98d6ea0fa152697": {
      "model_module": "@jupyter-widgets/controls",
      "model_module_version": "1.5.0",
      "model_name": "HBoxModel",
      "state": {
       "children": [
        "IPY_MODEL_d4682c1fe45e4ea784f8c0d980cb7c8b",
        "IPY_MODEL_ad706e1514bb4ccdbe14879b4e0acbdd"
       ],
       "layout": "IPY_MODEL_a0f52de9340544b093397e96aa144edb"
      }
     },
     "d29f18b0e40c49ff98fdf02ee741ecbf": {
      "model_module": "@jupyter-widgets/base",
      "model_module_version": "1.2.0",
      "model_name": "LayoutModel",
      "state": {}
     },
     "d2a35bacaf384b20a4fdec68aacb9bcd": {
      "model_module": "@jupyter-widgets/base",
      "model_module_version": "1.2.0",
      "model_name": "LayoutModel",
      "state": {}
     },
     "d2bd703da67942ad9ee4fa965058a091": {
      "model_module": "@jupyter-widgets/base",
      "model_module_version": "1.2.0",
      "model_name": "LayoutModel",
      "state": {}
     },
     "d2d2304cb2f54d579656aec9ffa357f6": {
      "model_module": "@jupyter-widgets/base",
      "model_module_version": "1.2.0",
      "model_name": "LayoutModel",
      "state": {}
     },
     "d2d34b22facf46b48ab920f9277f9859": {
      "model_module": "@jupyter-widgets/base",
      "model_module_version": "1.2.0",
      "model_name": "LayoutModel",
      "state": {}
     },
     "d2f2275976824a1abec97dcc137a7985": {
      "model_module": "@jupyter-widgets/controls",
      "model_module_version": "1.5.0",
      "model_name": "FloatProgressModel",
      "state": {
       "bar_style": "success",
       "description": "100%",
       "layout": "IPY_MODEL_1002a034a1ab411fbc5b55a0eed900cd",
       "max": 344,
       "style": "IPY_MODEL_208bb2737b7046708b0469c9b8cde5b0",
       "value": 344
      }
     },
     "d2f8f38c8e474ec89dfbe6d7bde1ad8c": {
      "model_module": "@jupyter-widgets/controls",
      "model_module_version": "1.5.0",
      "model_name": "HBoxModel",
      "state": {
       "children": [
        "IPY_MODEL_7bb336bba0b146a4bdeecd69f1794a0e",
        "IPY_MODEL_7e783951b0ca49b1bdad25fd8d00e161"
       ],
       "layout": "IPY_MODEL_2ca15edd5e5c48bebc579809cae64fcb"
      }
     },
     "d30447b8a8c848b8a6be9a13e0dc84f7": {
      "model_module": "@jupyter-widgets/base",
      "model_module_version": "1.2.0",
      "model_name": "LayoutModel",
      "state": {}
     },
     "d307d99532d34208a2b33f778aca34a8": {
      "model_module": "@jupyter-widgets/controls",
      "model_module_version": "1.5.0",
      "model_name": "HBoxModel",
      "state": {
       "children": [
        "IPY_MODEL_9c4bf73c976b4b11a3bbaf1dc5d3a32c",
        "IPY_MODEL_f2ee79a987474b76a0bfdaf862d8ece6"
       ],
       "layout": "IPY_MODEL_8ae80a0cab404e1181bb76c5524548e1"
      }
     },
     "d315ff02b19f4ad49710c6ae82ebf57c": {
      "model_module": "@jupyter-widgets/controls",
      "model_module_version": "1.5.0",
      "model_name": "HTMLModel",
      "state": {
       "layout": "IPY_MODEL_5e8684df015f47ba8f61f590b8ff03bf",
       "style": "IPY_MODEL_899f92da27cc41cba1d490450eb2d240",
       "value": " 344/344 [00:24&lt;00:00, 13.81it/s, end_loss=0.755, jaccard=0.72, start_loss=0.814]"
      }
     },
     "d31660659e83437d9e1cd3a280307258": {
      "model_module": "@jupyter-widgets/base",
      "model_module_version": "1.2.0",
      "model_name": "LayoutModel",
      "state": {}
     },
     "d3171bcfaf2d4f72963aa8d5e4e63c86": {
      "model_module": "@jupyter-widgets/base",
      "model_module_version": "1.2.0",
      "model_name": "LayoutModel",
      "state": {}
     },
     "d32045f361cf4cc1b5c72f983979607c": {
      "model_module": "@jupyter-widgets/controls",
      "model_module_version": "1.5.0",
      "model_name": "HTMLModel",
      "state": {
       "layout": "IPY_MODEL_33193202409344e5899ad6c9a76a9f99",
       "style": "IPY_MODEL_eab79c6490d646c5b86b83a647c0c13f",
       "value": " 344/344 [38:55&lt;00:00,  6.79s/it, end_loss=0.802, jaccard=0.763, start_loss=0.852]"
      }
     },
     "d375c6092008441693a422aee8e566b1": {
      "model_module": "@jupyter-widgets/controls",
      "model_module_version": "1.5.0",
      "model_name": "FloatProgressModel",
      "state": {
       "bar_style": "success",
       "description": "100%",
       "layout": "IPY_MODEL_d9b603850fdd4e55b84283da81e21070",
       "max": 344,
       "style": "IPY_MODEL_bdea49095b3147579ea19ff051074f9d",
       "value": 344
      }
     },
     "d3b71404f1fa418f9e8cb288d00206c7": {
      "model_module": "@jupyter-widgets/controls",
      "model_module_version": "1.5.0",
      "model_name": "DescriptionStyleModel",
      "state": {
       "description_width": ""
      }
     },
     "d3d82d2b941b4200a65e402ed7e0de9a": {
      "model_module": "@jupyter-widgets/base",
      "model_module_version": "1.2.0",
      "model_name": "LayoutModel",
      "state": {}
     },
     "d3de38fbbd254d0dbfe55ef68253af96": {
      "model_module": "@jupyter-widgets/base",
      "model_module_version": "1.2.0",
      "model_name": "LayoutModel",
      "state": {}
     },
     "d4449e9ac1ff493388cef4c1b62ab8b4": {
      "model_module": "@jupyter-widgets/base",
      "model_module_version": "1.2.0",
      "model_name": "LayoutModel",
      "state": {}
     },
     "d452115ab93d4b9e99aa38421543e511": {
      "model_module": "@jupyter-widgets/controls",
      "model_module_version": "1.5.0",
      "model_name": "HTMLModel",
      "state": {
       "layout": "IPY_MODEL_28203db45c3046b99c7c556e6fac23f2",
       "style": "IPY_MODEL_0ee87e909b224a5f96b7fb1ccfede1b1",
       "value": " 344/344 [05:47&lt;00:00,  1.01s/it, end_loss=0.824, jaccard=0.707, start_loss=0.877]"
      }
     },
     "d4682c1fe45e4ea784f8c0d980cb7c8b": {
      "model_module": "@jupyter-widgets/controls",
      "model_module_version": "1.5.0",
      "model_name": "FloatProgressModel",
      "state": {
       "bar_style": "danger",
       "description": "  0%",
       "layout": "IPY_MODEL_3925c8ce25564159895fb2c3a1d07883",
       "max": 344,
       "style": "IPY_MODEL_f01f6a265f60440fb7892aa1f2e4c52f"
      }
     },
     "d46969fea2af43c181ca7ba843ef8128": {
      "model_module": "@jupyter-widgets/base",
      "model_module_version": "1.2.0",
      "model_name": "LayoutModel",
      "state": {}
     },
     "d48fc5fccc75465780e6f137ee9b3bce": {
      "model_module": "@jupyter-widgets/base",
      "model_module_version": "1.2.0",
      "model_name": "LayoutModel",
      "state": {}
     },
     "d49b9128a07d4ae4a6c13bcdff7c0874": {
      "model_module": "@jupyter-widgets/base",
      "model_module_version": "1.2.0",
      "model_name": "LayoutModel",
      "state": {}
     },
     "d4a8ac5a0af34434a848e8ac428bd226": {
      "model_module": "@jupyter-widgets/base",
      "model_module_version": "1.2.0",
      "model_name": "LayoutModel",
      "state": {}
     },
     "d4bd9902b97e437193ecc3af5733ece4": {
      "model_module": "@jupyter-widgets/controls",
      "model_module_version": "1.5.0",
      "model_name": "HTMLModel",
      "state": {
       "layout": "IPY_MODEL_edd29304ea6547038e2826c713a48035",
       "style": "IPY_MODEL_90355ee9baed440794327398c6780a4d",
       "value": " 344/344 [03:32&lt;00:00,  1.62it/s, end_loss=0.895, jaccard=0.697, start_loss=0.933]"
      }
     },
     "d4cea1982c1c4fdf95d78a204e196306": {
      "model_module": "@jupyter-widgets/controls",
      "model_module_version": "1.5.0",
      "model_name": "DescriptionStyleModel",
      "state": {
       "description_width": ""
      }
     },
     "d4dd3ee950094809ae6a78377293bb38": {
      "model_module": "@jupyter-widgets/controls",
      "model_module_version": "1.5.0",
      "model_name": "DescriptionStyleModel",
      "state": {
       "description_width": ""
      }
     },
     "d50589f5c2664fdbbef4893c663d9b2e": {
      "model_module": "@jupyter-widgets/controls",
      "model_module_version": "1.5.0",
      "model_name": "FloatProgressModel",
      "state": {
       "bar_style": "success",
       "description": "100%",
       "layout": "IPY_MODEL_a15a471889fa4bdcad2e2f3b026ba03a",
       "max": 344,
       "style": "IPY_MODEL_1d6f7ef3c8834cd6866bca864fc93a7f",
       "value": 344
      }
     },
     "d507e5dae1884b2f8d0219681560c4d6": {
      "model_module": "@jupyter-widgets/base",
      "model_module_version": "1.2.0",
      "model_name": "LayoutModel",
      "state": {}
     },
     "d5263c0ddc2a407da1ee86fdc205d5dc": {
      "model_module": "@jupyter-widgets/base",
      "model_module_version": "1.2.0",
      "model_name": "LayoutModel",
      "state": {}
     },
     "d5350d86cd184cf1894a520b5ff357c1": {
      "model_module": "@jupyter-widgets/base",
      "model_module_version": "1.2.0",
      "model_name": "LayoutModel",
      "state": {}
     },
     "d5605f10c45e4de4a268359f4d626641": {
      "model_module": "@jupyter-widgets/controls",
      "model_module_version": "1.5.0",
      "model_name": "FloatProgressModel",
      "state": {
       "bar_style": "success",
       "description": "100%",
       "layout": "IPY_MODEL_efc8e6db419740c49810be3058d93fec",
       "max": 344,
       "style": "IPY_MODEL_2bcc1ba57b64426b8cd13586798084d5",
       "value": 344
      }
     },
     "d560f69a98504fcb9fa8e5bdf2677683": {
      "model_module": "@jupyter-widgets/base",
      "model_module_version": "1.2.0",
      "model_name": "LayoutModel",
      "state": {}
     },
     "d56339999ecc4c92a5c7450cdeba56a0": {
      "model_module": "@jupyter-widgets/controls",
      "model_module_version": "1.5.0",
      "model_name": "FloatProgressModel",
      "state": {
       "bar_style": "danger",
       "description": "  0%",
       "layout": "IPY_MODEL_a962ff67593f4ae7adcea402382bd2a6",
       "max": 344,
       "style": "IPY_MODEL_ab128bb3405b4f7f9ee3aadfb71da474"
      }
     },
     "d582c6b9597a4ae7a3152b01f88e9460": {
      "model_module": "@jupyter-widgets/base",
      "model_module_version": "1.2.0",
      "model_name": "LayoutModel",
      "state": {}
     },
     "d589da2f6a384507adf8eff126202170": {
      "model_module": "@jupyter-widgets/controls",
      "model_module_version": "1.5.0",
      "model_name": "DescriptionStyleModel",
      "state": {
       "description_width": ""
      }
     },
     "d58bb66bcd5d491a82ca1bf14485df05": {
      "model_module": "@jupyter-widgets/base",
      "model_module_version": "1.2.0",
      "model_name": "LayoutModel",
      "state": {}
     },
     "d59a6aca13fe4b9aab92039adc49a980": {
      "model_module": "@jupyter-widgets/controls",
      "model_module_version": "1.5.0",
      "model_name": "ProgressStyleModel",
      "state": {
       "description_width": "initial"
      }
     },
     "d5acfb33e4c347919630fdd5b47ad8ec": {
      "model_module": "@jupyter-widgets/controls",
      "model_module_version": "1.5.0",
      "model_name": "HTMLModel",
      "state": {
       "layout": "IPY_MODEL_0a37b55ba1584a0594a5df2b8fde27a1",
       "style": "IPY_MODEL_c5f0d570f89d4b768afc3e14bfd7bc7a",
       "value": " 344/344 [03:46&lt;00:00,  1.52it/s, end_loss=0.762, jaccard=0.711, merged_loss=1.01, start_loss=0.822]"
      }
     },
     "d5b988a7147d4cc497560671e75cc664": {
      "model_module": "@jupyter-widgets/controls",
      "model_module_version": "1.5.0",
      "model_name": "ProgressStyleModel",
      "state": {
       "description_width": "initial"
      }
     },
     "d5c3d9cdbbe34bfa912b2c3120402052": {
      "model_module": "@jupyter-widgets/base",
      "model_module_version": "1.2.0",
      "model_name": "LayoutModel",
      "state": {}
     },
     "d5fcb6f7616e4c6e80ff402a82d867ec": {
      "model_module": "@jupyter-widgets/controls",
      "model_module_version": "1.5.0",
      "model_name": "ProgressStyleModel",
      "state": {
       "description_width": "initial"
      }
     },
     "d5fd6e4988454293bb35f45cee767d13": {
      "model_module": "@jupyter-widgets/controls",
      "model_module_version": "1.5.0",
      "model_name": "HTMLModel",
      "state": {
       "layout": "IPY_MODEL_288586fde7d44e23a518660e90cfbd4e",
       "style": "IPY_MODEL_c4f001a4f18d4892ae43a4ac617f1acc",
       "value": " 344/344 [06:25&lt;00:00,  1.12s/it, end_loss=1.08, jaccard=0.689, start_loss=1.11]"
      }
     },
     "d62e64ef588c4365b1ea0b116bfa7b6a": {
      "model_module": "@jupyter-widgets/controls",
      "model_module_version": "1.5.0",
      "model_name": "DescriptionStyleModel",
      "state": {
       "description_width": ""
      }
     },
     "d634c8ff479f435586ff875a7fae40b0": {
      "model_module": "@jupyter-widgets/controls",
      "model_module_version": "1.5.0",
      "model_name": "HTMLModel",
      "state": {
       "layout": "IPY_MODEL_5fdd5cba759846b7aebe322a921b71e6",
       "style": "IPY_MODEL_1f178865fd0c494fba6fbe371e01408b",
       "value": " 344/344 [00:19&lt;00:00, 17.99it/s, end_loss=0.792, jaccard=0.702, start_loss=0.85]"
      }
     },
     "d6504f7bdd8d467fbf00c4e27663ce00": {
      "model_module": "@jupyter-widgets/controls",
      "model_module_version": "1.5.0",
      "model_name": "ProgressStyleModel",
      "state": {
       "description_width": "initial"
      }
     },
     "d68f6f90f12047f19b6c09b157295837": {
      "model_module": "@jupyter-widgets/base",
      "model_module_version": "1.2.0",
      "model_name": "LayoutModel",
      "state": {}
     },
     "d69dbac680904821aaca929a1dfad142": {
      "model_module": "@jupyter-widgets/controls",
      "model_module_version": "1.5.0",
      "model_name": "HTMLModel",
      "state": {
       "layout": "IPY_MODEL_cb1543b6353a47aebfe13e973c49b4f5",
       "style": "IPY_MODEL_6d032d1ee6ac43e88dcdfe4a29bcd392",
       "value": " 344/344 [58:00&lt;00:00, 10.12s/it, end_loss=1.01, jaccard=0.705, start_loss=1.05]"
      }
     },
     "d69fb48d479f43b79fd2845ff618b35b": {
      "model_module": "@jupyter-widgets/controls",
      "model_module_version": "1.5.0",
      "model_name": "FloatProgressModel",
      "state": {
       "bar_style": "danger",
       "description": "  0%",
       "layout": "IPY_MODEL_93bbc553180747959d86b698ccdb0ab4",
       "max": 344,
       "style": "IPY_MODEL_e0a2abb3024d4e73b8dd6d8f499087df"
      }
     },
     "d6ce3890549145d4987a3c037638d460": {
      "model_module": "@jupyter-widgets/base",
      "model_module_version": "1.2.0",
      "model_name": "LayoutModel",
      "state": {}
     },
     "d71d4d81a03441e78813caecff48096e": {
      "model_module": "@jupyter-widgets/controls",
      "model_module_version": "1.5.0",
      "model_name": "HTMLModel",
      "state": {
       "layout": "IPY_MODEL_f3465100834047f6bc28e53b0c4ed40e",
       "style": "IPY_MODEL_31db194369df44018ce43218f8343d37",
       "value": " 344/344 [00:19&lt;00:00, 17.70it/s, end_loss=1.49, jaccard=0.706, start_loss=1.54]"
      }
     },
     "d7333b6319f6407ba335ccdd7110a91e": {
      "model_module": "@jupyter-widgets/controls",
      "model_module_version": "1.5.0",
      "model_name": "HTMLModel",
      "state": {
       "layout": "IPY_MODEL_612f52af2b354593b3a76aef0ff28e37",
       "style": "IPY_MODEL_bd8fd4dd0e424f5782d81c36c30ed4fe",
       "value": " 344/344 [00:19&lt;00:00, 17.71it/s, end_loss=0.852, jaccard=0.686, start_loss=0.843]"
      }
     },
     "d741bb53f18a476ba961617134bb4918": {
      "model_module": "@jupyter-widgets/controls",
      "model_module_version": "1.5.0",
      "model_name": "DescriptionStyleModel",
      "state": {
       "description_width": ""
      }
     },
     "d77abd671cba445abf5a30dabc03f190": {
      "model_module": "@jupyter-widgets/base",
      "model_module_version": "1.2.0",
      "model_name": "LayoutModel",
      "state": {}
     },
     "d786dddca9de4f268fe04ade4bcbd806": {
      "model_module": "@jupyter-widgets/controls",
      "model_module_version": "1.5.0",
      "model_name": "HBoxModel",
      "state": {
       "children": [
        "IPY_MODEL_8330d47732ac48ce95c63d487dae38f0",
        "IPY_MODEL_b076331ce2c0468cb769297c49ac17df"
       ],
       "layout": "IPY_MODEL_a83134471ab541729cc40af68d98bfbf"
      }
     },
     "d79ec1420ac4484d8238e856ee2483d6": {
      "model_module": "@jupyter-widgets/base",
      "model_module_version": "1.2.0",
      "model_name": "LayoutModel",
      "state": {}
     },
     "d7b0abad124646f385f2cda1c6555ee2": {
      "model_module": "@jupyter-widgets/base",
      "model_module_version": "1.2.0",
      "model_name": "LayoutModel",
      "state": {}
     },
     "d7d8c56621cb4ba8bdcdf3f67f640a26": {
      "model_module": "@jupyter-widgets/controls",
      "model_module_version": "1.5.0",
      "model_name": "HTMLModel",
      "state": {
       "layout": "IPY_MODEL_85e48c22b99841269919bb4089e3480c",
       "style": "IPY_MODEL_d80e52eb6b3643d2bfb2f3c50ca46eb8",
       "value": " 344/344 [00:19&lt;00:00, 17.72it/s, end_loss=1.49, jaccard=0.706, start_loss=1.53]"
      }
     },
     "d7e92b1ff4a54c31869a16b96a435add": {
      "model_module": "@jupyter-widgets/controls",
      "model_module_version": "1.5.0",
      "model_name": "DescriptionStyleModel",
      "state": {
       "description_width": ""
      }
     },
     "d7f8d193ce834f138b26c5d29c71fb37": {
      "model_module": "@jupyter-widgets/controls",
      "model_module_version": "1.5.0",
      "model_name": "HTMLModel",
      "state": {
       "layout": "IPY_MODEL_6702c3686aaa4a1ebcee11014508f02e",
       "style": "IPY_MODEL_54d923ff2636406bbc285240b7bbb07c",
       "value": " 43/344 [00:26&lt;03:00,  1.67it/s, end_loss=2.4, jaccard=0.485, start_loss=2.23]"
      }
     },
     "d7fdf69dd00e4182bbd0f2094532de32": {
      "model_module": "@jupyter-widgets/base",
      "model_module_version": "1.2.0",
      "model_name": "LayoutModel",
      "state": {}
     },
     "d80e52eb6b3643d2bfb2f3c50ca46eb8": {
      "model_module": "@jupyter-widgets/controls",
      "model_module_version": "1.5.0",
      "model_name": "DescriptionStyleModel",
      "state": {
       "description_width": ""
      }
     },
     "d83d338bc05247cab7b046de2664e3a3": {
      "model_module": "@jupyter-widgets/controls",
      "model_module_version": "1.5.0",
      "model_name": "ProgressStyleModel",
      "state": {
       "description_width": "initial"
      }
     },
     "d84969d04a874d8da1ee2a4ecdd2d8eb": {
      "model_module": "@jupyter-widgets/controls",
      "model_module_version": "1.5.0",
      "model_name": "ProgressStyleModel",
      "state": {
       "description_width": "initial"
      }
     },
     "d85b457da19745dd8642cc5e385ac9c9": {
      "model_module": "@jupyter-widgets/controls",
      "model_module_version": "1.5.0",
      "model_name": "HBoxModel",
      "state": {
       "children": [
        "IPY_MODEL_ab80c81620b34fb7a70a4bd8ec9702de",
        "IPY_MODEL_3907fcbf47254d58bb9fac74966e1371"
       ],
       "layout": "IPY_MODEL_f461b46dbd134765949d01e6a5ef6624"
      }
     },
     "d86e82649ca74266bdbadbaebbd70414": {
      "model_module": "@jupyter-widgets/controls",
      "model_module_version": "1.5.0",
      "model_name": "DescriptionStyleModel",
      "state": {
       "description_width": ""
      }
     },
     "d870aefb98f94cc398c8f4538d73c830": {
      "model_module": "@jupyter-widgets/controls",
      "model_module_version": "1.5.0",
      "model_name": "ProgressStyleModel",
      "state": {
       "description_width": "initial"
      }
     },
     "d873ceb6c02d4416b2e5336a6eba496e": {
      "model_module": "@jupyter-widgets/controls",
      "model_module_version": "1.5.0",
      "model_name": "HTMLModel",
      "state": {
       "layout": "IPY_MODEL_0e4f4a1a25394a0b9483dae970b69ec8",
       "style": "IPY_MODEL_dea14d58a95a42d98bfb2170e4ef6dd7",
       "value": " 344/344 [03:13&lt;00:00,  1.78it/s, end_loss=0.928, jaccard=0.686, start_loss=0.973]"
      }
     },
     "d881714bcc604e0ea6ae08b5aa6cf4d7": {
      "model_module": "@jupyter-widgets/controls",
      "model_module_version": "1.5.0",
      "model_name": "FloatProgressModel",
      "state": {
       "bar_style": "success",
       "description": "100%",
       "layout": "IPY_MODEL_e0eca4efa7d34042933e1a6f39744995",
       "max": 344,
       "style": "IPY_MODEL_69a013e378fd4386bba09441729143c1",
       "value": 344
      }
     },
     "d892d0d1124d48d8a09c9c0bea49da4b": {
      "model_module": "@jupyter-widgets/controls",
      "model_module_version": "1.5.0",
      "model_name": "FloatProgressModel",
      "state": {
       "bar_style": "success",
       "description": "100%",
       "layout": "IPY_MODEL_b670988479dd4be7b1717b997645dc16",
       "max": 344,
       "style": "IPY_MODEL_0c9593e2d96b4891b16d6fbc2fb89cb5",
       "value": 344
      }
     },
     "d89403135e924cf6b443652983f54465": {
      "model_module": "@jupyter-widgets/controls",
      "model_module_version": "1.5.0",
      "model_name": "HBoxModel",
      "state": {
       "children": [
        "IPY_MODEL_97b69920a01746b79109fe2ad141c1ba",
        "IPY_MODEL_a171ae8a69e24ce58e5e679b95cab158"
       ],
       "layout": "IPY_MODEL_32902a89801b43a385a76bb4723bd426"
      }
     },
     "d89b4f96f9734329bb965aff4dd1fb48": {
      "model_module": "@jupyter-widgets/controls",
      "model_module_version": "1.5.0",
      "model_name": "HBoxModel",
      "state": {
       "children": [
        "IPY_MODEL_ffeadcd316614e3f98c44926dd1be4f7",
        "IPY_MODEL_4aefa7189b7e41f4af71b31653095507"
       ],
       "layout": "IPY_MODEL_d6ce3890549145d4987a3c037638d460"
      }
     },
     "d8b507a22ab04a27890addab5047723f": {
      "model_module": "@jupyter-widgets/controls",
      "model_module_version": "1.5.0",
      "model_name": "DescriptionStyleModel",
      "state": {
       "description_width": ""
      }
     },
     "d8b9bb594b6f417d8c181bd509a268e9": {
      "model_module": "@jupyter-widgets/base",
      "model_module_version": "1.2.0",
      "model_name": "LayoutModel",
      "state": {}
     },
     "d8c19259869848088ee0bdafdf85c210": {
      "model_module": "@jupyter-widgets/controls",
      "model_module_version": "1.5.0",
      "model_name": "ProgressStyleModel",
      "state": {
       "description_width": "initial"
      }
     },
     "d8c5fa849d0243f295be3901bf47001e": {
      "model_module": "@jupyter-widgets/controls",
      "model_module_version": "1.5.0",
      "model_name": "ProgressStyleModel",
      "state": {
       "description_width": "initial"
      }
     },
     "d8c6f30b97f04ce3adccbdf0f16ee461": {
      "model_module": "@jupyter-widgets/controls",
      "model_module_version": "1.5.0",
      "model_name": "HTMLModel",
      "state": {
       "layout": "IPY_MODEL_e05da8e0d5354a5ab5b81476314b1f4f",
       "style": "IPY_MODEL_fd17831557e14e8cbbca505029f7df5b",
       "value": " 344/344 [06:18&lt;00:00,  1.10s/it, end_loss=0.731, jaccard=0.718, merged_loss=1, start_loss=0.776]"
      }
     },
     "d8dd22e0cd2e4920967cd22701e8c313": {
      "model_module": "@jupyter-widgets/controls",
      "model_module_version": "1.5.0",
      "model_name": "HBoxModel",
      "state": {
       "children": [
        "IPY_MODEL_8e01f80388204ecbabfbbe5c7cd1b8f6",
        "IPY_MODEL_232fbf6783ff4830a3f264e96b647c80"
       ],
       "layout": "IPY_MODEL_c517e009d6614d66a2cd82d276e604fe"
      }
     },
     "d8f92d8cc82840e79cb648b6586292ae": {
      "model_module": "@jupyter-widgets/controls",
      "model_module_version": "1.5.0",
      "model_name": "FloatProgressModel",
      "state": {
       "bar_style": "success",
       "description": "100%",
       "layout": "IPY_MODEL_eef31bd46d3247538a2b931a039a2414",
       "max": 344,
       "style": "IPY_MODEL_a372bc688ae24c9695851594ec0cbd91",
       "value": 344
      }
     },
     "d8fd33c7cab44a2089f9509cf1ea03b0": {
      "model_module": "@jupyter-widgets/controls",
      "model_module_version": "1.5.0",
      "model_name": "ProgressStyleModel",
      "state": {
       "description_width": "initial"
      }
     },
     "d92336bc649b4231b47fe004e706d918": {
      "model_module": "@jupyter-widgets/controls",
      "model_module_version": "1.5.0",
      "model_name": "HTMLModel",
      "state": {
       "layout": "IPY_MODEL_38a62dee62ef4bed898220badd00309a",
       "style": "IPY_MODEL_f56e13c8991f4cee95bc8cb9ad535388",
       "value": " 344/344 [04:57&lt;00:00,  1.15it/s, end_loss=0.882, jaccard=0.688, start_loss=0.926]"
      }
     },
     "d92eb781ff0243748d5aec42d93ca2e1": {
      "model_module": "@jupyter-widgets/controls",
      "model_module_version": "1.5.0",
      "model_name": "HTMLModel",
      "state": {
       "layout": "IPY_MODEL_9aa2092523f54ee1b78e972c3b0e6294",
       "style": "IPY_MODEL_86d70aaf0afc4c99bfb9231a1fe314fa",
       "value": " 344/344 [03:23&lt;00:00,  1.69it/s, end_loss=1.02, jaccard=0.699, start_loss=1.08]"
      }
     },
     "d942c4a4526848bdb053e857c18419b9": {
      "model_module": "@jupyter-widgets/base",
      "model_module_version": "1.2.0",
      "model_name": "LayoutModel",
      "state": {}
     },
     "d950ee5b04754b10b100ff139e273333": {
      "model_module": "@jupyter-widgets/base",
      "model_module_version": "1.2.0",
      "model_name": "LayoutModel",
      "state": {}
     },
     "d96ce0bbf65f4dbca832b923255b4929": {
      "model_module": "@jupyter-widgets/controls",
      "model_module_version": "1.5.0",
      "model_name": "HBoxModel",
      "state": {
       "children": [
        "IPY_MODEL_59be4149de7645ac811c50335300799e",
        "IPY_MODEL_b2b3587852824815bc09656593559c20"
       ],
       "layout": "IPY_MODEL_f27f766a249046799d6b83c42485821d"
      }
     },
     "d96ee5f7f1f34888a6d8337fd7b5b688": {
      "model_module": "@jupyter-widgets/controls",
      "model_module_version": "1.5.0",
      "model_name": "ProgressStyleModel",
      "state": {
       "description_width": "initial"
      }
     },
     "d9b603850fdd4e55b84283da81e21070": {
      "model_module": "@jupyter-widgets/base",
      "model_module_version": "1.2.0",
      "model_name": "LayoutModel",
      "state": {}
     },
     "d9c698e4be9e45c48044084646005893": {
      "model_module": "@jupyter-widgets/base",
      "model_module_version": "1.2.0",
      "model_name": "LayoutModel",
      "state": {}
     },
     "d9f8220eefc747659b0a29f8fbfb4024": {
      "model_module": "@jupyter-widgets/controls",
      "model_module_version": "1.5.0",
      "model_name": "FloatProgressModel",
      "state": {
       "bar_style": "success",
       "description": "100%",
       "layout": "IPY_MODEL_9767fa412df34bc08c86cefd0c5ce1c5",
       "max": 344,
       "style": "IPY_MODEL_0ec8a617d07848848f166d007e7d2505",
       "value": 344
      }
     },
     "da1eb8b4079046638e91941055a2d557": {
      "model_module": "@jupyter-widgets/base",
      "model_module_version": "1.2.0",
      "model_name": "LayoutModel",
      "state": {}
     },
     "da33baea428746699597ba096d1cabcc": {
      "model_module": "@jupyter-widgets/controls",
      "model_module_version": "1.5.0",
      "model_name": "HBoxModel",
      "state": {
       "children": [
        "IPY_MODEL_a91b094acac24552b202402fd5320968",
        "IPY_MODEL_826fcd8bbe1c4384a0183f444c9765de"
       ],
       "layout": "IPY_MODEL_33718b3187d544c8a6db76df60865ef9"
      }
     },
     "da34fc432ff04323ad73d0f8d93b48f4": {
      "model_module": "@jupyter-widgets/controls",
      "model_module_version": "1.5.0",
      "model_name": "DescriptionStyleModel",
      "state": {
       "description_width": ""
      }
     },
     "da398c0f37f74eb2a9409ac194470e13": {
      "model_module": "@jupyter-widgets/base",
      "model_module_version": "1.2.0",
      "model_name": "LayoutModel",
      "state": {}
     },
     "da3c7e2bd6d540ba96e17eba67c22da5": {
      "model_module": "@jupyter-widgets/base",
      "model_module_version": "1.2.0",
      "model_name": "LayoutModel",
      "state": {}
     },
     "da44f18347994fb0adda354e48b2ba3c": {
      "model_module": "@jupyter-widgets/controls",
      "model_module_version": "1.5.0",
      "model_name": "DescriptionStyleModel",
      "state": {
       "description_width": ""
      }
     },
     "da52e41f022e4f34b9cc3c5b7330c947": {
      "model_module": "@jupyter-widgets/base",
      "model_module_version": "1.2.0",
      "model_name": "LayoutModel",
      "state": {}
     },
     "da75abdbba004e788408579f1367fe3a": {
      "model_module": "@jupyter-widgets/controls",
      "model_module_version": "1.5.0",
      "model_name": "HBoxModel",
      "state": {
       "children": [
        "IPY_MODEL_78b673d78ac34268a1daceba4ad062bd",
        "IPY_MODEL_8accdd8f535643f0a10b3f50fec7b10e"
       ],
       "layout": "IPY_MODEL_be0272811c1d4daaa21a96154e4bb498"
      }
     },
     "da8b3e0c87cf427e9198030b73897cc9": {
      "model_module": "@jupyter-widgets/controls",
      "model_module_version": "1.5.0",
      "model_name": "HTMLModel",
      "state": {
       "layout": "IPY_MODEL_ff3b2ba60d7d423ab100658651c03338",
       "style": "IPY_MODEL_8c2d6f5ad0b24be59dfd3aed82bc11f1",
       "value": " 344/344 [00:22&lt;00:00, 15.37it/s, end_loss=0.831, jaccard=0.702, start_loss=0.878]"
      }
     },
     "daa38b31847044fb9d04a0143d997f7c": {
      "model_module": "@jupyter-widgets/controls",
      "model_module_version": "1.5.0",
      "model_name": "HTMLModel",
      "state": {
       "layout": "IPY_MODEL_45a9e76d6b2e4c8fa3191150b21bc030",
       "style": "IPY_MODEL_a4bfc69b246b48b3984eb49398f6a926",
       "value": " 344/344 [00:22&lt;00:00, 15.07it/s, end_loss=0.79, jaccard=0.709, start_loss=0.844]"
      }
     },
     "db2d004f73904324811d926de4169efe": {
      "model_module": "@jupyter-widgets/controls",
      "model_module_version": "1.5.0",
      "model_name": "ProgressStyleModel",
      "state": {
       "description_width": "initial"
      }
     },
     "db3c212c52ff44ba8e53e189683c678b": {
      "model_module": "@jupyter-widgets/base",
      "model_module_version": "1.2.0",
      "model_name": "LayoutModel",
      "state": {}
     },
     "db925e0b63e541e180dd3b2114c24edc": {
      "model_module": "@jupyter-widgets/controls",
      "model_module_version": "1.5.0",
      "model_name": "ProgressStyleModel",
      "state": {
       "description_width": "initial"
      }
     },
     "dbbaca208dfb4c529a5a892079801479": {
      "model_module": "@jupyter-widgets/controls",
      "model_module_version": "1.5.0",
      "model_name": "DescriptionStyleModel",
      "state": {
       "description_width": ""
      }
     },
     "dbca374c5caa44a6961e6af7019d7126": {
      "model_module": "@jupyter-widgets/controls",
      "model_module_version": "1.5.0",
      "model_name": "HTMLModel",
      "state": {
       "layout": "IPY_MODEL_f780245ed59a43ed8ab8fa930dd456e6",
       "style": "IPY_MODEL_519efa9ff9334c4486ef67baf5b567c4",
       "value": " 344/344 [04:54&lt;00:00,  1.17it/s, end_loss=1.39, jaccard=0.602, start_loss=1.37]"
      }
     },
     "dbf844555d34423fa9add8150551c506": {
      "model_module": "@jupyter-widgets/base",
      "model_module_version": "1.2.0",
      "model_name": "LayoutModel",
      "state": {}
     },
     "dc0a3b99ff7f43ad80dd8b38955dd95a": {
      "model_module": "@jupyter-widgets/controls",
      "model_module_version": "1.5.0",
      "model_name": "DescriptionStyleModel",
      "state": {
       "description_width": ""
      }
     },
     "dc18e43c0e7748fbb366a9e95cc29265": {
      "model_module": "@jupyter-widgets/controls",
      "model_module_version": "1.5.0",
      "model_name": "DescriptionStyleModel",
      "state": {
       "description_width": ""
      }
     },
     "dc5f80ae6f754533a96534926fee6fe2": {
      "model_module": "@jupyter-widgets/controls",
      "model_module_version": "1.5.0",
      "model_name": "ProgressStyleModel",
      "state": {
       "description_width": "initial"
      }
     },
     "dc71c100a5dd43329eff7066ff252052": {
      "model_module": "@jupyter-widgets/base",
      "model_module_version": "1.2.0",
      "model_name": "LayoutModel",
      "state": {}
     },
     "dc7d0f205ce94ba99cff7428d91a3cc8": {
      "model_module": "@jupyter-widgets/controls",
      "model_module_version": "1.5.0",
      "model_name": "ProgressStyleModel",
      "state": {
       "description_width": "initial"
      }
     },
     "dc8b336f93814780ae154a15edcd5b79": {
      "model_module": "@jupyter-widgets/base",
      "model_module_version": "1.2.0",
      "model_name": "LayoutModel",
      "state": {}
     },
     "dcb0bfcf24ab4d17be481a296e1aa652": {
      "model_module": "@jupyter-widgets/controls",
      "model_module_version": "1.5.0",
      "model_name": "ProgressStyleModel",
      "state": {
       "description_width": "initial"
      }
     },
     "dcd3d4e3fd6f4bc0a19cf44302553664": {
      "model_module": "@jupyter-widgets/base",
      "model_module_version": "1.2.0",
      "model_name": "LayoutModel",
      "state": {}
     },
     "dced993fef024c058945f2021f473a01": {
      "model_module": "@jupyter-widgets/base",
      "model_module_version": "1.2.0",
      "model_name": "LayoutModel",
      "state": {}
     },
     "dd0f86dc49c748b4bd6dc5c0f27583e8": {
      "model_module": "@jupyter-widgets/controls",
      "model_module_version": "1.5.0",
      "model_name": "ProgressStyleModel",
      "state": {
       "description_width": "initial"
      }
     },
     "dd1dc166ffe2498aaea5dbc287effe66": {
      "model_module": "@jupyter-widgets/controls",
      "model_module_version": "1.5.0",
      "model_name": "FloatProgressModel",
      "state": {
       "bar_style": "success",
       "description": "100%",
       "layout": "IPY_MODEL_0063887f41ac46ad94e3d44158e2a6a3",
       "max": 344,
       "style": "IPY_MODEL_01dfa89c1e52493196c5d0d4b11c9372",
       "value": 344
      }
     },
     "dd2b5e8d90134d048fb5e9a96847ebd3": {
      "model_module": "@jupyter-widgets/controls",
      "model_module_version": "1.5.0",
      "model_name": "ProgressStyleModel",
      "state": {
       "description_width": "initial"
      }
     },
     "dd37bb1338f54356999da6606dad88be": {
      "model_module": "@jupyter-widgets/base",
      "model_module_version": "1.2.0",
      "model_name": "LayoutModel",
      "state": {}
     },
     "dd4d744683cd4c6486920129ed66896c": {
      "model_module": "@jupyter-widgets/controls",
      "model_module_version": "1.5.0",
      "model_name": "HTMLModel",
      "state": {
       "layout": "IPY_MODEL_b2af0667ac7a4221af1aa9f4a841fb2d",
       "style": "IPY_MODEL_60e413dc60704a9fa3104cf0386e0d06",
       "value": " 344/344 [03:51&lt;00:00,  1.49it/s, end_loss=0.812, jaccard=0.702, start_loss=0.832]"
      }
     },
     "dd60f03b37d84f488a865f3676766616": {
      "model_module": "@jupyter-widgets/base",
      "model_module_version": "1.2.0",
      "model_name": "LayoutModel",
      "state": {}
     },
     "dd63cf26acf34a1e8b756fb225a5a528": {
      "model_module": "@jupyter-widgets/controls",
      "model_module_version": "1.5.0",
      "model_name": "ProgressStyleModel",
      "state": {
       "description_width": "initial"
      }
     },
     "dd6e831014ac4f0caf4279bdb8aeb41f": {
      "model_module": "@jupyter-widgets/controls",
      "model_module_version": "1.5.0",
      "model_name": "HBoxModel",
      "state": {
       "children": [
        "IPY_MODEL_c343b5772cec4701b213e6ff7d35332e",
        "IPY_MODEL_e144e76e5695460a92bb2369029d0cb1"
       ],
       "layout": "IPY_MODEL_ed437b1fb92944269d101dbe86f7f07a"
      }
     },
     "dd822858dbad45419c3c4cf9ba1045b7": {
      "model_module": "@jupyter-widgets/base",
      "model_module_version": "1.2.0",
      "model_name": "LayoutModel",
      "state": {}
     },
     "dd9c39e6a6dd4f0a8ec1ddbe1aa7199d": {
      "model_module": "@jupyter-widgets/base",
      "model_module_version": "1.2.0",
      "model_name": "LayoutModel",
      "state": {}
     },
     "ddc5c48afa9a426293e4152d723ca0c6": {
      "model_module": "@jupyter-widgets/base",
      "model_module_version": "1.2.0",
      "model_name": "LayoutModel",
      "state": {}
     },
     "ddcb5bdc047f415a9e1e9a077755cbd6": {
      "model_module": "@jupyter-widgets/base",
      "model_module_version": "1.2.0",
      "model_name": "LayoutModel",
      "state": {}
     },
     "dde1f017ac2b4147b5ea049209628b77": {
      "model_module": "@jupyter-widgets/base",
      "model_module_version": "1.2.0",
      "model_name": "LayoutModel",
      "state": {}
     },
     "ddf09c511cf5407fae20ace2e982a4cc": {
      "model_module": "@jupyter-widgets/base",
      "model_module_version": "1.2.0",
      "model_name": "LayoutModel",
      "state": {}
     },
     "de084182eaaa451eb570ac3a3e00bfe0": {
      "model_module": "@jupyter-widgets/base",
      "model_module_version": "1.2.0",
      "model_name": "LayoutModel",
      "state": {}
     },
     "de0d04c86c244798a79da040872aa8ca": {
      "model_module": "@jupyter-widgets/controls",
      "model_module_version": "1.5.0",
      "model_name": "DescriptionStyleModel",
      "state": {
       "description_width": ""
      }
     },
     "de14218fcee7455c881c65784e2266e1": {
      "model_module": "@jupyter-widgets/controls",
      "model_module_version": "1.5.0",
      "model_name": "FloatProgressModel",
      "state": {
       "bar_style": "success",
       "description": "100%",
       "layout": "IPY_MODEL_e521cd7a37c148e49e6c294510cff3f7",
       "max": 344,
       "style": "IPY_MODEL_b9f62857fe9343bda84d13b98fff92ef",
       "value": 344
      }
     },
     "de24f6dfb20c460b8e97435ef85f8558": {
      "model_module": "@jupyter-widgets/controls",
      "model_module_version": "1.5.0",
      "model_name": "DescriptionStyleModel",
      "state": {
       "description_width": ""
      }
     },
     "de706e1e87fb4f0bb3ed5c96b6e8404b": {
      "model_module": "@jupyter-widgets/controls",
      "model_module_version": "1.5.0",
      "model_name": "HTMLModel",
      "state": {
       "layout": "IPY_MODEL_4bdba29c099b4da1b874bc0e78059052",
       "style": "IPY_MODEL_8ecc8b3453a54bcfaec625cf6a51f2e4",
       "value": " 0/344 [00:00&lt;?, ?it/s]"
      }
     },
     "de78cf34f0ef434aa305872c479fce39": {
      "model_module": "@jupyter-widgets/controls",
      "model_module_version": "1.5.0",
      "model_name": "FloatProgressModel",
      "state": {
       "bar_style": "success",
       "description": "100%",
       "layout": "IPY_MODEL_17be7fc5f6d9405e9da8dff371381121",
       "max": 344,
       "style": "IPY_MODEL_677c4117796349fc8f11768930a9bf49",
       "value": 344
      }
     },
     "de811694e5d84dc9a116aa5a4616e837": {
      "model_module": "@jupyter-widgets/base",
      "model_module_version": "1.2.0",
      "model_name": "LayoutModel",
      "state": {}
     },
     "dea06168d2594834a244ce16b8dcbd3d": {
      "model_module": "@jupyter-widgets/base",
      "model_module_version": "1.2.0",
      "model_name": "LayoutModel",
      "state": {}
     },
     "dea14d58a95a42d98bfb2170e4ef6dd7": {
      "model_module": "@jupyter-widgets/controls",
      "model_module_version": "1.5.0",
      "model_name": "DescriptionStyleModel",
      "state": {
       "description_width": ""
      }
     },
     "dea64d2ebdfe4b40b999e3edab360509": {
      "model_module": "@jupyter-widgets/controls",
      "model_module_version": "1.5.0",
      "model_name": "HTMLModel",
      "state": {
       "layout": "IPY_MODEL_06599c1736e8499ca41ebfe066ed9e5a",
       "style": "IPY_MODEL_3e40222caebe47e6b496526eb06c94ee",
       "value": " 344/344 [00:19&lt;00:00, 17.77it/s, end_loss=0.758, jaccard=0.712, start_loss=0.843]"
      }
     },
     "deed97a90b59483e88a106aa1cc1a8ba": {
      "model_module": "@jupyter-widgets/controls",
      "model_module_version": "1.5.0",
      "model_name": "HBoxModel",
      "state": {
       "children": [
        "IPY_MODEL_f5c9e3bf4ffd47b3b42ec879db23931b",
        "IPY_MODEL_6474e4a867214877a88818cd1187db0c"
       ],
       "layout": "IPY_MODEL_5025708d8a3f4fe8b2c764f42878f8bc"
      }
     },
     "defad6bb811141e59cc2ef86b377a935": {
      "model_module": "@jupyter-widgets/base",
      "model_module_version": "1.2.0",
      "model_name": "LayoutModel",
      "state": {}
     },
     "defc1db4d0e54ceb8890561998664aa4": {
      "model_module": "@jupyter-widgets/controls",
      "model_module_version": "1.5.0",
      "model_name": "DescriptionStyleModel",
      "state": {
       "description_width": ""
      }
     },
     "df234fbe32d2454cb140c49e8b9cdb6e": {
      "model_module": "@jupyter-widgets/controls",
      "model_module_version": "1.5.0",
      "model_name": "ProgressStyleModel",
      "state": {
       "description_width": "initial"
      }
     },
     "df459b879e8c4d58817864316f5f6d9c": {
      "model_module": "@jupyter-widgets/controls",
      "model_module_version": "1.5.0",
      "model_name": "DescriptionStyleModel",
      "state": {
       "description_width": ""
      }
     },
     "df48b0d3a6f74ab2961f5c02509dc08a": {
      "model_module": "@jupyter-widgets/controls",
      "model_module_version": "1.5.0",
      "model_name": "FloatProgressModel",
      "state": {
       "bar_style": "success",
       "description": "100%",
       "layout": "IPY_MODEL_2cd28aa91b0149e3b7da30e95f6daccd",
       "max": 344,
       "style": "IPY_MODEL_d6504f7bdd8d467fbf00c4e27663ce00",
       "value": 344
      }
     },
     "df4c6d790f114b78a85f22d5efe0b7f6": {
      "model_module": "@jupyter-widgets/base",
      "model_module_version": "1.2.0",
      "model_name": "LayoutModel",
      "state": {}
     },
     "df5e7f9446c84f3d9166d0e29fd030dc": {
      "model_module": "@jupyter-widgets/base",
      "model_module_version": "1.2.0",
      "model_name": "LayoutModel",
      "state": {}
     },
     "df6f6f8445b14b3d9aa92ffa2c12b6f5": {
      "model_module": "@jupyter-widgets/base",
      "model_module_version": "1.2.0",
      "model_name": "LayoutModel",
      "state": {}
     },
     "df75a6391fc3496aae644ba16074992d": {
      "model_module": "@jupyter-widgets/controls",
      "model_module_version": "1.5.0",
      "model_name": "HBoxModel",
      "state": {
       "children": [
        "IPY_MODEL_6c095e377b5745c9bd9bb59c48b5bdfd",
        "IPY_MODEL_3a23d24e5e6d4eb5a223b3fe7966454b"
       ],
       "layout": "IPY_MODEL_0ccecbb53aa04357a339f9ffac0d6cba"
      }
     },
     "df809183c49940219f337a2dc32b0255": {
      "model_module": "@jupyter-widgets/controls",
      "model_module_version": "1.5.0",
      "model_name": "HBoxModel",
      "state": {
       "children": [
        "IPY_MODEL_b87da9ccc84f4d2794b8bc78b657215c",
        "IPY_MODEL_9464959c62bd403da51a0eae6f78dd50"
       ],
       "layout": "IPY_MODEL_10706cd442b1461da9fd2645fabb3ffe"
      }
     },
     "df833b706b81456981effb29a5d82a80": {
      "model_module": "@jupyter-widgets/controls",
      "model_module_version": "1.5.0",
      "model_name": "ProgressStyleModel",
      "state": {
       "description_width": "initial"
      }
     },
     "df947670d6014d2eb95e91c8341ea60c": {
      "model_module": "@jupyter-widgets/controls",
      "model_module_version": "1.5.0",
      "model_name": "FloatProgressModel",
      "state": {
       "bar_style": "success",
       "description": "100%",
       "layout": "IPY_MODEL_d48fc5fccc75465780e6f137ee9b3bce",
       "max": 344,
       "style": "IPY_MODEL_b6adfbb190734e91830a0f11fb915e00",
       "value": 344
      }
     },
     "df953d762141467fa1cda18fc0a52712": {
      "model_module": "@jupyter-widgets/base",
      "model_module_version": "1.2.0",
      "model_name": "LayoutModel",
      "state": {}
     },
     "dfbcedf443d84c90a31311bc32c80cd7": {
      "model_module": "@jupyter-widgets/base",
      "model_module_version": "1.2.0",
      "model_name": "LayoutModel",
      "state": {}
     },
     "e031bdda943d421d96eaadf3d3f2122e": {
      "model_module": "@jupyter-widgets/controls",
      "model_module_version": "1.5.0",
      "model_name": "HTMLModel",
      "state": {
       "layout": "IPY_MODEL_c22210f20ea04fc8866074ad50756461",
       "style": "IPY_MODEL_a4e832c0fa0d4e6db782112bb8f6285f",
       "value": " 344/344 [03:26&lt;00:00,  1.66it/s, end_loss=1.73, jaccard=0.66, start_loss=1.77]"
      }
     },
     "e0356febd95845e0a3ab4867a6b0958d": {
      "model_module": "@jupyter-widgets/base",
      "model_module_version": "1.2.0",
      "model_name": "LayoutModel",
      "state": {}
     },
     "e046891f124a46898c27008634c4aadd": {
      "model_module": "@jupyter-widgets/controls",
      "model_module_version": "1.5.0",
      "model_name": "DescriptionStyleModel",
      "state": {
       "description_width": ""
      }
     },
     "e04b2b9246b141d69174d86f6acae0f9": {
      "model_module": "@jupyter-widgets/controls",
      "model_module_version": "1.5.0",
      "model_name": "HBoxModel",
      "state": {
       "children": [
        "IPY_MODEL_71b47390e8594a6d9a97a6697fc4cd36",
        "IPY_MODEL_20746faec746436ca6f470c9630f53c3"
       ],
       "layout": "IPY_MODEL_e361080a3f734cc2918aef7a7d00dade"
      }
     },
     "e05da8e0d5354a5ab5b81476314b1f4f": {
      "model_module": "@jupyter-widgets/base",
      "model_module_version": "1.2.0",
      "model_name": "LayoutModel",
      "state": {}
     },
     "e07ed99ba58d4716839443a6bfd316e2": {
      "model_module": "@jupyter-widgets/controls",
      "model_module_version": "1.5.0",
      "model_name": "HBoxModel",
      "state": {
       "children": [
        "IPY_MODEL_eee058e409f5411eae100074b1e5bfe4",
        "IPY_MODEL_d1cef6e5d1b144d792f64b6458abfd40"
       ],
       "layout": "IPY_MODEL_da398c0f37f74eb2a9409ac194470e13"
      }
     },
     "e08447541ffe43438074b094061eb5aa": {
      "model_module": "@jupyter-widgets/base",
      "model_module_version": "1.2.0",
      "model_name": "LayoutModel",
      "state": {}
     },
     "e0927ffae8e7493aa59a716f28a5e522": {
      "model_module": "@jupyter-widgets/controls",
      "model_module_version": "1.5.0",
      "model_name": "HBoxModel",
      "state": {
       "children": [
        "IPY_MODEL_827d510165ca4176aae11d357cd3424b",
        "IPY_MODEL_aa06ee91d34f490cbc25a2c2fa31e73b"
       ],
       "layout": "IPY_MODEL_5e9baa6dd6da4e1ca42880efdadf9b6f"
      }
     },
     "e0a2abb3024d4e73b8dd6d8f499087df": {
      "model_module": "@jupyter-widgets/controls",
      "model_module_version": "1.5.0",
      "model_name": "ProgressStyleModel",
      "state": {
       "description_width": "initial"
      }
     },
     "e0ad5a8e36db45f98673776bd6fc21e8": {
      "model_module": "@jupyter-widgets/controls",
      "model_module_version": "1.5.0",
      "model_name": "ProgressStyleModel",
      "state": {
       "description_width": "initial"
      }
     },
     "e0b6da4ba41443ebb716abea9d2228f0": {
      "model_module": "@jupyter-widgets/base",
      "model_module_version": "1.2.0",
      "model_name": "LayoutModel",
      "state": {}
     },
     "e0bef6a8e76a417f9b9205f6ae1498e3": {
      "model_module": "@jupyter-widgets/controls",
      "model_module_version": "1.5.0",
      "model_name": "FloatProgressModel",
      "state": {
       "bar_style": "success",
       "description": "100%",
       "layout": "IPY_MODEL_482e8b06dc9c4cdeaa140702405bd367",
       "max": 344,
       "style": "IPY_MODEL_1788c3331c1e4cb7b1c58781a4ee9fe3",
       "value": 344
      }
     },
     "e0c3a7b1d67f43639a151997c9757b9b": {
      "model_module": "@jupyter-widgets/controls",
      "model_module_version": "1.5.0",
      "model_name": "ProgressStyleModel",
      "state": {
       "description_width": "initial"
      }
     },
     "e0eca4efa7d34042933e1a6f39744995": {
      "model_module": "@jupyter-widgets/base",
      "model_module_version": "1.2.0",
      "model_name": "LayoutModel",
      "state": {}
     },
     "e109b260b0e942e3b772232d9bf221d3": {
      "model_module": "@jupyter-widgets/base",
      "model_module_version": "1.2.0",
      "model_name": "LayoutModel",
      "state": {}
     },
     "e124875b7b5d4b648d6eb3530cfb3b1f": {
      "model_module": "@jupyter-widgets/controls",
      "model_module_version": "1.5.0",
      "model_name": "DescriptionStyleModel",
      "state": {
       "description_width": ""
      }
     },
     "e12ed185e7294708ac1412ae39e7660f": {
      "model_module": "@jupyter-widgets/controls",
      "model_module_version": "1.5.0",
      "model_name": "ProgressStyleModel",
      "state": {
       "description_width": "initial"
      }
     },
     "e1388d28f3664baab9083036c0179eda": {
      "model_module": "@jupyter-widgets/base",
      "model_module_version": "1.2.0",
      "model_name": "LayoutModel",
      "state": {}
     },
     "e144e76e5695460a92bb2369029d0cb1": {
      "model_module": "@jupyter-widgets/controls",
      "model_module_version": "1.5.0",
      "model_name": "HTMLModel",
      "state": {
       "layout": "IPY_MODEL_d58bb66bcd5d491a82ca1bf14485df05",
       "style": "IPY_MODEL_687a9c3a2e294a338b04d630f0786797",
       "value": " 344/344 [00:22&lt;00:00, 15.09it/s, end_loss=0.821, jaccard=0.704, start_loss=0.84]"
      }
     },
     "e15119d1c14b44388b53b1028d6227a4": {
      "model_module": "@jupyter-widgets/controls",
      "model_module_version": "1.5.0",
      "model_name": "HTMLModel",
      "state": {
       "layout": "IPY_MODEL_9128d27f61ca4e6e94b7c1129ec165d5",
       "style": "IPY_MODEL_261cb5bf3688465a8da2eb9da0f43f2c",
       "value": " 344/344 [55:21&lt;00:00,  9.66s/it, end_loss=1.09, jaccard=0.649, merged_loss=1.04, start_loss=1.07]"
      }
     },
     "e15f05213b98464eb0c1abd9d10e15e2": {
      "model_module": "@jupyter-widgets/controls",
      "model_module_version": "1.5.0",
      "model_name": "ProgressStyleModel",
      "state": {
       "description_width": "initial"
      }
     },
     "e16001123db9457c9f4dd8ec7c83957c": {
      "model_module": "@jupyter-widgets/base",
      "model_module_version": "1.2.0",
      "model_name": "LayoutModel",
      "state": {}
     },
     "e16904839ef149c581283eb893987c2e": {
      "model_module": "@jupyter-widgets/controls",
      "model_module_version": "1.5.0",
      "model_name": "FloatProgressModel",
      "state": {
       "bar_style": "success",
       "description": "100%",
       "layout": "IPY_MODEL_fd87b9817121409b95466627573ac595",
       "max": 344,
       "style": "IPY_MODEL_2c0659a7438744a9b414e21076de727f",
       "value": 344
      }
     },
     "e1796091f6e5442783a70657119480bf": {
      "model_module": "@jupyter-widgets/base",
      "model_module_version": "1.2.0",
      "model_name": "LayoutModel",
      "state": {}
     },
     "e19dcf65634e42918874bb9a42d8f7bd": {
      "model_module": "@jupyter-widgets/base",
      "model_module_version": "1.2.0",
      "model_name": "LayoutModel",
      "state": {}
     },
     "e1a114fbf9a64c52aefc007575d36952": {
      "model_module": "@jupyter-widgets/controls",
      "model_module_version": "1.5.0",
      "model_name": "DescriptionStyleModel",
      "state": {
       "description_width": ""
      }
     },
     "e1c20407836746afa1f3a871cba35605": {
      "model_module": "@jupyter-widgets/base",
      "model_module_version": "1.2.0",
      "model_name": "LayoutModel",
      "state": {}
     },
     "e1d7d82ff38d4b8f891e027cd707a6a8": {
      "model_module": "@jupyter-widgets/controls",
      "model_module_version": "1.5.0",
      "model_name": "FloatProgressModel",
      "state": {
       "bar_style": "success",
       "description": "100%",
       "layout": "IPY_MODEL_5817ddb2eec543689d8ccb68c56dedb2",
       "max": 344,
       "style": "IPY_MODEL_a4eebb4333aa42c6be48fabadf4da5cd",
       "value": 344
      }
     },
     "e1e51ffcf401478ca09e62c4e46328a1": {
      "model_module": "@jupyter-widgets/base",
      "model_module_version": "1.2.0",
      "model_name": "LayoutModel",
      "state": {}
     },
     "e1e8db97c6bf4c18b37b6d12d044dc25": {
      "model_module": "@jupyter-widgets/base",
      "model_module_version": "1.2.0",
      "model_name": "LayoutModel",
      "state": {}
     },
     "e1f70757c159417bb62d0e8cd67aac84": {
      "model_module": "@jupyter-widgets/base",
      "model_module_version": "1.2.0",
      "model_name": "LayoutModel",
      "state": {}
     },
     "e1fa3a7a219a43588db74603919cf277": {
      "model_module": "@jupyter-widgets/base",
      "model_module_version": "1.2.0",
      "model_name": "LayoutModel",
      "state": {}
     },
     "e22ff62ebe1d4132b75a65610c6be96b": {
      "model_module": "@jupyter-widgets/base",
      "model_module_version": "1.2.0",
      "model_name": "LayoutModel",
      "state": {}
     },
     "e231a4811a9d4d5c818333da23e4a3b9": {
      "model_module": "@jupyter-widgets/base",
      "model_module_version": "1.2.0",
      "model_name": "LayoutModel",
      "state": {}
     },
     "e2389b7281a74ca2ad360b88a7901a0e": {
      "model_module": "@jupyter-widgets/controls",
      "model_module_version": "1.5.0",
      "model_name": "HTMLModel",
      "state": {
       "layout": "IPY_MODEL_577588eaafaa41dfa2443deeb1c74d5c",
       "style": "IPY_MODEL_1d66625972ed46739ae3fe64c4a40af9",
       "value": " 344/344 [01:24&lt;00:00,  4.08it/s, end_loss=0.789, jaccard=0.707, start_loss=0.85]"
      }
     },
     "e23b9f91cab24ccc97f0f2b3602d9652": {
      "model_module": "@jupyter-widgets/controls",
      "model_module_version": "1.5.0",
      "model_name": "HTMLModel",
      "state": {
       "layout": "IPY_MODEL_cc14d66bc2b64410821d2e8424f55597",
       "style": "IPY_MODEL_a3c8c08d95994800815bfa31c4640f7b",
       "value": " 344/344 [05:29&lt;00:00,  1.04it/s, end_loss=1.05, jaccard=0.661, start_loss=1.09]"
      }
     },
     "e243c86fc948412abdd4044b440088e8": {
      "model_module": "@jupyter-widgets/controls",
      "model_module_version": "1.5.0",
      "model_name": "ProgressStyleModel",
      "state": {
       "description_width": "initial"
      }
     },
     "e248282d05b74adcbec21f9b8e87d587": {
      "model_module": "@jupyter-widgets/controls",
      "model_module_version": "1.5.0",
      "model_name": "ProgressStyleModel",
      "state": {
       "description_width": "initial"
      }
     },
     "e264dcf108aa41fda4e24d3b0f7f30d1": {
      "model_module": "@jupyter-widgets/controls",
      "model_module_version": "1.5.0",
      "model_name": "DescriptionStyleModel",
      "state": {
       "description_width": ""
      }
     },
     "e26d17d911bd4715bf9c105fe7d3887b": {
      "model_module": "@jupyter-widgets/controls",
      "model_module_version": "1.5.0",
      "model_name": "DescriptionStyleModel",
      "state": {
       "description_width": ""
      }
     },
     "e2957aa58bcc496f98f52b7bf55350bc": {
      "model_module": "@jupyter-widgets/controls",
      "model_module_version": "1.5.0",
      "model_name": "FloatProgressModel",
      "state": {
       "bar_style": "success",
       "description": "100%",
       "layout": "IPY_MODEL_746ab58ab23246a09ace6e07750052f6",
       "max": 344,
       "style": "IPY_MODEL_e8f8ca5ff17942099ee445f9f95e8366",
       "value": 344
      }
     },
     "e29f4639e3244d9d9bd95c05adcec423": {
      "model_module": "@jupyter-widgets/controls",
      "model_module_version": "1.5.0",
      "model_name": "DescriptionStyleModel",
      "state": {
       "description_width": ""
      }
     },
     "e2bdef2f81954920845ab84ba8a2cb10": {
      "model_module": "@jupyter-widgets/base",
      "model_module_version": "1.2.0",
      "model_name": "LayoutModel",
      "state": {}
     },
     "e2f98c9f560d4acebd1656c0bdd08842": {
      "model_module": "@jupyter-widgets/base",
      "model_module_version": "1.2.0",
      "model_name": "LayoutModel",
      "state": {}
     },
     "e301c44170ff4a68905da4fa7cde0c09": {
      "model_module": "@jupyter-widgets/base",
      "model_module_version": "1.2.0",
      "model_name": "LayoutModel",
      "state": {}
     },
     "e3265211e5e84a81a7d6ffe69120c7ab": {
      "model_module": "@jupyter-widgets/base",
      "model_module_version": "1.2.0",
      "model_name": "LayoutModel",
      "state": {}
     },
     "e3419ca91d224f9aa8db83336c6713c5": {
      "model_module": "@jupyter-widgets/controls",
      "model_module_version": "1.5.0",
      "model_name": "DescriptionStyleModel",
      "state": {
       "description_width": ""
      }
     },
     "e359644502794f368abcc6718a855a74": {
      "model_module": "@jupyter-widgets/controls",
      "model_module_version": "1.5.0",
      "model_name": "FloatProgressModel",
      "state": {
       "bar_style": "success",
       "description": "100%",
       "layout": "IPY_MODEL_e4f622b42183484aac00a65be85f58d3",
       "max": 344,
       "style": "IPY_MODEL_e8908104f64641f68964976618d019d4",
       "value": 344
      }
     },
     "e361080a3f734cc2918aef7a7d00dade": {
      "model_module": "@jupyter-widgets/base",
      "model_module_version": "1.2.0",
      "model_name": "LayoutModel",
      "state": {}
     },
     "e3b996274f2945ec97b25997bd710f7c": {
      "model_module": "@jupyter-widgets/base",
      "model_module_version": "1.2.0",
      "model_name": "LayoutModel",
      "state": {}
     },
     "e3c4ad2576154b7b81329b3caad68dfb": {
      "model_module": "@jupyter-widgets/controls",
      "model_module_version": "1.5.0",
      "model_name": "DescriptionStyleModel",
      "state": {
       "description_width": ""
      }
     },
     "e3d6749220754e6492738897f803c3b6": {
      "model_module": "@jupyter-widgets/base",
      "model_module_version": "1.2.0",
      "model_name": "LayoutModel",
      "state": {}
     },
     "e422fa6f5df84418a453da902e17fd20": {
      "model_module": "@jupyter-widgets/controls",
      "model_module_version": "1.5.0",
      "model_name": "HTMLModel",
      "state": {
       "layout": "IPY_MODEL_1c26109a2f714c388f2e08f525017147",
       "style": "IPY_MODEL_3f1f37123a0c46be96fd848693d2dfc0",
       "value": " 344/344 [00:19&lt;00:00, 17.67it/s, end_loss=0.805, jaccard=0.703, start_loss=0.833]"
      }
     },
     "e4238e9f939d4fabad2d6d47c77a573e": {
      "model_module": "@jupyter-widgets/controls",
      "model_module_version": "1.5.0",
      "model_name": "HTMLModel",
      "state": {
       "layout": "IPY_MODEL_38a9e4e8481d4773b5cc3235b7ed502b",
       "style": "IPY_MODEL_e046891f124a46898c27008634c4aadd",
       "value": " 344/344 [00:19&lt;00:00, 17.61it/s, end_loss=0.826, jaccard=0.708, start_loss=0.878]"
      }
     },
     "e44f12a24e3948d19ee60652dbebc4de": {
      "model_module": "@jupyter-widgets/controls",
      "model_module_version": "1.5.0",
      "model_name": "HBoxModel",
      "state": {
       "children": [
        "IPY_MODEL_c5f944b6008641f0a050e6509687a2a3",
        "IPY_MODEL_ba8b3d708fae47a5861c272d03a24986"
       ],
       "layout": "IPY_MODEL_248210d368dc44858bfc93fd8bc82013"
      }
     },
     "e47c3418f9254c368f9becad8f915e4c": {
      "model_module": "@jupyter-widgets/controls",
      "model_module_version": "1.5.0",
      "model_name": "ProgressStyleModel",
      "state": {
       "description_width": "initial"
      }
     },
     "e483066cc24e4a29b28b133a459325a2": {
      "model_module": "@jupyter-widgets/controls",
      "model_module_version": "1.5.0",
      "model_name": "FloatProgressModel",
      "state": {
       "bar_style": "success",
       "description": "100%",
       "layout": "IPY_MODEL_24ed428696ce4b639651f9505f9c2c34",
       "max": 344,
       "style": "IPY_MODEL_3308011457dd442e853d766f34744342",
       "value": 344
      }
     },
     "e4b068b9e84149ec8dc050fb0de27705": {
      "model_module": "@jupyter-widgets/base",
      "model_module_version": "1.2.0",
      "model_name": "LayoutModel",
      "state": {}
     },
     "e4b52ebbc2a940e39d60634e47debf7a": {
      "model_module": "@jupyter-widgets/controls",
      "model_module_version": "1.5.0",
      "model_name": "FloatProgressModel",
      "state": {
       "bar_style": "success",
       "description": "100%",
       "layout": "IPY_MODEL_2095628c4e404efb98d97c84d49edb2c",
       "max": 344,
       "style": "IPY_MODEL_4033d3d8b9b94df59e8e006c0b4edf76",
       "value": 344
      }
     },
     "e4d77d6456de4d4f934479d352a78c21": {
      "model_module": "@jupyter-widgets/controls",
      "model_module_version": "1.5.0",
      "model_name": "ProgressStyleModel",
      "state": {
       "description_width": "initial"
      }
     },
     "e4f4bdaad8be49c9aaba0dbcb0063817": {
      "model_module": "@jupyter-widgets/controls",
      "model_module_version": "1.5.0",
      "model_name": "FloatProgressModel",
      "state": {
       "bar_style": "success",
       "description": "100%",
       "layout": "IPY_MODEL_d0904ccbcfc941ceb55cfe06c976be73",
       "max": 344,
       "style": "IPY_MODEL_20e758658c684c55ac6157fa3022801d",
       "value": 344
      }
     },
     "e4f622b42183484aac00a65be85f58d3": {
      "model_module": "@jupyter-widgets/base",
      "model_module_version": "1.2.0",
      "model_name": "LayoutModel",
      "state": {}
     },
     "e5162d1442724edaae65b58d531307b4": {
      "model_module": "@jupyter-widgets/base",
      "model_module_version": "1.2.0",
      "model_name": "LayoutModel",
      "state": {}
     },
     "e521cd7a37c148e49e6c294510cff3f7": {
      "model_module": "@jupyter-widgets/base",
      "model_module_version": "1.2.0",
      "model_name": "LayoutModel",
      "state": {}
     },
     "e536c57b7209444c9320cf95e9c09ea8": {
      "model_module": "@jupyter-widgets/controls",
      "model_module_version": "1.5.0",
      "model_name": "HBoxModel",
      "state": {
       "children": [
        "IPY_MODEL_b5933d44467149c6bcdaf026dcb7f079",
        "IPY_MODEL_90f1e0b0840347578897c5db7e655a4f"
       ],
       "layout": "IPY_MODEL_8ad66356e14e4844835e22783e7a5aba"
      }
     },
     "e577fef99b18487aa98455eb3a69aa77": {
      "model_module": "@jupyter-widgets/controls",
      "model_module_version": "1.5.0",
      "model_name": "FloatProgressModel",
      "state": {
       "bar_style": "success",
       "description": "100%",
       "layout": "IPY_MODEL_12a65cee454045bea77e21596b669564",
       "max": 344,
       "style": "IPY_MODEL_0b55bd8708c240c096ed3a8c6964cdbd",
       "value": 344
      }
     },
     "e5ba5bd962164701ba6b7be1b130ea8f": {
      "model_module": "@jupyter-widgets/controls",
      "model_module_version": "1.5.0",
      "model_name": "HTMLModel",
      "state": {
       "layout": "IPY_MODEL_df4c6d790f114b78a85f22d5efe0b7f6",
       "style": "IPY_MODEL_3e748e90152440c8bfa255a25dd0ef38",
       "value": " 344/344 [03:37&lt;00:00,  1.58it/s, end_loss=0.826, jaccard=0.757, start_loss=0.883]"
      }
     },
     "e5e5dbc158144ccd938713061367033a": {
      "model_module": "@jupyter-widgets/base",
      "model_module_version": "1.2.0",
      "model_name": "LayoutModel",
      "state": {}
     },
     "e60e0291f29442c9a409527a04537b21": {
      "model_module": "@jupyter-widgets/base",
      "model_module_version": "1.2.0",
      "model_name": "LayoutModel",
      "state": {}
     },
     "e6102ddfcf2b4bcb95ba5a3879e67209": {
      "model_module": "@jupyter-widgets/base",
      "model_module_version": "1.2.0",
      "model_name": "LayoutModel",
      "state": {}
     },
     "e62a6c3c0f114208810e15ad7060902d": {
      "model_module": "@jupyter-widgets/controls",
      "model_module_version": "1.5.0",
      "model_name": "DescriptionStyleModel",
      "state": {
       "description_width": ""
      }
     },
     "e62ec75ab5924bd8bdbcf942d29bcb7b": {
      "model_module": "@jupyter-widgets/controls",
      "model_module_version": "1.5.0",
      "model_name": "HTMLModel",
      "state": {
       "layout": "IPY_MODEL_5a903080392f4a768c1bd0e7e022fff7",
       "style": "IPY_MODEL_1de04026087f4c38b6f136d78bf5ebd7",
       "value": " 344/344 [00:19&lt;00:00, 17.69it/s, end_loss=0.771, jaccard=0.712, start_loss=0.819]"
      }
     },
     "e636715b3a5040829b3a4ec093ed54c5": {
      "model_module": "@jupyter-widgets/controls",
      "model_module_version": "1.5.0",
      "model_name": "ProgressStyleModel",
      "state": {
       "description_width": "initial"
      }
     },
     "e6391e58353940a9bf5acdbefc6dd2cd": {
      "model_module": "@jupyter-widgets/controls",
      "model_module_version": "1.5.0",
      "model_name": "HBoxModel",
      "state": {
       "children": [
        "IPY_MODEL_82cd003c79d54e069f6b2bad0d9fcaf3",
        "IPY_MODEL_4b6b32251b894b238e517ab9db70f40b"
       ],
       "layout": "IPY_MODEL_22698a72f1f74127ab4e579b2d056216"
      }
     },
     "e653773a58d24b94b6a6def56a26d87c": {
      "model_module": "@jupyter-widgets/base",
      "model_module_version": "1.2.0",
      "model_name": "LayoutModel",
      "state": {}
     },
     "e6646ccfd7ae4b9d9c31257b7c9edae0": {
      "model_module": "@jupyter-widgets/controls",
      "model_module_version": "1.5.0",
      "model_name": "HBoxModel",
      "state": {
       "children": [
        "IPY_MODEL_e577fef99b18487aa98455eb3a69aa77",
        "IPY_MODEL_74eccc7f3ebb42c2a2b96c25fca4891e"
       ],
       "layout": "IPY_MODEL_08d5fd1a369e41c2b01ca0b60a4f9518"
      }
     },
     "e6710bd60d624492bb633098e8b00357": {
      "model_module": "@jupyter-widgets/base",
      "model_module_version": "1.2.0",
      "model_name": "LayoutModel",
      "state": {}
     },
     "e67390b26e4c4b718f947f59ca28c060": {
      "model_module": "@jupyter-widgets/base",
      "model_module_version": "1.2.0",
      "model_name": "LayoutModel",
      "state": {}
     },
     "e684b9a324d04d99adea23b8590a7296": {
      "model_module": "@jupyter-widgets/base",
      "model_module_version": "1.2.0",
      "model_name": "LayoutModel",
      "state": {}
     },
     "e68a747d87f4417682ad37d5db7f3001": {
      "model_module": "@jupyter-widgets/base",
      "model_module_version": "1.2.0",
      "model_name": "LayoutModel",
      "state": {}
     },
     "e697c56b03b64b9bb6a82764e313560a": {
      "model_module": "@jupyter-widgets/controls",
      "model_module_version": "1.5.0",
      "model_name": "DescriptionStyleModel",
      "state": {
       "description_width": ""
      }
     },
     "e6b04c05e79841ebadfc7bf78d69627e": {
      "model_module": "@jupyter-widgets/controls",
      "model_module_version": "1.5.0",
      "model_name": "HBoxModel",
      "state": {
       "children": [
        "IPY_MODEL_c981f378851f4e7296adf0299437207e",
        "IPY_MODEL_7e30b2132037418d82907a97ba0bee7a"
       ],
       "layout": "IPY_MODEL_036e58440c02482a966b0f0c0b529df1"
      }
     },
     "e6ca30ba0d5d424286c517da5f362299": {
      "model_module": "@jupyter-widgets/controls",
      "model_module_version": "1.5.0",
      "model_name": "HTMLModel",
      "state": {
       "layout": "IPY_MODEL_eb5b41a17d4c41a5b0eb7030cc6a2ee9",
       "style": "IPY_MODEL_8f724a4e5fae47aeb546e1232ea89337",
       "value": " 344/344 [03:21&lt;00:00,  1.70it/s, end_loss=1.03, jaccard=0.702, start_loss=1.06]"
      }
     },
     "e6f73e7ce7fb41148d80f17944ad48ae": {
      "model_module": "@jupyter-widgets/controls",
      "model_module_version": "1.5.0",
      "model_name": "DescriptionStyleModel",
      "state": {
       "description_width": ""
      }
     },
     "e72a717e6c884908b297cddda6d49fe5": {
      "model_module": "@jupyter-widgets/base",
      "model_module_version": "1.2.0",
      "model_name": "LayoutModel",
      "state": {}
     },
     "e72b19c8a06f4690b9e80b8b4127c3ef": {
      "model_module": "@jupyter-widgets/controls",
      "model_module_version": "1.5.0",
      "model_name": "DescriptionStyleModel",
      "state": {
       "description_width": ""
      }
     },
     "e738ecb5a56948c9b8c136c9db0c9ba5": {
      "model_module": "@jupyter-widgets/controls",
      "model_module_version": "1.5.0",
      "model_name": "DescriptionStyleModel",
      "state": {
       "description_width": ""
      }
     },
     "e739c1b9316f4b3c9c41fbdd737c2650": {
      "model_module": "@jupyter-widgets/controls",
      "model_module_version": "1.5.0",
      "model_name": "HBoxModel",
      "state": {
       "children": [
        "IPY_MODEL_f0c9d2668087452689c3492a03f68979",
        "IPY_MODEL_6f40e7bf86cc413cbb373f67116f077b"
       ],
       "layout": "IPY_MODEL_c8648372f3d14f7fa5d080d29ff39748"
      }
     },
     "e76f450b8e794308ade1f7376067c64e": {
      "model_module": "@jupyter-widgets/controls",
      "model_module_version": "1.5.0",
      "model_name": "FloatProgressModel",
      "state": {
       "bar_style": "success",
       "description": "100%",
       "layout": "IPY_MODEL_e7903f38f70a428dbec29f32ad6a5c9a",
       "max": 344,
       "style": "IPY_MODEL_6fd617aaece24405a674092071a06b6a",
       "value": 344
      }
     },
     "e76f9a8de98f4d3a810252ae0553344f": {
      "model_module": "@jupyter-widgets/controls",
      "model_module_version": "1.5.0",
      "model_name": "FloatProgressModel",
      "state": {
       "bar_style": "success",
       "description": "100%",
       "layout": "IPY_MODEL_5cc5e4713def42e29806d25789e3964a",
       "max": 344,
       "style": "IPY_MODEL_df833b706b81456981effb29a5d82a80",
       "value": 344
      }
     },
     "e771ee6a8c8847eeacf42f0c5a15c392": {
      "model_module": "@jupyter-widgets/controls",
      "model_module_version": "1.5.0",
      "model_name": "HBoxModel",
      "state": {
       "children": [
        "IPY_MODEL_227ffcfc34fc4f92a05f0b216e452fb3",
        "IPY_MODEL_6b442682a96e42c186fe77813ab6e8c7"
       ],
       "layout": "IPY_MODEL_42bbcc28f71748568c014e42e11aa7a6"
      }
     },
     "e7903f38f70a428dbec29f32ad6a5c9a": {
      "model_module": "@jupyter-widgets/base",
      "model_module_version": "1.2.0",
      "model_name": "LayoutModel",
      "state": {}
     },
     "e7af8c055c45493db59fd9bf3a62d062": {
      "model_module": "@jupyter-widgets/base",
      "model_module_version": "1.2.0",
      "model_name": "LayoutModel",
      "state": {}
     },
     "e7dc2dd2ec1f4e388994c33a5cb49f4c": {
      "model_module": "@jupyter-widgets/controls",
      "model_module_version": "1.5.0",
      "model_name": "DescriptionStyleModel",
      "state": {
       "description_width": ""
      }
     },
     "e7ddbb7f23524fb898954620c803175c": {
      "model_module": "@jupyter-widgets/controls",
      "model_module_version": "1.5.0",
      "model_name": "HTMLModel",
      "state": {
       "layout": "IPY_MODEL_0717f10f335b4f74b4be98591e889540",
       "style": "IPY_MODEL_4b9772c1b0884daca64e056eb3db4cca",
       "value": " 344/344 [03:12&lt;00:00,  1.79it/s, end_loss=2.06, jaccard=0.602, start_loss=2.03]"
      }
     },
     "e7fa56e73510470996e3bb2a1472734d": {
      "model_module": "@jupyter-widgets/base",
      "model_module_version": "1.2.0",
      "model_name": "LayoutModel",
      "state": {}
     },
     "e80a33fec1f9493388e61f7d51f884f1": {
      "model_module": "@jupyter-widgets/controls",
      "model_module_version": "1.5.0",
      "model_name": "ProgressStyleModel",
      "state": {
       "description_width": "initial"
      }
     },
     "e8519ff222ce4f7ebecd362259961c45": {
      "model_module": "@jupyter-widgets/controls",
      "model_module_version": "1.5.0",
      "model_name": "HTMLModel",
      "state": {
       "layout": "IPY_MODEL_ed68aad0749f4313bf8fa00496b9d4d7",
       "style": "IPY_MODEL_1a9af3866b6a4c71b7a17e266fa802ac",
       "value": " 344/344 [00:19&lt;00:00, 17.48it/s, end_loss=0.821, jaccard=0.695, start_loss=0.848]"
      }
     },
     "e86615ebdd674356896d5924f5062717": {
      "model_module": "@jupyter-widgets/controls",
      "model_module_version": "1.5.0",
      "model_name": "ProgressStyleModel",
      "state": {
       "description_width": "initial"
      }
     },
     "e868d217c1f1488688f323b2cfc704fd": {
      "model_module": "@jupyter-widgets/base",
      "model_module_version": "1.2.0",
      "model_name": "LayoutModel",
      "state": {}
     },
     "e8908104f64641f68964976618d019d4": {
      "model_module": "@jupyter-widgets/controls",
      "model_module_version": "1.5.0",
      "model_name": "ProgressStyleModel",
      "state": {
       "description_width": "initial"
      }
     },
     "e8bdd8c1fd2e46f1b7f355d8f823c4d3": {
      "model_module": "@jupyter-widgets/controls",
      "model_module_version": "1.5.0",
      "model_name": "ProgressStyleModel",
      "state": {
       "description_width": "initial"
      }
     },
     "e8c3ef28a4b747acaea2945fe499bc8b": {
      "model_module": "@jupyter-widgets/base",
      "model_module_version": "1.2.0",
      "model_name": "LayoutModel",
      "state": {}
     },
     "e8e7aa07d0954832b67598b33f050c54": {
      "model_module": "@jupyter-widgets/controls",
      "model_module_version": "1.5.0",
      "model_name": "FloatProgressModel",
      "state": {
       "bar_style": "success",
       "description": "100%",
       "layout": "IPY_MODEL_f5b34cdfe9794609b88c18ae93466168",
       "max": 344,
       "style": "IPY_MODEL_f665db9b52794290bae0047f4da140e1",
       "value": 344
      }
     },
     "e8ee9053ed75463195686b715d31d79d": {
      "model_module": "@jupyter-widgets/controls",
      "model_module_version": "1.5.0",
      "model_name": "HBoxModel",
      "state": {
       "children": [
        "IPY_MODEL_610b409c38b44ef69996adb208cba0e4",
        "IPY_MODEL_a55f183751324b4d9a102bc6ba5362ca"
       ],
       "layout": "IPY_MODEL_c585dfc0de8b463db4dc39123aa28a88"
      }
     },
     "e8f8ca5ff17942099ee445f9f95e8366": {
      "model_module": "@jupyter-widgets/controls",
      "model_module_version": "1.5.0",
      "model_name": "ProgressStyleModel",
      "state": {
       "description_width": "initial"
      }
     },
     "e909472c8ebd4a4192a84dfae7d7629d": {
      "model_module": "@jupyter-widgets/controls",
      "model_module_version": "1.5.0",
      "model_name": "HTMLModel",
      "state": {
       "layout": "IPY_MODEL_b6d7255b66f846b0ad8e72c4ff3e21d4",
       "style": "IPY_MODEL_a71432e8b10042bc858501aeb4f3aa0e",
       "value": " 0/344 [00:00&lt;?, ?it/s]"
      }
     },
     "e91a8bdc37b0426490445c6ce698f519": {
      "model_module": "@jupyter-widgets/base",
      "model_module_version": "1.2.0",
      "model_name": "LayoutModel",
      "state": {}
     },
     "e91af2a6bd134a189d653eae72d0d171": {
      "model_module": "@jupyter-widgets/base",
      "model_module_version": "1.2.0",
      "model_name": "LayoutModel",
      "state": {}
     },
     "e992f89bf1b745378d125d20126a93c7": {
      "model_module": "@jupyter-widgets/controls",
      "model_module_version": "1.5.0",
      "model_name": "HBoxModel",
      "state": {
       "children": [
        "IPY_MODEL_9b0cca04475648bbad35f1ac6989c0cb",
        "IPY_MODEL_4e3fcd6025f54fc180679e29d8ff7b58"
       ],
       "layout": "IPY_MODEL_a44c630bfd7a4c7d95cc6ba334e1bddd"
      }
     },
     "e99b5adbf4a44b40ba43fc9f3d7eb2a7": {
      "model_module": "@jupyter-widgets/base",
      "model_module_version": "1.2.0",
      "model_name": "LayoutModel",
      "state": {}
     },
     "ea192cf866d94890b4e3056b973695de": {
      "model_module": "@jupyter-widgets/controls",
      "model_module_version": "1.5.0",
      "model_name": "FloatProgressModel",
      "state": {
       "bar_style": "success",
       "description": "100%",
       "layout": "IPY_MODEL_75c812c85e264d069f930d6eecb2afe1",
       "max": 344,
       "style": "IPY_MODEL_207d164e434445d3a12c48aeb5b852c0",
       "value": 344
      }
     },
     "ea5b98f7cfcb4895a78a1dc941bfd934": {
      "model_module": "@jupyter-widgets/controls",
      "model_module_version": "1.5.0",
      "model_name": "DescriptionStyleModel",
      "state": {
       "description_width": ""
      }
     },
     "ea70f9a35c7c48769a244a4d759cd8ba": {
      "model_module": "@jupyter-widgets/controls",
      "model_module_version": "1.5.0",
      "model_name": "HBoxModel",
      "state": {
       "children": [
        "IPY_MODEL_196c833c0ac145f88e7fad1e60b1c19f",
        "IPY_MODEL_86e596dcdad84aeb9caad167334ddd52"
       ],
       "layout": "IPY_MODEL_addbf5fa91514b358bb13f8c5145dd9d"
      }
     },
     "ea8190a051494d5ba831c0d86e0fd8cf": {
      "model_module": "@jupyter-widgets/controls",
      "model_module_version": "1.5.0",
      "model_name": "FloatProgressModel",
      "state": {
       "bar_style": "success",
       "description": "100%",
       "layout": "IPY_MODEL_eb34e6f3e2ff4b2f8b98817e59d3cb05",
       "max": 344,
       "style": "IPY_MODEL_45034dd31a8b48879d8b555cc4f2dcde",
       "value": 344
      }
     },
     "ea850752a9d147119417fd9afb49ca0d": {
      "model_module": "@jupyter-widgets/controls",
      "model_module_version": "1.5.0",
      "model_name": "DescriptionStyleModel",
      "state": {
       "description_width": ""
      }
     },
     "ea8d1db639c34c5f8eda0442e675e59f": {
      "model_module": "@jupyter-widgets/controls",
      "model_module_version": "1.5.0",
      "model_name": "FloatProgressModel",
      "state": {
       "bar_style": "success",
       "description": "100%",
       "layout": "IPY_MODEL_28e83dcd129a42d8a5622928b623813c",
       "max": 344,
       "style": "IPY_MODEL_af8fb19a58b247bf950c28ffc02c3cb5",
       "value": 344
      }
     },
     "eaaf5149cb4c441dbb977482a59e750b": {
      "model_module": "@jupyter-widgets/controls",
      "model_module_version": "1.5.0",
      "model_name": "DescriptionStyleModel",
      "state": {
       "description_width": ""
      }
     },
     "eab79c6490d646c5b86b83a647c0c13f": {
      "model_module": "@jupyter-widgets/controls",
      "model_module_version": "1.5.0",
      "model_name": "DescriptionStyleModel",
      "state": {
       "description_width": ""
      }
     },
     "eaf0fbe18a8e42b5a0a782ffb3c22ffa": {
      "model_module": "@jupyter-widgets/controls",
      "model_module_version": "1.5.0",
      "model_name": "DescriptionStyleModel",
      "state": {
       "description_width": ""
      }
     },
     "eb11bb60a6e64ec297f9a8002ac2523d": {
      "model_module": "@jupyter-widgets/controls",
      "model_module_version": "1.5.0",
      "model_name": "HTMLModel",
      "state": {
       "layout": "IPY_MODEL_434a19ad59dc41f6aefea00726499763",
       "style": "IPY_MODEL_a01bda2f5d2c4e1190e90057f57c791f",
       "value": " 344/344 [04:09&lt;00:00,  1.38it/s, end_loss=0.997, jaccard=0.674, start_loss=1.02]"
      }
     },
     "eb1367bf9def401c893f824a453e7b74": {
      "model_module": "@jupyter-widgets/base",
      "model_module_version": "1.2.0",
      "model_name": "LayoutModel",
      "state": {}
     },
     "eb1890f2892c47afba88ad4689251aee": {
      "model_module": "@jupyter-widgets/base",
      "model_module_version": "1.2.0",
      "model_name": "LayoutModel",
      "state": {}
     },
     "eb194e04bb8e4a97847debe445379cb2": {
      "model_module": "@jupyter-widgets/controls",
      "model_module_version": "1.5.0",
      "model_name": "HTMLModel",
      "state": {
       "layout": "IPY_MODEL_7b89e24f005f42a89b4e2c3158b9a778",
       "style": "IPY_MODEL_d86e82649ca74266bdbadbaebbd70414",
       "value": " 344/344 [00:20&lt;00:00, 16.54it/s, end_loss=0.799, jaccard=0.706, merged_loss=0.991, start_loss=0.841]"
      }
     },
     "eb1d3561c4634625842dfe0d26fe631d": {
      "model_module": "@jupyter-widgets/base",
      "model_module_version": "1.2.0",
      "model_name": "LayoutModel",
      "state": {}
     },
     "eb26310bd4524a819aa2559b761f189e": {
      "model_module": "@jupyter-widgets/controls",
      "model_module_version": "1.5.0",
      "model_name": "HBoxModel",
      "state": {
       "children": [
        "IPY_MODEL_aef3840253094255ac81a4ee2155fcba",
        "IPY_MODEL_ac1de5794c5548b885875a7c46b26bdd"
       ],
       "layout": "IPY_MODEL_4bae2a1acc1b47918a64d10a81e2b056"
      }
     },
     "eb2d7d40431d41fdabf3b43fda9ca4aa": {
      "model_module": "@jupyter-widgets/controls",
      "model_module_version": "1.5.0",
      "model_name": "DescriptionStyleModel",
      "state": {
       "description_width": ""
      }
     },
     "eb33349dfe7b446e8e62122260861262": {
      "model_module": "@jupyter-widgets/controls",
      "model_module_version": "1.5.0",
      "model_name": "DescriptionStyleModel",
      "state": {
       "description_width": ""
      }
     },
     "eb34e6f3e2ff4b2f8b98817e59d3cb05": {
      "model_module": "@jupyter-widgets/base",
      "model_module_version": "1.2.0",
      "model_name": "LayoutModel",
      "state": {}
     },
     "eb447fac8596414faf1f08ba496ce56d": {
      "model_module": "@jupyter-widgets/base",
      "model_module_version": "1.2.0",
      "model_name": "LayoutModel",
      "state": {}
     },
     "eb4e37ff11aa4156919e40604d1a53e3": {
      "model_module": "@jupyter-widgets/controls",
      "model_module_version": "1.5.0",
      "model_name": "ProgressStyleModel",
      "state": {
       "description_width": "initial"
      }
     },
     "eb5b41a17d4c41a5b0eb7030cc6a2ee9": {
      "model_module": "@jupyter-widgets/base",
      "model_module_version": "1.2.0",
      "model_name": "LayoutModel",
      "state": {}
     },
     "eb7aa46ade004afe84cdabe1be364718": {
      "model_module": "@jupyter-widgets/base",
      "model_module_version": "1.2.0",
      "model_name": "LayoutModel",
      "state": {}
     },
     "eb9a004dd1bc48219eb4e08550938c65": {
      "model_module": "@jupyter-widgets/base",
      "model_module_version": "1.2.0",
      "model_name": "LayoutModel",
      "state": {}
     },
     "ebad3adc2b204272a5f5250fa3cc03f2": {
      "model_module": "@jupyter-widgets/base",
      "model_module_version": "1.2.0",
      "model_name": "LayoutModel",
      "state": {}
     },
     "ebba6429ddfe487eaf46cc24a7b2c6cc": {
      "model_module": "@jupyter-widgets/base",
      "model_module_version": "1.2.0",
      "model_name": "LayoutModel",
      "state": {}
     },
     "ebbd0c44761c448f96c6a81546dbe4cc": {
      "model_module": "@jupyter-widgets/base",
      "model_module_version": "1.2.0",
      "model_name": "LayoutModel",
      "state": {}
     },
     "ebd5d190d6604ccfa754f1b93bec2c1a": {
      "model_module": "@jupyter-widgets/base",
      "model_module_version": "1.2.0",
      "model_name": "LayoutModel",
      "state": {}
     },
     "ec0d25cd98954f0ab78a6ee0cdd45bef": {
      "model_module": "@jupyter-widgets/controls",
      "model_module_version": "1.5.0",
      "model_name": "HTMLModel",
      "state": {
       "layout": "IPY_MODEL_cad53ac2b29249819795afec23fa6c29",
       "style": "IPY_MODEL_7c51ec10914941bc8b9139ab457071a4",
       "value": " 344/344 [04:45&lt;00:00,  1.20it/s, end_loss=1.06, jaccard=0.691, start_loss=1.12]"
      }
     },
     "ec286275a4094b0b9dc77715356163b7": {
      "model_module": "@jupyter-widgets/base",
      "model_module_version": "1.2.0",
      "model_name": "LayoutModel",
      "state": {}
     },
     "ec6c65f46e234db7b52487ed16cb92e9": {
      "model_module": "@jupyter-widgets/base",
      "model_module_version": "1.2.0",
      "model_name": "LayoutModel",
      "state": {}
     },
     "ec731b6c9fa14e56a3283dda6a41854e": {
      "model_module": "@jupyter-widgets/controls",
      "model_module_version": "1.5.0",
      "model_name": "FloatProgressModel",
      "state": {
       "bar_style": "success",
       "description": "100%",
       "layout": "IPY_MODEL_7a9c7a647e7a4f60aa45da0001c774d6",
       "max": 344,
       "style": "IPY_MODEL_2ec5cff0681441a891a992b29f532446",
       "value": 344
      }
     },
     "ec944f5453c042b2ab12287cba59802a": {
      "model_module": "@jupyter-widgets/controls",
      "model_module_version": "1.5.0",
      "model_name": "HBoxModel",
      "state": {
       "children": [
        "IPY_MODEL_d69fb48d479f43b79fd2845ff618b35b",
        "IPY_MODEL_de706e1e87fb4f0bb3ed5c96b6e8404b"
       ],
       "layout": "IPY_MODEL_f8ea40dc33674e2b9f48ed478d787dcd"
      }
     },
     "ec9656bfa40c4ebba99efe9a3901049b": {
      "model_module": "@jupyter-widgets/controls",
      "model_module_version": "1.5.0",
      "model_name": "HBoxModel",
      "state": {
       "children": [
        "IPY_MODEL_d08d3830e9a94eb083d3a6bb26a01f72",
        "IPY_MODEL_9310e568c6e046318a6fd3e7a3283440"
       ],
       "layout": "IPY_MODEL_12525a1c68e942e0accc51cba5ae910d"
      }
     },
     "ec972187a19f4744a1b0b28324b9f951": {
      "model_module": "@jupyter-widgets/controls",
      "model_module_version": "1.5.0",
      "model_name": "FloatProgressModel",
      "state": {
       "bar_style": "success",
       "description": "100%",
       "layout": "IPY_MODEL_45fac782560a42d9b05485960c6600bf",
       "max": 344,
       "style": "IPY_MODEL_6826f9a9765c4194b91af17154556c1b",
       "value": 344
      }
     },
     "ecc770db65214f99b3df0284b8fa073e": {
      "model_module": "@jupyter-widgets/controls",
      "model_module_version": "1.5.0",
      "model_name": "HTMLModel",
      "state": {
       "layout": "IPY_MODEL_3ce5dd6385cd41eb85a6b735e4e6557a",
       "style": "IPY_MODEL_e1a114fbf9a64c52aefc007575d36952",
       "value": " 344/344 [03:11&lt;00:00,  1.80it/s, end_loss=1.09, jaccard=0.648, merged_loss=1.03, start_loss=1.06]"
      }
     },
     "ecce740d12214bc2b8df8c06476af33a": {
      "model_module": "@jupyter-widgets/controls",
      "model_module_version": "1.5.0",
      "model_name": "ProgressStyleModel",
      "state": {
       "description_width": "initial"
      }
     },
     "ecd21d1c29d04233ac8ed13a9245b1fb": {
      "model_module": "@jupyter-widgets/base",
      "model_module_version": "1.2.0",
      "model_name": "LayoutModel",
      "state": {}
     },
     "ecf04ec498764b83b92d8739900497c1": {
      "model_module": "@jupyter-widgets/base",
      "model_module_version": "1.2.0",
      "model_name": "LayoutModel",
      "state": {}
     },
     "ed342ed9b9a44c35a0af9128411b5f94": {
      "model_module": "@jupyter-widgets/controls",
      "model_module_version": "1.5.0",
      "model_name": "HBoxModel",
      "state": {
       "children": [
        "IPY_MODEL_a0a2692dc3814ba69490eec02bc276b0",
        "IPY_MODEL_dea64d2ebdfe4b40b999e3edab360509"
       ],
       "layout": "IPY_MODEL_f32df7e536e9486e9e0185beec6171ab"
      }
     },
     "ed437b1fb92944269d101dbe86f7f07a": {
      "model_module": "@jupyter-widgets/base",
      "model_module_version": "1.2.0",
      "model_name": "LayoutModel",
      "state": {}
     },
     "ed68aad0749f4313bf8fa00496b9d4d7": {
      "model_module": "@jupyter-widgets/base",
      "model_module_version": "1.2.0",
      "model_name": "LayoutModel",
      "state": {}
     },
     "ed7853a919fd4c65bcaa1a59e8d827a4": {
      "model_module": "@jupyter-widgets/controls",
      "model_module_version": "1.5.0",
      "model_name": "ProgressStyleModel",
      "state": {
       "description_width": "initial"
      }
     },
     "ed83066e7c8a4064a9f9f4107a2e48b9": {
      "model_module": "@jupyter-widgets/controls",
      "model_module_version": "1.5.0",
      "model_name": "HTMLModel",
      "state": {
       "layout": "IPY_MODEL_3526c4718fc04b42959579c52945bfc4",
       "style": "IPY_MODEL_e264dcf108aa41fda4e24d3b0f7f30d1",
       "value": " 344/344 [35:04&lt;00:00,  6.12s/it, end_loss=1.43, jaccard=0.622, start_loss=1.39]"
      }
     },
     "ed83573824114e53b5e6ac3de50bd292": {
      "model_module": "@jupyter-widgets/base",
      "model_module_version": "1.2.0",
      "model_name": "LayoutModel",
      "state": {}
     },
     "ed841378a0b648088cdc96c5464c707b": {
      "model_module": "@jupyter-widgets/base",
      "model_module_version": "1.2.0",
      "model_name": "LayoutModel",
      "state": {}
     },
     "ed9ac6770f1345f6bead86a6c25d8d5a": {
      "model_module": "@jupyter-widgets/base",
      "model_module_version": "1.2.0",
      "model_name": "LayoutModel",
      "state": {}
     },
     "eda966491e704d2a94e4e0145083fcb6": {
      "model_module": "@jupyter-widgets/controls",
      "model_module_version": "1.5.0",
      "model_name": "HTMLModel",
      "state": {
       "layout": "IPY_MODEL_d31660659e83437d9e1cd3a280307258",
       "style": "IPY_MODEL_defc1db4d0e54ceb8890561998664aa4",
       "value": " 344/344 [00:19&lt;00:00, 18.06it/s, end_loss=1.45, jaccard=0.713, start_loss=1.51]"
      }
     },
     "edbde45c453340aab827a4c076be4c4e": {
      "model_module": "@jupyter-widgets/controls",
      "model_module_version": "1.5.0",
      "model_name": "FloatProgressModel",
      "state": {
       "bar_style": "success",
       "description": "100%",
       "layout": "IPY_MODEL_6d7394d289404e848889683a09216657",
       "max": 344,
       "style": "IPY_MODEL_8953602e6ce8455696eaf69c542facf4",
       "value": 344
      }
     },
     "edbe5de2de9545faa7dbfd21edc3007f": {
      "model_module": "@jupyter-widgets/controls",
      "model_module_version": "1.5.0",
      "model_name": "HBoxModel",
      "state": {
       "children": [
        "IPY_MODEL_90dc012f4d1d49afbcccdd216dae112d",
        "IPY_MODEL_9c179c2a1eb642b3a489adcca645fb71"
       ],
       "layout": "IPY_MODEL_9836295f81b9465e9b993b0ad93f39ff"
      }
     },
     "edc9c27ff8b742e5bdd477b818844168": {
      "model_module": "@jupyter-widgets/controls",
      "model_module_version": "1.5.0",
      "model_name": "FloatProgressModel",
      "state": {
       "bar_style": "success",
       "description": "100%",
       "layout": "IPY_MODEL_46eb2d9170a349758d587e41047a8ea9",
       "max": 344,
       "style": "IPY_MODEL_fe728f0571934e7181feb30cc4970629",
       "value": 344
      }
     },
     "edcd128bc7b44e90a1d189a38c828afd": {
      "model_module": "@jupyter-widgets/controls",
      "model_module_version": "1.5.0",
      "model_name": "FloatProgressModel",
      "state": {
       "bar_style": "success",
       "description": "100%",
       "layout": "IPY_MODEL_f5e016d1dc21489db411105e1a965988",
       "max": 344,
       "style": "IPY_MODEL_dd63cf26acf34a1e8b756fb225a5a528",
       "value": 344
      }
     },
     "edd29304ea6547038e2826c713a48035": {
      "model_module": "@jupyter-widgets/base",
      "model_module_version": "1.2.0",
      "model_name": "LayoutModel",
      "state": {}
     },
     "ee075ba5ad88426f9ec8a1eb291fa73c": {
      "model_module": "@jupyter-widgets/controls",
      "model_module_version": "1.5.0",
      "model_name": "DescriptionStyleModel",
      "state": {
       "description_width": ""
      }
     },
     "ee3cacc27ef44708a191d5fab4bf7ecc": {
      "model_module": "@jupyter-widgets/controls",
      "model_module_version": "1.5.0",
      "model_name": "FloatProgressModel",
      "state": {
       "bar_style": "success",
       "description": "100%",
       "layout": "IPY_MODEL_26f23042d0534df8adbef72d95ba478a",
       "max": 344,
       "style": "IPY_MODEL_4b08d0da361e4a19b98b462e81fbae72",
       "value": 344
      }
     },
     "ee61190f16ad495ea5584365763081ff": {
      "model_module": "@jupyter-widgets/controls",
      "model_module_version": "1.5.0",
      "model_name": "DescriptionStyleModel",
      "state": {
       "description_width": ""
      }
     },
     "ee6b5d4ec2c14f81aaf97f1242e497fb": {
      "model_module": "@jupyter-widgets/controls",
      "model_module_version": "1.5.0",
      "model_name": "DescriptionStyleModel",
      "state": {
       "description_width": ""
      }
     },
     "ee6dc378b04a49deaf3d0b2d972eb611": {
      "model_module": "@jupyter-widgets/controls",
      "model_module_version": "1.5.0",
      "model_name": "HBoxModel",
      "state": {
       "children": [
        "IPY_MODEL_af17b953042744599944c15b69e5cff9",
        "IPY_MODEL_29ffcf8d81dc4e01bd28a04d1f91989a"
       ],
       "layout": "IPY_MODEL_5a9fba0bbcce4d2682308b3360f1d629"
      }
     },
     "ee8f417d45c84d24bf4b6bf3147a0d08": {
      "model_module": "@jupyter-widgets/base",
      "model_module_version": "1.2.0",
      "model_name": "LayoutModel",
      "state": {}
     },
     "eea311526c9f42dc8c37217f9de2b10a": {
      "model_module": "@jupyter-widgets/controls",
      "model_module_version": "1.5.0",
      "model_name": "HTMLModel",
      "state": {
       "layout": "IPY_MODEL_047d6162739e478f89b2313380db98e3",
       "style": "IPY_MODEL_b921dc6b19c1470abc0762af720ac89d",
       "value": " 344/344 [00:23&lt;00:00, 14.52it/s, end_loss=1.48, jaccard=0.709, start_loss=1.52]"
      }
     },
     "eecc3f44c24941b08a26df8f98be578f": {
      "model_module": "@jupyter-widgets/base",
      "model_module_version": "1.2.0",
      "model_name": "LayoutModel",
      "state": {}
     },
     "eed989a48e0041c6bf7e1eecbb28d1ac": {
      "model_module": "@jupyter-widgets/controls",
      "model_module_version": "1.5.0",
      "model_name": "HBoxModel",
      "state": {
       "children": [
        "IPY_MODEL_563056cf821e4c33ab353ced5cb96b94",
        "IPY_MODEL_7095bf2af6d245f687313cbfaa60dbf4"
       ],
       "layout": "IPY_MODEL_154d54c9ce8b40e9a8a464e1cdda135d"
      }
     },
     "eee058e409f5411eae100074b1e5bfe4": {
      "model_module": "@jupyter-widgets/controls",
      "model_module_version": "1.5.0",
      "model_name": "FloatProgressModel",
      "state": {
       "bar_style": "success",
       "description": "100%",
       "layout": "IPY_MODEL_36f8a4217b504851945dde5e5c592797",
       "max": 344,
       "style": "IPY_MODEL_b4d252df378b4d96b5138951aa9eea0a",
       "value": 344
      }
     },
     "eef31bd46d3247538a2b931a039a2414": {
      "model_module": "@jupyter-widgets/base",
      "model_module_version": "1.2.0",
      "model_name": "LayoutModel",
      "state": {}
     },
     "ef2594bf3c2c41aa9992f58c02956a5b": {
      "model_module": "@jupyter-widgets/base",
      "model_module_version": "1.2.0",
      "model_name": "LayoutModel",
      "state": {}
     },
     "ef56874a5ec64499a7d6851a96bff654": {
      "model_module": "@jupyter-widgets/controls",
      "model_module_version": "1.5.0",
      "model_name": "HTMLModel",
      "state": {
       "layout": "IPY_MODEL_4805a8b81824471a8aab45c733459e1f",
       "style": "IPY_MODEL_d589da2f6a384507adf8eff126202170",
       "value": " 344/344 [06:13&lt;00:00,  1.09s/it, end_loss=0.713, jaccard=0.719, merged_loss=0.999, start_loss=0.777]"
      }
     },
     "ef74c6e4d177475aa58a51a65cbc129d": {
      "model_module": "@jupyter-widgets/base",
      "model_module_version": "1.2.0",
      "model_name": "LayoutModel",
      "state": {}
     },
     "ef79993290854946bf07f83ba9d66720": {
      "model_module": "@jupyter-widgets/base",
      "model_module_version": "1.2.0",
      "model_name": "LayoutModel",
      "state": {}
     },
     "ef7c6f2c519f49e1815bc760f91fbdb5": {
      "model_module": "@jupyter-widgets/base",
      "model_module_version": "1.2.0",
      "model_name": "LayoutModel",
      "state": {}
     },
     "ef850f22ce1e45329ea6628b9d5e5a76": {
      "model_module": "@jupyter-widgets/controls",
      "model_module_version": "1.5.0",
      "model_name": "FloatProgressModel",
      "state": {
       "bar_style": "success",
       "description": "100%",
       "layout": "IPY_MODEL_25dc33ff955a48b29712a3afeb87c4e0",
       "max": 344,
       "style": "IPY_MODEL_e636715b3a5040829b3a4ec093ed54c5",
       "value": 344
      }
     },
     "ef8f5537a1be4390b939998f69f7e1d1": {
      "model_module": "@jupyter-widgets/controls",
      "model_module_version": "1.5.0",
      "model_name": "HBoxModel",
      "state": {
       "children": [
        "IPY_MODEL_142cf68d513446e09b54828fc775436f",
        "IPY_MODEL_b9f7282334bc496fbabaffd9080736a1"
       ],
       "layout": "IPY_MODEL_a25ec67002924bc1b88c4e85628dadd1"
      }
     },
     "ef9b45af7c9343f4a977eeb8c9e77b6b": {
      "model_module": "@jupyter-widgets/controls",
      "model_module_version": "1.5.0",
      "model_name": "DescriptionStyleModel",
      "state": {
       "description_width": ""
      }
     },
     "efc8e6db419740c49810be3058d93fec": {
      "model_module": "@jupyter-widgets/base",
      "model_module_version": "1.2.0",
      "model_name": "LayoutModel",
      "state": {}
     },
     "efd9b69f827d4a1cbf2b0cbecc1993db": {
      "model_module": "@jupyter-widgets/controls",
      "model_module_version": "1.5.0",
      "model_name": "FloatProgressModel",
      "state": {
       "bar_style": "success",
       "description": "100%",
       "layout": "IPY_MODEL_626a893ff18a4774991ecee1986d4200",
       "max": 344,
       "style": "IPY_MODEL_87e325e3278e4d888b12309bfea3b5e0",
       "value": 344
      }
     },
     "f01141fd55154d4d8f3fd5302c9fcb6d": {
      "model_module": "@jupyter-widgets/controls",
      "model_module_version": "1.5.0",
      "model_name": "HTMLModel",
      "state": {
       "layout": "IPY_MODEL_96600b59bcb94faca8741cc0260ae52c",
       "style": "IPY_MODEL_dbbaca208dfb4c529a5a892079801479",
       "value": " 344/344 [00:20&lt;00:00, 16.47it/s, end_loss=0.791, jaccard=0.702, merged_loss=1.01, start_loss=0.838]"
      }
     },
     "f01f6a265f60440fb7892aa1f2e4c52f": {
      "model_module": "@jupyter-widgets/controls",
      "model_module_version": "1.5.0",
      "model_name": "ProgressStyleModel",
      "state": {
       "description_width": "initial"
      }
     },
     "f052a86b24634aa6a66ec5b0c9f3f565": {
      "model_module": "@jupyter-widgets/controls",
      "model_module_version": "1.5.0",
      "model_name": "HBoxModel",
      "state": {
       "children": [
        "IPY_MODEL_5baefc5bec4d4279a890a4a15853cafd",
        "IPY_MODEL_47cc299f52c54477bbfa63d33c1b2115"
       ],
       "layout": "IPY_MODEL_48782b0c1b434a64a58eeebf7f8d69c2"
      }
     },
     "f0c6ab7df48d4632be920c79e1ec16d5": {
      "model_module": "@jupyter-widgets/controls",
      "model_module_version": "1.5.0",
      "model_name": "FloatProgressModel",
      "state": {
       "bar_style": "success",
       "description": "100%",
       "layout": "IPY_MODEL_9b8b25fe333543cabb955857a06a3f4d",
       "max": 344,
       "style": "IPY_MODEL_f4917b4686a14018a9f8b4f8dc997870",
       "value": 344
      }
     },
     "f0c9d2668087452689c3492a03f68979": {
      "model_module": "@jupyter-widgets/controls",
      "model_module_version": "1.5.0",
      "model_name": "FloatProgressModel",
      "state": {
       "bar_style": "success",
       "description": "100%",
       "layout": "IPY_MODEL_bb395671ff2c4dafaa418372c9dfeacc",
       "max": 344,
       "style": "IPY_MODEL_ac0fc149110846aba3ae576cb9e5c5fd",
       "value": 344
      }
     },
     "f0cb007cf0c043af988c1fb9a2cb7fae": {
      "model_module": "@jupyter-widgets/controls",
      "model_module_version": "1.5.0",
      "model_name": "DescriptionStyleModel",
      "state": {
       "description_width": ""
      }
     },
     "f106654e93704d2b8508c21222f74fb3": {
      "model_module": "@jupyter-widgets/controls",
      "model_module_version": "1.5.0",
      "model_name": "FloatProgressModel",
      "state": {
       "bar_style": "success",
       "description": "100%",
       "layout": "IPY_MODEL_ecf04ec498764b83b92d8739900497c1",
       "max": 344,
       "style": "IPY_MODEL_762b759deaac4e8e818ce58939de63da",
       "value": 344
      }
     },
     "f111de4ced2d474aa6a1a893274fc2e7": {
      "model_module": "@jupyter-widgets/base",
      "model_module_version": "1.2.0",
      "model_name": "LayoutModel",
      "state": {}
     },
     "f130ce31fe364451b4d06e30e0f2b77b": {
      "model_module": "@jupyter-widgets/controls",
      "model_module_version": "1.5.0",
      "model_name": "ProgressStyleModel",
      "state": {
       "description_width": "initial"
      }
     },
     "f14032ba5b7741f2bfaae1572c1007f8": {
      "model_module": "@jupyter-widgets/controls",
      "model_module_version": "1.5.0",
      "model_name": "DescriptionStyleModel",
      "state": {
       "description_width": ""
      }
     },
     "f14c71d843f740049bb1a57c51f7bdaa": {
      "model_module": "@jupyter-widgets/controls",
      "model_module_version": "1.5.0",
      "model_name": "FloatProgressModel",
      "state": {
       "bar_style": "success",
       "description": "100%",
       "layout": "IPY_MODEL_d4a8ac5a0af34434a848e8ac428bd226",
       "max": 344,
       "style": "IPY_MODEL_97a91347283a4475acabe240686d020d",
       "value": 344
      }
     },
     "f17a9509dfbd4948bb72ff536728a723": {
      "model_module": "@jupyter-widgets/controls",
      "model_module_version": "1.5.0",
      "model_name": "ProgressStyleModel",
      "state": {
       "description_width": "initial"
      }
     },
     "f17b88ef7ebb42cb98bb9150c122f94c": {
      "model_module": "@jupyter-widgets/controls",
      "model_module_version": "1.5.0",
      "model_name": "FloatProgressModel",
      "state": {
       "bar_style": "success",
       "description": "100%",
       "layout": "IPY_MODEL_20e7641058164801865d3b5739e9d2bb",
       "max": 344,
       "style": "IPY_MODEL_26e963d68d404d6680bbc8ebaf4e556c",
       "value": 344
      }
     },
     "f1a7e14d4cc04e6eba9df68c19f9b456": {
      "model_module": "@jupyter-widgets/controls",
      "model_module_version": "1.5.0",
      "model_name": "DescriptionStyleModel",
      "state": {
       "description_width": ""
      }
     },
     "f1ac1304547743b3b034e9259f896b66": {
      "model_module": "@jupyter-widgets/controls",
      "model_module_version": "1.5.0",
      "model_name": "HBoxModel",
      "state": {
       "children": [
        "IPY_MODEL_8cf2df95b861410692b87fa41cc33b6c",
        "IPY_MODEL_8baac56053bc4812bbf60d17cb4e6849"
       ],
       "layout": "IPY_MODEL_bb7b40287cb842bbb62472f9f7b0de10"
      }
     },
     "f1b8907105794a1bbdc95fc925288306": {
      "model_module": "@jupyter-widgets/controls",
      "model_module_version": "1.5.0",
      "model_name": "HBoxModel",
      "state": {
       "children": [
        "IPY_MODEL_121fc0272fdf4790bf18c98857e7ebc4",
        "IPY_MODEL_95ab830e6cd74d588c567061ea2c0eed"
       ],
       "layout": "IPY_MODEL_da52e41f022e4f34b9cc3c5b7330c947"
      }
     },
     "f1db5cb3449b4c869e7a84c68b9a6a95": {
      "model_module": "@jupyter-widgets/base",
      "model_module_version": "1.2.0",
      "model_name": "LayoutModel",
      "state": {}
     },
     "f206bd95d5914eed8c62c9c028e195ea": {
      "model_module": "@jupyter-widgets/controls",
      "model_module_version": "1.5.0",
      "model_name": "ProgressStyleModel",
      "state": {
       "description_width": "initial"
      }
     },
     "f22405948d194c3e881e258246a5d2be": {
      "model_module": "@jupyter-widgets/base",
      "model_module_version": "1.2.0",
      "model_name": "LayoutModel",
      "state": {}
     },
     "f239ad2d11574957bedeea719dbb425c": {
      "model_module": "@jupyter-widgets/controls",
      "model_module_version": "1.5.0",
      "model_name": "ProgressStyleModel",
      "state": {
       "description_width": "initial"
      }
     },
     "f24cc5525cf94767845c93f97c7c11b1": {
      "model_module": "@jupyter-widgets/base",
      "model_module_version": "1.2.0",
      "model_name": "LayoutModel",
      "state": {}
     },
     "f271e013a1354cbf927fca501129ea41": {
      "model_module": "@jupyter-widgets/base",
      "model_module_version": "1.2.0",
      "model_name": "LayoutModel",
      "state": {}
     },
     "f27f766a249046799d6b83c42485821d": {
      "model_module": "@jupyter-widgets/base",
      "model_module_version": "1.2.0",
      "model_name": "LayoutModel",
      "state": {}
     },
     "f2ba27c19d764e448ecb98766e2ad30c": {
      "model_module": "@jupyter-widgets/base",
      "model_module_version": "1.2.0",
      "model_name": "LayoutModel",
      "state": {}
     },
     "f2c0938a75854ef1b66803d6ad3fd2a6": {
      "model_module": "@jupyter-widgets/controls",
      "model_module_version": "1.5.0",
      "model_name": "FloatProgressModel",
      "state": {
       "bar_style": "success",
       "description": "100%",
       "layout": "IPY_MODEL_af2da932a20e4978bca47561d34dc0b7",
       "max": 344,
       "style": "IPY_MODEL_4d5fe983f56b4a4d8a137067803ff47e",
       "value": 344
      }
     },
     "f2e14cd2251c4bce8c9f92cf0f2daa64": {
      "model_module": "@jupyter-widgets/controls",
      "model_module_version": "1.5.0",
      "model_name": "HTMLModel",
      "state": {
       "layout": "IPY_MODEL_9bfaa8384ed44aa5bd6e3db007d2c076",
       "style": "IPY_MODEL_2a6072e649f7412aab3a5b8883d1f471",
       "value": " 344/344 [07:44&lt;00:00,  1.35s/it, end_loss=0.849, jaccard=0.752, start_loss=0.897]"
      }
     },
     "f2e14e831dfe40e79475a55bbef2125d": {
      "model_module": "@jupyter-widgets/controls",
      "model_module_version": "1.5.0",
      "model_name": "DescriptionStyleModel",
      "state": {
       "description_width": ""
      }
     },
     "f2ee79a987474b76a0bfdaf862d8ece6": {
      "model_module": "@jupyter-widgets/controls",
      "model_module_version": "1.5.0",
      "model_name": "HTMLModel",
      "state": {
       "layout": "IPY_MODEL_c2339d43026e4a748e0c09ff86e72d35",
       "style": "IPY_MODEL_3f7fc33f53784bdda00ac124592b3ba2",
       "value": " 344/344 [03:09&lt;00:00,  1.82it/s, end_loss=2.05, jaccard=0.602, start_loss=2.03]"
      }
     },
     "f2f28f371fc14f8fb603c87d44cf8918": {
      "model_module": "@jupyter-widgets/controls",
      "model_module_version": "1.5.0",
      "model_name": "HBoxModel",
      "state": {
       "children": [
        "IPY_MODEL_06d333ea09c044c2b0516bdc2049f9bb",
        "IPY_MODEL_108fc0761d2e4101891d6a119cc68d14"
       ],
       "layout": "IPY_MODEL_1314f949bae64f84bcd095d3599f05da"
      }
     },
     "f2fb6268b7b24f8198dabf3095a347e0": {
      "model_module": "@jupyter-widgets/base",
      "model_module_version": "1.2.0",
      "model_name": "LayoutModel",
      "state": {}
     },
     "f3231b66575c48729c8693d1787d7c13": {
      "model_module": "@jupyter-widgets/base",
      "model_module_version": "1.2.0",
      "model_name": "LayoutModel",
      "state": {}
     },
     "f32df7e536e9486e9e0185beec6171ab": {
      "model_module": "@jupyter-widgets/base",
      "model_module_version": "1.2.0",
      "model_name": "LayoutModel",
      "state": {}
     },
     "f33039c94b594dd69628c2b692c04479": {
      "model_module": "@jupyter-widgets/base",
      "model_module_version": "1.2.0",
      "model_name": "LayoutModel",
      "state": {}
     },
     "f342171ee817439687ee4819c8e8bb35": {
      "model_module": "@jupyter-widgets/controls",
      "model_module_version": "1.5.0",
      "model_name": "ProgressStyleModel",
      "state": {
       "description_width": "initial"
      }
     },
     "f3465100834047f6bc28e53b0c4ed40e": {
      "model_module": "@jupyter-widgets/base",
      "model_module_version": "1.2.0",
      "model_name": "LayoutModel",
      "state": {}
     },
     "f389e23555754c78bf18bf519ebf64c5": {
      "model_module": "@jupyter-widgets/base",
      "model_module_version": "1.2.0",
      "model_name": "LayoutModel",
      "state": {}
     },
     "f3a23f6c3e3a43389d5c5c25c0b1f10f": {
      "model_module": "@jupyter-widgets/controls",
      "model_module_version": "1.5.0",
      "model_name": "ProgressStyleModel",
      "state": {
       "description_width": "initial"
      }
     },
     "f3c888eff2cf4fbb80547e8630e16314": {
      "model_module": "@jupyter-widgets/controls",
      "model_module_version": "1.5.0",
      "model_name": "DescriptionStyleModel",
      "state": {
       "description_width": ""
      }
     },
     "f3cb9fc539b5409fb83b38a01321daf0": {
      "model_module": "@jupyter-widgets/base",
      "model_module_version": "1.2.0",
      "model_name": "LayoutModel",
      "state": {}
     },
     "f3da0cc774804e8e8cec743a8def7d60": {
      "model_module": "@jupyter-widgets/controls",
      "model_module_version": "1.5.0",
      "model_name": "FloatProgressModel",
      "state": {
       "bar_style": "success",
       "description": "100%",
       "layout": "IPY_MODEL_136a800419994b2fa84952294bb29aba",
       "max": 344,
       "style": "IPY_MODEL_c0ff54d89808407484bc04d88a46d90b",
       "value": 344
      }
     },
     "f3fb6f0df1534d098c216a1f1b489dad": {
      "model_module": "@jupyter-widgets/controls",
      "model_module_version": "1.5.0",
      "model_name": "HTMLModel",
      "state": {
       "layout": "IPY_MODEL_86a0325e43be445da981a43ff49c4f72",
       "style": "IPY_MODEL_61baebb487664e2fbe9c3959ddf68dcd",
       "value": " 344/344 [03:22&lt;00:00,  1.70it/s, end_loss=1.15, jaccard=0.676, start_loss=1.16]"
      }
     },
     "f4099c741f6f4091941c372b8f577125": {
      "model_module": "@jupyter-widgets/base",
      "model_module_version": "1.2.0",
      "model_name": "LayoutModel",
      "state": {}
     },
     "f4135d7c725a4debb4823d50f6f94e01": {
      "model_module": "@jupyter-widgets/controls",
      "model_module_version": "1.5.0",
      "model_name": "HBoxModel",
      "state": {
       "children": [
        "IPY_MODEL_f106654e93704d2b8508c21222f74fb3",
        "IPY_MODEL_6a7a69d2b98c457390225150780dcd4f"
       ],
       "layout": "IPY_MODEL_2fe6a24a159e40e795039048dae428ff"
      }
     },
     "f41a970f91694ef98accb86d26424a07": {
      "model_module": "@jupyter-widgets/controls",
      "model_module_version": "1.5.0",
      "model_name": "HTMLModel",
      "state": {
       "layout": "IPY_MODEL_54ac6bff72d34f55823e1208337c4fda",
       "style": "IPY_MODEL_c71312f04b6348a6b8fd6cc242d9969f",
       "value": " 344/344 [00:19&lt;00:00, 17.77it/s, end_loss=1.46, jaccard=0.712, start_loss=1.52]"
      }
     },
     "f44f4e679f9349ff84197782c4af94fc": {
      "model_module": "@jupyter-widgets/base",
      "model_module_version": "1.2.0",
      "model_name": "LayoutModel",
      "state": {}
     },
     "f4609135e96e42d2a64c7a0677d574f7": {
      "model_module": "@jupyter-widgets/controls",
      "model_module_version": "1.5.0",
      "model_name": "HTMLModel",
      "state": {
       "layout": "IPY_MODEL_8f3c974ebf8345a8a656d504ba67b577",
       "style": "IPY_MODEL_4e74e34013ec45da9da44b5b503324e5",
       "value": " 344/344 [00:24&lt;00:00, 14.14it/s, end_loss=0.8, jaccard=0.711, start_loss=0.84]"
      }
     },
     "f461b46dbd134765949d01e6a5ef6624": {
      "model_module": "@jupyter-widgets/base",
      "model_module_version": "1.2.0",
      "model_name": "LayoutModel",
      "state": {}
     },
     "f486e439ef364da3ab6d9abad05f77b6": {
      "model_module": "@jupyter-widgets/base",
      "model_module_version": "1.2.0",
      "model_name": "LayoutModel",
      "state": {}
     },
     "f4917b4686a14018a9f8b4f8dc997870": {
      "model_module": "@jupyter-widgets/controls",
      "model_module_version": "1.5.0",
      "model_name": "ProgressStyleModel",
      "state": {
       "description_width": "initial"
      }
     },
     "f4c5a0ea5aef4db2a6dd686b083e33cf": {
      "model_module": "@jupyter-widgets/controls",
      "model_module_version": "1.5.0",
      "model_name": "DescriptionStyleModel",
      "state": {
       "description_width": ""
      }
     },
     "f4c7b7aa857f4a6eb63dd971f9683668": {
      "model_module": "@jupyter-widgets/base",
      "model_module_version": "1.2.0",
      "model_name": "LayoutModel",
      "state": {}
     },
     "f4f02340794b4516a20983038eb06048": {
      "model_module": "@jupyter-widgets/base",
      "model_module_version": "1.2.0",
      "model_name": "LayoutModel",
      "state": {}
     },
     "f51f54a5caa746ce997cb44ac41c36d3": {
      "model_module": "@jupyter-widgets/controls",
      "model_module_version": "1.5.0",
      "model_name": "HTMLModel",
      "state": {
       "layout": "IPY_MODEL_53bc934f9dee471bb3308019c8a20323",
       "style": "IPY_MODEL_7a2d57aec62b45fbac7bd93ec3431a50",
       "value": " 344/344 [46:28&lt;00:00,  8.11s/it, end_loss=0.885, jaccard=0.738, start_loss=0.928]"
      }
     },
     "f5240e2e883f4634a033420adf2c7365": {
      "model_module": "@jupyter-widgets/controls",
      "model_module_version": "1.5.0",
      "model_name": "HTMLModel",
      "state": {
       "layout": "IPY_MODEL_ed83573824114e53b5e6ac3de50bd292",
       "style": "IPY_MODEL_c5ce0c6640c84e0e90ae5c120151c53e",
       "value": " 344/344 [00:19&lt;00:00, 17.80it/s, end_loss=0.798, jaccard=0.708, start_loss=0.858]"
      }
     },
     "f56e13c8991f4cee95bc8cb9ad535388": {
      "model_module": "@jupyter-widgets/controls",
      "model_module_version": "1.5.0",
      "model_name": "DescriptionStyleModel",
      "state": {
       "description_width": ""
      }
     },
     "f5884a5ce052413eb95f4f57e29f3132": {
      "model_module": "@jupyter-widgets/controls",
      "model_module_version": "1.5.0",
      "model_name": "FloatProgressModel",
      "state": {
       "bar_style": "success",
       "description": "100%",
       "layout": "IPY_MODEL_c7bc7c00f23c4ef498e29316842b92ed",
       "max": 344,
       "style": "IPY_MODEL_a5cc33064804410b968214e971c15807",
       "value": 344
      }
     },
     "f58c7b7367e94a66af3862f488e01267": {
      "model_module": "@jupyter-widgets/controls",
      "model_module_version": "1.5.0",
      "model_name": "FloatProgressModel",
      "state": {
       "bar_style": "success",
       "description": "100%",
       "layout": "IPY_MODEL_62b9041b5db84c15b797a0e867da09fb",
       "max": 344,
       "style": "IPY_MODEL_806927763c0d41d5877536e16aef9488",
       "value": 344
      }
     },
     "f5ac63261d5f4a8cb6d81cd5af8dfdab": {
      "model_module": "@jupyter-widgets/controls",
      "model_module_version": "1.5.0",
      "model_name": "HBoxModel",
      "state": {
       "children": [
        "IPY_MODEL_ea8d1db639c34c5f8eda0442e675e59f",
        "IPY_MODEL_4daf743ea6fc47e4b12214e96b936ec9"
       ],
       "layout": "IPY_MODEL_a63aa0e91de74a75b3019e0fcba337ba"
      }
     },
     "f5b34cdfe9794609b88c18ae93466168": {
      "model_module": "@jupyter-widgets/base",
      "model_module_version": "1.2.0",
      "model_name": "LayoutModel",
      "state": {}
     },
     "f5c9e3bf4ffd47b3b42ec879db23931b": {
      "model_module": "@jupyter-widgets/controls",
      "model_module_version": "1.5.0",
      "model_name": "FloatProgressModel",
      "state": {
       "bar_style": "success",
       "description": "100%",
       "layout": "IPY_MODEL_a405c90ff9dc4975aef2025ad200156b",
       "max": 344,
       "style": "IPY_MODEL_4bfd5de857014a73b0794ab9e1891852",
       "value": 344
      }
     },
     "f5d3b8a0d9a34970b3c93363e4437710": {
      "model_module": "@jupyter-widgets/base",
      "model_module_version": "1.2.0",
      "model_name": "LayoutModel",
      "state": {}
     },
     "f5e016d1dc21489db411105e1a965988": {
      "model_module": "@jupyter-widgets/base",
      "model_module_version": "1.2.0",
      "model_name": "LayoutModel",
      "state": {}
     },
     "f5feb48a486c4fc7af134b8ae8dbd936": {
      "model_module": "@jupyter-widgets/base",
      "model_module_version": "1.2.0",
      "model_name": "LayoutModel",
      "state": {}
     },
     "f60521e92e0a4982a9a609392a5a1e8b": {
      "model_module": "@jupyter-widgets/controls",
      "model_module_version": "1.5.0",
      "model_name": "HBoxModel",
      "state": {
       "children": [
        "IPY_MODEL_06b90b55864d45959c64a8b64834add9",
        "IPY_MODEL_c8035b225f344f0c930af7d0855679fb"
       ],
       "layout": "IPY_MODEL_8c8890f6d5624c6bbeb63c5534c99a4a"
      }
     },
     "f62d192495fa40f8ba99c320df83093e": {
      "model_module": "@jupyter-widgets/controls",
      "model_module_version": "1.5.0",
      "model_name": "ProgressStyleModel",
      "state": {
       "description_width": "initial"
      }
     },
     "f6348ddd51d84bdcbce67f4a3163a97b": {
      "model_module": "@jupyter-widgets/base",
      "model_module_version": "1.2.0",
      "model_name": "LayoutModel",
      "state": {}
     },
     "f655e36f98db4747aa1d853473fac130": {
      "model_module": "@jupyter-widgets/controls",
      "model_module_version": "1.5.0",
      "model_name": "ProgressStyleModel",
      "state": {
       "description_width": "initial"
      }
     },
     "f65a5748fca84c4ca85f83e624887163": {
      "model_module": "@jupyter-widgets/controls",
      "model_module_version": "1.5.0",
      "model_name": "FloatProgressModel",
      "state": {
       "bar_style": "success",
       "description": "100%",
       "layout": "IPY_MODEL_dbf844555d34423fa9add8150551c506",
       "max": 344,
       "style": "IPY_MODEL_b9783f8d1c964756914e78e7a5b7a50c",
       "value": 344
      }
     },
     "f665db9b52794290bae0047f4da140e1": {
      "model_module": "@jupyter-widgets/controls",
      "model_module_version": "1.5.0",
      "model_name": "ProgressStyleModel",
      "state": {
       "description_width": "initial"
      }
     },
     "f691930885774b9a94b6d798b855e004": {
      "model_module": "@jupyter-widgets/base",
      "model_module_version": "1.2.0",
      "model_name": "LayoutModel",
      "state": {}
     },
     "f6b3468c84094766979e7a2dababbd37": {
      "model_module": "@jupyter-widgets/controls",
      "model_module_version": "1.5.0",
      "model_name": "HBoxModel",
      "state": {
       "children": [
        "IPY_MODEL_e4f4bdaad8be49c9aaba0dbcb0063817",
        "IPY_MODEL_fd8737163e944c87b7928c6339b31d2b"
       ],
       "layout": "IPY_MODEL_6ff31edd2ed34ee6a9d0112cf2f1be4e"
      }
     },
     "f6ba9b7f5e264e5593c90569ad33a605": {
      "model_module": "@jupyter-widgets/controls",
      "model_module_version": "1.5.0",
      "model_name": "HTMLModel",
      "state": {
       "layout": "IPY_MODEL_9fccbc2daf30420699eeffb532788884",
       "style": "IPY_MODEL_ef9b45af7c9343f4a977eeb8c9e77b6b",
       "value": " 344/344 [03:45&lt;00:00,  1.53it/s, end_loss=0.92, jaccard=0.732, start_loss=0.946]"
      }
     },
     "f716ba66bf324b729856d0d56825215d": {
      "model_module": "@jupyter-widgets/base",
      "model_module_version": "1.2.0",
      "model_name": "LayoutModel",
      "state": {}
     },
     "f72ac54f76a24692bcfee28759059c5a": {
      "model_module": "@jupyter-widgets/base",
      "model_module_version": "1.2.0",
      "model_name": "LayoutModel",
      "state": {}
     },
     "f7413d80019f449caa38f3ce43d1471c": {
      "model_module": "@jupyter-widgets/controls",
      "model_module_version": "1.5.0",
      "model_name": "ProgressStyleModel",
      "state": {
       "description_width": "initial"
      }
     },
     "f780245ed59a43ed8ab8fa930dd456e6": {
      "model_module": "@jupyter-widgets/base",
      "model_module_version": "1.2.0",
      "model_name": "LayoutModel",
      "state": {}
     },
     "f783f680027b43a794b6b1854674d9d5": {
      "model_module": "@jupyter-widgets/controls",
      "model_module_version": "1.5.0",
      "model_name": "HBoxModel",
      "state": {
       "children": [
        "IPY_MODEL_7cdae081dbbd4e8aa95485e000d040f8",
        "IPY_MODEL_bffd0d193dca40ec8071f9ece614086d"
       ],
       "layout": "IPY_MODEL_83a1e49e081f4d2bbebe1d25a1b3e19f"
      }
     },
     "f7854727935b4c9e8ab8920dba61872a": {
      "model_module": "@jupyter-widgets/controls",
      "model_module_version": "1.5.0",
      "model_name": "FloatProgressModel",
      "state": {
       "bar_style": "success",
       "description": "100%",
       "layout": "IPY_MODEL_188f82d8f7f047bda32daf919dd10ed3",
       "max": 344,
       "style": "IPY_MODEL_93de3a4807f344bd9df1b9948f95ef11",
       "value": 344
      }
     },
     "f796890870fd44af9d23b3954c6ef77a": {
      "model_module": "@jupyter-widgets/base",
      "model_module_version": "1.2.0",
      "model_name": "LayoutModel",
      "state": {}
     },
     "f7c8655e6900434fb94a1f0d15d55909": {
      "model_module": "@jupyter-widgets/controls",
      "model_module_version": "1.5.0",
      "model_name": "FloatProgressModel",
      "state": {
       "bar_style": "success",
       "description": "100%",
       "layout": "IPY_MODEL_992d314190054fab860b481c2d6093a4",
       "max": 344,
       "style": "IPY_MODEL_8a006f60fa24430ba74e04e772289239",
       "value": 344
      }
     },
     "f7ec31d36b9547f5895b40e7104e21d3": {
      "model_module": "@jupyter-widgets/controls",
      "model_module_version": "1.5.0",
      "model_name": "ProgressStyleModel",
      "state": {
       "description_width": "initial"
      }
     },
     "f83bb39a991d4b30992fad9e806ea623": {
      "model_module": "@jupyter-widgets/controls",
      "model_module_version": "1.5.0",
      "model_name": "ProgressStyleModel",
      "state": {
       "description_width": "initial"
      }
     },
     "f84963ef618040ce8b2c20f35d1065a2": {
      "model_module": "@jupyter-widgets/controls",
      "model_module_version": "1.5.0",
      "model_name": "FloatProgressModel",
      "state": {
       "bar_style": "success",
       "description": "100%",
       "layout": "IPY_MODEL_ace3465e96814585a9b1db7eb91d715d",
       "max": 344,
       "style": "IPY_MODEL_b1540d6212dd4c4ab80848b236109686",
       "value": 344
      }
     },
     "f851cf0027144ff4a8d15a6398628ea9": {
      "model_module": "@jupyter-widgets/controls",
      "model_module_version": "1.5.0",
      "model_name": "HBoxModel",
      "state": {
       "children": [
        "IPY_MODEL_f14c71d843f740049bb1a57c51f7bdaa",
        "IPY_MODEL_114adbb0ece34853affc14f59bb5d91a"
       ],
       "layout": "IPY_MODEL_1e435acee6c64e66a6720c1f71fc6bbe"
      }
     },
     "f87d79d1352b44ab8d0ee3e281024f87": {
      "model_module": "@jupyter-widgets/base",
      "model_module_version": "1.2.0",
      "model_name": "LayoutModel",
      "state": {}
     },
     "f8ac9af2091d433e9826a96afe2b4abc": {
      "model_module": "@jupyter-widgets/base",
      "model_module_version": "1.2.0",
      "model_name": "LayoutModel",
      "state": {}
     },
     "f8b953da92904a1bad0ee79719c6bc02": {
      "model_module": "@jupyter-widgets/controls",
      "model_module_version": "1.5.0",
      "model_name": "DescriptionStyleModel",
      "state": {
       "description_width": ""
      }
     },
     "f8ea40dc33674e2b9f48ed478d787dcd": {
      "model_module": "@jupyter-widgets/base",
      "model_module_version": "1.2.0",
      "model_name": "LayoutModel",
      "state": {}
     },
     "f8ff4f693b364159a77f23655b251c78": {
      "model_module": "@jupyter-widgets/base",
      "model_module_version": "1.2.0",
      "model_name": "LayoutModel",
      "state": {}
     },
     "f915b96f1f824b2ab74645890529e4ab": {
      "model_module": "@jupyter-widgets/controls",
      "model_module_version": "1.5.0",
      "model_name": "ProgressStyleModel",
      "state": {
       "description_width": "initial"
      }
     },
     "f929c4f0f9584920993695bb1bfc82ca": {
      "model_module": "@jupyter-widgets/base",
      "model_module_version": "1.2.0",
      "model_name": "LayoutModel",
      "state": {}
     },
     "f93e60f17e5e49c7ae20a3acfc80e072": {
      "model_module": "@jupyter-widgets/base",
      "model_module_version": "1.2.0",
      "model_name": "LayoutModel",
      "state": {}
     },
     "f95188b1801348569e3cb351c5bb21c5": {
      "model_module": "@jupyter-widgets/base",
      "model_module_version": "1.2.0",
      "model_name": "LayoutModel",
      "state": {}
     },
     "f957dbda1bbb4bba888a26124feea42a": {
      "model_module": "@jupyter-widgets/controls",
      "model_module_version": "1.5.0",
      "model_name": "ProgressStyleModel",
      "state": {
       "description_width": "initial"
      }
     },
     "f9a80fa52fbd4cf6825203c8ef6a6a07": {
      "model_module": "@jupyter-widgets/controls",
      "model_module_version": "1.5.0",
      "model_name": "FloatProgressModel",
      "state": {
       "bar_style": "success",
       "description": "100%",
       "layout": "IPY_MODEL_c8af3e00ec404dd095caf91e99c1eb2e",
       "max": 344,
       "style": "IPY_MODEL_2154291fe04048c095d9642a49945ec1",
       "value": 344
      }
     },
     "f9cfca1edaae40efba8a9b432774bb90": {
      "model_module": "@jupyter-widgets/base",
      "model_module_version": "1.2.0",
      "model_name": "LayoutModel",
      "state": {}
     },
     "f9d28cd491074945a7faf152aac1d62b": {
      "model_module": "@jupyter-widgets/controls",
      "model_module_version": "1.5.0",
      "model_name": "ProgressStyleModel",
      "state": {
       "description_width": "initial"
      }
     },
     "fa000d278fe540cfb286c934fd023d08": {
      "model_module": "@jupyter-widgets/base",
      "model_module_version": "1.2.0",
      "model_name": "LayoutModel",
      "state": {}
     },
     "fa06b34ca0cc4e4489dd7702f54ad5f3": {
      "model_module": "@jupyter-widgets/controls",
      "model_module_version": "1.5.0",
      "model_name": "HBoxModel",
      "state": {
       "children": [
        "IPY_MODEL_458c67d55de2400d85a929f742b343cb",
        "IPY_MODEL_feb6837267134dcba0cebcea66f7bc16"
       ],
       "layout": "IPY_MODEL_9ce571d7511740e0b831dd09c8c0eaff"
      }
     },
     "fa1590d5b4ff405dadd0955e15f225ab": {
      "model_module": "@jupyter-widgets/controls",
      "model_module_version": "1.5.0",
      "model_name": "HTMLModel",
      "state": {
       "layout": "IPY_MODEL_56bb117b4d304156b2162b37a8693a8a",
       "style": "IPY_MODEL_2d621486bfe940e5820736b7ed0f3451",
       "value": " 344/344 [00:23&lt;00:00, 14.89it/s, end_loss=0.804, jaccard=0.717, start_loss=0.878]"
      }
     },
     "fa2cb6c783d64983bd6681606bc7ac49": {
      "model_module": "@jupyter-widgets/controls",
      "model_module_version": "1.5.0",
      "model_name": "HTMLModel",
      "state": {
       "layout": "IPY_MODEL_613fbc9eee444c1cbe37e2c76c9f5aca",
       "style": "IPY_MODEL_79aa6cd554824e379ceefdd467013366",
       "value": " 344/344 [07:52&lt;00:00,  1.37s/it, end_loss=0.9, jaccard=0.732, start_loss=0.961]"
      }
     },
     "fa57aa9e1363420da8bc9e513de56541": {
      "model_module": "@jupyter-widgets/controls",
      "model_module_version": "1.5.0",
      "model_name": "FloatProgressModel",
      "state": {
       "bar_style": "success",
       "description": "100%",
       "layout": "IPY_MODEL_731f31fa1a894589b4b78d41fa53d5b8",
       "max": 344,
       "style": "IPY_MODEL_a753dc533d754b2cba6460c4a4e07320",
       "value": 344
      }
     },
     "fa59f84d556d4102bab42f4ebfc15897": {
      "model_module": "@jupyter-widgets/controls",
      "model_module_version": "1.5.0",
      "model_name": "HBoxModel",
      "state": {
       "children": [
        "IPY_MODEL_fd6903d143cb43a48e810d5bfe1db3d3",
        "IPY_MODEL_afbeee0313fb42cd8939054ecc2bb19b"
       ],
       "layout": "IPY_MODEL_09027fd37e204ba1985dd44ae3d2e7f9"
      }
     },
     "fa6f1869b1eb466aa53857c561112c53": {
      "model_module": "@jupyter-widgets/controls",
      "model_module_version": "1.5.0",
      "model_name": "HTMLModel",
      "state": {
       "layout": "IPY_MODEL_5b7574456c034c78bd4607708930ccc3",
       "style": "IPY_MODEL_a178f0f53c5b484c947e38b5ef3ecc7f",
       "value": " 344/344 [03:37&lt;00:00,  1.58it/s, end_loss=0.673, jaccard=0.736, merged_loss=0.998, start_loss=0.705]"
      }
     },
     "fadc40998b2e4f519162bf83f94135e2": {
      "model_module": "@jupyter-widgets/controls",
      "model_module_version": "1.5.0",
      "model_name": "HTMLModel",
      "state": {
       "layout": "IPY_MODEL_c219f7d05e3343c892db46f5e0b2c665",
       "style": "IPY_MODEL_bada56a9b2a14d86b21c4820e67b4bb7",
       "value": " 344/344 [03:50&lt;00:00,  1.49it/s, end_loss=0.997, jaccard=0.709, start_loss=1.03]"
      }
     },
     "fae0dfb433c44e3f91d9f83430825f3a": {
      "model_module": "@jupyter-widgets/controls",
      "model_module_version": "1.5.0",
      "model_name": "FloatProgressModel",
      "state": {
       "bar_style": "success",
       "description": "100%",
       "layout": "IPY_MODEL_c244b1c030a448ea91812ba8fa58f360",
       "max": 344,
       "style": "IPY_MODEL_285ac3fa3f4d40a79399b24755f5c231",
       "value": 344
      }
     },
     "fafc15b724e4448ea95927d53498b551": {
      "model_module": "@jupyter-widgets/base",
      "model_module_version": "1.2.0",
      "model_name": "LayoutModel",
      "state": {}
     },
     "fb33c8d494b3475985a7fd4d945a1281": {
      "model_module": "@jupyter-widgets/base",
      "model_module_version": "1.2.0",
      "model_name": "LayoutModel",
      "state": {}
     },
     "fb5418078514458ba63e749f0c25a061": {
      "model_module": "@jupyter-widgets/controls",
      "model_module_version": "1.5.0",
      "model_name": "HBoxModel",
      "state": {
       "children": [
        "IPY_MODEL_cfcf7c6e57884cefb0a404776e1590fa",
        "IPY_MODEL_6fc647a54db345deaeb219e4e557f853"
       ],
       "layout": "IPY_MODEL_7e5f4ebfd2d644a4aec25aa8f829522a"
      }
     },
     "fb89c8af875e462da4aa623d23caf3b0": {
      "model_module": "@jupyter-widgets/controls",
      "model_module_version": "1.5.0",
      "model_name": "FloatProgressModel",
      "state": {
       "bar_style": "success",
       "description": "100%",
       "layout": "IPY_MODEL_95a9527b3b0a40c28be0e7901c3a405e",
       "max": 344,
       "style": "IPY_MODEL_866f647ea70f4899b561d5d5beffc2e7",
       "value": 344
      }
     },
     "fba00f52960a41a393177a30a5f05734": {
      "model_module": "@jupyter-widgets/controls",
      "model_module_version": "1.5.0",
      "model_name": "ProgressStyleModel",
      "state": {
       "description_width": "initial"
      }
     },
     "fbb55c1e91644dc3ba8df1f6e61cf681": {
      "model_module": "@jupyter-widgets/base",
      "model_module_version": "1.2.0",
      "model_name": "LayoutModel",
      "state": {}
     },
     "fbb8967140544a6d8894060a11230c7b": {
      "model_module": "@jupyter-widgets/controls",
      "model_module_version": "1.5.0",
      "model_name": "HBoxModel",
      "state": {
       "children": [
        "IPY_MODEL_5decf3b75c934f00a8f11de90cac2ed8",
        "IPY_MODEL_539596abd2994561b1b5b1f90ad14550"
       ],
       "layout": "IPY_MODEL_cccbcd3e271242869a87662b55aa920d"
      }
     },
     "fbda86deb33a4e238ef9919fa17f165a": {
      "model_module": "@jupyter-widgets/controls",
      "model_module_version": "1.5.0",
      "model_name": "DescriptionStyleModel",
      "state": {
       "description_width": ""
      }
     },
     "fc01d1c63df5469fb10b28473c1eb580": {
      "model_module": "@jupyter-widgets/controls",
      "model_module_version": "1.5.0",
      "model_name": "DescriptionStyleModel",
      "state": {
       "description_width": ""
      }
     },
     "fc339f75aea14a2a92e897675bef6458": {
      "model_module": "@jupyter-widgets/controls",
      "model_module_version": "1.5.0",
      "model_name": "HTMLModel",
      "state": {
       "layout": "IPY_MODEL_e1388d28f3664baab9083036c0179eda",
       "style": "IPY_MODEL_9d3d62c3b4234004b9bf774ccae18b43",
       "value": " 344/344 [05:35&lt;00:00,  1.02it/s, end_loss=0.732, jaccard=0.717, merged_loss=1, start_loss=0.783]"
      }
     },
     "fc3e79f7926f40fca70b010c78fe7ddd": {
      "model_module": "@jupyter-widgets/controls",
      "model_module_version": "1.5.0",
      "model_name": "HBoxModel",
      "state": {
       "children": [
        "IPY_MODEL_4136a7839d5b42d7ac6ed25bfddbf07c",
        "IPY_MODEL_73a3b26df81f4f8db6d0de1f965768a7"
       ],
       "layout": "IPY_MODEL_c1809d2b20db4e4a91f4aa84cbe0fe31"
      }
     },
     "fc5441c26daa45abb5027c3c32d8e445": {
      "model_module": "@jupyter-widgets/controls",
      "model_module_version": "1.5.0",
      "model_name": "HTMLModel",
      "state": {
       "layout": "IPY_MODEL_f2fb6268b7b24f8198dabf3095a347e0",
       "style": "IPY_MODEL_345bef845f714d00a2967e641d36dfc9",
       "value": " 344/344 [03:36&lt;00:00,  1.59it/s, end_loss=0.638, jaccard=0.739, merged_loss=0.988, start_loss=0.705]"
      }
     },
     "fc79cac5b14c4d0ba8f96726b493e9a5": {
      "model_module": "@jupyter-widgets/base",
      "model_module_version": "1.2.0",
      "model_name": "LayoutModel",
      "state": {}
     },
     "fcb638e9740e42f3a203b62f938c0146": {
      "model_module": "@jupyter-widgets/controls",
      "model_module_version": "1.5.0",
      "model_name": "FloatProgressModel",
      "state": {
       "bar_style": "success",
       "description": "100%",
       "layout": "IPY_MODEL_91ed707d991b444b8062e3cfa3ac3549",
       "max": 344,
       "style": "IPY_MODEL_08b77c2ea04149d585823f92b9ca5120",
       "value": 344
      }
     },
     "fcd3dd4d4c87475b87aafea650e0d246": {
      "model_module": "@jupyter-widgets/controls",
      "model_module_version": "1.5.0",
      "model_name": "DescriptionStyleModel",
      "state": {
       "description_width": ""
      }
     },
     "fcfee6a256db4f509661cb865e513bb9": {
      "model_module": "@jupyter-widgets/controls",
      "model_module_version": "1.5.0",
      "model_name": "HTMLModel",
      "state": {
       "layout": "IPY_MODEL_3768939b1a744d1d8e19dcf951a637f4",
       "style": "IPY_MODEL_6b3835442d4f4434bcb0e70621b94ced",
       "value": " 344/344 [04:14&lt;00:00,  1.35it/s, end_loss=0.782, jaccard=0.717, start_loss=0.815]"
      }
     },
     "fd17831557e14e8cbbca505029f7df5b": {
      "model_module": "@jupyter-widgets/controls",
      "model_module_version": "1.5.0",
      "model_name": "DescriptionStyleModel",
      "state": {
       "description_width": ""
      }
     },
     "fd180c3845464230bd002802a026e201": {
      "model_module": "@jupyter-widgets/base",
      "model_module_version": "1.2.0",
      "model_name": "LayoutModel",
      "state": {}
     },
     "fd20eba0bbb248c28af33c1f346705b9": {
      "model_module": "@jupyter-widgets/base",
      "model_module_version": "1.2.0",
      "model_name": "LayoutModel",
      "state": {}
     },
     "fd2106ff4669407882223b8b8bd495e4": {
      "model_module": "@jupyter-widgets/controls",
      "model_module_version": "1.5.0",
      "model_name": "DescriptionStyleModel",
      "state": {
       "description_width": ""
      }
     },
     "fd362309467f4f36b8467fc26b545a12": {
      "model_module": "@jupyter-widgets/controls",
      "model_module_version": "1.5.0",
      "model_name": "HBoxModel",
      "state": {
       "children": [
        "IPY_MODEL_2d54aa446a844e31b2c75e2aea3c038b",
        "IPY_MODEL_fdcb22169695487b8b94b3b7dc869022"
       ],
       "layout": "IPY_MODEL_a489b59148454b4ead6b0854e8891888"
      }
     },
     "fd6903d143cb43a48e810d5bfe1db3d3": {
      "model_module": "@jupyter-widgets/controls",
      "model_module_version": "1.5.0",
      "model_name": "FloatProgressModel",
      "state": {
       "bar_style": "success",
       "description": "100%",
       "layout": "IPY_MODEL_e5e5dbc158144ccd938713061367033a",
       "max": 344,
       "style": "IPY_MODEL_011939d412864cd59c2302b82df39d87",
       "value": 344
      }
     },
     "fd8737163e944c87b7928c6339b31d2b": {
      "model_module": "@jupyter-widgets/controls",
      "model_module_version": "1.5.0",
      "model_name": "HTMLModel",
      "state": {
       "layout": "IPY_MODEL_7942871bb862476798db41ee31321b74",
       "style": "IPY_MODEL_9d14ebe0f82546689a1203f3f7fb0c1a",
       "value": " 344/344 [03:59&lt;00:00,  1.44it/s, end_loss=0.945, jaccard=0.722, start_loss=0.999]"
      }
     },
     "fd87b9817121409b95466627573ac595": {
      "model_module": "@jupyter-widgets/base",
      "model_module_version": "1.2.0",
      "model_name": "LayoutModel",
      "state": {}
     },
     "fdc57ab05d454ee49fa8eaafb81533f3": {
      "model_module": "@jupyter-widgets/controls",
      "model_module_version": "1.5.0",
      "model_name": "HBoxModel",
      "state": {
       "children": [
        "IPY_MODEL_42c3c262a4c34cb7aac0b14f2e4a1887",
        "IPY_MODEL_acdbd19f8c4a4bf18046e1201d07f841"
       ],
       "layout": "IPY_MODEL_0323fe18075d4152b2a54a556ecbc7a5"
      }
     },
     "fdcb22169695487b8b94b3b7dc869022": {
      "model_module": "@jupyter-widgets/controls",
      "model_module_version": "1.5.0",
      "model_name": "HTMLModel",
      "state": {
       "layout": "IPY_MODEL_cb2a5e7b60244c02bf807092e47c3ee8",
       "style": "IPY_MODEL_a6de838d7d38450ea5772fb478c8efbf",
       "value": " 344/344 [1:36:16&lt;00:00, 16.79s/it, end_loss=1.07, jaccard=0.698, start_loss=1.08]"
      }
     },
     "fdf66015b1f347299e5d87c3145dedf5": {
      "model_module": "@jupyter-widgets/controls",
      "model_module_version": "1.5.0",
      "model_name": "DescriptionStyleModel",
      "state": {
       "description_width": ""
      }
     },
     "fe13aa5d1b5f448db9a58dc7a5107bb8": {
      "model_module": "@jupyter-widgets/base",
      "model_module_version": "1.2.0",
      "model_name": "LayoutModel",
      "state": {}
     },
     "fe15cd2077034a12b8a79164e700fb51": {
      "model_module": "@jupyter-widgets/base",
      "model_module_version": "1.2.0",
      "model_name": "LayoutModel",
      "state": {}
     },
     "fe20eb8a3617433bb2c1e353cc39edcd": {
      "model_module": "@jupyter-widgets/controls",
      "model_module_version": "1.5.0",
      "model_name": "HBoxModel",
      "state": {
       "children": [
        "IPY_MODEL_c8a1ebbf0ab64a89b89303f257f555ba",
        "IPY_MODEL_4b9c16104b424b7782936adb74fdce45"
       ],
       "layout": "IPY_MODEL_d0374e5b7a54482bab99f48cf793a8f3"
      }
     },
     "fe27695c3c794016b828fb5c37a1cbe1": {
      "model_module": "@jupyter-widgets/controls",
      "model_module_version": "1.5.0",
      "model_name": "DescriptionStyleModel",
      "state": {
       "description_width": ""
      }
     },
     "fe61f1e7552f406186809b80f88f6c31": {
      "model_module": "@jupyter-widgets/controls",
      "model_module_version": "1.5.0",
      "model_name": "FloatProgressModel",
      "state": {
       "bar_style": "danger",
       "description": "  0%",
       "layout": "IPY_MODEL_7cc323c3945044a4afe6d1627f28ec35",
       "max": 344,
       "style": "IPY_MODEL_6455d3e36f154620b654b3fbf99af308"
      }
     },
     "fe728f0571934e7181feb30cc4970629": {
      "model_module": "@jupyter-widgets/controls",
      "model_module_version": "1.5.0",
      "model_name": "ProgressStyleModel",
      "state": {
       "description_width": "initial"
      }
     },
     "fe9359aada9a42e8b07434e519c18f04": {
      "model_module": "@jupyter-widgets/controls",
      "model_module_version": "1.5.0",
      "model_name": "DescriptionStyleModel",
      "state": {
       "description_width": ""
      }
     },
     "fea98da1136d40568afdd397525c6e1c": {
      "model_module": "@jupyter-widgets/base",
      "model_module_version": "1.2.0",
      "model_name": "LayoutModel",
      "state": {}
     },
     "feb6837267134dcba0cebcea66f7bc16": {
      "model_module": "@jupyter-widgets/controls",
      "model_module_version": "1.5.0",
      "model_name": "HTMLModel",
      "state": {
       "layout": "IPY_MODEL_6a3b3db9bfdf47629cd7bc0a98c01cee",
       "style": "IPY_MODEL_a5bac3bd79224c02bf64ddf769cbd9e7",
       "value": " 344/344 [00:19&lt;00:00, 17.27it/s, end_loss=0.79, jaccard=0.711, start_loss=0.814]"
      }
     },
     "fec43dc552904b469990a2329ff69664": {
      "model_module": "@jupyter-widgets/controls",
      "model_module_version": "1.5.0",
      "model_name": "DescriptionStyleModel",
      "state": {
       "description_width": ""
      }
     },
     "fecb8f57fc0440dfba1a4aa239457bdd": {
      "model_module": "@jupyter-widgets/base",
      "model_module_version": "1.2.0",
      "model_name": "LayoutModel",
      "state": {}
     },
     "fecd49e9dc55471d9fe04fa211eab167": {
      "model_module": "@jupyter-widgets/controls",
      "model_module_version": "1.5.0",
      "model_name": "FloatProgressModel",
      "state": {
       "bar_style": "success",
       "description": "100%",
       "layout": "IPY_MODEL_91e9690522b444e89d4f81652655d87a",
       "max": 344,
       "style": "IPY_MODEL_0702f3699a484add81d8d45efa577b92",
       "value": 344
      }
     },
     "fed1b26bd6ca4913a6d17281be4ab808": {
      "model_module": "@jupyter-widgets/base",
      "model_module_version": "1.2.0",
      "model_name": "LayoutModel",
      "state": {}
     },
     "fee7e8c4513045f2a5b3f52a6d45e4f4": {
      "model_module": "@jupyter-widgets/base",
      "model_module_version": "1.2.0",
      "model_name": "LayoutModel",
      "state": {}
     },
     "ff0a1acd1a4f427d8b7464ed5c130599": {
      "model_module": "@jupyter-widgets/controls",
      "model_module_version": "1.5.0",
      "model_name": "DescriptionStyleModel",
      "state": {
       "description_width": ""
      }
     },
     "ff1b947815f748d58517de9f0aa231f9": {
      "model_module": "@jupyter-widgets/base",
      "model_module_version": "1.2.0",
      "model_name": "LayoutModel",
      "state": {}
     },
     "ff3b2ba60d7d423ab100658651c03338": {
      "model_module": "@jupyter-widgets/base",
      "model_module_version": "1.2.0",
      "model_name": "LayoutModel",
      "state": {}
     },
     "ff45a5cb75b14fbc8e26e5b11df1937d": {
      "model_module": "@jupyter-widgets/controls",
      "model_module_version": "1.5.0",
      "model_name": "FloatProgressModel",
      "state": {
       "bar_style": "success",
       "description": "100%",
       "layout": "IPY_MODEL_53abf31416224efa9067b2b6f2f32339",
       "max": 344,
       "style": "IPY_MODEL_3bda4a132cd24ce1bdf1a8a4c03c945f",
       "value": 344
      }
     },
     "ff8cb148d8a94efd90cb379a2c0cc3bd": {
      "model_module": "@jupyter-widgets/controls",
      "model_module_version": "1.5.0",
      "model_name": "DescriptionStyleModel",
      "state": {
       "description_width": ""
      }
     },
     "ffab4d991d0e4521907e8c0541f6efcf": {
      "model_module": "@jupyter-widgets/controls",
      "model_module_version": "1.5.0",
      "model_name": "HBoxModel",
      "state": {
       "children": [
        "IPY_MODEL_6150f4ec9c434c62b2734b3ced6abff7",
        "IPY_MODEL_98ac3dbcea1043f89e5a970bd6462bb9"
       ],
       "layout": "IPY_MODEL_80d0f255545e485d9b11b396576ed425"
      }
     },
     "ffcb797ebc4e4f28ad5b966f8c1719bc": {
      "model_module": "@jupyter-widgets/controls",
      "model_module_version": "1.5.0",
      "model_name": "HBoxModel",
      "state": {
       "children": [
        "IPY_MODEL_111a172296db4a3c97108efc30cb2bfa",
        "IPY_MODEL_335e478762214650b669ba0432e963b4"
       ],
       "layout": "IPY_MODEL_ca5c2a23bfe34c98b5cde20996f5732e"
      }
     },
     "ffcec12f8e6640a990360020a077416f": {
      "model_module": "@jupyter-widgets/controls",
      "model_module_version": "1.5.0",
      "model_name": "HTMLModel",
      "state": {
       "layout": "IPY_MODEL_2f37f59e711b4298b6619066afe10d2c",
       "style": "IPY_MODEL_cdff49c7a8cc49f58697521aa55e7375",
       "value": " 344/344 [03:35&lt;00:00,  1.59it/s, end_loss=1.14, jaccard=0.647, start_loss=1.15]"
      }
     },
     "ffd4ac53c78d4f51a872741bd7a54748": {
      "model_module": "@jupyter-widgets/base",
      "model_module_version": "1.2.0",
      "model_name": "LayoutModel",
      "state": {}
     },
     "ffd85cd63d5b407a9ca9c3150703d2c9": {
      "model_module": "@jupyter-widgets/controls",
      "model_module_version": "1.5.0",
      "model_name": "FloatProgressModel",
      "state": {
       "bar_style": "success",
       "description": "100%",
       "layout": "IPY_MODEL_c418f73d822b4fad85afab643311449d",
       "max": 344,
       "style": "IPY_MODEL_cbfc8392f44a4d1db4bff4f8169d8cc8",
       "value": 344
      }
     },
     "ffdf8b562c134c489209f41ad6a772fd": {
      "model_module": "@jupyter-widgets/controls",
      "model_module_version": "1.5.0",
      "model_name": "ProgressStyleModel",
      "state": {
       "description_width": "initial"
      }
     },
     "ffeadcd316614e3f98c44926dd1be4f7": {
      "model_module": "@jupyter-widgets/controls",
      "model_module_version": "1.5.0",
      "model_name": "FloatProgressModel",
      "state": {
       "bar_style": "success",
       "description": "100%",
       "layout": "IPY_MODEL_2d1ef7a3a78b4af793d9661232107623",
       "max": 344,
       "style": "IPY_MODEL_80261f32583a463e9dc418a3bc1ee0a9",
       "value": 344
      }
     }
    },
    "version_major": 2,
    "version_minor": 0
   }
  }
 },
 "nbformat": 4,
 "nbformat_minor": 4
}
